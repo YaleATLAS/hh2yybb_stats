{
 "cells": [
  {
   "cell_type": "markdown",
   "metadata": {},
   "source": [
    "# Start"
   ]
  },
  {
   "cell_type": "code",
   "execution_count": 1,
   "metadata": {
    "collapsed": false
   },
   "outputs": [
    {
     "data": {
      "application/javascript": [
       "\n",
       "require(['notebook'],\n",
       "  function() {\n",
       "    IPython.CodeCell.config_defaults.highlight_modes['magic_text/x-c++src'] = {'reg':[/^%%cpp/]};\n",
       "    console.log(\"JupyROOT - %%cpp magic configured\");\n",
       "  }\n",
       ");\n"
      ]
     },
     "metadata": {},
     "output_type": "display_data"
    },
    {
     "name": "stdout",
     "output_type": "stream",
     "text": [
      "Welcome to JupyROOT 6.08/02\n"
     ]
    }
   ],
   "source": [
    "import ROOT\n",
    "import ROOT.RooFit as rf\n",
    "import rootnotes\n",
    "import numpy as np\n",
    "import matplotlib.pyplot as plt\n",
    "from root_numpy import array2tree, hist2array\n",
    "%matplotlib inline"
   ]
  },
  {
   "cell_type": "code",
   "execution_count": 2,
   "metadata": {
    "collapsed": true
   },
   "outputs": [],
   "source": [
    "from ROOT import gInterpreter, gSystem"
   ]
  },
  {
   "cell_type": "code",
   "execution_count": 3,
   "metadata": {
    "collapsed": false
   },
   "outputs": [
    {
     "data": {
      "text/plain": [
       "0L"
      ]
     },
     "execution_count": 3,
     "metadata": {},
     "output_type": "execute_result"
    }
   ],
   "source": [
    "gInterpreter.ProcessLine('#include \"../56_Hbbyy/inc/HggTwoSidedCBPdf.h\"')"
   ]
  },
  {
   "cell_type": "code",
   "execution_count": 4,
   "metadata": {
    "collapsed": false
   },
   "outputs": [
    {
     "data": {
      "text/plain": [
       "0"
      ]
     },
     "execution_count": 4,
     "metadata": {},
     "output_type": "execute_result"
    }
   ],
   "source": [
    "gSystem.Load('../56_Hbbyy/libDH.so')\n",
    "# gSystem.Load('libDH.so')"
   ]
  },
  {
   "cell_type": "code",
   "execution_count": 5,
   "metadata": {
    "collapsed": true
   },
   "outputs": [],
   "source": [
    "c1=rootnotes.default_canvas()"
   ]
  },
  {
   "cell_type": "code",
   "execution_count": 6,
   "metadata": {
    "collapsed": true
   },
   "outputs": [],
   "source": [
    "branches = [\n",
    "    'HGamEventInfoAuxDyn.yybb_bTagCat',\n",
    "    'HGamEventInfoAuxDyn.m_yy',\n",
    "    'HGamEventInfoAuxDyn.isPassed'\n",
    "]"
   ]
  },
  {
   "cell_type": "code",
   "execution_count": 7,
   "metadata": {
    "collapsed": true
   },
   "outputs": [],
   "source": [
    "import pandautils as pup"
   ]
  },
  {
   "cell_type": "code",
   "execution_count": 6,
   "metadata": {
    "collapsed": false
   },
   "outputs": [
    {
     "name": "stderr",
     "output_type": "stream",
     "text": [
      "WARNING:ROOT.TClass.Init] no dictionary for class xAOD::EventFormat_v1 is available\n",
      "WARNING:ROOT.TClass.Init] no dictionary for class ElementLinkBase is available\n",
      "WARNING:ROOT.TClass.Init] no dictionary for class SG::AuxElement is available\n",
      "WARNING:ROOT.TClass.Init] no dictionary for class SG::IAuxElement is available\n",
      "WARNING:ROOT.TClass.Init] no dictionary for class xAOD::AuxContainerBase is available\n",
      "WARNING:ROOT.TClass.Init] no dictionary for class xAOD::EventInfo_v1 is available\n",
      "WARNING:ROOT.TClass.Init] no dictionary for class xAOD::EventAuxInfo_v1 is available\n",
      "WARNING:ROOT.TClass.Init] no dictionary for class xAOD::AuxInfoBase is available\n",
      "WARNING:ROOT.TClass.Init] no dictionary for class xAOD::TruthEvent_v1 is available\n",
      "WARNING:ROOT.TClass.Init] no dictionary for class xAOD::TruthEventBase_v1 is available\n",
      "WARNING:ROOT.TClass.Init] no dictionary for class xAOD::Photon_v1 is available\n",
      "WARNING:ROOT.TClass.Init] no dictionary for class xAOD::TruthParticle_v1 is available\n",
      "WARNING:ROOT.TClass.Init] no dictionary for class xAOD::Jet_v1 is available\n",
      "WARNING:ROOT.TClass.Init] no dictionary for class ElementLink<DataVector<xAOD::IParticle> > is available\n",
      "WARNING:ROOT.TClass.Init] no dictionary for class xAOD::Electron_v1 is available\n",
      "WARNING:ROOT.TClass.Init] no dictionary for class xAOD::Muon_v1 is available\n",
      "WARNING:ROOT.TClass.Init] no dictionary for class xAOD::MissingET_v1 is available\n",
      "WARNING:ROOT.TClass.Init] no dictionary for class DataVector<xAOD::MissingET_v1> is available\n",
      "WARNING:ROOT.TClass.Init] no dictionary for class SG::AuxVectorBase is available\n",
      "WARNING:ROOT.TClass.Init] no dictionary for class SG::AuxVectorData is available\n",
      "WARNING:ROOT.TClass.Init] no dictionary for class SG::IAuxStore is available\n",
      "WARNING:ROOT.TClass.Init] no dictionary for class SG::IConstAuxStore is available\n",
      "WARNING:ROOT.TClass.Init] no dictionary for class SG::IAuxStoreIO is available\n",
      "WARNING:ROOT.TClass.Init] no dictionary for class SG::IAuxStoreHolder is available\n",
      "WARNING:ROOT.TClass.Init] no dictionary for class xAOD::Egamma_v1 is available\n",
      "WARNING:ROOT.TClass.Init] no dictionary for class xAOD::IParticle is available\n"
     ]
    }
   ],
   "source": [
    "# sm di-higgs (signal)\n",
    "df = pup.root2panda('mc15c.MGPy8_sm_hh_yybb.MxAODDetailed.p2669.h015.root', 'CollectionTree', branches=branches)"
   ]
  },
  {
   "cell_type": "code",
   "execution_count": 7,
   "metadata": {
    "collapsed": true
   },
   "outputs": [],
   "source": [
    "# sm single higgs"
   ]
  },
  {
   "cell_type": "code",
   "execution_count": 8,
   "metadata": {
    "collapsed": true
   },
   "outputs": [],
   "source": [
    "# sherpa bkg + templated bkg"
   ]
  },
  {
   "cell_type": "code",
   "execution_count": 9,
   "metadata": {
    "collapsed": false
   },
   "outputs": [],
   "source": [
    "tree0 = array2tree(\n",
    "    np.array(df[\"HGamEventInfoAuxDyn.m_yy\"][\n",
    "            np.logical_and(df[\"HGamEventInfoAuxDyn.isPassed\"] == 1, df[\"HGamEventInfoAuxDyn.yybb_bTagCat\"] == 0)\n",
    "        ], dtype=[('m_yy', np.float64)])\n",
    ")\n",
    "tree1 = array2tree(\n",
    "    np.array(df[\"HGamEventInfoAuxDyn.m_yy\"][\n",
    "            np.logical_and(df[\"HGamEventInfoAuxDyn.isPassed\"] == 1, df[\"HGamEventInfoAuxDyn.yybb_bTagCat\"] == 1)\n",
    "        ], dtype=[('m_yy', np.float64)])\n",
    ")\n",
    "tree2 = array2tree(\n",
    "    np.array(df[\"HGamEventInfoAuxDyn.m_yy\"][\n",
    "            np.logical_and(df[\"HGamEventInfoAuxDyn.isPassed\"] == 1, df[\"HGamEventInfoAuxDyn.yybb_bTagCat\"] == 2)\n",
    "        ], dtype=[('m_yy', np.float64)])\n",
    ")"
   ]
  },
  {
   "cell_type": "code",
   "execution_count": 10,
   "metadata": {
    "collapsed": false
   },
   "outputs": [
    {
     "name": "stdout",
     "output_type": "stream",
     "text": [
      "[#1] INFO:Eval -- RooTreeDataStore::loadValues(dataset0) Ignored 1 out of range events\n",
      "[#1] INFO:Eval -- RooTreeDataStore::loadValues(dataset1) Ignored 1 out of range events\n"
     ]
    }
   ],
   "source": [
    "# -- create a symbolic variable m_yy with a name and range\n",
    "m_yy = ROOT.RooRealVar(\"m_yy\", \"m_yy\", 105000, 150000)\n",
    "\n",
    "# -- convert from TTree to RooDataSet\n",
    "dataset0 = ROOT.RooDataSet(\"dataset0\", \"0tag dataset from tree\", tree0, ROOT.RooArgSet(m_yy))\n",
    "dataset1 = ROOT.RooDataSet(\"dataset1\", \"1tag dataset from tree\", tree1, ROOT.RooArgSet(m_yy))\n",
    "dataset2 = ROOT.RooDataSet(\"dataset2\", \"2tag dataset from tree\", tree2, ROOT.RooArgSet(m_yy))"
   ]
  },
  {
   "cell_type": "code",
   "execution_count": 11,
   "metadata": {
    "collapsed": true
   },
   "outputs": [],
   "source": [
    "# m0_cb = ROOT.RooRealVar('m0_cb','m0_cb', 105000, 150000)\n",
    "# sigma_cb = ROOT.RooRealVar('sigma_cb','sigma_cb', 0, 2000)\n",
    "# alpha_cb = ROOT.RooRealVar('alpha_cb','alpha_cb', 0, 150000)\n",
    "# n_cb = ROOT.RooRealVar('n_cb','n_cb', 0, 100)\n",
    "\n",
    "# # -- crystal ball\n",
    "# s = ROOT.RooCBShape(\n",
    "#     'cb', 'Crystal Ball',\n",
    "#     m_yy,\n",
    "#     m0_cb,\n",
    "#     sigma_cb,\n",
    "#     alpha_cb,\n",
    "#     n_cb\n",
    "# )"
   ]
  },
  {
   "cell_type": "code",
   "execution_count": 24,
   "metadata": {
    "collapsed": true
   },
   "outputs": [],
   "source": [
    "from ROOT import HggTwoSidedCBPdf"
   ]
  },
  {
   "cell_type": "code",
   "execution_count": 16,
   "metadata": {
    "collapsed": false
   },
   "outputs": [],
   "source": [
    "m0_cb = ROOT.RooRealVar('m0_cb','m0_cb', 105000, 150000)\n",
    "sigma_cb = ROOT.RooRealVar('sigma_cb','sigma_cb', 0, 2000)\n",
    "alphaLo_cb = ROOT.RooRealVar('alphaLo_cb','alphaLo_cb', 0, 150000)\n",
    "nLo_cb = ROOT.RooRealVar('nLo_cb','nLo_cb', 0, 100)\n",
    "alphaHi_cb = ROOT.RooRealVar('alphaHi_cb','alphaHi_cb', 0, 150000)\n",
    "nHi_cb = ROOT.RooRealVar('nHi_cb','nHi_cb', 0, 100)\n",
    "\n",
    "# -- double sided crystal ball\n",
    "s = HggTwoSidedCBPdf(\n",
    "    'dscb', 'Double Sided Crystal Ball',\n",
    "    m_yy,\n",
    "    m0_cb,\n",
    "    sigma_cb,\n",
    "    alphaLo_cb,\n",
    "    nLo_cb,\n",
    "    alphaHi_cb,\n",
    "    nHi_cb\n",
    ")"
   ]
  },
  {
   "cell_type": "code",
   "execution_count": 17,
   "metadata": {
    "collapsed": false
   },
   "outputs": [
    {
     "name": "stdout",
     "output_type": "stream",
     "text": [
      "[#1] INFO:Minization -- RooMinimizer::optimizeConst: activating const optimization\n",
      " **********\n",
      " **    1 **SET PRINT           1\n",
      " **********\n",
      " **********\n",
      " **    2 **SET NOGRAD\n",
      " **********\n",
      " PARAMETER DEFINITIONS:\n",
      "    NO.   NAME         VALUE      STEP SIZE      LIMITS\n",
      "     1 alphaHi_cb   7.50000e+04  1.50000e+04    0.00000e+00  1.50000e+05\n",
      "     2 alphaLo_cb   7.50000e+04  1.50000e+04    0.00000e+00  1.50000e+05\n",
      "     3 m0_cb        1.27500e+05  4.50000e+03    1.05000e+05  1.50000e+05\n",
      "     4 nHi_cb       5.00000e+01  1.00000e+01    0.00000e+00  1.00000e+02\n",
      "     5 nLo_cb       5.00000e+01  1.00000e+01    0.00000e+00  1.00000e+02\n",
      "     6 sigma_cb     1.00000e+03  2.00000e+02    0.00000e+00  2.00000e+03\n",
      " **********\n",
      " **    3 **SET ERR         0.5\n",
      " **********\n",
      " **********\n",
      " **    4 **SET PRINT           1\n",
      " **********\n",
      " **********\n",
      " **    5 **SET STR           1\n",
      " **********\n",
      " NOW USING STRATEGY  1: TRY TO BALANCE SPEED AGAINST RELIABILITY\n",
      " **********\n",
      " **    6 **MIGRAD        3000           1\n",
      " **********\n",
      " FIRST CALL TO USER FUNCTION AT NEW START POINT, WITH IFLAG=4.\n",
      " START MIGRAD MINIMIZATION.  STRATEGY  1.  CONVERGENCE WHEN EDM .LT. 1.00e-03\n",
      " FCN=108620 FROM MIGRAD    STATUS=INITIATE      277 CALLS         278 TOTAL\n",
      "                     EDM= unknown      STRATEGY= 1      NO ERROR MATRIX       \n",
      "  EXT PARAMETER               CURRENT GUESS       STEP         FIRST   \n",
      "  NO.   NAME      VALUE            ERROR          SIZE      DERIVATIVE \n",
      "   1  alphaHi_cb   7.50000e+04   1.50000e+04   0.00000e+00   0.00000e+00\n",
      "   2  alphaLo_cb   7.50000e+04   1.50000e+04   0.00000e+00   0.00000e+00\n",
      "   3  m0_cb        1.27500e+05   4.50000e+03   0.00000e+00   4.90084e+05\n",
      "   4  nHi_cb       5.00000e+01   1.00000e+01   0.00000e+00   0.00000e+00\n",
      "   5  nLo_cb       5.00000e+01   1.00000e+01   0.00000e+00   0.00000e+00\n",
      "   6  sigma_cb     1.00000e+03   2.00000e+02   0.00000e+00  -7.55034e+04\n",
      "                               ERR DEF= 0.5\n",
      " MIGRAD MINIMIZATION HAS CONVERGED.\n",
      " MIGRAD WILL VERIFY CONVERGENCE AND ERROR MATRIX.\n",
      " MINUIT WARNING IN HESSE\n",
      " ============== Second derivative enters zero, param 1\n",
      " MINUIT WARNING IN HESSE\n",
      " ============== Second derivative zero for parameter1\n",
      "  MNHESS FAILS AND WILL RETURN DIAGONAL MATRIX. \n",
      " FCN=75977.1 FROM MIGRAD    STATUS=CONVERGED     359 CALLS         360 TOTAL\n",
      "                     EDM=4.05796e-05    STRATEGY= 1  ERROR MATRIX UNCERTAINTY 100.0 per cent\n",
      "  EXT PARAMETER                APPROXIMATE        STEP         FIRST   \n",
      "  NO.   NAME      VALUE            ERROR          SIZE      DERIVATIVE \n",
      "   1  alphaHi_cb   7.50000e+04   2.09315e+04  -0.00000e+00   0.00000e+00\n",
      "   2  alphaLo_cb   7.50000e+04   6.31103e+04  -0.00000e+00   0.00000e+00\n",
      "   3  m0_cb        1.24941e+05   1.97556e+01  -5.90734e-04   1.09844e+01\n",
      "   4  nHi_cb       5.00000e+01   4.20735e+01  -0.00000e+00   0.00000e+00\n",
      "   5  nLo_cb       5.00000e+01   4.20735e+01  -0.00000e+00   0.00000e+00\n",
      "   6  sigma_cb     1.82255e+03   1.39681e+01   1.02077e-02   8.87665e-03\n",
      "                               ERR DEF= 0.5\n",
      " EXTERNAL ERROR MATRIX.    NDIM=  25    NPAR=  6    ERR DEF=0.5\n",
      "  4.500e+08  0.000e+00  0.000e+00  0.000e+00  0.000e+00  0.000e+00 \n",
      "  0.000e+00  5.625e+09  0.000e+00  0.000e+00  0.000e+00  0.000e+00 \n",
      "  0.000e+00  0.000e+00  3.903e+02  0.000e+00  0.000e+00  0.000e+00 \n",
      "  0.000e+00  0.000e+00  0.000e+00  2.500e+03  0.000e+00  0.000e+00 \n",
      "  0.000e+00  0.000e+00  0.000e+00  0.000e+00  2.500e+03  0.000e+00 \n",
      "  0.000e+00  0.000e+00  0.000e+00  0.000e+00  0.000e+00  1.951e+02 \n",
      "ERR MATRIX APPROXIMATE\n",
      " PARAMETER  CORRELATION COEFFICIENTS  \n",
      "       NO.  GLOBAL      1      2      3      4      5      6\n",
      "        1  0.00000   1.000  0.000  0.000  0.000  0.000  0.000\n",
      "        2  0.00000   0.000  1.000  0.000  0.000  0.000  0.000\n",
      "        3  0.00000   0.000  0.000  1.000  0.000  0.000  0.000\n",
      "        4  0.00000   0.000  0.000  0.000  1.000  0.000  0.000\n",
      "        5  0.00000   0.000  0.000  0.000  0.000  1.000  0.000\n",
      "        6  0.00000   0.000  0.000  0.000  0.000  0.000  1.000\n",
      " ERR MATRIX APPROXIMATE\n",
      " **********\n",
      " **    7 **HESSE        3000\n",
      " **********\n",
      " MINUIT WARNING IN HESSE\n",
      " ============== Second derivative zero for parameter1\n",
      "  MNHESS FAILS AND WILL RETURN DIAGONAL MATRIX. \n",
      " FCN=75977.1 FROM HESSE     STATUS=FAILED          3 CALLS         363 TOTAL\n",
      "                     EDM=4.05796e-05    STRATEGY= 1  ERROR MATRIX UNCERTAINTY 100.0 per cent\n",
      "  EXT PARAMETER                APPROXIMATE     INTERNAL      INTERNAL  \n",
      "  NO.   NAME      VALUE            ERROR       STEP SIZE       VALUE   \n",
      "   1  alphaHi_cb   3.90431e+04   3.59569e+04  -0.00000e+00   0.00000e+00\n",
      "   2  alphaLo_cb   7.50000e+04   6.31103e+04  -0.00000e+00   0.00000e+00\n",
      "   3  m0_cb        1.24941e+05   1.97556e+01  -5.90734e-04  -1.13981e-01\n",
      "   4  nHi_cb       5.00000e+01   4.20735e+01  -0.00000e+00   0.00000e+00\n",
      "   5  nLo_cb       5.00000e+01   4.20735e+01  -0.00000e+00   0.00000e+00\n",
      "   6  sigma_cb     1.82255e+03   1.39681e+01   1.02077e-02   9.65888e-01\n",
      "                               ERR DEF= 0.5\n",
      " EXTERNAL ERROR MATRIX.    NDIM=  25    NPAR=  6    ERR DEF=0.5\n",
      "  4.500e+08  0.000e+00  0.000e+00  0.000e+00  0.000e+00  0.000e+00 \n",
      "  0.000e+00  5.625e+09  0.000e+00  0.000e+00  0.000e+00  0.000e+00 \n",
      "  0.000e+00  0.000e+00  3.903e+02  0.000e+00  0.000e+00  0.000e+00 \n",
      "  0.000e+00  0.000e+00  0.000e+00  2.500e+03  0.000e+00  0.000e+00 \n",
      "  0.000e+00  0.000e+00  0.000e+00  0.000e+00  2.500e+03  0.000e+00 \n",
      "  0.000e+00  0.000e+00  0.000e+00  0.000e+00  0.000e+00  1.951e+02 \n",
      "ERR MATRIX APPROXIMATE\n",
      " PARAMETER  CORRELATION COEFFICIENTS  \n",
      "       NO.  GLOBAL      1      2      3      4      5      6\n",
      "        1  0.00000   1.000  0.000  0.000  0.000  0.000  0.000\n",
      "        2  0.00000   0.000  1.000  0.000  0.000  0.000  0.000\n",
      "        3  0.00000   0.000  0.000  1.000  0.000  0.000  0.000\n",
      "        4  0.00000   0.000  0.000  0.000  1.000  0.000  0.000\n",
      "        5  0.00000   0.000  0.000  0.000  0.000  1.000  0.000\n",
      "        6  0.00000   0.000  0.000  0.000  0.000  0.000  1.000\n",
      " ERR MATRIX APPROXIMATE\n",
      " **********\n",
      " **    8 **SET ERR         0.5\n",
      " **********\n",
      " **********\n",
      " **    9 **SET PRINT           1\n",
      " **********\n",
      " **********\n",
      " **   10 **HESSE        3000\n",
      " **********\n",
      " MINUIT WARNING IN HESSE\n",
      " ============== Second derivative zero for parameter1\n",
      "  MNHESS FAILS AND WILL RETURN DIAGONAL MATRIX. \n",
      " FCN=75977.1 FROM HESSE     STATUS=FAILED          3 CALLS         366 TOTAL\n",
      "                     EDM=4.05796e-05    STRATEGY= 1  ERROR MATRIX UNCERTAINTY 100.0 per cent\n",
      "  EXT PARAMETER                APPROXIMATE     INTERNAL      INTERNAL  \n",
      "  NO.   NAME      VALUE            ERROR       STEP SIZE       VALUE   \n",
      "   1  alphaHi_cb   3.90431e+04   3.59569e+04  -0.00000e+00   0.00000e+00\n",
      "   2  alphaLo_cb   7.50000e+04   6.31103e+04  -0.00000e+00   0.00000e+00\n",
      "   3  m0_cb        1.24941e+05   1.97556e+01  -5.90734e-04  -1.13981e-01\n",
      "   4  nHi_cb       5.00000e+01   4.20735e+01  -0.00000e+00   0.00000e+00\n",
      "   5  nLo_cb       5.00000e+01   4.20735e+01  -0.00000e+00   0.00000e+00\n",
      "   6  sigma_cb     1.82255e+03   1.39681e+01   1.02077e-02   9.65888e-01\n",
      "                               ERR DEF= 0.5\n",
      " EXTERNAL ERROR MATRIX.    NDIM=  25    NPAR=  6    ERR DEF=0.5\n",
      "  4.500e+08  0.000e+00  0.000e+00  0.000e+00  0.000e+00  0.000e+00 \n",
      "  0.000e+00  5.625e+09  0.000e+00  0.000e+00  0.000e+00  0.000e+00 \n",
      "  0.000e+00  0.000e+00  3.903e+02  0.000e+00  0.000e+00  0.000e+00 \n",
      "  0.000e+00  0.000e+00  0.000e+00  2.500e+03  0.000e+00  0.000e+00 \n",
      "  0.000e+00  0.000e+00  0.000e+00  0.000e+00  2.500e+03  0.000e+00 \n",
      "  0.000e+00  0.000e+00  0.000e+00  0.000e+00  0.000e+00  1.951e+02 \n",
      "ERR MATRIX APPROXIMATE\n",
      " PARAMETER  CORRELATION COEFFICIENTS  \n",
      "       NO.  GLOBAL      1      2      3      4      5      6\n",
      "        1  0.00000   1.000  0.000  0.000  0.000  0.000  0.000\n",
      "        2  0.00000   0.000  1.000  0.000  0.000  0.000  0.000\n",
      "        3  0.00000   0.000  0.000  1.000  0.000  0.000  0.000\n",
      "        4  0.00000   0.000  0.000  0.000  1.000  0.000  0.000\n",
      "        5  0.00000   0.000  0.000  0.000  0.000  1.000  0.000\n",
      "        6  0.00000   0.000  0.000  0.000  0.000  0.000  1.000\n",
      " ERR MATRIX APPROXIMATE\n",
      "[#1] INFO:Minization -- RooMinimizer::optimizeConst: deactivating const optimization\n"
     ]
    }
   ],
   "source": [
    "r0 = s.fitTo(dataset0, ROOT.RooFit.Save())\n",
    "#r1 = s.fitTo(dataset1, ROOT.RooFit.Save())\n",
    "#r2 = s.fitTo(dataset2, ROOT.RooFit.Save())"
   ]
  },
  {
   "cell_type": "code",
   "execution_count": 18,
   "metadata": {
    "collapsed": false
   },
   "outputs": [
    {
     "data": {
      "image/png": "[encoded data removed]",
      "text/plain": [
       "<ROOT.TCanvas object (\"icanvas\") at 0x7fbaf06995c0>"
      ]
     },
     "execution_count": 18,
     "metadata": {},
     "output_type": "execute_result"
    },
    {
     "name": "stdout",
     "output_type": "stream",
     "text": [
      "[#1] INFO:Plotting -- RooPlot::updateFitRangeNorm: New event count of 14833 will supercede previous event count of 8511 for normalization of PDF projections\n",
      "[#1] INFO:Plotting -- RooPlot::updateFitRangeNorm: New event count of 12159 will supercede previous event count of 14833 for normalization of PDF projections\n"
     ]
    },
    {
     "name": "stderr",
     "output_type": "stream",
     "text": [
      "INFO:ROOT.TCanvas.Print] png file /var/folders/0d/3d7wlbr14zn3_l2ctx0r1jdw0000gn/T/tmpu_AsCu.png has been created\n"
     ]
    }
   ],
   "source": [
    "frame = m_yy.frame()\n",
    "\n",
    "dataset0.plotOn(frame, ROOT.RooFit.Binning(25), rf.MarkerColor(ROOT.kRed), rf.LineColor(ROOT.kRed))\n",
    "# BE CAREFUL! s NEEDS TO BE PLOTTED RIGHT AFTER ITS DATASET, OTHERWISE NORMALIZATION IS OFF!\n",
    "s.plotOn(frame, rf.LineColor(ROOT.kBlack))\n",
    "\n",
    "dataset1.plotOn(frame, ROOT.RooFit.Binning(25), rf.MarkerColor(ROOT.kGreen), rf.LineColor(ROOT.kGreen))\n",
    "dataset2.plotOn(frame, ROOT.RooFit.Binning(25), rf.MarkerColor(ROOT.kBlue), rf.LineColor(ROOT.kBlue))\n",
    "frame.Draw()\n",
    "c1"
   ]
  },
  {
   "cell_type": "code",
   "execution_count": 35,
   "metadata": {
    "collapsed": false
   },
   "outputs": [],
   "source": [
    "# -- how to define your own pdf by hand\n",
    "# x = ROOT.RooRealVar('x','x',-10,10)\n",
    "# y = ROOT.RooRealVar('y','y',0,5)\n",
    "# a = ROOT.RooRealVar('a','a',3.0)\n",
    "# b = ROOT.RooRealVar('b','b',-2.0)\n",
    "# gp = ROOT.RooGenericPdf('gp','Generic PDF','exp(x*y+a)-b*x', ROOT.RooArgList(x,y,a,b)) "
   ]
  },
  {
   "cell_type": "code",
   "execution_count": 19,
   "metadata": {
    "collapsed": false
   },
   "outputs": [
    {
     "data": {
      "text/plain": [
       "1800.2314555518092"
      ]
     },
     "execution_count": 19,
     "metadata": {},
     "output_type": "execute_result"
    }
   ],
   "source": [
    "sigma_cb.getVal()"
   ]
  },
  {
   "cell_type": "code",
   "execution_count": 31,
   "metadata": {
    "collapsed": false
   },
   "outputs": [
    {
     "name": "stdout",
     "output_type": "stream",
     "text": [
      "\n",
      "  RooFitResult: minimized FCN value: 75977.1, estimated distance to minimum: 4.05796e-05\n",
      "                covariance matrix quality: Approximation only, not accurate\n",
      "                Status : MINIMIZE=0 HESSE=0 \n",
      "\n",
      "    Floating Parameter    FinalValue +/-  Error   \n",
      "  --------------------  --------------------------\n",
      "            alphaHi_cb    3.9043e+04 +/-  3.60e+04\n",
      "            alphaLo_cb    7.5000e+04 +/-  6.31e+04\n",
      "                 m0_cb    1.2494e+05 +/-  1.98e+01\n",
      "                nHi_cb    5.0000e+01 +/-  4.21e+01\n",
      "                nLo_cb    5.0000e+01 +/-  4.21e+01\n",
      "              sigma_cb    1.8226e+03 +/-  1.40e+01\n",
      "\n"
     ]
    }
   ],
   "source": [
    "r0.Print()"
   ]
  },
  {
   "cell_type": "markdown",
   "metadata": {},
   "source": [
    "# RooDataSet 2 numpy array"
   ]
  },
  {
   "cell_type": "code",
   "execution_count": 42,
   "metadata": {
    "collapsed": true
   },
   "outputs": [],
   "source": [
    "def wrap_iter(it):\n",
    "    elem = it.Next()\n",
    "    while elem:\n",
    "        yield elem\n",
    "        elem = it.Next()"
   ]
  },
  {
   "cell_type": "code",
   "execution_count": 43,
   "metadata": {
    "collapsed": true
   },
   "outputs": [],
   "source": [
    "def get_data(data): # seems to be working fine but it's one element short??\n",
    "    curr = data.get(0)\n",
    "    ret = np.zeros((curr.getSize(), data.numEntries()))\n",
    "    vars = []\n",
    "    for v in wrap_iter(curr.iterator()):\n",
    "        vars.append(v)\n",
    "    idx = 0\n",
    "    while curr:\n",
    "        for i, v in enumerate(vars):\n",
    "            var = curr.find(v)\n",
    "            try:\n",
    "                ret[i, idx] = var.getVal()\n",
    "            except AttributeError:\n",
    "                ret[i, idx] = var.getIndex()\n",
    "        idx += 1\n",
    "        curr = data.get(idx)\n",
    "    return ret"
   ]
  },
  {
   "cell_type": "code",
   "execution_count": 44,
   "metadata": {
    "collapsed": false
   },
   "outputs": [
    {
     "data": {
      "text/plain": [
       "array([[ 124487.7265625],\n",
       "       [ 126503.0078125],\n",
       "       [ 124170.984375 ],\n",
       "       ..., \n",
       "       [ 124511.9140625],\n",
       "       [ 123265.53125  ],\n",
       "       [ 121814.3125   ]])"
      ]
     },
     "execution_count": 44,
     "metadata": {},
     "output_type": "execute_result"
    }
   ],
   "source": [
    "get_data(dataset1).T"
   ]
  },
  {
   "cell_type": "code",
   "execution_count": 45,
   "metadata": {
    "collapsed": false
   },
   "outputs": [
    {
     "data": {
      "text/plain": [
       "array([(124487.7265625,), (126503.0078125,), (124170.984375,), ...,\n",
       "       (124511.9140625,), (123265.53125,), (121814.3125,)], \n",
       "      dtype=[('m_yy', '<f8')])"
      ]
     },
     "execution_count": 45,
     "metadata": {},
     "output_type": "execute_result"
    }
   ],
   "source": [
    "# -- just to check:\n",
    "np.array(df[\"HGamEventInfoAuxDyn.m_yy\"][\n",
    "            np.logical_and(df[\"HGamEventInfoAuxDyn.isPassed\"] == 1, df[\"HGamEventInfoAuxDyn.yybb_bTagCat\"] == 1)\n",
    "        ], dtype=[('m_yy', np.float64)])"
   ]
  },
  {
   "cell_type": "markdown",
   "metadata": {},
   "source": [
    "# Extract curve from frame"
   ]
  },
  {
   "cell_type": "code",
   "execution_count": 6,
   "metadata": {
    "collapsed": true
   },
   "outputs": [],
   "source": [
    "xaxis = np.linspace(105000, 160000, 100) # xaxis range and number of interpolation points"
   ]
  },
  {
   "cell_type": "code",
   "execution_count": 27,
   "metadata": {
    "collapsed": false
   },
   "outputs": [
    {
     "name": "stdout",
     "output_type": "stream",
     "text": [
      "0\n",
      "<ROOT.RooHist object (\"h_dataset0\") at 0x7fbaf15f3510>\n",
      "1\n",
      "<ROOT.RooCurve object (\"dscb_Norm[m_yy]\") at 0x7fbaf1756440>\n",
      "2\n",
      "<ROOT.RooHist object (\"h_dataset1\") at 0x7fbaf16b6180>\n",
      "3\n",
      "<ROOT.RooHist object (\"h_dataset2\") at 0x7fbaf283cc90>\n"
     ]
    }
   ],
   "source": [
    "curves = {}\n",
    "for idx in range(int(frame.numItems())):\n",
    "    obj = frame.getObject(idx)\n",
    "    print obj\n",
    "    if type(obj) == ROOT.RooCurve:\n",
    "        curves[obj.GetName()] = [obj.interpolate(point) for point in xaxis]"
   ]
  },
  {
   "cell_type": "markdown",
   "metadata": {},
   "source": [
    "# Load Histograms from ROOT File"
   ]
  },
  {
   "cell_type": "code",
   "execution_count": 6,
   "metadata": {
    "collapsed": false
   },
   "outputs": [],
   "source": [
    "from rootpy.io import root_open"
   ]
  },
  {
   "cell_type": "code",
   "execution_count": 7,
   "metadata": {
    "collapsed": true
   },
   "outputs": [],
   "source": [
    "bkg = root_open('combined_backgrounds_20170201.root')"
   ]
  },
  {
   "cell_type": "code",
   "execution_count": 8,
   "metadata": {
    "collapsed": false
   },
   "outputs": [],
   "source": [
    "histos_bkg = {k.GetName(): bkg.Get(k.GetName()) for k in bkg.GetListOfKeys()}"
   ]
  },
  {
   "cell_type": "code",
   "execution_count": 9,
   "metadata": {
    "collapsed": false
   },
   "outputs": [
    {
     "data": {
      "text/plain": [
       "['m_yy_lowMass_0tag_tightIsolated_bkg_single_Higgs',\n",
       " 'm_yy_lowMass_0tag_tightIsolated_bkg_non_Higgs',\n",
       " 'm_yy_highMass_0tag_tightIsolated_bkg_non_Higgs',\n",
       " 'm_yy_highMass_0tag_tightIsolated_bkg_single_Higgs']"
      ]
     },
     "execution_count": 9,
     "metadata": {},
     "output_type": "execute_result"
    }
   ],
   "source": [
    "[k for k in histos_bkg.keys() if (('0tag' in k) and ('m_yy_' in k))]"
   ]
  },
  {
   "cell_type": "code",
   "execution_count": 10,
   "metadata": {
    "collapsed": false
   },
   "outputs": [
    {
     "name": "stdout",
     "output_type": "stream",
     "text": [
      "[#1] INFO:DataHandling -- RooDataHist::adjustBinning(0tag_bkg_nonHiggs): fit range of variable myy expanded to nearest bin boundaries: [105,160] --> [105,160]\n",
      "[#1] INFO:DataHandling -- RooDataHist::adjustBinning(0tag_bkg_1Higgs): fit range of variable myy expanded to nearest bin boundaries: [105,160] --> [105,160]\n"
     ]
    }
   ],
   "source": [
    "# Select one histogram to import into a datahist\n",
    "h0_bkg_noH = histos_bkg['m_yy_lowMass_0tag_tightIsolated_bkg_non_Higgs']\n",
    "h0_bkg_1H = histos_bkg['m_yy_lowMass_0tag_tightIsolated_bkg_single_Higgs']\n",
    "\n",
    "# Declare observable x\n",
    "myy = ROOT.RooRealVar(\"myy\", \"m_yy\", h0_bkg_noH.GetXaxis().GetXmin(), h0_bkg_noH.GetXaxis().GetXmax())\n",
    "\n",
    "# Create a binned dataset that imports contents of TH1 and associates its contents to observable 'x'\n",
    "dh_bkg_noH = ROOT.RooDataHist(\"0tag_bkg_nonHiggs\", \"non Higgs bkg in 0tag category\", ROOT.RooArgList(myy), h0_bkg_noH)\n",
    "dh_bkg_1H = ROOT.RooDataHist(\"0tag_bkg_1Higgs\", \"single Higgs bkg in 0tag category\", ROOT.RooArgList(myy), h0_bkg_1H)"
   ]
  },
  {
   "cell_type": "code",
   "execution_count": 11,
   "metadata": {
    "collapsed": false
   },
   "outputs": [],
   "source": [
    "# -- define non-Higgs bkg fit function (Exponential pdf)\n",
    "c0_bkg = ROOT.RooRealVar('c0_bkg', 'coefficient c0 of exponential bkg fit', -100, 100) #-2.63843e-2\n",
    "exp_function = ROOT.RooExponential('bkg_fit', 'exponential bkg fit in 0 tag category', myy, c0_bkg)"
   ]
  },
  {
   "cell_type": "code",
   "execution_count": 12,
   "metadata": {
    "collapsed": false
   },
   "outputs": [],
   "source": [
    "# -- define single-Higgs bkg fit function (Double Sided Crystal Ball)\n",
    "m0_cb = ROOT.RooRealVar('m0_cb','m0_cb', 125, 105, 160)\n",
    "sigma_cb = ROOT.RooRealVar('sigma_cb','sigma_cb', 5, 0, 2000)\n",
    "alphaLo_cb = ROOT.RooRealVar('alphaLo_cb','alphaLo_cb', 0, 5)\n",
    "nLo_cb = ROOT.RooRealVar('nLo_cb','nLo_cb', 0, 10)\n",
    "alphaHi_cb = ROOT.RooRealVar('alphaHi_cb','alphaHi_cb', 0, 5)\n",
    "nHi_cb = ROOT.RooRealVar('nHi_cb','nHi_cb', 0, 10)\n",
    "# alphaLo_cb = ROOT.RooRealVar('alphaLo_cb','alphaLo_cb', 2.16784)\n",
    "# nLo_cb = ROOT.RooRealVar('nLo_cb','nLo_cb', 3.57625)\n",
    "# alphaHi_cb = ROOT.RooRealVar('alphaHi_cb','alphaHi_cb', 2.32595)\n",
    "# nHi_cb = ROOT.RooRealVar('nHi_cb','nHi_cb', 4.17267)\n",
    "\n",
    "# -- double sided crystal ball\n",
    "dscb_1h = ROOT.HggTwoSidedCBPdf(\n",
    "    'dscb_1h', 'Double Sided Crystal Ball fit for single higgs bkg in 0tag category',\n",
    "    myy,\n",
    "    m0_cb,\n",
    "    sigma_cb,\n",
    "    alphaLo_cb,\n",
    "    nLo_cb,\n",
    "    alphaHi_cb,\n",
    "    nHi_cb\n",
    ")"
   ]
  },
  {
   "cell_type": "code",
   "execution_count": 13,
   "metadata": {
    "collapsed": false,
    "scrolled": true
   },
   "outputs": [
    {
     "data": {
      "text/plain": [
       "<ROOT.RooFitResult object at 0x0>"
      ]
     },
     "execution_count": 13,
     "metadata": {},
     "output_type": "execute_result"
    },
    {
     "name": "stdout",
     "output_type": "stream",
     "text": [
      "[#1] INFO:Minization -- RooMinimizer::optimizeConst: activating const optimization\n",
      " **********\n",
      " **    1 **SET PRINT           1\n",
      " **********\n",
      " **********\n",
      " **    2 **SET NOGRAD\n",
      " **********\n",
      " PARAMETER DEFINITIONS:\n",
      "    NO.   NAME         VALUE      STEP SIZE      LIMITS\n",
      "     1 c0_bkg       0.00000e+00  2.00000e+01   -1.00000e+02  1.00000e+02\n",
      " **********\n",
      " **    3 **SET ERR         0.5\n",
      " **********\n",
      " **********\n",
      " **    4 **SET PRINT           1\n",
      " **********\n",
      " **********\n",
      " **    5 **SET STR           1\n",
      " **********\n",
      " NOW USING STRATEGY  1: TRY TO BALANCE SPEED AGAINST RELIABILITY\n",
      " **********\n",
      " **    6 **MIGRAD         500           1\n",
      " **********\n",
      " FIRST CALL TO USER FUNCTION AT NEW START POINT, WITH IFLAG=4.\n",
      " START MIGRAD MINIMIZATION.  STRATEGY  1.  CONVERGENCE WHEN EDM .LT. 1.00e-03\n",
      " FCN=56423.3 FROM MIGRAD    STATUS=INITIATE        4 CALLS           5 TOTAL\n",
      "                     EDM= unknown      STRATEGY= 1      NO ERROR MATRIX       \n",
      "  EXT PARAMETER               CURRENT GUESS       STEP         FIRST   \n",
      "  NO.   NAME      VALUE            ERROR          SIZE      DERIVATIVE \n",
      "   1  c0_bkg       0.00000e+00   2.00000e+01   2.01358e-01   9.05175e+06\n",
      "                               ERR DEF= 0.5\n",
      " MIGRAD MINIMIZATION HAS CONVERGED.\n",
      " MIGRAD WILL VERIFY CONVERGENCE AND ERROR MATRIX.\n",
      " COVARIANCE MATRIX CALCULATED SUCCESSFULLY\n",
      " FCN=55249.4 FROM MIGRAD    STATUS=CONVERGED      21 CALLS          22 TOTAL\n",
      "                     EDM=2.63154e-07    STRATEGY= 1      ERROR MATRIX ACCURATE \n",
      "  EXT PARAMETER                                   STEP         FIRST   \n",
      "  NO.   NAME      VALUE            ERROR          SIZE      DERIVATIVE \n",
      "   1  c0_bkg      -2.63843e-02   5.58607e-04   9.07994e-07   9.18329e+01\n",
      "                               ERR DEF= 0.5\n",
      " EXTERNAL ERROR MATRIX.    NDIM=  25    NPAR=  1    ERR DEF=0.5\n",
      "  3.120e-07 \n",
      " **********\n",
      " **    7 **SET ERR         0.5\n",
      " **********\n",
      " **********\n",
      " **    8 **SET PRINT           1\n",
      " **********\n",
      " **********\n",
      " **    9 **HESSE         500\n",
      " **********\n",
      " COVARIANCE MATRIX CALCULATED SUCCESSFULLY\n",
      " FCN=55249.4 FROM HESSE     STATUS=OK              5 CALLS          27 TOTAL\n",
      "                     EDM=2.62426e-07    STRATEGY= 1      ERROR MATRIX ACCURATE \n",
      "  EXT PARAMETER                                INTERNAL      INTERNAL  \n",
      "  NO.   NAME      VALUE            ERROR       STEP SIZE       VALUE   \n",
      "   1  c0_bkg      -2.63843e-02   5.58607e-04   1.81599e-07  -2.63843e-04\n",
      "                               ERR DEF= 0.5\n",
      " EXTERNAL ERROR MATRIX.    NDIM=  25    NPAR=  1    ERR DEF=0.5\n",
      "  3.120e-07 \n",
      "[#1] INFO:Fitting -- RooAbsPdf::fitTo(bkg_fit) Calculating sum-of-weights-squared correction matrix for covariance matrix\n",
      " **********\n",
      " **   10 **SET ERR         0.5\n",
      " **********\n",
      " **********\n",
      " **   11 **SET PRINT           1\n",
      " **********\n",
      " **********\n",
      " **   12 **HESSE         500\n",
      " **********\n",
      " COVARIANCE MATRIX CALCULATED SUCCESSFULLY\n",
      " FCN=29391 FROM HESSE     STATUS=OK              7 CALLS          34 TOTAL\n",
      "                     EDM=11.6421    STRATEGY= 1      ERROR MATRIX ACCURATE \n",
      "  EXT PARAMETER                                INTERNAL      INTERNAL  \n",
      "  NO.   NAME      VALUE            ERROR       STEP SIZE       VALUE   \n",
      "   1  c0_bkg      -2.63843e-02   7.64356e-04   3.70462e-06  -2.63843e-04\n",
      "                               ERR DEF= 0.5\n",
      " EXTERNAL ERROR MATRIX.    NDIM=  25    NPAR=  1    ERR DEF=0.5\n",
      "  5.842e-07 \n",
      "[#1] INFO:Minization -- RooMinimizer::optimizeConst: deactivating const optimization\n"
     ]
    }
   ],
   "source": [
    "# -- individual fit to bkg\n",
    "exp_function.fitTo(dh_bkg_noH, rf.SumW2Error(ROOT.kTRUE))"
   ]
  },
  {
   "cell_type": "code",
   "execution_count": 14,
   "metadata": {
    "collapsed": false,
    "scrolled": true
   },
   "outputs": [
    {
     "data": {
      "text/plain": [
       "<ROOT.RooFitResult object at 0x0>"
      ]
     },
     "execution_count": 14,
     "metadata": {},
     "output_type": "execute_result"
    },
    {
     "name": "stdout",
     "output_type": "stream",
     "text": [
      "[#1] INFO:Minization -- RooMinimizer::optimizeConst: activating const optimization\n",
      " **********\n",
      " **    1 **SET PRINT           1\n",
      " **********\n",
      " **********\n",
      " **    2 **SET NOGRAD\n",
      " **********\n",
      " PARAMETER DEFINITIONS:\n",
      "    NO.   NAME         VALUE      STEP SIZE      LIMITS\n",
      "     1 alphaHi_cb   2.50000e+00  5.00000e-01    0.00000e+00  5.00000e+00\n",
      "     2 alphaLo_cb   2.50000e+00  5.00000e-01    0.00000e+00  5.00000e+00\n",
      "     3 m0_cb        1.25000e+02  5.50000e+00    1.05000e+02  1.60000e+02\n",
      "     4 nHi_cb       5.00000e+00  1.00000e+00    0.00000e+00  1.00000e+01\n",
      "     5 nLo_cb       5.00000e+00  1.00000e+00    0.00000e+00  1.00000e+01\n",
      "     6 sigma_cb     5.00000e+00  2.50000e+00    0.00000e+00  2.00000e+03\n",
      " **********\n",
      " **    3 **SET ERR         0.5\n",
      " **********\n",
      " **********\n",
      " **    4 **SET PRINT           1\n",
      " **********\n",
      " **********\n",
      " **    5 **SET STR           1\n",
      " **********\n",
      " NOW USING STRATEGY  1: TRY TO BALANCE SPEED AGAINST RELIABILITY\n",
      " **********\n",
      " **    6 **MIGRAD        3000           1\n",
      " **********\n",
      " FIRST CALL TO USER FUNCTION AT NEW START POINT, WITH IFLAG=4.\n",
      " START MIGRAD MINIMIZATION.  STRATEGY  1.  CONVERGENCE WHEN EDM .LT. 1.00e-03\n",
      " FCN=151.111 FROM MIGRAD    STATUS=INITIATE       76 CALLS          77 TOTAL\n",
      "                     EDM= unknown      STRATEGY= 1      NO ERROR MATRIX       \n",
      "  EXT PARAMETER               CURRENT GUESS       STEP         FIRST   \n",
      "  NO.   NAME      VALUE            ERROR          SIZE      DERIVATIVE \n",
      "   1  alphaHi_cb   2.50000e+00   5.00000e-01   0.00000e+00   4.77262e-01\n",
      "   2  alphaLo_cb   2.50000e+00   5.00000e-01   0.00000e+00   1.03497e+00\n",
      "   3  m0_cb        1.25000e+02   5.50000e+00   0.00000e+00  -4.25283e+00\n",
      "   4  nHi_cb       5.00000e+00   1.00000e+00   0.00000e+00   4.68395e-02\n",
      "   5  nLo_cb       2.56635e+00   1.00000e+00  -5.08343e-01   4.65014e-04\n",
      "   6  sigma_cb     2.11561e+00   2.50000e+00   0.00000e+00   2.13798e+02\n",
      "                               ERR DEF= 0.5\n",
      " MIGRAD MINIMIZATION HAS CONVERGED.\n",
      " MIGRAD WILL VERIFY CONVERGENCE AND ERROR MATRIX.\n",
      " COVARIANCE MATRIX CALCULATED SUCCESSFULLY\n",
      " FCN=150.732 FROM MIGRAD    STATUS=CONVERGED     213 CALLS         214 TOTAL\n",
      "                     EDM=2.75631e-05    STRATEGY= 1      ERROR MATRIX ACCURATE \n",
      "  EXT PARAMETER                                   STEP         FIRST   \n",
      "  NO.   NAME      VALUE            ERROR          SIZE      DERIVATIVE \n",
      "   1  alphaHi_cb   2.32595e+00   8.79618e-01   2.18271e-03   3.05179e-03\n",
      "   2  alphaLo_cb   2.16784e+00   7.53218e-01   1.67589e-03   3.68588e-03\n",
      "   3  m0_cb        1.25012e+02   2.41703e-01   7.70916e-05  -3.29962e-01\n",
      "   4  nHi_cb       4.17267e+00   6.80466e+00   1.13581e-02   5.00776e-05\n",
      "   5  nLo_cb       3.57625e+00   6.73920e+00   7.52829e-03  -1.99600e-03\n",
      "   6  sigma_cb     1.96751e+00   1.84929e-01   2.41239e-05  -5.00847e-01\n",
      "                               ERR DEF= 0.5\n",
      " EXTERNAL ERROR MATRIX.    NDIM=  25    NPAR=  6    ERR DEF=0.5\n",
      "  8.081e-01  1.924e-03  1.085e-03 -5.781e+00  5.630e-03  6.039e-04 \n",
      "  1.924e-03  5.857e-01  3.632e-03 -3.838e-02 -4.110e+00 -7.631e-03 \n",
      "  1.085e-03  3.632e-03  5.842e-02  9.320e-02 -1.168e-01 -6.336e-04 \n",
      " -5.781e+00 -3.838e-02  9.320e-02  8.629e+01  1.221e+00  2.113e-01 \n",
      "  5.630e-03 -4.110e+00 -1.168e-01  1.221e+00  5.033e+01  2.270e-01 \n",
      "  6.039e-04 -7.631e-03 -6.336e-04  2.113e-01  2.270e-01  3.420e-02 \n",
      " PARAMETER  CORRELATION COEFFICIENTS  \n",
      "       NO.  GLOBAL      1      2      3      4      5      6\n",
      "        1  0.69898   1.000  0.003  0.005 -0.692  0.001  0.004\n",
      "        2  0.76162   0.003  1.000  0.020 -0.005 -0.757 -0.054\n",
      "        3  0.10669   0.005  0.020  1.000  0.042 -0.068 -0.014\n",
      "        4  0.70515  -0.692 -0.005  0.042  1.000  0.019  0.123\n",
      "        5  0.77013   0.001 -0.757 -0.068  0.019  1.000  0.173\n",
      "        6  0.26773   0.004 -0.054 -0.014  0.123  0.173  1.000\n",
      " **********\n",
      " **    7 **SET ERR         0.5\n",
      " **********\n",
      " **********\n",
      " **    8 **SET PRINT           1\n",
      " **********\n",
      " **********\n",
      " **    9 **HESSE        3000\n",
      " **********\n",
      " COVARIANCE MATRIX CALCULATED SUCCESSFULLY\n",
      " FCN=150.732 FROM HESSE     STATUS=OK             40 CALLS         254 TOTAL\n",
      "                     EDM=2.83479e-05    STRATEGY= 1      ERROR MATRIX ACCURATE \n",
      "  EXT PARAMETER                                INTERNAL      INTERNAL  \n",
      "  NO.   NAME      VALUE            ERROR       STEP SIZE       VALUE   \n",
      "   1  alphaHi_cb   2.32595e+00   9.00280e-01   4.36541e-04  -6.96762e-02\n",
      "   2  alphaLo_cb   2.16784e+00   7.68032e-01   3.35177e-04  -1.33259e-01\n",
      "   3  m0_cb        1.25012e+02   2.41728e-01   1.54183e-05  -2.75758e-01\n",
      "   4  nHi_cb       4.17267e+00   6.74771e+00   4.54325e-04  -1.66230e-01\n",
      "   5  nLo_cb       3.57625e+00   6.72305e+00   1.50566e-03  -2.88746e-01\n",
      "   6  sigma_cb     1.96751e+00   1.85061e-01   4.82478e-06  -1.50806e+00\n",
      "                               ERR DEF= 0.5\n",
      " EXTERNAL ERROR MATRIX.    NDIM=  25    NPAR=  6    ERR DEF=0.5\n",
      "  8.484e-01  2.189e-03  6.478e-04 -6.227e+00 -5.011e-04 -4.101e-04 \n",
      "  2.189e-03  6.098e-01  4.139e-03 -4.600e-02 -4.342e+00 -8.633e-03 \n",
      "  6.478e-04  4.139e-03  5.843e-02  9.676e-02 -1.213e-01 -6.729e-04 \n",
      " -6.227e+00 -4.600e-02  9.676e-02  9.068e+01  1.320e+00  2.205e-01 \n",
      " -5.011e-04 -4.342e+00 -1.213e-01  1.320e+00  5.243e+01  2.357e-01 \n",
      " -4.101e-04 -8.633e-03 -6.729e-04  2.205e-01  2.357e-01  3.425e-02 \n",
      " PARAMETER  CORRELATION COEFFICIENTS  \n",
      "       NO.  GLOBAL      1      2      3      4      5      6\n",
      "        1  0.71613   1.000  0.003  0.003 -0.710 -0.000 -0.002\n",
      "        2  0.77242   0.003  1.000  0.022 -0.006 -0.768 -0.060\n",
      "        3  0.10762   0.003  0.022  1.000  0.042 -0.069 -0.015\n",
      "        4  0.72207  -0.710 -0.006  0.042  1.000  0.019  0.125\n",
      "        5  0.78060  -0.000 -0.768 -0.069  0.019  1.000  0.176\n",
      "        6  0.27019  -0.002 -0.060 -0.015  0.125  0.176  1.000\n",
      "[#1] INFO:Fitting -- RooAbsPdf::fitTo(dscb_1h) Calculating sum-of-weights-squared correction matrix for covariance matrix\n",
      " **********\n",
      " **   10 **SET ERR         0.5\n",
      " **********\n",
      " **********\n",
      " **   11 **SET PRINT           1\n",
      " **********\n",
      " **********\n",
      " **   12 **HESSE        3000\n",
      " **********\n",
      " COVARIANCE MATRIX CALCULATED SUCCESSFULLY\n",
      " FCN=0.424829 FROM HESSE     STATUS=OK             54 CALLS         308 TOTAL\n",
      "                     EDM=0.000370046    STRATEGY= 1      ERROR MATRIX ACCURATE \n",
      "  EXT PARAMETER                                INTERNAL      INTERNAL  \n",
      "  NO.   NAME      VALUE            ERROR       STEP SIZE       VALUE   \n",
      "   1  alphaHi_cb   2.32595e+00   2.92056e+00   8.90544e-03  -6.96762e-02\n",
      "   2  alphaLo_cb   2.16784e+00   3.43350e+00   6.83762e-03  -1.33259e-01\n",
      "   3  m0_cb        1.25012e+02   4.57425e+00   3.14534e-04  -2.75758e-01\n",
      "   4  nHi_cb       4.17267e+00   7.35512e+00   9.26823e-03  -1.66230e-01\n",
      "   5  nLo_cb       3.57625e+00   6.78529e+00   3.07154e-02  -2.88746e-01\n",
      "   6  sigma_cb     1.96751e+00   3.40908e+00   9.84255e-05  -1.50806e+00\n",
      "                               ERR DEF= 0.5\n",
      " EXTERNAL ERROR MATRIX.    NDIM=  25    NPAR=  6    ERR DEF=0.5\n",
      "  2.735e+02  5.189e-01  8.329e-01 -1.878e+03  7.561e+00  1.249e+00 \n",
      "  5.189e-01  1.850e+02  6.849e-01 -6.561e+00 -1.227e+03 -1.436e+00 \n",
      "  8.329e-01  6.849e-01  2.114e+01  4.055e+01 -3.814e+01 -1.094e-01 \n",
      " -1.878e+03 -6.561e+00  4.055e+01  3.027e+04  4.114e+02  7.947e+01 \n",
      "  7.561e+00 -1.227e+03 -3.814e+01  4.114e+02  1.597e+04  7.028e+01 \n",
      "  1.249e+00 -1.436e+00 -1.094e-01  7.947e+01  7.028e+01  1.163e+01 \n",
      " PARAMETER  CORRELATION COEFFICIENTS  \n",
      "       NO.  GLOBAL      1      2      3      4      5      6\n",
      "        1  0.66365   1.000  0.002  0.011 -0.653  0.004  0.022\n",
      "        2  0.72022   0.002  1.000  0.011 -0.003 -0.714 -0.031\n",
      "        3  0.11592   0.011  0.011  1.000  0.051 -0.066 -0.007\n",
      "        4  0.67202  -0.653 -0.003  0.051  1.000  0.019  0.134\n",
      "        5  0.73007   0.004 -0.714 -0.066  0.019  1.000  0.163\n",
      "        6  0.27821   0.022 -0.031 -0.007  0.134  0.163  1.000\n",
      "[#1] INFO:Minization -- RooMinimizer::optimizeConst: deactivating const optimization\n"
     ]
    }
   ],
   "source": [
    "# -- individual fit to single higgs bkg\n",
    "dscb_1h.fitTo(dh_bkg_1H, rf.SumW2Error(ROOT.kTRUE))"
   ]
  },
  {
   "cell_type": "code",
   "execution_count": 15,
   "metadata": {
    "collapsed": false
   },
   "outputs": [
    {
     "data": {
      "image/png": "[encoded data removed]",
      "text/plain": [
       "<ROOT.TCanvas object (\"icanvas\") at 0x7fa1b0756f00>"
      ]
     },
     "execution_count": 15,
     "metadata": {},
     "output_type": "execute_result"
    },
    {
     "name": "stdout",
     "output_type": "stream",
     "text": [
      "[#1] INFO:InputArguments -- RooAbsData::plotOn(0tag_bkg_nonHiggs) INFO: dataset has non-integer weights, auto-selecting SumW2 errors instead of Poisson errors\n",
      "[#1] INFO:InputArguments -- RooAbsData::plotOn(0tag_bkg_1Higgs) INFO: dataset has non-integer weights, auto-selecting SumW2 errors instead of Poisson errors\n",
      "[#1] INFO:Plotting -- RooPlot::updateFitRangeNorm: New event count of 69.585 will supercede previous event count of 14080 for normalization of PDF projections\n"
     ]
    },
    {
     "name": "stderr",
     "output_type": "stream",
     "text": [
      "INFO:ROOT.TCanvas.Print] png file /var/folders/0d/3d7wlbr14zn3_l2ctx0r1jdw0000gn/T/tmpz5oN2l.png has been created\n"
     ]
    }
   ],
   "source": [
    "frame = myy.frame()\n",
    "dh_bkg_noH.plotOn(frame)\n",
    "exp_function.plotOn(frame)\n",
    "\n",
    "dh_bkg_1H.plotOn(frame)\n",
    "dscb_1h.plotOn(frame)\n",
    "\n",
    "frame.Draw()\n",
    "frame.SetMinimum(1e-6)\n",
    "#c1.SetLogy(True)\n",
    "c1"
   ]
  },
  {
   "cell_type": "code",
   "execution_count": 16,
   "metadata": {
    "collapsed": false,
    "scrolled": false
   },
   "outputs": [],
   "source": [
    "# -- double sided crystal ball\n",
    "# m0_cb = ROOT.RooRealVar('m0_cb','m0_cb', 125, 105, 160)\n",
    "# sigma_cb = ROOT.RooRealVar('sigma_cb','sigma_cb', 5, 0, 2000)\n",
    "alphaLo_cb_fixed = ROOT.RooRealVar('alphaLo_cb_fixed','alphaLo_cb_fixed', 2.16784)\n",
    "nLo_cb_fixed = ROOT.RooRealVar('nLo_cb_fixed','nLo_cb_fixed', 3.57625)\n",
    "alphaHi_cb_fixed = ROOT.RooRealVar('alphaHi_cb_fixed','alphaHi_cb_fixed', 2.32595)\n",
    "nHi_cb_fixed = ROOT.RooRealVar('nHi_cb_fixed','nHi_cb_fixed', 4.17267)\n",
    "\n",
    "dscb_1h_fixed = ROOT.HggTwoSidedCBPdf(\n",
    "    'dscb_1h_fixed', 'Double Sided Crystal Ball fit for single higgs bkg in 0tag category',\n",
    "    myy,\n",
    "    m0_cb,\n",
    "    sigma_cb,\n",
    "    alphaLo_cb_fixed,\n",
    "    nLo_cb_fixed,\n",
    "    alphaHi_cb_fixed,\n",
    "    nHi_cb_fixed\n",
    ")\n",
    "\n",
    "# -- define non-Higgs bkg fit function (Exponential pdf)\n",
    "c0_bkg_fixed = ROOT.RooRealVar('c0_bkg_fixed', 'coefficient c0 of exponential bkg fit', -2.63843e-2)\n",
    "exp_function_fixed = ROOT.RooExponential('bkg_fit_fixed', 'exponential bkg fit in 0 tag category', myy, c0_bkg_fixed)"
   ]
  },
  {
   "cell_type": "code",
   "execution_count": 17,
   "metadata": {
    "collapsed": true
   },
   "outputs": [],
   "source": [
    "#ROOT.RooAddPdf?"
   ]
  },
  {
   "cell_type": "code",
   "execution_count": 18,
   "metadata": {
    "collapsed": false
   },
   "outputs": [
    {
     "name": "stdout",
     "output_type": "stream",
     "text": [
      "14080.0\n",
      "69.5850423983\n"
     ]
    }
   ],
   "source": [
    "print dh_bkg_noH.sum(ROOT.kFALSE)\n",
    "print dh_bkg_1H.sum(ROOT.kFALSE)"
   ]
  },
  {
   "cell_type": "markdown",
   "metadata": {},
   "source": [
    "In an extended pdf, we provide the expected number of observed events of each kind. Underneath, this tacks on a Poisson term to the entire pdf which describes the probability of seeing that number of events of each kind. This is important because it allows the two independent pdfs to be normalized to something slightly off of the nominal value. Otherwise, if we provide a fraction f0, the second coefficient can only be (1-f0). This would then have to be scaled to exactly the number of observed events, without allowing the normalization to be slighly off of the expected one."
   ]
  },
  {
   "cell_type": "code",
   "execution_count": 19,
   "metadata": {
    "collapsed": false
   },
   "outputs": [],
   "source": [
    "n_1h = ROOT.RooRealVar(\"n_1h\", \"expected number of 1 Higgs bkg events\", 69)#, 0, 14069) \n",
    "n_noh = ROOT.RooRealVar(\"n_noh\", \"expected number of non Higgs bkg events\", 14000, 0, 20000)\n",
    "\n",
    "full_bkg = ROOT.RooAddPdf('full_bkg_pdf', 'Full Bkg PDF',\n",
    "                    ROOT.RooArgList(exp_function_fixed, dscb_1h_fixed),\n",
    "                    ROOT.RooArgList(n_noh, n_1h) # extended pdf!\n",
    ")"
   ]
  },
  {
   "cell_type": "code",
   "execution_count": 20,
   "metadata": {
    "collapsed": false
   },
   "outputs": [],
   "source": [
    "from copy import deepcopy\n",
    "\n",
    "combined_data = deepcopy(dh_bkg_noH)\n",
    "combined_data.add(dh_bkg_1H)"
   ]
  },
  {
   "cell_type": "code",
   "execution_count": 21,
   "metadata": {
    "collapsed": false,
    "scrolled": true
   },
   "outputs": [
    {
     "data": {
      "text/plain": [
       "<ROOT.RooFitResult object at 0x0>"
      ]
     },
     "execution_count": 21,
     "metadata": {},
     "output_type": "execute_result"
    },
    {
     "name": "stdout",
     "output_type": "stream",
     "text": [
      "[#1] INFO:Minization -- p.d.f. provides expected number of events, including extended term in likelihood.\n",
      "[#1] INFO:Minization -- RooMinimizer::optimizeConst: activating const optimization\n",
      "[#1] INFO:Minization --  The following expressions have been identified as constant and will be precalculated and cached: (bkg_fit_fixed)\n",
      "[#1] INFO:Minization --  The following expressions will be evaluated in cache-and-track mode: (dscb_1h_fixed)\n",
      " **********\n",
      " **    1 **SET PRINT           1\n",
      " **********\n",
      " **********\n",
      " **    2 **SET NOGRAD\n",
      " **********\n",
      " PARAMETER DEFINITIONS:\n",
      "    NO.   NAME         VALUE      STEP SIZE      LIMITS\n",
      "     1 m0_cb        1.25012e+02  1.27136e-02    1.05000e+02  1.60000e+02\n",
      "     2 n_noh        1.40000e+04  2.00000e+03    0.00000e+00  2.00000e+04\n",
      "     3 sigma_cb     1.96751e+00  1.00546e-02    0.00000e+00  2.00000e+03\n",
      " **********\n",
      " **    3 **SET ERR         0.5\n",
      " **********\n",
      " **********\n",
      " **    4 **SET PRINT           1\n",
      " **********\n",
      " **********\n",
      " **    5 **SET STR           1\n",
      " **********\n",
      " NOW USING STRATEGY  1: TRY TO BALANCE SPEED AGAINST RELIABILITY\n",
      " **********\n",
      " **    6 **MIGRAD        1500           1\n",
      " **********\n",
      " FIRST CALL TO USER FUNCTION AT NEW START POINT, WITH IFLAG=4.\n",
      " START MIGRAD MINIMIZATION.  STRATEGY  1.  CONVERGENCE WHEN EDM .LT. 1.00e-03\n",
      " FCN=-65563.7 FROM MIGRAD    STATUS=INITIATE       12 CALLS          13 TOTAL\n",
      "                     EDM= unknown      STRATEGY= 1      NO ERROR MATRIX       \n",
      "  EXT PARAMETER               CURRENT GUESS       STEP         FIRST   \n",
      "  NO.   NAME      VALUE            ERROR          SIZE      DERIVATIVE \n",
      "   1  m0_cb        1.25012e+02   1.27136e-02   4.80466e-04   2.66120e+00\n",
      "   2  n_noh        1.40000e+04   2.00000e+03   2.21072e-01  -5.30559e+01\n",
      "   3  sigma_cb     1.96751e+00   1.00546e-02   1.60363e-04  -2.57618e+01\n",
      "                               ERR DEF= 0.5\n",
      " MIGRAD MINIMIZATION HAS CONVERGED.\n",
      " MIGRAD WILL VERIFY CONVERGENCE AND ERROR MATRIX.\n",
      " COVARIANCE MATRIX CALCULATED SUCCESSFULLY\n",
      " FCN=-65563.9 FROM MIGRAD    STATUS=CONVERGED      50 CALLS          51 TOTAL\n",
      "                     EDM=4.65195e-06    STRATEGY= 1      ERROR MATRIX ACCURATE \n",
      "  EXT PARAMETER                                   STEP         FIRST   \n",
      "  NO.   NAME      VALUE            ERROR          SIZE      DERIVATIVE \n",
      "   1  m0_cb        1.24842e+02   1.23730e+00   8.27587e-03  -1.27598e-02\n",
      "   2  n_noh        1.40814e+04   1.18943e+02   2.30345e-03   6.95379e-02\n",
      "   3  sigma_cb     2.10289e+00   5.87699e-01   1.60477e-03   2.06156e-01\n",
      "                               ERR DEF= 0.5\n",
      " EXTERNAL ERROR MATRIX.    NDIM=  25    NPAR=  3    ERR DEF=0.5\n",
      "  1.532e+00  1.525e-01  4.630e-03 \n",
      "  1.525e-01  1.415e+04 -1.064e-01 \n",
      "  4.630e-03 -1.064e-01  3.454e-01 \n",
      " PARAMETER  CORRELATION COEFFICIENTS  \n",
      "       NO.  GLOBAL      1      2      3\n",
      "        1  0.00645   1.000  0.001  0.006\n",
      "        2  0.00185   0.001  1.000 -0.002\n",
      "        3  0.00655   0.006 -0.002  1.000\n",
      " **********\n",
      " **    7 **SET ERR         0.5\n",
      " **********\n",
      " **********\n",
      " **    8 **SET PRINT           1\n",
      " **********\n",
      " **********\n",
      " **    9 **HESSE        1500\n",
      " **********\n",
      " COVARIANCE MATRIX CALCULATED SUCCESSFULLY\n",
      " FCN=-65563.9 FROM HESSE     STATUS=OK             16 CALLS          67 TOTAL\n",
      "                     EDM=4.6271e-06    STRATEGY= 1      ERROR MATRIX ACCURATE \n",
      "  EXT PARAMETER                                INTERNAL      INTERNAL  \n",
      "  NO.   NAME      VALUE            ERROR       STEP SIZE       VALUE   \n",
      "   1  m0_cb        1.24842e+02   1.23560e+00   3.31035e-04  -2.82217e-01\n",
      "   2  n_noh        1.40814e+04   1.18943e+02   9.21381e-05   4.20415e-01\n",
      "   3  sigma_cb     2.10289e+00   5.84335e-01   6.41908e-05  -1.50593e+00\n",
      "                               ERR DEF= 0.5\n",
      " EXTERNAL ERROR MATRIX.    NDIM=  25    NPAR=  3    ERR DEF=0.5\n",
      "  1.528e+00  4.583e-02  3.542e-03 \n",
      "  4.583e-02  1.415e+04 -1.585e-01 \n",
      "  3.542e-03 -1.585e-01  3.415e-01 \n",
      " PARAMETER  CORRELATION COEFFICIENTS  \n",
      "       NO.  GLOBAL      1      2      3\n",
      "        1  0.00491   1.000  0.000  0.005\n",
      "        2  0.00230   0.000  1.000 -0.002\n",
      "        3  0.00541   0.005 -0.002  1.000\n",
      "[#1] INFO:Fitting -- RooAbsPdf::fitTo(full_bkg_pdf) Calculating sum-of-weights-squared correction matrix for covariance matrix\n",
      " **********\n",
      " **   10 **SET ERR         0.5\n",
      " **********\n",
      " **********\n",
      " **   11 **SET PRINT           1\n",
      " **********\n",
      " **********\n",
      " **   12 **HESSE        1500\n",
      " **********\n",
      " COVARIANCE MATRIX CALCULATED SUCCESSFULLY\n",
      " FCN=-34962 FROM HESSE     STATUS=OK             22 CALLS          89 TOTAL\n",
      "                     EDM=0.116305    STRATEGY= 1      ERROR MATRIX ACCURATE \n",
      "  EXT PARAMETER                                INTERNAL      INTERNAL  \n",
      "  NO.   NAME      VALUE            ERROR       STEP SIZE       VALUE   \n",
      "   1  m0_cb        1.24842e+02   2.11763e+00   6.75311e-03  -2.82217e-01\n",
      "   2  n_noh        1.40814e+04   1.63117e+02   1.87962e-03   4.20415e-01\n",
      "   3  sigma_cb     2.10289e+00   8.12578e-01   1.30949e-03  -1.50593e+00\n",
      "                               ERR DEF= 0.5\n",
      " EXTERNAL ERROR MATRIX.    NDIM=  25    NPAR=  3    ERR DEF=0.5\n",
      "  4.494e+00  1.372e+00 -3.212e-02 \n",
      "  1.372e+00  2.661e+04 -5.437e-01 \n",
      " -3.212e-02 -5.437e-01  6.603e-01 \n",
      " PARAMETER  CORRELATION COEFFICIENTS  \n",
      "       NO.  GLOBAL      1      2      3\n",
      "        1  0.01904   1.000  0.004 -0.019\n",
      "        2  0.00565   0.004  1.000 -0.004\n",
      "        3  0.01907  -0.019 -0.004  1.000\n",
      "[#1] INFO:Minization -- RooMinimizer::optimizeConst: deactivating const optimization\n"
     ]
    }
   ],
   "source": [
    "full_bkg.fitTo(combined_data, rf.SumW2Error(ROOT.kTRUE))"
   ]
  },
  {
   "cell_type": "code",
   "execution_count": 22,
   "metadata": {
    "collapsed": false
   },
   "outputs": [
    {
     "data": {
      "image/png": "[encoded data removed]",
      "text/plain": [
       "<ROOT.TCanvas object (\"icanvas\") at 0x7fa1b0756f00>"
      ]
     },
     "execution_count": 22,
     "metadata": {},
     "output_type": "execute_result"
    },
    {
     "name": "stdout",
     "output_type": "stream",
     "text": [
      "[#1] INFO:InputArguments -- RooAbsData::plotOn(0tag_bkg_nonHiggs) INFO: dataset has non-integer weights, auto-selecting SumW2 errors instead of Poisson errors\n",
      "[#1] INFO:Plotting -- RooAbsPdf::plotOn(full_bkg_pdf) directly selected PDF components: (bkg_fit_fixed)\n",
      "[#1] INFO:Plotting -- RooAbsPdf::plotOn(full_bkg_pdf) indirectly selected PDF components: ()\n",
      "[#1] INFO:Plotting -- RooAbsPdf::plotOn(full_bkg_pdf) directly selected PDF components: (dscb_1h_fixed)\n",
      "[#1] INFO:Plotting -- RooAbsPdf::plotOn(full_bkg_pdf) indirectly selected PDF components: ()\n"
     ]
    },
    {
     "name": "stderr",
     "output_type": "stream",
     "text": [
      "INFO:ROOT.TCanvas.Print] png file /var/folders/0d/3d7wlbr14zn3_l2ctx0r1jdw0000gn/T/tmpOeZFrs.png has been created\n"
     ]
    }
   ],
   "source": [
    "frame = myy.frame()\n",
    "combined_data.plotOn(frame)\n",
    "#dh_bkg_noH.plotOn(frame)\n",
    "#exp_function.plotOn(frame)\n",
    "#dh_bkg_1H.plotOn(frame)\n",
    "#dscb_1h.plotOn(frame)\n",
    "\n",
    "full_bkg.plotOn(frame)\n",
    "full_bkg.plotOn(frame, ROOT.RooFit.Components('bkg_fit_fixed'), ROOT.RooFit.LineStyle(ROOT.kDashed))\n",
    "full_bkg.plotOn(frame, ROOT.RooFit.Components('dscb_1h_fixed'), ROOT.RooFit.LineStyle(ROOT.kDashed), ROOT.RooFit.LineColor(ROOT.kRed))\n",
    "\n",
    "frame.Draw()\n",
    "c1.SetLogy(False)\n",
    "c1"
   ]
  },
  {
   "cell_type": "markdown",
   "metadata": {},
   "source": [
    "# Insert Gaussian constraint on a variable in the model"
   ]
  },
  {
   "cell_type": "markdown",
   "metadata": {},
   "source": [
    "Check out: https://root.cern.ch/root/html/tutorials/roofit/rf604_constraints.C.html"
   ]
  },
  {
   "cell_type": "code",
   "execution_count": 23,
   "metadata": {
    "collapsed": true
   },
   "outputs": [],
   "source": [
    "# -- introduce the nuisance parameter theta and its gaussian distribution\n",
    "theta = ROOT.RooRealVar(\"theta\", \"nuisance param\", -10, 10) # variable definition\n",
    "theta_0 = ROOT.RooRealVar(\"theta_global\", \"global value of nuisance param\", 0) # global observable, fixed value\n",
    "theta_constraint = ROOT.RooGaussian(\"theta_constraint\", \"theta_constraint\", theta, theta_0, rf.RooConst(1))"
   ]
  },
  {
   "cell_type": "markdown",
   "metadata": {},
   "source": [
    "Theta affects the yield of the 1-Higgs background:\n",
    "$$\\text{PDF} = (n_{noH} * f_{\\text{exp}} + n_{1H}(1 + 0.3*\\theta) * f_{\\text{DSCB}} + \\mu * n_{2H} * f_{\\text{DSCB}}) * Gauss(\\theta; \\theta_0, 1)$$\n",
    "where $\\theta_0$ is a global observable."
   ]
  },
  {
   "cell_type": "code",
   "execution_count": 24,
   "metadata": {
    "collapsed": false
   },
   "outputs": [],
   "source": [
    "_product = ROOT.RooProduct(\"xxx\", \"xxx\", ROOT.RooArgList(rf.RooConst(0.0003), theta))"
   ]
  },
  {
   "cell_type": "code",
   "execution_count": 25,
   "metadata": {
    "collapsed": false
   },
   "outputs": [],
   "source": [
    "n_1h_coeff = ROOT.RooAddition(\n",
    "    \"n_1h_coeff\", \"n_1h_coeff\", ROOT.RooArgList(\n",
    "        rf.RooConst(1),\n",
    "        _product\n",
    "    )\n",
    ")"
   ]
  },
  {
   "cell_type": "code",
   "execution_count": 26,
   "metadata": {
    "collapsed": true
   },
   "outputs": [],
   "source": [
    "n_1h_prod = ROOT.RooProduct(\n",
    "    \"n_1h_prod\", \"n_1h_prod\", ROOT.RooArgList(n_1h, n_1h_coeff)\n",
    ")"
   ]
  },
  {
   "cell_type": "code",
   "execution_count": 27,
   "metadata": {
    "collapsed": true
   },
   "outputs": [],
   "source": [
    "mu_2h_signal_strength = ROOT.RooRealVar(\"mu_2h_signal_strength\", \"double higgs signal strength\", 1, 0, 5) # is the range ok?\n",
    "n_2h = ROOT.RooRealVar(\"n_2h\", \"expected number of 2 Higgs signal events\", 1) # get this from the cutflow\n",
    "n_2h_times_mu = ROOT.RooProduct(\n",
    "        \"n_2h_times_mu\", \"n_2h * mu_2h\", ROOT.RooArgList(n_2h, mu_2h_signal_strength)\n",
    ")\n",
    "pdf_2h = dscb_1h_fixed # for now, same as single higgs pdf (but m0 and sigma should be able to vary)"
   ]
  },
  {
   "cell_type": "code",
   "execution_count": 28,
   "metadata": {
    "collapsed": false
   },
   "outputs": [],
   "source": [
    "# n_1h = ROOT.RooRealVar(\"n_1h\", \"expected number of 1 Higgs bkg events\", 69, 0, 14069) \n",
    "# n_noh = ROOT.RooRealVar(\"n_noh\", \"expected number of non Higgs bkg events\", 14000, 0, 20000)\n",
    "# theta = ROOT.RooRealVar(\"theta\", \"nuisance param\", -10, 10)\n",
    "# theta_constraint = ROOT.RooGaussian(\"theta_constraint\", \"theta_constraint\", theta, rf.RooConst(0), rf.RooConst(1))\n",
    "\n",
    "full_model = ROOT.RooAddPdf('full_model', 'Full model PDF',\n",
    "                    ROOT.RooArgList(exp_function_fixed, dscb_1h_fixed, pdf_2h),\n",
    "                    ROOT.RooArgList(n_noh, n_1h_prod, n_2h_times_mu)\n",
    ")"
   ]
  },
  {
   "cell_type": "code",
   "execution_count": 29,
   "metadata": {
    "collapsed": true
   },
   "outputs": [],
   "source": [
    "constrained_model = ROOT.RooProdPdf('constrained_model', 'Full PDF with theta constraint',\n",
    "                    ROOT.RooArgList(full_model, theta_constraint)\n",
    ")"
   ]
  },
  {
   "cell_type": "code",
   "execution_count": 30,
   "metadata": {
    "collapsed": false
   },
   "outputs": [
    {
     "data": {
      "text/plain": [
       "<ROOT.RooFitResult object at 0x0>"
      ]
     },
     "execution_count": 30,
     "metadata": {},
     "output_type": "execute_result"
    },
    {
     "name": "stdout",
     "output_type": "stream",
     "text": [
      "[#1] INFO:Minization -- p.d.f. provides expected number of events, including extended term in likelihood.\n",
      "[#1] INFO:Minization --  Including the following contraint terms in minimization: (theta_constraint)\n",
      "[#1] INFO:Fitting -- RooAddition::defaultErrorLevel(nll_constrained_model_0tag_bkg_nonHiggs_with_constr) Summation contains a RooNLLVar, using its error level\n",
      "[#1] INFO:Minization -- RooMinimizer::optimizeConst: activating const optimization\n",
      "[#1] INFO:Minization --  The following expressions have been identified as constant and will be precalculated and cached: (bkg_fit_fixed)\n",
      "[#1] INFO:Minization --  The following expressions will be evaluated in cache-and-track mode: (dscb_1h_fixed)\n",
      " **********\n",
      " **    1 **SET PRINT           1\n",
      " **********\n",
      " **********\n",
      " **    2 **SET NOGRAD\n",
      " **********\n",
      " PARAMETER DEFINITIONS:\n",
      "    NO.   NAME         VALUE      STEP SIZE      LIMITS\n",
      "     1 m0_cb        1.24842e+02  7.20922e-01    1.05000e+02  1.60000e+02\n",
      "     2 mu_2h_signal_strength   1.00000e+00  5.00000e-01    0.00000e+00  5.00000e+00\n",
      "     3 n_noh        1.40814e+04  8.67325e+01    0.00000e+00  2.00000e+04\n",
      "     4 sigma_cb     2.10289e+00  4.20312e-01    0.00000e+00  2.00000e+03\n",
      "     5 theta        0.00000e+00  2.00000e+00   -1.00000e+01  1.00000e+01\n",
      " **********\n",
      " **    3 **SET ERR         0.5\n",
      " **********\n",
      " **********\n",
      " **    4 **SET PRINT           1\n",
      " **********\n",
      " **********\n",
      " **    5 **SET STR           1\n",
      " **********\n",
      " NOW USING STRATEGY  1: TRY TO BALANCE SPEED AGAINST RELIABILITY\n",
      " **********\n",
      " **    6 **MIGRAD        2500           1\n",
      " **********\n",
      " FIRST CALL TO USER FUNCTION AT NEW START POINT, WITH IFLAG=4.\n",
      " START MIGRAD MINIMIZATION.  STRATEGY  1.  CONVERGENCE WHEN EDM .LT. 1.00e-03\n",
      " FCN=-65563 FROM MIGRAD    STATUS=INITIATE       20 CALLS          21 TOTAL\n",
      "                     EDM= unknown      STRATEGY= 1      NO ERROR MATRIX       \n",
      "  EXT PARAMETER               CURRENT GUESS       STEP         FIRST   \n",
      "  NO.   NAME      VALUE            ERROR          SIZE      DERIVATIVE \n",
      "   1  m0_cb        1.24842e+02   7.20922e-01   2.72994e-02   1.18778e-02\n",
      "   2  mu_2h_signal_strength   1.00000e+00   5.00000e-01   2.57889e-01   2.09628e-02\n",
      "   3  n_noh        1.40814e+04   8.67325e+01   9.50079e-03   6.77898e-01\n",
      "   4  sigma_cb     2.10289e+00   4.20312e-01   6.51744e-03  -4.88557e-01\n",
      "   5  theta        0.00000e+00   2.00000e+00   2.01358e-01   2.20067e-03\n",
      "                               ERR DEF= 0.5\n",
      " MIGRAD MINIMIZATION HAS CONVERGED.\n",
      " MIGRAD WILL VERIFY CONVERGENCE AND ERROR MATRIX.\n",
      " COVARIANCE MATRIX CALCULATED SUCCESSFULLY\n",
      " FCN=-65563 FROM MIGRAD    STATUS=CONVERGED      82 CALLS          83 TOTAL\n",
      "                     EDM=5.67608e-06    STRATEGY= 1      ERROR MATRIX ACCURATE \n",
      "  EXT PARAMETER                                   STEP         FIRST   \n",
      "  NO.   NAME      VALUE            ERROR          SIZE      DERIVATIVE \n",
      "   1  m0_cb        1.24842e+02   1.23730e+00   8.28267e-03  -1.28763e-02\n",
      "   2  mu_2h_signal_strength   1.73201e-05   2.50041e+00   5.00000e-01   9.47669e-05\n",
      "   3  n_noh        1.40814e+04   1.19002e+02   2.30346e-03   4.46173e-02\n",
      "   4  sigma_cb     2.10305e+00   5.87787e-01   1.60417e-03   2.37239e-01\n",
      "   5  theta       -2.14592e-04   9.98386e-01   1.76823e-02  -3.55295e-05\n",
      "                               ERR DEF= 0.5\n",
      " EXTERNAL ERROR MATRIX.    NDIM=  25    NPAR=  5    ERR DEF=0.5\n",
      "  1.532e+00 -5.110e-04  1.854e-01  4.622e-03 -4.563e-05 \n",
      " -5.110e-04  3.451e-03 -2.218e-01  3.585e-04 -1.704e-06 \n",
      "  1.854e-01 -2.218e-01  1.416e+04 -1.293e-01 -1.983e-02 \n",
      "  4.622e-03  3.585e-04 -1.293e-01  3.455e-01  3.185e-05 \n",
      " -4.563e-05 -1.704e-06 -1.983e-02  3.185e-05  1.000e+00 \n",
      " PARAMETER  CORRELATION COEFFICIENTS  \n",
      "       NO.  GLOBAL      1      2      3      4      5\n",
      "        1  0.00958   1.000 -0.007  0.001  0.006 -0.000\n",
      "        2  0.03410  -0.007  1.000 -0.032  0.010 -0.000\n",
      "        3  0.03178   0.001 -0.032  1.000 -0.002 -0.000\n",
      "        4  0.01231   0.006  0.010 -0.002  1.000  0.000\n",
      "        5  0.00018  -0.000 -0.000 -0.000  0.000  1.000\n",
      " **********\n",
      " **    7 **SET ERR         0.5\n",
      " **********\n",
      " **********\n",
      " **    8 **SET PRINT           1\n",
      " **********\n",
      " **********\n",
      " **    9 **HESSE        2500\n",
      " **********\n",
      " COVARIANCE MATRIX CALCULATED SUCCESSFULLY\n",
      " FCN=-65563 FROM HESSE     STATUS=OK             31 CALLS         114 TOTAL\n",
      "                     EDM=5.63084e-06    STRATEGY= 1      ERROR MATRIX ACCURATE \n",
      "  EXT PARAMETER                                INTERNAL      INTERNAL  \n",
      "  NO.   NAME      VALUE            ERROR       STEP SIZE       VALUE   \n",
      "   1  m0_cb        1.24842e+02   1.23556e+00   3.31307e-04  -2.82218e-01\n",
      "   2  mu_2h_signal_strength   1.73201e-05   2.50027e+00   1.00000e-01  -1.56707e+00\n",
      "   3  n_noh        1.40814e+04   1.18945e+02   9.21383e-05   4.20411e-01\n",
      "   4  sigma_cb     2.10305e+00   5.84396e-01   6.41668e-05  -1.50593e+00\n",
      "   5  theta       -2.14592e-04   9.98336e-01   3.53646e-03  -2.14592e-05\n",
      "                               ERR DEF= 0.5\n",
      " EXTERNAL ERROR MATRIX.    NDIM=  25    NPAR=  5    ERR DEF=0.5\n",
      "  1.528e+00 -3.258e-05  4.628e-02  3.543e-03 -1.365e-05 \n",
      " -3.258e-05  3.400e-03 -4.733e-02  1.126e-04 -3.548e-07 \n",
      "  4.628e-02 -4.733e-02  1.415e+04 -1.599e-01 -1.997e-02 \n",
      "  3.543e-03  1.126e-04 -1.599e-01  3.415e-01  4.755e-05 \n",
      " -1.365e-05 -3.548e-07 -1.997e-02  4.755e-05  1.000e+00 \n",
      " PARAMETER  CORRELATION COEFFICIENTS  \n",
      "       NO.  GLOBAL      1      2      3      4      5\n",
      "        1  0.00494   1.000 -0.000  0.000  0.005 -0.000\n",
      "        2  0.00759  -0.000  1.000 -0.007  0.003 -0.000\n",
      "        3  0.00720   0.000 -0.007  1.000 -0.002 -0.000\n",
      "        4  0.00634   0.005  0.003 -0.002  1.000  0.000\n",
      "        5  0.00019  -0.000 -0.000 -0.000  0.000  1.000\n",
      "[#1] INFO:Fitting -- RooAbsPdf::fitTo(constrained_model) Calculating sum-of-weights-squared correction matrix for covariance matrix\n",
      " **********\n",
      " **   10 **SET ERR         0.5\n",
      " **********\n",
      " **********\n",
      " **   11 **SET PRINT           1\n",
      " **********\n",
      " **********\n",
      " **   12 **HESSE        2500\n",
      " **********\n",
      " COVARIANCE MATRIX CALCULATED SUCCESSFULLY\n",
      " FCN=-34961.1 FROM HESSE     STATUS=OK             39 CALLS         153 TOTAL\n",
      "                     EDM=0.116239    STRATEGY= 1      ERROR MATRIX ACCURATE \n",
      "  EXT PARAMETER                                INTERNAL      INTERNAL  \n",
      "  NO.   NAME      VALUE            ERROR       STEP SIZE       VALUE   \n",
      "   1  m0_cb        1.24842e+02   2.11766e+00   6.75866e-03  -2.82218e-01\n",
      "   2  mu_2h_signal_strength   1.73201e-05   4.21698e+00   5.00000e-01  -1.56707e+00\n",
      "   3  n_noh        1.40814e+04   1.63136e+02   1.87962e-03   4.20411e-01\n",
      "   4  sigma_cb     2.10305e+00   8.12727e-01   1.30900e-03  -1.50593e+00\n",
      "   5  theta       -2.14592e-04   9.98334e-01   7.07292e-04  -2.14592e-05\n",
      "                               ERR DEF= 0.5\n",
      " EXTERNAL ERROR MATRIX.    NDIM=  25    NPAR=  5    ERR DEF=0.5\n",
      "  4.494e+00 -1.149e-03  1.444e+00 -3.232e-02 -2.190e-04 \n",
      " -1.149e-03  1.626e-03 -1.019e-01  4.564e-04 -3.112e-07 \n",
      "  1.444e+00 -1.019e-01  2.662e+04 -5.721e-01 -1.942e-02 \n",
      " -3.232e-02  4.564e-04 -5.721e-01  6.606e-01  8.678e-05 \n",
      " -2.190e-04 -3.112e-07 -1.942e-02  8.678e-05  1.000e+00 \n",
      " PARAMETER  CORRELATION COEFFICIENTS  \n",
      "       NO.  GLOBAL      1      2      3      4      5\n",
      "        1  0.02326   1.000 -0.013  0.004 -0.019 -0.000\n",
      "        2  0.02458  -0.013  1.000 -0.015  0.014 -0.000\n",
      "        3  0.01649   0.004 -0.015  1.000 -0.004 -0.000\n",
      "        4  0.02356  -0.019  0.014 -0.004  1.000  0.000\n",
      "        5  0.00019  -0.000 -0.000 -0.000  0.000  1.000\n",
      "[#1] INFO:Minization -- RooMinimizer::optimizeConst: deactivating const optimization\n"
     ]
    }
   ],
   "source": [
    "constrained_model.fitTo(combined_data, rf.Constrain(ROOT.RooArgSet(theta)), rf.SumW2Error(ROOT.kTRUE))"
   ]
  },
  {
   "cell_type": "code",
   "execution_count": 31,
   "metadata": {
    "collapsed": false
   },
   "outputs": [
    {
     "data": {
      "image/png": "[encoded data removed]",
      "text/plain": [
       "<ROOT.TCanvas object (\"icanvas\") at 0x7fa1b0756f00>"
      ]
     },
     "execution_count": 31,
     "metadata": {},
     "output_type": "execute_result"
    },
    {
     "name": "stdout",
     "output_type": "stream",
     "text": [
      "[#1] INFO:InputArguments -- RooAbsData::plotOn(0tag_bkg_nonHiggs) INFO: dataset has non-integer weights, auto-selecting SumW2 errors instead of Poisson errors\n",
      "[#1] INFO:Plotting -- RooAbsPdf::plotOn(constrained_model) directly selected PDF components: (bkg_fit_fixed)\n",
      "[#1] INFO:Plotting -- RooAbsPdf::plotOn(constrained_model) indirectly selected PDF components: (full_model)\n",
      "[#1] INFO:Plotting -- RooAbsPdf::plotOn(constrained_model) directly selected PDF components: (dscb_1h_fixed)\n",
      "[#1] INFO:Plotting -- RooAbsPdf::plotOn(constrained_model) indirectly selected PDF components: (full_model)\n"
     ]
    },
    {
     "name": "stderr",
     "output_type": "stream",
     "text": [
      "INFO:ROOT.TCanvas.Print] png file /var/folders/0d/3d7wlbr14zn3_l2ctx0r1jdw0000gn/T/tmp_bpFOq.png has been created\n"
     ]
    }
   ],
   "source": [
    "frame = myy.frame()\n",
    "combined_data.plotOn(frame)\n",
    "#dh_bkg_noH.plotOn(frame)\n",
    "#exp_function.plotOn(frame)\n",
    "#dh_bkg_1H.plotOn(frame)\n",
    "#dscb_1h.plotOn(frame)\n",
    "\n",
    "constrained_model.plotOn(frame)\n",
    "constrained_model.plotOn(frame, ROOT.RooFit.Components('bkg_fit_fixed'), ROOT.RooFit.LineStyle(ROOT.kDashed))\n",
    "constrained_model.plotOn(frame, ROOT.RooFit.Components('dscb_1h_fixed'), ROOT.RooFit.LineStyle(ROOT.kDashed), ROOT.RooFit.LineColor(ROOT.kRed))\n",
    "\n",
    "\n",
    "frame.Draw()\n",
    "c1.SetLogy(False)\n",
    "c1"
   ]
  },
  {
   "cell_type": "markdown",
   "metadata": {},
   "source": [
    "# Create Workspace and import everything"
   ]
  },
  {
   "cell_type": "code",
   "execution_count": 32,
   "metadata": {
    "collapsed": false
   },
   "outputs": [],
   "source": [
    "w = ROOT.RooWorkspace('w')"
   ]
  },
  {
   "cell_type": "code",
   "execution_count": 33,
   "metadata": {
    "collapsed": false
   },
   "outputs": [
    {
     "data": {
      "text/plain": [
       "False"
      ]
     },
     "execution_count": 33,
     "metadata": {},
     "output_type": "execute_result"
    },
    {
     "name": "stdout",
     "output_type": "stream",
     "text": [
      "[#1] INFO:ObjectHandling -- RooWorkspace::import(w) importing RooProdPdf::constrained_model\n",
      "[#1] INFO:ObjectHandling -- RooWorkspace::import(w) importing RooAddPdf::full_model\n",
      "[#1] INFO:ObjectHandling -- RooWorkspace::import(w) importing RooExponential::bkg_fit_fixed\n",
      "[#1] INFO:ObjectHandling -- RooWorkspace::import(w) importing RooRealVar::myy\n",
      "[#1] INFO:ObjectHandling -- RooWorkspace::import(w) importing RooRealVar::c0_bkg_fixed\n",
      "[#1] INFO:ObjectHandling -- RooWorkspace::import(w) importing RooRealVar::n_noh\n",
      "[#1] INFO:ObjectHandling -- RooWorkspace::import(w) importing HggTwoSidedCBPdf::dscb_1h_fixed\n",
      "[#1] INFO:ObjectHandling -- RooWorkspace::import(w) importing RooRealVar::m0_cb\n",
      "[#1] INFO:ObjectHandling -- RooWorkspace::import(w) importing RooRealVar::sigma_cb\n",
      "[#1] INFO:ObjectHandling -- RooWorkspace::import(w) importing RooRealVar::alphaLo_cb_fixed\n",
      "[#1] INFO:ObjectHandling -- RooWorkspace::import(w) importing RooRealVar::nLo_cb_fixed\n",
      "[#1] INFO:ObjectHandling -- RooWorkspace::import(w) importing RooRealVar::alphaHi_cb_fixed\n",
      "[#1] INFO:ObjectHandling -- RooWorkspace::import(w) importing RooRealVar::nHi_cb_fixed\n",
      "[#1] INFO:ObjectHandling -- RooWorkspace::import(w) importing RooProduct::n_1h_prod\n",
      "[#1] INFO:ObjectHandling -- RooWorkspace::import(w) importing RooRealVar::n_1h\n",
      "[#1] INFO:ObjectHandling -- RooWorkspace::import(w) importing RooAddition::n_1h_coeff\n",
      "[#1] INFO:ObjectHandling -- RooWorkspace::import(w) importing RooConstVar::1\n",
      "[#1] INFO:ObjectHandling -- RooWorkspace::import(w) importing RooProduct::xxx\n",
      "[#1] INFO:ObjectHandling -- RooWorkspace::import(w) importing RooConstVar::0.0003\n",
      "[#1] INFO:ObjectHandling -- RooWorkspace::import(w) importing RooRealVar::theta\n",
      "[#1] INFO:ObjectHandling -- RooWorkspace::import(w) importing RooProduct::n_2h_times_mu\n",
      "[#1] INFO:ObjectHandling -- RooWorkspace::import(w) importing RooRealVar::n_2h\n",
      "[#1] INFO:ObjectHandling -- RooWorkspace::import(w) importing RooRealVar::mu_2h_signal_strength\n",
      "[#1] INFO:ObjectHandling -- RooWorkspace::import(w) importing RooGaussian::theta_constraint\n",
      "[#1] INFO:ObjectHandling -- RooWorkspace::import(w) importing RooRealVar::theta_global\n"
     ]
    }
   ],
   "source": [
    "getattr(w,'import')(constrained_model)"
   ]
  },
  {
   "cell_type": "code",
   "execution_count": 34,
   "metadata": {
    "collapsed": false,
    "scrolled": false
   },
   "outputs": [
    {
     "name": "stdout",
     "output_type": "stream",
     "text": [
      "\n",
      "RooWorkspace(w) w contents\n",
      "\n",
      "variables\n",
      "---------\n",
      "(alphaHi_cb_fixed,alphaLo_cb_fixed,c0_bkg_fixed,m0_cb,mu_2h_signal_strength,myy,nHi_cb_fixed,nLo_cb_fixed,n_1h,n_2h,n_noh,sigma_cb,theta,theta_global)\n",
      "\n",
      "p.d.f.s\n",
      "-------\n",
      "RooExponential::bkg_fit_fixed[ x=myy c=c0_bkg_fixed ] = 0.0303208\n",
      "RooProdPdf::constrained_model[ full_model * theta_constraint ] = 0.0302058\n",
      "HggTwoSidedCBPdf::dscb_1h_fixed[ m=myy m0=m0_cb sigma=sigma_cb alphaLo=alphaLo_cb_fixed nLo=nLo_cb_fixed alphaHi=alphaHi_cb_fixed nHi=nHi_cb_fixed ] = 0.00673651\n",
      "RooAddPdf::full_model[ n_noh * bkg_fit_fixed + n_1h_prod * dscb_1h_fixed + n_2h_times_mu * dscb_1h_fixed ] = 0.0302058\n",
      "RooGaussian::theta_constraint[ x=theta mean=theta_global sigma=1 ] = 1\n",
      "\n",
      "functions\n",
      "--------\n",
      "RooAddition::n_1h_coeff[ 1 + xxx ] = 1\n",
      "RooProduct::n_1h_prod[ n_1h * n_1h_coeff ] = 69\n",
      "RooProduct::n_2h_times_mu[ n_2h * mu_2h_signal_strength ] = 1.73201e-05\n",
      "RooProduct::xxx[ 0.0003 * theta ] = -6.43776e-08\n",
      "\n"
     ]
    }
   ],
   "source": [
    "w.Print()"
   ]
  },
  {
   "cell_type": "code",
   "execution_count": 35,
   "metadata": {
    "collapsed": true
   },
   "outputs": [],
   "source": [
    "import ROOT.RooStats as rs"
   ]
  },
  {
   "cell_type": "code",
   "execution_count": 36,
   "metadata": {
    "collapsed": true
   },
   "outputs": [],
   "source": [
    "mconfig = rs.ModelConfig(w)"
   ]
  },
  {
   "cell_type": "code",
   "execution_count": 37,
   "metadata": {
    "collapsed": false
   },
   "outputs": [],
   "source": [
    "mconfig.SetPdf(w.pdf(\"constrained_model\"))\n",
    "mconfig.SetParametersOfInterest(ROOT.RooArgSet(w.var(\"mu_2h_signal_strength\")))\n",
    "mconfig.SetObservables(ROOT.RooArgSet(w.var(\"myy\")))#w.var(\"n_1h\"), w.var(\"n_2h\"), w.var(\"n_noh\")))\n",
    "mconfig.SetNuisanceParameters(ROOT.RooArgSet(w.var(\"theta\")))\n",
    "\n",
    "mconfig.SetSnapshot(ROOT.RooArgSet(w.var(\"mu_2h_signal_strength\"))) # not sure why this is needed\n",
    "mconfig.SetGlobalObservables(ROOT.RooArgSet(w.var(\"theta_global\")))"
   ]
  },
  {
   "cell_type": "code",
   "execution_count": 38,
   "metadata": {
    "collapsed": false
   },
   "outputs": [
    {
     "name": "stdout",
     "output_type": "stream",
     "text": [
      "\n",
      "=== Using the following for  ===\n",
      "Observables:             RooArgSet:: = (myy)\n",
      "Parameters of Interest:  RooArgSet:: = (mu_2h_signal_strength)\n",
      "Nuisance Parameters:     RooArgSet:: = (theta)\n",
      "Global Observables:      RooArgSet:: = (theta_global)\n",
      "PDF:                     RooProdPdf::constrained_model[ full_model * theta_constraint ] = 0.0302058\n",
      "Snapshot:                \n",
      "  1) 0x7fa1b1f87c30 RooRealVar:: mu_2h_signal_strength = 1.73201e-05 +/- 0.084332  L(0 - 5)  \"double higgs signal strength\"\n",
      "\n"
     ]
    }
   ],
   "source": [
    "mconfig.Print()"
   ]
  },
  {
   "cell_type": "markdown",
   "metadata": {},
   "source": [
    "# Profile Likelihood Calculator"
   ]
  },
  {
   "cell_type": "code",
   "execution_count": 39,
   "metadata": {
    "collapsed": false
   },
   "outputs": [],
   "source": [
    "pl = rs.ProfileLikelihoodCalculator(combined_data, mconfig)"
   ]
  },
  {
   "cell_type": "code",
   "execution_count": 40,
   "metadata": {
    "collapsed": true
   },
   "outputs": [],
   "source": [
    "pl.SetConfidenceLevel(0.683)"
   ]
  },
  {
   "cell_type": "code",
   "execution_count": 41,
   "metadata": {
    "collapsed": false
   },
   "outputs": [
    {
     "name": "stdout",
     "output_type": "stream",
     "text": [
      "[#1] INFO:Minization -- p.d.f. provides expected number of events, including extended term in likelihood.\n",
      "[#1] INFO:Minization --  Including the following contraint terms in minimization: (theta_constraint)\n",
      "[#0] PROGRESS:Minization -- ProfileLikelihoodCalcultor::DoGLobalFit - find MLE \n",
      "[#0] PROGRESS:Minization -- ProfileLikelihoodCalcultor::DoMinimizeNLL - using Minuit / Migrad with strategy 1\n",
      "[#1] INFO:Fitting -- RooAddition::defaultErrorLevel(nll_constrained_model_0tag_bkg_nonHiggs_with_constr) Summation contains a RooNLLVar, using its error level\n",
      "[#1] INFO:Minization -- RooMinimizer::optimizeConst: activating const optimization\n",
      "[#1] INFO:Minization --  The following expressions have been identified as constant and will be precalculated and cached: (bkg_fit_fixed)\n",
      "[#1] INFO:Minization --  The following expressions will be evaluated in cache-and-track mode: (dscb_1h_fixed)\n",
      "[#1] INFO:Minization -- \n",
      "  RooFitResult: minimized FCN value: -65563, estimated distance to minimum: 9.32252e-07\n",
      "                covariance matrix quality: Full, accurate covariance matrix\n",
      "                Status : MINIMIZE=0 \n",
      "\n",
      "    Floating Parameter    FinalValue +/-  Error   \n",
      "  --------------------  --------------------------\n",
      "                 m0_cb    1.2484e+02 +/-  1.28e+00\n",
      "  mu_2h_signal_strength    2.2971e-07 +/-  2.65e+00\n",
      "                 n_noh    1.4085e+04 +/-  1.20e+02\n",
      "              sigma_cb    2.0932e+00 +/-  6.04e-01\n",
      "                 theta   -1.8297e-01 +/-  9.30e-01\n",
      "\n"
     ]
    }
   ],
   "source": [
    "interval = pl.GetInterval()"
   ]
  },
  {
   "cell_type": "markdown",
   "metadata": {},
   "source": [
    "I don't think this makes much sense. Apparently we should be using Toy MC or Asimov Dataset."
   ]
  },
  {
   "cell_type": "markdown",
   "metadata": {},
   "source": [
    "# Asimov Dataset"
   ]
  },
  {
   "cell_type": "code",
   "execution_count": 41,
   "metadata": {
    "collapsed": false
   },
   "outputs": [],
   "source": [
    "#RooAbsData * asimov = AsymptoticCalculator::MakeAsimovData(data, mc, RooArgSet(*w.var(\"a\"),*w.var(\"b\")), RooArgSet());"
   ]
  },
  {
   "cell_type": "code",
   "execution_count": 39,
   "metadata": {
    "collapsed": false
   },
   "outputs": [
    {
     "name": "stdout",
     "output_type": "stream",
     "text": [
      "MakeAsimov: Setting poi mu_2h_signal_strength to a constant value = 1.73201e-05\n",
      "MakeAsimov: doing a conditional fit for finding best nuisance values \n",
      " **********\n",
      " **    1 **SET PRINT           0\n",
      " **********\n",
      " **********\n",
      " **    2 **SET NOGRAD\n",
      " **********\n",
      " PARAMETER DEFINITIONS:\n",
      "    NO.   NAME         VALUE      STEP SIZE      LIMITS\n",
      "     1 m0_cb        1.24842e+02  7.20919e-01    1.05000e+02  1.60000e+02\n",
      "     2 n_noh        1.40814e+04  8.67261e+01    0.00000e+00  2.00000e+04\n",
      "     3 sigma_cb     2.10305e+00  4.20332e-01    0.00000e+00  2.00000e+03\n",
      "     4 theta       -2.14592e-04  1.00000e+00   -1.00000e+01  1.00000e+01\n",
      " **********\n",
      " **    3 **SET ERR         0.5\n",
      " **********\n",
      " **********\n",
      " **    4 **SET PRINT           0\n",
      " **********\n",
      " **********\n",
      " **    5 **SET STR           1\n",
      " **********\n",
      " **********\n",
      " **    6 **MIGRAD        2000           1\n",
      " **********\n",
      " MIGRAD MINIMIZATION HAS CONVERGED.\n",
      " FCN=-65563 FROM MIGRAD    STATUS=CONVERGED      63 CALLS          64 TOTAL\n",
      "                     EDM=7.43071e-08    STRATEGY= 1  ERROR MATRIX UNCERTAINTY   0.1 per cent\n",
      "  EXT PARAMETER                                   STEP         FIRST   \n",
      "  NO.   NAME      VALUE            ERROR          SIZE      DERIVATIVE \n",
      "   1  m0_cb        1.24842e+02   1.23145e+00   2.76112e-05   2.14278e-03\n",
      "   2  n_noh        1.40813e+04   1.19115e+02  -7.52330e-06  -2.27139e-03\n",
      "   3  sigma_cb     2.10179e+00   5.46643e-01  -1.94615e-05  -4.09955e-02\n",
      "   4  theta       -2.11081e-04   9.98360e-01   3.51078e-07   7.69081e-07\n",
      "                               ERR DEF= 0.5\n",
      "fit time Real time 0:00:00, CP time 0.010\n",
      "RooDataSet::AsimovData[myy,weight:binWeightAsimov] = 22 entries (14147.8 weighted)\n",
      "Generated Asimov data for observables RooArgSet:: = (myy)\n",
      "Generated Asimov data for global observables RooArgSet:: = (theta_global)\n"
     ]
    }
   ],
   "source": [
    "asimov = rs.AsymptoticCalculator.MakeAsimovData(\n",
    "    combined_data,\n",
    "    mconfig,\n",
    "    ROOT.RooArgSet(w.var(\"mu_2h_signal_strength\")),\n",
    "    ROOT.RooArgSet(w.var(\"theta_global\"))\n",
    ")"
   ]
  },
  {
   "cell_type": "code",
   "execution_count": 40,
   "metadata": {
    "collapsed": false
   },
   "outputs": [
    {
     "data": {
      "image/png": "[encoded data removed]",
      "text/plain": [
       "<ROOT.TCanvas object (\"icanvas\") at 0x7fa1b0756f00>"
      ]
     },
     "execution_count": 40,
     "metadata": {},
     "output_type": "execute_result"
    },
    {
     "name": "stdout",
     "output_type": "stream",
     "text": [
      "[#1] INFO:InputArguments -- RooAbsData::plotOn(AsimovData) INFO: dataset has non-integer weights, auto-selecting SumW2 errors instead of Poisson errors\n"
     ]
    },
    {
     "name": "stderr",
     "output_type": "stream",
     "text": [
      "INFO:ROOT.TCanvas.Print] png file /var/folders/0d/3d7wlbr14zn3_l2ctx0r1jdw0000gn/T/tmpB1Z_mt.png has been created\n"
     ]
    }
   ],
   "source": [
    "frame = myy.frame()\n",
    "asimov.plotOn(frame)\n",
    "frame.Draw()\n",
    "c1"
   ]
  },
  {
   "cell_type": "code",
   "execution_count": null,
   "metadata": {
    "collapsed": true
   },
   "outputs": [],
   "source": []
  },
  {
   "cell_type": "code",
   "execution_count": null,
   "metadata": {
    "collapsed": true
   },
   "outputs": [],
   "source": []
  }
 ],
 "metadata": {
  "kernelspec": {
   "display_name": "Python 2",
   "language": "python",
   "name": "python2"
  },
  "language_info": {
   "codemirror_mode": {
    "name": "ipython",
    "version": 2
   },
   "file_extension": ".py",
   "mimetype": "text/x-python",
   "name": "python",
   "nbconvert_exporter": "python",
   "pygments_lexer": "ipython2",
   "version": "2.7.10"
  },
  "latex_envs": {
   "bibliofile": "biblio.bib",
   "cite_by": "apalike",
   "current_citInitial": 1,
   "eqLabelWithNumbers": true,
   "eqNumInitial": 0
  }
 },
 "nbformat": 4,
 "nbformat_minor": 1
}
