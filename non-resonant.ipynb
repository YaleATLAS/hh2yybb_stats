{
 "cells": [
  {
   "cell_type": "markdown",
   "metadata": {
    "deletable": true,
    "editable": true
   },
   "source": [
    "# Start"
   ]
  },
  {
   "cell_type": "code",
   "execution_count": 1,
   "metadata": {
    "collapsed": false,
    "deletable": true,
    "editable": true
   },
   "outputs": [
    {
     "data": {
      "application/javascript": [
       "\n",
       "require(['notebook'],\n",
       "  function() {\n",
       "    IPython.CodeCell.config_defaults.highlight_modes['magic_text/x-c++src'] = {'reg':[/^%%cpp/]};\n",
       "    console.log(\"JupyROOT - %%cpp magic configured\");\n",
       "  }\n",
       ");\n"
      ]
     },
     "metadata": {},
     "output_type": "display_data"
    },
    {
     "name": "stdout",
     "output_type": "stream",
     "text": [
      "Welcome to JupyROOT 6.08/02\n"
     ]
    }
   ],
   "source": [
    "import ROOT\n",
    "import ROOT.RooFit as rf\n",
    "import rootnotes\n",
    "import numpy as np\n",
    "import matplotlib.pyplot as plt\n",
    "from root_numpy import array2tree, hist2array\n",
    "%matplotlib inline"
   ]
  },
  {
   "cell_type": "code",
   "execution_count": 2,
   "metadata": {
    "collapsed": true,
    "deletable": true,
    "editable": true
   },
   "outputs": [],
   "source": [
    "from ROOT import gInterpreter, gSystem"
   ]
  },
  {
   "cell_type": "code",
   "execution_count": 3,
   "metadata": {
    "collapsed": false,
    "deletable": true,
    "editable": true
   },
   "outputs": [
    {
     "data": {
      "text/plain": [
       "0L"
      ]
     },
     "execution_count": 3,
     "metadata": {},
     "output_type": "execute_result"
    }
   ],
   "source": [
    "gInterpreter.ProcessLine('#include \"../56_Hbbyy/inc/HggTwoSidedCBPdf.h\"')"
   ]
  },
  {
   "cell_type": "code",
   "execution_count": 4,
   "metadata": {
    "collapsed": false,
    "deletable": true,
    "editable": true
   },
   "outputs": [
    {
     "data": {
      "text/plain": [
       "0"
      ]
     },
     "execution_count": 4,
     "metadata": {},
     "output_type": "execute_result"
    }
   ],
   "source": [
    "gSystem.Load('../56_Hbbyy/libDH.so')\n",
    "# gSystem.Load('libDH.so')"
   ]
  },
  {
   "cell_type": "code",
   "execution_count": 5,
   "metadata": {
    "collapsed": true,
    "deletable": true,
    "editable": true
   },
   "outputs": [],
   "source": [
    "c1=rootnotes.default_canvas()"
   ]
  },
  {
   "cell_type": "code",
   "execution_count": 6,
   "metadata": {
    "collapsed": true,
    "deletable": true,
    "editable": true
   },
   "outputs": [],
   "source": [
    "def draw():\n",
    "    ROOT.gROOT.FindObject(\"c1\").Update()\n",
    "    ROOT.gROOT.FindObject(\"c1\").Draw()"
   ]
  },
  {
   "cell_type": "code",
   "execution_count": 6,
   "metadata": {
    "collapsed": true,
    "deletable": true,
    "editable": true
   },
   "outputs": [],
   "source": [
    "branches = [\n",
    "    'HGamEventInfoAuxDyn.yybb_bTagCat',\n",
    "    'HGamEventInfoAuxDyn.m_yy',\n",
    "    'HGamEventInfoAuxDyn.isPassed'\n",
    "]"
   ]
  },
  {
   "cell_type": "code",
   "execution_count": 7,
   "metadata": {
    "collapsed": true,
    "deletable": true,
    "editable": true
   },
   "outputs": [],
   "source": [
    "import pandautils as pup"
   ]
  },
  {
   "cell_type": "code",
   "execution_count": 8,
   "metadata": {
    "collapsed": false,
    "deletable": true,
    "editable": true
   },
   "outputs": [
    {
     "name": "stderr",
     "output_type": "stream",
     "text": [
      "WARNING:ROOT.TClass.Init] no dictionary for class xAOD::EventFormat_v1 is available\n",
      "WARNING:ROOT.TClass.Init] no dictionary for class ElementLinkBase is available\n",
      "WARNING:ROOT.TClass.Init] no dictionary for class SG::AuxElement is available\n",
      "WARNING:ROOT.TClass.Init] no dictionary for class SG::IAuxElement is available\n",
      "WARNING:ROOT.TClass.Init] no dictionary for class xAOD::AuxContainerBase is available\n",
      "WARNING:ROOT.TClass.Init] no dictionary for class xAOD::EventInfo_v1 is available\n",
      "WARNING:ROOT.TClass.Init] no dictionary for class xAOD::EventAuxInfo_v1 is available\n",
      "WARNING:ROOT.TClass.Init] no dictionary for class xAOD::AuxInfoBase is available\n",
      "WARNING:ROOT.TClass.Init] no dictionary for class xAOD::TruthEvent_v1 is available\n",
      "WARNING:ROOT.TClass.Init] no dictionary for class xAOD::TruthEventBase_v1 is available\n",
      "WARNING:ROOT.TClass.Init] no dictionary for class xAOD::Photon_v1 is available\n",
      "WARNING:ROOT.TClass.Init] no dictionary for class xAOD::TruthParticle_v1 is available\n",
      "WARNING:ROOT.TClass.Init] no dictionary for class xAOD::Jet_v1 is available\n",
      "WARNING:ROOT.TClass.Init] no dictionary for class ElementLink<DataVector<xAOD::IParticle> > is available\n",
      "WARNING:ROOT.TClass.Init] no dictionary for class xAOD::Electron_v1 is available\n",
      "WARNING:ROOT.TClass.Init] no dictionary for class xAOD::Muon_v1 is available\n",
      "WARNING:ROOT.TClass.Init] no dictionary for class xAOD::MissingET_v1 is available\n",
      "WARNING:ROOT.TClass.Init] no dictionary for class DataVector<xAOD::MissingET_v1> is available\n",
      "WARNING:ROOT.TClass.Init] no dictionary for class SG::AuxVectorBase is available\n",
      "WARNING:ROOT.TClass.Init] no dictionary for class SG::AuxVectorData is available\n",
      "WARNING:ROOT.TClass.Init] no dictionary for class SG::IAuxStore is available\n",
      "WARNING:ROOT.TClass.Init] no dictionary for class SG::IConstAuxStore is available\n",
      "WARNING:ROOT.TClass.Init] no dictionary for class SG::IAuxStoreIO is available\n",
      "WARNING:ROOT.TClass.Init] no dictionary for class SG::IAuxStoreHolder is available\n",
      "WARNING:ROOT.TClass.Init] no dictionary for class xAOD::Egamma_v1 is available\n",
      "WARNING:ROOT.TClass.Init] no dictionary for class xAOD::IParticle is available\n"
     ]
    }
   ],
   "source": [
    "# sm di-higgs (signal)\n",
    "df = pup.root2panda('mc15c.MGPy8_sm_hh_yybb.MxAODDetailed.p2669.h015.root', 'CollectionTree', branches=branches)"
   ]
  },
  {
   "cell_type": "code",
   "execution_count": 9,
   "metadata": {
    "collapsed": true,
    "deletable": true,
    "editable": true
   },
   "outputs": [],
   "source": [
    "# sm single higgs"
   ]
  },
  {
   "cell_type": "code",
   "execution_count": 10,
   "metadata": {
    "collapsed": true,
    "deletable": true,
    "editable": true
   },
   "outputs": [],
   "source": [
    "# sherpa bkg + templated bkg"
   ]
  },
  {
   "cell_type": "code",
   "execution_count": 11,
   "metadata": {
    "collapsed": false,
    "deletable": true,
    "editable": true
   },
   "outputs": [],
   "source": [
    "tree0 = array2tree(\n",
    "    np.array(df[\"HGamEventInfoAuxDyn.m_yy\"][\n",
    "            np.logical_and(df[\"HGamEventInfoAuxDyn.isPassed\"] == 1, df[\"HGamEventInfoAuxDyn.yybb_bTagCat\"] == 0)\n",
    "        ], dtype=[('m_yy', np.float64)])\n",
    ")\n",
    "tree1 = array2tree(\n",
    "    np.array(df[\"HGamEventInfoAuxDyn.m_yy\"][\n",
    "            np.logical_and(df[\"HGamEventInfoAuxDyn.isPassed\"] == 1, df[\"HGamEventInfoAuxDyn.yybb_bTagCat\"] == 1)\n",
    "        ], dtype=[('m_yy', np.float64)])\n",
    ")\n",
    "tree2 = array2tree(\n",
    "    np.array(df[\"HGamEventInfoAuxDyn.m_yy\"][\n",
    "            np.logical_and(df[\"HGamEventInfoAuxDyn.isPassed\"] == 1, df[\"HGamEventInfoAuxDyn.yybb_bTagCat\"] == 2)\n",
    "        ], dtype=[('m_yy', np.float64)])\n",
    ")"
   ]
  },
  {
   "cell_type": "code",
   "execution_count": 10,
   "metadata": {
    "collapsed": false,
    "deletable": true,
    "editable": true
   },
   "outputs": [
    {
     "name": "stdout",
     "output_type": "stream",
     "text": [
      "[#1] INFO:Eval -- RooTreeDataStore::loadValues(dataset0) Ignored 1 out of range events\n",
      "[#1] INFO:Eval -- RooTreeDataStore::loadValues(dataset1) Ignored 1 out of range events\n"
     ]
    }
   ],
   "source": [
    "# -- create a symbolic variable m_yy with a name and range\n",
    "m_yy = ROOT.RooRealVar(\"m_yy\", \"m_yy\", 105000, 150000)\n",
    "\n",
    "# -- convert from TTree to RooDataSet\n",
    "dataset0 = ROOT.RooDataSet(\"dataset0\", \"0tag dataset from tree\", tree0, ROOT.RooArgSet(m_yy))\n",
    "dataset1 = ROOT.RooDataSet(\"dataset1\", \"1tag dataset from tree\", tree1, ROOT.RooArgSet(m_yy))\n",
    "dataset2 = ROOT.RooDataSet(\"dataset2\", \"2tag dataset from tree\", tree2, ROOT.RooArgSet(m_yy))"
   ]
  },
  {
   "cell_type": "code",
   "execution_count": 11,
   "metadata": {
    "collapsed": true,
    "deletable": true,
    "editable": true
   },
   "outputs": [],
   "source": [
    "# m0_cb = ROOT.RooRealVar('m0_cb','m0_cb', 105000, 150000)\n",
    "# sigma_cb = ROOT.RooRealVar('sigma_cb','sigma_cb', 0, 2000)\n",
    "# alpha_cb = ROOT.RooRealVar('alpha_cb','alpha_cb', 0, 150000)\n",
    "# n_cb = ROOT.RooRealVar('n_cb','n_cb', 0, 100)\n",
    "\n",
    "# # -- crystal ball\n",
    "# s = ROOT.RooCBShape(\n",
    "#     'cb', 'Crystal Ball',\n",
    "#     m_yy,\n",
    "#     m0_cb,\n",
    "#     sigma_cb,\n",
    "#     alpha_cb,\n",
    "#     n_cb\n",
    "# )"
   ]
  },
  {
   "cell_type": "code",
   "execution_count": 24,
   "metadata": {
    "collapsed": true,
    "deletable": true,
    "editable": true
   },
   "outputs": [],
   "source": [
    "from ROOT import HggTwoSidedCBPdf"
   ]
  },
  {
   "cell_type": "code",
   "execution_count": 16,
   "metadata": {
    "collapsed": false,
    "deletable": true,
    "editable": true
   },
   "outputs": [],
   "source": [
    "m0_cb = ROOT.RooRealVar('m0_cb','m0_cb', 105000, 150000)\n",
    "sigma_cb = ROOT.RooRealVar('sigma_cb','sigma_cb', 0, 2000)\n",
    "alphaLo_cb = ROOT.RooRealVar('alphaLo_cb','alphaLo_cb', 0, 150000)\n",
    "nLo_cb = ROOT.RooRealVar('nLo_cb','nLo_cb', 0, 100)\n",
    "alphaHi_cb = ROOT.RooRealVar('alphaHi_cb','alphaHi_cb', 0, 150000)\n",
    "nHi_cb = ROOT.RooRealVar('nHi_cb','nHi_cb', 0, 100)\n",
    "\n",
    "# -- double sided crystal ball\n",
    "s = HggTwoSidedCBPdf(\n",
    "    'dscb', 'Double Sided Crystal Ball',\n",
    "    m_yy,\n",
    "    m0_cb,\n",
    "    sigma_cb,\n",
    "    alphaLo_cb,\n",
    "    nLo_cb,\n",
    "    alphaHi_cb,\n",
    "    nHi_cb\n",
    ")"
   ]
  },
  {
   "cell_type": "code",
   "execution_count": 17,
   "metadata": {
    "collapsed": false,
    "deletable": true,
    "editable": true
   },
   "outputs": [
    {
     "name": "stdout",
     "output_type": "stream",
     "text": [
      "[#1] INFO:Minization -- RooMinimizer::optimizeConst: activating const optimization\n",
      " **********\n",
      " **    1 **SET PRINT           1\n",
      " **********\n",
      " **********\n",
      " **    2 **SET NOGRAD\n",
      " **********\n",
      " PARAMETER DEFINITIONS:\n",
      "    NO.   NAME         VALUE      STEP SIZE      LIMITS\n",
      "     1 alphaHi_cb   7.50000e+04  1.50000e+04    0.00000e+00  1.50000e+05\n",
      "     2 alphaLo_cb   7.50000e+04  1.50000e+04    0.00000e+00  1.50000e+05\n",
      "     3 m0_cb        1.27500e+05  4.50000e+03    1.05000e+05  1.50000e+05\n",
      "     4 nHi_cb       5.00000e+01  1.00000e+01    0.00000e+00  1.00000e+02\n",
      "     5 nLo_cb       5.00000e+01  1.00000e+01    0.00000e+00  1.00000e+02\n",
      "     6 sigma_cb     1.00000e+03  2.00000e+02    0.00000e+00  2.00000e+03\n",
      " **********\n",
      " **    3 **SET ERR         0.5\n",
      " **********\n",
      " **********\n",
      " **    4 **SET PRINT           1\n",
      " **********\n",
      " **********\n",
      " **    5 **SET STR           1\n",
      " **********\n",
      " NOW USING STRATEGY  1: TRY TO BALANCE SPEED AGAINST RELIABILITY\n",
      " **********\n",
      " **    6 **MIGRAD        3000           1\n",
      " **********\n",
      " FIRST CALL TO USER FUNCTION AT NEW START POINT, WITH IFLAG=4.\n",
      " START MIGRAD MINIMIZATION.  STRATEGY  1.  CONVERGENCE WHEN EDM .LT. 1.00e-03\n",
      " FCN=108620 FROM MIGRAD    STATUS=INITIATE      277 CALLS         278 TOTAL\n",
      "                     EDM= unknown      STRATEGY= 1      NO ERROR MATRIX       \n",
      "  EXT PARAMETER               CURRENT GUESS       STEP         FIRST   \n",
      "  NO.   NAME      VALUE            ERROR          SIZE      DERIVATIVE \n",
      "   1  alphaHi_cb   7.50000e+04   1.50000e+04   0.00000e+00   0.00000e+00\n",
      "   2  alphaLo_cb   7.50000e+04   1.50000e+04   0.00000e+00   0.00000e+00\n",
      "   3  m0_cb        1.27500e+05   4.50000e+03   0.00000e+00   4.90084e+05\n",
      "   4  nHi_cb       5.00000e+01   1.00000e+01   0.00000e+00   0.00000e+00\n",
      "   5  nLo_cb       5.00000e+01   1.00000e+01   0.00000e+00   0.00000e+00\n",
      "   6  sigma_cb     1.00000e+03   2.00000e+02   0.00000e+00  -7.55034e+04\n",
      "                               ERR DEF= 0.5\n",
      " MIGRAD MINIMIZATION HAS CONVERGED.\n",
      " MIGRAD WILL VERIFY CONVERGENCE AND ERROR MATRIX.\n",
      " MINUIT WARNING IN HESSE\n",
      " ============== Second derivative enters zero, param 1\n",
      " MINUIT WARNING IN HESSE\n",
      " ============== Second derivative zero for parameter1\n",
      "  MNHESS FAILS AND WILL RETURN DIAGONAL MATRIX. \n",
      " FCN=75977.1 FROM MIGRAD    STATUS=CONVERGED     359 CALLS         360 TOTAL\n",
      "                     EDM=4.05796e-05    STRATEGY= 1  ERROR MATRIX UNCERTAINTY 100.0 per cent\n",
      "  EXT PARAMETER                APPROXIMATE        STEP         FIRST   \n",
      "  NO.   NAME      VALUE            ERROR          SIZE      DERIVATIVE \n",
      "   1  alphaHi_cb   7.50000e+04   2.09315e+04  -0.00000e+00   0.00000e+00\n",
      "   2  alphaLo_cb   7.50000e+04   6.31103e+04  -0.00000e+00   0.00000e+00\n",
      "   3  m0_cb        1.24941e+05   1.97556e+01  -5.90734e-04   1.09844e+01\n",
      "   4  nHi_cb       5.00000e+01   4.20735e+01  -0.00000e+00   0.00000e+00\n",
      "   5  nLo_cb       5.00000e+01   4.20735e+01  -0.00000e+00   0.00000e+00\n",
      "   6  sigma_cb     1.82255e+03   1.39681e+01   1.02077e-02   8.87665e-03\n",
      "                               ERR DEF= 0.5\n",
      " EXTERNAL ERROR MATRIX.    NDIM=  25    NPAR=  6    ERR DEF=0.5\n",
      "  4.500e+08  0.000e+00  0.000e+00  0.000e+00  0.000e+00  0.000e+00 \n",
      "  0.000e+00  5.625e+09  0.000e+00  0.000e+00  0.000e+00  0.000e+00 \n",
      "  0.000e+00  0.000e+00  3.903e+02  0.000e+00  0.000e+00  0.000e+00 \n",
      "  0.000e+00  0.000e+00  0.000e+00  2.500e+03  0.000e+00  0.000e+00 \n",
      "  0.000e+00  0.000e+00  0.000e+00  0.000e+00  2.500e+03  0.000e+00 \n",
      "  0.000e+00  0.000e+00  0.000e+00  0.000e+00  0.000e+00  1.951e+02 \n",
      "ERR MATRIX APPROXIMATE\n",
      " PARAMETER  CORRELATION COEFFICIENTS  \n",
      "       NO.  GLOBAL      1      2      3      4      5      6\n",
      "        1  0.00000   1.000  0.000  0.000  0.000  0.000  0.000\n",
      "        2  0.00000   0.000  1.000  0.000  0.000  0.000  0.000\n",
      "        3  0.00000   0.000  0.000  1.000  0.000  0.000  0.000\n",
      "        4  0.00000   0.000  0.000  0.000  1.000  0.000  0.000\n",
      "        5  0.00000   0.000  0.000  0.000  0.000  1.000  0.000\n",
      "        6  0.00000   0.000  0.000  0.000  0.000  0.000  1.000\n",
      " ERR MATRIX APPROXIMATE\n",
      " **********\n",
      " **    7 **HESSE        3000\n",
      " **********\n",
      " MINUIT WARNING IN HESSE\n",
      " ============== Second derivative zero for parameter1\n",
      "  MNHESS FAILS AND WILL RETURN DIAGONAL MATRIX. \n",
      " FCN=75977.1 FROM HESSE     STATUS=FAILED          3 CALLS         363 TOTAL\n",
      "                     EDM=4.05796e-05    STRATEGY= 1  ERROR MATRIX UNCERTAINTY 100.0 per cent\n",
      "  EXT PARAMETER                APPROXIMATE     INTERNAL      INTERNAL  \n",
      "  NO.   NAME      VALUE            ERROR       STEP SIZE       VALUE   \n",
      "   1  alphaHi_cb   3.90431e+04   3.59569e+04  -0.00000e+00   0.00000e+00\n",
      "   2  alphaLo_cb   7.50000e+04   6.31103e+04  -0.00000e+00   0.00000e+00\n",
      "   3  m0_cb        1.24941e+05   1.97556e+01  -5.90734e-04  -1.13981e-01\n",
      "   4  nHi_cb       5.00000e+01   4.20735e+01  -0.00000e+00   0.00000e+00\n",
      "   5  nLo_cb       5.00000e+01   4.20735e+01  -0.00000e+00   0.00000e+00\n",
      "   6  sigma_cb     1.82255e+03   1.39681e+01   1.02077e-02   9.65888e-01\n",
      "                               ERR DEF= 0.5\n",
      " EXTERNAL ERROR MATRIX.    NDIM=  25    NPAR=  6    ERR DEF=0.5\n",
      "  4.500e+08  0.000e+00  0.000e+00  0.000e+00  0.000e+00  0.000e+00 \n",
      "  0.000e+00  5.625e+09  0.000e+00  0.000e+00  0.000e+00  0.000e+00 \n",
      "  0.000e+00  0.000e+00  3.903e+02  0.000e+00  0.000e+00  0.000e+00 \n",
      "  0.000e+00  0.000e+00  0.000e+00  2.500e+03  0.000e+00  0.000e+00 \n",
      "  0.000e+00  0.000e+00  0.000e+00  0.000e+00  2.500e+03  0.000e+00 \n",
      "  0.000e+00  0.000e+00  0.000e+00  0.000e+00  0.000e+00  1.951e+02 \n",
      "ERR MATRIX APPROXIMATE\n",
      " PARAMETER  CORRELATION COEFFICIENTS  \n",
      "       NO.  GLOBAL      1      2      3      4      5      6\n",
      "        1  0.00000   1.000  0.000  0.000  0.000  0.000  0.000\n",
      "        2  0.00000   0.000  1.000  0.000  0.000  0.000  0.000\n",
      "        3  0.00000   0.000  0.000  1.000  0.000  0.000  0.000\n",
      "        4  0.00000   0.000  0.000  0.000  1.000  0.000  0.000\n",
      "        5  0.00000   0.000  0.000  0.000  0.000  1.000  0.000\n",
      "        6  0.00000   0.000  0.000  0.000  0.000  0.000  1.000\n",
      " ERR MATRIX APPROXIMATE\n",
      " **********\n",
      " **    8 **SET ERR         0.5\n",
      " **********\n",
      " **********\n",
      " **    9 **SET PRINT           1\n",
      " **********\n",
      " **********\n",
      " **   10 **HESSE        3000\n",
      " **********\n",
      " MINUIT WARNING IN HESSE\n",
      " ============== Second derivative zero for parameter1\n",
      "  MNHESS FAILS AND WILL RETURN DIAGONAL MATRIX. \n",
      " FCN=75977.1 FROM HESSE     STATUS=FAILED          3 CALLS         366 TOTAL\n",
      "                     EDM=4.05796e-05    STRATEGY= 1  ERROR MATRIX UNCERTAINTY 100.0 per cent\n",
      "  EXT PARAMETER                APPROXIMATE     INTERNAL      INTERNAL  \n",
      "  NO.   NAME      VALUE            ERROR       STEP SIZE       VALUE   \n",
      "   1  alphaHi_cb   3.90431e+04   3.59569e+04  -0.00000e+00   0.00000e+00\n",
      "   2  alphaLo_cb   7.50000e+04   6.31103e+04  -0.00000e+00   0.00000e+00\n",
      "   3  m0_cb        1.24941e+05   1.97556e+01  -5.90734e-04  -1.13981e-01\n",
      "   4  nHi_cb       5.00000e+01   4.20735e+01  -0.00000e+00   0.00000e+00\n",
      "   5  nLo_cb       5.00000e+01   4.20735e+01  -0.00000e+00   0.00000e+00\n",
      "   6  sigma_cb     1.82255e+03   1.39681e+01   1.02077e-02   9.65888e-01\n",
      "                               ERR DEF= 0.5\n",
      " EXTERNAL ERROR MATRIX.    NDIM=  25    NPAR=  6    ERR DEF=0.5\n",
      "  4.500e+08  0.000e+00  0.000e+00  0.000e+00  0.000e+00  0.000e+00 \n",
      "  0.000e+00  5.625e+09  0.000e+00  0.000e+00  0.000e+00  0.000e+00 \n",
      "  0.000e+00  0.000e+00  3.903e+02  0.000e+00  0.000e+00  0.000e+00 \n",
      "  0.000e+00  0.000e+00  0.000e+00  2.500e+03  0.000e+00  0.000e+00 \n",
      "  0.000e+00  0.000e+00  0.000e+00  0.000e+00  2.500e+03  0.000e+00 \n",
      "  0.000e+00  0.000e+00  0.000e+00  0.000e+00  0.000e+00  1.951e+02 \n",
      "ERR MATRIX APPROXIMATE\n",
      " PARAMETER  CORRELATION COEFFICIENTS  \n",
      "       NO.  GLOBAL      1      2      3      4      5      6\n",
      "        1  0.00000   1.000  0.000  0.000  0.000  0.000  0.000\n",
      "        2  0.00000   0.000  1.000  0.000  0.000  0.000  0.000\n",
      "        3  0.00000   0.000  0.000  1.000  0.000  0.000  0.000\n",
      "        4  0.00000   0.000  0.000  0.000  1.000  0.000  0.000\n",
      "        5  0.00000   0.000  0.000  0.000  0.000  1.000  0.000\n",
      "        6  0.00000   0.000  0.000  0.000  0.000  0.000  1.000\n",
      " ERR MATRIX APPROXIMATE\n",
      "[#1] INFO:Minization -- RooMinimizer::optimizeConst: deactivating const optimization\n"
     ]
    }
   ],
   "source": [
    "r0 = s.fitTo(dataset0, ROOT.RooFit.Save())\n",
    "#r1 = s.fitTo(dataset1, ROOT.RooFit.Save())\n",
    "#r2 = s.fitTo(dataset2, ROOT.RooFit.Save())"
   ]
  },
  {
   "cell_type": "code",
   "execution_count": 18,
   "metadata": {
    "collapsed": false,
    "deletable": true,
    "editable": true
   },
   "outputs": [
    {
     "data": {
      "image/png": "[encoded data removed]",
      "text/plain": [
       "<ROOT.TCanvas object (\"icanvas\") at 0x7fbaf06995c0>"
      ]
     },
     "execution_count": 18,
     "metadata": {},
     "output_type": "execute_result"
    },
    {
     "name": "stdout",
     "output_type": "stream",
     "text": [
      "[#1] INFO:Plotting -- RooPlot::updateFitRangeNorm: New event count of 14833 will supercede previous event count of 8511 for normalization of PDF projections\n",
      "[#1] INFO:Plotting -- RooPlot::updateFitRangeNorm: New event count of 12159 will supercede previous event count of 14833 for normalization of PDF projections\n"
     ]
    },
    {
     "name": "stderr",
     "output_type": "stream",
     "text": [
      "INFO:ROOT.TCanvas.Print] png file /var/folders/0d/3d7wlbr14zn3_l2ctx0r1jdw0000gn/T/tmpu_AsCu.png has been created\n"
     ]
    }
   ],
   "source": [
    "frame = m_yy.frame()\n",
    "\n",
    "dataset0.plotOn(frame, ROOT.RooFit.Binning(25), rf.MarkerColor(ROOT.kRed), rf.LineColor(ROOT.kRed))\n",
    "# BE CAREFUL! s NEEDS TO BE PLOTTED RIGHT AFTER ITS DATASET, OTHERWISE NORMALIZATION IS OFF!\n",
    "s.plotOn(frame, rf.LineColor(ROOT.kBlack))\n",
    "\n",
    "dataset1.plotOn(frame, ROOT.RooFit.Binning(25), rf.MarkerColor(ROOT.kGreen), rf.LineColor(ROOT.kGreen))\n",
    "dataset2.plotOn(frame, ROOT.RooFit.Binning(25), rf.MarkerColor(ROOT.kBlue), rf.LineColor(ROOT.kBlue))\n",
    "frame.Draw()\n",
    "c1"
   ]
  },
  {
   "cell_type": "code",
   "execution_count": 35,
   "metadata": {
    "collapsed": false,
    "deletable": true,
    "editable": true
   },
   "outputs": [],
   "source": [
    "# -- how to define your own pdf by hand\n",
    "# x = ROOT.RooRealVar('x','x',-10,10)\n",
    "# y = ROOT.RooRealVar('y','y',0,5)\n",
    "# a = ROOT.RooRealVar('a','a',3.0)\n",
    "# b = ROOT.RooRealVar('b','b',-2.0)\n",
    "# gp = ROOT.RooGenericPdf('gp','Generic PDF','exp(x*y+a)-b*x', ROOT.RooArgList(x,y,a,b)) "
   ]
  },
  {
   "cell_type": "code",
   "execution_count": 19,
   "metadata": {
    "collapsed": false,
    "deletable": true,
    "editable": true
   },
   "outputs": [
    {
     "data": {
      "text/plain": [
       "1800.2314555518092"
      ]
     },
     "execution_count": 19,
     "metadata": {},
     "output_type": "execute_result"
    }
   ],
   "source": [
    "sigma_cb.getVal()"
   ]
  },
  {
   "cell_type": "code",
   "execution_count": 31,
   "metadata": {
    "collapsed": false,
    "deletable": true,
    "editable": true
   },
   "outputs": [
    {
     "name": "stdout",
     "output_type": "stream",
     "text": [
      "\n",
      "  RooFitResult: minimized FCN value: 75977.1, estimated distance to minimum: 4.05796e-05\n",
      "                covariance matrix quality: Approximation only, not accurate\n",
      "                Status : MINIMIZE=0 HESSE=0 \n",
      "\n",
      "    Floating Parameter    FinalValue +/-  Error   \n",
      "  --------------------  --------------------------\n",
      "            alphaHi_cb    3.9043e+04 +/-  3.60e+04\n",
      "            alphaLo_cb    7.5000e+04 +/-  6.31e+04\n",
      "                 m0_cb    1.2494e+05 +/-  1.98e+01\n",
      "                nHi_cb    5.0000e+01 +/-  4.21e+01\n",
      "                nLo_cb    5.0000e+01 +/-  4.21e+01\n",
      "              sigma_cb    1.8226e+03 +/-  1.40e+01\n",
      "\n"
     ]
    }
   ],
   "source": [
    "r0.Print()"
   ]
  },
  {
   "cell_type": "markdown",
   "metadata": {
    "deletable": true,
    "editable": true
   },
   "source": [
    "# RooDataSet 2 numpy array"
   ]
  },
  {
   "cell_type": "code",
   "execution_count": 42,
   "metadata": {
    "collapsed": true,
    "deletable": true,
    "editable": true
   },
   "outputs": [],
   "source": [
    "def wrap_iter(it):\n",
    "    elem = it.Next()\n",
    "    while elem:\n",
    "        yield elem\n",
    "        elem = it.Next()"
   ]
  },
  {
   "cell_type": "code",
   "execution_count": 43,
   "metadata": {
    "collapsed": true,
    "deletable": true,
    "editable": true
   },
   "outputs": [],
   "source": [
    "def get_data(data): # seems to be working fine but it's one element short??\n",
    "    curr = data.get(0)\n",
    "    ret = np.zeros((curr.getSize(), data.numEntries()))\n",
    "    vars = []\n",
    "    for v in wrap_iter(curr.iterator()):\n",
    "        vars.append(v)\n",
    "    idx = 0\n",
    "    while curr:\n",
    "        for i, v in enumerate(vars):\n",
    "            var = curr.find(v)\n",
    "            try:\n",
    "                ret[i, idx] = var.getVal()\n",
    "            except AttributeError:\n",
    "                ret[i, idx] = var.getIndex()\n",
    "        idx += 1\n",
    "        curr = data.get(idx)\n",
    "    return ret"
   ]
  },
  {
   "cell_type": "code",
   "execution_count": 44,
   "metadata": {
    "collapsed": false,
    "deletable": true,
    "editable": true
   },
   "outputs": [
    {
     "data": {
      "text/plain": [
       "array([[ 124487.7265625],\n",
       "       [ 126503.0078125],\n",
       "       [ 124170.984375 ],\n",
       "       ..., \n",
       "       [ 124511.9140625],\n",
       "       [ 123265.53125  ],\n",
       "       [ 121814.3125   ]])"
      ]
     },
     "execution_count": 44,
     "metadata": {},
     "output_type": "execute_result"
    }
   ],
   "source": [
    "get_data(dataset1).T"
   ]
  },
  {
   "cell_type": "code",
   "execution_count": 45,
   "metadata": {
    "collapsed": false,
    "deletable": true,
    "editable": true
   },
   "outputs": [
    {
     "data": {
      "text/plain": [
       "array([(124487.7265625,), (126503.0078125,), (124170.984375,), ...,\n",
       "       (124511.9140625,), (123265.53125,), (121814.3125,)], \n",
       "      dtype=[('m_yy', '<f8')])"
      ]
     },
     "execution_count": 45,
     "metadata": {},
     "output_type": "execute_result"
    }
   ],
   "source": [
    "# -- just to check:\n",
    "np.array(df[\"HGamEventInfoAuxDyn.m_yy\"][\n",
    "            np.logical_and(df[\"HGamEventInfoAuxDyn.isPassed\"] == 1, df[\"HGamEventInfoAuxDyn.yybb_bTagCat\"] == 1)\n",
    "        ], dtype=[('m_yy', np.float64)])"
   ]
  },
  {
   "cell_type": "markdown",
   "metadata": {
    "deletable": true,
    "editable": true
   },
   "source": [
    "# Extract curve from frame"
   ]
  },
  {
   "cell_type": "code",
   "execution_count": 6,
   "metadata": {
    "collapsed": true,
    "deletable": true,
    "editable": true
   },
   "outputs": [],
   "source": [
    "xaxis = np.linspace(105000, 160000, 100) # xaxis range and number of interpolation points"
   ]
  },
  {
   "cell_type": "code",
   "execution_count": 27,
   "metadata": {
    "collapsed": false,
    "deletable": true,
    "editable": true
   },
   "outputs": [
    {
     "name": "stdout",
     "output_type": "stream",
     "text": [
      "0\n",
      "<ROOT.RooHist object (\"h_dataset0\") at 0x7fbaf15f3510>\n",
      "1\n",
      "<ROOT.RooCurve object (\"dscb_Norm[m_yy]\") at 0x7fbaf1756440>\n",
      "2\n",
      "<ROOT.RooHist object (\"h_dataset1\") at 0x7fbaf16b6180>\n",
      "3\n",
      "<ROOT.RooHist object (\"h_dataset2\") at 0x7fbaf283cc90>\n"
     ]
    }
   ],
   "source": [
    "curves = {}\n",
    "for idx in range(int(frame.numItems())):\n",
    "    obj = frame.getObject(idx)\n",
    "    print obj\n",
    "    if type(obj) == ROOT.RooCurve:\n",
    "        curves[obj.GetName()] = [obj.interpolate(point) for point in xaxis]"
   ]
  },
  {
   "cell_type": "markdown",
   "metadata": {
    "deletable": true,
    "editable": true
   },
   "source": [
    "# Load Histograms from ROOT File"
   ]
  },
  {
   "cell_type": "code",
   "execution_count": 6,
   "metadata": {
    "collapsed": false,
    "deletable": true,
    "editable": true
   },
   "outputs": [],
   "source": [
    "from rootpy.io import root_open"
   ]
  },
  {
   "cell_type": "code",
   "execution_count": 7,
   "metadata": {
    "collapsed": true,
    "deletable": true,
    "editable": true
   },
   "outputs": [],
   "source": [
    "bkg = root_open('combined_backgrounds_20170201.root')"
   ]
  },
  {
   "cell_type": "code",
   "execution_count": 8,
   "metadata": {
    "collapsed": false,
    "deletable": true,
    "editable": true
   },
   "outputs": [],
   "source": [
    "histos_bkg = {k.GetName(): bkg.Get(k.GetName()) for k in bkg.GetListOfKeys()}"
   ]
  },
  {
   "cell_type": "code",
   "execution_count": 9,
   "metadata": {
    "collapsed": false,
    "deletable": true,
    "editable": true
   },
   "outputs": [
    {
     "data": {
      "text/plain": [
       "['m_yy_lowMass_0tag_tightIsolated_bkg_single_Higgs',\n",
       " 'm_yy_lowMass_0tag_tightIsolated_bkg_non_Higgs',\n",
       " 'm_yy_highMass_0tag_tightIsolated_bkg_non_Higgs',\n",
       " 'm_yy_highMass_0tag_tightIsolated_bkg_single_Higgs']"
      ]
     },
     "execution_count": 9,
     "metadata": {},
     "output_type": "execute_result"
    }
   ],
   "source": [
    "[k for k in histos_bkg.keys() if (('0tag' in k) and ('m_yy_' in k))]"
   ]
  },
  {
   "cell_type": "code",
   "execution_count": 10,
   "metadata": {
    "collapsed": false,
    "deletable": true,
    "editable": true
   },
   "outputs": [
    {
     "name": "stdout",
     "output_type": "stream",
     "text": [
      "[#1] INFO:DataHandling -- RooDataHist::adjustBinning(0tag_bkg_nonHiggs): fit range of variable myy expanded to nearest bin boundaries: [105,160] --> [105,160]\n",
      "[#1] INFO:DataHandling -- RooDataHist::adjustBinning(0tag_bkg_1Higgs): fit range of variable myy expanded to nearest bin boundaries: [105,160] --> [105,160]\n"
     ]
    }
   ],
   "source": [
    "# Select one histogram to import into a datahist\n",
    "h0_bkg_noH = histos_bkg['m_yy_highMass_0tag_tightIsolated_bkg_non_Higgs']\n",
    "h0_bkg_1H = histos_bkg['m_yy_highMass_0tag_tightIsolated_bkg_single_Higgs']\n",
    "\n",
    "# Declare observable x\n",
    "myy = ROOT.RooRealVar(\"myy\", \"m_yy\", h0_bkg_noH.GetXaxis().GetXmin(), h0_bkg_noH.GetXaxis().GetXmax())\n",
    "\n",
    "# Create a binned dataset that imports contents of TH1 and associates its contents to observable 'x'\n",
    "dh_bkg_noH = ROOT.RooDataHist(\"0tag_bkg_nonHiggs\", \"non Higgs bkg in 0tag category\", ROOT.RooArgList(myy), h0_bkg_noH)\n",
    "dh_bkg_1H = ROOT.RooDataHist(\"0tag_bkg_1Higgs\", \"single Higgs bkg in 0tag category\", ROOT.RooArgList(myy), h0_bkg_1H)"
   ]
  },
  {
   "cell_type": "code",
   "execution_count": 11,
   "metadata": {
    "collapsed": false,
    "deletable": true,
    "editable": true
   },
   "outputs": [],
   "source": [
    "# -- define non-Higgs bkg fit function (Exponential pdf)\n",
    "c0_bkg = ROOT.RooRealVar('c0_bkg', 'coefficient c0 of exponential bkg fit', -100, 100) #-2.63843e-2\n",
    "exp_function = ROOT.RooExponential('bkg_fit', 'exponential bkg fit in 0 tag category', myy, c0_bkg)"
   ]
  },
  {
   "cell_type": "code",
   "execution_count": 12,
   "metadata": {
    "collapsed": false,
    "deletable": true,
    "editable": true
   },
   "outputs": [],
   "source": [
    "# -- define single-Higgs bkg fit function (Double Sided Crystal Ball)\n",
    "m0_cb = ROOT.RooRealVar('m0_cb','m0_cb', 125, 105, 160)\n",
    "sigma_cb = ROOT.RooRealVar('sigma_cb','sigma_cb', 5, 0, 2000)\n",
    "alphaLo_cb = ROOT.RooRealVar('alphaLo_cb','alphaLo_cb', 0, 5)\n",
    "nLo_cb = ROOT.RooRealVar('nLo_cb','nLo_cb', 0, 10)\n",
    "alphaHi_cb = ROOT.RooRealVar('alphaHi_cb','alphaHi_cb', 0, 5)\n",
    "nHi_cb = ROOT.RooRealVar('nHi_cb','nHi_cb', 0, 10)\n",
    "# alphaLo_cb = ROOT.RooRealVar('alphaLo_cb','alphaLo_cb', 2.16784)\n",
    "# nLo_cb = ROOT.RooRealVar('nLo_cb','nLo_cb', 3.57625)\n",
    "# alphaHi_cb = ROOT.RooRealVar('alphaHi_cb','alphaHi_cb', 2.32595)\n",
    "# nHi_cb = ROOT.RooRealVar('nHi_cb','nHi_cb', 4.17267)\n",
    "\n",
    "# -- double sided crystal ball\n",
    "dscb_1h = ROOT.HggTwoSidedCBPdf(\n",
    "    'dscb_1h', 'Double Sided Crystal Ball fit for single higgs bkg in 0tag category',\n",
    "    myy,\n",
    "    m0_cb,\n",
    "    sigma_cb,\n",
    "    alphaLo_cb,\n",
    "    nLo_cb,\n",
    "    alphaHi_cb,\n",
    "    nHi_cb\n",
    ")"
   ]
  },
  {
   "cell_type": "code",
   "execution_count": 13,
   "metadata": {
    "collapsed": false,
    "deletable": true,
    "editable": true,
    "scrolled": true
   },
   "outputs": [
    {
     "data": {
      "text/plain": [
       "<ROOT.RooFitResult object at 0x0>"
      ]
     },
     "execution_count": 13,
     "metadata": {},
     "output_type": "execute_result"
    },
    {
     "name": "stdout",
     "output_type": "stream",
     "text": [
      "[#1] INFO:Minization -- RooMinimizer::optimizeConst: activating const optimization\n",
      " **********\n",
      " **    1 **SET PRINT           1\n",
      " **********\n",
      " **********\n",
      " **    2 **SET NOGRAD\n",
      " **********\n",
      " PARAMETER DEFINITIONS:\n",
      "    NO.   NAME         VALUE      STEP SIZE      LIMITS\n",
      "     1 c0_bkg       0.00000e+00  2.00000e+01   -1.00000e+02  1.00000e+02\n",
      " **********\n",
      " **    3 **SET ERR         0.5\n",
      " **********\n",
      " **********\n",
      " **    4 **SET PRINT           1\n",
      " **********\n",
      " **********\n",
      " **    5 **SET STR           1\n",
      " **********\n",
      " NOW USING STRATEGY  1: TRY TO BALANCE SPEED AGAINST RELIABILITY\n",
      " **********\n",
      " **    6 **MIGRAD         500           1\n",
      " **********\n",
      " FIRST CALL TO USER FUNCTION AT NEW START POINT, WITH IFLAG=4.\n",
      " START MIGRAD MINIMIZATION.  STRATEGY  1.  CONVERGENCE WHEN EDM .LT. 1.00e-03\n",
      " FCN=4404.06 FROM MIGRAD    STATUS=INITIATE        4 CALLS           5 TOTAL\n",
      "                     EDM= unknown      STRATEGY= 1      NO ERROR MATRIX       \n",
      "  EXT PARAMETER               CURRENT GUESS       STEP         FIRST   \n",
      "  NO.   NAME      VALUE            ERROR          SIZE      DERIVATIVE \n",
      "   1  c0_bkg       0.00000e+00   2.00000e+01   2.01358e-01   4.07327e+05\n",
      "                               ERR DEF= 0.5\n",
      " MIGRAD MINIMIZATION HAS CONVERGED.\n",
      " MIGRAD WILL VERIFY CONVERGENCE AND ERROR MATRIX.\n",
      " COVARIANCE MATRIX CALCULATED SUCCESSFULLY\n",
      " FCN=4373.95 FROM MIGRAD    STATUS=CONVERGED      20 CALLS          21 TOTAL\n",
      "                     EDM=5.65662e-07    STRATEGY= 1      ERROR MATRIX ACCURATE \n",
      "  EXT PARAMETER                                   STEP         FIRST   \n",
      "  NO.   NAME      VALUE            ERROR          SIZE      DERIVATIVE \n",
      "   1  c0_bkg      -1.48644e-02   1.93159e-03   8.82063e-07   3.89371e+01\n",
      "                               ERR DEF= 0.5\n",
      " EXTERNAL ERROR MATRIX.    NDIM=  25    NPAR=  1    ERR DEF=0.5\n",
      "  3.731e-06 \n",
      " **********\n",
      " **    7 **SET ERR         0.5\n",
      " **********\n",
      " **********\n",
      " **    8 **SET PRINT           1\n",
      " **********\n",
      " **********\n",
      " **    9 **HESSE         500\n",
      " **********\n",
      " COVARIANCE MATRIX CALCULATED SUCCESSFULLY\n",
      " FCN=4373.95 FROM HESSE     STATUS=OK              5 CALLS          26 TOTAL\n",
      "                     EDM=5.65491e-07    STRATEGY= 1      ERROR MATRIX ACCURATE \n",
      "  EXT PARAMETER                                INTERNAL      INTERNAL  \n",
      "  NO.   NAME      VALUE            ERROR       STEP SIZE       VALUE   \n",
      "   1  c0_bkg      -1.48644e-02   1.93159e-03   1.76413e-07  -1.48644e-04\n",
      "                               ERR DEF= 0.5\n",
      " EXTERNAL ERROR MATRIX.    NDIM=  25    NPAR=  1    ERR DEF=0.5\n",
      "  3.731e-06 \n",
      "[#1] INFO:Fitting -- RooAbsPdf::fitTo(bkg_fit) Calculating sum-of-weights-squared correction matrix for covariance matrix\n",
      " **********\n",
      " **   10 **SET ERR         0.5\n",
      " **********\n",
      " **********\n",
      " **   11 **SET PRINT           1\n",
      " **********\n",
      " **********\n",
      " **   12 **HESSE         500\n",
      " **********\n",
      " COVARIANCE MATRIX CALCULATED SUCCESSFULLY\n",
      " FCN=1248.91 FROM HESSE     STATUS=OK              7 CALLS          33 TOTAL\n",
      "                     EDM=4.02776    STRATEGY= 1      ERROR MATRIX ACCURATE \n",
      "  EXT PARAMETER                                INTERNAL      INTERNAL  \n",
      "  NO.   NAME      VALUE            ERROR       STEP SIZE       VALUE   \n",
      "   1  c0_bkg      -1.48644e-02   3.60290e-03   3.59882e-06  -1.48644e-04\n",
      "                               ERR DEF= 0.5\n",
      " EXTERNAL ERROR MATRIX.    NDIM=  25    NPAR=  1    ERR DEF=0.5\n",
      "  1.298e-05 \n",
      "[#1] INFO:Minization -- RooMinimizer::optimizeConst: deactivating const optimization\n"
     ]
    }
   ],
   "source": [
    "# -- individual fit to bkg\n",
    "exp_function.fitTo(dh_bkg_noH, rf.SumW2Error(ROOT.kTRUE))"
   ]
  },
  {
   "cell_type": "code",
   "execution_count": 14,
   "metadata": {
    "collapsed": false,
    "deletable": true,
    "editable": true,
    "scrolled": true
   },
   "outputs": [
    {
     "data": {
      "text/plain": [
       "<ROOT.RooFitResult object at 0x0>"
      ]
     },
     "execution_count": 14,
     "metadata": {},
     "output_type": "execute_result"
    },
    {
     "name": "stdout",
     "output_type": "stream",
     "text": [
      "[#1] INFO:Minization -- RooMinimizer::optimizeConst: activating const optimization\n",
      " **********\n",
      " **    1 **SET PRINT           1\n",
      " **********\n",
      " **********\n",
      " **    2 **SET NOGRAD\n",
      " **********\n",
      " PARAMETER DEFINITIONS:\n",
      "    NO.   NAME         VALUE      STEP SIZE      LIMITS\n",
      "     1 alphaHi_cb   2.50000e+00  5.00000e-01    0.00000e+00  5.00000e+00\n",
      "     2 alphaLo_cb   2.50000e+00  5.00000e-01    0.00000e+00  5.00000e+00\n",
      "     3 m0_cb        1.25000e+02  5.50000e+00    1.05000e+02  1.60000e+02\n",
      "     4 nHi_cb       5.00000e+00  1.00000e+00    0.00000e+00  1.00000e+01\n",
      "     5 nLo_cb       5.00000e+00  1.00000e+00    0.00000e+00  1.00000e+01\n",
      "     6 sigma_cb     5.00000e+00  2.50000e+00    0.00000e+00  2.00000e+03\n",
      " **********\n",
      " **    3 **SET ERR         0.5\n",
      " **********\n",
      " **********\n",
      " **    4 **SET PRINT           1\n",
      " **********\n",
      " **********\n",
      " **    5 **SET STR           1\n",
      " **********\n",
      " NOW USING STRATEGY  1: TRY TO BALANCE SPEED AGAINST RELIABILITY\n",
      " **********\n",
      " **    6 **MIGRAD        3000           1\n",
      " **********\n",
      " FIRST CALL TO USER FUNCTION AT NEW START POINT, WITH IFLAG=4.\n",
      " START MIGRAD MINIMIZATION.  STRATEGY  1.  CONVERGENCE WHEN EDM .LT. 1.00e-03\n",
      " FCN=23.3576 FROM MIGRAD    STATUS=INITIATE       95 CALLS          96 TOTAL\n",
      "                     EDM= unknown      STRATEGY= 1      NO ERROR MATRIX       \n",
      "  EXT PARAMETER               CURRENT GUESS       STEP         FIRST   \n",
      "  NO.   NAME      VALUE            ERROR          SIZE      DERIVATIVE \n",
      "   1  alphaHi_cb   2.50000e+00   5.00000e-01   0.00000e+00   2.12518e-03\n",
      "   2  alphaLo_cb   2.50000e+00   5.00000e-01   0.00000e+00  -3.04263e-01\n",
      "   3  m0_cb        1.25000e+02   5.50000e+00   0.00000e+00   1.18449e+00\n",
      "   4  nHi_cb       2.57481e+00   1.00000e+00   0.00000e+00   6.34889e-03\n",
      "   5  nLo_cb       1.09517e+00   1.00000e+00  -8.96213e-01  -2.02959e-01\n",
      "   6  sigma_cb     1.60197e+00   2.50000e+00   0.00000e+00  -1.01140e+02\n",
      "                               ERR DEF= 0.5\n",
      " MIGRAD MINIMIZATION HAS CONVERGED.\n",
      " MIGRAD WILL VERIFY CONVERGENCE AND ERROR MATRIX.\n",
      " COVARIANCE MATRIX CALCULATED SUCCESSFULLY\n",
      " FCN=23.1656 FROM MIGRAD    STATUS=CONVERGED     213 CALLS         214 TOTAL\n",
      "                     EDM=0.000386484    STRATEGY= 1      ERROR MATRIX ACCURATE \n",
      "  EXT PARAMETER                                   STEP         FIRST   \n",
      "  NO.   NAME      VALUE            ERROR          SIZE      DERIVATIVE \n",
      "   1  alphaHi_cb   2.44064e+00   2.08010e+00   2.13468e-03  -2.54785e-03\n",
      "   2  alphaLo_cb   2.37750e+00   1.78172e+00   1.59664e-03  -2.07438e-03\n",
      "   3  m0_cb        1.24984e+02   5.59206e-01   7.05658e-05  -4.70612e-02\n",
      "   4  nHi_cb       3.55632e+00   8.17775e+00   8.33158e-03   3.52140e-03\n",
      "   5  nLo_cb       2.05944e+00   5.53109e+00   4.10405e-03  -5.51728e-03\n",
      "   6  sigma_cb     1.82728e+00   4.18887e-01   2.26932e-05   1.33755e-02\n",
      "                               ERR DEF= 0.5\n",
      " EXTERNAL ERROR MATRIX.    NDIM=  25    NPAR=  6    ERR DEF=0.5\n",
      "  6.038e+00  1.781e-02 -1.024e-02 -3.623e+01 -5.718e-02 -2.891e-02 \n",
      "  1.781e-02  3.936e+00  2.479e-02 -2.418e-01 -1.371e+01 -5.053e-02 \n",
      " -1.024e-02  2.479e-02  3.128e-01  4.499e-01 -2.380e-01 -1.966e-03 \n",
      " -3.623e+01 -2.418e-01  4.499e-01  4.103e+02  2.275e+00  1.010e+00 \n",
      " -5.718e-02 -1.371e+01 -2.380e-01  2.275e+00  7.404e+01  4.527e-01 \n",
      " -2.891e-02 -5.053e-02 -1.966e-03  1.010e+00  4.527e-01  1.755e-01 \n",
      " PARAMETER  CORRELATION COEFFICIENTS  \n",
      "       NO.  GLOBAL      1      2      3      4      5      6\n",
      "        1  0.73065   1.000  0.004 -0.007 -0.728 -0.003 -0.028\n",
      "        2  0.80418   0.004  1.000  0.022 -0.006 -0.803 -0.061\n",
      "        3  0.07769  -0.007  0.022  1.000  0.040 -0.049 -0.008\n",
      "        4  0.73542  -0.728 -0.006  0.040  1.000  0.013  0.119\n",
      "        5  0.80725  -0.003 -0.803 -0.049  0.013  1.000  0.126\n",
      "        6  0.20246  -0.028 -0.061 -0.008  0.119  0.126  1.000\n",
      " **********\n",
      " **    7 **SET ERR         0.5\n",
      " **********\n",
      " **********\n",
      " **    8 **SET PRINT           1\n",
      " **********\n",
      " **********\n",
      " **    9 **HESSE        3000\n",
      " **********\n",
      " COVARIANCE MATRIX CALCULATED SUCCESSFULLY\n",
      " FCN=23.1656 FROM HESSE     STATUS=OK             40 CALLS         254 TOTAL\n",
      "                     EDM=0.000404541    STRATEGY= 1      ERROR MATRIX ACCURATE \n",
      "  EXT PARAMETER                                INTERNAL      INTERNAL  \n",
      "  NO.   NAME      VALUE            ERROR       STEP SIZE       VALUE   \n",
      "   1  alphaHi_cb   2.44064e+00   3.54142e+00   4.26936e-04  -2.37476e-02\n",
      "   2  alphaLo_cb   2.37750e+00   1.81087e+00   3.19328e-04  -4.90202e-02\n",
      "   3  m0_cb        1.24984e+02   5.59242e-01   1.41132e-05  -2.76824e-01\n",
      "   4  nHi_cb       3.55632e+00   8.21140e+00   1.66632e-03  -2.92906e-01\n",
      "   5  nLo_cb       2.05944e+00   5.63647e+00   8.20809e-04  -6.28722e-01\n",
      "   6  sigma_cb     1.82728e+00   4.19073e-01   4.53863e-06  -1.51033e+00\n",
      "                               ERR DEF= 0.5\n",
      " EXTERNAL ERROR MATRIX.    NDIM=  25    NPAR=  6    ERR DEF=0.5\n",
      "  6.315e+00  2.024e-02 -1.262e-02 -3.863e+01 -7.284e-02 -3.442e-02 \n",
      "  2.024e-02  4.104e+00  2.698e-02 -2.748e-01 -1.445e+01 -5.469e-02 \n",
      " -1.262e-02  2.698e-02  3.128e-01  4.665e-01 -2.470e-01 -2.120e-03 \n",
      " -3.863e+01 -2.748e-01  4.665e-01  4.293e+02  2.450e+00  1.051e+00 \n",
      " -7.284e-02 -1.445e+01 -2.470e-01  2.450e+00  7.721e+01  4.693e-01 \n",
      " -3.442e-02 -5.469e-02 -2.120e-03  1.051e+00  4.693e-01  1.756e-01 \n",
      " PARAMETER  CORRELATION COEFFICIENTS  \n",
      "       NO.  GLOBAL      1      2      3      4      5      6\n",
      "        1  0.74448   1.000  0.004 -0.009 -0.742 -0.003 -0.033\n",
      "        2  0.81314   0.004  1.000  0.024 -0.007 -0.812 -0.064\n",
      "        3  0.07850  -0.009  0.024  1.000  0.040 -0.050 -0.009\n",
      "        4  0.74902  -0.742 -0.007  0.040  1.000  0.013  0.121\n",
      "        5  0.81605  -0.003 -0.812 -0.050  0.013  1.000  0.127\n",
      "        6  0.20455  -0.033 -0.064 -0.009  0.121  0.127  1.000\n",
      "[#1] INFO:Fitting -- RooAbsPdf::fitTo(dscb_1h) Calculating sum-of-weights-squared correction matrix for covariance matrix\n",
      " **********\n",
      " **   10 **SET ERR         0.5\n",
      " **********\n",
      " **********\n",
      " **   11 **SET PRINT           1\n",
      " **********\n",
      " **********\n",
      " **   12 **HESSE        3000\n",
      " **********\n",
      " COVARIANCE MATRIX CALCULATED SUCCESSFULLY\n",
      " FCN=0.053873 FROM HESSE     STATUS=OK             54 CALLS         308 TOTAL\n",
      "                     EDM=9.61648e-05    STRATEGY= 1      ERROR MATRIX ACCURATE \n",
      "  EXT PARAMETER                                INTERNAL      INTERNAL  \n",
      "  NO.   NAME      VALUE            ERROR       STEP SIZE       VALUE   \n",
      "   1  alphaHi_cb   2.44064e+00   2.53809e+00   8.70949e-03  -2.37476e-02\n",
      "   2  alphaLo_cb   2.37750e+00   3.33114e+00   6.51429e-03  -4.90202e-02\n",
      "   3  m0_cb        1.24984e+02   1.13234e+01   2.87909e-04  -2.76824e-01\n",
      "   4  nHi_cb       3.55632e+00   5.73506e+00   3.39929e-02  -2.92906e-01\n",
      "   5  nLo_cb       2.05944e+00   5.91242e+00   1.67445e-02  -6.28722e-01\n",
      "   6  sigma_cb     1.82728e+00   1.01971e+01   9.25881e-05  -1.51033e+00\n",
      "                               ERR DEF= 0.5\n",
      " EXTERNAL ERROR MATRIX.    NDIM=  25    NPAR=  6    ERR DEF=0.5\n",
      "  2.212e+03  4.469e+00  3.074e-01 -1.200e+04  7.429e-01 -8.875e-01 \n",
      "  4.469e+00  2.051e+03  1.991e+01 -2.284e+02 -7.960e+03 -4.953e+01 \n",
      "  3.074e-01  1.991e+01  1.369e+02  1.929e+02 -1.462e+02 -1.008e+00 \n",
      " -1.200e+04 -2.284e+02  1.929e+02  1.518e+05  1.596e+03  3.992e+02 \n",
      "  7.429e-01 -7.960e+03 -1.462e+02  1.596e+03  4.340e+04  3.352e+02 \n",
      " -8.875e-01 -4.953e+01 -1.008e+00  3.992e+02  3.352e+02  7.473e+01 \n",
      " PARAMETER  CORRELATION COEFFICIENTS  \n",
      "       NO.  GLOBAL      1      2      3      4      5      6\n",
      "        1  0.65980   1.000  0.002  0.001 -0.655  0.000 -0.002\n",
      "        2  0.84443   0.002  1.000  0.038 -0.013 -0.844 -0.127\n",
      "        3  0.08740   0.001  0.038  1.000  0.042 -0.060 -0.010\n",
      "        4  0.66658  -0.655 -0.013  0.042  1.000  0.020  0.119\n",
      "        5  0.84800   0.000 -0.844 -0.060  0.020  1.000  0.186\n",
      "        6  0.24544  -0.002 -0.127 -0.010  0.119  0.186  1.000\n",
      "[#1] INFO:Minization -- RooMinimizer::optimizeConst: deactivating const optimization\n"
     ]
    }
   ],
   "source": [
    "# -- individual fit to single higgs bkg\n",
    "dscb_1h.fitTo(dh_bkg_1H, rf.SumW2Error(ROOT.kTRUE))"
   ]
  },
  {
   "cell_type": "code",
   "execution_count": 15,
   "metadata": {
    "collapsed": false,
    "deletable": true,
    "editable": true
   },
   "outputs": [
    {
     "data": {
      "image/png": "[encoded data removed]",
      "text/plain": [
       "<ROOT.TCanvas object (\"icanvas\") at 0x7f955d629000>"
      ]
     },
     "execution_count": 15,
     "metadata": {},
     "output_type": "execute_result"
    },
    {
     "name": "stdout",
     "output_type": "stream",
     "text": [
      "[#1] INFO:InputArguments -- RooAbsData::plotOn(0tag_bkg_nonHiggs) INFO: dataset has non-integer weights, auto-selecting SumW2 errors instead of Poisson errors\n",
      "[#1] INFO:InputArguments -- RooAbsData::plotOn(0tag_bkg_1Higgs) INFO: dataset has non-integer weights, auto-selecting SumW2 errors instead of Poisson errors\n",
      "[#1] INFO:Plotting -- RooPlot::updateFitRangeNorm: New event count of 11.0631 will supercede previous event count of 1099 for normalization of PDF projections\n"
     ]
    },
    {
     "name": "stderr",
     "output_type": "stream",
     "text": [
      "INFO:ROOT.TCanvas.Print] png file /var/folders/0d/3d7wlbr14zn3_l2ctx0r1jdw0000gn/T/tmpC4nW_u.png has been created\n"
     ]
    }
   ],
   "source": [
    "frame = myy.frame()\n",
    "dh_bkg_noH.plotOn(frame)\n",
    "exp_function.plotOn(frame)\n",
    "\n",
    "dh_bkg_1H.plotOn(frame)\n",
    "dscb_1h.plotOn(frame, rf.LineColor(ROOT.kRed))\n",
    "\n",
    "frame.Draw()\n",
    "frame.SetTitle(\"\")\n",
    "frame.SetMinimum(1e-6)\n",
    "c1.SetLogy(True)\n",
    "c1\n",
    "# draw()"
   ]
  },
  {
   "cell_type": "code",
   "execution_count": 16,
   "metadata": {
    "collapsed": false,
    "deletable": true,
    "editable": true,
    "scrolled": false
   },
   "outputs": [],
   "source": [
    "# -- double sided crystal ball\n",
    "# m0_cb = ROOT.RooRealVar('m0_cb','m0_cb', 125, 105, 160)\n",
    "# sigma_cb = ROOT.RooRealVar('sigma_cb','sigma_cb', 5, 0, 2000)\n",
    "alphaLo_cb_fixed = ROOT.RooRealVar('alphaLo_cb_fixed','alphaLo_cb_fixed', 2.37750)\n",
    "nLo_cb_fixed = ROOT.RooRealVar('nLo_cb_fixed','nLo_cb_fixed', 2.05944)\n",
    "alphaHi_cb_fixed = ROOT.RooRealVar('alphaHi_cb_fixed','alphaHi_cb_fixed', 2.44064)\n",
    "nHi_cb_fixed = ROOT.RooRealVar('nHi_cb_fixed','nHi_cb_fixed', 3.55632)\n",
    "\n",
    "dscb_1h_fixed = ROOT.HggTwoSidedCBPdf(\n",
    "    'dscb_1h_fixed', 'Double Sided Crystal Ball fit for single higgs bkg in 0tag category',\n",
    "    myy,\n",
    "    m0_cb,\n",
    "    sigma_cb,\n",
    "    alphaLo_cb_fixed,\n",
    "    nLo_cb_fixed,\n",
    "    alphaHi_cb_fixed,\n",
    "    nHi_cb_fixed\n",
    ")\n",
    "\n",
    "# -- define non-Higgs bkg fit function (Exponential pdf)\n",
    "c0_bkg_fixed = ROOT.RooRealVar('c0_bkg_fixed', 'coefficient c0 of exponential bkg fit', -1.48644e-2)\n",
    "exp_function_fixed = ROOT.RooExponential('bkg_fit_fixed', 'exponential bkg fit in 0 tag category', myy, c0_bkg_fixed)"
   ]
  },
  {
   "cell_type": "code",
   "execution_count": 17,
   "metadata": {
    "collapsed": true,
    "deletable": true,
    "editable": true
   },
   "outputs": [],
   "source": [
    "#ROOT.RooAddPdf?"
   ]
  },
  {
   "cell_type": "code",
   "execution_count": 18,
   "metadata": {
    "collapsed": false,
    "deletable": true,
    "editable": true
   },
   "outputs": [
    {
     "name": "stdout",
     "output_type": "stream",
     "text": [
      "1099.0\n",
      "11.0630627785\n"
     ]
    }
   ],
   "source": [
    "print dh_bkg_noH.sum(ROOT.kFALSE)\n",
    "print dh_bkg_1H.sum(ROOT.kFALSE)"
   ]
  },
  {
   "cell_type": "markdown",
   "metadata": {
    "deletable": true,
    "editable": true
   },
   "source": [
    "In an extended pdf, we provide the expected number of observed events of each kind. Underneath, this tacks on a Poisson term to the entire pdf which describes the probability of seeing that number of events of each kind. This is important because it allows the two independent pdfs to be normalized to something slightly off of the nominal value. Otherwise, if we provide a fraction f0, the second coefficient can only be (1-f0). This would then have to be scaled to exactly the number of observed events, without allowing the normalization to be slighly off of the expected one."
   ]
  },
  {
   "cell_type": "code",
   "execution_count": 19,
   "metadata": {
    "collapsed": false,
    "deletable": true,
    "editable": true
   },
   "outputs": [],
   "source": [
    "n_1h = ROOT.RooRealVar(\"n_1h\", \"expected number of 1 Higgs bkg events\", 11)#, 0, 14069) \n",
    "n_noh = ROOT.RooRealVar(\"n_noh\", \"expected number of non Higgs bkg events\", 1009, 0, 3000)\n",
    "\n",
    "full_bkg = ROOT.RooAddPdf('full_bkg_pdf', 'Full Bkg PDF',\n",
    "                    ROOT.RooArgList(exp_function_fixed, dscb_1h_fixed),\n",
    "                    ROOT.RooArgList(n_noh, n_1h) # extended pdf!\n",
    ")"
   ]
  },
  {
   "cell_type": "code",
   "execution_count": 20,
   "metadata": {
    "collapsed": false,
    "deletable": true,
    "editable": true
   },
   "outputs": [],
   "source": [
    "from copy import deepcopy\n",
    "\n",
    "combined_data = deepcopy(dh_bkg_noH)\n",
    "combined_data.add(dh_bkg_1H)"
   ]
  },
  {
   "cell_type": "code",
   "execution_count": 21,
   "metadata": {
    "collapsed": false,
    "deletable": true,
    "editable": true,
    "scrolled": false
   },
   "outputs": [
    {
     "data": {
      "text/plain": [
       "<ROOT.RooFitResult object at 0x0>"
      ]
     },
     "execution_count": 21,
     "metadata": {},
     "output_type": "execute_result"
    },
    {
     "name": "stdout",
     "output_type": "stream",
     "text": [
      "[#1] INFO:Minization -- p.d.f. provides expected number of events, including extended term in likelihood.\n",
      "[#1] INFO:Minization -- RooMinimizer::optimizeConst: activating const optimization\n",
      "[#1] INFO:Minization --  The following expressions have been identified as constant and will be precalculated and cached: (bkg_fit_fixed)\n",
      "[#1] INFO:Minization --  The following expressions will be evaluated in cache-and-track mode: (dscb_1h_fixed)\n",
      " **********\n",
      " **    1 **SET PRINT           1\n",
      " **********\n",
      " **********\n",
      " **    2 **SET NOGRAD\n",
      " **********\n",
      " PARAMETER DEFINITIONS:\n",
      "    NO.   NAME         VALUE      STEP SIZE      LIMITS\n",
      "     1 m0_cb        1.24984e+02  2.67375e-02    1.05000e+02  1.60000e+02\n",
      "     2 n_noh        1.00900e+03  3.00000e+02    0.00000e+00  3.00000e+03\n",
      "     3 sigma_cb     1.82728e+00  2.03890e-02    0.00000e+00  2.00000e+03\n",
      " **********\n",
      " **    3 **SET ERR         0.5\n",
      " **********\n",
      " **********\n",
      " **    4 **SET PRINT           1\n",
      " **********\n",
      " **********\n",
      " **    5 **SET STR           1\n",
      " **********\n",
      " NOW USING STRATEGY  1: TRY TO BALANCE SPEED AGAINST RELIABILITY\n",
      " **********\n",
      " **    6 **MIGRAD        1500           1\n",
      " **********\n",
      " FIRST CALL TO USER FUNCTION AT NEW START POINT, WITH IFLAG=4.\n",
      " START MIGRAD MINIMIZATION.  STRATEGY  1.  CONVERGENCE WHEN EDM .LT. 1.00e-03\n",
      " FCN=-2252.91 FROM MIGRAD    STATUS=INITIATE       12 CALLS          13 TOTAL\n",
      "                     EDM= unknown      STRATEGY= 1      NO ERROR MATRIX       \n",
      "  EXT PARAMETER               CURRENT GUESS       STEP         FIRST   \n",
      "  NO.   NAME      VALUE            ERROR          SIZE      DERIVATIVE \n",
      "   1  m0_cb        1.24984e+02   2.67375e-02   1.01076e-03  -2.27235e-01\n",
      "   2  n_noh        1.00900e+03   3.00000e+02   2.13890e-01  -1.25395e+02\n",
      "   3  sigma_cb     1.82728e+00   2.03890e-02   3.37431e-04  -1.05350e+01\n",
      "                               ERR DEF= 0.5\n",
      " MIGRAD MINIMIZATION HAS CONVERGED.\n",
      " MIGRAD WILL VERIFY CONVERGENCE AND ERROR MATRIX.\n",
      " COVARIANCE MATRIX CALCULATED SUCCESSFULLY\n",
      " FCN=-2256.8 FROM MIGRAD    STATUS=CONVERGED      46 CALLS          47 TOTAL\n",
      "                     EDM=6.16942e-05    STRATEGY= 1      ERROR MATRIX ACCURATE \n",
      "  EXT PARAMETER                                   STEP         FIRST   \n",
      "  NO.   NAME      VALUE            ERROR          SIZE      DERIVATIVE \n",
      "   1  m0_cb        1.24981e+02   2.69636e+00   3.36199e-03  -3.31621e-02\n",
      "   2  n_noh        1.09887e+03   3.33001e+01   7.53846e-04  -3.07146e-01\n",
      "   3  sigma_cb     2.06714e+00   1.35405e+00   7.25387e-04  -2.72821e-02\n",
      "                               ERR DEF= 0.5\n",
      " EXTERNAL ERROR MATRIX.    NDIM=  25    NPAR=  3    ERR DEF=0.5\n",
      "  7.296e+00  1.099e-01 -1.858e-01 \n",
      "  1.099e-01  1.109e+03 -2.640e-01 \n",
      " -1.858e-01 -2.640e-01  1.834e+00 \n",
      " PARAMETER  CORRELATION COEFFICIENTS  \n",
      "       NO.  GLOBAL      1      2      3\n",
      "        1  0.05081   1.000  0.001 -0.051\n",
      "        2  0.00593   0.001  1.000 -0.006\n",
      "        3  0.05113  -0.051 -0.006  1.000\n",
      " **********\n",
      " **    7 **SET ERR         0.5\n",
      " **********\n",
      " **********\n",
      " **    8 **SET PRINT           1\n",
      " **********\n",
      " **********\n",
      " **    9 **HESSE        1500\n",
      " **********\n",
      " COVARIANCE MATRIX CALCULATED SUCCESSFULLY\n",
      " FCN=-2256.8 FROM HESSE     STATUS=OK             16 CALLS          63 TOTAL\n",
      "                     EDM=6.16447e-05    STRATEGY= 1      ERROR MATRIX ACCURATE \n",
      "  EXT PARAMETER                                INTERNAL      INTERNAL  \n",
      "  NO.   NAME      VALUE            ERROR       STEP SIZE       VALUE   \n",
      "   1  m0_cb        1.24981e+02   2.69756e+00   6.72398e-04  -2.76954e-01\n",
      "   2  n_noh        1.09887e+03   3.33002e+01   1.50769e-04  -2.70712e-01\n",
      "   3  sigma_cb     2.06714e+00   1.35311e+00   2.90155e-05  -1.50649e+00\n",
      "                               ERR DEF= 0.5\n",
      " EXTERNAL ERROR MATRIX.    NDIM=  25    NPAR=  3    ERR DEF=0.5\n",
      "  7.302e+00  8.429e-02 -2.332e-01 \n",
      "  8.429e-02  1.109e+03 -2.887e-01 \n",
      " -2.332e-01 -2.887e-01  1.831e+00 \n",
      " PARAMETER  CORRELATION COEFFICIENTS  \n",
      "       NO.  GLOBAL      1      2      3\n",
      "        1  0.06378   1.000  0.001 -0.064\n",
      "        2  0.00643   0.001  1.000 -0.006\n",
      "        3  0.06409  -0.064 -0.006  1.000\n",
      "[#1] INFO:Fitting -- RooAbsPdf::fitTo(full_bkg_pdf) Calculating sum-of-weights-squared correction matrix for covariance matrix\n",
      " **********\n",
      " **   10 **SET ERR         0.5\n",
      " **********\n",
      " **********\n",
      " **   11 **SET PRINT           1\n",
      " **********\n",
      " **********\n",
      " **   12 **HESSE        1500\n",
      " **********\n",
      " COVARIANCE MATRIX CALCULATED SUCCESSFULLY\n",
      " FCN=-650.181 FROM HESSE     STATUS=OK             22 CALLS          85 TOTAL\n",
      "                     EDM=0.216108    STRATEGY= 1      ERROR MATRIX ACCURATE \n",
      "  EXT PARAMETER                                INTERNAL      INTERNAL  \n",
      "  NO.   NAME      VALUE            ERROR       STEP SIZE       VALUE   \n",
      "   1  m0_cb        1.24981e+02   1.86662e+01   1.37169e-02  -2.76954e-01\n",
      "   2  n_noh        1.09887e+03   6.24270e+01   3.07569e-03  -2.70712e-01\n",
      "   3  sigma_cb     2.06714e+00   4.34918e+00   5.91916e-04  -1.50649e+00\n",
      "                               ERR DEF= 0.5\n",
      " EXTERNAL ERROR MATRIX.    NDIM=  25    NPAR=  3    ERR DEF=0.5\n",
      "  4.294e+02  4.675e+01 -7.256e+01 \n",
      "  4.675e+01  3.900e+03 -1.033e+01 \n",
      " -7.256e+01 -1.033e+01  1.894e+01 \n",
      " PARAMETER  CORRELATION COEFFICIENTS  \n",
      "       NO.  GLOBAL      1      2      3\n",
      "        1  0.80460   1.000  0.036 -0.805\n",
      "        2  0.03913   0.036  1.000 -0.038\n",
      "        3  0.80463  -0.805 -0.038  1.000\n",
      "[#1] INFO:Minization -- RooMinimizer::optimizeConst: deactivating const optimization\n"
     ]
    }
   ],
   "source": [
    "full_bkg.fitTo(combined_data, rf.SumW2Error(ROOT.kTRUE))"
   ]
  },
  {
   "cell_type": "code",
   "execution_count": 22,
   "metadata": {
    "collapsed": false,
    "deletable": true,
    "editable": true
   },
   "outputs": [
    {
     "data": {
      "image/png": "[encoded data removed]",
      "text/plain": [
       "<ROOT.TCanvas object (\"icanvas\") at 0x7f955d629000>"
      ]
     },
     "execution_count": 22,
     "metadata": {},
     "output_type": "execute_result"
    },
    {
     "name": "stdout",
     "output_type": "stream",
     "text": [
      "[#1] INFO:InputArguments -- RooAbsData::plotOn(0tag_bkg_nonHiggs) INFO: dataset has non-integer weights, auto-selecting SumW2 errors instead of Poisson errors\n",
      "[#1] INFO:Plotting -- RooAbsPdf::plotOn(full_bkg_pdf) directly selected PDF components: (bkg_fit_fixed)\n",
      "[#1] INFO:Plotting -- RooAbsPdf::plotOn(full_bkg_pdf) indirectly selected PDF components: ()\n",
      "[#1] INFO:Plotting -- RooAbsPdf::plotOn(full_bkg_pdf) directly selected PDF components: (dscb_1h_fixed)\n",
      "[#1] INFO:Plotting -- RooAbsPdf::plotOn(full_bkg_pdf) indirectly selected PDF components: ()\n"
     ]
    },
    {
     "name": "stderr",
     "output_type": "stream",
     "text": [
      "INFO:ROOT.TCanvas.Print] png file /var/folders/0d/3d7wlbr14zn3_l2ctx0r1jdw0000gn/T/tmp62g2Lm.png has been created\n"
     ]
    }
   ],
   "source": [
    "frame = myy.frame()\n",
    "combined_data.plotOn(frame)\n",
    "#dh_bkg_noH.plotOn(frame)\n",
    "#exp_function.plotOn(frame)\n",
    "#dh_bkg_1H.plotOn(frame)\n",
    "#dscb_1h.plotOn(frame)\n",
    "\n",
    "full_bkg.plotOn(frame)\n",
    "full_bkg.plotOn(frame, ROOT.RooFit.Components('bkg_fit_fixed'), ROOT.RooFit.LineStyle(ROOT.kDashed))\n",
    "full_bkg.plotOn(frame, ROOT.RooFit.Components('dscb_1h_fixed'), ROOT.RooFit.LineStyle(ROOT.kDashed), ROOT.RooFit.LineColor(ROOT.kRed))\n",
    "\n",
    "frame.Draw()\n",
    "frame.SetTitle(\"\")\n",
    "c1.SetLogy(False)\n",
    "c1\n",
    "# draw()"
   ]
  },
  {
   "cell_type": "markdown",
   "metadata": {
    "deletable": true,
    "editable": true
   },
   "source": [
    "# Insert Gaussian constraint on a variable in the model"
   ]
  },
  {
   "cell_type": "markdown",
   "metadata": {
    "deletable": true,
    "editable": true
   },
   "source": [
    "Check out: https://root.cern.ch/root/html/tutorials/roofit/rf604_constraints.C.html"
   ]
  },
  {
   "cell_type": "code",
   "execution_count": 23,
   "metadata": {
    "collapsed": true,
    "deletable": true,
    "editable": true
   },
   "outputs": [],
   "source": [
    "# -- introduce the nuisance parameter theta and its gaussian distribution\n",
    "theta = ROOT.RooRealVar(\"theta\", \"nuisance param\", -10, 10) # variable definition\n",
    "theta_0 = ROOT.RooRealVar(\"theta_global\", \"global value of nuisance param\", 0 ) # global observable, fixed value\n",
    "theta_constraint = ROOT.RooGaussian(\"theta_constraint\", \"theta_constraint\", theta, theta_0, rf.RooConst(1))"
   ]
  },
  {
   "cell_type": "markdown",
   "metadata": {
    "deletable": true,
    "editable": true
   },
   "source": [
    "Theta affects the yield of the 1-Higgs background:\n",
    "$$\\text{PDF} = (n_{noH} * f_{\\text{exp}} + n_{1H}(1 + 0.3*\\theta) * f_{\\text{DSCB}} + \\mu * n_{2H} * f_{\\text{DSCB}}) * Gauss(\\theta; \\theta_0, 1)$$\n",
    "where $\\theta_0$ is a global observable."
   ]
  },
  {
   "cell_type": "code",
   "execution_count": 24,
   "metadata": {
    "collapsed": false,
    "deletable": true,
    "editable": true
   },
   "outputs": [],
   "source": [
    "_product = ROOT.RooProduct(\"xxx\", \"xxx\", ROOT.RooArgList(rf.RooConst(0.0003), theta)) # 0.3 * theta"
   ]
  },
  {
   "cell_type": "code",
   "execution_count": 25,
   "metadata": {
    "collapsed": false,
    "deletable": true,
    "editable": true
   },
   "outputs": [],
   "source": [
    "n_1h_coeff = ROOT.RooAddition(\n",
    "    \"n_1h_coeff\", \"n_1h_coeff\", ROOT.RooArgList(\n",
    "        rf.RooConst(1),\n",
    "        _product\n",
    "    )\n",
    ") # (1 + 0.3*theta)"
   ]
  },
  {
   "cell_type": "code",
   "execution_count": 26,
   "metadata": {
    "collapsed": true,
    "deletable": true,
    "editable": true
   },
   "outputs": [],
   "source": [
    "n_1h_prod = ROOT.RooProduct(\n",
    "    \"n_1h_prod\", \"n_1h_prod\", ROOT.RooArgList(n_1h, n_1h_coeff)\n",
    ") # n_1h * (1 + 0.3*theta)"
   ]
  },
  {
   "cell_type": "code",
   "execution_count": 27,
   "metadata": {
    "collapsed": true,
    "deletable": true,
    "editable": true
   },
   "outputs": [],
   "source": [
    "mu_2h_signal_strength = ROOT.RooRealVar(\"mu_2h_signal_strength\", \"double higgs signal strength\", 1, 0, 200) # is the range ok?\n",
    "n_2h = ROOT.RooRealVar(\"n_2h\", \"expected number of 2 Higgs signal events\", 1) # get this from the cutflow\n",
    "n_2h_times_mu = ROOT.RooProduct(\n",
    "        \"n_2h_times_mu\", \"n_2h * mu_2h\", ROOT.RooArgList(n_2h, mu_2h_signal_strength)\n",
    ")\n",
    "pdf_2h = dscb_1h_fixed # for now, same as single higgs pdf (but m0 and sigma should be able to vary)"
   ]
  },
  {
   "cell_type": "code",
   "execution_count": 28,
   "metadata": {
    "collapsed": false,
    "deletable": true,
    "editable": true
   },
   "outputs": [],
   "source": [
    "# n_1h = ROOT.RooRealVar(\"n_1h\", \"expected number of 1 Higgs bkg events\", 69, 0, 14069) \n",
    "# n_noh = ROOT.RooRealVar(\"n_noh\", \"expected number of non Higgs bkg events\", 14000, 0, 20000)\n",
    "# theta = ROOT.RooRealVar(\"theta\", \"nuisance param\", -10, 10)\n",
    "# theta_constraint = ROOT.RooGaussian(\"theta_constraint\", \"theta_constraint\", theta, rf.RooConst(0), rf.RooConst(1))\n",
    "\n",
    "full_model = ROOT.RooAddPdf('full_model', 'Full model PDF',\n",
    "                    ROOT.RooArgList(exp_function_fixed, dscb_1h_fixed, pdf_2h),\n",
    "                    ROOT.RooArgList(n_noh, n_1h_prod, n_2h_times_mu)\n",
    ")"
   ]
  },
  {
   "cell_type": "code",
   "execution_count": 29,
   "metadata": {
    "collapsed": true,
    "deletable": true,
    "editable": true
   },
   "outputs": [],
   "source": [
    "constrained_model = ROOT.RooProdPdf('constrained_model', 'Full PDF with theta constraint',\n",
    "                    ROOT.RooArgList(full_model, theta_constraint)\n",
    ")"
   ]
  },
  {
   "cell_type": "code",
   "execution_count": 30,
   "metadata": {
    "collapsed": false,
    "deletable": true,
    "editable": true,
    "scrolled": false
   },
   "outputs": [
    {
     "data": {
      "text/plain": [
       "<ROOT.RooFitResult object at 0x0>"
      ]
     },
     "execution_count": 30,
     "metadata": {},
     "output_type": "execute_result"
    },
    {
     "name": "stdout",
     "output_type": "stream",
     "text": [
      "[#1] INFO:Minization -- p.d.f. provides expected number of events, including extended term in likelihood.\n",
      "[#1] INFO:Minization --  Including the following contraint terms in minimization: (theta_constraint)\n",
      "[#1] INFO:Fitting -- RooAddition::defaultErrorLevel(nll_constrained_model_0tag_bkg_nonHiggs_with_constr) Summation contains a RooNLLVar, using its error level\n",
      "[#1] INFO:Minization -- RooMinimizer::optimizeConst: activating const optimization\n",
      "[#1] INFO:Minization --  The following expressions have been identified as constant and will be precalculated and cached: (bkg_fit_fixed)\n",
      "[#1] INFO:Minization --  The following expressions will be evaluated in cache-and-track mode: (dscb_1h_fixed)\n",
      " **********\n",
      " **    1 **SET PRINT           1\n",
      " **********\n",
      " **********\n",
      " **    2 **SET NOGRAD\n",
      " **********\n",
      " PARAMETER DEFINITIONS:\n",
      "    NO.   NAME         VALUE      STEP SIZE      LIMITS\n",
      "     1 m0_cb        1.24981e+02  5.23601e-01    1.05000e+02  1.60000e+02\n",
      "     2 mu_2h_signal_strength   1.00000e+00  5.00000e-01    0.00000e+00  2.00000e+02\n",
      "     3 n_noh        1.09887e+03  1.77730e+01    0.00000e+00  3.00000e+03\n",
      "     4 sigma_cb     2.06714e+00  6.93334e-01    0.00000e+00  2.00000e+03\n",
      "     5 theta        0.00000e+00  2.00000e+00   -1.00000e+01  1.00000e+01\n",
      " **********\n",
      " **    3 **SET ERR         0.5\n",
      " **********\n",
      " **********\n",
      " **    4 **SET PRINT           1\n",
      " **********\n",
      " **********\n",
      " **    5 **SET STR           1\n",
      " **********\n",
      " NOW USING STRATEGY  1: TRY TO BALANCE SPEED AGAINST RELIABILITY\n",
      " **********\n",
      " **    6 **MIGRAD        2500           1\n",
      " **********\n",
      " FIRST CALL TO USER FUNCTION AT NEW START POINT, WITH IFLAG=4.\n",
      " START MIGRAD MINIMIZATION.  STRATEGY  1.  CONVERGENCE WHEN EDM .LT. 1.00e-03\n",
      " FCN=-2255.88 FROM MIGRAD    STATUS=INITIATE       20 CALLS          21 TOTAL\n",
      "                     EDM= unknown      STRATEGY= 1      NO ERROR MATRIX       \n",
      "  EXT PARAMETER               CURRENT GUESS       STEP         FIRST   \n",
      "  NO.   NAME      VALUE            ERROR          SIZE      DERIVATIVE \n",
      "   1  m0_cb        1.24981e+02   5.23601e-01   1.97960e-02  -1.87695e-02\n",
      "   2  mu_2h_signal_strength   1.00000e+00   5.00000e-01   3.66903e-02   1.35495e-01\n",
      "   3  n_noh        1.09887e+03   1.77730e+01   1.22969e-02   9.14215e-01\n",
      "   4  sigma_cb     2.06714e+00   6.93334e-01   1.09483e-02  -1.02521e+00\n",
      "   5  theta        0.00000e+00   2.00000e+00   2.01358e-01   3.16316e-04\n",
      "                               ERR DEF= 0.5\n",
      " MIGRAD MINIMIZATION HAS CONVERGED.\n",
      " MIGRAD WILL VERIFY CONVERGENCE AND ERROR MATRIX.\n",
      " COVARIANCE MATRIX CALCULATED SUCCESSFULLY\n",
      " FCN=-2255.88 FROM MIGRAD    STATUS=CONVERGED      98 CALLS          99 TOTAL\n",
      "                     EDM=2.09735e-05    STRATEGY= 1      ERROR MATRIX ACCURATE \n",
      "  EXT PARAMETER                                   STEP         FIRST   \n",
      "  NO.   NAME      VALUE            ERROR          SIZE      DERIVATIVE \n",
      "   1  m0_cb        1.24992e+02   2.69565e+00   3.34226e-03   4.78859e-03\n",
      "   2  mu_2h_signal_strength   2.51391e-04   1.45414e+02   4.68714e-02   9.69255e-04\n",
      "   3  n_noh        1.09918e+03   3.35015e+01   7.55964e-04   9.12286e-02\n",
      "   4  sigma_cb     2.06224e+00   1.35391e+00   6.90825e-04  -1.84973e-01\n",
      "   5  theta       -1.57312e-05   9.98336e-01   3.28014e-03  -1.46976e-05\n",
      "                               ERR DEF= 0.5\n",
      " EXTERNAL ERROR MATRIX.    NDIM=  25    NPAR=  5    ERR DEF=0.5\n",
      "  7.292e+00 -1.409e-02  2.742e-01 -1.953e-01 -3.420e-05 \n",
      " -1.409e-02  1.103e-01 -1.193e+00  3.134e-02 -1.876e-05 \n",
      "  2.742e-01 -1.193e+00  1.123e+03 -6.087e-01 -2.917e-03 \n",
      " -1.953e-01  3.134e-02 -6.087e-01  1.833e+00  7.572e-05 \n",
      " -3.420e-05 -1.876e-05 -2.917e-03  7.572e-05  1.000e+00 \n",
      " PARAMETER  CORRELATION COEFFICIENTS  \n",
      "       NO.  GLOBAL      1      2      3      4      5\n",
      "        1  0.05477   1.000 -0.016  0.003 -0.053 -0.000\n",
      "        2  0.12765  -0.016  1.000 -0.107  0.070 -0.000\n",
      "        3  0.10740   0.003 -0.107  1.000 -0.013 -0.000\n",
      "        4  0.08735  -0.053  0.070 -0.013  1.000  0.000\n",
      "        5  0.00012  -0.000 -0.000 -0.000  0.000  1.000\n",
      " **********\n",
      " **    7 **SET ERR         0.5\n",
      " **********\n",
      " **********\n",
      " **    8 **SET PRINT           1\n",
      " **********\n",
      " **********\n",
      " **    9 **HESSE        2500\n",
      " **********\n",
      " COVARIANCE MATRIX CALCULATED SUCCESSFULLY\n",
      " FCN=-2255.88 FROM HESSE     STATUS=OK             37 CALLS         136 TOTAL\n",
      "                     EDM=2.73046e-05    STRATEGY= 1      ERROR MATRIX ACCURATE \n",
      "  EXT PARAMETER                                INTERNAL      INTERNAL  \n",
      "  NO.   NAME      VALUE            ERROR       STEP SIZE       VALUE   \n",
      "   1  m0_cb        1.24992e+02   2.70757e+00   1.33691e-04  -2.76535e-01\n",
      "   2  mu_2h_signal_strength   2.51391e-04   2.05754e+01   5.00000e-01  -1.56855e+00\n",
      "   3  n_noh        1.09918e+03   3.62685e+01   1.51193e-04  -2.70500e-01\n",
      "   4  sigma_cb     2.06224e+00   1.57845e+00   2.76330e-05  -1.50656e+00\n",
      "   5  theta       -1.57312e-05   9.98334e-01   6.56028e-04  -1.57312e-06\n",
      "                               ERR DEF= 0.5\n",
      " EXTERNAL ERROR MATRIX.    NDIM=  25    NPAR=  5    ERR DEF=0.5\n",
      "  7.357e+00 -3.580e-02  3.599e+00 -4.386e-01  2.196e-05 \n",
      " -3.580e-02  2.144e-02 -2.102e+00  1.198e-01 -2.909e-05 \n",
      "  3.599e+00 -2.102e+00  1.316e+03 -1.204e+01 -2.719e-04 \n",
      " -4.386e-01  1.198e-01 -1.204e+01  2.492e+00 -7.457e-05 \n",
      "  2.196e-05 -2.909e-05 -2.719e-04 -7.457e-05  1.000e+00 \n",
      " PARAMETER  CORRELATION COEFFICIENTS  \n",
      "       NO.  GLOBAL      1      2      3      4      5\n",
      "        1  0.11123   1.000 -0.090  0.037 -0.102  0.000\n",
      "        2  0.59644  -0.090  1.000 -0.396  0.518 -0.000\n",
      "        3  0.39577   0.037 -0.396  1.000 -0.210 -0.000\n",
      "        4  0.52134  -0.102  0.518 -0.210  1.000 -0.000\n",
      "        5  0.00023   0.000 -0.000 -0.000 -0.000  1.000\n",
      "[#1] INFO:Fitting -- RooAbsPdf::fitTo(constrained_model) Calculating sum-of-weights-squared correction matrix for covariance matrix\n",
      " **********\n",
      " **   10 **SET ERR         0.5\n",
      " **********\n",
      " **********\n",
      " **   11 **SET PRINT           1\n",
      " **********\n",
      " **********\n",
      " **   12 **HESSE        2500\n",
      " **********\n",
      " COVARIANCE MATRIX CALCULATED SUCCESSFULLY\n",
      " FCN=-649.262 FROM HESSE     STATUS=OK             43 CALLS         179 TOTAL\n",
      "                     EDM=4.02212    STRATEGY= 1      ERROR MATRIX ACCURATE \n",
      "  EXT PARAMETER                                INTERNAL      INTERNAL  \n",
      "  NO.   NAME      VALUE            ERROR       STEP SIZE       VALUE   \n",
      "   1  m0_cb        1.24992e+02   3.36629e+01   2.72729e-03  -2.76535e-01\n",
      "   2  mu_2h_signal_strength   2.51391e-04   1.99730e+02   4.16644e-01  -1.56855e+00\n",
      "   3  n_noh        1.09918e+03   9.17850e+01   3.08433e-03  -2.70500e-01\n",
      "   4  sigma_cb     2.06224e+00   4.26901e+01   5.63713e-04  -1.50656e+00\n",
      "   5  theta       -1.57312e-05   9.98334e-01   1.31206e-04  -1.57312e-06\n",
      "                               ERR DEF= 0.5\n",
      " EXTERNAL ERROR MATRIX.    NDIM=  25    NPAR=  5    ERR DEF=0.5\n",
      "  6.473e+03 -5.694e+01  5.303e+03 -1.498e+03 -4.950e-02 \n",
      " -5.694e+01  5.303e-01 -4.904e+01  1.340e+01  4.312e-04 \n",
      "  5.303e+03 -4.904e+01  8.436e+03 -1.248e+03 -4.322e-02 \n",
      " -1.498e+03  1.340e+01 -1.248e+03  3.551e+02  1.164e-02 \n",
      " -4.950e-02  4.312e-04 -4.322e-02  1.164e-02  1.000e+00 \n",
      " PARAMETER  CORRELATION COEFFICIENTS  \n",
      "       NO.  GLOBAL      1      2      3      4      5\n",
      "        1  0.98883   1.000 -0.972  0.718 -0.988 -0.001\n",
      "        2  0.97819  -0.972  1.000 -0.733  0.976  0.001\n",
      "        3  0.73364   0.718 -0.733  1.000 -0.721 -0.000\n",
      "        4  0.99057  -0.988  0.976 -0.721  1.000  0.001\n",
      "        5  0.00062  -0.001  0.001 -0.000  0.001  1.000\n",
      "[#1] INFO:Minization -- RooMinimizer::optimizeConst: deactivating const optimization\n"
     ]
    }
   ],
   "source": [
    "constrained_model.fitTo(combined_data, rf.Constrain(ROOT.RooArgSet(theta)), rf.SumW2Error(ROOT.kTRUE))"
   ]
  },
  {
   "cell_type": "code",
   "execution_count": 31,
   "metadata": {
    "collapsed": false,
    "deletable": true,
    "editable": true
   },
   "outputs": [
    {
     "data": {
      "image/png": "[encoded data removed]",
      "text/plain": [
       "<ROOT.TCanvas object (\"icanvas\") at 0x7f955d629000>"
      ]
     },
     "execution_count": 31,
     "metadata": {},
     "output_type": "execute_result"
    },
    {
     "name": "stdout",
     "output_type": "stream",
     "text": [
      "[#1] INFO:InputArguments -- RooAbsData::plotOn(0tag_bkg_nonHiggs) INFO: dataset has non-integer weights, auto-selecting SumW2 errors instead of Poisson errors\n",
      "[#1] INFO:Plotting -- RooAbsPdf::plotOn(constrained_model) directly selected PDF components: (bkg_fit_fixed)\n",
      "[#1] INFO:Plotting -- RooAbsPdf::plotOn(constrained_model) indirectly selected PDF components: (full_model)\n",
      "[#1] INFO:Plotting -- RooAbsPdf::plotOn(constrained_model) directly selected PDF components: (dscb_1h_fixed)\n",
      "[#1] INFO:Plotting -- RooAbsPdf::plotOn(constrained_model) indirectly selected PDF components: (full_model)\n"
     ]
    },
    {
     "name": "stderr",
     "output_type": "stream",
     "text": [
      "INFO:ROOT.TCanvas.Print] png file /var/folders/0d/3d7wlbr14zn3_l2ctx0r1jdw0000gn/T/tmp6KkxWO.png has been created\n"
     ]
    }
   ],
   "source": [
    "frame = myy.frame()\n",
    "combined_data.plotOn(frame)\n",
    "#dh_bkg_noH.plotOn(frame)\n",
    "#exp_function.plotOn(frame)\n",
    "#dh_bkg_1H.plotOn(frame)\n",
    "#dscb_1h.plotOn(frame)\n",
    "\n",
    "constrained_model.plotOn(frame)\n",
    "constrained_model.plotOn(frame, ROOT.RooFit.Components('bkg_fit_fixed'), ROOT.RooFit.LineStyle(ROOT.kDashed))\n",
    "constrained_model.plotOn(frame, ROOT.RooFit.Components('dscb_1h_fixed'), ROOT.RooFit.LineStyle(ROOT.kDashed), ROOT.RooFit.LineColor(ROOT.kRed))\n",
    "\n",
    "\n",
    "frame.Draw()\n",
    "frame.SetTitle(\"\")\n",
    "c1.SetLogy(False)\n",
    "c1\n",
    "# draw()"
   ]
  },
  {
   "cell_type": "markdown",
   "metadata": {
    "deletable": true,
    "editable": true
   },
   "source": [
    "# Create Workspace and import everything"
   ]
  },
  {
   "cell_type": "code",
   "execution_count": 32,
   "metadata": {
    "collapsed": false,
    "deletable": true,
    "editable": true
   },
   "outputs": [],
   "source": [
    "w = ROOT.RooWorkspace('w')"
   ]
  },
  {
   "cell_type": "code",
   "execution_count": 33,
   "metadata": {
    "collapsed": false,
    "deletable": true,
    "editable": true
   },
   "outputs": [
    {
     "data": {
      "text/plain": [
       "False"
      ]
     },
     "execution_count": 33,
     "metadata": {},
     "output_type": "execute_result"
    },
    {
     "name": "stdout",
     "output_type": "stream",
     "text": [
      "[#1] INFO:ObjectHandling -- RooWorkspace::import(w) importing RooProdPdf::constrained_model\n",
      "[#1] INFO:ObjectHandling -- RooWorkspace::import(w) importing RooAddPdf::full_model\n",
      "[#1] INFO:ObjectHandling -- RooWorkspace::import(w) importing RooExponential::bkg_fit_fixed\n",
      "[#1] INFO:ObjectHandling -- RooWorkspace::import(w) importing RooRealVar::myy\n",
      "[#1] INFO:ObjectHandling -- RooWorkspace::import(w) importing RooRealVar::c0_bkg_fixed\n",
      "[#1] INFO:ObjectHandling -- RooWorkspace::import(w) importing RooRealVar::n_noh\n",
      "[#1] INFO:ObjectHandling -- RooWorkspace::import(w) importing HggTwoSidedCBPdf::dscb_1h_fixed\n",
      "[#1] INFO:ObjectHandling -- RooWorkspace::import(w) importing RooRealVar::m0_cb\n",
      "[#1] INFO:ObjectHandling -- RooWorkspace::import(w) importing RooRealVar::sigma_cb\n",
      "[#1] INFO:ObjectHandling -- RooWorkspace::import(w) importing RooRealVar::alphaLo_cb_fixed\n",
      "[#1] INFO:ObjectHandling -- RooWorkspace::import(w) importing RooRealVar::nLo_cb_fixed\n",
      "[#1] INFO:ObjectHandling -- RooWorkspace::import(w) importing RooRealVar::alphaHi_cb_fixed\n",
      "[#1] INFO:ObjectHandling -- RooWorkspace::import(w) importing RooRealVar::nHi_cb_fixed\n",
      "[#1] INFO:ObjectHandling -- RooWorkspace::import(w) importing RooProduct::n_1h_prod\n",
      "[#1] INFO:ObjectHandling -- RooWorkspace::import(w) importing RooRealVar::n_1h\n",
      "[#1] INFO:ObjectHandling -- RooWorkspace::import(w) importing RooAddition::n_1h_coeff\n",
      "[#1] INFO:ObjectHandling -- RooWorkspace::import(w) importing RooConstVar::1\n",
      "[#1] INFO:ObjectHandling -- RooWorkspace::import(w) importing RooProduct::xxx\n",
      "[#1] INFO:ObjectHandling -- RooWorkspace::import(w) importing RooConstVar::0.0003\n",
      "[#1] INFO:ObjectHandling -- RooWorkspace::import(w) importing RooRealVar::theta\n",
      "[#1] INFO:ObjectHandling -- RooWorkspace::import(w) importing RooProduct::n_2h_times_mu\n",
      "[#1] INFO:ObjectHandling -- RooWorkspace::import(w) importing RooRealVar::n_2h\n",
      "[#1] INFO:ObjectHandling -- RooWorkspace::import(w) importing RooRealVar::mu_2h_signal_strength\n",
      "[#1] INFO:ObjectHandling -- RooWorkspace::import(w) importing RooGaussian::theta_constraint\n",
      "[#1] INFO:ObjectHandling -- RooWorkspace::import(w) importing RooRealVar::theta_global\n"
     ]
    }
   ],
   "source": [
    "getattr(w,'import')(constrained_model)"
   ]
  },
  {
   "cell_type": "code",
   "execution_count": 34,
   "metadata": {
    "collapsed": false,
    "deletable": true,
    "editable": true,
    "scrolled": false
   },
   "outputs": [
    {
     "name": "stdout",
     "output_type": "stream",
     "text": [
      "\n",
      "RooWorkspace(w) w contents\n",
      "\n",
      "variables\n",
      "---------\n",
      "(alphaHi_cb_fixed,alphaLo_cb_fixed,c0_bkg_fixed,m0_cb,mu_2h_signal_strength,myy,nHi_cb_fixed,nLo_cb_fixed,n_1h,n_2h,n_noh,sigma_cb,theta,theta_global)\n",
      "\n",
      "p.d.f.s\n",
      "-------\n",
      "RooExponential::bkg_fit_fixed[ x=myy c=c0_bkg_fixed ] = 0.139522\n",
      "RooProdPdf::constrained_model[ full_model * theta_constraint ] = 0.138199\n",
      "HggTwoSidedCBPdf::dscb_1h_fixed[ m=myy m0=m0_cb sigma=sigma_cb alphaLo=alphaLo_cb_fixed nLo=nLo_cb_fixed alphaHi=alphaHi_cb_fixed nHi=nHi_cb_fixed ] = 0.00600529\n",
      "RooAddPdf::full_model[ n_noh * bkg_fit_fixed + n_1h_prod * dscb_1h_fixed + n_2h_times_mu * dscb_1h_fixed ] = 0.138199\n",
      "RooGaussian::theta_constraint[ x=theta mean=theta_global sigma=1 ] = 1\n",
      "\n",
      "functions\n",
      "--------\n",
      "RooAddition::n_1h_coeff[ 1 + xxx ] = 1\n",
      "RooProduct::n_1h_prod[ n_1h * n_1h_coeff ] = 11\n",
      "RooProduct::n_2h_times_mu[ n_2h * mu_2h_signal_strength ] = 0.000251391\n",
      "RooProduct::xxx[ 0.0003 * theta ] = -4.71935e-09\n",
      "\n"
     ]
    }
   ],
   "source": [
    "w.Print()"
   ]
  },
  {
   "cell_type": "code",
   "execution_count": 35,
   "metadata": {
    "collapsed": true,
    "deletable": true,
    "editable": true
   },
   "outputs": [],
   "source": [
    "import ROOT.RooStats as rs"
   ]
  },
  {
   "cell_type": "code",
   "execution_count": 36,
   "metadata": {
    "collapsed": true,
    "deletable": true,
    "editable": true
   },
   "outputs": [],
   "source": [
    "mconfig = rs.ModelConfig(w) # can then be imported into the ws"
   ]
  },
  {
   "cell_type": "code",
   "execution_count": 37,
   "metadata": {
    "collapsed": false,
    "deletable": true,
    "editable": true
   },
   "outputs": [],
   "source": [
    "mconfig.SetPdf(w.pdf(\"constrained_model\"))\n",
    "mconfig.SetParametersOfInterest(ROOT.RooArgSet(w.var(\"mu_2h_signal_strength\")))\n",
    "mconfig.SetObservables(ROOT.RooArgSet(w.var(\"myy\")))#w.var(\"n_1h\"), w.var(\"n_2h\"), w.var(\"n_noh\")))\n",
    "mconfig.SetNuisanceParameters(ROOT.RooArgSet(w.var(\"theta\")))\n",
    "\n",
    "# can use ModelConfig::SetSnapshot(const RooArgSet &) \n",
    "#to define parameter values for the null in case of a common model (e.g. # = 0 for the B model)\n",
    "#mconfig.SetSnapshot(ROOT.RooArgSet(w.var(\"mu_2h_signal_strength\"))) \n",
    "mconfig.SetGlobalObservables(ROOT.RooArgSet(w.var(\"theta_global\")))"
   ]
  },
  {
   "cell_type": "code",
   "execution_count": 38,
   "metadata": {
    "collapsed": false,
    "deletable": true,
    "editable": true
   },
   "outputs": [
    {
     "name": "stdout",
     "output_type": "stream",
     "text": [
      "\n",
      "=== Using the following for  ===\n",
      "Observables:             RooArgSet:: = (myy)\n",
      "Parameters of Interest:  RooArgSet:: = (mu_2h_signal_strength)\n",
      "Nuisance Parameters:     RooArgSet:: = (theta)\n",
      "Global Observables:      RooArgSet:: = (theta_global)\n",
      "PDF:                     RooProdPdf::constrained_model[ full_model * theta_constraint ] = 0.138199\n",
      "\n"
     ]
    }
   ],
   "source": [
    "mconfig.Print()"
   ]
  },
  {
   "cell_type": "markdown",
   "metadata": {
    "deletable": true,
    "editable": true
   },
   "source": [
    "# Profile Likelihood Calculator"
   ]
  },
  {
   "cell_type": "code",
   "execution_count": 39,
   "metadata": {
    "collapsed": false,
    "deletable": true,
    "editable": true
   },
   "outputs": [],
   "source": [
    "pl = rs.ProfileLikelihoodCalculator(combined_data, mconfig)"
   ]
  },
  {
   "cell_type": "code",
   "execution_count": 40,
   "metadata": {
    "collapsed": true,
    "deletable": true,
    "editable": true
   },
   "outputs": [],
   "source": [
    "pl.SetConfidenceLevel(0.683)"
   ]
  },
  {
   "cell_type": "code",
   "execution_count": 41,
   "metadata": {
    "collapsed": false,
    "deletable": true,
    "editable": true
   },
   "outputs": [
    {
     "name": "stdout",
     "output_type": "stream",
     "text": [
      "[#1] INFO:Minization -- p.d.f. provides expected number of events, including extended term in likelihood.\n",
      "[#1] INFO:Minization --  Including the following contraint terms in minimization: (theta_constraint)\n",
      "[#0] PROGRESS:Minization -- ProfileLikelihoodCalcultor::DoGLobalFit - find MLE \n",
      "[#0] PROGRESS:Minization -- ProfileLikelihoodCalcultor::DoMinimizeNLL - using Minuit / Migrad with strategy 1\n",
      "[#1] INFO:Fitting -- RooAddition::defaultErrorLevel(nll_constrained_model_0tag_bkg_nonHiggs_with_constr) Summation contains a RooNLLVar, using its error level\n",
      "[#1] INFO:Minization -- RooMinimizer::optimizeConst: activating const optimization\n",
      "[#1] INFO:Minization --  The following expressions have been identified as constant and will be precalculated and cached: (bkg_fit_fixed)\n",
      "[#1] INFO:Minization --  The following expressions will be evaluated in cache-and-track mode: (dscb_1h_fixed)\n",
      "[#1] INFO:Minization -- \n",
      "  RooFitResult: minimized FCN value: -2255.88, estimated distance to minimum: 8.15695e-08\n",
      "                covariance matrix quality: Full, accurate covariance matrix\n",
      "                Status : MINIMIZE=0 \n",
      "\n",
      "    Floating Parameter    FinalValue +/-  Error   \n",
      "  --------------------  --------------------------\n",
      "                 m0_cb    1.2499e+02 +/-  2.70e+00\n",
      "  mu_2h_signal_strength    4.6527e-10 +/-  1.46e+02\n",
      "                 n_noh    1.0991e+03 +/-  3.35e+01\n",
      "              sigma_cb    2.0678e+00 +/-  1.36e+00\n",
      "                 theta   -1.4262e-05 +/-  9.98e-01\n",
      "\n"
     ]
    }
   ],
   "source": [
    "interval = pl.GetInterval()"
   ]
  },
  {
   "cell_type": "code",
   "execution_count": 42,
   "metadata": {
    "collapsed": false,
    "deletable": true,
    "editable": true
   },
   "outputs": [],
   "source": [
    "plot = rs.LikelihoodIntervalPlot(interval)"
   ]
  },
  {
   "cell_type": "code",
   "execution_count": 43,
   "metadata": {
    "collapsed": false,
    "deletable": true,
    "editable": true
   },
   "outputs": [
    {
     "data": {
      "image/png": "[encoded data removed]",
      "text/plain": [
       "<ROOT.TCanvas object (\"icanvas\") at 0x7f955d629000>"
      ]
     },
     "execution_count": 43,
     "metadata": {},
     "output_type": "execute_result"
    },
    {
     "name": "stdout",
     "output_type": "stream",
     "text": [
      "[#1] INFO:Minization -- RooProfileLL::evaluate(nll_constrained_model_0tag_bkg_nonHiggs_with_constr_Profile[mu_2h_signal_strength]) Creating instance of MINUIT\n",
      "[#1] INFO:Fitting -- RooAddition::defaultErrorLevel(nll_constrained_model_0tag_bkg_nonHiggs_with_constr) Summation contains a RooNLLVar, using its error level\n",
      "[#1] INFO:Minization -- RooProfileLL::evaluate(nll_constrained_model_0tag_bkg_nonHiggs_with_constr_Profile[mu_2h_signal_strength]) determining minimum likelihood for current configurations w.r.t all observable\n",
      "[#1] INFO:Minization -- RooProfileLL::evaluate(nll_constrained_model_0tag_bkg_nonHiggs_with_constr_Profile[mu_2h_signal_strength]) minimum found at (mu_2h_signal_strength=7.46751e-08)\n",
      ".Warning: lower value for mu_2h_signal_strength is at limit 0\n",
      "Warning: upper value for mu_2h_signal_strength is at limit 0\n",
      "\n",
      "[#1] INFO:Minization -- RooProfileLL::evaluate(nll_constrained_model_0tag_bkg_nonHiggs_with_constr_Profile[mu_2h_signal_strength]) Creating instance of MINUIT\n",
      "[#1] INFO:Fitting -- RooAddition::defaultErrorLevel(nll_constrained_model_0tag_bkg_nonHiggs_with_constr) Summation contains a RooNLLVar, using its error level\n",
      "[#1] INFO:Minization -- RooProfileLL::evaluate(nll_constrained_model_0tag_bkg_nonHiggs_with_constr_Profile[mu_2h_signal_strength]) determining minimum likelihood for current configurations w.r.t all observable\n",
      "[#0] ERROR:InputArguments -- RooArgSet::checkForDup: ERROR argument with name mu_2h_signal_strength is already in this set\n",
      "[#1] INFO:Minization -- RooProfileLL::evaluate(nll_constrained_model_0tag_bkg_nonHiggs_with_constr_Profile[mu_2h_signal_strength]) minimum found at (mu_2h_signal_strength=6.33105e-10)\n",
      "............................................................................................................................................................................................................................................................................................................"
     ]
    },
    {
     "name": "stderr",
     "output_type": "stream",
     "text": [
      "INFO:ROOT.TCanvas.Print] png file /var/folders/0d/3d7wlbr14zn3_l2ctx0r1jdw0000gn/T/tmp5WKR3p.png has been created\n"
     ]
    }
   ],
   "source": [
    "plot.Draw()\n",
    "c1"
   ]
  },
  {
   "cell_type": "markdown",
   "metadata": {
    "deletable": true,
    "editable": true
   },
   "source": [
    "I don't think this makes much sense. Apparently we should be using Toy MC or Asimov Dataset."
   ]
  },
  {
   "cell_type": "markdown",
   "metadata": {
    "deletable": true,
    "editable": true
   },
   "source": [
    "# Asimov Dataset"
   ]
  },
  {
   "cell_type": "markdown",
   "metadata": {
    "deletable": true,
    "editable": true
   },
   "source": [
    "First find conditional MLE values for the nuisance parameters given a fixed value of the POI. Then use these values for the Asimov Dataset generation."
   ]
  },
  {
   "cell_type": "code",
   "execution_count": 42,
   "metadata": {
    "collapsed": false,
    "deletable": true,
    "editable": true
   },
   "outputs": [],
   "source": [
    "#RooAbsData * asimov = AsymptoticCalculator::MakeAsimovData(data, mc, RooArgSet(*w.var(\"a\"),*w.var(\"b\")), RooArgSet());"
   ]
  },
  {
   "cell_type": "code",
   "execution_count": 43,
   "metadata": {
    "collapsed": true,
    "deletable": true,
    "editable": true
   },
   "outputs": [],
   "source": [
    "# AsymptoticCalculator ac(*data, *bModel, *sbModel);\n",
    "# HypoTestInverter calc(*ac);"
   ]
  },
  {
   "cell_type": "code",
   "execution_count": 44,
   "metadata": {
    "collapsed": false,
    "deletable": true,
    "editable": true,
    "scrolled": true
   },
   "outputs": [
    {
     "name": "stdout",
     "output_type": "stream",
     "text": [
      "\n",
      "[#1] INFO:Minization -- p.d.f. provides expected number of events, including extended term in likelihood.\n",
      "[#1] INFO:Minization --  Including the following contraint terms in minimization: (theta_constraint)\n",
      "[#1] INFO:Fitting -- RooAddition::defaultErrorLevel(nll_constrained_model_0tag_bkg_nonHiggs_with_constr) Summation contains a RooNLLVar, using its error level\n",
      "[#1] INFO:Minization -- RooMinimizer::optimizeConst: activating const optimization\n",
      "[#1] INFO:Minization --  The following expressions have been identified as constant and will be precalculated and cached: (bkg_fit_fixed)\n",
      "[#1] INFO:Minization --  The following expressions will be evaluated in cache-and-track mode: (dscb_1h_fixed)\n",
      " **********\n",
      " **    1 **SET PRINT           1\n",
      " **********\n",
      " **********\n",
      " **    2 **SET NOGRAD\n",
      " **********\n",
      " PARAMETER DEFINITIONS:\n",
      "    NO.   NAME         VALUE      STEP SIZE      LIMITS\n",
      "     1 m0_cb        1.24990e+02  2.69280e+00    1.05000e+02  1.60000e+02\n",
      "     2 n_noh        1.09911e+03  3.33055e+01    0.00000e+00  3.00000e+03\n",
      "     3 sigma_cb     2.06756e+00  1.25331e+00    0.00000e+00  2.00000e+03\n",
      "     4 theta       -3.28151e-02  9.98336e-01   -1.00000e+01  1.00000e+01\n",
      " **********\n",
      " **    3 **SET ERR         0.5\n",
      " **********\n",
      " **********\n",
      " **    4 **SET PRINT           1\n",
      " **********\n",
      " **********\n",
      " **    5 **SET STR           1\n",
      " **********\n",
      " NOW USING STRATEGY  1: TRY TO BALANCE SPEED AGAINST RELIABILITY\n",
      " **********\n",
      " **    6 **MIGRAD        2000           1\n",
      " **********\n",
      " FIRST CALL TO USER FUNCTION AT NEW START POINT, WITH IFLAG=4.\n",
      " START MIGRAD MINIMIZATION.  STRATEGY  1.  CONVERGENCE WHEN EDM .LT. 1.00e-03\n",
      " FCN=-2255.87 FROM MIGRAD    STATUS=INITIATE        8 CALLS           9 TOTAL\n",
      "                     EDM= unknown      STRATEGY= 1      NO ERROR MATRIX       \n",
      "  EXT PARAMETER               CURRENT GUESS       STEP         FIRST   \n",
      "  NO.   NAME      VALUE            ERROR          SIZE      DERIVATIVE \n",
      "   1  m0_cb        1.24990e+02   2.69280e+00   1.02009e-01   1.69481e-02\n",
      "   2  n_noh        1.09911e+03   3.33055e+01   2.30443e-02   1.22093e+00\n",
      "   3  sigma_cb     2.06756e+00   1.25331e+00   2.05811e-02  -9.89635e-01\n",
      "   4  theta       -3.28151e-02   9.98336e-01   1.00001e-01  -3.27826e-01\n",
      "                               ERR DEF= 0.5\n",
      " MIGRAD MINIMIZATION HAS CONVERGED.\n",
      " MIGRAD WILL VERIFY CONVERGENCE AND ERROR MATRIX.\n",
      " COVARIANCE MATRIX CALCULATED SUCCESSFULLY\n",
      " FCN=-2255.88 FROM MIGRAD    STATUS=CONVERGED      44 CALLS          45 TOTAL\n",
      "                     EDM=1.5454e-06    STRATEGY= 1      ERROR MATRIX ACCURATE \n",
      "  EXT PARAMETER                                   STEP         FIRST   \n",
      "  NO.   NAME      VALUE            ERROR          SIZE      DERIVATIVE \n",
      "   1  m0_cb        1.24986e+02   2.58631e+00   3.20236e-03   1.16235e-02\n",
      "   2  n_noh        1.09817e+03   3.33053e+01   7.56413e-04   5.98695e-03\n",
      "   3  sigma_cb     2.09317e+00   1.31686e+00   6.57126e-04  -2.15674e-02\n",
      "   4  theta       -3.18697e-05   9.98336e-01   3.28017e-03  -3.52987e-05\n",
      "                               ERR DEF= 0.5\n",
      " EXTERNAL ERROR MATRIX.    NDIM=  25    NPAR=  4    ERR DEF=0.5\n",
      "  6.710e+00  1.165e-01 -1.250e-01 -3.209e-05 \n",
      "  1.165e-01  1.109e+03 -2.913e-01 -3.096e-03 \n",
      " -1.250e-01 -2.913e-01  1.734e+00  8.024e-05 \n",
      " -3.209e-05 -3.096e-03  8.024e-05  1.000e+00 \n",
      " PARAMETER  CORRELATION COEFFICIENTS  \n",
      "       NO.  GLOBAL      1      2      3      4\n",
      "        1  0.03666   1.000  0.001 -0.037 -0.000\n",
      "        2  0.00673   0.001  1.000 -0.007 -0.000\n",
      "        3  0.03723  -0.037 -0.007  1.000  0.000\n",
      "        4  0.00011  -0.000 -0.000  0.000  1.000\n",
      " **********\n",
      " **    7 **SET ERR         0.5\n",
      " **********\n",
      " **********\n",
      " **    8 **SET PRINT           1\n",
      " **********\n",
      " **********\n",
      " **    9 **HESSE        2000\n",
      " **********\n",
      " COVARIANCE MATRIX CALCULATED SUCCESSFULLY\n",
      " FCN=-2255.88 FROM HESSE     STATUS=OK             23 CALLS          68 TOTAL\n",
      "                     EDM=1.5576e-06    STRATEGY= 1      ERROR MATRIX ACCURATE \n",
      "  EXT PARAMETER                                INTERNAL      INTERNAL  \n",
      "  NO.   NAME      VALUE            ERROR       STEP SIZE       VALUE   \n",
      "   1  m0_cb        1.24986e+02   2.58728e+00   6.40472e-04  -2.76774e-01\n",
      "   2  n_noh        1.09817e+03   3.33054e+01   3.02565e-05  -2.71198e-01\n",
      "   3  sigma_cb     2.09317e+00   1.31609e+00   2.62850e-05  -1.50608e+00\n",
      "   4  theta       -3.18697e-05   9.98334e-01   6.56033e-04  -3.18697e-06\n",
      "                               ERR DEF= 0.5\n",
      " EXTERNAL ERROR MATRIX.    NDIM=  25    NPAR=  4    ERR DEF=0.5\n",
      "  6.715e+00  9.426e-02 -1.788e-01 -2.587e-05 \n",
      "  9.426e-02  1.109e+03 -3.146e-01 -3.094e-03 \n",
      " -1.788e-01 -3.146e-01  1.732e+00  8.652e-05 \n",
      " -2.587e-05 -3.094e-03  8.652e-05  1.000e+00 \n",
      " PARAMETER  CORRELATION COEFFICIENTS  \n",
      "       NO.  GLOBAL      1      2      3      4\n",
      "        1  0.05243   1.000  0.001 -0.052 -0.000\n",
      "        2  0.00721   0.001  1.000 -0.007 -0.000\n",
      "        3  0.05291  -0.052 -0.007  1.000  0.000\n",
      "        4  0.00011  -0.000 -0.000  0.000  1.000\n",
      "[#1] INFO:Fitting -- RooAbsPdf::fitTo(constrained_model) Calculating sum-of-weights-squared correction matrix for covariance matrix\n",
      " **********\n",
      " **   10 **SET ERR         0.5\n",
      " **********\n",
      " **********\n",
      " **   11 **SET PRINT           1\n",
      " **********\n",
      " **********\n",
      " **   12 **HESSE        2000\n",
      " **********\n",
      " MINUIT WARNING IN HESSE   \n",
      " ============== Negative diagonal element 1 in Error Matrix\n",
      " MINUIT WARNING IN HESSE   \n",
      " ============== 1.52147 added to diagonal of error matrix\n",
      " COVARIANCE MATRIX CALCULATED SUCCESSFULLY\n",
      " FCN=-649.248 FROM HESSE     STATUS=OK             35 CALLS         103 TOTAL\n",
      "                     EDM=0.132175    STRATEGY= 1      ERROR MATRIX ACCURATE \n",
      "  EXT PARAMETER                                INTERNAL      INTERNAL  \n",
      "  NO.   NAME      VALUE            ERROR       STEP SIZE       VALUE   \n",
      "   1  m0_cb        1.24986e+02   3.69147e+01   3.71324e-01  -2.76774e-01\n",
      "   2  n_noh        1.09817e+03   6.23936e+01   6.17233e-04  -2.71198e-01\n",
      "   3  sigma_cb     2.09317e+00   2.50948e+00   5.36214e-04  -1.50608e+00\n",
      "   4  theta       -3.18697e-05   9.90850e-01   1.31207e-04  -3.18697e-06\n",
      "                               ERR DEF= 0.5\n",
      " EXTERNAL ERROR MATRIX.    NDIM=  25    NPAR=  4    ERR DEF=0.5\n",
      "  7.040e+02  8.742e+01 -3.865e+00 -6.766e-03 \n",
      "  8.742e+01  3.895e+03 -3.015e+00 -3.790e-03 \n",
      " -3.865e+00 -3.015e+00  6.301e+00  2.334e-04 \n",
      " -6.766e-03 -3.790e-03  2.334e-04  9.850e-01 \n",
      " PARAMETER  CORRELATION COEFFICIENTS  \n",
      "       NO.  GLOBAL      1      2      3      4\n",
      "        1  0.07770   1.000  0.053 -0.058 -0.000\n",
      "        2  0.05522   0.053  1.000 -0.019 -0.000\n",
      "        3  0.06024  -0.058 -0.019  1.000  0.000\n",
      "        4  0.00027  -0.000 -0.000  0.000  1.000\n",
      "[#1] INFO:Minization -- RooMinimizer::optimizeConst: deactivating const optimization\n",
      "  1) 0x7f955e6f1be0 RooRealVar:: theta = -3.18697e-05 +/- 1.00758  L(-10 - 10)  \"nuisance param\"\n"
     ]
    }
   ],
   "source": [
    "# set the poi to a constant to calculate best values of POI\n",
    "w.var(\"mu_2h_signal_strength\").setVal(1) \n",
    "w.var(\"mu_2h_signal_strength\").setConstant(True)\n",
    "\n",
    "# fit with fixed POI\n",
    "res = w.pdf(\"constrained_model\").fitTo(combined_data, rf.Constrain(w.set('_NuisParams')), rf.Save(), rf.SumW2Error(ROOT.kTRUE))\n",
    "\n",
    "# print best NPs\n",
    "w.set('_NuisParams').Print(\"v\")\n",
    "\n",
    "\n",
    "w.var(\"mu_2h_signal_strength\").setConstant(False)\n",
    "\n",
    "np_cmle = w.set('_NuisParams').snapshot() #conditional MLE values for mu=1"
   ]
  },
  {
   "cell_type": "code",
   "execution_count": 45,
   "metadata": {
    "collapsed": false,
    "deletable": true,
    "editable": true
   },
   "outputs": [
    {
     "data": {
      "text/plain": [
       "1.0"
      ]
     },
     "execution_count": 45,
     "metadata": {},
     "output_type": "execute_result"
    }
   ],
   "source": [
    "w.var(\"mu_2h_signal_strength\").getVal()"
   ]
  },
  {
   "cell_type": "code",
   "execution_count": 46,
   "metadata": {
    "collapsed": false,
    "deletable": true,
    "editable": true
   },
   "outputs": [],
   "source": [
    "mconfig.SetSnapshot(ROOT.RooArgSet(w.var(\"mu_2h_signal_strength\"))) "
   ]
  },
  {
   "cell_type": "code",
   "execution_count": 47,
   "metadata": {
    "collapsed": false,
    "deletable": true,
    "editable": true,
    "scrolled": false
   },
   "outputs": [
    {
     "name": "stdout",
     "output_type": "stream",
     "text": [
      "MakeAsimov: Setting poi mu_2h_signal_strength to a constant value = 1\n",
      "MakeAsimov: doing a conditional fit for finding best nuisance values \n",
      " **********\n",
      " **    1 **SET PRINT           0\n",
      " **********\n",
      " **********\n",
      " **    2 **SET NOGRAD\n",
      " **********\n",
      " PARAMETER DEFINITIONS:\n",
      "    NO.   NAME         VALUE      STEP SIZE      LIMITS\n",
      "     1 m0_cb        1.24986e+02  2.59669e-01    1.05000e+02  1.60000e+02\n",
      "     2 n_noh        1.09817e+03  1.78013e+01    0.00000e+00  3.00000e+03\n",
      "     3 sigma_cb     2.09317e+00  6.90983e-01    0.00000e+00  2.00000e+03\n",
      "     4 theta       -3.18697e-05  1.00758e+00   -1.00000e+01  1.00000e+01\n",
      " **********\n",
      " **    3 **SET ERR         0.5\n",
      " **********\n",
      " **********\n",
      " **    4 **SET PRINT           0\n",
      " **********\n",
      " **********\n",
      " **    5 **SET STR           1\n",
      " **********\n",
      " **********\n",
      " **    6 **MIGRAD        2000           1\n",
      " **********\n",
      " MIGRAD MINIMIZATION HAS CONVERGED.\n",
      " MIGRAD WILL VERIFY CONVERGENCE AND ERROR MATRIX.\n",
      " FCN=-2255.88 FROM MIGRAD    STATUS=CONVERGED      54 CALLS          55 TOTAL\n",
      "                     EDM=6.22014e-08    STRATEGY= 1      ERROR MATRIX ACCURATE \n",
      "  EXT PARAMETER                                   STEP         FIRST   \n",
      "  NO.   NAME      VALUE            ERROR          SIZE      DERIVATIVE \n",
      "   1  m0_cb        1.24983e+02   2.58691e+00   3.20936e-03   1.43191e-03\n",
      "   2  n_noh        1.09817e+03   3.33052e+01   7.55983e-04   1.16727e-03\n",
      "   3  sigma_cb     2.09409e+00   1.31782e+00   6.67555e-04   1.02984e-02\n",
      "   4  theta       -2.87162e-05   9.98336e-01   3.28013e-03  -4.38509e-06\n",
      "                               ERR DEF= 0.5\n",
      "fit time Real time 0:00:00, CP time 0.000\n",
      "RooDataSet::AsimovData[myy,weight:binWeightAsimov] = 22 entries (1110.12 weighted)\n",
      "Generated Asimov data for observables RooArgSet:: = (myy)\n",
      "Generated Asimov data for global observables RooArgSet:: = (theta_global)\n"
     ]
    }
   ],
   "source": [
    "asimov = rs.AsymptoticCalculator.MakeAsimovData(\n",
    "    combined_data,\n",
    "    mconfig,\n",
    "    ROOT.RooArgSet(w.var(\"mu_2h_signal_strength\")), # set of poi\n",
    "    ROOT.RooArgSet(w.var(\"theta_global\")) # set of global observables\n",
    ")"
   ]
  },
  {
   "cell_type": "code",
   "execution_count": 48,
   "metadata": {
    "collapsed": false,
    "deletable": true,
    "editable": true,
    "scrolled": true
   },
   "outputs": [
    {
     "name": "stdout",
     "output_type": "stream",
     "text": [
      "[#1] INFO:Minization -- p.d.f. provides expected number of events, including extended term in likelihood.\n",
      "[#1] INFO:Minization --  Including the following contraint terms in minimization: (theta_constraint)\n",
      "[#1] INFO:Fitting -- RooAddition::defaultErrorLevel(nll_constrained_model_AsimovData_with_constr) Summation contains a RooNLLVar, using its error level\n",
      "[#1] INFO:Minization -- RooMinimizer::optimizeConst: activating const optimization\n",
      "[#1] INFO:Minization --  The following expressions have been identified as constant and will be precalculated and cached: (bkg_fit_fixed)\n",
      "[#1] INFO:Minization --  The following expressions will be evaluated in cache-and-track mode: (dscb_1h_fixed)\n",
      " **********\n",
      " **    1 **SET PRINT           1\n",
      " **********\n",
      " **********\n",
      " **    2 **SET NOGRAD\n",
      " **********\n",
      " PARAMETER DEFINITIONS:\n",
      "    NO.   NAME         VALUE      STEP SIZE      LIMITS\n",
      "     1 m0_cb        1.24983e+02  2.58691e+00    1.05000e+02  1.60000e+02\n",
      "     2 mu_2h_signal_strength   1.00000e+00  1.46341e+02    0.00000e+00  2.00000e+02\n",
      " MINUIT WARNING IN PARAMETR\n",
      " ============== VARIABLE2 BROUGHT BACK INSIDE LIMITS.\n",
      "     3 n_noh        1.09817e+03  3.33052e+01    0.00000e+00  3.00000e+03\n",
      "     4 sigma_cb     2.09409e+00  1.31782e+00    0.00000e+00  2.00000e+03\n",
      "     5 theta       -2.87162e-05  9.98336e-01   -1.00000e+01  1.00000e+01\n",
      " **********\n",
      " **    3 **SET ERR         0.5\n",
      " **********\n",
      " **********\n",
      " **    4 **SET PRINT           1\n",
      " **********\n",
      " **********\n",
      " **    5 **SET STR           1\n",
      " **********\n",
      " NOW USING STRATEGY  1: TRY TO BALANCE SPEED AGAINST RELIABILITY\n",
      " **********\n",
      " **    6 **MIGRAD        2500           1\n",
      " **********\n",
      " FIRST CALL TO USER FUNCTION AT NEW START POINT, WITH IFLAG=4.\n",
      " START MIGRAD MINIMIZATION.  STRATEGY  1.  CONVERGENCE WHEN EDM .LT. 1.00e-03\n",
      " FCN=-2256.08 FROM MIGRAD    STATUS=INITIATE       10 CALLS          11 TOTAL\n",
      "                     EDM= unknown      STRATEGY= 1      NO ERROR MATRIX       \n",
      "  EXT PARAMETER               CURRENT GUESS       STEP         FIRST   \n",
      "  NO.   NAME      VALUE            ERROR          SIZE      DERIVATIVE \n",
      "   1  m0_cb        1.24983e+02   2.58691e+00   9.79890e-02   6.25423e-02\n",
      "   2  mu_2h_signal_strength   1.00000e+00   1.46341e+02   1.03100e+00  -1.36274e-02\n",
      "   3  n_noh        1.09817e+03   3.33052e+01   2.30483e-02   8.29919e-02\n",
      "   4  sigma_cb     2.09409e+00   1.31782e+00   2.16125e-02   1.65515e+00\n",
      "   5  theta       -2.87162e-05   9.98336e-01   1.00000e-01  -3.24203e-04\n",
      "                               ERR DEF= 0.5\n",
      " MIGRAD MINIMIZATION HAS CONVERGED.\n",
      " MIGRAD WILL VERIFY CONVERGENCE AND ERROR MATRIX.\n",
      " COVARIANCE MATRIX CALCULATED SUCCESSFULLY\n",
      " FCN=-2256.08 FROM MIGRAD    STATUS=CONVERGED      69 CALLS          70 TOTAL\n",
      "                     EDM=3.65988e-06    STRATEGY= 1      ERROR MATRIX ACCURATE \n",
      "  EXT PARAMETER                                   STEP         FIRST   \n",
      "  NO.   NAME      VALUE            ERROR          SIZE      DERIVATIVE \n",
      "   1  m0_cb        1.24965e+02   2.46388e+00   3.03917e-03   1.73002e-02\n",
      "   2  mu_2h_signal_strength   1.11064e+00   1.17483e+02   2.79743e-02  -4.87604e-04\n",
      "   3  n_noh        1.09803e+03   3.68252e+01   7.56131e-04   2.65878e-02\n",
      "   4  sigma_cb     2.05234e+00   1.34283e+00   6.51112e-04  -2.53319e-03\n",
      "   5  theta        9.36184e-07   9.98336e-01   3.28028e-03   8.26757e-06\n",
      "                               ERR DEF= 0.5\n",
      " EXTERNAL ERROR MATRIX.    NDIM=  25    NPAR=  5    ERR DEF=0.5\n",
      "  6.088e+00 -5.989e-01  6.460e-01  2.766e-01  1.738e-06 \n",
      " -5.989e-01  2.328e+02 -2.397e+02  6.235e+00 -3.767e-03 \n",
      "  6.460e-01 -2.397e+02  1.356e+03 -6.708e+00  7.630e-04 \n",
      "  2.766e-01  6.235e+00 -6.708e+00  1.803e+00 -2.285e-05 \n",
      "  1.738e-06 -3.767e-03  7.630e-04 -2.285e-05  1.000e+00 \n",
      " PARAMETER  CORRELATION COEFFICIENTS  \n",
      "       NO.  GLOBAL      1      2      3      4      5\n",
      "        1  0.09408   1.000 -0.016  0.007  0.083  0.000\n",
      "        2  0.49505  -0.016  1.000 -0.427  0.304 -0.000\n",
      "        3  0.42669   0.007 -0.427  1.000 -0.136  0.000\n",
      "        4  0.31696   0.083  0.304 -0.136  1.000 -0.000\n",
      "        5  0.00027   0.000 -0.000  0.000 -0.000  1.000\n",
      " **********\n",
      " **    7 **SET ERR         0.5\n",
      " **********\n",
      " **********\n",
      " **    8 **SET PRINT           1\n",
      " **********\n",
      " **********\n",
      " **    9 **HESSE        2500\n",
      " **********\n",
      " COVARIANCE MATRIX CALCULATED SUCCESSFULLY\n",
      " FCN=-2256.08 FROM HESSE     STATUS=OK             31 CALLS         101 TOTAL\n",
      "                     EDM=3.56341e-06    STRATEGY= 1      ERROR MATRIX ACCURATE \n",
      "  EXT PARAMETER                                INTERNAL      INTERNAL  \n",
      "  NO.   NAME      VALUE            ERROR       STEP SIZE       VALUE   \n",
      "   1  m0_cb        1.24965e+02   2.46165e+00   6.07835e-04  -2.77557e-01\n",
      "   2  mu_2h_signal_strength   1.11064e+00   1.16873e+02   1.11897e-03  -1.42162e+00\n",
      "   3  n_noh        1.09803e+03   3.62285e+01   1.51226e-04  -2.71298e-01\n",
      "   4  sigma_cb     2.05234e+00   1.33426e+00   2.60445e-05  -1.50672e+00\n",
      "   5  theta        9.36184e-07   9.98334e-01   6.56057e-04   9.36184e-08\n",
      "                               ERR DEF= 0.5\n",
      " EXTERNAL ERROR MATRIX.    NDIM=  25    NPAR=  5    ERR DEF=0.5\n",
      "  6.077e+00  6.539e-02 -6.555e-02  2.741e-01  2.760e-08 \n",
      "  6.539e-02  2.256e+02 -2.141e+02  5.807e+00 -3.331e-03 \n",
      " -6.555e-02 -2.141e+02  1.313e+03 -5.823e+00  3.936e-05 \n",
      "  2.741e-01  5.807e+00 -5.823e+00  1.781e+00 -1.147e-06 \n",
      "  2.760e-08 -3.331e-03  3.936e-05 -1.147e-06  1.000e+00 \n",
      " PARAMETER  CORRELATION COEFFICIENTS  \n",
      "       NO.  GLOBAL      1      2      3      4      5\n",
      "        1  0.08655   1.000  0.002 -0.001  0.083  0.000\n",
      "        2  0.46350   0.002  1.000 -0.394  0.290 -0.000\n",
      "        3  0.39356  -0.001 -0.394  1.000 -0.120  0.000\n",
      "        4  0.30147   0.083  0.290 -0.120  1.000 -0.000\n",
      "        5  0.00025   0.000 -0.000  0.000 -0.000  1.000\n",
      "[#1] INFO:Fitting -- RooAbsPdf::fitTo(constrained_model) Calculating sum-of-weights-squared correction matrix for covariance matrix\n",
      " **********\n",
      " **   10 **SET ERR         0.5\n",
      " **********\n",
      " **********\n",
      " **   11 **SET PRINT           1\n",
      " **********\n",
      " **********\n",
      " **   12 **HESSE        2500\n",
      " **********\n",
      " MINUIT WARNING IN HESSE   \n",
      " ============== Negative diagonal element 2 in Error Matrix\n",
      " MINUIT WARNING IN HESSE   \n",
      " ============== 425.03 added to diagonal of error matrix\n",
      " EIGENVALUES OF SECOND-DERIVATIVE MATRIX:\n",
      "        -4.4260e+00  9.1144e-01  1.0000e+00  1.0980e+00  6.4165e+00\n",
      " MINUIT WARNING IN HESSE   \n",
      " ============== MATRIX FORCED POS-DEF BY ADDING 4.432401 TO DIAGONAL.\n",
      " FCN=-123398 FROM HESSE     STATUS=NOT POSDEF     39 CALLS         140 TOTAL\n",
      "                     EDM=460289    STRATEGY= 1      ERR MATRIX NOT POS-DEF\n",
      "  EXT PARAMETER                APPROXIMATE     INTERNAL      INTERNAL  \n",
      "  NO.   NAME      VALUE            ERROR       STEP SIZE       VALUE   \n",
      "   1  m0_cb        1.24965e+02   1.69419e+00   1.23998e-02  -2.77557e-01\n",
      "   2  mu_2h_signal_strength   1.11064e+00   1.86049e+02   2.28271e-02  -1.42162e+00\n",
      "   3  n_noh        1.09803e+03   2.66701e+01   3.08502e-03  -2.71298e-01\n",
      "   4  sigma_cb     2.05234e+00   7.18368e-02   5.31307e-04  -1.50672e+00\n",
      "   5  theta        9.36184e-07   1.87303e-01   1.31211e-04   9.36184e-08\n",
      "                               ERR DEF= 0.5\n",
      " EXTERNAL ERROR MATRIX.    NDIM=  25    NPAR=  5    ERR DEF=0.5\n",
      "  2.874e+00 -2.219e+02  4.500e+01  1.094e-02  8.587e-03 \n",
      " -2.219e+02  1.720e+04 -3.489e+03 -8.325e-01 -6.658e-01 \n",
      "  4.500e+01 -3.489e+03  7.114e+02  1.688e-01  1.350e-01 \n",
      "  1.094e-02 -8.325e-01  1.688e-01  5.161e-03  3.220e-05 \n",
      "  8.587e-03 -6.658e-01  1.350e-01  3.220e-05  3.509e-02 \n",
      "ERR MATRIX NOT POS-DEF\n",
      " PARAMETER  CORRELATION COEFFICIENTS  \n",
      "       NO.  GLOBAL      1      2      3      4      5\n",
      "        1  0.99791   1.000 -0.998  0.995  0.090  0.027\n",
      "        2  0.99882  -0.998  1.000 -0.997 -0.088 -0.027\n",
      "        3  0.99731   0.995 -0.997  1.000  0.088  0.027\n",
      "        4  0.09204   0.090 -0.088  0.088  1.000  0.002\n",
      "        5  0.02710   0.027 -0.027  0.027  0.002  1.000\n",
      " ERR MATRIX NOT POS-DEF\n",
      "[#1] INFO:Minization -- RooMinimizer::optimizeConst: deactivating const optimization\n"
     ]
    }
   ],
   "source": [
    "res = w.pdf(\"constrained_model\").fitTo(\n",
    "    asimov, rf.Constrain(w.set('_NuisParams')), rf.Save(), rf.SumW2Error(ROOT.kTRUE)\n",
    ")\n",
    "# to get the exact value for mu back, I think you need to set the values of all other nuisance params to the ones\n",
    "# found above (CMLE)"
   ]
  },
  {
   "cell_type": "code",
   "execution_count": 49,
   "metadata": {
    "collapsed": false,
    "deletable": true,
    "editable": true
   },
   "outputs": [
    {
     "data": {
      "image/png": "[encoded data removed]",
      "text/plain": [
       "<ROOT.TCanvas object (\"icanvas\") at 0x7f955d629000>"
      ]
     },
     "execution_count": 49,
     "metadata": {},
     "output_type": "execute_result"
    },
    {
     "name": "stdout",
     "output_type": "stream",
     "text": [
      "[#1] INFO:InputArguments -- RooAbsData::plotOn(AsimovData) INFO: dataset has non-integer weights, auto-selecting SumW2 errors instead of Poisson errors\n"
     ]
    },
    {
     "name": "stderr",
     "output_type": "stream",
     "text": [
      "INFO:ROOT.TCanvas.Print] png file /var/folders/0d/3d7wlbr14zn3_l2ctx0r1jdw0000gn/T/tmpmvi8nG.png has been created\n"
     ]
    }
   ],
   "source": [
    "frame = myy.frame()\n",
    "asimov.plotOn(frame)\n",
    "w.pdf(\"constrained_model\").plotOn(frame)\n",
    "frame.Draw()\n",
    "c1"
   ]
  },
  {
   "cell_type": "code",
   "execution_count": 50,
   "metadata": {
    "collapsed": false,
    "deletable": true,
    "editable": true
   },
   "outputs": [
    {
     "name": "stdout",
     "output_type": "stream",
     "text": [
      "\n",
      "RooWorkspace(w) w contents\n",
      "\n",
      "variables\n",
      "---------\n",
      "(alphaHi_cb_fixed,alphaLo_cb_fixed,c0_bkg_fixed,m0_cb,mu_2h_signal_strength,myy,nHi_cb_fixed,nLo_cb_fixed,n_1h,n_2h,n_noh,sigma_cb,theta,theta_global)\n",
      "\n",
      "p.d.f.s\n",
      "-------\n",
      "RooExponential::bkg_fit_fixed[ x=myy c=c0_bkg_fixed ] = 0.206111/7.88921\n",
      "RooProdPdf::constrained_model[ full_model * theta_constraint ] = 0.203869/1\n",
      "HggTwoSidedCBPdf::dscb_1h_fixed[ m=myy m0=m0_cb sigma=sigma_cb alphaLo=alphaLo_cb_fixed nLo=nLo_cb_fixed alphaHi=alphaHi_cb_fixed nHi=nHi_cb_fixed ] = 0.000674932/5.21152\n",
      "RooAddPdf::full_model[ n_noh * bkg_fit_fixed + n_1h_prod * dscb_1h_fixed + n_2h_times_mu * dscb_1h_fixed ] = 0.025842/1\n",
      "RooGaussian::theta_constraint[ x=theta mean=theta_global sigma=1 ] = 1/2.50663\n",
      "\n",
      "functions\n",
      "--------\n",
      "RooAddition::n_1h_coeff[ 1 + xxx ] = 1\n",
      "RooProduct::n_1h_prod[ n_1h * n_1h_coeff ] = 11\n",
      "RooProduct::n_2h_times_mu[ n_2h * mu_2h_signal_strength ] = 1.11064\n",
      "RooProduct::xxx[ 0.0003 * theta ] = 2.80855e-10\n",
      "\n",
      "parameter snapshots\n",
      "-------------------\n",
      "snapshot = (mu_2h_signal_strength=1 +/- 146.341)\n",
      "\n",
      "named sets\n",
      "----------\n",
      "_GlobalObservables:(theta_global)\n",
      "_NuisParams:(theta)\n",
      "_Observables:(myy)\n",
      "_POI:(mu_2h_signal_strength)\n",
      "snapshot:(mu_2h_signal_strength)\n",
      "\n"
     ]
    }
   ],
   "source": [
    "w.Print()"
   ]
  },
  {
   "cell_type": "markdown",
   "metadata": {
    "deletable": true,
    "editable": true
   },
   "source": [
    "# Asimov NLL"
   ]
  },
  {
   "cell_type": "code",
   "execution_count": 51,
   "metadata": {
    "collapsed": false,
    "deletable": true,
    "editable": true
   },
   "outputs": [],
   "source": [
    "# asimovNLL = w.pdf(\"constrained_model\").createNLL(asimov, rf.Constrain(w.set(\"_NuisParams\")))\n",
    "# asimovPLL = asimovNLL.createProfile(w.set('_POI'))\n",
    "\n",
    "# #sigma^2 = (mu-mu')^2/(2*asimovPLL)"
   ]
  },
  {
   "cell_type": "code",
   "execution_count": 49,
   "metadata": {
    "collapsed": false,
    "deletable": true,
    "editable": true
   },
   "outputs": [],
   "source": [
    "# asimovPLL.getVal()"
   ]
  },
  {
   "cell_type": "markdown",
   "metadata": {
    "collapsed": true,
    "deletable": true,
    "editable": true
   },
   "source": [
    "# Hypotesis Inverter"
   ]
  },
  {
   "cell_type": "code",
   "execution_count": 52,
   "metadata": {
    "collapsed": false,
    "deletable": true,
    "editable": true
   },
   "outputs": [],
   "source": [
    "sb_model = mconfig\n",
    "#RooRealVar* poi = (RooRealVar*) sbModel->GetParametersOfInterest()->first();"
   ]
  },
  {
   "cell_type": "code",
   "execution_count": 53,
   "metadata": {
    "collapsed": false,
    "deletable": true,
    "editable": true
   },
   "outputs": [],
   "source": [
    "poi = sb_model.GetParametersOfInterest().first()"
   ]
  },
  {
   "cell_type": "code",
   "execution_count": 54,
   "metadata": {
    "collapsed": false,
    "deletable": true,
    "editable": true
   },
   "outputs": [],
   "source": [
    "b_model = sb_model.Clone()"
   ]
  },
  {
   "cell_type": "code",
   "execution_count": 55,
   "metadata": {
    "collapsed": true,
    "deletable": true,
    "editable": true
   },
   "outputs": [],
   "source": [
    "b_model.SetName(sb_model.GetName()+\"_with_poi_0\")"
   ]
  },
  {
   "cell_type": "code",
   "execution_count": 56,
   "metadata": {
    "collapsed": true,
    "deletable": true,
    "editable": true
   },
   "outputs": [],
   "source": [
    "oldval = poi.getVal()"
   ]
  },
  {
   "cell_type": "code",
   "execution_count": 57,
   "metadata": {
    "collapsed": true,
    "deletable": true,
    "editable": true
   },
   "outputs": [],
   "source": [
    "poi.setVal(0)"
   ]
  },
  {
   "cell_type": "code",
   "execution_count": 58,
   "metadata": {
    "collapsed": true,
    "deletable": true,
    "editable": true
   },
   "outputs": [],
   "source": [
    "#PDF.SaveSnapshot(\"b_model\", ROOT.RooArgSet(poi) , ROOT.kTRUE)\n",
    "b_model.SetSnapshot(ROOT.RooArgSet(poi))"
   ]
  },
  {
   "cell_type": "code",
   "execution_count": 59,
   "metadata": {
    "collapsed": true,
    "deletable": true,
    "editable": true
   },
   "outputs": [],
   "source": [
    "poi.setVal(oldval)"
   ]
  },
  {
   "cell_type": "code",
   "execution_count": 60,
   "metadata": {
    "collapsed": false,
    "deletable": true,
    "editable": true
   },
   "outputs": [
    {
     "name": "stdout",
     "output_type": "stream",
     "text": [
      "[#0] PROGRESS:Eval -- AsymptoticCalculator::Initialize....\n",
      "[#0] PROGRESS:Eval -- AsymptoticCalculator::Initialize - Find  best unconditional NLL on observed data\n",
      "AsymptoticCalculator::EvaluateNLL  ........ using Minuit / Migrad with strategy  1 and tolerance 1\n",
      " **********\n",
      " **    1 **SET PRINT           0\n",
      " **********\n",
      " **********\n",
      " **    2 **SET NOGRAD\n",
      " **********\n",
      " PARAMETER DEFINITIONS:\n",
      "    NO.   NAME         VALUE      STEP SIZE      LIMITS\n",
      "     1 m0_cb        1.24965e+02  5.54531e+01    1.05000e+02  1.60000e+02\n",
      " MINUIT WARNING IN PARAMETR\n",
      " ============== VARIABLE1 BROUGHT BACK INSIDE LIMITS.\n",
      " MINUIT WARNING IN PARAMETR\n",
      " ============== VARIABLE1 BROUGHT BACK INSIDE LIMITS.\n",
      "     2 mu_2h_signal_strength   1.11064e+00  1.46341e+02    0.00000e+00  2.00000e+02\n",
      " MINUIT WARNING IN PARAMETR\n",
      " ============== VARIABLE2 BROUGHT BACK INSIDE LIMITS.\n",
      "     3 n_noh        1.09803e+03  6.54887e+02    0.00000e+00  3.00000e+03\n",
      "     4 sigma_cb     2.05234e+00  2.51292e+01    0.00000e+00  2.00000e+03\n",
      " MINUIT WARNING IN PARAMETR\n",
      " ============== VARIABLE4 BROUGHT BACK INSIDE LIMITS.\n",
      "     5 theta        9.36184e-07  5.34060e+00   -1.00000e+01  1.00000e+01\n",
      " **********\n",
      " **    3 **SET ERR         0.5\n",
      " **********\n",
      " **********\n",
      " **    4 **SET PRINT           0\n",
      " **********\n",
      " **********\n",
      " **    5 **SET STR           1\n",
      " **********\n",
      " **********\n",
      " **    6 **MIGRAD        2500           1\n",
      " **********\n",
      " MIGRAD MINIMIZATION HAS CONVERGED.\n",
      " MIGRAD WILL VERIFY CONVERGENCE AND ERROR MATRIX.\n",
      " FCN=-2255.88 FROM MIGRAD    STATUS=CONVERGED      96 CALLS          97 TOTAL\n",
      "                     EDM=3.73035e-05    STRATEGY= 1      ERROR MATRIX ACCURATE \n",
      "  EXT PARAMETER                                   STEP         FIRST   \n",
      "  NO.   NAME      VALUE            ERROR          SIZE      DERIVATIVE \n",
      "   1  m0_cb        1.24989e+02   2.69580e+00   3.34252e-03  -4.86357e-03\n",
      "   2  mu_2h_signal_strength   1.80215e-03   1.45431e+02   4.64058e-02   2.58651e-03\n",
      "   3  n_noh        1.09913e+03   3.35580e+01   7.56015e-04   2.81780e-02\n",
      "   4  sigma_cb     2.06082e+00   1.35319e+00   6.91968e-04  -2.40390e-01\n",
      "   5  theta       -1.47482e-05   9.98336e-01   3.28014e-03  -5.33890e-06\n",
      "                               ERR DEF= 0.5\n",
      "AsymptoticCalculator::EvaluateNLL -  value = -2255.88\tfit time : Real time 0:00:00, CP time 0.000\n",
      "[#0] PROGRESS:Eval -- Best fitted POI value = 0.00180215 +/- 145.431\n",
      "[#0] PROGRESS:Eval -- AsymptoticCalculator: Building Asimov data Set\n",
      "[#1] INFO:InputArguments -- AsymptoticCalculator: Asimov data will be generated using fitted nuisance parameter values\n",
      "MakeAsimov: Setting poi mu_2h_signal_strength to a constant value = 0\n",
      "MakeAsimov: doing a conditional fit for finding best nuisance values \n",
      " **********\n",
      " **    1 **SET PRINT           0\n",
      " **********\n",
      " **********\n",
      " **    2 **SET NOGRAD\n",
      " **********\n",
      " PARAMETER DEFINITIONS:\n",
      "    NO.   NAME         VALUE      STEP SIZE      LIMITS\n",
      "     1 m0_cb        1.24989e+02  2.69580e+00    1.05000e+02  1.60000e+02\n",
      "     2 n_noh        1.09913e+03  3.35580e+01    0.00000e+00  3.00000e+03\n",
      "     3 sigma_cb     2.06082e+00  1.35319e+00    0.00000e+00  2.00000e+03\n",
      "     4 theta       -1.47482e-05  9.98336e-01   -1.00000e+01  1.00000e+01\n",
      " **********\n",
      " **    3 **SET ERR         0.5\n",
      " **********\n",
      " **********\n",
      " **    4 **SET PRINT           0\n",
      " **********\n",
      " **********\n",
      " **    5 **SET STR           1\n",
      " **********\n",
      " **********\n",
      " **    6 **MIGRAD        2000           1\n",
      " **********\n",
      " MIGRAD MINIMIZATION HAS CONVERGED.\n",
      " MIGRAD WILL VERIFY CONVERGENCE AND ERROR MATRIX.\n",
      " FCN=-2255.88 FROM MIGRAD    STATUS=CONVERGED      47 CALLS          48 TOTAL\n",
      "                     EDM=9.8019e-08    STRATEGY= 1      ERROR MATRIX ACCURATE \n",
      "  EXT PARAMETER                                   STEP         FIRST   \n",
      "  NO.   NAME      VALUE            ERROR          SIZE      DERIVATIVE \n",
      "   1  m0_cb        1.24991e+02   2.69551e+00   3.34285e-03   2.61110e-03\n",
      "   2  n_noh        1.09911e+03   3.33065e+01   7.55886e-04   2.92836e-03\n",
      "   3  sigma_cb     2.06735e+00   1.35540e+00   6.88255e-04  -6.47348e-03\n",
      "   4  theta       -1.42119e-05   9.98336e-01   3.28014e-03  -3.90782e-06\n",
      "                               ERR DEF= 0.5\n",
      "fit time Real time 0:00:00, CP time 0.010\n",
      "RooDataSet::AsimovData[myy,weight:binWeightAsimov] = 22 entries (1110.06 weighted)\n",
      "Generated Asimov data for observables RooArgSet:: = (myy)\n",
      "Generated Asimov data for global observables RooArgSet:: = (theta_global)\n",
      "[#0] PROGRESS:Eval -- AsymptoticCalculator::Initialize Find  best conditional NLL on ASIMOV data set for given alt POI ( mu_2h_signal_strength ) = 0\n",
      "AsymptoticCalculator::EvaluateNLL  ........ using Minuit / Migrad with strategy  1 and tolerance 1\n",
      " **********\n",
      " **    1 **SET PRINT           0\n",
      " **********\n",
      " **********\n",
      " **    2 **SET NOGRAD\n",
      " **********\n",
      " PARAMETER DEFINITIONS:\n",
      "    NO.   NAME         VALUE      STEP SIZE      LIMITS\n",
      "     1 m0_cb        1.24991e+02  2.69551e+00    1.05000e+02  1.60000e+02\n",
      "     2 n_noh        1.09911e+03  3.33065e+01    0.00000e+00  3.00000e+03\n",
      "     3 sigma_cb     2.06735e+00  1.35540e+00    0.00000e+00  2.00000e+03\n",
      "     4 theta       -1.42119e-05  9.98336e-01   -1.00000e+01  1.00000e+01\n",
      " **********\n",
      " **    3 **SET ERR         0.5\n",
      " **********\n",
      " **********\n",
      " **    4 **SET PRINT           0\n",
      " **********\n",
      " **********\n",
      " **    5 **SET STR           1\n",
      " **********\n",
      " **********\n",
      " **    6 **MIGRAD        2000           1\n",
      " **********\n",
      " MIGRAD MINIMIZATION HAS CONVERGED.\n",
      " MIGRAD WILL VERIFY CONVERGENCE AND ERROR MATRIX.\n",
      " FCN=-2255.8 FROM MIGRAD    STATUS=CONVERGED      43 CALLS          44 TOTAL\n",
      "                     EDM=1.16182e-06    STRATEGY= 1      ERROR MATRIX ACCURATE \n",
      "  EXT PARAMETER                                   STEP         FIRST   \n",
      "  NO.   NAME      VALUE            ERROR          SIZE      DERIVATIVE \n",
      "   1  m0_cb        1.24965e+02   2.63531e+00   3.26465e-03   8.36942e-03\n",
      "   2  n_noh        1.09904e+03   3.33060e+01   7.55901e-04  -1.17819e-02\n",
      "   3  sigma_cb     2.04275e+00   1.34683e+00   6.96857e-04  -3.35739e-02\n",
      "   4  theta       -1.00353e-05   9.98336e-01   3.28008e-03   1.21105e-05\n",
      "                               ERR DEF= 0.5\n",
      "AsymptoticCalculator::EvaluateNLL -  value = -2255.8 for poi fixed at = 0\tfit time : Real time 0:00:00, CP time 0.000\n"
     ]
    }
   ],
   "source": [
    "ac = rs.AsymptoticCalculator(combined_data, b_model, sb_model)\n",
    "#ac = rs.AsymptoticCalculator(combined_data, mconfig, *sbModel);\n",
    "ac.SetOneSided(True)"
   ]
  },
  {
   "cell_type": "code",
   "execution_count": 61,
   "metadata": {
    "collapsed": false,
    "deletable": true,
    "editable": true
   },
   "outputs": [
    {
     "name": "stdout",
     "output_type": "stream",
     "text": [
      "[#1] INFO:InputArguments -- HypoTestInverter ---- Input models: \n",
      "\t\t using as S+B (null) model     : \n",
      "\t\t using as B (alternate) model  : _with_poi_0\n",
      "\n"
     ]
    }
   ],
   "source": [
    "calc = rs.HypoTestInverter(ac)\n",
    "calc.SetConfidenceLevel(0.95)\n",
    "calc.UseCLs(True)"
   ]
  },
  {
   "cell_type": "code",
   "execution_count": 62,
   "metadata": {
    "collapsed": true,
    "deletable": true,
    "editable": true
   },
   "outputs": [],
   "source": [
    "calc.SetFixedScan(10, poi.getMin(), poi.getMax())"
   ]
  },
  {
   "cell_type": "code",
   "execution_count": 63,
   "metadata": {
    "collapsed": false,
    "deletable": true,
    "editable": true
   },
   "outputs": [
    {
     "name": "stdout",
     "output_type": "stream",
     "text": [
      "[#1] INFO:Eval -- HypoTestInverter::GetInterval - run a fixed scan\n",
      "[#1] INFO:ObjectHandling -- RooWorkspace::saveSnaphot(w) replacing previous snapshot with name snapshot\n",
      "\n",
      "[#1] INFO:Eval -- AsymptoticCalculator::GetHypoTest: - perform  an hypothesis test for  POI ( mu_2h_signal_strength ) = 0\n",
      "[#0] PROGRESS:Eval -- AsymptoticCalculator::GetHypoTest -  Find  best conditional NLL on OBSERVED data set ..... \n",
      "AsymptoticCalculator::EvaluateNLL  ........ using Minuit / Migrad with strategy  1 and tolerance 1\n",
      " **********\n",
      " **    1 **SET PRINT           0\n",
      " **********\n",
      " **********\n",
      " **    2 **SET NOGRAD\n",
      " **********\n",
      " PARAMETER DEFINITIONS:\n",
      "    NO.   NAME         VALUE      STEP SIZE      LIMITS\n",
      "     1 m0_cb        1.24989e+02  2.69580e+00    1.05000e+02  1.60000e+02\n",
      "     2 n_noh        1.09913e+03  3.35580e+01    0.00000e+00  3.00000e+03\n",
      "     3 sigma_cb     2.06082e+00  1.35319e+00    0.00000e+00  2.00000e+03\n",
      "     4 theta       -1.47482e-05  9.98336e-01   -1.00000e+01  1.00000e+01\n",
      " **********\n",
      " **    3 **SET ERR         0.5\n",
      " **********\n",
      " **********\n",
      " **    4 **SET PRINT           0\n",
      " **********\n",
      " **********\n",
      " **    5 **SET STR           1\n",
      " **********\n",
      " **********\n",
      " **    6 **MIGRAD        2000           1\n",
      " **********\n",
      " MIGRAD MINIMIZATION HAS CONVERGED.\n",
      " MIGRAD WILL VERIFY CONVERGENCE AND ERROR MATRIX.\n",
      " FCN=-2255.88 FROM MIGRAD    STATUS=CONVERGED      47 CALLS          48 TOTAL\n",
      "                     EDM=9.8019e-08    STRATEGY= 1      ERROR MATRIX ACCURATE \n",
      "  EXT PARAMETER                                   STEP         FIRST   \n",
      "  NO.   NAME      VALUE            ERROR          SIZE      DERIVATIVE \n",
      "   1  m0_cb        1.24991e+02   2.69551e+00   3.34285e-03   2.61110e-03\n",
      "   2  n_noh        1.09911e+03   3.33065e+01   7.55886e-04   2.92836e-03\n",
      "   3  sigma_cb     2.06735e+00   1.35540e+00   6.88255e-04  -6.47348e-03\n",
      "   4  theta       -1.42119e-05   9.98336e-01   3.28014e-03  -3.90782e-06\n",
      "                               ERR DEF= 0.5\n",
      "AsymptoticCalculator::EvaluateNLL -  value = -2255.88 for poi fixed at = 0\tfit time : Real time 0:00:00, CP time 0.000\n",
      "[#0] PROGRESS:Eval -- \t OBSERVED DATA :  qmu   = -4.08484e-05 condNLL = -2255.88 uncond -2255.88\n",
      "[#0] PROGRESS:Eval -- AsymptoticCalculator::GetHypoTest -- Find  best conditional NLL on ASIMOV data set .... \n",
      "AsymptoticCalculator::EvaluateNLL  ........ using Minuit / Migrad with strategy  1 and tolerance 1\n",
      " **********\n",
      " **    1 **SET PRINT           0\n",
      " **********\n",
      " **********\n",
      " **    2 **SET NOGRAD\n",
      " **********\n",
      " PARAMETER DEFINITIONS:\n",
      "    NO.   NAME         VALUE      STEP SIZE      LIMITS\n",
      "     1 m0_cb        1.24991e+02  2.69551e+00    1.05000e+02  1.60000e+02\n",
      "     2 n_noh        1.09911e+03  3.33065e+01    0.00000e+00  3.00000e+03\n",
      "     3 sigma_cb     2.06735e+00  1.35540e+00    0.00000e+00  2.00000e+03\n",
      "     4 theta       -1.42119e-05  9.98336e-01   -1.00000e+01  1.00000e+01\n",
      " **********\n",
      " **    3 **SET ERR         0.5\n",
      " **********\n",
      " **********\n",
      " **    4 **SET PRINT           0\n",
      " **********\n",
      " **********\n",
      " **    5 **SET STR           1\n",
      " **********\n",
      " **********\n",
      " **    6 **MIGRAD        2000           1\n",
      " **********\n",
      " MIGRAD MINIMIZATION HAS CONVERGED.\n",
      " MIGRAD WILL VERIFY CONVERGENCE AND ERROR MATRIX.\n",
      " FCN=-2255.8 FROM MIGRAD    STATUS=CONVERGED      43 CALLS          44 TOTAL\n",
      "                     EDM=1.16182e-06    STRATEGY= 1      ERROR MATRIX ACCURATE \n",
      "  EXT PARAMETER                                   STEP         FIRST   \n",
      "  NO.   NAME      VALUE            ERROR          SIZE      DERIVATIVE \n",
      "   1  m0_cb        1.24965e+02   2.63531e+00   3.26465e-03   8.36942e-03\n",
      "   2  n_noh        1.09904e+03   3.33060e+01   7.55901e-04  -1.17819e-02\n",
      "   3  sigma_cb     2.04275e+00   1.34683e+00   6.96857e-04  -3.35739e-02\n",
      "   4  theta       -1.00353e-05   9.98336e-01   3.28008e-03   1.21105e-05\n",
      "                               ERR DEF= 0.5\n",
      "AsymptoticCalculator::EvaluateNLL -  value = -2255.8 for poi fixed at = 0\tfit time : Real time 0:00:00, CP time 0.000\n",
      "[#0] PROGRESS:Eval -- \t ASIMOV data qmu_A = 0 condNLL = -2255.8 uncond -2255.8\n",
      "[#1] INFO:InputArguments -- Minimum of POI is 0 corresponds to alt  snapshot   - using qtilde asymptotic formulae  \n",
      "[#1] INFO:Eval -- Using one-sided qmu - setting qmu to zero  muHat = 0.00180215 muTest = 0\n",
      "[#0] PROGRESS:Eval -- poi = 0 qmu = 0 qmu_A = 0 sigma = nan  CLsplusb = 0.5 CLb = 0.5 CLs = 1\n",
      "[#1] INFO:ObjectHandling -- RooWorkspace::saveSnaphot(w) replacing previous snapshot with name snapshot\n",
      "\n",
      "[#1] INFO:Eval -- AsymptoticCalculator::GetHypoTest: - perform  an hypothesis test for  POI ( mu_2h_signal_strength ) = 22.2222\n",
      "[#0] PROGRESS:Eval -- AsymptoticCalculator::GetHypoTest -  Find  best conditional NLL on OBSERVED data set ..... \n",
      "AsymptoticCalculator::EvaluateNLL  ........ using Minuit / Migrad with strategy  1 and tolerance 1\n",
      " **********\n",
      " **    1 **SET PRINT           0\n",
      " **********\n",
      " **********\n",
      " **    2 **SET NOGRAD\n",
      " **********\n",
      " PARAMETER DEFINITIONS:\n",
      "    NO.   NAME         VALUE      STEP SIZE      LIMITS\n",
      "     1 m0_cb        1.24989e+02  2.69580e+00    1.05000e+02  1.60000e+02\n",
      "     2 n_noh        1.09913e+03  3.35580e+01    0.00000e+00  3.00000e+03\n",
      "     3 sigma_cb     2.06082e+00  1.35319e+00    0.00000e+00  2.00000e+03\n",
      "     4 theta       -1.47482e-05  9.98336e-01   -1.00000e+01  1.00000e+01\n",
      " **********\n",
      " **    3 **SET ERR         0.5\n",
      " **********\n",
      " **********\n",
      " **    4 **SET PRINT           0\n",
      " **********\n",
      " **********\n",
      " **    5 **SET STR           1\n",
      " **********\n",
      " **********\n",
      " **    6 **MIGRAD        2000           1\n",
      " **********\n",
      " MIGRAD MINIMIZATION HAS CONVERGED.\n",
      " MIGRAD WILL VERIFY CONVERGENCE AND ERROR MATRIX.\n",
      " MIGRAD MINIMIZATION HAS CONVERGED.\n",
      " FCN=-2255.67 FROM MIGRAD    STATUS=CONVERGED     135 CALLS         136 TOTAL\n",
      "                     EDM=9.17913e-06    STRATEGY= 1  ERROR MATRIX UNCERTAINTY   6.7 per cent\n",
      "  EXT PARAMETER                                   STEP         FIRST   \n",
      "  NO.   NAME      VALUE            ERROR          SIZE      DERIVATIVE \n",
      "   1  m0_cb        1.21328e+02   3.53146e+01   6.47483e-02  -2.42309e-03\n",
      "   2  n_noh        1.07691e+03   3.33790e+01  -1.49303e-04   7.51168e-02\n",
      "   3  sigma_cb     1.70183e+01   4.18175e+01  -4.68292e-03  -2.16440e-02\n",
      "   4  theta        5.23777e-07   9.98336e-01  -6.12083e-07   1.98847e-05\n",
      "                               ERR DEF= 0.5\n",
      "AsymptoticCalculator::EvaluateNLL -  value = -2255.67 for poi fixed at = 22.2222\tfit time : Real time 0:00:00, CP time 0.000\n",
      "[#0] PROGRESS:Eval -- \t OBSERVED DATA :  qmu   = 0.41714 condNLL = -2255.67 uncond -2255.88\n",
      "[#0] PROGRESS:Eval -- AsymptoticCalculator::GetHypoTest -- Find  best conditional NLL on ASIMOV data set .... \n",
      "AsymptoticCalculator::EvaluateNLL  ........ using Minuit / Migrad with strategy  1 and tolerance 1\n",
      " **********\n",
      " **    1 **SET PRINT           0\n",
      " **********\n",
      " **********\n",
      " **    2 **SET NOGRAD\n",
      " **********\n",
      " PARAMETER DEFINITIONS:\n",
      "    NO.   NAME         VALUE      STEP SIZE      LIMITS\n",
      "     1 m0_cb        1.21328e+02  3.53146e+01    1.05000e+02  1.60000e+02\n",
      " MINUIT WARNING IN PARAMETR\n",
      " ============== VARIABLE1 BROUGHT BACK INSIDE LIMITS.\n",
      "     2 n_noh        1.07691e+03  3.33790e+01    0.00000e+00  3.00000e+03\n",
      "     3 sigma_cb     1.70183e+01  4.18175e+01    0.00000e+00  2.00000e+03\n",
      " MINUIT WARNING IN PARAMETR\n",
      " ============== VARIABLE3 BROUGHT BACK INSIDE LIMITS.\n",
      "     4 theta        5.23777e-07  9.98336e-01   -1.00000e+01  1.00000e+01\n",
      " **********\n",
      " **    3 **SET ERR         0.5\n",
      " **********\n",
      " **********\n",
      " **    4 **SET PRINT           0\n",
      " **********\n",
      " **********\n",
      " **    5 **SET STR           1\n",
      " **********\n",
      " **********\n",
      " **    6 **MIGRAD        2000           1\n",
      " **********\n",
      " MIGRAD MINIMIZATION HAS CONVERGED.\n",
      " MIGRAD WILL VERIFY CONVERGENCE AND ERROR MATRIX.\n",
      " FCN=-2255.58 FROM MIGRAD    STATUS=CONVERGED      87 CALLS          88 TOTAL\n",
      "                     EDM=0.000436773    STRATEGY= 1      ERROR MATRIX ACCURATE \n",
      "  EXT PARAMETER                                   STEP         FIRST   \n",
      "  NO.   NAME      VALUE            ERROR          SIZE      DERIVATIVE \n",
      "   1  m0_cb        1.23762e+02   1.28487e+01   1.47854e-02   1.35893e-02\n",
      "   2  n_noh        1.07685e+03   3.33157e+01   7.59120e-04  -1.11162e-01\n",
      "   3  sigma_cb     1.08411e+01   2.01002e+01   5.63034e-03   1.40988e-01\n",
      "   4  theta       -2.24341e-05   9.98336e-01   3.27992e-03   1.58788e-05\n",
      "                               ERR DEF= 0.5\n",
      "AsymptoticCalculator::EvaluateNLL -  value = -2255.58 for poi fixed at = 22.2222\tfit time : Real time 0:00:00, CP time 0.000\n",
      "[#0] PROGRESS:Eval -- \t ASIMOV data qmu_A = 0.433098 condNLL = -2255.58 uncond -2255.8\n",
      "[#0] PROGRESS:Eval -- poi = 22.2222 qmu = 0.41714 qmu_A = 0.433098 sigma = 33.7671  CLsplusb = 0.259184 CLb = 0.504882 CLs = 1.94797\n",
      "[#1] INFO:ObjectHandling -- RooWorkspace::saveSnaphot(w) replacing previous snapshot with name snapshot\n",
      "\n",
      "[#1] INFO:Eval -- AsymptoticCalculator::GetHypoTest: - perform  an hypothesis test for  POI ( mu_2h_signal_strength ) = 44.4444\n",
      "[#0] PROGRESS:Eval -- AsymptoticCalculator::GetHypoTest -  Find  best conditional NLL on OBSERVED data set ..... \n",
      "AsymptoticCalculator::EvaluateNLL  ........ using Minuit / Migrad with strategy  1 and tolerance 1\n",
      " **********\n",
      " **    1 **SET PRINT           0\n",
      " **********\n",
      " **********\n",
      " **    2 **SET NOGRAD\n",
      " **********\n",
      " PARAMETER DEFINITIONS:\n",
      "    NO.   NAME         VALUE      STEP SIZE      LIMITS\n",
      "     1 m0_cb        1.24989e+02  2.69580e+00    1.05000e+02  1.60000e+02\n",
      "     2 n_noh        1.09913e+03  3.35580e+01    0.00000e+00  3.00000e+03\n",
      "     3 sigma_cb     2.06082e+00  1.35319e+00    0.00000e+00  2.00000e+03\n",
      "     4 theta       -1.47482e-05  9.98336e-01   -1.00000e+01  1.00000e+01\n",
      " **********\n",
      " **    3 **SET ERR         0.5\n",
      " **********\n",
      " **********\n",
      " **    4 **SET PRINT           0\n",
      " **********\n",
      " **********\n",
      " **    5 **SET STR           1\n",
      " **********\n",
      " **********\n",
      " **    6 **MIGRAD        2000           1\n",
      " **********\n",
      " MIGRAD MINIMIZATION HAS CONVERGED.\n",
      " MIGRAD WILL VERIFY CONVERGENCE AND ERROR MATRIX.\n",
      " MIGRAD MINIMIZATION HAS CONVERGED.\n",
      " FCN=-2255.67 FROM MIGRAD    STATUS=CONVERGED     144 CALLS         145 TOTAL\n",
      "                     EDM=5.63506e-05    STRATEGY= 1  ERROR MATRIX UNCERTAINTY   9.5 per cent\n",
      "  EXT PARAMETER                                   STEP         FIRST   \n",
      "  NO.   NAME      VALUE            ERROR          SIZE      DERIVATIVE \n",
      "   1  m0_cb        1.18697e+02   3.28453e+01  -6.73645e-02  -3.12152e-03\n",
      "   2  n_noh        1.05464e+03   3.33066e+01   3.60103e-05   1.85434e-02\n",
      "   3  sigma_cb     2.38916e+01   3.82607e+01   4.14861e-03  -8.05557e-02\n",
      "   4  theta        1.35657e-06   9.98336e-01   5.69884e-07   1.72349e-05\n",
      "                               ERR DEF= 0.5\n",
      "AsymptoticCalculator::EvaluateNLL -  value = -2255.67 for poi fixed at = 44.4444\tfit time : Real time 0:00:00, CP time 0.010\n",
      "[#0] PROGRESS:Eval -- \t OBSERVED DATA :  qmu   = 0.422548 condNLL = -2255.67 uncond -2255.88\n",
      "[#0] PROGRESS:Eval -- AsymptoticCalculator::GetHypoTest -- Find  best conditional NLL on ASIMOV data set .... \n",
      "AsymptoticCalculator::EvaluateNLL  ........ using Minuit / Migrad with strategy  1 and tolerance 1\n",
      " **********\n",
      " **    1 **SET PRINT           0\n",
      " **********\n",
      " **********\n",
      " **    2 **SET NOGRAD\n",
      " **********\n",
      " PARAMETER DEFINITIONS:\n",
      "    NO.   NAME         VALUE      STEP SIZE      LIMITS\n",
      "     1 m0_cb        1.18697e+02  3.28453e+01    1.05000e+02  1.60000e+02\n",
      " MINUIT WARNING IN PARAMETR\n",
      " ============== VARIABLE1 BROUGHT BACK INSIDE LIMITS.\n",
      "     2 n_noh        1.05464e+03  3.33066e+01    0.00000e+00  3.00000e+03\n",
      "     3 sigma_cb     2.38916e+01  3.82607e+01    0.00000e+00  2.00000e+03\n",
      " MINUIT WARNING IN PARAMETR\n",
      " ============== VARIABLE3 BROUGHT BACK INSIDE LIMITS.\n",
      "     4 theta        1.35657e-06  9.98336e-01   -1.00000e+01  1.00000e+01\n",
      " **********\n",
      " **    3 **SET ERR         0.5\n",
      " **********\n",
      " **********\n",
      " **    4 **SET PRINT           0\n",
      " **********\n",
      " **********\n",
      " **    5 **SET STR           1\n",
      " **********\n",
      " **********\n",
      " **    6 **MIGRAD        2000           1\n",
      " **********\n",
      " MIGRAD MINIMIZATION HAS CONVERGED.\n",
      " MIGRAD WILL VERIFY CONVERGENCE AND ERROR MATRIX.\n",
      " FCN=-2255.57 FROM MIGRAD    STATUS=CONVERGED      59 CALLS          60 TOTAL\n",
      "                     EDM=7.58599e-06    STRATEGY= 1      ERROR MATRIX ACCURATE \n",
      "  EXT PARAMETER                                   STEP         FIRST   \n",
      "  NO.   NAME      VALUE            ERROR          SIZE      DERIVATIVE \n",
      "   1  m0_cb        1.22097e+02   2.00349e+01   2.43893e-02  -3.16877e-06\n",
      "   2  n_noh        1.05454e+03   3.33121e+01   7.62779e-04  -1.13128e-01\n",
      "   3  sigma_cb     1.98234e+01   2.72096e+01   3.71689e-03   5.65814e-03\n",
      "   4  theta       -3.54279e-05   9.98336e-01   3.27991e-03  -2.07699e-04\n",
      "                               ERR DEF= 0.5\n",
      "AsymptoticCalculator::EvaluateNLL -  value = -2255.57 for poi fixed at = 44.4444\tfit time : Real time 0:00:00, CP time 0.000\n",
      "[#0] PROGRESS:Eval -- \t ASIMOV data qmu_A = 0.472199 condNLL = -2255.57 uncond -2255.8\n",
      "[#0] PROGRESS:Eval -- poi = 44.4444 qmu = 0.422548 qmu_A = 0.472199 sigma = 64.6777  CLsplusb = 0.257834 CLb = 0.514809 CLs = 1.99667\n",
      "[#1] INFO:ObjectHandling -- RooWorkspace::saveSnaphot(w) replacing previous snapshot with name snapshot\n",
      "\n",
      "[#1] INFO:Eval -- AsymptoticCalculator::GetHypoTest: - perform  an hypothesis test for  POI ( mu_2h_signal_strength ) = 66.6667\n",
      "[#0] PROGRESS:Eval -- AsymptoticCalculator::GetHypoTest -  Find  best conditional NLL on OBSERVED data set ..... \n",
      "AsymptoticCalculator::EvaluateNLL  ........ using Minuit / Migrad with strategy  1 and tolerance 1\n",
      " **********\n",
      " **    1 **SET PRINT           0\n",
      " **********\n",
      " **********\n",
      " **    2 **SET NOGRAD\n",
      " **********\n",
      " PARAMETER DEFINITIONS:\n",
      "    NO.   NAME         VALUE      STEP SIZE      LIMITS\n",
      "     1 m0_cb        1.24989e+02  2.69580e+00    1.05000e+02  1.60000e+02\n",
      "     2 n_noh        1.09913e+03  3.35580e+01    0.00000e+00  3.00000e+03\n",
      "     3 sigma_cb     2.06082e+00  1.35319e+00    0.00000e+00  2.00000e+03\n",
      "     4 theta       -1.47482e-05  9.98336e-01   -1.00000e+01  1.00000e+01\n",
      " **********\n",
      " **    3 **SET ERR         0.5\n",
      " **********\n",
      " **********\n",
      " **    4 **SET PRINT           0\n",
      " **********\n",
      " **********\n",
      " **    5 **SET STR           1\n",
      " **********\n",
      " **********\n",
      " **    6 **MIGRAD        2000           1\n",
      " **********\n",
      " MIGRAD MINIMIZATION HAS CONVERGED.\n",
      " MIGRAD WILL VERIFY CONVERGENCE AND ERROR MATRIX.\n",
      " MIGRAD MINIMIZATION HAS CONVERGED.\n",
      " MIGRAD WILL VERIFY CONVERGENCE AND ERROR MATRIX.\n",
      " FCN=-2255.67 FROM MIGRAD    STATUS=CONVERGED     166 CALLS         167 TOTAL\n",
      "                     EDM=6.82812e-05    STRATEGY= 1      ERROR MATRIX ACCURATE \n",
      "  EXT PARAMETER                                   STEP         FIRST   \n",
      "  NO.   NAME      VALUE            ERROR          SIZE      DERIVATIVE \n",
      "   1  m0_cb        1.15618e+02   2.86654e+01   3.66699e-02   4.60166e-03\n",
      "   2  n_noh        1.03239e+03   3.33138e+01   7.66674e-04  -1.07850e-02\n",
      "   3  sigma_cb     2.88455e+01   3.93456e+01   3.17455e-03   4.63016e-03\n",
      "   4  theta       -3.43200e-06   9.98336e-01   3.27998e-03  -3.34556e-05\n",
      "                               ERR DEF= 0.5\n",
      "AsymptoticCalculator::EvaluateNLL -  value = -2255.67 for poi fixed at = 66.6667\tfit time : Real time 0:00:00, CP time 0.000\n",
      "[#0] PROGRESS:Eval -- \t OBSERVED DATA :  qmu   = 0.423222 condNLL = -2255.67 uncond -2255.88\n",
      "[#0] PROGRESS:Eval -- AsymptoticCalculator::GetHypoTest -- Find  best conditional NLL on ASIMOV data set .... \n",
      "AsymptoticCalculator::EvaluateNLL  ........ using Minuit / Migrad with strategy  1 and tolerance 1\n",
      " **********\n",
      " **    1 **SET PRINT           0\n",
      " **********\n",
      " **********\n",
      " **    2 **SET NOGRAD\n",
      " **********\n",
      " PARAMETER DEFINITIONS:\n",
      "    NO.   NAME         VALUE      STEP SIZE      LIMITS\n",
      "     1 m0_cb        1.15618e+02  2.86654e+01    1.05000e+02  1.60000e+02\n",
      " MINUIT WARNING IN PARAMETR\n",
      " ============== VARIABLE1 BROUGHT BACK INSIDE LIMITS.\n",
      "     2 n_noh        1.03239e+03  3.33138e+01    0.00000e+00  3.00000e+03\n",
      "     3 sigma_cb     2.88455e+01  3.93456e+01    0.00000e+00  2.00000e+03\n",
      " MINUIT WARNING IN PARAMETR\n",
      " ============== VARIABLE3 BROUGHT BACK INSIDE LIMITS.\n",
      "     4 theta       -3.43200e-06  9.98336e-01   -1.00000e+01  1.00000e+01\n",
      " **********\n",
      " **    3 **SET ERR         0.5\n",
      " **********\n",
      " **********\n",
      " **    4 **SET PRINT           0\n",
      " **********\n",
      " **********\n",
      " **    5 **SET STR           1\n",
      " **********\n",
      " **********\n",
      " **    6 **MIGRAD        2000           1\n",
      " **********\n",
      " MIGRAD MINIMIZATION HAS CONVERGED.\n",
      " MIGRAD WILL VERIFY CONVERGENCE AND ERROR MATRIX.\n",
      " FCN=-2255.56 FROM MIGRAD    STATUS=CONVERGED      71 CALLS          72 TOTAL\n",
      "                     EDM=1.39281e-05    STRATEGY= 1      ERROR MATRIX ACCURATE \n",
      "  EXT PARAMETER                                   STEP         FIRST   \n",
      "  NO.   NAME      VALUE            ERROR          SIZE      DERIVATIVE \n",
      "   1  m0_cb        1.19511e+02   3.46987e+01   2.57000e-02  -4.08821e-03\n",
      "   2  n_noh        1.03237e+03   3.33132e+01   7.66606e-04  -3.78659e-02\n",
      "   3  sigma_cb     2.46171e+01   3.00107e+01   2.98483e-03  -1.44880e-02\n",
      "   4  theta       -2.56321e-05   9.98336e-01   3.27991e-03  -1.13234e-04\n",
      "                               ERR DEF= 0.5\n",
      "AsymptoticCalculator::EvaluateNLL -  value = -2255.56 for poi fixed at = 66.6667\tfit time : Real time 0:00:00, CP time 0.000\n",
      "[#0] PROGRESS:Eval -- \t ASIMOV data qmu_A = 0.477576 condNLL = -2255.56 uncond -2255.8\n",
      "[#0] PROGRESS:Eval -- poi = 66.6667 qmu = 0.423222 qmu_A = 0.477576 sigma = 96.4689  CLsplusb = 0.257667 CLb = 0.516158 CLs = 2.0032\n",
      "[#1] INFO:ObjectHandling -- RooWorkspace::saveSnaphot(w) replacing previous snapshot with name snapshot\n",
      "\n",
      "[#1] INFO:Eval -- AsymptoticCalculator::GetHypoTest: - perform  an hypothesis test for  POI ( mu_2h_signal_strength ) = 88.8889\n",
      "[#0] PROGRESS:Eval -- AsymptoticCalculator::GetHypoTest -  Find  best conditional NLL on OBSERVED data set ..... \n",
      "AsymptoticCalculator::EvaluateNLL  ........ using Minuit / Migrad with strategy  1 and tolerance 1\n",
      " **********\n",
      " **    1 **SET PRINT           0\n",
      " **********\n",
      " **********\n",
      " **    2 **SET NOGRAD\n",
      " **********\n",
      " PARAMETER DEFINITIONS:\n",
      "    NO.   NAME         VALUE      STEP SIZE      LIMITS\n",
      "     1 m0_cb        1.24989e+02  2.69580e+00    1.05000e+02  1.60000e+02\n",
      "     2 n_noh        1.09913e+03  3.35580e+01    0.00000e+00  3.00000e+03\n",
      "     3 sigma_cb     2.06082e+00  1.35319e+00    0.00000e+00  2.00000e+03\n",
      "     4 theta       -1.47482e-05  9.98336e-01   -1.00000e+01  1.00000e+01\n",
      " **********\n",
      " **    3 **SET ERR         0.5\n",
      " **********\n",
      " **********\n",
      " **    4 **SET PRINT           0\n",
      " **********\n",
      " **********\n",
      " **    5 **SET STR           1\n",
      " **********\n",
      " **********\n",
      " **    6 **MIGRAD        2000           1\n",
      " **********\n",
      " MIGRAD MINIMIZATION HAS CONVERGED.\n",
      " MIGRAD WILL VERIFY CONVERGENCE AND ERROR MATRIX.\n",
      " MIGRAD MINIMIZATION HAS CONVERGED.\n",
      " MIGRAD WILL VERIFY CONVERGENCE AND ERROR MATRIX.\n",
      " FCN=-2255.67 FROM MIGRAD    STATUS=CONVERGED     191 CALLS         192 TOTAL\n",
      "                     EDM=4.65064e-05    STRATEGY= 1      ERROR MATRIX ACCURATE \n",
      "  EXT PARAMETER                                   STEP         FIRST   \n",
      "  NO.   NAME      VALUE            ERROR          SIZE      DERIVATIVE \n",
      "   1  m0_cb        1.11658e+02   4.47230e+01   4.10728e-02   4.28224e-03\n",
      "   2  n_noh        1.01008e+03   3.33115e+01   7.70767e-04  -1.15155e-01\n",
      "   3  sigma_cb     3.34224e+01   4.35432e+01   2.87310e-03   6.41732e-02\n",
      "   4  theta        1.79616e-06   9.98336e-01   3.27998e-03   1.51163e-05\n",
      "                               ERR DEF= 0.5\n",
      "AsymptoticCalculator::EvaluateNLL -  value = -2255.67 for poi fixed at = 88.8889\tfit time : Real time 0:00:00, CP time 0.000\n",
      "[#0] PROGRESS:Eval -- \t OBSERVED DATA :  qmu   = 0.423238 condNLL = -2255.67 uncond -2255.88\n",
      "[#0] PROGRESS:Eval -- AsymptoticCalculator::GetHypoTest -- Find  best conditional NLL on ASIMOV data set .... \n",
      "AsymptoticCalculator::EvaluateNLL  ........ using Minuit / Migrad with strategy  1 and tolerance 1\n",
      " **********\n",
      " **    1 **SET PRINT           0\n",
      " **********\n",
      " **********\n",
      " **    2 **SET NOGRAD\n",
      " **********\n",
      " PARAMETER DEFINITIONS:\n",
      "    NO.   NAME         VALUE      STEP SIZE      LIMITS\n",
      "     1 m0_cb        1.11658e+02  4.47230e+01    1.05000e+02  1.60000e+02\n",
      " MINUIT WARNING IN PARAMETR\n",
      " ============== VARIABLE1 BROUGHT BACK INSIDE LIMITS.\n",
      "     2 n_noh        1.01008e+03  3.33115e+01    0.00000e+00  3.00000e+03\n",
      "     3 sigma_cb     3.34224e+01  4.35432e+01    0.00000e+00  2.00000e+03\n",
      " MINUIT WARNING IN PARAMETR\n",
      " ============== VARIABLE3 BROUGHT BACK INSIDE LIMITS.\n",
      "     4 theta        1.79616e-06  9.98336e-01   -1.00000e+01  1.00000e+01\n",
      " **********\n",
      " **    3 **SET ERR         0.5\n",
      " **********\n",
      " **********\n",
      " **    4 **SET PRINT           0\n",
      " **********\n",
      " **********\n",
      " **    5 **SET STR           1\n",
      " **********\n",
      " **********\n",
      " **    6 **MIGRAD        2000           1\n",
      " **********\n",
      " MIGRAD MINIMIZATION HAS CONVERGED.\n",
      " MIGRAD WILL VERIFY CONVERGENCE AND ERROR MATRIX.\n",
      " FCN=-2255.56 FROM MIGRAD    STATUS=CONVERGED      75 CALLS          76 TOTAL\n",
      "                     EDM=4.48871e-05    STRATEGY= 1      ERROR MATRIX ACCURATE \n",
      "  EXT PARAMETER                                   STEP         FIRST   \n",
      "  NO.   NAME      VALUE            ERROR          SIZE      DERIVATIVE \n",
      "   1  m0_cb        1.16790e+02   3.17001e+01   2.71006e-02  -4.88202e-03\n",
      "   2  n_noh        1.01033e+03   3.33178e+01   7.70906e-04   2.00130e-01\n",
      "   3  sigma_cb     2.84427e+01   3.23251e+01   2.60971e-03  -2.57879e-02\n",
      "   4  theta       -5.47766e-05   9.98336e-01   3.27991e-03  -4.00426e-04\n",
      "                               ERR DEF= 0.5\n",
      "AsymptoticCalculator::EvaluateNLL -  value = -2255.56 for poi fixed at = 88.8889\tfit time : Real time 0:00:00, CP time 0.000\n",
      "[#0] PROGRESS:Eval -- \t ASIMOV data qmu_A = 0.479451 condNLL = -2255.56 uncond -2255.8\n",
      "[#0] PROGRESS:Eval -- poi = 88.8889 qmu = 0.423238 qmu_A = 0.479451 sigma = 128.374  CLsplusb = 0.257663 CLb = 0.516693 CLs = 2.00531\n",
      "[#1] INFO:ObjectHandling -- RooWorkspace::saveSnaphot(w) replacing previous snapshot with name snapshot\n",
      "\n",
      "[#1] INFO:Eval -- AsymptoticCalculator::GetHypoTest: - perform  an hypothesis test for  POI ( mu_2h_signal_strength ) = 111.111\n",
      "[#0] PROGRESS:Eval -- AsymptoticCalculator::GetHypoTest -  Find  best conditional NLL on OBSERVED data set ..... \n",
      "AsymptoticCalculator::EvaluateNLL  ........ using Minuit / Migrad with strategy  1 and tolerance 1\n",
      " **********\n",
      " **    1 **SET PRINT           0\n",
      " **********\n",
      " **********\n",
      " **    2 **SET NOGRAD\n",
      " **********\n",
      " PARAMETER DEFINITIONS:\n",
      "    NO.   NAME         VALUE      STEP SIZE      LIMITS\n",
      "     1 m0_cb        1.24989e+02  2.69580e+00    1.05000e+02  1.60000e+02\n",
      "     2 n_noh        1.09913e+03  3.35580e+01    0.00000e+00  3.00000e+03\n",
      "     3 sigma_cb     2.06082e+00  1.35319e+00    0.00000e+00  2.00000e+03\n",
      "     4 theta       -1.47482e-05  9.98336e-01   -1.00000e+01  1.00000e+01\n",
      " **********\n",
      " **    3 **SET ERR         0.5\n",
      " **********\n",
      " **********\n",
      " **    4 **SET PRINT           0\n",
      " **********\n",
      " **********\n",
      " **    5 **SET STR           1\n",
      " **********\n",
      " **********\n",
      " **    6 **MIGRAD        2000           1\n",
      " **********\n",
      " MIGRAD MINIMIZATION HAS CONVERGED.\n",
      " MIGRAD WILL VERIFY CONVERGENCE AND ERROR MATRIX.\n",
      " MIGRAD MINIMIZATION HAS CONVERGED.\n",
      " MIGRAD WILL VERIFY CONVERGENCE AND ERROR MATRIX.\n",
      " EIGENVALUES OF SECOND-DERIVATIVE MATRIX:\n",
      "        -3.2161e-02  9.9989e-01  1.0001e+00  2.0322e+00\n",
      " MINUIT WARNING IN HESSE   \n",
      " ============== MATRIX FORCED POS-DEF BY ADDING 0.034193 TO DIAGONAL.\n",
      " MIGRAD TERMINATED WITHOUT CONVERGENCE.\n",
      " FCN=-2255.67 FROM MIGRAD    STATUS=FAILED        180 CALLS         181 TOTAL\n",
      "                     EDM=0.00676746    STRATEGY= 1      ERR MATRIX NOT POS-DEF\n",
      "  EXT PARAMETER                APPROXIMATE        STEP         FIRST   \n",
      "  NO.   NAME      VALUE            ERROR          SIZE      DERIVATIVE \n",
      "   1  m0_cb        1.06349e+02   2.75426e+01   1.07026e-01  -1.29252e-03\n",
      "   2  n_noh        9.88058e+02   3.27756e+01   7.75233e-04   1.40415e-01\n",
      "   3  sigma_cb     3.82208e+01   1.18598e+03   2.50869e-03   1.35771e-02\n",
      "   4  theta       -2.22423e-06   9.81748e-01   3.27998e-03  -2.01494e-05\n",
      "                               ERR DEF= 0.5\n",
      "    ----> Doing a re-scan first\n",
      " **********\n",
      " **    1 **SET PRINT           0\n",
      " **********\n",
      " **********\n",
      " **    2 **SET NOGRAD\n",
      " **********\n",
      " PARAMETER DEFINITIONS:\n",
      "    NO.   NAME         VALUE      STEP SIZE      LIMITS\n",
      "     1 m0_cb        1.06349e+02  2.75426e+01    1.05000e+02  1.60000e+02\n",
      " MINUIT WARNING IN PARAMETR\n",
      " ============== VARIABLE1 BROUGHT BACK INSIDE LIMITS.\n",
      "     2 n_noh        9.88058e+02  3.27756e+01    0.00000e+00  3.00000e+03\n",
      "     3 sigma_cb     3.82208e+01  1.18598e+03    0.00000e+00  2.00000e+03\n",
      " MINUIT WARNING IN PARAMETR\n",
      " ============== VARIABLE3 BROUGHT BACK INSIDE LIMITS.\n",
      "     4 theta       -2.22423e-06  9.81748e-01   -1.00000e+01  1.00000e+01\n",
      " **********\n",
      " **    3 **SET ERR         0.5\n",
      " **********\n",
      " **********\n",
      " **    4 **SET PRINT           0\n",
      " **********\n",
      " **********\n",
      " **    5 **SET STR           1\n",
      " **********\n",
      " **********\n",
      " **    6 **SCAN\n",
      " **********\n",
      " FCN=-2255.67 FROM SCAn        STATUS=IMPROVED      165 CALLS         165 TOTAL\n",
      "                     EDM= unknown      STRATEGY= 1      NO ERROR MATRIX       \n",
      "  EXT PARAMETER               CURRENT GUESS      PHYSICAL LIMITS       \n",
      "  NO.   NAME      VALUE            ERROR       NEGATIVE      POSITIVE  \n",
      "   1  m0_cb        1.06375e+02   2.75426e+01   1.05000e+02   1.60000e+02\n",
      "   2  n_noh        9.88058e+02   3.27756e+01   0.00000e+00   3.00000e+03\n",
      "   3  sigma_cb     3.82208e+01   1.18598e+03   0.00000e+00   2.00000e+03\n",
      "   4  theta        0.00000e+00   9.81748e-01  -1.00000e+01   1.00000e+01\n",
      "                               ERR DEF= 0.5\n",
      " **********\n",
      " **    7 **HESSE        2000\n",
      " **********\n",
      " FCN=-2255.67 FROM HESSE     STATUS=OK             37 CALLS         202 TOTAL\n",
      "                     EDM=2.29823e-05    STRATEGY= 1      ERROR MATRIX ACCURATE \n",
      "  EXT PARAMETER                                INTERNAL      INTERNAL  \n",
      "  NO.   NAME      VALUE            ERROR       STEP SIZE       VALUE   \n",
      "   1  m0_cb        1.06375e+02   5.05311e+01   5.00000e-01  -1.25324e+00\n",
      "   2  n_noh        9.88058e+02   3.33167e+01   2.48037e-02  -3.48294e-01\n",
      "   3  sigma_cb     3.82208e+01   1.83583e+01   6.02790e-02  -1.29343e+00\n",
      "   4  theta        0.00000e+00   1.00016e+00   1.04961e-01   0.00000e+00\n",
      "                               ERR DEF= 0.5\n",
      " **********\n",
      " **    1 **SET PRINT           0\n",
      " **********\n",
      " **********\n",
      " **    2 **SET NOGRAD\n",
      " **********\n",
      " PARAMETER DEFINITIONS:\n",
      "    NO.   NAME         VALUE      STEP SIZE      LIMITS\n",
      "     1 m0_cb        1.06375e+02  5.05311e+01    1.05000e+02  1.60000e+02\n",
      " MINUIT WARNING IN PARAMETR\n",
      " ============== VARIABLE1 BROUGHT BACK INSIDE LIMITS.\n",
      "     2 n_noh        9.88058e+02  3.33167e+01    0.00000e+00  3.00000e+03\n",
      "     3 sigma_cb     3.82208e+01  1.83583e+01    0.00000e+00  2.00000e+03\n",
      "     4 theta        0.00000e+00  1.00016e+00   -1.00000e+01  1.00000e+01\n",
      " **********\n",
      " **    3 **SET ERR         0.5\n",
      " **********\n",
      " **********\n",
      " **    4 **SET PRINT           0\n",
      " **********\n",
      " **********\n",
      " **    5 **SET STR           1\n",
      " **********\n",
      " **********\n",
      " **    6 **MIGRAD        2000           1\n",
      " **********\n",
      " MIGRAD MINIMIZATION HAS CONVERGED.\n",
      " MIGRAD WILL VERIFY CONVERGENCE AND ERROR MATRIX.\n",
      " EIGENVALUES OF SECOND-DERIVATIVE MATRIX:\n",
      "        -2.9582e-02  9.9989e-01  1.0001e+00  2.0296e+00\n",
      " MINUIT WARNING IN HESSE   \n",
      " ============== MATRIX FORCED POS-DEF BY ADDING 0.031612 TO DIAGONAL.\n",
      " MINUIT WARNING IN MIGRAD  \n",
      " ============== Negative diagonal element 1 in Error Matrix\n",
      " MINUIT WARNING IN MIGRAD  \n",
      " ============== Negative diagonal element 3 in Error Matrix\n",
      " MINUIT WARNING IN MIGRAD  \n",
      " ============== 23.6025 added to diagonal of error matrix\n",
      " MIGRAD MINIMIZATION HAS CONVERGED.\n",
      " MIGRAD WILL VERIFY CONVERGENCE AND ERROR MATRIX.\n",
      " FCN=-2255.67 FROM MIGRAD    STATUS=CONVERGED     150 CALLS         151 TOTAL\n",
      "                     EDM=0.000121502    STRATEGY= 1      ERROR MATRIX ACCURATE \n",
      "  EXT PARAMETER                                   STEP         FIRST   \n",
      "  NO.   NAME      VALUE            ERROR          SIZE      DERIVATIVE \n",
      "   1  m0_cb        1.07089e+02   5.35368e+01   8.33475e-02  -9.62926e-04\n",
      "   2  n_noh        9.87949e+02   3.33146e+01   7.75069e-04  -1.14080e-03\n",
      "   3  sigma_cb     3.76525e+01   8.17313e+01   2.52903e-03   4.48629e-03\n",
      "   4  theta        1.90431e-08   9.98336e-01   3.27998e-03  -4.92530e-07\n",
      "                               ERR DEF= 0.5\n",
      "AsymptoticCalculator::EvaluateNLL -  value = -2255.67 for poi fixed at = 111.111\tfit time : Real time 0:00:00, CP time 0.010\n",
      "[#0] PROGRESS:Eval -- \t OBSERVED DATA :  qmu   = 0.42322 condNLL = -2255.67 uncond -2255.88\n",
      "[#0] PROGRESS:Eval -- AsymptoticCalculator::GetHypoTest -- Find  best conditional NLL on ASIMOV data set .... \n",
      "AsymptoticCalculator::EvaluateNLL  ........ using Minuit / Migrad with strategy  1 and tolerance 1\n",
      " **********\n",
      " **    1 **SET PRINT           0\n",
      " **********\n",
      " **********\n",
      " **    2 **SET NOGRAD\n",
      " **********\n",
      " PARAMETER DEFINITIONS:\n",
      "    NO.   NAME         VALUE      STEP SIZE      LIMITS\n",
      "     1 m0_cb        1.07089e+02  5.35368e+01    1.05000e+02  1.60000e+02\n",
      " MINUIT WARNING IN PARAMETR\n",
      " ============== VARIABLE1 BROUGHT BACK INSIDE LIMITS.\n",
      " MINUIT WARNING IN PARAMETR\n",
      " ============== VARIABLE1 BROUGHT BACK INSIDE LIMITS.\n",
      "     2 n_noh        9.87949e+02  3.33146e+01    0.00000e+00  3.00000e+03\n",
      "     3 sigma_cb     3.76525e+01  8.17313e+01    0.00000e+00  2.00000e+03\n",
      " MINUIT WARNING IN PARAMETR\n",
      " ============== VARIABLE3 BROUGHT BACK INSIDE LIMITS.\n",
      "     4 theta        1.90431e-08  9.98336e-01   -1.00000e+01  1.00000e+01\n",
      " **********\n",
      " **    3 **SET ERR         0.5\n",
      " **********\n",
      " **********\n",
      " **    4 **SET PRINT           0\n",
      " **********\n",
      " **********\n",
      " **    5 **SET STR           1\n",
      " **********\n",
      " **********\n",
      " **    6 **MIGRAD        2000           1\n",
      " **********\n",
      " MIGRAD MINIMIZATION HAS CONVERGED.\n",
      " MIGRAD WILL VERIFY CONVERGENCE AND ERROR MATRIX.\n",
      " FCN=-2255.56 FROM MIGRAD    STATUS=CONVERGED     102 CALLS         103 TOTAL\n",
      "                     EDM=4.51897e-06    STRATEGY= 1      ERROR MATRIX ACCURATE \n",
      "  EXT PARAMETER                                   STEP         FIRST   \n",
      "  NO.   NAME      VALUE            ERROR          SIZE      DERIVATIVE \n",
      "   1  m0_cb        1.14261e+02   2.81467e+01   3.20343e-02   2.01947e-03\n",
      "   2  n_noh        9.87941e+02   3.33132e+01   7.74985e-04  -1.30645e-02\n",
      "   3  sigma_cb     3.16257e+01   3.33642e+01   2.36103e-03   2.91293e-02\n",
      "   4  theta       -1.81016e-05   9.98336e-01   3.27991e-03  -3.89021e-05\n",
      "                               ERR DEF= 0.5\n",
      "AsymptoticCalculator::EvaluateNLL -  value = -2255.56 for poi fixed at = 111.111\tfit time : Real time 0:00:00, CP time 0.000\n",
      "[#0] PROGRESS:Eval -- \t ASIMOV data qmu_A = 0.480242 condNLL = -2255.56 uncond -2255.8\n",
      "[#0] PROGRESS:Eval -- poi = 111.111 qmu = 0.42322 qmu_A = 0.480242 sigma = 160.335  CLsplusb = 0.257667 CLb = 0.516927 CLs = 2.00618\n",
      "[#1] INFO:ObjectHandling -- RooWorkspace::saveSnaphot(w) replacing previous snapshot with name snapshot\n",
      "\n",
      "[#1] INFO:Eval -- AsymptoticCalculator::GetHypoTest: - perform  an hypothesis test for  POI ( mu_2h_signal_strength ) = 133.333\n",
      "[#0] PROGRESS:Eval -- AsymptoticCalculator::GetHypoTest -  Find  best conditional NLL on OBSERVED data set ..... \n",
      "AsymptoticCalculator::EvaluateNLL  ........ using Minuit / Migrad with strategy  1 and tolerance 1\n",
      " **********\n",
      " **    1 **SET PRINT           0\n",
      " **********\n",
      " **********\n",
      " **    2 **SET NOGRAD\n",
      " **********\n",
      " PARAMETER DEFINITIONS:\n",
      "    NO.   NAME         VALUE      STEP SIZE      LIMITS\n",
      "     1 m0_cb        1.24989e+02  2.69580e+00    1.05000e+02  1.60000e+02\n",
      "     2 n_noh        1.09913e+03  3.35580e+01    0.00000e+00  3.00000e+03\n",
      "     3 sigma_cb     2.06082e+00  1.35319e+00    0.00000e+00  2.00000e+03\n",
      "     4 theta       -1.47482e-05  9.98336e-01   -1.00000e+01  1.00000e+01\n",
      " **********\n",
      " **    3 **SET ERR         0.5\n",
      " **********\n",
      " **********\n",
      " **    4 **SET PRINT           0\n",
      " **********\n",
      " **********\n",
      " **    5 **SET STR           1\n",
      " **********\n",
      " **********\n",
      " **    6 **MIGRAD        2000           1\n",
      " **********\n",
      " MIGRAD MINIMIZATION HAS CONVERGED.\n",
      " MIGRAD WILL VERIFY CONVERGENCE AND ERROR MATRIX.\n",
      " FCN=-2255.67 FROM MIGRAD    STATUS=CONVERGED     172 CALLS         173 TOTAL\n",
      "                     EDM=0.00051492    STRATEGY= 1      ERROR MATRIX ACCURATE \n",
      "  EXT PARAMETER                                   STEP         FIRST   \n",
      "  NO.   NAME      VALUE            ERROR          SIZE      DERIVATIVE \n",
      "   1  m0_cb        1.06802e+02   3.58083e+01   7.34999e-02   7.40525e-03\n",
      "   2  n_noh        9.65616e+02   3.33107e+01   7.78783e-04  -1.52110e-01\n",
      "   3  sigma_cb     3.86112e+01   4.44058e+01   2.16490e-03   1.33291e-01\n",
      "   4  theta        2.90011e-05   9.98336e-01   3.27998e-03   2.87967e-04\n",
      "                               ERR DEF= 0.5\n",
      "AsymptoticCalculator::EvaluateNLL -  value = -2255.67 for poi fixed at = 133.333\tfit time : Real time 0:00:00, CP time 0.000\n",
      "[#0] PROGRESS:Eval -- \t OBSERVED DATA :  qmu   = 0.424086 condNLL = -2255.67 uncond -2255.88\n",
      "[#0] PROGRESS:Eval -- AsymptoticCalculator::GetHypoTest -- Find  best conditional NLL on ASIMOV data set .... \n",
      "AsymptoticCalculator::EvaluateNLL  ........ using Minuit / Migrad with strategy  1 and tolerance 1\n",
      " **********\n",
      " **    1 **SET PRINT           0\n",
      " **********\n",
      " **********\n",
      " **    2 **SET NOGRAD\n",
      " **********\n",
      " PARAMETER DEFINITIONS:\n",
      "    NO.   NAME         VALUE      STEP SIZE      LIMITS\n",
      "     1 m0_cb        1.06802e+02  3.58083e+01    1.05000e+02  1.60000e+02\n",
      " MINUIT WARNING IN PARAMETR\n",
      " ============== VARIABLE1 BROUGHT BACK INSIDE LIMITS.\n",
      "     2 n_noh        9.65616e+02  3.33107e+01    0.00000e+00  3.00000e+03\n",
      "     3 sigma_cb     3.86112e+01  4.44058e+01    0.00000e+00  2.00000e+03\n",
      " MINUIT WARNING IN PARAMETR\n",
      " ============== VARIABLE3 BROUGHT BACK INSIDE LIMITS.\n",
      "     4 theta        2.90011e-05  9.98336e-01   -1.00000e+01  1.00000e+01\n",
      " **********\n",
      " **    3 **SET ERR         0.5\n",
      " **********\n",
      " **********\n",
      " **    4 **SET PRINT           0\n",
      " **********\n",
      " **********\n",
      " **    5 **SET STR           1\n",
      " **********\n",
      " **********\n",
      " **    6 **MIGRAD        2000           1\n",
      " **********\n",
      " MIGRAD MINIMIZATION HAS CONVERGED.\n",
      " MIGRAD WILL VERIFY CONVERGENCE AND ERROR MATRIX.\n",
      " FCN=-2255.56 FROM MIGRAD    STATUS=CONVERGED     100 CALLS         101 TOTAL\n",
      "                     EDM=5.71862e-06    STRATEGY= 1      ERROR MATRIX ACCURATE \n",
      "  EXT PARAMETER                                   STEP         FIRST   \n",
      "  NO.   NAME      VALUE            ERROR          SIZE      DERIVATIVE \n",
      "   1  m0_cb        1.11544e+02   3.79841e+01   3.98146e-02   2.13850e-03\n",
      "   2  n_noh        9.65710e+02   3.33130e+01   7.79580e-04  -2.26594e-02\n",
      "   3  sigma_cb     3.45276e+01   3.53107e+01   2.11441e-03   3.44569e-02\n",
      "   4  theta       -5.25836e-06   9.98336e-01   3.27990e-03   8.91889e-05\n",
      "                               ERR DEF= 0.5\n",
      "AsymptoticCalculator::EvaluateNLL -  value = -2255.56 for poi fixed at = 133.333\tfit time : Real time 0:00:00, CP time 0.000\n",
      "[#0] PROGRESS:Eval -- \t ASIMOV data qmu_A = 0.480686 condNLL = -2255.56 uncond -2255.8\n",
      "[#0] PROGRESS:Eval -- poi = 133.333 qmu = 0.424086 qmu_A = 0.480686 sigma = 192.313  CLsplusb = 0.257453 CLb = 0.516789 CLs = 2.00732\n",
      "[#1] INFO:ObjectHandling -- RooWorkspace::saveSnaphot(w) replacing previous snapshot with name snapshot\n",
      "\n",
      "[#1] INFO:Eval -- AsymptoticCalculator::GetHypoTest: - perform  an hypothesis test for  POI ( mu_2h_signal_strength ) = 155.556\n",
      "[#0] PROGRESS:Eval -- AsymptoticCalculator::GetHypoTest -  Find  best conditional NLL on OBSERVED data set ..... \n",
      "AsymptoticCalculator::EvaluateNLL  ........ using Minuit / Migrad with strategy  1 and tolerance 1\n",
      " **********\n",
      " **    1 **SET PRINT           0\n",
      " **********\n",
      " **********\n",
      " **    2 **SET NOGRAD\n",
      " **********\n",
      " PARAMETER DEFINITIONS:\n",
      "    NO.   NAME         VALUE      STEP SIZE      LIMITS\n",
      "     1 m0_cb        1.24989e+02  2.69580e+00    1.05000e+02  1.60000e+02\n",
      "     2 n_noh        1.09913e+03  3.35580e+01    0.00000e+00  3.00000e+03\n",
      "     3 sigma_cb     2.06082e+00  1.35319e+00    0.00000e+00  2.00000e+03\n",
      "     4 theta       -1.47482e-05  9.98336e-01   -1.00000e+01  1.00000e+01\n",
      " **********\n",
      " **    3 **SET ERR         0.5\n",
      " **********\n",
      " **********\n",
      " **    4 **SET PRINT           0\n",
      " **********\n",
      " **********\n",
      " **    5 **SET STR           1\n",
      " **********\n",
      " **********\n",
      " **    6 **MIGRAD        2000           1\n",
      " **********\n",
      " MIGRAD MINIMIZATION HAS CONVERGED.\n",
      " MIGRAD WILL VERIFY CONVERGENCE AND ERROR MATRIX.\n",
      " FCN=-2255.67 FROM MIGRAD    STATUS=CONVERGED     230 CALLS         231 TOTAL\n",
      "                     EDM=7.80267e-05    STRATEGY= 1      ERROR MATRIX ACCURATE \n",
      "  EXT PARAMETER                                   STEP         FIRST   \n",
      "  NO.   NAME      VALUE            ERROR          SIZE      DERIVATIVE \n",
      "   1  m0_cb        1.05005e+02   2.76011e+01   1.37269e-01   5.15533e-04\n",
      "   2  n_noh        9.43655e+02   3.33163e+01   7.84384e-04   1.68667e-01\n",
      "   3  sigma_cb     4.03355e+01   2.02428e+01   2.01803e-03   1.26637e-01\n",
      "   4  theta       -3.72353e-05   9.98336e-01   3.27998e-03  -3.65746e-04\n",
      "                               ERR DEF= 0.5\n",
      "AsymptoticCalculator::EvaluateNLL -  value = -2255.67 for poi fixed at = 155.556\tfit time : Real time 0:00:00, CP time 0.000\n",
      "[#0] PROGRESS:Eval -- \t OBSERVED DATA :  qmu   = 0.425455 condNLL = -2255.67 uncond -2255.88\n",
      "[#0] PROGRESS:Eval -- AsymptoticCalculator::GetHypoTest -- Find  best conditional NLL on ASIMOV data set .... \n",
      "AsymptoticCalculator::EvaluateNLL  ........ using Minuit / Migrad with strategy  1 and tolerance 1\n",
      " **********\n",
      " **    1 **SET PRINT           0\n",
      " **********\n",
      " **********\n",
      " **    2 **SET NOGRAD\n",
      " **********\n",
      " PARAMETER DEFINITIONS:\n",
      "    NO.   NAME         VALUE      STEP SIZE      LIMITS\n",
      "     1 m0_cb        1.05005e+02  2.76011e+01    1.05000e+02  1.60000e+02\n",
      " MINUIT WARNING IN PARAMETR\n",
      " ============== VARIABLE1 BROUGHT BACK INSIDE LIMITS.\n",
      "     2 n_noh        9.43655e+02  3.33163e+01    0.00000e+00  3.00000e+03\n",
      "     3 sigma_cb     4.03355e+01  2.02428e+01    0.00000e+00  2.00000e+03\n",
      "     4 theta       -3.72353e-05  9.98336e-01   -1.00000e+01  1.00000e+01\n",
      " **********\n",
      " **    3 **SET ERR         0.5\n",
      " **********\n",
      " **********\n",
      " **    4 **SET PRINT           0\n",
      " **********\n",
      " **********\n",
      " **    5 **SET STR           1\n",
      " **********\n",
      " **********\n",
      " **    6 **MIGRAD        2000           1\n",
      " **********\n",
      " MIGRAD MINIMIZATION HAS CONVERGED.\n",
      " MIGRAD WILL VERIFY CONVERGENCE AND ERROR MATRIX.\n",
      " MINUIT WARNING IN HESSE   \n",
      " ============== Negative diagonal element 1 in Error Matrix\n",
      " MINUIT WARNING IN HESSE   \n",
      " ============== 1.01299 added to diagonal of error matrix\n",
      " FCN=-2255.56 FROM MIGRAD    STATUS=CONVERGED      55 CALLS          56 TOTAL\n",
      "                     EDM=1.28686e-07    STRATEGY= 1      ERROR MATRIX ACCURATE \n",
      "  EXT PARAMETER                                   STEP         FIRST   \n",
      "  NO.   NAME      VALUE            ERROR          SIZE      DERIVATIVE \n",
      "   1  m0_cb        1.05004e+02   3.40379e+01   1.17352e-01   3.35065e-04\n",
      "   2  n_noh        9.43487e+02   3.33031e+01   7.84534e-04  -3.34463e-03\n",
      "   3  sigma_cb     4.00510e+01   1.66411e+01   1.99414e-03  -1.41749e-03\n",
      "   4  theta       -1.43438e-05   9.93334e-01   3.27990e-03  -4.53652e-06\n",
      "                               ERR DEF= 0.5\n",
      "AsymptoticCalculator::EvaluateNLL -  value = -2255.56 for poi fixed at = 155.556\tfit time : Real time 0:00:00, CP time 0.000\n",
      "[#0] PROGRESS:Eval -- \t ASIMOV data qmu_A = 0.483899 condNLL = -2255.56 uncond -2255.8\n",
      "[#0] PROGRESS:Eval -- poi = 155.556 qmu = 0.425455 qmu_A = 0.483899 sigma = 223.619  CLsplusb = 0.257114 CLb = 0.517292 CLs = 2.01192\n",
      "[#1] INFO:ObjectHandling -- RooWorkspace::saveSnaphot(w) replacing previous snapshot with name snapshot\n",
      "\n",
      "[#1] INFO:Eval -- AsymptoticCalculator::GetHypoTest: - perform  an hypothesis test for  POI ( mu_2h_signal_strength ) = 177.778\n",
      "[#0] PROGRESS:Eval -- AsymptoticCalculator::GetHypoTest -  Find  best conditional NLL on OBSERVED data set ..... \n",
      "AsymptoticCalculator::EvaluateNLL  ........ using Minuit / Migrad with strategy  1 and tolerance 1\n",
      " **********\n",
      " **    1 **SET PRINT           0\n",
      " **********\n",
      " **********\n",
      " **    2 **SET NOGRAD\n",
      " **********\n",
      " PARAMETER DEFINITIONS:\n",
      "    NO.   NAME         VALUE      STEP SIZE      LIMITS\n",
      "     1 m0_cb        1.24989e+02  2.69580e+00    1.05000e+02  1.60000e+02\n",
      "     2 n_noh        1.09913e+03  3.35580e+01    0.00000e+00  3.00000e+03\n",
      "     3 sigma_cb     2.06082e+00  1.35319e+00    0.00000e+00  2.00000e+03\n",
      "     4 theta       -1.47482e-05  9.98336e-01   -1.00000e+01  1.00000e+01\n",
      " **********\n",
      " **    3 **SET ERR         0.5\n",
      " **********\n",
      " **********\n",
      " **    4 **SET PRINT           0\n",
      " **********\n",
      " **********\n",
      " **    5 **SET STR           1\n",
      " **********\n",
      " **********\n",
      " **    6 **MIGRAD        2000           1\n",
      " **********\n",
      " MIGRAD MINIMIZATION HAS CONVERGED.\n",
      " MIGRAD WILL VERIFY CONVERGENCE AND ERROR MATRIX.\n",
      " FCN=-2255.67 FROM MIGRAD    STATUS=CONVERGED     221 CALLS         222 TOTAL\n",
      "                     EDM=0.000143047    STRATEGY= 1      ERROR MATRIX ACCURATE \n",
      "  EXT PARAMETER                                   STEP         FIRST   \n",
      "  NO.   NAME      VALUE            ERROR          SIZE      DERIVATIVE \n",
      "   1  m0_cb        1.05038e+02   2.77971e+01   1.24463e-01   1.80801e-03\n",
      "   2  n_noh        9.21444e+02   3.33158e+01   7.89641e-04   1.60030e-01\n",
      "   3  sigma_cb     4.05214e+01   2.02315e+01   1.81682e-03  -5.10705e-03\n",
      "   4  theta       -3.33966e-05   9.98336e-01   3.27998e-03  -3.24859e-04\n",
      "                               ERR DEF= 0.5\n",
      "AsymptoticCalculator::EvaluateNLL -  value = -2255.67 for poi fixed at = 177.778\tfit time : Real time 0:00:00, CP time 0.000\n",
      "[#0] PROGRESS:Eval -- \t OBSERVED DATA :  qmu   = 0.430941 condNLL = -2255.67 uncond -2255.88\n",
      "[#0] PROGRESS:Eval -- AsymptoticCalculator::GetHypoTest -- Find  best conditional NLL on ASIMOV data set .... \n",
      "AsymptoticCalculator::EvaluateNLL  ........ using Minuit / Migrad with strategy  1 and tolerance 1\n",
      " **********\n",
      " **    1 **SET PRINT           0\n",
      " **********\n",
      " **********\n",
      " **    2 **SET NOGRAD\n",
      " **********\n",
      " PARAMETER DEFINITIONS:\n",
      "    NO.   NAME         VALUE      STEP SIZE      LIMITS\n",
      "     1 m0_cb        1.05038e+02  2.77971e+01    1.05000e+02  1.60000e+02\n",
      " MINUIT WARNING IN PARAMETR\n",
      " ============== VARIABLE1 BROUGHT BACK INSIDE LIMITS.\n",
      "     2 n_noh        9.21444e+02  3.33158e+01    0.00000e+00  3.00000e+03\n",
      "     3 sigma_cb     4.05214e+01  2.02315e+01    0.00000e+00  2.00000e+03\n",
      "     4 theta       -3.33966e-05  9.98336e-01   -1.00000e+01  1.00000e+01\n",
      " **********\n",
      " **    3 **SET ERR         0.5\n",
      " **********\n",
      " **********\n",
      " **    4 **SET PRINT           0\n",
      " **********\n",
      " **********\n",
      " **    5 **SET STR           1\n",
      " **********\n",
      " **********\n",
      " **    6 **MIGRAD        2000           1\n",
      " **********\n",
      " MIGRAD MINIMIZATION HAS CONVERGED.\n",
      " MIGRAD WILL VERIFY CONVERGENCE AND ERROR MATRIX.\n",
      " FCN=-2255.56 FROM MIGRAD    STATUS=CONVERGED      54 CALLS          55 TOTAL\n",
      "                     EDM=8.48159e-05    STRATEGY= 1      ERROR MATRIX ACCURATE \n",
      "  EXT PARAMETER                                   STEP         FIRST   \n",
      "  NO.   NAME      VALUE            ERROR          SIZE      DERIVATIVE \n",
      "   1  m0_cb        1.05005e+02   4.10245e+01   1.69666e-01   1.40583e-04\n",
      "   2  n_noh        9.21278e+02   3.33131e+01   7.89667e-04  -1.96329e-03\n",
      "   3  sigma_cb     4.03874e+01   4.78336e+01   1.77233e-03  -2.48613e-02\n",
      "   4  theta       -1.46081e-05   9.98336e-01   3.27990e-03  -4.70151e-06\n",
      "                               ERR DEF= 0.5\n",
      "AsymptoticCalculator::EvaluateNLL -  value = -2255.56 for poi fixed at = 177.778\tfit time : Real time 0:00:00, CP time 0.000\n",
      "[#0] PROGRESS:Eval -- \t ASIMOV data qmu_A = 0.481289 condNLL = -2255.56 uncond -2255.8\n",
      "[#0] PROGRESS:Eval -- poi = 177.778 qmu = 0.430941 qmu_A = 0.481289 sigma = 256.256  CLsplusb = 0.255764 CLb = 0.514873 CLs = 2.01308\n",
      "[#1] INFO:ObjectHandling -- RooWorkspace::saveSnaphot(w) replacing previous snapshot with name snapshot\n",
      "\n",
      "[#1] INFO:Eval -- AsymptoticCalculator::GetHypoTest: - perform  an hypothesis test for  POI ( mu_2h_signal_strength ) = 200\n",
      "[#0] PROGRESS:Eval -- AsymptoticCalculator::GetHypoTest -  Find  best conditional NLL on OBSERVED data set ..... \n",
      "AsymptoticCalculator::EvaluateNLL  ........ using Minuit / Migrad with strategy  1 and tolerance 1\n",
      " **********\n",
      " **    1 **SET PRINT           0\n",
      " **********\n",
      " **********\n",
      " **    2 **SET NOGRAD\n",
      " **********\n",
      " PARAMETER DEFINITIONS:\n",
      "    NO.   NAME         VALUE      STEP SIZE      LIMITS\n",
      "     1 m0_cb        1.24989e+02  2.69580e+00    1.05000e+02  1.60000e+02\n",
      "     2 n_noh        1.09913e+03  3.35580e+01    0.00000e+00  3.00000e+03\n",
      "     3 sigma_cb     2.06082e+00  1.35319e+00    0.00000e+00  2.00000e+03\n",
      "     4 theta       -1.47482e-05  9.98336e-01   -1.00000e+01  1.00000e+01\n",
      " **********\n",
      " **    3 **SET ERR         0.5\n",
      " **********\n",
      " **********\n",
      " **    4 **SET PRINT           0\n",
      " **********\n",
      " **********\n",
      " **    5 **SET STR           1\n",
      " **********\n",
      " **********\n",
      " **    6 **MIGRAD        2000           1\n",
      " **********\n",
      " MIGRAD MINIMIZATION HAS CONVERGED.\n",
      " MIGRAD WILL VERIFY CONVERGENCE AND ERROR MATRIX.\n",
      " FCN=-2255.66 FROM MIGRAD    STATUS=CONVERGED     222 CALLS         223 TOTAL\n",
      "                     EDM=3.69415e-05    STRATEGY= 1      ERROR MATRIX ACCURATE \n",
      "  EXT PARAMETER                                   STEP         FIRST   \n",
      "  NO.   NAME      VALUE            ERROR          SIZE      DERIVATIVE \n",
      "   1  m0_cb        1.05008e+02   4.55642e+01   1.10926e-01   1.32204e-03\n",
      "   2  n_noh        8.99156e+02   3.33131e+01   7.95018e-04   5.39152e-02\n",
      "   3  sigma_cb     4.08232e+01   1.54197e+01   1.64286e-03  -3.82295e-03\n",
      "   4  theta       -4.00304e-06   9.98336e-01   3.27998e-03  -3.10866e-05\n",
      "                               ERR DEF= 0.5\n",
      "AsymptoticCalculator::EvaluateNLL -  value = -2255.66 for poi fixed at = 200\tfit time : Real time 0:00:00, CP time 0.000\n",
      "[#0] PROGRESS:Eval -- \t OBSERVED DATA :  qmu   = 0.439539 condNLL = -2255.66 uncond -2255.88\n",
      "[#0] PROGRESS:Eval -- AsymptoticCalculator::GetHypoTest -- Find  best conditional NLL on ASIMOV data set .... \n",
      "AsymptoticCalculator::EvaluateNLL  ........ using Minuit / Migrad with strategy  1 and tolerance 1\n",
      " **********\n",
      " **    1 **SET PRINT           0\n",
      " **********\n",
      " **********\n",
      " **    2 **SET NOGRAD\n",
      " **********\n",
      " PARAMETER DEFINITIONS:\n",
      "    NO.   NAME         VALUE      STEP SIZE      LIMITS\n",
      "     1 m0_cb        1.05008e+02  4.55642e+01    1.05000e+02  1.60000e+02\n",
      " MINUIT WARNING IN PARAMETR\n",
      " ============== VARIABLE1 BROUGHT BACK INSIDE LIMITS.\n",
      "     2 n_noh        8.99156e+02  3.33131e+01    0.00000e+00  3.00000e+03\n",
      "     3 sigma_cb     4.08232e+01  1.54197e+01    0.00000e+00  2.00000e+03\n",
      "     4 theta       -4.00304e-06  9.98336e-01   -1.00000e+01  1.00000e+01\n",
      " **********\n",
      " **    3 **SET ERR         0.5\n",
      " **********\n",
      " **********\n",
      " **    4 **SET PRINT           0\n",
      " **********\n",
      " **********\n",
      " **    5 **SET STR           1\n",
      " **********\n",
      " **********\n",
      " **    6 **MIGRAD        2000           1\n",
      " **********\n",
      " MIGRAD MINIMIZATION HAS CONVERGED.\n",
      " MIGRAD WILL VERIFY CONVERGENCE AND ERROR MATRIX.\n",
      " FCN=-2255.56 FROM MIGRAD    STATUS=CONVERGED      52 CALLS          53 TOTAL\n",
      "                     EDM=5.22247e-07    STRATEGY= 1      ERROR MATRIX ACCURATE \n",
      "  EXT PARAMETER                                   STEP         FIRST   \n",
      "  NO.   NAME      VALUE            ERROR          SIZE      DERIVATIVE \n",
      "   1  m0_cb        1.05000e+02   4.20545e+01   1.65566e-01  -6.17614e-05\n",
      "   2  n_noh        8.99075e+02   3.33121e+01   7.95084e-04   3.83400e-03\n",
      "   3  sigma_cb     4.07026e+01   1.81451e+01   1.60872e-03   4.58551e-03\n",
      "   4  theta       -1.40447e-05   9.98336e-01   3.27990e-03   3.42007e-06\n",
      "                               ERR DEF= 0.5\n",
      "AsymptoticCalculator::EvaluateNLL -  value = -2255.56 for poi fixed at = 200\tfit time : Real time 0:00:00, CP time 0.000\n",
      "[#0] PROGRESS:Eval -- \t ASIMOV data qmu_A = 0.481911 condNLL = -2255.56 uncond -2255.8\n",
      "[#0] PROGRESS:Eval -- poi = 200 qmu = 0.439539 qmu_A = 0.481911 sigma = 288.102  CLsplusb = 0.253672 CLb = 0.512453 CLs = 2.02014\n"
     ]
    }
   ],
   "source": [
    "r = calc.GetInterval()"
   ]
  },
  {
   "cell_type": "code",
   "execution_count": null,
   "metadata": {
    "collapsed": true,
    "deletable": true,
    "editable": true
   },
   "outputs": [],
   "source": []
  },
  {
   "cell_type": "code",
   "execution_count": 64,
   "metadata": {
    "collapsed": true,
    "deletable": true,
    "editable": true
   },
   "outputs": [],
   "source": [
    "upperLimit = r.UpperLimit()\n",
    "ulError = r.UpperLimitEstimatedError()"
   ]
  },
  {
   "cell_type": "code",
   "execution_count": 67,
   "metadata": {
    "collapsed": false,
    "deletable": true,
    "editable": true
   },
   "outputs": [
    {
     "data": {
      "text/plain": [
       "155.55555822074183"
      ]
     },
     "execution_count": 67,
     "metadata": {},
     "output_type": "execute_result"
    }
   ],
   "source": [
    "r.GetExpectedUpperLimit(+1)"
   ]
  },
  {
   "cell_type": "code",
   "execution_count": null,
   "metadata": {
    "collapsed": true,
    "deletable": true,
    "editable": true
   },
   "outputs": [],
   "source": [
    "#  double upperLimit = r->UpperLimit();\n",
    "#    double ulError = r->UpperLimitEstimatedError();\n",
    "#    // double lowerLimit = r->LowerLimit();\n",
    "#    // double llError = r->LowerLimitEstimatedError();\n",
    "#    // if (lowerLimit < upperLimit*(1.- 1.E-4)) \n",
    "#    //    std::cout << \"The computed lower limit is: \" << lowerLimit << \" +/- \" << llError << std::endl;\n",
    "#    std::cout << \"The computed upper limit is: \" << upperLimit << \" +/- \" << ulError << std::endl;\n",
    "  \n",
    "#    // compute expected limit\n",
    "#    std::cout << \"Expected upper limits, using the B (alternate) model : \" << std::endl;\n",
    "#    std::cout << \" expected limit (median) \" << r->GetExpectedUpperLimit(0) << std::endl;\n",
    "#    std::cout << \" expected limit (-1 sig) \" << r->GetExpectedUpperLimit(-1) << std::endl;\n",
    "#    std::cout << \" expected limit (+1 sig) \" << r->GetExpectedUpperLimit(1) << std::endl;\n",
    "  \n",
    "\n",
    "#    // plot now the result of the scan \n",
    "\n",
    "#    HypoTestInverterPlot *plot = new HypoTestInverterPlot(\"HTI_Result_Plot\",\"Feldman-Cousins Interval\",r);\n",
    "\n",
    "#    // plot in a new canvas with style\n",
    "#    TCanvas * c1 = new TCanvas(\"HypoTestInverter Scan\"); \n",
    "#    c1->SetLogy(false);\n",
    "\n",
    "#    plot->Draw(\"CLb 2CL\");  // plot also CLb and CLs+b \n",
    "#    //plot->Draw(\"OBS\");  // plot only observed p-value\n",
    "\n",
    "\n",
    "#    // plot also in a new canvas the test statistics distributions \n",
    "  \n",
    "#    // plot test statistics distributions for the two hypothesis\n",
    "#    // when distribution is generated (case of FrequentistCalculators)\n",
    "#    const int n = r->ArraySize();\n",
    "#    if (n> 0 &&  r->GetResult(0)->GetNullDistribution() ) { \n",
    "#       TCanvas * c2 = new TCanvas(\"Test Statistic Distributions\",\"\",2);\n",
    "#       if (n > 1) {\n",
    "#          int ny = TMath::CeilNint( sqrt(n) );\n",
    "#          int nx = TMath::CeilNint(double(n)/ny);\n",
    "#          c2->Divide( nx,ny);\n",
    "#       }\n",
    "#       for (int i=0; i<n; i++) {\n",
    "#          if (n > 1) c2->cd(i+1);\n",
    "#          SamplingDistPlot * pl = plot->MakeTestStatPlot(i);\n",
    "#          pl->SetLogYaxis(true);\n",
    "#          pl->Draw();\n",
    "#       }\n",
    "#    }"
   ]
  },
  {
   "cell_type": "code",
   "execution_count": null,
   "metadata": {
    "collapsed": true,
    "deletable": true,
    "editable": true
   },
   "outputs": [],
   "source": []
  },
  {
   "cell_type": "code",
   "execution_count": null,
   "metadata": {
    "collapsed": true,
    "deletable": true,
    "editable": true
   },
   "outputs": [],
   "source": []
  },
  {
   "cell_type": "code",
   "execution_count": null,
   "metadata": {
    "collapsed": true,
    "deletable": true,
    "editable": true
   },
   "outputs": [],
   "source": []
  },
  {
   "cell_type": "code",
   "execution_count": null,
   "metadata": {
    "collapsed": true,
    "deletable": true,
    "editable": true
   },
   "outputs": [],
   "source": []
  },
  {
   "cell_type": "code",
   "execution_count": null,
   "metadata": {
    "collapsed": true,
    "deletable": true,
    "editable": true
   },
   "outputs": [],
   "source": []
  },
  {
   "cell_type": "code",
   "execution_count": null,
   "metadata": {
    "collapsed": true,
    "deletable": true,
    "editable": true
   },
   "outputs": [],
   "source": []
  },
  {
   "cell_type": "code",
   "execution_count": null,
   "metadata": {
    "collapsed": true,
    "deletable": true,
    "editable": true
   },
   "outputs": [],
   "source": []
  }
 ],
 "metadata": {
  "kernelspec": {
   "display_name": "Python 2",
   "language": "python",
   "name": "python2"
  },
  "language_info": {
   "codemirror_mode": {
    "name": "ipython",
    "version": 2
   },
   "file_extension": ".py",
   "mimetype": "text/x-python",
   "name": "python",
   "nbconvert_exporter": "python",
   "pygments_lexer": "ipython2",
   "version": "2.7.10"
  },
  "latex_envs": {
   "bibliofile": "biblio.bib",
   "cite_by": "apalike",
   "current_citInitial": 1,
   "eqLabelWithNumbers": true,
   "eqNumInitial": 0
  }
 },
 "nbformat": 4,
 "nbformat_minor": 1
}
