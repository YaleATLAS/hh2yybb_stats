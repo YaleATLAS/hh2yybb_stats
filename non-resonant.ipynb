{
 "cells": [
  {
   "cell_type": "markdown",
   "metadata": {},
   "source": [
    "# Start"
   ]
  },
  {
   "cell_type": "code",
   "execution_count": 1,
   "metadata": {
    "collapsed": false
   },
   "outputs": [
    {
     "data": {
      "application/javascript": [
       "\n",
       "require(['notebook'],\n",
       "  function() {\n",
       "    IPython.CodeCell.config_defaults.highlight_modes['magic_text/x-c++src'] = {'reg':[/^%%cpp/]};\n",
       "    console.log(\"JupyROOT - %%cpp magic configured\");\n",
       "  }\n",
       ");\n"
      ]
     },
     "metadata": {},
     "output_type": "display_data"
    },
    {
     "name": "stdout",
     "output_type": "stream",
     "text": [
      "Welcome to JupyROOT 6.08/02\n"
     ]
    }
   ],
   "source": [
    "import ROOT\n",
    "import ROOT.RooFit as rf\n",
    "import rootnotes\n",
    "import numpy as np\n",
    "import matplotlib.pyplot as plt\n",
    "from root_numpy import array2tree, hist2array\n",
    "%matplotlib inline"
   ]
  },
  {
   "cell_type": "code",
   "execution_count": 2,
   "metadata": {
    "collapsed": true
   },
   "outputs": [],
   "source": [
    "from ROOT import gInterpreter, gSystem"
   ]
  },
  {
   "cell_type": "code",
   "execution_count": 3,
   "metadata": {
    "collapsed": false
   },
   "outputs": [
    {
     "data": {
      "text/plain": [
       "0L"
      ]
     },
     "execution_count": 3,
     "metadata": {},
     "output_type": "execute_result"
    }
   ],
   "source": [
    "gInterpreter.ProcessLine('#include \"../56_Hbbyy/inc/HggTwoSidedCBPdf.h\"')"
   ]
  },
  {
   "cell_type": "code",
   "execution_count": 4,
   "metadata": {
    "collapsed": false
   },
   "outputs": [
    {
     "data": {
      "text/plain": [
       "0"
      ]
     },
     "execution_count": 4,
     "metadata": {},
     "output_type": "execute_result"
    }
   ],
   "source": [
    "gSystem.Load('../56_Hbbyy/libDH.so')\n",
    "# gSystem.Load('libDH.so')"
   ]
  },
  {
   "cell_type": "code",
   "execution_count": 5,
   "metadata": {
    "collapsed": true
   },
   "outputs": [],
   "source": [
    "c1=rootnotes.default_canvas()"
   ]
  },
  {
   "cell_type": "code",
   "execution_count": 6,
   "metadata": {
    "collapsed": true
   },
   "outputs": [],
   "source": [
    "branches = [\n",
    "    'HGamEventInfoAuxDyn.yybb_bTagCat',\n",
    "    'HGamEventInfoAuxDyn.m_yy',\n",
    "    'HGamEventInfoAuxDyn.isPassed'\n",
    "]"
   ]
  },
  {
   "cell_type": "code",
   "execution_count": 7,
   "metadata": {
    "collapsed": true
   },
   "outputs": [],
   "source": [
    "import pandautils as pup"
   ]
  },
  {
   "cell_type": "code",
   "execution_count": 6,
   "metadata": {
    "collapsed": false
   },
   "outputs": [
    {
     "name": "stderr",
     "output_type": "stream",
     "text": [
      "WARNING:ROOT.TClass.Init] no dictionary for class xAOD::EventFormat_v1 is available\n",
      "WARNING:ROOT.TClass.Init] no dictionary for class ElementLinkBase is available\n",
      "WARNING:ROOT.TClass.Init] no dictionary for class SG::AuxElement is available\n",
      "WARNING:ROOT.TClass.Init] no dictionary for class SG::IAuxElement is available\n",
      "WARNING:ROOT.TClass.Init] no dictionary for class xAOD::AuxContainerBase is available\n",
      "WARNING:ROOT.TClass.Init] no dictionary for class xAOD::EventInfo_v1 is available\n",
      "WARNING:ROOT.TClass.Init] no dictionary for class xAOD::EventAuxInfo_v1 is available\n",
      "WARNING:ROOT.TClass.Init] no dictionary for class xAOD::AuxInfoBase is available\n",
      "WARNING:ROOT.TClass.Init] no dictionary for class xAOD::TruthEvent_v1 is available\n",
      "WARNING:ROOT.TClass.Init] no dictionary for class xAOD::TruthEventBase_v1 is available\n",
      "WARNING:ROOT.TClass.Init] no dictionary for class xAOD::Photon_v1 is available\n",
      "WARNING:ROOT.TClass.Init] no dictionary for class xAOD::TruthParticle_v1 is available\n",
      "WARNING:ROOT.TClass.Init] no dictionary for class xAOD::Jet_v1 is available\n",
      "WARNING:ROOT.TClass.Init] no dictionary for class ElementLink<DataVector<xAOD::IParticle> > is available\n",
      "WARNING:ROOT.TClass.Init] no dictionary for class xAOD::Electron_v1 is available\n",
      "WARNING:ROOT.TClass.Init] no dictionary for class xAOD::Muon_v1 is available\n",
      "WARNING:ROOT.TClass.Init] no dictionary for class xAOD::MissingET_v1 is available\n",
      "WARNING:ROOT.TClass.Init] no dictionary for class DataVector<xAOD::MissingET_v1> is available\n",
      "WARNING:ROOT.TClass.Init] no dictionary for class SG::AuxVectorBase is available\n",
      "WARNING:ROOT.TClass.Init] no dictionary for class SG::AuxVectorData is available\n",
      "WARNING:ROOT.TClass.Init] no dictionary for class SG::IAuxStore is available\n",
      "WARNING:ROOT.TClass.Init] no dictionary for class SG::IConstAuxStore is available\n",
      "WARNING:ROOT.TClass.Init] no dictionary for class SG::IAuxStoreIO is available\n",
      "WARNING:ROOT.TClass.Init] no dictionary for class SG::IAuxStoreHolder is available\n",
      "WARNING:ROOT.TClass.Init] no dictionary for class xAOD::Egamma_v1 is available\n",
      "WARNING:ROOT.TClass.Init] no dictionary for class xAOD::IParticle is available\n"
     ]
    }
   ],
   "source": [
    "# sm di-higgs (signal)\n",
    "df = pup.root2panda('mc15c.MGPy8_sm_hh_yybb.MxAODDetailed.p2669.h015.root', 'CollectionTree', branches=branches)"
   ]
  },
  {
   "cell_type": "code",
   "execution_count": 7,
   "metadata": {
    "collapsed": true
   },
   "outputs": [],
   "source": [
    "# sm single higgs"
   ]
  },
  {
   "cell_type": "code",
   "execution_count": 8,
   "metadata": {
    "collapsed": true
   },
   "outputs": [],
   "source": [
    "# sherpa bkg + templated bkg"
   ]
  },
  {
   "cell_type": "code",
   "execution_count": 9,
   "metadata": {
    "collapsed": false
   },
   "outputs": [],
   "source": [
    "tree0 = array2tree(\n",
    "    np.array(df[\"HGamEventInfoAuxDyn.m_yy\"][\n",
    "            np.logical_and(df[\"HGamEventInfoAuxDyn.isPassed\"] == 1, df[\"HGamEventInfoAuxDyn.yybb_bTagCat\"] == 0)\n",
    "        ], dtype=[('m_yy', np.float64)])\n",
    ")\n",
    "tree1 = array2tree(\n",
    "    np.array(df[\"HGamEventInfoAuxDyn.m_yy\"][\n",
    "            np.logical_and(df[\"HGamEventInfoAuxDyn.isPassed\"] == 1, df[\"HGamEventInfoAuxDyn.yybb_bTagCat\"] == 1)\n",
    "        ], dtype=[('m_yy', np.float64)])\n",
    ")\n",
    "tree2 = array2tree(\n",
    "    np.array(df[\"HGamEventInfoAuxDyn.m_yy\"][\n",
    "            np.logical_and(df[\"HGamEventInfoAuxDyn.isPassed\"] == 1, df[\"HGamEventInfoAuxDyn.yybb_bTagCat\"] == 2)\n",
    "        ], dtype=[('m_yy', np.float64)])\n",
    ")"
   ]
  },
  {
   "cell_type": "code",
   "execution_count": 10,
   "metadata": {
    "collapsed": false
   },
   "outputs": [
    {
     "name": "stdout",
     "output_type": "stream",
     "text": [
      "[#1] INFO:Eval -- RooTreeDataStore::loadValues(dataset0) Ignored 1 out of range events\n",
      "[#1] INFO:Eval -- RooTreeDataStore::loadValues(dataset1) Ignored 1 out of range events\n"
     ]
    }
   ],
   "source": [
    "# -- create a symbolic variable m_yy with a name and range\n",
    "m_yy = ROOT.RooRealVar(\"m_yy\", \"m_yy\", 105000, 150000)\n",
    "\n",
    "# -- convert from TTree to RooDataSet\n",
    "dataset0 = ROOT.RooDataSet(\"dataset0\", \"0tag dataset from tree\", tree0, ROOT.RooArgSet(m_yy))\n",
    "dataset1 = ROOT.RooDataSet(\"dataset1\", \"1tag dataset from tree\", tree1, ROOT.RooArgSet(m_yy))\n",
    "dataset2 = ROOT.RooDataSet(\"dataset2\", \"2tag dataset from tree\", tree2, ROOT.RooArgSet(m_yy))"
   ]
  },
  {
   "cell_type": "code",
   "execution_count": 11,
   "metadata": {
    "collapsed": true
   },
   "outputs": [],
   "source": [
    "# m0_cb = ROOT.RooRealVar('m0_cb','m0_cb', 105000, 150000)\n",
    "# sigma_cb = ROOT.RooRealVar('sigma_cb','sigma_cb', 0, 2000)\n",
    "# alpha_cb = ROOT.RooRealVar('alpha_cb','alpha_cb', 0, 150000)\n",
    "# n_cb = ROOT.RooRealVar('n_cb','n_cb', 0, 100)\n",
    "\n",
    "# # -- crystal ball\n",
    "# s = ROOT.RooCBShape(\n",
    "#     'cb', 'Crystal Ball',\n",
    "#     m_yy,\n",
    "#     m0_cb,\n",
    "#     sigma_cb,\n",
    "#     alpha_cb,\n",
    "#     n_cb\n",
    "# )"
   ]
  },
  {
   "cell_type": "code",
   "execution_count": 24,
   "metadata": {
    "collapsed": true
   },
   "outputs": [],
   "source": [
    "from ROOT import HggTwoSidedCBPdf"
   ]
  },
  {
   "cell_type": "code",
   "execution_count": 16,
   "metadata": {
    "collapsed": false
   },
   "outputs": [],
   "source": [
    "m0_cb = ROOT.RooRealVar('m0_cb','m0_cb', 105000, 150000)\n",
    "sigma_cb = ROOT.RooRealVar('sigma_cb','sigma_cb', 0, 2000)\n",
    "alphaLo_cb = ROOT.RooRealVar('alphaLo_cb','alphaLo_cb', 0, 150000)\n",
    "nLo_cb = ROOT.RooRealVar('nLo_cb','nLo_cb', 0, 100)\n",
    "alphaHi_cb = ROOT.RooRealVar('alphaHi_cb','alphaHi_cb', 0, 150000)\n",
    "nHi_cb = ROOT.RooRealVar('nHi_cb','nHi_cb', 0, 100)\n",
    "\n",
    "# -- double sided crystal ball\n",
    "s = HggTwoSidedCBPdf(\n",
    "    'dscb', 'Double Sided Crystal Ball',\n",
    "    m_yy,\n",
    "    m0_cb,\n",
    "    sigma_cb,\n",
    "    alphaLo_cb,\n",
    "    nLo_cb,\n",
    "    alphaHi_cb,\n",
    "    nHi_cb\n",
    ")"
   ]
  },
  {
   "cell_type": "code",
   "execution_count": 17,
   "metadata": {
    "collapsed": false
   },
   "outputs": [
    {
     "name": "stdout",
     "output_type": "stream",
     "text": [
      "[#1] INFO:Minization -- RooMinimizer::optimizeConst: activating const optimization\n",
      " **********\n",
      " **    1 **SET PRINT           1\n",
      " **********\n",
      " **********\n",
      " **    2 **SET NOGRAD\n",
      " **********\n",
      " PARAMETER DEFINITIONS:\n",
      "    NO.   NAME         VALUE      STEP SIZE      LIMITS\n",
      "     1 alphaHi_cb   7.50000e+04  1.50000e+04    0.00000e+00  1.50000e+05\n",
      "     2 alphaLo_cb   7.50000e+04  1.50000e+04    0.00000e+00  1.50000e+05\n",
      "     3 m0_cb        1.27500e+05  4.50000e+03    1.05000e+05  1.50000e+05\n",
      "     4 nHi_cb       5.00000e+01  1.00000e+01    0.00000e+00  1.00000e+02\n",
      "     5 nLo_cb       5.00000e+01  1.00000e+01    0.00000e+00  1.00000e+02\n",
      "     6 sigma_cb     1.00000e+03  2.00000e+02    0.00000e+00  2.00000e+03\n",
      " **********\n",
      " **    3 **SET ERR         0.5\n",
      " **********\n",
      " **********\n",
      " **    4 **SET PRINT           1\n",
      " **********\n",
      " **********\n",
      " **    5 **SET STR           1\n",
      " **********\n",
      " NOW USING STRATEGY  1: TRY TO BALANCE SPEED AGAINST RELIABILITY\n",
      " **********\n",
      " **    6 **MIGRAD        3000           1\n",
      " **********\n",
      " FIRST CALL TO USER FUNCTION AT NEW START POINT, WITH IFLAG=4.\n",
      " START MIGRAD MINIMIZATION.  STRATEGY  1.  CONVERGENCE WHEN EDM .LT. 1.00e-03\n",
      " FCN=108620 FROM MIGRAD    STATUS=INITIATE      277 CALLS         278 TOTAL\n",
      "                     EDM= unknown      STRATEGY= 1      NO ERROR MATRIX       \n",
      "  EXT PARAMETER               CURRENT GUESS       STEP         FIRST   \n",
      "  NO.   NAME      VALUE            ERROR          SIZE      DERIVATIVE \n",
      "   1  alphaHi_cb   7.50000e+04   1.50000e+04   0.00000e+00   0.00000e+00\n",
      "   2  alphaLo_cb   7.50000e+04   1.50000e+04   0.00000e+00   0.00000e+00\n",
      "   3  m0_cb        1.27500e+05   4.50000e+03   0.00000e+00   4.90084e+05\n",
      "   4  nHi_cb       5.00000e+01   1.00000e+01   0.00000e+00   0.00000e+00\n",
      "   5  nLo_cb       5.00000e+01   1.00000e+01   0.00000e+00   0.00000e+00\n",
      "   6  sigma_cb     1.00000e+03   2.00000e+02   0.00000e+00  -7.55034e+04\n",
      "                               ERR DEF= 0.5\n",
      " MIGRAD MINIMIZATION HAS CONVERGED.\n",
      " MIGRAD WILL VERIFY CONVERGENCE AND ERROR MATRIX.\n",
      " MINUIT WARNING IN HESSE\n",
      " ============== Second derivative enters zero, param 1\n",
      " MINUIT WARNING IN HESSE\n",
      " ============== Second derivative zero for parameter1\n",
      "  MNHESS FAILS AND WILL RETURN DIAGONAL MATRIX. \n",
      " FCN=75977.1 FROM MIGRAD    STATUS=CONVERGED     359 CALLS         360 TOTAL\n",
      "                     EDM=4.05796e-05    STRATEGY= 1  ERROR MATRIX UNCERTAINTY 100.0 per cent\n",
      "  EXT PARAMETER                APPROXIMATE        STEP         FIRST   \n",
      "  NO.   NAME      VALUE            ERROR          SIZE      DERIVATIVE \n",
      "   1  alphaHi_cb   7.50000e+04   2.09315e+04  -0.00000e+00   0.00000e+00\n",
      "   2  alphaLo_cb   7.50000e+04   6.31103e+04  -0.00000e+00   0.00000e+00\n",
      "   3  m0_cb        1.24941e+05   1.97556e+01  -5.90734e-04   1.09844e+01\n",
      "   4  nHi_cb       5.00000e+01   4.20735e+01  -0.00000e+00   0.00000e+00\n",
      "   5  nLo_cb       5.00000e+01   4.20735e+01  -0.00000e+00   0.00000e+00\n",
      "   6  sigma_cb     1.82255e+03   1.39681e+01   1.02077e-02   8.87665e-03\n",
      "                               ERR DEF= 0.5\n",
      " EXTERNAL ERROR MATRIX.    NDIM=  25    NPAR=  6    ERR DEF=0.5\n",
      "  4.500e+08  0.000e+00  0.000e+00  0.000e+00  0.000e+00  0.000e+00 \n",
      "  0.000e+00  5.625e+09  0.000e+00  0.000e+00  0.000e+00  0.000e+00 \n",
      "  0.000e+00  0.000e+00  3.903e+02  0.000e+00  0.000e+00  0.000e+00 \n",
      "  0.000e+00  0.000e+00  0.000e+00  2.500e+03  0.000e+00  0.000e+00 \n",
      "  0.000e+00  0.000e+00  0.000e+00  0.000e+00  2.500e+03  0.000e+00 \n",
      "  0.000e+00  0.000e+00  0.000e+00  0.000e+00  0.000e+00  1.951e+02 \n",
      "ERR MATRIX APPROXIMATE\n",
      " PARAMETER  CORRELATION COEFFICIENTS  \n",
      "       NO.  GLOBAL      1      2      3      4      5      6\n",
      "        1  0.00000   1.000  0.000  0.000  0.000  0.000  0.000\n",
      "        2  0.00000   0.000  1.000  0.000  0.000  0.000  0.000\n",
      "        3  0.00000   0.000  0.000  1.000  0.000  0.000  0.000\n",
      "        4  0.00000   0.000  0.000  0.000  1.000  0.000  0.000\n",
      "        5  0.00000   0.000  0.000  0.000  0.000  1.000  0.000\n",
      "        6  0.00000   0.000  0.000  0.000  0.000  0.000  1.000\n",
      " ERR MATRIX APPROXIMATE\n",
      " **********\n",
      " **    7 **HESSE        3000\n",
      " **********\n",
      " MINUIT WARNING IN HESSE\n",
      " ============== Second derivative zero for parameter1\n",
      "  MNHESS FAILS AND WILL RETURN DIAGONAL MATRIX. \n",
      " FCN=75977.1 FROM HESSE     STATUS=FAILED          3 CALLS         363 TOTAL\n",
      "                     EDM=4.05796e-05    STRATEGY= 1  ERROR MATRIX UNCERTAINTY 100.0 per cent\n",
      "  EXT PARAMETER                APPROXIMATE     INTERNAL      INTERNAL  \n",
      "  NO.   NAME      VALUE            ERROR       STEP SIZE       VALUE   \n",
      "   1  alphaHi_cb   3.90431e+04   3.59569e+04  -0.00000e+00   0.00000e+00\n",
      "   2  alphaLo_cb   7.50000e+04   6.31103e+04  -0.00000e+00   0.00000e+00\n",
      "   3  m0_cb        1.24941e+05   1.97556e+01  -5.90734e-04  -1.13981e-01\n",
      "   4  nHi_cb       5.00000e+01   4.20735e+01  -0.00000e+00   0.00000e+00\n",
      "   5  nLo_cb       5.00000e+01   4.20735e+01  -0.00000e+00   0.00000e+00\n",
      "   6  sigma_cb     1.82255e+03   1.39681e+01   1.02077e-02   9.65888e-01\n",
      "                               ERR DEF= 0.5\n",
      " EXTERNAL ERROR MATRIX.    NDIM=  25    NPAR=  6    ERR DEF=0.5\n",
      "  4.500e+08  0.000e+00  0.000e+00  0.000e+00  0.000e+00  0.000e+00 \n",
      "  0.000e+00  5.625e+09  0.000e+00  0.000e+00  0.000e+00  0.000e+00 \n",
      "  0.000e+00  0.000e+00  3.903e+02  0.000e+00  0.000e+00  0.000e+00 \n",
      "  0.000e+00  0.000e+00  0.000e+00  2.500e+03  0.000e+00  0.000e+00 \n",
      "  0.000e+00  0.000e+00  0.000e+00  0.000e+00  2.500e+03  0.000e+00 \n",
      "  0.000e+00  0.000e+00  0.000e+00  0.000e+00  0.000e+00  1.951e+02 \n",
      "ERR MATRIX APPROXIMATE\n",
      " PARAMETER  CORRELATION COEFFICIENTS  \n",
      "       NO.  GLOBAL      1      2      3      4      5      6\n",
      "        1  0.00000   1.000  0.000  0.000  0.000  0.000  0.000\n",
      "        2  0.00000   0.000  1.000  0.000  0.000  0.000  0.000\n",
      "        3  0.00000   0.000  0.000  1.000  0.000  0.000  0.000\n",
      "        4  0.00000   0.000  0.000  0.000  1.000  0.000  0.000\n",
      "        5  0.00000   0.000  0.000  0.000  0.000  1.000  0.000\n",
      "        6  0.00000   0.000  0.000  0.000  0.000  0.000  1.000\n",
      " ERR MATRIX APPROXIMATE\n",
      " **********\n",
      " **    8 **SET ERR         0.5\n",
      " **********\n",
      " **********\n",
      " **    9 **SET PRINT           1\n",
      " **********\n",
      " **********\n",
      " **   10 **HESSE        3000\n",
      " **********\n",
      " MINUIT WARNING IN HESSE\n",
      " ============== Second derivative zero for parameter1\n",
      "  MNHESS FAILS AND WILL RETURN DIAGONAL MATRIX. \n",
      " FCN=75977.1 FROM HESSE     STATUS=FAILED          3 CALLS         366 TOTAL\n",
      "                     EDM=4.05796e-05    STRATEGY= 1  ERROR MATRIX UNCERTAINTY 100.0 per cent\n",
      "  EXT PARAMETER                APPROXIMATE     INTERNAL      INTERNAL  \n",
      "  NO.   NAME      VALUE            ERROR       STEP SIZE       VALUE   \n",
      "   1  alphaHi_cb   3.90431e+04   3.59569e+04  -0.00000e+00   0.00000e+00\n",
      "   2  alphaLo_cb   7.50000e+04   6.31103e+04  -0.00000e+00   0.00000e+00\n",
      "   3  m0_cb        1.24941e+05   1.97556e+01  -5.90734e-04  -1.13981e-01\n",
      "   4  nHi_cb       5.00000e+01   4.20735e+01  -0.00000e+00   0.00000e+00\n",
      "   5  nLo_cb       5.00000e+01   4.20735e+01  -0.00000e+00   0.00000e+00\n",
      "   6  sigma_cb     1.82255e+03   1.39681e+01   1.02077e-02   9.65888e-01\n",
      "                               ERR DEF= 0.5\n",
      " EXTERNAL ERROR MATRIX.    NDIM=  25    NPAR=  6    ERR DEF=0.5\n",
      "  4.500e+08  0.000e+00  0.000e+00  0.000e+00  0.000e+00  0.000e+00 \n",
      "  0.000e+00  5.625e+09  0.000e+00  0.000e+00  0.000e+00  0.000e+00 \n",
      "  0.000e+00  0.000e+00  3.903e+02  0.000e+00  0.000e+00  0.000e+00 \n",
      "  0.000e+00  0.000e+00  0.000e+00  2.500e+03  0.000e+00  0.000e+00 \n",
      "  0.000e+00  0.000e+00  0.000e+00  0.000e+00  2.500e+03  0.000e+00 \n",
      "  0.000e+00  0.000e+00  0.000e+00  0.000e+00  0.000e+00  1.951e+02 \n",
      "ERR MATRIX APPROXIMATE\n",
      " PARAMETER  CORRELATION COEFFICIENTS  \n",
      "       NO.  GLOBAL      1      2      3      4      5      6\n",
      "        1  0.00000   1.000  0.000  0.000  0.000  0.000  0.000\n",
      "        2  0.00000   0.000  1.000  0.000  0.000  0.000  0.000\n",
      "        3  0.00000   0.000  0.000  1.000  0.000  0.000  0.000\n",
      "        4  0.00000   0.000  0.000  0.000  1.000  0.000  0.000\n",
      "        5  0.00000   0.000  0.000  0.000  0.000  1.000  0.000\n",
      "        6  0.00000   0.000  0.000  0.000  0.000  0.000  1.000\n",
      " ERR MATRIX APPROXIMATE\n",
      "[#1] INFO:Minization -- RooMinimizer::optimizeConst: deactivating const optimization\n"
     ]
    }
   ],
   "source": [
    "r0 = s.fitTo(dataset0, ROOT.RooFit.Save())\n",
    "#r1 = s.fitTo(dataset1, ROOT.RooFit.Save())\n",
    "#r2 = s.fitTo(dataset2, ROOT.RooFit.Save())"
   ]
  },
  {
   "cell_type": "code",
   "execution_count": 18,
   "metadata": {
    "collapsed": false
   },
   "outputs": [
    {
     "data": {
      "image/png": "[encoded data removed]",
      "text/plain": [
       "<ROOT.TCanvas object (\"icanvas\") at 0x7fbaf06995c0>"
      ]
     },
     "execution_count": 18,
     "metadata": {},
     "output_type": "execute_result"
    },
    {
     "name": "stdout",
     "output_type": "stream",
     "text": [
      "[#1] INFO:Plotting -- RooPlot::updateFitRangeNorm: New event count of 14833 will supercede previous event count of 8511 for normalization of PDF projections\n",
      "[#1] INFO:Plotting -- RooPlot::updateFitRangeNorm: New event count of 12159 will supercede previous event count of 14833 for normalization of PDF projections\n"
     ]
    },
    {
     "name": "stderr",
     "output_type": "stream",
     "text": [
      "INFO:ROOT.TCanvas.Print] png file /var/folders/0d/3d7wlbr14zn3_l2ctx0r1jdw0000gn/T/tmpu_AsCu.png has been created\n"
     ]
    }
   ],
   "source": [
    "frame = m_yy.frame()\n",
    "\n",
    "dataset0.plotOn(frame, ROOT.RooFit.Binning(25), rf.MarkerColor(ROOT.kRed), rf.LineColor(ROOT.kRed))\n",
    "# BE CAREFUL! s NEEDS TO BE PLOTTED RIGHT AFTER ITS DATASET, OTHERWISE NORMALIZATION IS OFF!\n",
    "s.plotOn(frame, rf.LineColor(ROOT.kBlack))\n",
    "\n",
    "dataset1.plotOn(frame, ROOT.RooFit.Binning(25), rf.MarkerColor(ROOT.kGreen), rf.LineColor(ROOT.kGreen))\n",
    "dataset2.plotOn(frame, ROOT.RooFit.Binning(25), rf.MarkerColor(ROOT.kBlue), rf.LineColor(ROOT.kBlue))\n",
    "frame.Draw()\n",
    "c1"
   ]
  },
  {
   "cell_type": "code",
   "execution_count": 35,
   "metadata": {
    "collapsed": false
   },
   "outputs": [],
   "source": [
    "# -- how to define your own pdf by hand\n",
    "# x = ROOT.RooRealVar('x','x',-10,10)\n",
    "# y = ROOT.RooRealVar('y','y',0,5)\n",
    "# a = ROOT.RooRealVar('a','a',3.0)\n",
    "# b = ROOT.RooRealVar('b','b',-2.0)\n",
    "# gp = ROOT.RooGenericPdf('gp','Generic PDF','exp(x*y+a)-b*x', ROOT.RooArgList(x,y,a,b)) "
   ]
  },
  {
   "cell_type": "code",
   "execution_count": 19,
   "metadata": {
    "collapsed": false
   },
   "outputs": [
    {
     "data": {
      "text/plain": [
       "1800.2314555518092"
      ]
     },
     "execution_count": 19,
     "metadata": {},
     "output_type": "execute_result"
    }
   ],
   "source": [
    "sigma_cb.getVal()"
   ]
  },
  {
   "cell_type": "code",
   "execution_count": 31,
   "metadata": {
    "collapsed": false
   },
   "outputs": [
    {
     "name": "stdout",
     "output_type": "stream",
     "text": [
      "\n",
      "  RooFitResult: minimized FCN value: 75977.1, estimated distance to minimum: 4.05796e-05\n",
      "                covariance matrix quality: Approximation only, not accurate\n",
      "                Status : MINIMIZE=0 HESSE=0 \n",
      "\n",
      "    Floating Parameter    FinalValue +/-  Error   \n",
      "  --------------------  --------------------------\n",
      "            alphaHi_cb    3.9043e+04 +/-  3.60e+04\n",
      "            alphaLo_cb    7.5000e+04 +/-  6.31e+04\n",
      "                 m0_cb    1.2494e+05 +/-  1.98e+01\n",
      "                nHi_cb    5.0000e+01 +/-  4.21e+01\n",
      "                nLo_cb    5.0000e+01 +/-  4.21e+01\n",
      "              sigma_cb    1.8226e+03 +/-  1.40e+01\n",
      "\n"
     ]
    }
   ],
   "source": [
    "r0.Print()"
   ]
  },
  {
   "cell_type": "markdown",
   "metadata": {},
   "source": [
    "# RooDataSet 2 numpy array"
   ]
  },
  {
   "cell_type": "code",
   "execution_count": 42,
   "metadata": {
    "collapsed": true
   },
   "outputs": [],
   "source": [
    "def wrap_iter(it):\n",
    "    elem = it.Next()\n",
    "    while elem:\n",
    "        yield elem\n",
    "        elem = it.Next()"
   ]
  },
  {
   "cell_type": "code",
   "execution_count": 43,
   "metadata": {
    "collapsed": true
   },
   "outputs": [],
   "source": [
    "def get_data(data): # seems to be working fine but it's one element short??\n",
    "    curr = data.get(0)\n",
    "    ret = np.zeros((curr.getSize(), data.numEntries()))\n",
    "    vars = []\n",
    "    for v in wrap_iter(curr.iterator()):\n",
    "        vars.append(v)\n",
    "    idx = 0\n",
    "    while curr:\n",
    "        for i, v in enumerate(vars):\n",
    "            var = curr.find(v)\n",
    "            try:\n",
    "                ret[i, idx] = var.getVal()\n",
    "            except AttributeError:\n",
    "                ret[i, idx] = var.getIndex()\n",
    "        idx += 1\n",
    "        curr = data.get(idx)\n",
    "    return ret"
   ]
  },
  {
   "cell_type": "code",
   "execution_count": 44,
   "metadata": {
    "collapsed": false
   },
   "outputs": [
    {
     "data": {
      "text/plain": [
       "array([[ 124487.7265625],\n",
       "       [ 126503.0078125],\n",
       "       [ 124170.984375 ],\n",
       "       ..., \n",
       "       [ 124511.9140625],\n",
       "       [ 123265.53125  ],\n",
       "       [ 121814.3125   ]])"
      ]
     },
     "execution_count": 44,
     "metadata": {},
     "output_type": "execute_result"
    }
   ],
   "source": [
    "get_data(dataset1).T"
   ]
  },
  {
   "cell_type": "code",
   "execution_count": 45,
   "metadata": {
    "collapsed": false
   },
   "outputs": [
    {
     "data": {
      "text/plain": [
       "array([(124487.7265625,), (126503.0078125,), (124170.984375,), ...,\n",
       "       (124511.9140625,), (123265.53125,), (121814.3125,)], \n",
       "      dtype=[('m_yy', '<f8')])"
      ]
     },
     "execution_count": 45,
     "metadata": {},
     "output_type": "execute_result"
    }
   ],
   "source": [
    "# -- just to check:\n",
    "np.array(df[\"HGamEventInfoAuxDyn.m_yy\"][\n",
    "            np.logical_and(df[\"HGamEventInfoAuxDyn.isPassed\"] == 1, df[\"HGamEventInfoAuxDyn.yybb_bTagCat\"] == 1)\n",
    "        ], dtype=[('m_yy', np.float64)])"
   ]
  },
  {
   "cell_type": "markdown",
   "metadata": {},
   "source": [
    "# Extract curve from frame"
   ]
  },
  {
   "cell_type": "code",
   "execution_count": 6,
   "metadata": {
    "collapsed": true
   },
   "outputs": [],
   "source": [
    "xaxis = np.linspace(105000, 160000, 100) # xaxis range and number of interpolation points"
   ]
  },
  {
   "cell_type": "code",
   "execution_count": 27,
   "metadata": {
    "collapsed": false
   },
   "outputs": [
    {
     "name": "stdout",
     "output_type": "stream",
     "text": [
      "0\n",
      "<ROOT.RooHist object (\"h_dataset0\") at 0x7fbaf15f3510>\n",
      "1\n",
      "<ROOT.RooCurve object (\"dscb_Norm[m_yy]\") at 0x7fbaf1756440>\n",
      "2\n",
      "<ROOT.RooHist object (\"h_dataset1\") at 0x7fbaf16b6180>\n",
      "3\n",
      "<ROOT.RooHist object (\"h_dataset2\") at 0x7fbaf283cc90>\n"
     ]
    }
   ],
   "source": [
    "curves = {}\n",
    "for idx in range(int(frame.numItems())):\n",
    "    obj = frame.getObject(idx)\n",
    "    print obj\n",
    "    if type(obj) == ROOT.RooCurve:\n",
    "        curves[obj.GetName()] = [obj.interpolate(point) for point in xaxis]"
   ]
  },
  {
   "cell_type": "markdown",
   "metadata": {},
   "source": [
    "# Load Histograms from ROOT File"
   ]
  },
  {
   "cell_type": "code",
   "execution_count": 6,
   "metadata": {
    "collapsed": false
   },
   "outputs": [],
   "source": [
    "from rootpy.io import root_open"
   ]
  },
  {
   "cell_type": "code",
   "execution_count": 7,
   "metadata": {
    "collapsed": true
   },
   "outputs": [],
   "source": [
    "bkg = root_open('combined_backgrounds_20170201.root')"
   ]
  },
  {
   "cell_type": "code",
   "execution_count": 8,
   "metadata": {
    "collapsed": false
   },
   "outputs": [],
   "source": [
    "histos_bkg = {k.GetName(): bkg.Get(k.GetName()) for k in bkg.GetListOfKeys()}"
   ]
  },
  {
   "cell_type": "code",
   "execution_count": 9,
   "metadata": {
    "collapsed": false
   },
   "outputs": [
    {
     "data": {
      "text/plain": [
       "['m_yy_lowMass_0tag_tightIsolated_bkg_single_Higgs',\n",
       " 'm_yy_lowMass_0tag_tightIsolated_bkg_non_Higgs',\n",
       " 'm_yy_highMass_0tag_tightIsolated_bkg_non_Higgs',\n",
       " 'm_yy_highMass_0tag_tightIsolated_bkg_single_Higgs']"
      ]
     },
     "execution_count": 9,
     "metadata": {},
     "output_type": "execute_result"
    }
   ],
   "source": [
    "[k for k in histos_bkg.keys() if (('0tag' in k) and ('m_yy_' in k))]"
   ]
  },
  {
   "cell_type": "code",
   "execution_count": 10,
   "metadata": {
    "collapsed": false
   },
   "outputs": [
    {
     "name": "stdout",
     "output_type": "stream",
     "text": [
      "[#1] INFO:DataHandling -- RooDataHist::adjustBinning(0tag_bkg_nonHiggs): fit range of variable myy expanded to nearest bin boundaries: [105,160] --> [105,160]\n",
      "[#1] INFO:DataHandling -- RooDataHist::adjustBinning(0tag_bkg_1Higgs): fit range of variable myy expanded to nearest bin boundaries: [105,160] --> [105,160]\n"
     ]
    }
   ],
   "source": [
    "# Select one histogram to import into a datahist\n",
    "h0_bkg_noH = histos_bkg['m_yy_highMass_0tag_tightIsolated_bkg_non_Higgs']\n",
    "h0_bkg_1H = histos_bkg['m_yy_highMass_0tag_tightIsolated_bkg_single_Higgs']\n",
    "\n",
    "# Declare observable x\n",
    "myy = ROOT.RooRealVar(\"myy\", \"m_yy\", h0_bkg_noH.GetXaxis().GetXmin(), h0_bkg_noH.GetXaxis().GetXmax())\n",
    "\n",
    "# Create a binned dataset that imports contents of TH1 and associates its contents to observable 'x'\n",
    "dh_bkg_noH = ROOT.RooDataHist(\"0tag_bkg_nonHiggs\", \"non Higgs bkg in 0tag category\", ROOT.RooArgList(myy), h0_bkg_noH)\n",
    "dh_bkg_1H = ROOT.RooDataHist(\"0tag_bkg_1Higgs\", \"single Higgs bkg in 0tag category\", ROOT.RooArgList(myy), h0_bkg_1H)"
   ]
  },
  {
   "cell_type": "code",
   "execution_count": 11,
   "metadata": {
    "collapsed": false
   },
   "outputs": [],
   "source": [
    "# -- define non-Higgs bkg fit function (Exponential pdf)\n",
    "c0_bkg = ROOT.RooRealVar('c0_bkg', 'coefficient c0 of exponential bkg fit', -100, 100) #-2.63843e-2\n",
    "exp_function = ROOT.RooExponential('bkg_fit', 'exponential bkg fit in 0 tag category', myy, c0_bkg)"
   ]
  },
  {
   "cell_type": "code",
   "execution_count": 12,
   "metadata": {
    "collapsed": false
   },
   "outputs": [],
   "source": [
    "# -- define single-Higgs bkg fit function (Double Sided Crystal Ball)\n",
    "m0_cb = ROOT.RooRealVar('m0_cb','m0_cb', 125, 105, 160)\n",
    "sigma_cb = ROOT.RooRealVar('sigma_cb','sigma_cb', 5, 0, 2000)\n",
    "alphaLo_cb = ROOT.RooRealVar('alphaLo_cb','alphaLo_cb', 0, 5)\n",
    "nLo_cb = ROOT.RooRealVar('nLo_cb','nLo_cb', 0, 10)\n",
    "alphaHi_cb = ROOT.RooRealVar('alphaHi_cb','alphaHi_cb', 0, 5)\n",
    "nHi_cb = ROOT.RooRealVar('nHi_cb','nHi_cb', 0, 10)\n",
    "# alphaLo_cb = ROOT.RooRealVar('alphaLo_cb','alphaLo_cb', 2.16784)\n",
    "# nLo_cb = ROOT.RooRealVar('nLo_cb','nLo_cb', 3.57625)\n",
    "# alphaHi_cb = ROOT.RooRealVar('alphaHi_cb','alphaHi_cb', 2.32595)\n",
    "# nHi_cb = ROOT.RooRealVar('nHi_cb','nHi_cb', 4.17267)\n",
    "\n",
    "# -- double sided crystal ball\n",
    "dscb_1h = ROOT.HggTwoSidedCBPdf(\n",
    "    'dscb_1h', 'Double Sided Crystal Ball fit for single higgs bkg in 0tag category',\n",
    "    myy,\n",
    "    m0_cb,\n",
    "    sigma_cb,\n",
    "    alphaLo_cb,\n",
    "    nLo_cb,\n",
    "    alphaHi_cb,\n",
    "    nHi_cb\n",
    ")"
   ]
  },
  {
   "cell_type": "code",
   "execution_count": 13,
   "metadata": {
    "collapsed": false,
    "scrolled": true
   },
   "outputs": [
    {
     "data": {
      "text/plain": [
       "<ROOT.RooFitResult object at 0x0>"
      ]
     },
     "execution_count": 13,
     "metadata": {},
     "output_type": "execute_result"
    },
    {
     "name": "stdout",
     "output_type": "stream",
     "text": [
      "[#1] INFO:Minization -- RooMinimizer::optimizeConst: activating const optimization\n",
      " **********\n",
      " **    1 **SET PRINT           1\n",
      " **********\n",
      " **********\n",
      " **    2 **SET NOGRAD\n",
      " **********\n",
      " PARAMETER DEFINITIONS:\n",
      "    NO.   NAME         VALUE      STEP SIZE      LIMITS\n",
      "     1 c0_bkg       0.00000e+00  2.00000e+01   -1.00000e+02  1.00000e+02\n",
      " **********\n",
      " **    3 **SET ERR         0.5\n",
      " **********\n",
      " **********\n",
      " **    4 **SET PRINT           1\n",
      " **********\n",
      " **********\n",
      " **    5 **SET STR           1\n",
      " **********\n",
      " NOW USING STRATEGY  1: TRY TO BALANCE SPEED AGAINST RELIABILITY\n",
      " **********\n",
      " **    6 **MIGRAD         500           1\n",
      " **********\n",
      " FIRST CALL TO USER FUNCTION AT NEW START POINT, WITH IFLAG=4.\n",
      " START MIGRAD MINIMIZATION.  STRATEGY  1.  CONVERGENCE WHEN EDM .LT. 1.00e-03\n",
      " FCN=4404.06 FROM MIGRAD    STATUS=INITIATE        4 CALLS           5 TOTAL\n",
      "                     EDM= unknown      STRATEGY= 1      NO ERROR MATRIX       \n",
      "  EXT PARAMETER               CURRENT GUESS       STEP         FIRST   \n",
      "  NO.   NAME      VALUE            ERROR          SIZE      DERIVATIVE \n",
      "   1  c0_bkg       0.00000e+00   2.00000e+01   2.01358e-01   4.07327e+05\n",
      "                               ERR DEF= 0.5\n",
      " MIGRAD MINIMIZATION HAS CONVERGED.\n",
      " MIGRAD WILL VERIFY CONVERGENCE AND ERROR MATRIX.\n",
      " COVARIANCE MATRIX CALCULATED SUCCESSFULLY\n",
      " FCN=4373.95 FROM MIGRAD    STATUS=CONVERGED      20 CALLS          21 TOTAL\n",
      "                     EDM=5.65662e-07    STRATEGY= 1      ERROR MATRIX ACCURATE \n",
      "  EXT PARAMETER                                   STEP         FIRST   \n",
      "  NO.   NAME      VALUE            ERROR          SIZE      DERIVATIVE \n",
      "   1  c0_bkg      -1.48644e-02   1.93159e-03   8.82063e-07   3.89371e+01\n",
      "                               ERR DEF= 0.5\n",
      " EXTERNAL ERROR MATRIX.    NDIM=  25    NPAR=  1    ERR DEF=0.5\n",
      "  3.731e-06 \n",
      " **********\n",
      " **    7 **SET ERR         0.5\n",
      " **********\n",
      " **********\n",
      " **    8 **SET PRINT           1\n",
      " **********\n",
      " **********\n",
      " **    9 **HESSE         500\n",
      " **********\n",
      " COVARIANCE MATRIX CALCULATED SUCCESSFULLY\n",
      " FCN=4373.95 FROM HESSE     STATUS=OK              5 CALLS          26 TOTAL\n",
      "                     EDM=5.65491e-07    STRATEGY= 1      ERROR MATRIX ACCURATE \n",
      "  EXT PARAMETER                                INTERNAL      INTERNAL  \n",
      "  NO.   NAME      VALUE            ERROR       STEP SIZE       VALUE   \n",
      "   1  c0_bkg      -1.48644e-02   1.93159e-03   1.76413e-07  -1.48644e-04\n",
      "                               ERR DEF= 0.5\n",
      " EXTERNAL ERROR MATRIX.    NDIM=  25    NPAR=  1    ERR DEF=0.5\n",
      "  3.731e-06 \n",
      "[#1] INFO:Fitting -- RooAbsPdf::fitTo(bkg_fit) Calculating sum-of-weights-squared correction matrix for covariance matrix\n",
      " **********\n",
      " **   10 **SET ERR         0.5\n",
      " **********\n",
      " **********\n",
      " **   11 **SET PRINT           1\n",
      " **********\n",
      " **********\n",
      " **   12 **HESSE         500\n",
      " **********\n",
      " COVARIANCE MATRIX CALCULATED SUCCESSFULLY\n",
      " FCN=1248.91 FROM HESSE     STATUS=OK              7 CALLS          33 TOTAL\n",
      "                     EDM=4.02776    STRATEGY= 1      ERROR MATRIX ACCURATE \n",
      "  EXT PARAMETER                                INTERNAL      INTERNAL  \n",
      "  NO.   NAME      VALUE            ERROR       STEP SIZE       VALUE   \n",
      "   1  c0_bkg      -1.48644e-02   3.60290e-03   3.59882e-06  -1.48644e-04\n",
      "                               ERR DEF= 0.5\n",
      " EXTERNAL ERROR MATRIX.    NDIM=  25    NPAR=  1    ERR DEF=0.5\n",
      "  1.298e-05 \n",
      "[#1] INFO:Minization -- RooMinimizer::optimizeConst: deactivating const optimization\n"
     ]
    }
   ],
   "source": [
    "# -- individual fit to bkg\n",
    "exp_function.fitTo(dh_bkg_noH, rf.SumW2Error(ROOT.kTRUE))"
   ]
  },
  {
   "cell_type": "code",
   "execution_count": 14,
   "metadata": {
    "collapsed": false,
    "scrolled": true
   },
   "outputs": [
    {
     "data": {
      "text/plain": [
       "<ROOT.RooFitResult object at 0x0>"
      ]
     },
     "execution_count": 14,
     "metadata": {},
     "output_type": "execute_result"
    },
    {
     "name": "stdout",
     "output_type": "stream",
     "text": [
      "[#1] INFO:Minization -- RooMinimizer::optimizeConst: activating const optimization\n",
      " **********\n",
      " **    1 **SET PRINT           1\n",
      " **********\n",
      " **********\n",
      " **    2 **SET NOGRAD\n",
      " **********\n",
      " PARAMETER DEFINITIONS:\n",
      "    NO.   NAME         VALUE      STEP SIZE      LIMITS\n",
      "     1 alphaHi_cb   2.50000e+00  5.00000e-01    0.00000e+00  5.00000e+00\n",
      "     2 alphaLo_cb   2.50000e+00  5.00000e-01    0.00000e+00  5.00000e+00\n",
      "     3 m0_cb        1.25000e+02  5.50000e+00    1.05000e+02  1.60000e+02\n",
      "     4 nHi_cb       5.00000e+00  1.00000e+00    0.00000e+00  1.00000e+01\n",
      "     5 nLo_cb       5.00000e+00  1.00000e+00    0.00000e+00  1.00000e+01\n",
      "     6 sigma_cb     5.00000e+00  2.50000e+00    0.00000e+00  2.00000e+03\n",
      " **********\n",
      " **    3 **SET ERR         0.5\n",
      " **********\n",
      " **********\n",
      " **    4 **SET PRINT           1\n",
      " **********\n",
      " **********\n",
      " **    5 **SET STR           1\n",
      " **********\n",
      " NOW USING STRATEGY  1: TRY TO BALANCE SPEED AGAINST RELIABILITY\n",
      " **********\n",
      " **    6 **MIGRAD        3000           1\n",
      " **********\n",
      " FIRST CALL TO USER FUNCTION AT NEW START POINT, WITH IFLAG=4.\n",
      " START MIGRAD MINIMIZATION.  STRATEGY  1.  CONVERGENCE WHEN EDM .LT. 1.00e-03\n",
      " FCN=23.3576 FROM MIGRAD    STATUS=INITIATE       95 CALLS          96 TOTAL\n",
      "                     EDM= unknown      STRATEGY= 1      NO ERROR MATRIX       \n",
      "  EXT PARAMETER               CURRENT GUESS       STEP         FIRST   \n",
      "  NO.   NAME      VALUE            ERROR          SIZE      DERIVATIVE \n",
      "   1  alphaHi_cb   2.50000e+00   5.00000e-01   0.00000e+00   2.12518e-03\n",
      "   2  alphaLo_cb   2.50000e+00   5.00000e-01   0.00000e+00  -3.04263e-01\n",
      "   3  m0_cb        1.25000e+02   5.50000e+00   0.00000e+00   1.18449e+00\n",
      "   4  nHi_cb       2.57481e+00   1.00000e+00   0.00000e+00   6.34889e-03\n",
      "   5  nLo_cb       1.09517e+00   1.00000e+00  -8.96213e-01  -2.02959e-01\n",
      "   6  sigma_cb     1.60197e+00   2.50000e+00   0.00000e+00  -1.01140e+02\n",
      "                               ERR DEF= 0.5\n",
      " MIGRAD MINIMIZATION HAS CONVERGED.\n",
      " MIGRAD WILL VERIFY CONVERGENCE AND ERROR MATRIX.\n",
      " COVARIANCE MATRIX CALCULATED SUCCESSFULLY\n",
      " FCN=23.1656 FROM MIGRAD    STATUS=CONVERGED     213 CALLS         214 TOTAL\n",
      "                     EDM=0.000386484    STRATEGY= 1      ERROR MATRIX ACCURATE \n",
      "  EXT PARAMETER                                   STEP         FIRST   \n",
      "  NO.   NAME      VALUE            ERROR          SIZE      DERIVATIVE \n",
      "   1  alphaHi_cb   2.44064e+00   2.08010e+00   2.13468e-03  -2.54785e-03\n",
      "   2  alphaLo_cb   2.37750e+00   1.78172e+00   1.59664e-03  -2.07438e-03\n",
      "   3  m0_cb        1.24984e+02   5.59206e-01   7.05658e-05  -4.70612e-02\n",
      "   4  nHi_cb       3.55632e+00   8.17775e+00   8.33158e-03   3.52140e-03\n",
      "   5  nLo_cb       2.05944e+00   5.53109e+00   4.10405e-03  -5.51728e-03\n",
      "   6  sigma_cb     1.82728e+00   4.18887e-01   2.26932e-05   1.33755e-02\n",
      "                               ERR DEF= 0.5\n",
      " EXTERNAL ERROR MATRIX.    NDIM=  25    NPAR=  6    ERR DEF=0.5\n",
      "  6.038e+00  1.781e-02 -1.024e-02 -3.623e+01 -5.718e-02 -2.891e-02 \n",
      "  1.781e-02  3.936e+00  2.479e-02 -2.418e-01 -1.371e+01 -5.053e-02 \n",
      " -1.024e-02  2.479e-02  3.128e-01  4.499e-01 -2.380e-01 -1.966e-03 \n",
      " -3.623e+01 -2.418e-01  4.499e-01  4.103e+02  2.275e+00  1.010e+00 \n",
      " -5.718e-02 -1.371e+01 -2.380e-01  2.275e+00  7.404e+01  4.527e-01 \n",
      " -2.891e-02 -5.053e-02 -1.966e-03  1.010e+00  4.527e-01  1.755e-01 \n",
      " PARAMETER  CORRELATION COEFFICIENTS  \n",
      "       NO.  GLOBAL      1      2      3      4      5      6\n",
      "        1  0.73065   1.000  0.004 -0.007 -0.728 -0.003 -0.028\n",
      "        2  0.80418   0.004  1.000  0.022 -0.006 -0.803 -0.061\n",
      "        3  0.07769  -0.007  0.022  1.000  0.040 -0.049 -0.008\n",
      "        4  0.73542  -0.728 -0.006  0.040  1.000  0.013  0.119\n",
      "        5  0.80725  -0.003 -0.803 -0.049  0.013  1.000  0.126\n",
      "        6  0.20246  -0.028 -0.061 -0.008  0.119  0.126  1.000\n",
      " **********\n",
      " **    7 **SET ERR         0.5\n",
      " **********\n",
      " **********\n",
      " **    8 **SET PRINT           1\n",
      " **********\n",
      " **********\n",
      " **    9 **HESSE        3000\n",
      " **********\n",
      " COVARIANCE MATRIX CALCULATED SUCCESSFULLY\n",
      " FCN=23.1656 FROM HESSE     STATUS=OK             40 CALLS         254 TOTAL\n",
      "                     EDM=0.000404541    STRATEGY= 1      ERROR MATRIX ACCURATE \n",
      "  EXT PARAMETER                                INTERNAL      INTERNAL  \n",
      "  NO.   NAME      VALUE            ERROR       STEP SIZE       VALUE   \n",
      "   1  alphaHi_cb   2.44064e+00   3.54142e+00   4.26936e-04  -2.37476e-02\n",
      "   2  alphaLo_cb   2.37750e+00   1.81087e+00   3.19328e-04  -4.90202e-02\n",
      "   3  m0_cb        1.24984e+02   5.59242e-01   1.41132e-05  -2.76824e-01\n",
      "   4  nHi_cb       3.55632e+00   8.21140e+00   1.66632e-03  -2.92906e-01\n",
      "   5  nLo_cb       2.05944e+00   5.63647e+00   8.20809e-04  -6.28722e-01\n",
      "   6  sigma_cb     1.82728e+00   4.19073e-01   4.53863e-06  -1.51033e+00\n",
      "                               ERR DEF= 0.5\n",
      " EXTERNAL ERROR MATRIX.    NDIM=  25    NPAR=  6    ERR DEF=0.5\n",
      "  6.315e+00  2.024e-02 -1.262e-02 -3.863e+01 -7.284e-02 -3.442e-02 \n",
      "  2.024e-02  4.104e+00  2.698e-02 -2.748e-01 -1.445e+01 -5.469e-02 \n",
      " -1.262e-02  2.698e-02  3.128e-01  4.665e-01 -2.470e-01 -2.120e-03 \n",
      " -3.863e+01 -2.748e-01  4.665e-01  4.293e+02  2.450e+00  1.051e+00 \n",
      " -7.284e-02 -1.445e+01 -2.470e-01  2.450e+00  7.721e+01  4.693e-01 \n",
      " -3.442e-02 -5.469e-02 -2.120e-03  1.051e+00  4.693e-01  1.756e-01 \n",
      " PARAMETER  CORRELATION COEFFICIENTS  \n",
      "       NO.  GLOBAL      1      2      3      4      5      6\n",
      "        1  0.74448   1.000  0.004 -0.009 -0.742 -0.003 -0.033\n",
      "        2  0.81314   0.004  1.000  0.024 -0.007 -0.812 -0.064\n",
      "        3  0.07850  -0.009  0.024  1.000  0.040 -0.050 -0.009\n",
      "        4  0.74902  -0.742 -0.007  0.040  1.000  0.013  0.121\n",
      "        5  0.81605  -0.003 -0.812 -0.050  0.013  1.000  0.127\n",
      "        6  0.20455  -0.033 -0.064 -0.009  0.121  0.127  1.000\n",
      "[#1] INFO:Fitting -- RooAbsPdf::fitTo(dscb_1h) Calculating sum-of-weights-squared correction matrix for covariance matrix\n",
      " **********\n",
      " **   10 **SET ERR         0.5\n",
      " **********\n",
      " **********\n",
      " **   11 **SET PRINT           1\n",
      " **********\n",
      " **********\n",
      " **   12 **HESSE        3000\n",
      " **********\n",
      " COVARIANCE MATRIX CALCULATED SUCCESSFULLY\n",
      " FCN=0.053873 FROM HESSE     STATUS=OK             54 CALLS         308 TOTAL\n",
      "                     EDM=9.61648e-05    STRATEGY= 1      ERROR MATRIX ACCURATE \n",
      "  EXT PARAMETER                                INTERNAL      INTERNAL  \n",
      "  NO.   NAME      VALUE            ERROR       STEP SIZE       VALUE   \n",
      "   1  alphaHi_cb   2.44064e+00   2.53809e+00   8.70949e-03  -2.37476e-02\n",
      "   2  alphaLo_cb   2.37750e+00   3.33114e+00   6.51429e-03  -4.90202e-02\n",
      "   3  m0_cb        1.24984e+02   1.13234e+01   2.87909e-04  -2.76824e-01\n",
      "   4  nHi_cb       3.55632e+00   5.73506e+00   3.39929e-02  -2.92906e-01\n",
      "   5  nLo_cb       2.05944e+00   5.91242e+00   1.67445e-02  -6.28722e-01\n",
      "   6  sigma_cb     1.82728e+00   1.01971e+01   9.25881e-05  -1.51033e+00\n",
      "                               ERR DEF= 0.5\n",
      " EXTERNAL ERROR MATRIX.    NDIM=  25    NPAR=  6    ERR DEF=0.5\n",
      "  2.212e+03  4.469e+00  3.074e-01 -1.200e+04  7.429e-01 -8.875e-01 \n",
      "  4.469e+00  2.051e+03  1.991e+01 -2.284e+02 -7.960e+03 -4.953e+01 \n",
      "  3.074e-01  1.991e+01  1.369e+02  1.929e+02 -1.462e+02 -1.008e+00 \n",
      " -1.200e+04 -2.284e+02  1.929e+02  1.518e+05  1.596e+03  3.992e+02 \n",
      "  7.429e-01 -7.960e+03 -1.462e+02  1.596e+03  4.340e+04  3.352e+02 \n",
      " -8.875e-01 -4.953e+01 -1.008e+00  3.992e+02  3.352e+02  7.473e+01 \n",
      " PARAMETER  CORRELATION COEFFICIENTS  \n",
      "       NO.  GLOBAL      1      2      3      4      5      6\n",
      "        1  0.65980   1.000  0.002  0.001 -0.655  0.000 -0.002\n",
      "        2  0.84443   0.002  1.000  0.038 -0.013 -0.844 -0.127\n",
      "        3  0.08740   0.001  0.038  1.000  0.042 -0.060 -0.010\n",
      "        4  0.66658  -0.655 -0.013  0.042  1.000  0.020  0.119\n",
      "        5  0.84800   0.000 -0.844 -0.060  0.020  1.000  0.186\n",
      "        6  0.24544  -0.002 -0.127 -0.010  0.119  0.186  1.000\n",
      "[#1] INFO:Minization -- RooMinimizer::optimizeConst: deactivating const optimization\n"
     ]
    }
   ],
   "source": [
    "# -- individual fit to single higgs bkg\n",
    "dscb_1h.fitTo(dh_bkg_1H, rf.SumW2Error(ROOT.kTRUE))"
   ]
  },
  {
   "cell_type": "code",
   "execution_count": 15,
   "metadata": {
    "collapsed": false
   },
   "outputs": [
    {
     "data": {
      "image/png": "[encoded data removed]",
      "text/plain": [
       "<ROOT.TCanvas object (\"icanvas\") at 0x7fc97d35eab0>"
      ]
     },
     "execution_count": 15,
     "metadata": {},
     "output_type": "execute_result"
    },
    {
     "name": "stdout",
     "output_type": "stream",
     "text": [
      "[#1] INFO:InputArguments -- RooAbsData::plotOn(0tag_bkg_nonHiggs) INFO: dataset has non-integer weights, auto-selecting SumW2 errors instead of Poisson errors\n",
      "[#1] INFO:InputArguments -- RooAbsData::plotOn(0tag_bkg_1Higgs) INFO: dataset has non-integer weights, auto-selecting SumW2 errors instead of Poisson errors\n",
      "[#1] INFO:Plotting -- RooPlot::updateFitRangeNorm: New event count of 11.0631 will supercede previous event count of 1099 for normalization of PDF projections\n"
     ]
    },
    {
     "name": "stderr",
     "output_type": "stream",
     "text": [
      "INFO:ROOT.TCanvas.Print] png file /var/folders/0d/3d7wlbr14zn3_l2ctx0r1jdw0000gn/T/tmpI1evNn.png has been created\n"
     ]
    }
   ],
   "source": [
    "frame = myy.frame()\n",
    "dh_bkg_noH.plotOn(frame)\n",
    "exp_function.plotOn(frame)\n",
    "\n",
    "dh_bkg_1H.plotOn(frame)\n",
    "dscb_1h.plotOn(frame, rf.LineColor(ROOT.kRed))\n",
    "\n",
    "frame.Draw()\n",
    "frame.SetTitle(\"\")\n",
    "frame.SetMinimum(1e-6)\n",
    "c1.SetLogy(True)\n",
    "c1"
   ]
  },
  {
   "cell_type": "code",
   "execution_count": 16,
   "metadata": {
    "collapsed": false,
    "scrolled": false
   },
   "outputs": [],
   "source": [
    "# -- double sided crystal ball\n",
    "# m0_cb = ROOT.RooRealVar('m0_cb','m0_cb', 125, 105, 160)\n",
    "# sigma_cb = ROOT.RooRealVar('sigma_cb','sigma_cb', 5, 0, 2000)\n",
    "alphaLo_cb_fixed = ROOT.RooRealVar('alphaLo_cb_fixed','alphaLo_cb_fixed', 2.37750)\n",
    "nLo_cb_fixed = ROOT.RooRealVar('nLo_cb_fixed','nLo_cb_fixed', 2.05944)\n",
    "alphaHi_cb_fixed = ROOT.RooRealVar('alphaHi_cb_fixed','alphaHi_cb_fixed', 2.44064)\n",
    "nHi_cb_fixed = ROOT.RooRealVar('nHi_cb_fixed','nHi_cb_fixed', 3.55632)\n",
    "\n",
    "dscb_1h_fixed = ROOT.HggTwoSidedCBPdf(\n",
    "    'dscb_1h_fixed', 'Double Sided Crystal Ball fit for single higgs bkg in 0tag category',\n",
    "    myy,\n",
    "    m0_cb,\n",
    "    sigma_cb,\n",
    "    alphaLo_cb_fixed,\n",
    "    nLo_cb_fixed,\n",
    "    alphaHi_cb_fixed,\n",
    "    nHi_cb_fixed\n",
    ")\n",
    "\n",
    "# -- define non-Higgs bkg fit function (Exponential pdf)\n",
    "c0_bkg_fixed = ROOT.RooRealVar('c0_bkg_fixed', 'coefficient c0 of exponential bkg fit', -1.48644e-2)\n",
    "exp_function_fixed = ROOT.RooExponential('bkg_fit_fixed', 'exponential bkg fit in 0 tag category', myy, c0_bkg_fixed)"
   ]
  },
  {
   "cell_type": "code",
   "execution_count": 17,
   "metadata": {
    "collapsed": true
   },
   "outputs": [],
   "source": [
    "#ROOT.RooAddPdf?"
   ]
  },
  {
   "cell_type": "code",
   "execution_count": 18,
   "metadata": {
    "collapsed": false
   },
   "outputs": [
    {
     "name": "stdout",
     "output_type": "stream",
     "text": [
      "1099.0\n",
      "11.0630627785\n"
     ]
    }
   ],
   "source": [
    "print dh_bkg_noH.sum(ROOT.kFALSE)\n",
    "print dh_bkg_1H.sum(ROOT.kFALSE)"
   ]
  },
  {
   "cell_type": "markdown",
   "metadata": {},
   "source": [
    "In an extended pdf, we provide the expected number of observed events of each kind. Underneath, this tacks on a Poisson term to the entire pdf which describes the probability of seeing that number of events of each kind. This is important because it allows the two independent pdfs to be normalized to something slightly off of the nominal value. Otherwise, if we provide a fraction f0, the second coefficient can only be (1-f0). This would then have to be scaled to exactly the number of observed events, without allowing the normalization to be slighly off of the expected one."
   ]
  },
  {
   "cell_type": "code",
   "execution_count": 19,
   "metadata": {
    "collapsed": false
   },
   "outputs": [],
   "source": [
    "n_1h = ROOT.RooRealVar(\"n_1h\", \"expected number of 1 Higgs bkg events\", 11)#, 0, 14069) \n",
    "n_noh = ROOT.RooRealVar(\"n_noh\", \"expected number of non Higgs bkg events\", 1009, 0, 3000)\n",
    "\n",
    "full_bkg = ROOT.RooAddPdf('full_bkg_pdf', 'Full Bkg PDF',\n",
    "                    ROOT.RooArgList(exp_function_fixed, dscb_1h_fixed),\n",
    "                    ROOT.RooArgList(n_noh, n_1h) # extended pdf!\n",
    ")"
   ]
  },
  {
   "cell_type": "code",
   "execution_count": 20,
   "metadata": {
    "collapsed": false
   },
   "outputs": [],
   "source": [
    "from copy import deepcopy\n",
    "\n",
    "combined_data = deepcopy(dh_bkg_noH)\n",
    "combined_data.add(dh_bkg_1H)"
   ]
  },
  {
   "cell_type": "code",
   "execution_count": 21,
   "metadata": {
    "collapsed": false,
    "scrolled": false
   },
   "outputs": [
    {
     "data": {
      "text/plain": [
       "<ROOT.RooFitResult object at 0x0>"
      ]
     },
     "execution_count": 21,
     "metadata": {},
     "output_type": "execute_result"
    },
    {
     "name": "stdout",
     "output_type": "stream",
     "text": [
      "[#1] INFO:Minization -- p.d.f. provides expected number of events, including extended term in likelihood.\n",
      "[#1] INFO:Minization -- RooMinimizer::optimizeConst: activating const optimization\n",
      "[#1] INFO:Minization --  The following expressions have been identified as constant and will be precalculated and cached: (bkg_fit_fixed)\n",
      "[#1] INFO:Minization --  The following expressions will be evaluated in cache-and-track mode: (dscb_1h_fixed)\n",
      " **********\n",
      " **    1 **SET PRINT           1\n",
      " **********\n",
      " **********\n",
      " **    2 **SET NOGRAD\n",
      " **********\n",
      " PARAMETER DEFINITIONS:\n",
      "    NO.   NAME         VALUE      STEP SIZE      LIMITS\n",
      "     1 m0_cb        1.24984e+02  2.67375e-02    1.05000e+02  1.60000e+02\n",
      "     2 n_noh        1.00900e+03  3.00000e+02    0.00000e+00  3.00000e+03\n",
      "     3 sigma_cb     1.82728e+00  2.03890e-02    0.00000e+00  2.00000e+03\n",
      " **********\n",
      " **    3 **SET ERR         0.5\n",
      " **********\n",
      " **********\n",
      " **    4 **SET PRINT           1\n",
      " **********\n",
      " **********\n",
      " **    5 **SET STR           1\n",
      " **********\n",
      " NOW USING STRATEGY  1: TRY TO BALANCE SPEED AGAINST RELIABILITY\n",
      " **********\n",
      " **    6 **MIGRAD        1500           1\n",
      " **********\n",
      " FIRST CALL TO USER FUNCTION AT NEW START POINT, WITH IFLAG=4.\n",
      " START MIGRAD MINIMIZATION.  STRATEGY  1.  CONVERGENCE WHEN EDM .LT. 1.00e-03\n",
      " FCN=-2252.91 FROM MIGRAD    STATUS=INITIATE       12 CALLS          13 TOTAL\n",
      "                     EDM= unknown      STRATEGY= 1      NO ERROR MATRIX       \n",
      "  EXT PARAMETER               CURRENT GUESS       STEP         FIRST   \n",
      "  NO.   NAME      VALUE            ERROR          SIZE      DERIVATIVE \n",
      "   1  m0_cb        1.24984e+02   2.67375e-02   1.01076e-03  -2.27235e-01\n",
      "   2  n_noh        1.00900e+03   3.00000e+02   2.13890e-01  -1.25395e+02\n",
      "   3  sigma_cb     1.82728e+00   2.03890e-02   3.37431e-04  -1.05350e+01\n",
      "                               ERR DEF= 0.5\n",
      " MIGRAD MINIMIZATION HAS CONVERGED.\n",
      " MIGRAD WILL VERIFY CONVERGENCE AND ERROR MATRIX.\n",
      " COVARIANCE MATRIX CALCULATED SUCCESSFULLY\n",
      " FCN=-2256.8 FROM MIGRAD    STATUS=CONVERGED      46 CALLS          47 TOTAL\n",
      "                     EDM=6.16942e-05    STRATEGY= 1      ERROR MATRIX ACCURATE \n",
      "  EXT PARAMETER                                   STEP         FIRST   \n",
      "  NO.   NAME      VALUE            ERROR          SIZE      DERIVATIVE \n",
      "   1  m0_cb        1.24981e+02   2.69636e+00   3.36199e-03  -3.31621e-02\n",
      "   2  n_noh        1.09887e+03   3.33001e+01   7.53846e-04  -3.07146e-01\n",
      "   3  sigma_cb     2.06714e+00   1.35405e+00   7.25387e-04  -2.72821e-02\n",
      "                               ERR DEF= 0.5\n",
      " EXTERNAL ERROR MATRIX.    NDIM=  25    NPAR=  3    ERR DEF=0.5\n",
      "  7.296e+00  1.099e-01 -1.858e-01 \n",
      "  1.099e-01  1.109e+03 -2.640e-01 \n",
      " -1.858e-01 -2.640e-01  1.834e+00 \n",
      " PARAMETER  CORRELATION COEFFICIENTS  \n",
      "       NO.  GLOBAL      1      2      3\n",
      "        1  0.05081   1.000  0.001 -0.051\n",
      "        2  0.00593   0.001  1.000 -0.006\n",
      "        3  0.05113  -0.051 -0.006  1.000\n",
      " **********\n",
      " **    7 **SET ERR         0.5\n",
      " **********\n",
      " **********\n",
      " **    8 **SET PRINT           1\n",
      " **********\n",
      " **********\n",
      " **    9 **HESSE        1500\n",
      " **********\n",
      " COVARIANCE MATRIX CALCULATED SUCCESSFULLY\n",
      " FCN=-2256.8 FROM HESSE     STATUS=OK             16 CALLS          63 TOTAL\n",
      "                     EDM=6.16447e-05    STRATEGY= 1      ERROR MATRIX ACCURATE \n",
      "  EXT PARAMETER                                INTERNAL      INTERNAL  \n",
      "  NO.   NAME      VALUE            ERROR       STEP SIZE       VALUE   \n",
      "   1  m0_cb        1.24981e+02   2.69756e+00   6.72398e-04  -2.76954e-01\n",
      "   2  n_noh        1.09887e+03   3.33002e+01   1.50769e-04  -2.70712e-01\n",
      "   3  sigma_cb     2.06714e+00   1.35311e+00   2.90155e-05  -1.50649e+00\n",
      "                               ERR DEF= 0.5\n",
      " EXTERNAL ERROR MATRIX.    NDIM=  25    NPAR=  3    ERR DEF=0.5\n",
      "  7.302e+00  8.429e-02 -2.332e-01 \n",
      "  8.429e-02  1.109e+03 -2.887e-01 \n",
      " -2.332e-01 -2.887e-01  1.831e+00 \n",
      " PARAMETER  CORRELATION COEFFICIENTS  \n",
      "       NO.  GLOBAL      1      2      3\n",
      "        1  0.06378   1.000  0.001 -0.064\n",
      "        2  0.00643   0.001  1.000 -0.006\n",
      "        3  0.06409  -0.064 -0.006  1.000\n",
      "[#1] INFO:Fitting -- RooAbsPdf::fitTo(full_bkg_pdf) Calculating sum-of-weights-squared correction matrix for covariance matrix\n",
      " **********\n",
      " **   10 **SET ERR         0.5\n",
      " **********\n",
      " **********\n",
      " **   11 **SET PRINT           1\n",
      " **********\n",
      " **********\n",
      " **   12 **HESSE        1500\n",
      " **********\n",
      " COVARIANCE MATRIX CALCULATED SUCCESSFULLY\n",
      " FCN=-650.181 FROM HESSE     STATUS=OK             22 CALLS          85 TOTAL\n",
      "                     EDM=0.216108    STRATEGY= 1      ERROR MATRIX ACCURATE \n",
      "  EXT PARAMETER                                INTERNAL      INTERNAL  \n",
      "  NO.   NAME      VALUE            ERROR       STEP SIZE       VALUE   \n",
      "   1  m0_cb        1.24981e+02   1.86662e+01   1.37169e-02  -2.76954e-01\n",
      "   2  n_noh        1.09887e+03   6.24270e+01   3.07569e-03  -2.70712e-01\n",
      "   3  sigma_cb     2.06714e+00   4.34918e+00   5.91916e-04  -1.50649e+00\n",
      "                               ERR DEF= 0.5\n",
      " EXTERNAL ERROR MATRIX.    NDIM=  25    NPAR=  3    ERR DEF=0.5\n",
      "  4.294e+02  4.675e+01 -7.256e+01 \n",
      "  4.675e+01  3.900e+03 -1.033e+01 \n",
      " -7.256e+01 -1.033e+01  1.894e+01 \n",
      " PARAMETER  CORRELATION COEFFICIENTS  \n",
      "       NO.  GLOBAL      1      2      3\n",
      "        1  0.80460   1.000  0.036 -0.805\n",
      "        2  0.03913   0.036  1.000 -0.038\n",
      "        3  0.80463  -0.805 -0.038  1.000\n",
      "[#1] INFO:Minization -- RooMinimizer::optimizeConst: deactivating const optimization\n"
     ]
    }
   ],
   "source": [
    "full_bkg.fitTo(combined_data, rf.SumW2Error(ROOT.kTRUE))"
   ]
  },
  {
   "cell_type": "code",
   "execution_count": 22,
   "metadata": {
    "collapsed": false
   },
   "outputs": [
    {
     "data": {
      "image/png": "[encoded data removed]",
      "text/plain": [
       "<ROOT.TCanvas object (\"icanvas\") at 0x7fc97d35eab0>"
      ]
     },
     "execution_count": 22,
     "metadata": {},
     "output_type": "execute_result"
    },
    {
     "name": "stdout",
     "output_type": "stream",
     "text": [
      "[#1] INFO:InputArguments -- RooAbsData::plotOn(0tag_bkg_nonHiggs) INFO: dataset has non-integer weights, auto-selecting SumW2 errors instead of Poisson errors\n",
      "[#1] INFO:Plotting -- RooAbsPdf::plotOn(full_bkg_pdf) directly selected PDF components: (bkg_fit_fixed)\n",
      "[#1] INFO:Plotting -- RooAbsPdf::plotOn(full_bkg_pdf) indirectly selected PDF components: ()\n",
      "[#1] INFO:Plotting -- RooAbsPdf::plotOn(full_bkg_pdf) directly selected PDF components: (dscb_1h_fixed)\n",
      "[#1] INFO:Plotting -- RooAbsPdf::plotOn(full_bkg_pdf) indirectly selected PDF components: ()\n"
     ]
    },
    {
     "name": "stderr",
     "output_type": "stream",
     "text": [
      "INFO:ROOT.TCanvas.Print] png file /var/folders/0d/3d7wlbr14zn3_l2ctx0r1jdw0000gn/T/tmpUSwPjy.png has been created\n"
     ]
    }
   ],
   "source": [
    "frame = myy.frame()\n",
    "combined_data.plotOn(frame)\n",
    "#dh_bkg_noH.plotOn(frame)\n",
    "#exp_function.plotOn(frame)\n",
    "#dh_bkg_1H.plotOn(frame)\n",
    "#dscb_1h.plotOn(frame)\n",
    "\n",
    "full_bkg.plotOn(frame)\n",
    "full_bkg.plotOn(frame, ROOT.RooFit.Components('bkg_fit_fixed'), ROOT.RooFit.LineStyle(ROOT.kDashed))\n",
    "full_bkg.plotOn(frame, ROOT.RooFit.Components('dscb_1h_fixed'), ROOT.RooFit.LineStyle(ROOT.kDashed), ROOT.RooFit.LineColor(ROOT.kRed))\n",
    "\n",
    "frame.Draw()\n",
    "frame.SetTitle(\"\")\n",
    "c1.SetLogy(False)\n",
    "c1"
   ]
  },
  {
   "cell_type": "markdown",
   "metadata": {},
   "source": [
    "# Insert Gaussian constraint on a variable in the model"
   ]
  },
  {
   "cell_type": "markdown",
   "metadata": {},
   "source": [
    "Check out: https://root.cern.ch/root/html/tutorials/roofit/rf604_constraints.C.html"
   ]
  },
  {
   "cell_type": "code",
   "execution_count": 23,
   "metadata": {
    "collapsed": true
   },
   "outputs": [],
   "source": [
    "# -- introduce the nuisance parameter theta and its gaussian distribution\n",
    "theta = ROOT.RooRealVar(\"theta\", \"nuisance param\", -10, 10) # variable definition\n",
    "theta_0 = ROOT.RooRealVar(\"theta_global\", \"global value of nuisance param\", 0 ) # global observable, fixed value\n",
    "theta_constraint = ROOT.RooGaussian(\"theta_constraint\", \"theta_constraint\", theta, theta_0, rf.RooConst(1))"
   ]
  },
  {
   "cell_type": "markdown",
   "metadata": {},
   "source": [
    "Theta affects the yield of the 1-Higgs background:\n",
    "$$\\text{PDF} = (n_{noH} * f_{\\text{exp}} + n_{1H}(1 + 0.3*\\theta) * f_{\\text{DSCB}} + \\mu * n_{2H} * f_{\\text{DSCB}}) * Gauss(\\theta; \\theta_0, 1)$$\n",
    "where $\\theta_0$ is a global observable."
   ]
  },
  {
   "cell_type": "code",
   "execution_count": 24,
   "metadata": {
    "collapsed": false
   },
   "outputs": [],
   "source": [
    "_product = ROOT.RooProduct(\"xxx\", \"xxx\", ROOT.RooArgList(rf.RooConst(0.3), theta))"
   ]
  },
  {
   "cell_type": "code",
   "execution_count": 25,
   "metadata": {
    "collapsed": false
   },
   "outputs": [],
   "source": [
    "n_1h_coeff = ROOT.RooAddition(\n",
    "    \"n_1h_coeff\", \"n_1h_coeff\", ROOT.RooArgList(\n",
    "        rf.RooConst(1),\n",
    "        _product\n",
    "    )\n",
    ")"
   ]
  },
  {
   "cell_type": "code",
   "execution_count": 26,
   "metadata": {
    "collapsed": true
   },
   "outputs": [],
   "source": [
    "n_1h_prod = ROOT.RooProduct(\n",
    "    \"n_1h_prod\", \"n_1h_prod\", ROOT.RooArgList(n_1h, n_1h_coeff)\n",
    ")"
   ]
  },
  {
   "cell_type": "code",
   "execution_count": 27,
   "metadata": {
    "collapsed": true
   },
   "outputs": [],
   "source": [
    "mu_2h_signal_strength = ROOT.RooRealVar(\"mu_2h_signal_strength\", \"double higgs signal strength\", 1, 0, 5) # is the range ok?\n",
    "n_2h = ROOT.RooRealVar(\"n_2h\", \"expected number of 2 Higgs signal events\", 1) # get this from the cutflow\n",
    "n_2h_times_mu = ROOT.RooProduct(\n",
    "        \"n_2h_times_mu\", \"n_2h * mu_2h\", ROOT.RooArgList(n_2h, mu_2h_signal_strength)\n",
    ")\n",
    "pdf_2h = dscb_1h_fixed # for now, same as single higgs pdf (but m0 and sigma should be able to vary)"
   ]
  },
  {
   "cell_type": "code",
   "execution_count": 28,
   "metadata": {
    "collapsed": false
   },
   "outputs": [],
   "source": [
    "# n_1h = ROOT.RooRealVar(\"n_1h\", \"expected number of 1 Higgs bkg events\", 69, 0, 14069) \n",
    "# n_noh = ROOT.RooRealVar(\"n_noh\", \"expected number of non Higgs bkg events\", 14000, 0, 20000)\n",
    "# theta = ROOT.RooRealVar(\"theta\", \"nuisance param\", -10, 10)\n",
    "# theta_constraint = ROOT.RooGaussian(\"theta_constraint\", \"theta_constraint\", theta, rf.RooConst(0), rf.RooConst(1))\n",
    "\n",
    "full_model = ROOT.RooAddPdf('full_model', 'Full model PDF',\n",
    "                    ROOT.RooArgList(exp_function_fixed, dscb_1h_fixed, pdf_2h),\n",
    "                    ROOT.RooArgList(n_noh, n_1h_prod, n_2h_times_mu)\n",
    ")"
   ]
  },
  {
   "cell_type": "code",
   "execution_count": 29,
   "metadata": {
    "collapsed": true
   },
   "outputs": [],
   "source": [
    "constrained_model = ROOT.RooProdPdf('constrained_model', 'Full PDF with theta constraint',\n",
    "                    ROOT.RooArgList(full_model, theta_constraint)\n",
    ")"
   ]
  },
  {
   "cell_type": "code",
   "execution_count": 30,
   "metadata": {
    "collapsed": false,
    "scrolled": false
   },
   "outputs": [
    {
     "data": {
      "text/plain": [
       "<ROOT.RooFitResult object at 0x0>"
      ]
     },
     "execution_count": 30,
     "metadata": {},
     "output_type": "execute_result"
    },
    {
     "name": "stdout",
     "output_type": "stream",
     "text": [
      "[#1] INFO:Minization -- p.d.f. provides expected number of events, including extended term in likelihood.\n",
      "[#1] INFO:Minization --  Including the following contraint terms in minimization: (theta_constraint)\n",
      "[#1] INFO:Fitting -- RooAddition::defaultErrorLevel(nll_constrained_model_0tag_bkg_nonHiggs_with_constr) Summation contains a RooNLLVar, using its error level\n",
      "[#1] INFO:Minization -- RooMinimizer::optimizeConst: activating const optimization\n",
      "[#1] INFO:Minization --  The following expressions have been identified as constant and will be precalculated and cached: (bkg_fit_fixed)\n",
      "[#1] INFO:Minization --  The following expressions will be evaluated in cache-and-track mode: (dscb_1h_fixed)\n",
      " **********\n",
      " **    1 **SET PRINT           1\n",
      " **********\n",
      " **********\n",
      " **    2 **SET NOGRAD\n",
      " **********\n",
      " PARAMETER DEFINITIONS:\n",
      "    NO.   NAME         VALUE      STEP SIZE      LIMITS\n",
      "     1 m0_cb        1.24981e+02  5.23601e-01    1.05000e+02  1.60000e+02\n",
      "     2 mu_2h_signal_strength   1.00000e+00  5.00000e-01    0.00000e+00  5.00000e+00\n",
      "     3 n_noh        1.09887e+03  1.77730e+01    0.00000e+00  3.00000e+03\n",
      "     4 sigma_cb     2.06714e+00  6.93334e-01    0.00000e+00  2.00000e+03\n",
      "     5 theta        0.00000e+00  2.00000e+00   -1.00000e+01  1.00000e+01\n",
      " **********\n",
      " **    3 **SET ERR         0.5\n",
      " **********\n",
      " **********\n",
      " **    4 **SET PRINT           1\n",
      " **********\n",
      " **********\n",
      " **    5 **SET STR           1\n",
      " **********\n",
      " NOW USING STRATEGY  1: TRY TO BALANCE SPEED AGAINST RELIABILITY\n",
      " **********\n",
      " **    6 **MIGRAD        2500           1\n",
      " **********\n",
      " FIRST CALL TO USER FUNCTION AT NEW START POINT, WITH IFLAG=4.\n",
      " START MIGRAD MINIMIZATION.  STRATEGY  1.  CONVERGENCE WHEN EDM .LT. 1.00e-03\n",
      " FCN=-2255.88 FROM MIGRAD    STATUS=INITIATE       20 CALLS          21 TOTAL\n",
      "                     EDM= unknown      STRATEGY= 1      NO ERROR MATRIX       \n",
      "  EXT PARAMETER               CURRENT GUESS       STEP         FIRST   \n",
      "  NO.   NAME      VALUE            ERROR          SIZE      DERIVATIVE \n",
      "   1  m0_cb        1.24981e+02   5.23601e-01   1.97960e-02  -1.87695e-02\n",
      "   2  mu_2h_signal_strength   1.00000e+00   5.00000e-01   2.57889e-01   1.91888e-02\n",
      "   3  n_noh        1.09887e+03   1.77730e+01   1.22969e-02   9.14215e-01\n",
      "   4  sigma_cb     2.06714e+00   6.93334e-01   1.09483e-02  -1.02521e+00\n",
      "   5  theta        0.00000e+00   2.00000e+00   2.01358e-01   3.16312e-01\n",
      "                               ERR DEF= 0.5\n",
      " MIGRAD MINIMIZATION HAS CONVERGED.\n",
      " MIGRAD WILL VERIFY CONVERGENCE AND ERROR MATRIX.\n",
      " COVARIANCE MATRIX CALCULATED SUCCESSFULLY\n",
      " FCN=-2255.88 FROM MIGRAD    STATUS=CONVERGED      97 CALLS          98 TOTAL\n",
      "                     EDM=8.26399e-06    STRATEGY= 1      ERROR MATRIX ACCURATE \n",
      "  EXT PARAMETER                                   STEP         FIRST   \n",
      "  NO.   NAME      VALUE            ERROR          SIZE      DERIVATIVE \n",
      "   1  m0_cb        1.24991e+02   2.70128e+00   3.34749e-03   2.93443e-03\n",
      "   2  mu_2h_signal_strength   2.73896e-04   4.94720e+00   3.03998e-01   1.48944e-04\n",
      "   3  n_noh        1.09914e+03   3.36408e+01   7.55993e-04  -1.82261e-02\n",
      "   4  sigma_cb     2.06303e+00   1.36001e+00   6.91321e-04  -1.17191e-01\n",
      "   5  theta       -1.34220e-02   9.76419e-01   3.18388e-03  -1.42926e-03\n",
      "                               ERR DEF= 0.5\n",
      " EXTERNAL ERROR MATRIX.    NDIM=  25    NPAR=  5    ERR DEF=0.5\n",
      "  7.322e+00 -1.534e-02  3.841e-01 -1.981e-01 -3.248e-02 \n",
      " -1.534e-02  1.297e-01 -1.305e+00  3.410e-02 -2.051e-02 \n",
      "  3.841e-01 -1.305e+00  1.132e+03 -8.521e-01 -2.767e+00 \n",
      " -1.981e-01  3.410e-02 -8.521e-01  1.850e+00  7.212e-02 \n",
      " -3.248e-02 -2.051e-02 -2.767e+00  7.212e-02  9.564e-01 \n",
      " PARAMETER  CORRELATION COEFFICIENTS  \n",
      "       NO.  GLOBAL      1      2      3      4      5\n",
      "        1  0.05609   1.000 -0.016  0.004 -0.054 -0.012\n",
      "        2  0.14631  -0.016  1.000 -0.108  0.070 -0.058\n",
      "        3  0.14085   0.004 -0.108  1.000 -0.019 -0.084\n",
      "        4  0.10483  -0.054  0.070 -0.019  1.000  0.054\n",
      "        5  0.12267  -0.012 -0.058 -0.084  0.054  1.000\n",
      " **********\n",
      " **    7 **SET ERR         0.5\n",
      " **********\n",
      " **********\n",
      " **    8 **SET PRINT           1\n",
      " **********\n",
      " **********\n",
      " **    9 **HESSE        2500\n",
      " **********\n",
      " COVARIANCE MATRIX CALCULATED SUCCESSFULLY\n",
      " FCN=-2255.88 FROM HESSE     STATUS=OK             35 CALLS         133 TOTAL\n",
      "                     EDM=7.92513e-06    STRATEGY= 1      ERROR MATRIX ACCURATE \n",
      "  EXT PARAMETER                                INTERNAL      INTERNAL  \n",
      "  NO.   NAME      VALUE            ERROR       STEP SIZE       VALUE   \n",
      "   1  m0_cb        1.24991e+02   2.70253e+00   1.33900e-04  -2.76551e-01\n",
      "   2  mu_2h_signal_strength   2.73896e-04   4.99718e+00   5.00000e-01  -1.55599e+00\n",
      "   3  n_noh        1.09914e+03   3.38903e+01   1.51199e-04  -2.70530e-01\n",
      "   4  sigma_cb     2.06303e+00   1.36554e+00   2.76528e-05  -1.50655e+00\n",
      "   5  theta       -1.34220e-02   9.78670e-01   6.36776e-04  -1.34220e-03\n",
      "                               ERR DEF= 0.5\n",
      " EXTERNAL ERROR MATRIX.    NDIM=  25    NPAR=  5    ERR DEF=0.5\n",
      "  7.329e+00 -1.660e-02  4.294e-01 -2.489e-01 -2.132e-02 \n",
      " -1.660e-02  1.203e-01 -1.899e+00  5.474e-02 -2.942e-02 \n",
      "  4.294e-01 -1.899e+00  1.149e+03 -1.415e+00 -2.516e+00 \n",
      " -2.489e-01  5.474e-02 -1.415e+00  1.865e+00  7.024e-02 \n",
      " -2.132e-02 -2.942e-02 -2.516e+00  7.024e-02  9.609e-01 \n",
      " PARAMETER  CORRELATION COEFFICIENTS  \n",
      "       NO.  GLOBAL      1      2      3      4      5\n",
      "        1  0.06827   1.000 -0.018  0.005 -0.067 -0.008\n",
      "        2  0.22223  -0.018  1.000 -0.161  0.116 -0.087\n",
      "        3  0.18498   0.005 -0.161  1.000 -0.031 -0.076\n",
      "        4  0.14666  -0.067  0.116 -0.031  1.000  0.052\n",
      "        5  0.13997  -0.008 -0.087 -0.076  0.052  1.000\n",
      "[#1] INFO:Fitting -- RooAbsPdf::fitTo(constrained_model) Calculating sum-of-weights-squared correction matrix for covariance matrix\n",
      " **********\n",
      " **   10 **SET ERR         0.5\n",
      " **********\n",
      " **********\n",
      " **   11 **SET PRINT           1\n",
      " **********\n",
      " **********\n",
      " **   12 **HESSE        2500\n",
      " **********\n",
      " COVARIANCE MATRIX CALCULATED SUCCESSFULLY\n",
      " FCN=-649.263 FROM HESSE     STATUS=OK             39 CALLS         172 TOTAL\n",
      "                     EDM=0.18926    STRATEGY= 1      ERROR MATRIX ACCURATE \n",
      "  EXT PARAMETER                                INTERNAL      INTERNAL  \n",
      "  NO.   NAME      VALUE            ERROR       STEP SIZE       VALUE   \n",
      "   1  m0_cb        1.24991e+02   1.77722e+01   2.73155e-03  -2.76551e-01\n",
      "   2  mu_2h_signal_strength   2.73896e-04   3.28419e+00   5.00000e-01  -1.55599e+00\n",
      "   3  n_noh        1.09914e+03   6.26127e+01   3.08445e-03  -2.70530e-01\n",
      "   4  sigma_cb     2.06303e+00   4.21626e+00   5.64118e-04  -1.50655e+00\n",
      "   5  theta       -1.34220e-02   1.00904e+00   1.27355e-04  -1.34220e-03\n",
      "                               ERR DEF= 0.5\n",
      " EXTERNAL ERROR MATRIX.    NDIM=  25    NPAR=  5    ERR DEF=0.5\n",
      "  3.798e+02 -6.216e-01  5.911e+01 -6.468e+01 -3.325e+00 \n",
      " -6.216e-01  3.574e-02 -6.468e-01  1.446e-01  4.076e-03 \n",
      "  5.911e+01 -6.468e-01  3.923e+03 -1.374e+01 -3.488e+00 \n",
      " -6.468e+01  1.446e-01 -1.374e+01  1.780e+01  7.728e-01 \n",
      " -3.325e+00  4.076e-03 -3.488e+00  7.728e-01  1.022e+00 \n",
      " PARAMETER  CORRELATION COEFFICIENTS  \n",
      "       NO.  GLOBAL      1      2      3      4      5\n",
      "        1  0.78755   1.000 -0.169  0.048 -0.787 -0.169\n",
      "        2  0.19207  -0.169  1.000 -0.055  0.181  0.021\n",
      "        3  0.08421   0.048 -0.055  1.000 -0.052 -0.055\n",
      "        4  0.78976  -0.787  0.181 -0.052  1.000  0.181\n",
      "        5  0.19218  -0.169  0.021 -0.055  0.181  1.000\n",
      "[#1] INFO:Minization -- RooMinimizer::optimizeConst: deactivating const optimization\n"
     ]
    }
   ],
   "source": [
    "constrained_model.fitTo(combined_data, rf.Constrain(ROOT.RooArgSet(theta)), rf.SumW2Error(ROOT.kTRUE))"
   ]
  },
  {
   "cell_type": "code",
   "execution_count": 31,
   "metadata": {
    "collapsed": false
   },
   "outputs": [
    {
     "data": {
      "image/png": "[encoded data removed]",
      "text/plain": [
       "<ROOT.TCanvas object (\"icanvas\") at 0x7fc97d35eab0>"
      ]
     },
     "execution_count": 31,
     "metadata": {},
     "output_type": "execute_result"
    },
    {
     "name": "stdout",
     "output_type": "stream",
     "text": [
      "[#1] INFO:InputArguments -- RooAbsData::plotOn(0tag_bkg_nonHiggs) INFO: dataset has non-integer weights, auto-selecting SumW2 errors instead of Poisson errors\n",
      "[#1] INFO:Plotting -- RooAbsPdf::plotOn(constrained_model) directly selected PDF components: (bkg_fit_fixed)\n",
      "[#1] INFO:Plotting -- RooAbsPdf::plotOn(constrained_model) indirectly selected PDF components: (full_model)\n",
      "[#1] INFO:Plotting -- RooAbsPdf::plotOn(constrained_model) directly selected PDF components: (dscb_1h_fixed)\n",
      "[#1] INFO:Plotting -- RooAbsPdf::plotOn(constrained_model) indirectly selected PDF components: (full_model)\n"
     ]
    },
    {
     "name": "stderr",
     "output_type": "stream",
     "text": [
      "INFO:ROOT.TCanvas.Print] png file /var/folders/0d/3d7wlbr14zn3_l2ctx0r1jdw0000gn/T/tmpIxySJV.png has been created\n"
     ]
    }
   ],
   "source": [
    "frame = myy.frame()\n",
    "combined_data.plotOn(frame)\n",
    "#dh_bkg_noH.plotOn(frame)\n",
    "#exp_function.plotOn(frame)\n",
    "#dh_bkg_1H.plotOn(frame)\n",
    "#dscb_1h.plotOn(frame)\n",
    "\n",
    "constrained_model.plotOn(frame)\n",
    "constrained_model.plotOn(frame, ROOT.RooFit.Components('bkg_fit_fixed'), ROOT.RooFit.LineStyle(ROOT.kDashed))\n",
    "constrained_model.plotOn(frame, ROOT.RooFit.Components('dscb_1h_fixed'), ROOT.RooFit.LineStyle(ROOT.kDashed), ROOT.RooFit.LineColor(ROOT.kRed))\n",
    "\n",
    "\n",
    "frame.Draw()\n",
    "frame.SetTitle(\"\")\n",
    "c1.SetLogy(False)\n",
    "c1"
   ]
  },
  {
   "cell_type": "markdown",
   "metadata": {},
   "source": [
    "# Create Workspace and import everything"
   ]
  },
  {
   "cell_type": "code",
   "execution_count": 32,
   "metadata": {
    "collapsed": false
   },
   "outputs": [],
   "source": [
    "w = ROOT.RooWorkspace('w')"
   ]
  },
  {
   "cell_type": "code",
   "execution_count": 33,
   "metadata": {
    "collapsed": false
   },
   "outputs": [
    {
     "data": {
      "text/plain": [
       "False"
      ]
     },
     "execution_count": 33,
     "metadata": {},
     "output_type": "execute_result"
    },
    {
     "name": "stdout",
     "output_type": "stream",
     "text": [
      "[#1] INFO:ObjectHandling -- RooWorkspace::import(w) importing RooProdPdf::constrained_model\n",
      "[#1] INFO:ObjectHandling -- RooWorkspace::import(w) importing RooAddPdf::full_model\n",
      "[#1] INFO:ObjectHandling -- RooWorkspace::import(w) importing RooExponential::bkg_fit_fixed\n",
      "[#1] INFO:ObjectHandling -- RooWorkspace::import(w) importing RooRealVar::myy\n",
      "[#1] INFO:ObjectHandling -- RooWorkspace::import(w) importing RooRealVar::c0_bkg_fixed\n",
      "[#1] INFO:ObjectHandling -- RooWorkspace::import(w) importing RooRealVar::n_noh\n",
      "[#1] INFO:ObjectHandling -- RooWorkspace::import(w) importing HggTwoSidedCBPdf::dscb_1h_fixed\n",
      "[#1] INFO:ObjectHandling -- RooWorkspace::import(w) importing RooRealVar::m0_cb\n",
      "[#1] INFO:ObjectHandling -- RooWorkspace::import(w) importing RooRealVar::sigma_cb\n",
      "[#1] INFO:ObjectHandling -- RooWorkspace::import(w) importing RooRealVar::alphaLo_cb_fixed\n",
      "[#1] INFO:ObjectHandling -- RooWorkspace::import(w) importing RooRealVar::nLo_cb_fixed\n",
      "[#1] INFO:ObjectHandling -- RooWorkspace::import(w) importing RooRealVar::alphaHi_cb_fixed\n",
      "[#1] INFO:ObjectHandling -- RooWorkspace::import(w) importing RooRealVar::nHi_cb_fixed\n",
      "[#1] INFO:ObjectHandling -- RooWorkspace::import(w) importing RooProduct::n_1h_prod\n",
      "[#1] INFO:ObjectHandling -- RooWorkspace::import(w) importing RooRealVar::n_1h\n",
      "[#1] INFO:ObjectHandling -- RooWorkspace::import(w) importing RooAddition::n_1h_coeff\n",
      "[#1] INFO:ObjectHandling -- RooWorkspace::import(w) importing RooConstVar::1\n",
      "[#1] INFO:ObjectHandling -- RooWorkspace::import(w) importing RooProduct::xxx\n",
      "[#1] INFO:ObjectHandling -- RooWorkspace::import(w) importing RooConstVar::0.3\n",
      "[#1] INFO:ObjectHandling -- RooWorkspace::import(w) importing RooRealVar::theta\n",
      "[#1] INFO:ObjectHandling -- RooWorkspace::import(w) importing RooProduct::n_2h_times_mu\n",
      "[#1] INFO:ObjectHandling -- RooWorkspace::import(w) importing RooRealVar::n_2h\n",
      "[#1] INFO:ObjectHandling -- RooWorkspace::import(w) importing RooRealVar::mu_2h_signal_strength\n",
      "[#1] INFO:ObjectHandling -- RooWorkspace::import(w) importing RooGaussian::theta_constraint\n",
      "[#1] INFO:ObjectHandling -- RooWorkspace::import(w) importing RooRealVar::theta_global\n"
     ]
    }
   ],
   "source": [
    "getattr(w,'import')(constrained_model)"
   ]
  },
  {
   "cell_type": "code",
   "execution_count": 34,
   "metadata": {
    "collapsed": false,
    "scrolled": false
   },
   "outputs": [
    {
     "name": "stdout",
     "output_type": "stream",
     "text": [
      "\n",
      "RooWorkspace(w) w contents\n",
      "\n",
      "variables\n",
      "---------\n",
      "(alphaHi_cb_fixed,alphaLo_cb_fixed,c0_bkg_fixed,m0_cb,mu_2h_signal_strength,myy,nHi_cb_fixed,nLo_cb_fixed,n_1h,n_2h,n_noh,sigma_cb,theta,theta_global)\n",
      "\n",
      "p.d.f.s\n",
      "-------\n",
      "RooExponential::bkg_fit_fixed[ x=myy c=c0_bkg_fixed ] = 0.139522\n",
      "RooProdPdf::constrained_model[ full_model * theta_constraint ] = 0.138192\n",
      "HggTwoSidedCBPdf::dscb_1h_fixed[ m=myy m0=m0_cb sigma=sigma_cb alphaLo=alphaLo_cb_fixed nLo=nLo_cb_fixed alphaHi=alphaHi_cb_fixed nHi=nHi_cb_fixed ] = 0.00601483\n",
      "RooAddPdf::full_model[ n_noh * bkg_fit_fixed + n_1h_prod * dscb_1h_fixed + n_2h_times_mu * dscb_1h_fixed ] = 0.138204\n",
      "RooGaussian::theta_constraint[ x=theta mean=theta_global sigma=1 ] = 0.99991\n",
      "\n",
      "functions\n",
      "--------\n",
      "RooAddition::n_1h_coeff[ 1 + xxx ] = 0.995973\n",
      "RooProduct::n_1h_prod[ n_1h * n_1h_coeff ] = 10.9557\n",
      "RooProduct::n_2h_times_mu[ n_2h * mu_2h_signal_strength ] = 0.000273896\n",
      "RooProduct::xxx[ 0.3 * theta ] = -0.0040266\n",
      "\n"
     ]
    }
   ],
   "source": [
    "w.Print()"
   ]
  },
  {
   "cell_type": "code",
   "execution_count": 35,
   "metadata": {
    "collapsed": true
   },
   "outputs": [],
   "source": [
    "import ROOT.RooStats as rs"
   ]
  },
  {
   "cell_type": "code",
   "execution_count": 36,
   "metadata": {
    "collapsed": true
   },
   "outputs": [],
   "source": [
    "mconfig = rs.ModelConfig(w) # can then be imported into the ws"
   ]
  },
  {
   "cell_type": "code",
   "execution_count": 37,
   "metadata": {
    "collapsed": false
   },
   "outputs": [],
   "source": [
    "mconfig.SetPdf(w.pdf(\"constrained_model\"))\n",
    "mconfig.SetParametersOfInterest(ROOT.RooArgSet(w.var(\"mu_2h_signal_strength\")))\n",
    "mconfig.SetObservables(ROOT.RooArgSet(w.var(\"myy\")))#w.var(\"n_1h\"), w.var(\"n_2h\"), w.var(\"n_noh\")))\n",
    "mconfig.SetNuisanceParameters(ROOT.RooArgSet(w.var(\"theta\")))\n",
    "\n",
    "# can use ModelConfig::SetSnapshot(const RooArgSet &) \n",
    "#to define parameter values for the null in case of a common model (e.g. # = 0 for the B model)\n",
    "mconfig.SetSnapshot(ROOT.RooArgSet(w.var(\"mu_2h_signal_strength\"))) \n",
    "mconfig.SetGlobalObservables(ROOT.RooArgSet(w.var(\"theta_global\")))"
   ]
  },
  {
   "cell_type": "code",
   "execution_count": 38,
   "metadata": {
    "collapsed": false
   },
   "outputs": [
    {
     "name": "stdout",
     "output_type": "stream",
     "text": [
      "\n",
      "=== Using the following for  ===\n",
      "Observables:             RooArgSet:: = (myy)\n",
      "Parameters of Interest:  RooArgSet:: = (mu_2h_signal_strength)\n",
      "Nuisance Parameters:     RooArgSet:: = (theta)\n",
      "Global Observables:      RooArgSet:: = (theta_global)\n",
      "PDF:                     RooProdPdf::constrained_model[ full_model * theta_constraint ] = 0.138192\n",
      "Snapshot:                \n",
      "  1) 0x7fc97ea10680 RooRealVar:: mu_2h_signal_strength = 0.000273896 +/- 0.646766  L(0 - 5)  \"double higgs signal strength\"\n",
      "\n"
     ]
    }
   ],
   "source": [
    "mconfig.Print()"
   ]
  },
  {
   "cell_type": "markdown",
   "metadata": {},
   "source": [
    "# Profile Likelihood Calculator"
   ]
  },
  {
   "cell_type": "code",
   "execution_count": 39,
   "metadata": {
    "collapsed": false
   },
   "outputs": [],
   "source": [
    "pl = rs.ProfileLikelihoodCalculator(combined_data, mconfig)"
   ]
  },
  {
   "cell_type": "code",
   "execution_count": 40,
   "metadata": {
    "collapsed": true
   },
   "outputs": [],
   "source": [
    "pl.SetConfidenceLevel(0.683)"
   ]
  },
  {
   "cell_type": "code",
   "execution_count": 41,
   "metadata": {
    "collapsed": false
   },
   "outputs": [
    {
     "name": "stdout",
     "output_type": "stream",
     "text": [
      "[#1] INFO:Minization -- p.d.f. provides expected number of events, including extended term in likelihood.\n",
      "[#1] INFO:Minization --  Including the following contraint terms in minimization: (theta_constraint)\n",
      "[#0] PROGRESS:Minization -- ProfileLikelihoodCalcultor::DoGLobalFit - find MLE \n",
      "[#0] PROGRESS:Minization -- ProfileLikelihoodCalcultor::DoMinimizeNLL - using Minuit / Migrad with strategy 1\n",
      "[#1] INFO:Fitting -- RooAddition::defaultErrorLevel(nll_constrained_model_0tag_bkg_nonHiggs_with_constr) Summation contains a RooNLLVar, using its error level\n",
      "[#1] INFO:Minization -- RooMinimizer::optimizeConst: activating const optimization\n",
      "[#1] INFO:Minization --  The following expressions have been identified as constant and will be precalculated and cached: (bkg_fit_fixed)\n",
      "[#1] INFO:Minization --  The following expressions will be evaluated in cache-and-track mode: (dscb_1h_fixed)\n",
      "[#1] INFO:Minization -- \n",
      "  RooFitResult: minimized FCN value: -65563, estimated distance to minimum: 9.32252e-07\n",
      "                covariance matrix quality: Full, accurate covariance matrix\n",
      "                Status : MINIMIZE=0 \n",
      "\n",
      "    Floating Parameter    FinalValue +/-  Error   \n",
      "  --------------------  --------------------------\n",
      "                 m0_cb    1.2484e+02 +/-  1.28e+00\n",
      "  mu_2h_signal_strength    2.2971e-07 +/-  2.65e+00\n",
      "                 n_noh    1.4085e+04 +/-  1.20e+02\n",
      "              sigma_cb    2.0932e+00 +/-  6.04e-01\n",
      "                 theta   -1.8297e-01 +/-  9.30e-01\n",
      "\n"
     ]
    }
   ],
   "source": [
    "interval = pl.GetInterval()"
   ]
  },
  {
   "cell_type": "markdown",
   "metadata": {},
   "source": [
    "I don't think this makes much sense. Apparently we should be using Toy MC or Asimov Dataset."
   ]
  },
  {
   "cell_type": "markdown",
   "metadata": {},
   "source": [
    "# Asimov Dataset"
   ]
  },
  {
   "cell_type": "markdown",
   "metadata": {},
   "source": [
    "First find conditional MLE values for the nuisance parameters given a fixed value of the POI. Then use these values for the Asimov Dataset generation."
   ]
  },
  {
   "cell_type": "code",
   "execution_count": 41,
   "metadata": {
    "collapsed": false
   },
   "outputs": [],
   "source": [
    "#RooAbsData * asimov = AsymptoticCalculator::MakeAsimovData(data, mc, RooArgSet(*w.var(\"a\"),*w.var(\"b\")), RooArgSet());"
   ]
  },
  {
   "cell_type": "code",
   "execution_count": null,
   "metadata": {
    "collapsed": true
   },
   "outputs": [],
   "source": [
    "# AsymptoticCalculator ac(*data, *bModel, *sbModel);\n",
    "# HypoTestInverter calc(*ac);"
   ]
  },
  {
   "cell_type": "code",
   "execution_count": 39,
   "metadata": {
    "collapsed": false,
    "scrolled": true
   },
   "outputs": [
    {
     "name": "stdout",
     "output_type": "stream",
     "text": [
      "[#1] INFO:Minization -- p.d.f. provides expected number of events, including extended term in likelihood.\n",
      "[#1] INFO:Minization --  Including the following contraint terms in minimization: (theta_constraint)\n",
      "[#1] INFO:Fitting -- RooAddition::defaultErrorLevel(nll_constrained_model_0tag_bkg_nonHiggs_with_constr) Summation contains a RooNLLVar, using its error level\n",
      "[#1] INFO:Minization -- RooMinimizer::optimizeConst: activating const optimization\n",
      "[#1] INFO:Minization --  The following expressions have been identified as constant and will be precalculated and cached: (bkg_fit_fixed)\n",
      "[#1] INFO:Minization --  The following expressions will be evaluated in cache-and-track mode: (dscb_1h_fixed)\n",
      " **********\n",
      " **    1 **SET PRINT           1\n",
      " **********\n",
      " **********\n",
      " **    2 **SET NOGRAD\n",
      " **********\n",
      " PARAMETER DEFINITIONS:\n",
      "    NO.   NAME         VALUE      STEP SIZE      LIMITS\n",
      "     1 m0_cb        1.24991e+02  5.40235e-01    1.05000e+02  1.60000e+02\n",
      "     2 n_noh        1.09914e+03  2.06833e+01    0.00000e+00  3.00000e+03\n",
      "     3 sigma_cb     2.06303e+00  7.38816e-01    0.00000e+00  2.00000e+03\n",
      "     4 theta       -1.34220e-02  9.76828e-01   -1.00000e+01  1.00000e+01\n",
      " **********\n",
      " **    3 **SET ERR         0.5\n",
      " **********\n",
      " **********\n",
      " **    4 **SET PRINT           1\n",
      " **********\n",
      " **********\n",
      " **    5 **SET STR           1\n",
      " **********\n",
      " NOW USING STRATEGY  1: TRY TO BALANCE SPEED AGAINST RELIABILITY\n",
      " **********\n",
      " **    6 **MIGRAD        2000           1\n",
      " **********\n",
      " FIRST CALL TO USER FUNCTION AT NEW START POINT, WITH IFLAG=4.\n",
      " START MIGRAD MINIMIZATION.  STRATEGY  1.  CONVERGENCE WHEN EDM .LT. 1.00e-03\n",
      " FCN=-2255.85 FROM MIGRAD    STATUS=INITIATE       14 CALLS          15 TOTAL\n",
      "                     EDM= unknown      STRATEGY= 1      NO ERROR MATRIX       \n",
      "  EXT PARAMETER               CURRENT GUESS       STEP         FIRST   \n",
      "  NO.   NAME      VALUE            ERROR          SIZE      DERIVATIVE \n",
      "   1  m0_cb        1.24991e+02   5.40235e-01   2.04226e-02   5.09732e-02\n",
      "   2  n_noh        1.09914e+03   2.06833e+01   1.43099e-02   3.00966e+00\n",
      "   3  sigma_cb     2.06303e+00   7.38816e-01   1.17034e-02  -2.88586e+00\n",
      "   4  theta       -1.34220e-02   9.76828e-01   9.78390e-02   4.57145e-01\n",
      "                               ERR DEF= 0.5\n",
      " MIGRAD MINIMIZATION HAS CONVERGED.\n",
      " MIGRAD WILL VERIFY CONVERGENCE AND ERROR MATRIX.\n",
      " COVARIANCE MATRIX CALCULATED SUCCESSFULLY\n",
      " FCN=-2255.86 FROM MIGRAD    STATUS=CONVERGED      63 CALLS          64 TOTAL\n",
      "                     EDM=1.50547e-07    STRATEGY= 1      ERROR MATRIX ACCURATE \n",
      "  EXT PARAMETER                                   STEP         FIRST   \n",
      "  NO.   NAME      VALUE            ERROR          SIZE      DERIVATIVE \n",
      "   1  m0_cb        1.24974e+02   2.47422e+00   3.06802e-03   6.03643e-04\n",
      "   2  n_noh        1.09691e+03   3.34379e+01   7.56138e-04   1.77606e-03\n",
      "   3  sigma_cb     2.12937e+00   1.29094e+00   6.44783e-04   3.59595e-03\n",
      "   4  theta       -4.74587e-02   9.76338e-01   3.18834e-03  -3.83943e-03\n",
      "                               ERR DEF= 0.5\n",
      " EXTERNAL ERROR MATRIX.    NDIM=  25    NPAR=  4    ERR DEF=0.5\n",
      "  6.140e+00  1.884e-01 -7.382e-02 -2.593e-02 \n",
      "  1.884e-01  1.118e+03 -5.731e-01 -2.930e+00 \n",
      " -7.382e-02 -5.731e-01  1.667e+00  7.900e-02 \n",
      " -2.593e-02 -2.930e+00  7.900e-02  9.563e-01 \n",
      " PARAMETER  CORRELATION COEFFICIENTS  \n",
      "       NO.  GLOBAL      1      2      3      4\n",
      "        1  0.02490   1.000  0.002 -0.023 -0.011\n",
      "        2  0.08993   0.002  1.000 -0.013 -0.090\n",
      "        3  0.06691  -0.023 -0.013  1.000  0.063\n",
      "        4  0.10899  -0.011 -0.090  0.063  1.000\n",
      " **********\n",
      " **    7 **SET ERR         0.5\n",
      " **********\n",
      " **********\n",
      " **    8 **SET PRINT           1\n",
      " **********\n",
      " **********\n",
      " **    9 **HESSE        2000\n",
      " **********\n",
      " COVARIANCE MATRIX CALCULATED SUCCESSFULLY\n",
      " FCN=-2255.86 FROM HESSE     STATUS=OK             23 CALLS          87 TOTAL\n",
      "                     EDM=1.50185e-07    STRATEGY= 1      ERROR MATRIX ACCURATE \n",
      "  EXT PARAMETER                                INTERNAL      INTERNAL  \n",
      "  NO.   NAME      VALUE            ERROR       STEP SIZE       VALUE   \n",
      "   1  m0_cb        1.24974e+02   2.47496e+00   1.22721e-04  -2.77222e-01\n",
      "   2  n_noh        1.09691e+03   3.34386e+01   3.02455e-05  -2.72070e-01\n",
      "   3  sigma_cb     2.12937e+00   1.29040e+00   2.57913e-05  -1.50553e+00\n",
      "   4  theta       -4.74587e-02   9.76571e-01   6.37668e-04  -4.74589e-03\n",
      "                               ERR DEF= 0.5\n",
      " EXTERNAL ERROR MATRIX.    NDIM=  25    NPAR=  4    ERR DEF=0.5\n",
      "  6.143e+00  1.493e-01 -1.435e-01 -2.048e-02 \n",
      "  1.493e-01  1.118e+03 -6.126e-01 -2.937e+00 \n",
      " -1.435e-01 -6.126e-01  1.665e+00  8.403e-02 \n",
      " -2.048e-02 -2.937e+00  8.403e-02  9.567e-01 \n",
      " PARAMETER  CORRELATION COEFFICIENTS  \n",
      "       NO.  GLOBAL      1      2      3      4\n",
      "        1  0.04519   1.000  0.002 -0.045 -0.008\n",
      "        2  0.09016   0.002  1.000 -0.014 -0.090\n",
      "        3  0.08038  -0.045 -0.014  1.000  0.067\n",
      "        4  0.11115  -0.008 -0.090  0.067  1.000\n",
      "[#1] INFO:Fitting -- RooAbsPdf::fitTo(constrained_model) Calculating sum-of-weights-squared correction matrix for covariance matrix\n",
      " **********\n",
      " **   10 **SET ERR         0.5\n",
      " **********\n",
      " **********\n",
      " **   11 **SET PRINT           1\n",
      " **********\n",
      " **********\n",
      " **   12 **HESSE        2000\n",
      " **********\n",
      " COVARIANCE MATRIX CALCULATED SUCCESSFULLY\n",
      " FCN=-649.225 FROM HESSE     STATUS=OK             29 CALLS         116 TOTAL\n",
      "                     EDM=0.169387    STRATEGY= 1      ERROR MATRIX ACCURATE \n",
      "  EXT PARAMETER                                INTERNAL      INTERNAL  \n",
      "  NO.   NAME      VALUE            ERROR       STEP SIZE       VALUE   \n",
      "   1  m0_cb        1.24974e+02   1.34005e+01   2.50351e-03  -2.77222e-01\n",
      "   2  n_noh        1.09691e+03   6.25003e+01   6.17009e-04  -2.72070e-01\n",
      "   3  sigma_cb     2.12937e+00   3.26583e+00   5.26143e-04  -1.50553e+00\n",
      "   4  theta       -4.74587e-02   1.00303e+00   1.27534e-04  -4.74589e-03\n",
      "                               ERR DEF= 0.5\n",
      " EXTERNAL ERROR MATRIX.    NDIM=  25    NPAR=  4    ERR DEF=0.5\n",
      "  1.975e+02  3.116e+01 -3.030e+01 -1.804e+00 \n",
      "  3.116e+01  3.909e+03 -8.107e+00 -3.247e+00 \n",
      " -3.030e+01 -8.107e+00  1.067e+01  4.694e-01 \n",
      " -1.804e+00 -3.247e+00  4.694e-01  1.009e+00 \n",
      " PARAMETER  CORRELATION COEFFICIENTS  \n",
      "       NO.  GLOBAL      1      2      3      4\n",
      "        1  0.66086   1.000  0.035 -0.660 -0.128\n",
      "        2  0.06199   0.035  1.000 -0.040 -0.052\n",
      "        3  0.66273  -0.660 -0.040  1.000  0.143\n",
      "        4  0.15652  -0.128 -0.052  0.143  1.000\n",
      "[#1] INFO:Minization -- RooMinimizer::optimizeConst: deactivating const optimization\n",
      "  1) 0x7fc97e6f3730 RooRealVar:: theta = -0.0474587 +/- 0.960887  L(-10 - 10)  \"nuisance param\"\n"
     ]
    }
   ],
   "source": [
    "w.var(\"mu_2h_signal_strength\").setVal(2.5)\n",
    "w.var(\"mu_2h_signal_strength\").setConstant(True)\n",
    "res = w.pdf(\"constrained_model\").fitTo(combined_data, rf.Constrain(w.set('_NuisParams')), rf.Save(), rf.SumW2Error(ROOT.kTRUE))\n",
    "w.set('_NuisParams').Print(\"v\")\n",
    "w.var(\"mu_2h_signal_strength\").setConstant(False)\n",
    "\n",
    "np_cmle = w.set('_NuisParams').snapshot() #conditional MLE values for mu=10"
   ]
  },
  {
   "cell_type": "code",
   "execution_count": 40,
   "metadata": {
    "collapsed": false
   },
   "outputs": [
    {
     "data": {
      "text/plain": [
       "2.5"
      ]
     },
     "execution_count": 40,
     "metadata": {},
     "output_type": "execute_result"
    }
   ],
   "source": [
    "w.var(\"mu_2h_signal_strength\").getVal()"
   ]
  },
  {
   "cell_type": "code",
   "execution_count": 41,
   "metadata": {
    "collapsed": false
   },
   "outputs": [
    {
     "name": "stdout",
     "output_type": "stream",
     "text": [
      "[#1] INFO:ObjectHandling -- RooWorkspace::saveSnaphot(w) replacing previous snapshot with name snapshot\n"
     ]
    }
   ],
   "source": [
    "mconfig.SetSnapshot(ROOT.RooArgSet(w.var(\"mu_2h_signal_strength\"))) "
   ]
  },
  {
   "cell_type": "code",
   "execution_count": 42,
   "metadata": {
    "collapsed": false,
    "scrolled": true
   },
   "outputs": [
    {
     "name": "stdout",
     "output_type": "stream",
     "text": [
      "MakeAsimov: Setting poi mu_2h_signal_strength to a constant value = 2.5\n",
      "MakeAsimov: doing a conditional fit for finding best nuisance values \n",
      " **********\n",
      " **   13 **SET PRINT           0\n",
      " **********\n",
      " **********\n",
      " **   14 **SET NOGRAD\n",
      " **********\n",
      " PARAMETER DEFINITIONS:\n",
      "    NO.   NAME         VALUE      STEP SIZE      LIMITS\n",
      "     1 m0_cb        1.24974e+02  5.45218e-01    1.05000e+02  1.60000e+02\n",
      "     2 n_noh        1.09691e+03  1.80237e+01    0.00000e+00  3.00000e+03\n",
      "     3 sigma_cb     2.12937e+00  6.70268e-01    0.00000e+00  2.00000e+03\n",
      "     4 theta       -4.74587e-02  9.60887e-01   -1.00000e+01  1.00000e+01\n",
      " **********\n",
      " **   15 **SET ERR         0.5\n",
      " **********\n",
      " **********\n",
      " **   16 **SET PRINT           0\n",
      " **********\n",
      " **********\n",
      " **   17 **SET STR           1\n",
      " **********\n",
      " **********\n",
      " **   18 **MIGRAD        2000           1\n",
      " **********\n",
      " MIGRAD MINIMIZATION HAS CONVERGED.\n",
      " MIGRAD WILL VERIFY CONVERGENCE AND ERROR MATRIX.\n",
      " FCN=-2255.86 FROM MIGRAD    STATUS=CONVERGED      54 CALLS          55 TOTAL\n",
      "                     EDM=1.08698e-07    STRATEGY= 1      ERROR MATRIX ACCURATE \n",
      "  EXT PARAMETER                                   STEP         FIRST   \n",
      "  NO.   NAME      VALUE            ERROR          SIZE      DERIVATIVE \n",
      "   1  m0_cb        1.24974e+02   2.47434e+00   3.07186e-03   2.94456e-04\n",
      "   2  n_noh        1.09691e+03   3.34379e+01   7.56116e-04   1.82835e-03\n",
      "   3  sigma_cb     2.12957e+00   1.29127e+00   6.47805e-04   1.11734e-02\n",
      "   4  theta       -4.73262e-02   9.76338e-01   3.18854e-03  -2.55879e-03\n",
      "                               ERR DEF= 0.5\n",
      "fit time Real time 0:00:00, CP time 0.000\n",
      "RooDataSet::AsimovData[myy,weight:binWeightAsimov] = 22 entries (1110.21 weighted)\n",
      "Generated Asimov data for observables RooArgSet:: = (myy)\n",
      "Generated Asimov data for global observables RooArgSet:: = (theta_global)\n"
     ]
    }
   ],
   "source": [
    "asimov = rs.AsymptoticCalculator.MakeAsimovData(\n",
    "    combined_data,\n",
    "    mconfig,\n",
    "    ROOT.RooArgSet(w.var(\"mu_2h_signal_strength\")), # set of poi\n",
    "    ROOT.RooArgSet(w.var(\"theta_global\")) # set of global observables\n",
    ")"
   ]
  },
  {
   "cell_type": "code",
   "execution_count": 43,
   "metadata": {
    "collapsed": false,
    "scrolled": true
   },
   "outputs": [
    {
     "name": "stdout",
     "output_type": "stream",
     "text": [
      "[#1] INFO:Minization -- p.d.f. provides expected number of events, including extended term in likelihood.\n",
      "[#1] INFO:Minization --  Including the following contraint terms in minimization: (theta_constraint)\n",
      "[#1] INFO:Fitting -- RooAddition::defaultErrorLevel(nll_constrained_model_AsimovData_with_constr) Summation contains a RooNLLVar, using its error level\n",
      "[#1] INFO:Minization -- RooMinimizer::optimizeConst: activating const optimization\n",
      "[#1] INFO:Minization --  The following expressions have been identified as constant and will be precalculated and cached: (bkg_fit_fixed)\n",
      "[#1] INFO:Minization --  The following expressions will be evaluated in cache-and-track mode: (dscb_1h_fixed)\n",
      " **********\n",
      " **    1 **SET PRINT           1\n",
      " **********\n",
      " **********\n",
      " **    2 **SET NOGRAD\n",
      " **********\n",
      " PARAMETER DEFINITIONS:\n",
      "    NO.   NAME         VALUE      STEP SIZE      LIMITS\n",
      "     1 m0_cb        1.24974e+02  2.47434e+00    1.05000e+02  1.60000e+02\n",
      "     2 mu_2h_signal_strength   2.50000e+00  6.46766e-01    0.00000e+00  5.00000e+00\n",
      "     3 n_noh        1.09691e+03  3.34379e+01    0.00000e+00  3.00000e+03\n",
      "     4 sigma_cb     2.12957e+00  1.29127e+00    0.00000e+00  2.00000e+03\n",
      "     5 theta       -4.73262e-02  9.76338e-01   -1.00000e+01  1.00000e+01\n",
      " **********\n",
      " **    3 **SET ERR         0.5\n",
      " **********\n",
      " **********\n",
      " **    4 **SET PRINT           1\n",
      " **********\n",
      " **********\n",
      " **    5 **SET STR           1\n",
      " **********\n",
      " NOW USING STRATEGY  1: TRY TO BALANCE SPEED AGAINST RELIABILITY\n",
      " **********\n",
      " **    6 **MIGRAD        2500           1\n",
      " **********\n",
      " FIRST CALL TO USER FUNCTION AT NEW START POINT, WITH IFLAG=4.\n",
      " START MIGRAD MINIMIZATION.  STRATEGY  1.  CONVERGENCE WHEN EDM .LT. 1.00e-03\n",
      " FCN=-2256.5 FROM MIGRAD    STATUS=INITIATE       12 CALLS          13 TOTAL\n",
      "                     EDM= unknown      STRATEGY= 1      NO ERROR MATRIX       \n",
      "  EXT PARAMETER               CURRENT GUESS       STEP         FIRST   \n",
      "  NO.   NAME      VALUE            ERROR          SIZE      DERIVATIVE \n",
      "   1  m0_cb        1.24974e+02   2.47434e+00   9.37184e-02   1.88140e-02\n",
      "   2  mu_2h_signal_strength   2.50000e+00   6.46766e-01   2.61683e-01  -2.56118e-03\n",
      "   3  n_noh        1.09691e+03   3.34379e+01   2.31458e-02   8.29707e-02\n",
      "   4  sigma_cb     2.12957e+00   1.29127e+00   2.08945e-02   2.94603e+00\n",
      "   5  theta       -4.73262e-02   9.76338e-01   9.77907e-02  -5.07077e-01\n",
      "                               ERR DEF= 0.5\n",
      " MIGRAD MINIMIZATION HAS CONVERGED.\n",
      " MIGRAD WILL VERIFY CONVERGENCE AND ERROR MATRIX.\n",
      " COVARIANCE MATRIX CALCULATED SUCCESSFULLY\n",
      " FCN=-2256.51 FROM MIGRAD    STATUS=CONVERGED      68 CALLS          69 TOTAL\n",
      "                     EDM=5.80587e-05    STRATEGY= 1      ERROR MATRIX ACCURATE \n",
      "  EXT PARAMETER                                   STEP         FIRST   \n",
      "  NO.   NAME      VALUE            ERROR          SIZE      DERIVATIVE \n",
      "   1  m0_cb        1.24959e+02   2.28576e+00   2.80800e-03   3.16800e-03\n",
      "   2  mu_2h_signal_strength   2.42961e+00   2.60233e+00   1.77735e-01   4.53515e-04\n",
      "   3  n_noh        1.09661e+03   3.61803e+01   7.56418e-04  -2.31663e-01\n",
      "   4  sigma_cb     2.06062e+00   1.26044e+00   6.11563e-04   2.11523e-02\n",
      "   5  theta       -1.70200e-03   9.98266e-01   3.18545e-03  -1.10353e-02\n",
      "                               ERR DEF= 0.5\n",
      " EXTERNAL ERROR MATRIX.    NDIM=  25    NPAR=  5    ERR DEF=0.5\n",
      "  5.238e+00 -3.429e-01  3.417e-01  2.463e-01 -1.053e-04 \n",
      " -3.429e-01  2.402e+02 -2.142e+02  5.481e+00 -3.319e+00 \n",
      "  3.417e-01 -2.142e+02  1.309e+03 -5.428e+00  4.532e-03 \n",
      "  2.463e-01  5.481e+00 -5.428e+00  1.589e+00 -2.066e-03 \n",
      " -1.053e-04 -3.319e+00  4.532e-03 -2.066e-03  9.999e-01 \n",
      " PARAMETER  CORRELATION COEFFICIENTS  \n",
      "       NO.  GLOBAL      1      2      3      4      5\n",
      "        1  0.09261   1.000 -0.010  0.004  0.085 -0.000\n",
      "        2  0.49850  -0.010  1.000 -0.382  0.281 -0.214\n",
      "        3  0.39110   0.004 -0.382  1.000 -0.119  0.000\n",
      "        4  0.30024   0.085  0.281 -0.119  1.000 -0.002\n",
      "        5  0.23942  -0.000 -0.214  0.000 -0.002  1.000\n",
      " **********\n",
      " **    7 **SET ERR         0.5\n",
      " **********\n",
      " **********\n",
      " **    8 **SET PRINT           1\n",
      " **********\n",
      " **********\n",
      " **    9 **HESSE        2500\n",
      " **********\n",
      " COVARIANCE MATRIX CALCULATED SUCCESSFULLY\n",
      " FCN=-2256.51 FROM HESSE     STATUS=OK             31 CALLS         100 TOTAL\n",
      "                     EDM=5.82053e-05    STRATEGY= 1      ERROR MATRIX ACCURATE \n",
      "  EXT PARAMETER                                INTERNAL      INTERNAL  \n",
      "  NO.   NAME      VALUE            ERROR       STEP SIZE       VALUE   \n",
      "   1  m0_cb        1.24959e+02   2.28393e+00   5.61599e-04  -2.77792e-01\n",
      "   2  mu_2h_signal_strength   2.42961e+00   2.61342e+00   3.55469e-02  -2.81587e-02\n",
      "   3  n_noh        1.09661e+03   3.62085e+01   1.51284e-04  -2.72280e-01\n",
      "   4  sigma_cb     2.06062e+00   1.26372e+00   2.44625e-05  -1.50659e+00\n",
      "   5  theta       -1.70200e-03   9.98311e-01   6.37090e-04  -1.70200e-04\n",
      "                               ERR DEF= 0.5\n",
      " EXTERNAL ERROR MATRIX.    NDIM=  25    NPAR=  5    ERR DEF=0.5\n",
      "  5.229e+00  1.488e-01 -1.485e-01  2.401e-01 -1.980e-05 \n",
      "  1.488e-01  2.395e+02 -2.150e+02  5.730e+00 -3.300e+00 \n",
      " -1.485e-01 -2.150e+02  1.311e+03 -5.723e+00 -1.803e-04 \n",
      "  2.401e-01  5.730e+00 -5.723e+00  1.597e+00 -3.913e-04 \n",
      " -1.980e-05 -3.300e+00 -1.803e-04 -3.913e-04  1.000e+00 \n",
      " PARAMETER  CORRELATION COEFFICIENTS  \n",
      "       NO.  GLOBAL      1      2      3      4      5\n",
      "        1  0.08585   1.000  0.004 -0.002  0.083 -0.000\n",
      "        2  0.50392   0.004  1.000 -0.384  0.293 -0.213\n",
      "        3  0.39278  -0.002 -0.384  1.000 -0.125 -0.000\n",
      "        4  0.31089   0.083  0.293 -0.125  1.000 -0.000\n",
      "        5  0.23960  -0.000 -0.213 -0.000 -0.000  1.000\n",
      "[#1] INFO:Fitting -- RooAbsPdf::fitTo(constrained_model) Calculating sum-of-weights-squared correction matrix for covariance matrix\n",
      " **********\n",
      " **   10 **SET ERR         0.5\n",
      " **********\n",
      " **********\n",
      " **   11 **SET PRINT           1\n",
      " **********\n",
      " **********\n",
      " **   12 **HESSE        2500\n",
      " **********\n",
      " COVARIANCE MATRIX CALCULATED SUCCESSFULLY\n",
      " FCN=-123467 FROM HESSE     STATUS=OK             41 CALLS         141 TOTAL\n",
      "                     EDM=2082.34    STRATEGY= 1      ERROR MATRIX ACCURATE \n",
      "  EXT PARAMETER                                INTERNAL      INTERNAL  \n",
      "  NO.   NAME      VALUE            ERROR       STEP SIZE       VALUE   \n",
      "   1  m0_cb        1.24959e+02   4.66198e-01   1.14566e-02  -2.77792e-01\n",
      "   2  mu_2h_signal_strength   2.42961e+00   2.73506e+00   5.00000e-01  -2.81587e-02\n",
      "   3  n_noh        1.09661e+03   8.42864e+00   3.08619e-03  -2.72280e-01\n",
      "   4  sigma_cb     2.06062e+00   1.59095e-01   4.99035e-04  -1.50659e+00\n",
      "   5  theta       -1.70200e-03   4.54776e+00   1.29966e-02  -1.70200e-04\n",
      "                               ERR DEF= 0.5\n",
      " EXTERNAL ERROR MATRIX.    NDIM=  25    NPAR=  5    ERR DEF=0.5\n",
      "  2.174e-01 -8.810e+00  2.835e+00  5.777e-03  1.745e+00 \n",
      " -8.810e+00  5.261e+02 -1.569e+02  3.160e-02 -1.076e+02 \n",
      "  2.835e+00 -1.569e+02  7.104e+01  5.767e-03  3.107e+01 \n",
      "  5.777e-03  3.160e-02  5.767e-03  2.531e-02 -1.052e-02 \n",
      "  1.745e+00 -1.076e+02  3.107e+01 -1.052e-02  2.229e+01 \n",
      " PARAMETER  CORRELATION COEFFICIENTS  \n",
      "       NO.  GLOBAL      1      2      3      4      5\n",
      "        1  0.85704   1.000 -0.824  0.721  0.078  0.793\n",
      "        2  0.99613  -0.824  1.000 -0.811  0.009 -0.993\n",
      "        3  0.84061   0.721 -0.811  1.000  0.004  0.781\n",
      "        4  0.15080   0.078  0.009  0.004  1.000 -0.014\n",
      "        5  0.99512   0.793 -0.993  0.781 -0.014  1.000\n",
      "[#1] INFO:Minization -- RooMinimizer::optimizeConst: deactivating const optimization\n"
     ]
    }
   ],
   "source": [
    "res = w.pdf(\"constrained_model\").fitTo(\n",
    "    asimov, rf.Constrain(w.set('_NuisParams')), rf.Save(), rf.SumW2Error(ROOT.kTRUE)\n",
    ")\n",
    "# to get the exact value for mu back, I think you need to set the values of all other nuisance params to the ones\n",
    "# found above (CMLE)"
   ]
  },
  {
   "cell_type": "code",
   "execution_count": 44,
   "metadata": {
    "collapsed": false
   },
   "outputs": [
    {
     "data": {
      "image/png": "[encoded data removed]",
      "text/plain": [
       "<ROOT.TCanvas object (\"icanvas\") at 0x7fc97d35eab0>"
      ]
     },
     "execution_count": 44,
     "metadata": {},
     "output_type": "execute_result"
    },
    {
     "name": "stdout",
     "output_type": "stream",
     "text": [
      "[#1] INFO:InputArguments -- RooAbsData::plotOn(AsimovData) INFO: dataset has non-integer weights, auto-selecting SumW2 errors instead of Poisson errors\n"
     ]
    },
    {
     "name": "stderr",
     "output_type": "stream",
     "text": [
      "INFO:ROOT.TCanvas.Print] png file /var/folders/0d/3d7wlbr14zn3_l2ctx0r1jdw0000gn/T/tmpcl6xVt.png has been created\n"
     ]
    }
   ],
   "source": [
    "frame = myy.frame()\n",
    "asimov.plotOn(frame)\n",
    "w.pdf(\"constrained_model\").plotOn(frame)\n",
    "frame.Draw()\n",
    "c1"
   ]
  },
  {
   "cell_type": "code",
   "execution_count": 45,
   "metadata": {
    "collapsed": false
   },
   "outputs": [
    {
     "name": "stdout",
     "output_type": "stream",
     "text": [
      "\n",
      "RooWorkspace(w) w contents\n",
      "\n",
      "variables\n",
      "---------\n",
      "(alphaHi_cb_fixed,alphaLo_cb_fixed,c0_bkg_fixed,m0_cb,mu_2h_signal_strength,myy,nHi_cb_fixed,nLo_cb_fixed,n_1h,n_2h,n_noh,sigma_cb,theta,theta_global)\n",
      "\n",
      "p.d.f.s\n",
      "-------\n",
      "RooExponential::bkg_fit_fixed[ x=myy c=c0_bkg_fixed ] = 0.206111/7.88921\n",
      "RooProdPdf::constrained_model[ full_model * theta_constraint ] = 0.203626/1\n",
      "HggTwoSidedCBPdf::dscb_1h_fixed[ m=myy m0=m0_cb sigma=sigma_cb alphaLo=alphaLo_cb_fixed nLo=nLo_cb_fixed alphaHi=alphaHi_cb_fixed nHi=nHi_cb_fixed ] = 0.000682233/5.23249\n",
      "RooAddPdf::full_model[ n_noh * bkg_fit_fixed + n_1h_prod * dscb_1h_fixed + n_2h_times_mu * dscb_1h_fixed ] = 0.0258113/1\n",
      "RooGaussian::theta_constraint[ x=theta mean=theta_global sigma=1 ] = 0.999999/2.50663\n",
      "\n",
      "functions\n",
      "--------\n",
      "RooAddition::n_1h_coeff[ 1 + xxx ] = 0.999489\n",
      "RooProduct::n_1h_prod[ n_1h * n_1h_coeff ] = 10.9944\n",
      "RooProduct::n_2h_times_mu[ n_2h * mu_2h_signal_strength ] = 2.42961\n",
      "RooProduct::xxx[ 0.3 * theta ] = -0.000510601\n",
      "\n",
      "parameter snapshots\n",
      "-------------------\n",
      "snapshot = (mu_2h_signal_strength=2.5 +/- 0.646766)\n",
      "\n",
      "named sets\n",
      "----------\n",
      "_GlobalObservables:(theta_global)\n",
      "_NuisParams:(theta)\n",
      "_Observables:(myy)\n",
      "_POI:(mu_2h_signal_strength)\n",
      "snapshot:(mu_2h_signal_strength)\n",
      "\n"
     ]
    }
   ],
   "source": [
    "w.Print()"
   ]
  },
  {
   "cell_type": "code",
   "execution_count": 46,
   "metadata": {
    "collapsed": false
   },
   "outputs": [
    {
     "name": "stdout",
     "output_type": "stream",
     "text": [
      "[#1] INFO:Minization -- p.d.f. provides expected number of events, including extended term in likelihood.\n",
      "[#1] INFO:Minization --  Including the following contraint terms in minimization: (theta_constraint)\n"
     ]
    }
   ],
   "source": [
    "asimovNLL = w.pdf(\"constrained_model\").createNLL(asimov, rf.Constrain(w.set(\"_NuisParams\")))\n",
    "asimovPLL = asimovNLL.createProfile(w.set('_POI'))\n",
    "\n",
    "#sigma^2 = (mu-mu')^2/(2*asimovPLL)"
   ]
  },
  {
   "cell_type": "code",
   "execution_count": 47,
   "metadata": {
    "collapsed": false
   },
   "outputs": [
    {
     "data": {
      "text/plain": [
       "1.0641890185070224e-05"
      ]
     },
     "execution_count": 47,
     "metadata": {},
     "output_type": "execute_result"
    },
    {
     "name": "stdout",
     "output_type": "stream",
     "text": [
      "[#1] INFO:Minization -- RooProfileLL::evaluate(nll_constrained_model_AsimovData_with_constr_Profile[mu_2h_signal_strength]) Creating instance of MINUIT\n",
      "[#1] INFO:Fitting -- RooAddition::defaultErrorLevel(nll_constrained_model_AsimovData_with_constr) Summation contains a RooNLLVar, using its error level\n",
      "[#1] INFO:Minization -- RooProfileLL::evaluate(nll_constrained_model_AsimovData_with_constr_Profile[mu_2h_signal_strength]) determining minimum likelihood for current configurations w.r.t all observable\n",
      "[#1] INFO:Minization -- RooProfileLL::evaluate(nll_constrained_model_AsimovData_with_constr_Profile[mu_2h_signal_strength]) minimum found at (mu_2h_signal_strength=2.38323)\n",
      "."
     ]
    }
   ],
   "source": [
    "asimovPLL.getVal()"
   ]
  },
  {
   "cell_type": "code",
   "execution_count": null,
   "metadata": {
    "collapsed": true
   },
   "outputs": [],
   "source": []
  }
 ],
 "metadata": {
  "kernelspec": {
   "display_name": "Python 2",
   "language": "python",
   "name": "python2"
  },
  "language_info": {
   "codemirror_mode": {
    "name": "ipython",
    "version": 2
   },
   "file_extension": ".py",
   "mimetype": "text/x-python",
   "name": "python",
   "nbconvert_exporter": "python",
   "pygments_lexer": "ipython2",
   "version": "2.7.10"
  },
  "latex_envs": {
   "bibliofile": "biblio.bib",
   "cite_by": "apalike",
   "current_citInitial": 1,
   "eqLabelWithNumbers": true,
   "eqNumInitial": 0
  }
 },
 "nbformat": 4,
 "nbformat_minor": 1
}
