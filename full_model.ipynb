{
 "cells": [
  {
   "cell_type": "markdown",
   "metadata": {
    "deletable": true,
    "editable": true
   },
   "source": [
    "# (top)"
   ]
  },
  {
   "cell_type": "markdown",
   "metadata": {
    "deletable": true,
    "editable": true
   },
   "source": [
    " * move Gaussian constraints out (multiply the simul pdf by them, not each component\n",
    " * get correct expectation values for all parameters\n",
    " * separate high mass and low mass categories, only apply the desired one\n",
    " * make sure bkg from Leo's file is the correct thing to fit"
   ]
  },
  {
   "cell_type": "code",
   "execution_count": 1,
   "metadata": {
    "collapsed": false,
    "deletable": true,
    "editable": true
   },
   "outputs": [
    {
     "data": {
      "application/javascript": [
       "\n",
       "require(['notebook'],\n",
       "  function() {\n",
       "    IPython.CodeCell.config_defaults.highlight_modes['magic_text/x-c++src'] = {'reg':[/^%%cpp/]};\n",
       "    console.log(\"JupyROOT - %%cpp magic configured\");\n",
       "  }\n",
       ");\n"
      ]
     },
     "metadata": {},
     "output_type": "display_data"
    },
    {
     "name": "stdout",
     "output_type": "stream",
     "text": [
      "Welcome to JupyROOT 6.08/02\n"
     ]
    }
   ],
   "source": [
    "import ROOT\n",
    "import ROOT.RooFit as rf\n",
    "#import rootnotes\n",
    "import numpy as np\n",
    "import matplotlib.pyplot as plt\n",
    "from root_numpy import array2tree, hist2array\n",
    "from rootpy.io import root_open\n",
    "%matplotlib inline"
   ]
  },
  {
   "cell_type": "markdown",
   "metadata": {
    "deletable": true,
    "editable": true
   },
   "source": [
    "Import compile Double Sided Crystal Ball function"
   ]
  },
  {
   "cell_type": "code",
   "execution_count": 2,
   "metadata": {
    "collapsed": false,
    "deletable": true,
    "editable": true
   },
   "outputs": [
    {
     "data": {
      "text/plain": [
       "0"
      ]
     },
     "execution_count": 2,
     "metadata": {},
     "output_type": "execute_result"
    }
   ],
   "source": [
    "from ROOT import gInterpreter, gSystem\n",
    "gInterpreter.ProcessLine('#include \"../56_Hbbyy/inc/HggTwoSidedCBPdf.h\"')\n",
    "gSystem.Load('../56_Hbbyy/libDH.so')"
   ]
  },
  {
   "cell_type": "code",
   "execution_count": 3,
   "metadata": {
    "collapsed": true,
    "deletable": true,
    "editable": true
   },
   "outputs": [],
   "source": [
    "#c1=rootnotes.default_canvas()\n",
    "#%jsroot on"
   ]
  },
  {
   "cell_type": "code",
   "execution_count": 4,
   "metadata": {
    "collapsed": true,
    "deletable": true,
    "editable": true
   },
   "outputs": [],
   "source": [
    "# Declare observable x: myy, the diphoton mass\n",
    "myy = ROOT.RooRealVar(\"myy\", \"m_yy\", 105, 160)"
   ]
  },
  {
   "cell_type": "markdown",
   "metadata": {
    "deletable": true,
    "editable": true
   },
   "source": [
    "Get histograms from Leo's file"
   ]
  },
  {
   "cell_type": "code",
   "execution_count": 5,
   "metadata": {
    "collapsed": false,
    "deletable": true,
    "editable": true
   },
   "outputs": [],
   "source": [
    "from copy import deepcopy\n",
    "\n",
    "def _add(h1, h2):\n",
    "    res = deepcopy(h1)\n",
    "    res.add(h2)\n",
    "    return res"
   ]
  },
  {
   "cell_type": "code",
   "execution_count": 6,
   "metadata": {
    "collapsed": false,
    "deletable": true,
    "editable": true
   },
   "outputs": [],
   "source": [
    "f = root_open('combined_backgrounds_20170201.root')\n",
    "histos_bkg_myy = {k.GetName(): f.Get(k.GetName()) for k in f.GetListOfKeys() if 'm_yy_' in k.GetName()}"
   ]
  },
  {
   "cell_type": "code",
   "execution_count": 7,
   "metadata": {
    "collapsed": false,
    "deletable": true,
    "editable": true
   },
   "outputs": [
    {
     "name": "stdout",
     "output_type": "stream",
     "text": [
      "[#1] INFO:DataHandling -- RooDataHist::adjustBinning(m_yy_highMass_1tag_tightIsolated_bkg_non_Higgs): fit range of variable myy expanded to nearest bin boundaries: [105,160] --> [105,160]\n",
      "[#1] INFO:DataHandling -- RooDataHist::adjustBinning(m_yy_highMass_2tag_tightIsolated_bkg_single_Higgs): fit range of variable myy expanded to nearest bin boundaries: [105,160] --> [105,160]\n",
      "[#1] INFO:DataHandling -- RooDataHist::adjustBinning(m_yy_highMass_0tag_tightIsolated_bkg_single_Higgs): fit range of variable myy expanded to nearest bin boundaries: [105,160] --> [105,160]\n",
      "[#1] INFO:DataHandling -- RooDataHist::adjustBinning(m_yy_lowMass_2tag_tightIsolated_bkg_non_Higgs): fit range of variable myy expanded to nearest bin boundaries: [105,160] --> [105,160]\n",
      "[#1] INFO:DataHandling -- RooDataHist::adjustBinning(m_yy_lowMass_0tag_tightIsolated_bkg_single_Higgs): fit range of variable myy expanded to nearest bin boundaries: [105,160] --> [105,160]\n",
      "[#1] INFO:DataHandling -- RooDataHist::adjustBinning(m_yy_lowMass_1tag_tightIsolated_bkg_single_Higgs): fit range of variable myy expanded to nearest bin boundaries: [105,160] --> [105,160]\n",
      "[#1] INFO:DataHandling -- RooDataHist::adjustBinning(m_yy_lowMass_0tag_tightIsolated_bkg_non_Higgs): fit range of variable myy expanded to nearest bin boundaries: [105,160] --> [105,160]\n",
      "[#1] INFO:DataHandling -- RooDataHist::adjustBinning(m_yy_highMass_0tag_tightIsolated_bkg_non_Higgs): fit range of variable myy expanded to nearest bin boundaries: [105,160] --> [105,160]\n",
      "[#1] INFO:DataHandling -- RooDataHist::adjustBinning(m_yy_lowMass_2tag_tightIsolated_bkg_single_Higgs): fit range of variable myy expanded to nearest bin boundaries: [105,160] --> [105,160]\n",
      "[#1] INFO:DataHandling -- RooDataHist::adjustBinning(m_yy_highMass_1tag_tightIsolated_bkg_single_Higgs): fit range of variable myy expanded to nearest bin boundaries: [105,160] --> [105,160]\n",
      "[#1] INFO:DataHandling -- RooDataHist::adjustBinning(m_yy_lowMass_1tag_tightIsolated_bkg_non_Higgs): fit range of variable myy expanded to nearest bin boundaries: [105,160] --> [105,160]\n",
      "[#1] INFO:DataHandling -- RooDataHist::adjustBinning(m_yy_highMass_2tag_tightIsolated_bkg_non_Higgs): fit range of variable myy expanded to nearest bin boundaries: [105,160] --> [105,160]\n"
     ]
    }
   ],
   "source": [
    "myyarglist = ROOT.RooArgList(myy)\n",
    "for k, v in histos_bkg_myy.iteritems():\n",
    "    short_k = k.replace('m_yy_', '').replace('tightIsolated_bkg_', '')\n",
    "    exec (\"{} = {}\".format(\n",
    "        short_k,\n",
    "        'ROOT.RooDataHist(\"{k}\", \"{k}\", myyarglist, v)'.format(k=k)\n",
    "    )) "
   ]
  },
  {
   "cell_type": "code",
   "execution_count": 8,
   "metadata": {
    "collapsed": false,
    "deletable": true,
    "editable": true
   },
   "outputs": [],
   "source": [
    "# Create a binned dataset that imports contents of TH1 and associates its contents to observable 'x'\n",
    "# 0 tag: nonHiggs bkg + single Higgs bkg\n",
    "# 1,2 tags: nonHiggs bkg + single Higgs bkg + diHiggs signal\n",
    "\n",
    "# dh_bkg_noH_0tag_highmass = ROOT.RooDataHist(\n",
    "#     \"0tag_highmass_bkg_nonHiggs\", \"0tag_highmass_bkg_nonHiggs\",\n",
    "#     ROOT.RooArgList(myy), histos_bkg['m_yy_highMass_0tag_tightIsolated_bkg_non_Higgs'])\n",
    "# dh_bkg_noH_1tag_highmass = ROOT.RooDataHist(\n",
    "#     \"1tag_highmass_bkg_nonHiggs\", \"1tag_highmass_bkg_nonHiggs\",\n",
    "#     ROOT.RooArgList(myy), histos_bkg['m_yy_highMass_1tag_tightIsolated_bkg_non_Higgs'])\n",
    "# dh_bkg_noH_2tag_highmass = ROOT.RooDataHist(\n",
    "#     \"2tag_highmass_bkg_nonHiggs\", \"2tag_highmass_bkg_nonHiggs\",\n",
    "#     ROOT.RooArgList(myy), histos_bkg['m_yy_highMass_2tag_tightIsolated_bkg_non_Higgs'])\n",
    "# dh_bkg_1H_0tag_highmass = ROOT.RooDataHist(\n",
    "#     \"0tag_highmass_bkg_1Higgs\", \"0tag_highmass_bkg_nonHiggs\",\n",
    "#     ROOT.RooArgList(myy), histos_bkg['m_yy_highMass_0tag_tightIsolated_bkg_single_Higgs'])\n",
    "# dh_bkg_1H_1tag_highmass = ROOT.RooDataHist(\n",
    "#     \"1tag_highmass_bkg_1Higgs\", \"1tag_highmass_bkg_nonHiggs\",\n",
    "#     ROOT.RooArgList(myy), histos_bkg['m_yy_highMass_1tag_tightIsolated_bkg_single_Higgs'])\n",
    "# dh_bkg_1H_2tag_highmass = ROOT.RooDataHist(\n",
    "#     \"2tag_highmass_bkg_1Higgs\", \"2tag_highmass_bkg_1Higgs\",\n",
    "#     ROOT.RooArgList(myy), histos_bkg['m_yy_highMass_2tag_tightIsolated_bkg_single_Higgs'])\n",
    "\n",
    "# dh_bkg_noH_0tag_lowmass = ROOT.RooDataHist(\n",
    "#     \"0tag_lowmass_bkg_nonHiggs\", \"0tag_lowmass_bkg_nonHiggs\",\n",
    "#     ROOT.RooArgList(myy), histos_bkg['m_yy_lowMass_0tag_tightIsolated_bkg_non_Higgs'])\n",
    "# dh_bkg_noH_1tag_lowmass = ROOT.RooDataHist(\n",
    "#     \"1tag_lowmass_bkg_nonHiggs\", \"1tag_lowmass_bkg_nonHiggs\",\n",
    "#     ROOT.RooArgList(myy), histos_bkg['m_yy_lowMass_1tag_tightIsolated_bkg_non_Higgs'])\n",
    "# dh_bkg_noH_2tag_lowmass = ROOT.RooDataHist(\n",
    "#     \"2tag_lowmass_bkg_nonHiggs\", \"2tag_lowmass_bkg_nonHiggs\",\n",
    "#     ROOT.RooArgList(myy), histos_bkg['m_yy_lowMass_2tag_tightIsolated_bkg_non_Higgs'])\n",
    "# dh_bkg_1H_0tag_lowmass = ROOT.RooDataHist(\n",
    "#     \"0tag_lowmass_bkg_1Higgs\", \"0tag_lowmass_bkg_nonHiggs\",\n",
    "#     ROOT.RooArgList(myy), histos_bkg['m_yy_lowMass_0tag_tightIsolated_bkg_single_Higgs'])\n",
    "# dh_bkg_1H_1tag_lowmass = ROOT.RooDataHist(\n",
    "#     \"1tag_lowmass_bkg_1Higgs\", \"1tag_lowmass_bkg_nonHiggs\",\n",
    "#     ROOT.RooArgList(myy), histos_bkg['m_yy_lowMass_1tag_tightIsolated_bkg_single_Higgs'])\n",
    "# dh_bkg_1H_2tag_lowmass = ROOT.RooDataHist(\n",
    "#     \"2tag_lowmass_bkg_1Higgs\", \"2tag_lowmass_bkg_1Higgs\",\n",
    "#     ROOT.RooArgList(myy), histos_bkg['m_yy_lowMass_2tag_tightIsolated_bkg_single_Higgs'])"
   ]
  },
  {
   "cell_type": "markdown",
   "metadata": {
    "deletable": true,
    "editable": true
   },
   "source": [
    "^ are these the full backgrounds with templates? or only the sharpa ones?"
   ]
  },
  {
   "cell_type": "markdown",
   "metadata": {
    "deletable": true,
    "editable": true
   },
   "source": [
    "Fit to the 0 tag category to get the parameters:"
   ]
  },
  {
   "cell_type": "code",
   "execution_count": 9,
   "metadata": {
    "collapsed": false,
    "deletable": true,
    "editable": true
   },
   "outputs": [],
   "source": [
    "# -- create a workspace\n",
    "w = ROOT.RooWorkspace('w')"
   ]
  },
  {
   "cell_type": "code",
   "execution_count": 10,
   "metadata": {
    "collapsed": false,
    "deletable": true,
    "editable": true
   },
   "outputs": [
    {
     "data": {
      "text/plain": [
       "False"
      ]
     },
     "execution_count": 10,
     "metadata": {},
     "output_type": "execute_result"
    },
    {
     "name": "stdout",
     "output_type": "stream",
     "text": [
      "[#1] INFO:ObjectHandling -- RooWorkspace::import(w) importing RooRealVar::myy\n"
     ]
    }
   ],
   "source": [
    "# -- import the variable myy created above\n",
    "getattr(w,'import')(myy)"
   ]
  },
  {
   "cell_type": "code",
   "execution_count": 11,
   "metadata": {
    "collapsed": true,
    "deletable": true,
    "editable": true
   },
   "outputs": [],
   "source": [
    "# - build model with nuisance params, global observable, categories, ...\n",
    "# - do fit on MC, fix fit function params \n",
    "# - build two model configs, one for B, one for S+B\n",
    "# - make two asimov datasets for mu=0, mu=1 (?)\n",
    "# - use hypothesis test inverter with asymptotic calculator to get CL"
   ]
  },
  {
   "cell_type": "markdown",
   "metadata": {
    "deletable": true,
    "editable": true
   },
   "source": [
    "Build generic background PDF with $\\texttt{epoly2}$ function: $$PDF_\\text{bkg} = exp(a_0 + a_1x + a_2x^2)$$\n",
    "Set $a_0=1$ and include the normalization factor later by extending the PDF. "
   ]
  },
  {
   "cell_type": "code",
   "execution_count": 12,
   "metadata": {
    "collapsed": false,
    "deletable": true,
    "editable": true
   },
   "outputs": [],
   "source": [
    "# -- epoly background (b = e^(a0+a1*x+a2*x^2))\n",
    "w.factory(\"PolyVar::bkg_exponent(myy,{a0[1], a1[-100, 100], a2[-100, 100]})\")\n",
    "w.factory(\"Exponential::bkg_pdf(bkg_exponent,1)\")\n",
    "w.var('a0').setConstant(True)"
   ]
  },
  {
   "cell_type": "code",
   "execution_count": 13,
   "metadata": {
    "collapsed": false,
    "deletable": true,
    "editable": true
   },
   "outputs": [],
   "source": [
    "# -- old exponential background (b = e^(cx))\n",
    "# c0_bkg = ROOT.RooRealVar('c0_bkg', 'coefficient c0 of exponential bkg fit', -100, 100)\n",
    "# bkg_pdf = ROOT.RooExponential('bkg_pdf', 'exponential bkg pdf', myy, c0_bkg)"
   ]
  },
  {
   "cell_type": "markdown",
   "metadata": {
    "deletable": true,
    "editable": true
   },
   "source": [
    "Build generic signal PDF with Double Sided CB function:"
   ]
  },
  {
   "cell_type": "code",
   "execution_count": 14,
   "metadata": {
    "collapsed": true,
    "deletable": true,
    "editable": true
   },
   "outputs": [],
   "source": [
    "# -- define single-Higgs bkg fit function (Double Sided Crystal Ball)\n",
    "m0_cb = ROOT.RooRealVar('m0_cb','m0_cb', 125, 105, 160)\n",
    "sigma_cb = ROOT.RooRealVar('sigma_cb','sigma_cb', 5, 0, 20)\n",
    "alphaLo_cb = ROOT.RooRealVar('alphaLo_cb','alphaLo_cb', 0, 5)\n",
    "nLo_cb = ROOT.RooRealVar('nLo_cb','nLo_cb', 0, 10)\n",
    "alphaHi_cb = ROOT.RooRealVar('alphaHi_cb','alphaHi_cb', 0, 5)\n",
    "nHi_cb = ROOT.RooRealVar('nHi_cb','nHi_cb', 0, 10)\n",
    "\n",
    "# -- double sided crystal ball\n",
    "dscb_pdf = ROOT.HggTwoSidedCBPdf(\n",
    "    'dscb_pdf', 'Double Sided Crystal Ball',\n",
    "    myy,\n",
    "    m0_cb,\n",
    "    sigma_cb,\n",
    "    alphaLo_cb,\n",
    "    nLo_cb,\n",
    "    alphaHi_cb,\n",
    "    nHi_cb\n",
    ")"
   ]
  },
  {
   "cell_type": "code",
   "execution_count": 15,
   "metadata": {
    "collapsed": false,
    "deletable": true,
    "editable": true
   },
   "outputs": [
    {
     "data": {
      "text/plain": [
       "False"
      ]
     },
     "execution_count": 15,
     "metadata": {},
     "output_type": "execute_result"
    },
    {
     "name": "stdout",
     "output_type": "stream",
     "text": [
      "[#1] INFO:ObjectHandling -- RooWorkspace::import(w) importing HggTwoSidedCBPdf::dscb_pdf\n",
      "[#1] INFO:ObjectHandling -- RooWorkspace::import(w) importing RooRealVar::m0_cb\n",
      "[#1] INFO:ObjectHandling -- RooWorkspace::import(w) importing RooRealVar::sigma_cb\n",
      "[#1] INFO:ObjectHandling -- RooWorkspace::import(w) importing RooRealVar::alphaLo_cb\n",
      "[#1] INFO:ObjectHandling -- RooWorkspace::import(w) importing RooRealVar::nLo_cb\n",
      "[#1] INFO:ObjectHandling -- RooWorkspace::import(w) importing RooRealVar::alphaHi_cb\n",
      "[#1] INFO:ObjectHandling -- RooWorkspace::import(w) importing RooRealVar::nHi_cb\n"
     ]
    }
   ],
   "source": [
    "# -- import the DSCB function into the workspace\n",
    "getattr(w,'import')(dscb_pdf)"
   ]
  },
  {
   "cell_type": "markdown",
   "metadata": {
    "deletable": true,
    "editable": true
   },
   "source": [
    "Fit the non-Higgs background function to the high mass and low mass binned data individually to find the values of $a_1$ and $a_2$ that will be applied to the corresponding 1 and 2 tag categories."
   ]
  },
  {
   "cell_type": "code",
   "execution_count": 16,
   "metadata": {
    "collapsed": false,
    "deletable": true,
    "editable": true,
    "scrolled": true
   },
   "outputs": [
    {
     "name": "stdout",
     "output_type": "stream",
     "text": [
      "[#1] INFO:NumericIntegration -- RooRealIntegral::init(bkg_pdf_Int[myy]) using numeric integrator RooIntegrator1D to calculate Int(myy)\n",
      "[#1] INFO:Minization -- RooMinimizer::optimizeConst: activating const optimization\n",
      " **********\n",
      " **    1 **SET PRINT           1\n",
      " **********\n",
      " **********\n",
      " **    2 **SET NOGRAD\n",
      " **********\n",
      " PARAMETER DEFINITIONS:\n",
      "    NO.   NAME         VALUE      STEP SIZE      LIMITS\n",
      "     1 a1           0.00000e+00  2.00000e+01   -1.00000e+02  1.00000e+02\n",
      "     2 a2           0.00000e+00  2.00000e+01   -1.00000e+02  1.00000e+02\n",
      " **********\n",
      " **    3 **SET ERR         0.5\n",
      " **********\n",
      " **********\n",
      " **    4 **SET PRINT           1\n",
      " **********\n",
      " **********\n",
      " **    5 **SET STR           1\n",
      " **********\n",
      " NOW USING STRATEGY  1: TRY TO BALANCE SPEED AGAINST RELIABILITY\n",
      " **********\n",
      " **    6 **MIGRAD        1000           1\n",
      " **********\n",
      " FIRST CALL TO USER FUNCTION AT NEW START POINT, WITH IFLAG=4.\n",
      " START MIGRAD MINIMIZATION.  STRATEGY  1.  CONVERGENCE WHEN EDM .LT. 1.00e-03\n",
      "[#0] WARNING:Integration -- RooIntegrator1D::integral: integral of bkg_pdf over range (105,160) did not converge after 20 steps\n",
      "   [1] h = 1 , s = inf\n",
      "   [2] h = 0.25 , s = inf\n",
      "   [3] h = 0.0625 , s = inf\n",
      "   [4] h = 0.015625 , s = inf\n",
      "   [5] h = 0.00390625 , s = inf\n",
      "   [6] h = 0.000976562 , s = inf\n",
      "   [7] h = 0.000244141 , s = inf\n",
      "   [8] h = 6.10352e-05 , s = inf\n",
      "   [9] h = 1.52588e-05 , s = inf\n",
      "   [10] h = 3.8147e-06 , s = inf\n",
      "   [11] h = 9.53674e-07 , s = inf\n",
      "   [12] h = 2.38419e-07 , s = inf\n",
      "   [13] h = 5.96046e-08 , s = inf\n",
      "   [14] h = 1.49012e-08 , s = inf\n",
      "   [15] h = 3.72529e-09 , s = inf\n",
      "   [16] h = 9.31323e-10 , s = inf\n",
      "   [17] h = 2.32831e-10 , s = inf\n",
      "   [18] h = 5.82077e-11 , s = inf\n",
      "   [19] h = 1.45519e-11 , s = inf\n",
      "   [20] h = 3.63798e-12 , s = inf\n",
      "[#0] WARNING:Minization -- RooMinimizerFcn: Minimized function has error status.\n",
      "Returning maximum FCN so far (1.10364e+06) to force MIGRAD to back out of this region. Error log follows\n",
      "Parameter values: a1=0, a2=2.33523\n",
      "RooNLLVar::nll_bkg_pdf_m_yy_lowMass_0tag_tightIsolated_bkg_non_Higgs[ paramSet=(a0,a1,a2) ]\n",
      "     function value is NAN @ paramSet=(a0 = 1,a1 = 0,a2 = 2.33523)\n",
      "RooExponential::bkg_pdf[ x=bkg_exponent c=1 ]\n",
      "     getLogVal() top-level p.d.f evaluates to NaN @ x=bkg_exponent=26363.6, c=1=1\n",
      "     getLogVal() top-level p.d.f evaluates to NaN @ x=bkg_exponent=27618.8, c=1=1\n",
      "     getLogVal() top-level p.d.f evaluates to NaN @ x=bkg_exponent=28903.2, c=1=1\n",
      "     getLogVal() top-level p.d.f evaluates to NaN @ x=bkg_exponent=30216.7, c=1=1\n",
      "     getLogVal() top-level p.d.f evaluates to NaN @ x=bkg_exponent=31559.5, c=1=1\n",
      "     getLogVal() top-level p.d.f evaluates to NaN @ x=bkg_exponent=32931.4, c=1=1\n",
      "     getLogVal() top-level p.d.f evaluates to NaN @ x=bkg_exponent=34332.6, c=1=1\n",
      "     getLogVal() top-level p.d.f evaluates to NaN @ x=bkg_exponent=35762.9, c=1=1\n",
      "     getLogVal() top-level p.d.f evaluates to NaN @ x=bkg_exponent=37222.4, c=1=1\n",
      "     getLogVal() top-level p.d.f evaluates to NaN @ x=bkg_exponent=38711.1, c=1=1\n",
      "     getLogVal() top-level p.d.f evaluates to NaN @ x=bkg_exponent=40229, c=1=1\n",
      "     getLogVal() top-level p.d.f evaluates to NaN @ x=bkg_exponent=41776.1, c=1=1\n",
      "    ... (remaining 12 messages suppressed)\n",
      "\n",
      "[#0] WARNING:Minization -- RooMinimizerFcn: Minimized function has error status.\n",
      "Returning maximum FCN so far (1.10364e+06) to force MIGRAD to back out of this region. Error log follows\n",
      "Parameter values: a1=0, a2=-2.33523\n",
      "RooNLLVar::nll_bkg_pdf_m_yy_lowMass_0tag_tightIsolated_bkg_non_Higgs[ paramSet=(a0,a1,a2) ]\n",
      "     function value is NAN @ paramSet=(a0 = 1,a1 = 0,a2 = -2.33523)\n",
      "RooExponential::bkg_pdf[ x=bkg_exponent c=1 ]\n",
      "     p.d.f normalization integral is zero or negative @ x=bkg_exponent=-26361.6, c=1=1\n",
      "     getLogVal() top-level p.d.f evaluates to zero @ x=bkg_exponent=-26361.6, c=1=1\n",
      "     p.d.f normalization integral is zero or negative @ x=bkg_exponent=-27616.8, c=1=1\n",
      "     getLogVal() top-level p.d.f evaluates to zero @ x=bkg_exponent=-27616.8, c=1=1\n",
      "     p.d.f normalization integral is zero or negative @ x=bkg_exponent=-28901.2, c=1=1\n",
      "     getLogVal() top-level p.d.f evaluates to zero @ x=bkg_exponent=-28901.2, c=1=1\n",
      "     p.d.f normalization integral is zero or negative @ x=bkg_exponent=-30214.7, c=1=1\n",
      "     getLogVal() top-level p.d.f evaluates to zero @ x=bkg_exponent=-30214.7, c=1=1\n",
      "     p.d.f normalization integral is zero or negative @ x=bkg_exponent=-31557.5, c=1=1\n",
      "     getLogVal() top-level p.d.f evaluates to zero @ x=bkg_exponent=-31557.5, c=1=1\n",
      "     p.d.f normalization integral is zero or negative @ x=bkg_exponent=-32929.4, c=1=1\n",
      "     getLogVal() top-level p.d.f evaluates to zero @ x=bkg_exponent=-32929.4, c=1=1\n",
      "    ... (remaining 34 messages suppressed)\n",
      "\n",
      "[#0] WARNING:Integration -- RooIntegrator1D::integral: integral of bkg_pdf over range (105,160) did not converge after 20 steps\n",
      "   [1] h = 1 , s = inf\n",
      "   [2] h = 0.25 , s = inf\n",
      "   [3] h = 0.0625 , s = inf\n",
      "   [4] h = 0.015625 , s = inf\n",
      "   [5] h = 0.00390625 , s = inf\n",
      "   [6] h = 0.000976562 , s = inf\n",
      "   [7] h = 0.000244141 , s = inf\n",
      "   [8] h = 6.10352e-05 , s = inf\n",
      "   [9] h = 1.52588e-05 , s = inf\n",
      "   [10] h = 3.8147e-06 , s = inf\n",
      "   [11] h = 9.53674e-07 , s = inf\n",
      "   [12] h = 2.38419e-07 , s = inf\n",
      "   [13] h = 5.96046e-08 , s = inf\n",
      "   [14] h = 1.49012e-08 , s = inf\n",
      "   [15] h = 3.72529e-09 , s = inf\n",
      "   [16] h = 9.31323e-10 , s = inf\n",
      "   [17] h = 2.32831e-10 , s = inf\n",
      "   [18] h = 5.82077e-11 , s = inf\n",
      "   [19] h = 1.45519e-11 , s = inf\n",
      "   [20] h = 3.63798e-12 , s = inf\n",
      "[#0] WARNING:Minization -- RooMinimizerFcn: Minimized function has error status.\n",
      "Returning maximum FCN so far (1.10364e+06) to force MIGRAD to back out of this region. Error log follows\n",
      "Parameter values: a1=0, a2=0.233544\n",
      "RooNLLVar::nll_bkg_pdf_m_yy_lowMass_0tag_tightIsolated_bkg_non_Higgs[ paramSet=(a0,a1,a2) ]\n",
      "     function value is NAN @ paramSet=(a0 = 1,a1 = 0,a2 = 0.233544)\n",
      "RooExponential::bkg_pdf[ x=bkg_exponent c=1 ]\n",
      "     getLogVal() top-level p.d.f evaluates to NaN @ x=bkg_exponent=2637.5, c=1=1\n",
      "     getLogVal() top-level p.d.f evaluates to NaN @ x=bkg_exponent=2763.03, c=1=1\n",
      "     getLogVal() top-level p.d.f evaluates to NaN @ x=bkg_exponent=2891.48, c=1=1\n",
      "     getLogVal() top-level p.d.f evaluates to NaN @ x=bkg_exponent=3022.84, c=1=1\n",
      "     getLogVal() top-level p.d.f evaluates to NaN @ x=bkg_exponent=3157.13, c=1=1\n",
      "     getLogVal() top-level p.d.f evaluates to NaN @ x=bkg_exponent=3294.34, c=1=1\n",
      "     getLogVal() top-level p.d.f evaluates to NaN @ x=bkg_exponent=3434.47, c=1=1\n",
      "     getLogVal() top-level p.d.f evaluates to NaN @ x=bkg_exponent=3577.51, c=1=1\n",
      "     getLogVal() top-level p.d.f evaluates to NaN @ x=bkg_exponent=3723.48, c=1=1\n",
      "     getLogVal() top-level p.d.f evaluates to NaN @ x=bkg_exponent=3872.36, c=1=1\n",
      "     getLogVal() top-level p.d.f evaluates to NaN @ x=bkg_exponent=4024.17, c=1=1\n",
      "     getLogVal() top-level p.d.f evaluates to NaN @ x=bkg_exponent=4178.89, c=1=1\n",
      "    ... (remaining 12 messages suppressed)\n",
      "\n",
      "[#0] WARNING:Minization -- RooMinimizerFcn: Minimized function has error status.\n",
      "Returning maximum FCN so far (1.10364e+06) to force MIGRAD to back out of this region. Error log follows\n",
      "Parameter values: a1=0, a2=-0.233544\n",
      "RooNLLVar::nll_bkg_pdf_m_yy_lowMass_0tag_tightIsolated_bkg_non_Higgs[ paramSet=(a0,a1,a2) ]\n",
      "     function value is NAN @ paramSet=(a0 = 1,a1 = 0,a2 = -0.233544)\n",
      "RooExponential::bkg_pdf[ x=bkg_exponent c=1 ]\n",
      "     p.d.f normalization integral is zero or negative @ x=bkg_exponent=-2635.5, c=1=1\n",
      "     getLogVal() top-level p.d.f evaluates to zero @ x=bkg_exponent=-2635.5, c=1=1\n",
      "     p.d.f normalization integral is zero or negative @ x=bkg_exponent=-2761.03, c=1=1\n",
      "     getLogVal() top-level p.d.f evaluates to zero @ x=bkg_exponent=-2761.03, c=1=1\n",
      "     p.d.f normalization integral is zero or negative @ x=bkg_exponent=-2889.48, c=1=1\n",
      "     getLogVal() top-level p.d.f evaluates to zero @ x=bkg_exponent=-2889.48, c=1=1\n",
      "     p.d.f normalization integral is zero or negative @ x=bkg_exponent=-3020.84, c=1=1\n",
      "     getLogVal() top-level p.d.f evaluates to zero @ x=bkg_exponent=-3020.84, c=1=1\n",
      "     p.d.f normalization integral is zero or negative @ x=bkg_exponent=-3155.13, c=1=1\n",
      "     getLogVal() top-level p.d.f evaluates to zero @ x=bkg_exponent=-3155.13, c=1=1\n",
      "     p.d.f normalization integral is zero or negative @ x=bkg_exponent=-3292.34, c=1=1\n",
      "     getLogVal() top-level p.d.f evaluates to zero @ x=bkg_exponent=-3292.34, c=1=1\n",
      "    ... (remaining 34 messages suppressed)\n",
      "\n",
      " FCN=56423.3 FROM MIGRAD    STATUS=INITIATE        8 CALLS           9 TOTAL\n",
      "                     EDM= unknown      STRATEGY= 1      NO ERROR MATRIX       \n",
      "  EXT PARAMETER               CURRENT GUESS       STEP         FIRST   \n",
      "  NO.   NAME      VALUE            ERROR          SIZE      DERIVATIVE \n",
      "   1  a1           0.00000e+00   2.00000e+01   2.01358e-01   9.05124e+06\n",
      "   2  a2           0.00000e+00   2.00000e+01   2.01358e-01   0.00000e+00\n",
      "                               ERR DEF= 0.5\n",
      " MIGRAD FAILS TO FIND IMPROVEMENT\n",
      " EIGENVALUES OF SECOND-DERIVATIVE MATRIX:\n",
      "        -1.2999e-01  2.1300e+00\n",
      " MINUIT WARNING IN HESSE   \n",
      " ============== MATRIX FORCED POS-DEF BY ADDING 0.132116 TO DIAGONAL.\n",
      " FCN=55249.7 FROM HESSE     STATUS=NOT POSDEF     12 CALLS          46 TOTAL\n",
      "                     EDM=1.58833    STRATEGY= 1      ERR MATRIX NOT POS-DEF\n",
      "  EXT PARAMETER                APPROXIMATE        STEP         FIRST   \n",
      "  NO.   NAME      VALUE            ERROR          SIZE      DERIVATIVE \n",
      "   1  a1          -2.67655e-02   8.57498e-03   2.33545e-06  -1.21882e+05\n",
      "   2  a2           0.00000e+00   3.37477e-05   2.33545e-06  -3.58390e+07\n",
      "                               ERR DEF= 0.5\n",
      " MIGRAD MINIMIZATION HAS CONVERGED.\n",
      " MIGRAD WILL VERIFY CONVERGENCE AND ERROR MATRIX.\n",
      " COVARIANCE MATRIX CALCULATED SUCCESSFULLY\n",
      " FCN=55248.1 FROM MIGRAD    STATUS=CONVERGED      67 CALLS          68 TOTAL\n",
      "                     EDM=4.86617e-05    STRATEGY= 1      ERROR MATRIX ACCURATE \n",
      "  EXT PARAMETER                                   STEP         FIRST   \n",
      "  NO.   NAME      VALUE            ERROR          SIZE      DERIVATIVE \n",
      "   1  a1          -4.29004e-02   1.46481e-02   9.01243e-07  -7.31379e+02\n",
      "   2  a2           6.35874e-05   5.63103e-05   3.46417e-09  -2.00193e+05\n",
      "                               ERR DEF= 0.5\n",
      " EXTERNAL ERROR MATRIX.    NDIM=  25    NPAR=  2    ERR DEF=0.5\n",
      "  2.146e-04 -8.242e-07 \n",
      " -8.242e-07  3.171e-09 \n",
      " PARAMETER  CORRELATION COEFFICIENTS  \n",
      "       NO.  GLOBAL      1      2\n",
      "        1  0.99928   1.000 -0.999\n",
      "        2  0.99928  -0.999  1.000\n",
      " **********\n",
      " **    7 **SET ERR         0.5\n",
      " **********\n",
      " **********\n",
      " **    8 **SET PRINT           1\n",
      " **********\n",
      " **********\n",
      " **    9 **HESSE        1000\n",
      " **********\n",
      " COVARIANCE MATRIX CALCULATED SUCCESSFULLY\n",
      " FCN=55248.1 FROM HESSE     STATUS=OK             10 CALLS          78 TOTAL\n",
      "                     EDM=3.40587e-05    STRATEGY= 1      ERROR MATRIX ACCURATE \n",
      "  EXT PARAMETER                                INTERNAL      INTERNAL  \n",
      "  NO.   NAME      VALUE            ERROR       STEP SIZE       VALUE   \n",
      "   1  a1          -4.29004e-02   1.06865e-02   1.80249e-07  -4.29004e-04\n",
      "   2  a2           6.35874e-05   4.10811e-05   6.92834e-10   6.35874e-07\n",
      "                               ERR DEF= 0.5\n",
      " EXTERNAL ERROR MATRIX.    NDIM=  25    NPAR=  2    ERR DEF=0.5\n",
      "  1.142e-04 -4.384e-07 \n",
      " -4.384e-07  1.688e-09 \n",
      " PARAMETER  CORRELATION COEFFICIENTS  \n",
      "       NO.  GLOBAL      1      2\n",
      "        1  0.99865   1.000 -0.999\n",
      "        2  0.99865  -0.999  1.000\n",
      "[#1] INFO:Fitting -- RooAbsPdf::fitTo(bkg_pdf) Calculating sum-of-weights-squared correction matrix for covariance matrix\n",
      " **********\n",
      " **   10 **SET ERR         0.5\n",
      " **********\n",
      " **********\n",
      " **   11 **SET PRINT           1\n",
      " **********\n",
      " **********\n",
      " **   12 **HESSE        1000\n",
      " **********\n",
      " EIGENVALUES OF SECOND-DERIVATIVE MATRIX:\n",
      "        -1.7038e-03  2.0017e+00\n",
      " MINUIT WARNING IN HESSE   \n",
      " ============== MATRIX FORCED POS-DEF BY ADDING 0.003705 TO DIAGONAL.\n",
      " FCN=29389.1 FROM HESSE     STATUS=NOT POSDEF     14 CALLS          92 TOTAL\n",
      "                     EDM=12.0872    STRATEGY= 1      ERR MATRIX NOT POS-DEF\n",
      "  EXT PARAMETER                APPROXIMATE     INTERNAL      INTERNAL  \n",
      "  NO.   NAME      VALUE            ERROR       STEP SIZE       VALUE   \n",
      "   1  a1          -4.29004e-02   1.20083e-02   3.67707e-06  -4.29004e-04\n",
      "   2  a2           6.35874e-05   4.61625e-05   1.41338e-08   6.35874e-07\n",
      "                               ERR DEF= 0.5\n",
      " EXTERNAL ERROR MATRIX.    NDIM=  25    NPAR=  2    ERR DEF=0.5\n",
      "  1.442e-04 -5.532e-07 \n",
      " -5.532e-07  2.131e-09 \n",
      "ERR MATRIX NOT POS-DEF\n",
      " PARAMETER  CORRELATION COEFFICIENTS  \n",
      "       NO.  GLOBAL      1      2\n",
      "        1  0.99801   1.000 -0.998\n",
      "        2  0.99801  -0.998  1.000\n",
      " ERR MATRIX NOT POS-DEF\n",
      "[#1] INFO:Minization -- RooMinimizer::optimizeConst: deactivating const optimization\n"
     ]
    }
   ],
   "source": [
    "# low mass fit\n",
    "r = w.pdf(\"bkg_pdf\").fitTo(lowMass_0tag_non_Higgs, rf.SumW2Error(ROOT.kTRUE), rf.Save())"
   ]
  },
  {
   "cell_type": "code",
   "execution_count": 17,
   "metadata": {
    "collapsed": false,
    "deletable": true,
    "editable": true,
    "scrolled": false
   },
   "outputs": [
    {
     "name": "stdout",
     "output_type": "stream",
     "text": [
      "[#1] INFO:InputArguments -- RooAbsData::plotOn(m_yy_lowMass_0tag_tightIsolated_bkg_non_Higgs) INFO: dataset has non-integer weights, auto-selecting SumW2 errors instead of Poisson errors\n",
      "[#1] INFO:NumericIntegration -- RooRealIntegral::init(bkg_pdf_Int[myy]) using numeric integrator RooIntegrator1D to calculate Int(myy)\n"
     ]
    },
    {
     "data": {
      "image/png": "[encoded data removed]",
      "text/plain": [
       "<IPython.core.display.Image object>"
      ]
     },
     "metadata": {},
     "output_type": "display_data"
    }
   ],
   "source": [
    "c = ROOT.TCanvas()\n",
    "frame = myy.frame()\n",
    "lowMass_0tag_non_Higgs.plotOn(frame)\n",
    "w.pdf(\"bkg_pdf\").plotOn(frame)\n",
    "w.pdf(\"bkg_pdf\").paramOn(frame)#,ROOT.RooFit.Layout(0.65,0.85,0.85),ROOT.RooFit.Parameters(ROOT.RooArgSet(w.var(\"a1\"),w.var(\"nbkg1\"))))\n",
    "frame.Draw()\n",
    "frame.SetTitle(\"Low Mass Non-Higgs Background - 0 Tag\")\n",
    "c.Draw()"
   ]
  },
  {
   "cell_type": "markdown",
   "metadata": {
    "deletable": true,
    "editable": true
   },
   "source": [
    "Save a snapshot of the values of $a_1$ and $a_2$ that were found by fitting the low mass non-Higgs background in the 0 tag category. These values will be frozen for the 1 and 2 tag categories."
   ]
  },
  {
   "cell_type": "code",
   "execution_count": 18,
   "metadata": {
    "collapsed": false,
    "deletable": true,
    "editable": true
   },
   "outputs": [
    {
     "data": {
      "text/plain": [
       "True"
      ]
     },
     "execution_count": 18,
     "metadata": {},
     "output_type": "execute_result"
    }
   ],
   "source": [
    "w.defineSet(\"params_epoly2\", \"a1,a2\")\n",
    "w.saveSnapshot(\"lowmass_epoly2\",w.set(\"params_epoly2\"), ROOT.kTRUE)"
   ]
  },
  {
   "cell_type": "markdown",
   "metadata": {
    "deletable": true,
    "editable": true
   },
   "source": [
    "Redo the fit for the high mass category:"
   ]
  },
  {
   "cell_type": "code",
   "execution_count": 19,
   "metadata": {
    "collapsed": false,
    "deletable": true,
    "editable": true,
    "scrolled": true
   },
   "outputs": [
    {
     "name": "stdout",
     "output_type": "stream",
     "text": [
      "[#1] INFO:NumericIntegration -- RooRealIntegral::init(bkg_pdf_Int[myy]) using numeric integrator RooIntegrator1D to calculate Int(myy)\n",
      "[#1] INFO:Minization -- RooMinimizer::optimizeConst: activating const optimization\n",
      " **********\n",
      " **   13 **SET PRINT           1\n",
      " **********\n",
      " **********\n",
      " **   14 **SET NOGRAD\n",
      " **********\n",
      " PARAMETER DEFINITIONS:\n",
      "    NO.   NAME         VALUE      STEP SIZE      LIMITS\n",
      "     1 a1          -4.29004e-02  9.51067e-03   -1.00000e+02  1.00000e+02\n",
      "     2 a2           6.35874e-05  3.65609e-05   -1.00000e+02  1.00000e+02\n",
      " **********\n",
      " **   15 **SET ERR         0.5\n",
      " **********\n",
      " **********\n",
      " **   16 **SET PRINT           1\n",
      " **********\n",
      " **********\n",
      " **   17 **SET STR           1\n",
      " **********\n",
      " NOW USING STRATEGY  1: TRY TO BALANCE SPEED AGAINST RELIABILITY\n",
      " **********\n",
      " **   18 **MIGRAD        1000           1\n",
      " **********\n",
      " FIRST CALL TO USER FUNCTION AT NEW START POINT, WITH IFLAG=4.\n",
      " START MIGRAD MINIMIZATION.  STRATEGY  1.  CONVERGENCE WHEN EDM .LT. 1.00e-03\n",
      " FCN=4391.26 FROM MIGRAD    STATUS=INITIATE        8 CALLS           9 TOTAL\n",
      "                     EDM= unknown      STRATEGY= 1      NO ERROR MATRIX       \n",
      "  EXT PARAMETER               CURRENT GUESS       STEP         FIRST   \n",
      "  NO.   NAME      VALUE            ERROR          SIZE      DERIVATIVE \n",
      "   1  a1          -4.29004e-02   9.51067e-03   9.51067e-05  -2.99255e+05\n",
      "   2  a2           6.35874e-05   3.65609e-05   3.65609e-07  -7.77438e+07\n",
      "                               ERR DEF= 0.5\n",
      " MIGRAD MINIMIZATION HAS CONVERGED.\n",
      " MIGRAD WILL VERIFY CONVERGENCE AND ERROR MATRIX.\n",
      " COVARIANCE MATRIX CALCULATED SUCCESSFULLY\n",
      " FCN=4373.95 FROM MIGRAD    STATUS=CONVERGED      46 CALLS          47 TOTAL\n",
      "                     EDM=4.20831e-08    STRATEGY= 1      ERROR MATRIX ACCURATE \n",
      "  EXT PARAMETER                                   STEP         FIRST   \n",
      "  NO.   NAME      VALUE            ERROR          SIZE      DERIVATIVE \n",
      "   1  a1          -1.54718e-02   4.35775e-02   8.82011e-07  -1.03219e+01\n",
      "   2  a2           2.31129e-06   1.66082e-04   3.36156e-09  -2.73483e+03\n",
      "                               ERR DEF= 0.5\n",
      " EXTERNAL ERROR MATRIX.    NDIM=  25    NPAR=  2    ERR DEF=0.5\n",
      "  1.899e-03 -7.230e-06 \n",
      " -7.230e-06  2.758e-08 \n",
      " PARAMETER  CORRELATION COEFFICIENTS  \n",
      "       NO.  GLOBAL      1      2\n",
      "        1  0.99902   1.000 -0.999\n",
      "        2  0.99902  -0.999  1.000\n",
      " **********\n",
      " **   19 **SET ERR         0.5\n",
      " **********\n",
      " **********\n",
      " **   20 **SET PRINT           1\n",
      " **********\n",
      " **********\n",
      " **   21 **HESSE        1000\n",
      " **********\n",
      " COVARIANCE MATRIX CALCULATED SUCCESSFULLY\n",
      " FCN=4373.95 FROM HESSE     STATUS=OK             10 CALLS          57 TOTAL\n",
      "                     EDM=4.16816e-08    STRATEGY= 1      ERROR MATRIX ACCURATE \n",
      "  EXT PARAMETER                                INTERNAL      INTERNAL  \n",
      "  NO.   NAME      VALUE            ERROR       STEP SIZE       VALUE   \n",
      "   1  a1          -1.54718e-02   3.68526e-02   1.76402e-07  -1.54718e-04\n",
      "   2  a2           2.31129e-06   1.40452e-04   6.72313e-10   2.31129e-08\n",
      "                               ERR DEF= 0.5\n",
      " EXTERNAL ERROR MATRIX.    NDIM=  25    NPAR=  2    ERR DEF=0.5\n",
      "  1.358e-03 -5.169e-06 \n",
      " -5.169e-06  1.973e-08 \n",
      " PARAMETER  CORRELATION COEFFICIENTS  \n",
      "       NO.  GLOBAL      1      2\n",
      "        1  0.99863   1.000 -0.999\n",
      "        2  0.99863  -0.999  1.000\n",
      "[#1] INFO:Fitting -- RooAbsPdf::fitTo(bkg_pdf) Calculating sum-of-weights-squared correction matrix for covariance matrix\n",
      " **********\n",
      " **   22 **SET ERR         0.5\n",
      " **********\n",
      " **********\n",
      " **   23 **SET PRINT           1\n",
      " **********\n",
      " **********\n",
      " **   24 **HESSE        1000\n",
      " **********\n",
      " EIGENVALUES OF SECOND-DERIVATIVE MATRIX:\n",
      "        -5.1369e-04  2.0005e+00\n",
      " MINUIT WARNING IN HESSE   \n",
      " ============== MATRIX FORCED POS-DEF BY ADDING 0.002514 TO DIAGONAL.\n",
      " FCN=1248.91 FROM HESSE     STATUS=NOT POSDEF     14 CALLS          71 TOTAL\n",
      "                     EDM=4.07958    STRATEGY= 1      ERR MATRIX NOT POS-DEF\n",
      "  EXT PARAMETER                APPROXIMATE     INTERNAL      INTERNAL  \n",
      "  NO.   NAME      VALUE            ERROR       STEP SIZE       VALUE   \n",
      "   1  a1          -1.54718e-02   5.69749e-02   3.59860e-06  -1.54718e-04\n",
      "   2  a2           2.31129e-06   2.17142e-04   1.37152e-08   2.31129e-08\n",
      "                               ERR DEF= 0.5\n",
      " EXTERNAL ERROR MATRIX.    NDIM=  25    NPAR=  2    ERR DEF=0.5\n",
      "  3.246e-03 -1.235e-05 \n",
      " -1.235e-05  4.715e-08 \n",
      "ERR MATRIX NOT POS-DEF\n",
      " PARAMETER  CORRELATION COEFFICIENTS  \n",
      "       NO.  GLOBAL      1      2\n",
      "        1  0.99800   1.000 -0.998\n",
      "        2  0.99800  -0.998  1.000\n",
      " ERR MATRIX NOT POS-DEF\n",
      "[#1] INFO:Minization -- RooMinimizer::optimizeConst: deactivating const optimization\n"
     ]
    }
   ],
   "source": [
    "# high mass fit\n",
    "r = w.pdf(\"bkg_pdf\").fitTo(highMass_0tag_non_Higgs, rf.SumW2Error(ROOT.kTRUE), rf.Save())"
   ]
  },
  {
   "cell_type": "code",
   "execution_count": 20,
   "metadata": {
    "collapsed": false,
    "deletable": true,
    "editable": true,
    "scrolled": false
   },
   "outputs": [
    {
     "name": "stdout",
     "output_type": "stream",
     "text": [
      "[#1] INFO:InputArguments -- RooAbsData::plotOn(m_yy_highMass_0tag_tightIsolated_bkg_non_Higgs) INFO: dataset has non-integer weights, auto-selecting SumW2 errors instead of Poisson errors\n",
      "[#1] INFO:NumericIntegration -- RooRealIntegral::init(bkg_pdf_Int[myy]) using numeric integrator RooIntegrator1D to calculate Int(myy)\n"
     ]
    },
    {
     "data": {
      "image/png": "[encoded data removed]",
      "text/plain": [
       "<IPython.core.display.Image object>"
      ]
     },
     "metadata": {},
     "output_type": "display_data"
    }
   ],
   "source": [
    "c = ROOT.TCanvas()\n",
    "frame = myy.frame()\n",
    "highMass_0tag_non_Higgs.plotOn(frame)\n",
    "w.pdf(\"bkg_pdf\").plotOn(frame)\n",
    "w.pdf(\"bkg_pdf\").paramOn(frame)#,ROOT.RooFit.Layout(0.65,0.85,0.85),ROOT.RooFit.Parameters(ROOT.RooArgSet(w.var(\"a1\"),w.var(\"nbkg1\"))))\n",
    "frame.Draw()\n",
    "frame.SetTitle(\"High Mass Non-Higgs Background - 0 Tag\")\n",
    "c.Draw()"
   ]
  },
  {
   "cell_type": "code",
   "execution_count": 21,
   "metadata": {
    "collapsed": false,
    "deletable": true,
    "editable": true
   },
   "outputs": [
    {
     "data": {
      "text/plain": [
       "True"
      ]
     },
     "execution_count": 21,
     "metadata": {},
     "output_type": "execute_result"
    }
   ],
   "source": [
    "w.saveSnapshot(\"highmass_epoly2\",w.set(\"params_epoly2\"), ROOT.kTRUE)"
   ]
  },
  {
   "cell_type": "code",
   "execution_count": 22,
   "metadata": {
    "collapsed": false,
    "deletable": true,
    "editable": true
   },
   "outputs": [
    {
     "name": "stdout",
     "output_type": "stream",
     "text": [
      "\n",
      "RooWorkspace(w) w contents\n",
      "\n",
      "variables\n",
      "---------\n",
      "(a0,a1,a2,alphaHi_cb,alphaLo_cb,m0_cb,myy,nHi_cb,nLo_cb,sigma_cb)\n",
      "\n",
      "p.d.f.s\n",
      "-------\n",
      "RooExponential::bkg_pdf[ x=bkg_exponent c=1 ] = 0.364423\n",
      "HggTwoSidedCBPdf::dscb_pdf[ m=myy m0=m0_cb sigma=sigma_cb alphaLo=alphaLo_cb nLo=nLo_cb alphaHi=alphaHi_cb nHi=nHi_cb ] = 0.324652\n",
      "\n",
      "functions\n",
      "--------\n",
      "RooPolyVar::bkg_exponent[ x=myy coefList=(a0,a1,a2) ] = -1.00944\n",
      "\n",
      "parameter snapshots\n",
      "-------------------\n",
      "lowmass_epoly2 = (a1=-0.0429004 +/- 0.00951067,a2=6.35874e-05 +/- 3.65609e-05)\n",
      "highmass_epoly2 = (a1=-0.0154718 +/- 0.0238383,a2=2.31129e-06 +/- 9.08521e-05)\n",
      "\n",
      "named sets\n",
      "----------\n",
      "params_epoly2:(a1,a2)\n",
      "\n"
     ]
    }
   ],
   "source": [
    "w.Print()"
   ]
  },
  {
   "cell_type": "markdown",
   "metadata": {
    "deletable": true,
    "editable": true
   },
   "source": [
    "The cells below have been commented out. They tested the idea of doing a simultaneous fit in the high and low mass categories, which is of course a bad idea given that the two have different shapes."
   ]
  },
  {
   "cell_type": "code",
   "execution_count": 23,
   "metadata": {
    "collapsed": false,
    "deletable": true,
    "editable": true
   },
   "outputs": [],
   "source": [
    "# -- individual fit to single higgs bkg\n",
    "#w.pdf(\"dscb_pdf\").fitTo(dh_bkg_1H_0tag_lowmass, rf.SumW2Error(ROOT.kTRUE))"
   ]
  },
  {
   "cell_type": "code",
   "execution_count": 24,
   "metadata": {
    "collapsed": false,
    "deletable": true,
    "editable": true
   },
   "outputs": [],
   "source": [
    "#w.factory(\"tag0cat[tag0low,tag0high]\")"
   ]
  },
  {
   "cell_type": "code",
   "execution_count": 25,
   "metadata": {
    "collapsed": false,
    "deletable": true,
    "editable": true
   },
   "outputs": [],
   "source": [
    "# from copy import deepcopy\n",
    "# noH_0tag_combo = ROOT.RooDataHist(\"combData\", \"combined data\", ROOT.RooArgList(myy),\n",
    "#                             rf.Index(w.cat(\"tag0cat\")),\n",
    "#                             rf.Import(\"tag0low\", dh_bkg_noH_0tag_lowmass),\n",
    "#                             rf.Import(\"tag0high\", dh_bkg_noH_0tag_highmass))\n"
   ]
  },
  {
   "cell_type": "code",
   "execution_count": 26,
   "metadata": {
    "collapsed": false,
    "deletable": true,
    "editable": true
   },
   "outputs": [],
   "source": [
    "# #w.factory(\"SIMUL:noH_0tag_jointmodel(tag0cat,tag0low=bkg_pdf,tag0high=bkg_pdf)\")\n",
    "# w.factory(\"SIMUL:noH_0tag_jointmodel(\\\n",
    "#     tag0cat,\\\n",
    "#     tag0low = ExtendPdf:pdf_low(bkg_pdf, n_low[100, 0, 100000]),\\\n",
    "#     tag0high = ExtendPdf:pdf_high(bkg_pdf, n_high[100, 0, 100000]))\"\n",
    "# )\n",
    "# #ExtendPdf:pdf(gaus, nevt[100,0,100000])\n",
    "# # Simultaneous p.d.f.s are constructed with SIMUL( index, state1=pdf1, state2=pdf2,...)\n",
    "# # w->factory(\"SIMUL::smodel( c[A=0,B=1], A=Gaussian::gs(x,m,s[1]), B=Landau::ls(x,0,1) )\")"
   ]
  },
  {
   "cell_type": "code",
   "execution_count": 27,
   "metadata": {
    "collapsed": false,
    "deletable": true,
    "editable": true,
    "scrolled": true
   },
   "outputs": [],
   "source": [
    "# c1 = ROOT.TCanvas()\n",
    "# plot1 = myy.frame()\n",
    "# plot2 = myy.frame()\n",
    "\n",
    "# r = w.pdf(\"noH_0tag_jointmodel\").fitTo(noH_0tag_combo, rf.Save(), rf.SumW2Error(ROOT.kTRUE))\n",
    "# r.Print()\n",
    "\n",
    "# #dh_bkg_noH_0tag_lowmass.plotOn(plot1, rf.MarkerColor(ROOT.kRed))\n",
    "# noH_0tag_combo.plotOn(plot1, ROOT.RooFit.Cut(\"tag0cat==tag0cat::tag0low\"))\n",
    "# w.pdf(\"noH_0tag_jointmodel\").plotOn(plot1, rf.ProjWData(noH_0tag_combo), rf.Slice(w.cat(\"tag0cat\"),\"tag0low\"))\n",
    "\n",
    "# #dh_bkg_noH_0tag_highmass.plotOn(plot2)\n",
    "# noH_0tag_combo.plotOn(plot2, ROOT.RooFit.Cut(\"tag0cat==tag0cat::tag0high\"))\n",
    "# w.pdf(\"noH_0tag_jointmodel\").plotOn(plot2, rf.ProjWData(noH_0tag_combo), rf.Slice(w.cat(\"tag0cat\"),\"tag0high\"))"
   ]
  },
  {
   "cell_type": "code",
   "execution_count": 28,
   "metadata": {
    "collapsed": false,
    "deletable": true,
    "editable": true
   },
   "outputs": [],
   "source": [
    "# plot1.Draw()\n",
    "# c1.Draw()"
   ]
  },
  {
   "cell_type": "code",
   "execution_count": 29,
   "metadata": {
    "collapsed": false,
    "deletable": true,
    "editable": true
   },
   "outputs": [],
   "source": [
    "# plot2.Draw()\n",
    "# c1.Draw()"
   ]
  },
  {
   "cell_type": "code",
   "execution_count": 30,
   "metadata": {
    "collapsed": true,
    "deletable": true,
    "editable": true
   },
   "outputs": [],
   "source": [
    "# --> conclusion: fit high and low mass separately, not simultaneously"
   ]
  },
  {
   "cell_type": "code",
   "execution_count": 31,
   "metadata": {
    "collapsed": false,
    "deletable": true,
    "editable": true
   },
   "outputs": [],
   "source": [
    "# # -- generate fake data and re-fit it\n",
    "# data = w.pdf(\"noH_0tag_jointmodel\").generate(ROOT.RooArgSet(myy,w.cat(\"tag0cat\")))\n",
    "# data.SetName(\"data\")\n",
    "# getattr(w,'import')(data)\n",
    "# data.Print()"
   ]
  },
  {
   "cell_type": "code",
   "execution_count": 32,
   "metadata": {
    "collapsed": false,
    "deletable": true,
    "editable": true,
    "scrolled": false
   },
   "outputs": [],
   "source": [
    "# c = ROOT.TCanvas()\n",
    "# plot1 = myy.frame(ROOT.RooFit.Title(\"Channel 1\"))\n",
    "# plot2 = myy.frame(ROOT.RooFit.Title(\"Channel 2\"))\n",
    "# data.plotOn(plot1,ROOT.RooFit.Cut(\"tag0cat==tag0cat::tag0low\"))\n",
    "# data.plotOn(plot2,ROOT.RooFit.Cut(\"tag0cat==tag0cat::tag0high\"))\n",
    "# r = w.pdf(\"noH_0tag_jointmodel\").fitTo(data, rf.SumW2Error(ROOT.kTRUE), rf.Save())\n",
    "# w.pdf(\"noH_0tag_jointmodel\").plotOn(plot1,ROOT.RooFit.ProjWData(data),ROOT.RooFit.Slice(w.cat(\"tag0cat\"),\"tag0low\"))\n",
    "# w.pdf(\"noH_0tag_jointmodel\").plotOn(plot2,ROOT.RooFit.ProjWData(data),ROOT.RooFit.Slice(w.cat(\"tag0cat\"),\"tag0high\"))\n",
    "# c.Divide(1,2)\n",
    "# c.cd(1)\n",
    "# plot1.Draw()\n",
    "# c.cd(2)\n",
    "# plot2.Draw()\n",
    "# c.Draw()"
   ]
  },
  {
   "cell_type": "markdown",
   "metadata": {
    "deletable": true,
    "editable": true
   },
   "source": [
    "Check how well these fit the 1 and 2 tag categories:"
   ]
  },
  {
   "cell_type": "code",
   "execution_count": 33,
   "metadata": {
    "collapsed": false,
    "deletable": true,
    "editable": true
   },
   "outputs": [
    {
     "name": "stdout",
     "output_type": "stream",
     "text": [
      "[#1] INFO:InputArguments -- RooAbsData::plotOn(m_yy_highMass_1tag_tightIsolated_bkg_non_Higgs) INFO: dataset has non-integer weights, auto-selecting SumW2 errors instead of Poisson errors\n",
      "[#1] INFO:NumericIntegration -- RooRealIntegral::init(bkg_pdf_Int[myy]) using numeric integrator RooIntegrator1D to calculate Int(myy)\n",
      "[#1] INFO:InputArguments -- RooAbsData::plotOn(m_yy_highMass_2tag_tightIsolated_bkg_non_Higgs) INFO: dataset has non-integer weights, auto-selecting SumW2 errors instead of Poisson errors\n",
      "[#1] INFO:NumericIntegration -- RooRealIntegral::init(bkg_pdf_Int[myy]) using numeric integrator RooIntegrator1D to calculate Int(myy)\n"
     ]
    },
    {
     "data": {
      "image/png": "[encoded data removed]",
      "text/plain": [
       "<IPython.core.display.Image object>"
      ]
     },
     "metadata": {},
     "output_type": "display_data"
    },
    {
     "data": {
      "image/png": "[encoded data removed]",
      "text/plain": [
       "<IPython.core.display.Image object>"
      ]
     },
     "metadata": {},
     "output_type": "display_data"
    }
   ],
   "source": [
    "# -- high mass (keep a1 and a2 values we just found)\n",
    "c = ROOT.TCanvas()\n",
    "frame = myy.frame()\n",
    "highMass_1tag_non_Higgs.plotOn(frame)\n",
    "w.pdf(\"bkg_pdf\").plotOn(frame)\n",
    "w.pdf(\"bkg_pdf\").paramOn(frame)#,ROOT.RooFit.Layout(0.65,0.85,0.85),ROOT.RooFit.Parameters(ROOT.RooArgSet(w.var(\"a1\"),w.var(\"nbkg1\"))))\n",
    "frame.Draw()\n",
    "frame.SetTitle(\"High Mass Non-Higgs Background - 1 Tag\")\n",
    "c.Draw()\n",
    "c1 = ROOT.TCanvas()\n",
    "frame = myy.frame()\n",
    "highMass_2tag_non_Higgs.plotOn(frame)\n",
    "w.pdf(\"bkg_pdf\").plotOn(frame)\n",
    "w.pdf(\"bkg_pdf\").paramOn(frame)#,ROOT.RooFit.Layout(0.65,0.85,0.85),ROOT.RooFit.Parameters(ROOT.RooArgSet(w.var(\"a1\"),w.var(\"nbkg1\"))))\n",
    "frame.Draw()\n",
    "frame.SetTitle(\"High Mass Non-Higgs Background - 2 Tag\")\n",
    "c1.Draw()"
   ]
  },
  {
   "cell_type": "code",
   "execution_count": 34,
   "metadata": {
    "collapsed": false,
    "deletable": true,
    "editable": true
   },
   "outputs": [
    {
     "name": "stdout",
     "output_type": "stream",
     "text": [
      "[#1] INFO:InputArguments -- RooAbsData::plotOn(m_yy_lowMass_1tag_tightIsolated_bkg_non_Higgs) INFO: dataset has non-integer weights, auto-selecting SumW2 errors instead of Poisson errors\n",
      "[#1] INFO:NumericIntegration -- RooRealIntegral::init(bkg_pdf_Int[myy]) using numeric integrator RooIntegrator1D to calculate Int(myy)\n",
      "[#1] INFO:InputArguments -- RooAbsData::plotOn(m_yy_lowMass_2tag_tightIsolated_bkg_non_Higgs) INFO: dataset has non-integer weights, auto-selecting SumW2 errors instead of Poisson errors\n",
      "[#1] INFO:NumericIntegration -- RooRealIntegral::init(bkg_pdf_Int[myy]) using numeric integrator RooIntegrator1D to calculate Int(myy)\n"
     ]
    },
    {
     "data": {
      "image/png": "[encoded data removed]",
      "text/plain": [
       "<IPython.core.display.Image object>"
      ]
     },
     "metadata": {},
     "output_type": "display_data"
    },
    {
     "data": {
      "image/png": "[encoded data removed]",
      "text/plain": [
       "<IPython.core.display.Image object>"
      ]
     },
     "metadata": {},
     "output_type": "display_data"
    }
   ],
   "source": [
    "# -- low mass (restore previous snapshot)\n",
    "w.loadSnapshot(\"lowmass_epoly2\")\n",
    "c = ROOT.TCanvas()\n",
    "frame = myy.frame()\n",
    "lowMass_1tag_non_Higgs.plotOn(frame)\n",
    "w.pdf(\"bkg_pdf\").plotOn(frame)\n",
    "w.pdf(\"bkg_pdf\").paramOn(frame)#,ROOT.RooFit.Layout(0.65,0.85,0.85),ROOT.RooFit.Parameters(ROOT.RooArgSet(w.var(\"a1\"),w.var(\"nbkg1\"))))\n",
    "frame.Draw()\n",
    "frame.SetTitle(\"Low Mass Non-Higgs Background - 1 Tag\")\n",
    "c.Draw()\n",
    "c1 = ROOT.TCanvas()\n",
    "frame = myy.frame()\n",
    "lowMass_2tag_non_Higgs.plotOn(frame)\n",
    "w.pdf(\"bkg_pdf\").plotOn(frame)\n",
    "w.pdf(\"bkg_pdf\").paramOn(frame)#,ROOT.RooFit.Layout(0.65,0.85,0.85),ROOT.RooFit.Parameters(ROOT.RooArgSet(w.var(\"a1\"),w.var(\"nbkg1\"))))\n",
    "frame.Draw()\n",
    "frame.SetTitle(\"Low Mass Non-Higgs Background - 2 Tag\")\n",
    "c1.Draw()"
   ]
  },
  {
   "cell_type": "markdown",
   "metadata": {
    "deletable": true,
    "editable": true
   },
   "source": [
    "These look less than ideal. How can we quantify this?"
   ]
  },
  {
   "cell_type": "markdown",
   "metadata": {
    "deletable": true,
    "editable": true
   },
   "source": [
    "Do the same for the DSCB function that represents the single-Higgs background. Fit it in the 0 tag category (high mass and low mass separately) and then check how that fits the 1 and 2 tag categories. The difference here is that we will only fix the $\\alpha$ and $n$ parameters, while we we let $m_0$ and $\\sigma$ float with every fit."
   ]
  },
  {
   "cell_type": "code",
   "execution_count": 35,
   "metadata": {
    "collapsed": false,
    "deletable": true,
    "editable": true
   },
   "outputs": [
    {
     "name": "stdout",
     "output_type": "stream",
     "text": [
      "[#1] INFO:Minization -- RooMinimizer::optimizeConst: activating const optimization\n",
      " **********\n",
      " **    1 **SET PRINT           1\n",
      " **********\n",
      " **********\n",
      " **    2 **SET NOGRAD\n",
      " **********\n",
      " PARAMETER DEFINITIONS:\n",
      "    NO.   NAME         VALUE      STEP SIZE      LIMITS\n",
      "     1 alphaHi_cb   2.50000e+00  5.00000e-01    0.00000e+00  5.00000e+00\n",
      "     2 alphaLo_cb   2.50000e+00  5.00000e-01    0.00000e+00  5.00000e+00\n",
      "     3 m0_cb        1.25000e+02  5.50000e+00    1.05000e+02  1.60000e+02\n",
      "     4 nHi_cb       5.00000e+00  1.00000e+00    0.00000e+00  1.00000e+01\n",
      "     5 nLo_cb       5.00000e+00  1.00000e+00    0.00000e+00  1.00000e+01\n",
      "     6 sigma_cb     5.00000e+00  2.00000e+00    0.00000e+00  2.00000e+01\n",
      " **********\n",
      " **    3 **SET ERR         0.5\n",
      " **********\n",
      " **********\n",
      " **    4 **SET PRINT           1\n",
      " **********\n",
      " **********\n",
      " **    5 **SET STR           1\n",
      " **********\n",
      " NOW USING STRATEGY  1: TRY TO BALANCE SPEED AGAINST RELIABILITY\n",
      " **********\n",
      " **    6 **MIGRAD        3000           1\n",
      " **********\n",
      " FIRST CALL TO USER FUNCTION AT NEW START POINT, WITH IFLAG=4.\n",
      " START MIGRAD MINIMIZATION.  STRATEGY  1.  CONVERGENCE WHEN EDM .LT. 1.00e-03\n",
      " FCN=150.956 FROM MIGRAD    STATUS=INITIATE       74 CALLS          75 TOTAL\n",
      "                     EDM= unknown      STRATEGY= 1      NO ERROR MATRIX       \n",
      "  EXT PARAMETER               CURRENT GUESS       STEP         FIRST   \n",
      "  NO.   NAME      VALUE            ERROR          SIZE      DERIVATIVE \n",
      "   1  alphaHi_cb   2.50000e+00   5.00000e-01   0.00000e+00   6.66069e-01\n",
      "   2  alphaLo_cb   2.50000e+00   5.00000e-01   0.00000e+00   1.30876e+00\n",
      "   3  m0_cb        1.25000e+02   5.50000e+00   0.00000e+00  -5.32499e+00\n",
      "   4  nHi_cb       5.00000e+00   1.00000e+00   0.00000e+00   7.50284e-02\n",
      "   5  nLo_cb       2.53328e+00   1.00000e+00  -5.15931e-01   7.53276e-02\n",
      "   6  sigma_cb     2.05687e+00   2.00000e+00   0.00000e+00   1.19287e+01\n",
      "                               ERR DEF= 0.5\n",
      " MIGRAD MINIMIZATION HAS CONVERGED.\n",
      " MIGRAD WILL VERIFY CONVERGENCE AND ERROR MATRIX.\n",
      " COVARIANCE MATRIX CALCULATED SUCCESSFULLY\n",
      " FCN=150.732 FROM MIGRAD    STATUS=CONVERGED     222 CALLS         223 TOTAL\n",
      "                     EDM=1.30474e-05    STRATEGY= 1      ERROR MATRIX ACCURATE \n",
      "  EXT PARAMETER                                   STEP         FIRST   \n",
      "  NO.   NAME      VALUE            ERROR          SIZE      DERIVATIVE \n",
      "   1  alphaHi_cb   2.32694e+00   8.79964e-01   2.20187e-03   5.73673e-03\n",
      "   2  alphaLo_cb   2.16478e+00   7.51938e-01   1.69566e-03  -1.03532e-02\n",
      "   3  m0_cb        1.25013e+02   2.41709e-01   7.71822e-05  -1.22117e-01\n",
      "   4  nHi_cb       4.16611e+00   6.80447e+00   1.13927e-02  -1.57077e-05\n",
      "   5  nLo_cb       3.59579e+00   6.74759e+00   7.62115e-03  -2.44724e-03\n",
      "   6  sigma_cb     1.96760e+00   1.84900e-01   2.54505e-04  -3.43312e-02\n",
      "                               ERR DEF= 0.5\n",
      " EXTERNAL ERROR MATRIX.    NDIM=  25    NPAR=  6    ERR DEF=0.5\n",
      "  8.088e-01  1.915e-03  1.117e-03 -5.768e+00  6.001e-03  6.670e-04 \n",
      "  1.915e-03  5.837e-01  3.637e-03 -3.832e-02 -4.126e+00 -7.653e-03 \n",
      "  1.117e-03  3.637e-03  5.842e-02  9.295e-02 -1.174e-01 -6.117e-04 \n",
      " -5.768e+00 -3.832e-02  9.295e-02  8.589e+01  1.224e+00  2.104e-01 \n",
      "  6.001e-03 -4.126e+00 -1.174e-01  1.224e+00  5.092e+01  2.285e-01 \n",
      "  6.670e-04 -7.653e-03 -6.117e-04  2.104e-01  2.285e-01  3.420e-02 \n",
      " PARAMETER  CORRELATION COEFFICIENTS  \n",
      "       NO.  GLOBAL      1      2      3      4      5      6\n",
      "        1  0.69872   1.000  0.003  0.005 -0.692  0.001  0.004\n",
      "        2  0.76147   0.003  1.000  0.020 -0.005 -0.757 -0.054\n",
      "        3  0.10658   0.005  0.020  1.000  0.041 -0.068 -0.014\n",
      "        4  0.70487  -0.692 -0.005  0.041  1.000  0.019  0.123\n",
      "        5  0.77000   0.001 -0.757 -0.068  0.019  1.000  0.173\n",
      "        6  0.26766   0.004 -0.054 -0.014  0.123  0.173  1.000\n",
      " **********\n",
      " **    7 **SET ERR         0.5\n",
      " **********\n",
      " **********\n",
      " **    8 **SET PRINT           1\n",
      " **********\n",
      " **********\n",
      " **    9 **HESSE        3000\n",
      " **********\n",
      " COVARIANCE MATRIX CALCULATED SUCCESSFULLY\n",
      " FCN=150.732 FROM HESSE     STATUS=OK             40 CALLS         263 TOTAL\n",
      "                     EDM=1.32847e-05    STRATEGY= 1      ERROR MATRIX ACCURATE \n",
      "  EXT PARAMETER                                INTERNAL      INTERNAL  \n",
      "  NO.   NAME      VALUE            ERROR       STEP SIZE       VALUE   \n",
      "   1  alphaHi_cb   2.32694e+00   9.00735e-01   4.40375e-04  -6.92778e-02\n",
      "   2  alphaLo_cb   2.16478e+00   7.66845e-01   3.39133e-04  -1.34491e-01\n",
      "   3  m0_cb        1.25013e+02   2.41734e-01   1.54364e-05  -2.75741e-01\n",
      "   4  nHi_cb       4.16611e+00   6.74763e+00   4.55710e-04  -1.67562e-01\n",
      "   5  nLo_cb       3.59579e+00   6.73100e+00   1.52423e-03  -2.84671e-01\n",
      "   6  sigma_cb     1.96760e+00   1.85033e-01   5.09009e-05  -9.32715e-01\n",
      "                               ERR DEF= 0.5\n",
      " EXTERNAL ERROR MATRIX.    NDIM=  25    NPAR=  6    ERR DEF=0.5\n",
      "  8.493e-01  2.180e-03  6.777e-04 -6.215e+00 -1.786e-04 -3.497e-04 \n",
      "  2.180e-03  6.079e-01  4.147e-03 -4.598e-02 -4.361e+00 -8.663e-03 \n",
      "  6.777e-04  4.147e-03  5.844e-02  9.650e-02 -1.219e-01 -6.513e-04 \n",
      " -6.215e+00 -4.598e-02  9.650e-02  9.027e+01  1.324e+00  2.196e-01 \n",
      " -1.786e-04 -4.361e+00 -1.219e-01  1.324e+00  5.306e+01  2.373e-01 \n",
      " -3.497e-04 -8.663e-03 -6.513e-04  2.196e-01  2.373e-01  3.425e-02 \n",
      " PARAMETER  CORRELATION COEFFICIENTS  \n",
      "       NO.  GLOBAL      1      2      3      4      5      6\n",
      "        1  0.71596   1.000  0.003  0.003 -0.710 -0.000 -0.002\n",
      "        2  0.77236   0.003  1.000  0.022 -0.006 -0.768 -0.060\n",
      "        3  0.10752   0.003  0.022  1.000  0.042 -0.069 -0.015\n",
      "        4  0.72189  -0.710 -0.006  0.042  1.000  0.019  0.125\n",
      "        5  0.78054  -0.000 -0.768 -0.069  0.019  1.000  0.176\n",
      "        6  0.27013  -0.002 -0.060 -0.015  0.125  0.176  1.000\n",
      "[#1] INFO:Fitting -- RooAbsPdf::fitTo(dscb_pdf) Calculating sum-of-weights-squared correction matrix for covariance matrix\n",
      " **********\n",
      " **   10 **SET ERR         0.5\n",
      " **********\n",
      " **********\n",
      " **   11 **SET PRINT           1\n",
      " **********\n",
      " **********\n",
      " **   12 **HESSE        3000\n",
      " **********\n",
      " COVARIANCE MATRIX CALCULATED SUCCESSFULLY\n",
      " FCN=0.424829 FROM HESSE     STATUS=OK             54 CALLS         317 TOTAL\n",
      "                     EDM=0.000368542    STRATEGY= 1      ERROR MATRIX ACCURATE \n",
      "  EXT PARAMETER                                INTERNAL      INTERNAL  \n",
      "  NO.   NAME      VALUE            ERROR       STEP SIZE       VALUE   \n",
      "   1  alphaHi_cb   2.32694e+00   2.92201e+00   8.98364e-03  -6.92778e-02\n",
      "   2  alphaLo_cb   2.16478e+00   3.44422e+00   6.91830e-03  -1.34491e-01\n",
      "   3  m0_cb        1.25013e+02   4.57436e+00   3.14903e-04  -2.75741e-01\n",
      "   4  nHi_cb       4.16611e+00   7.21702e+00   9.29648e-03  -1.67562e-01\n",
      "   5  nLo_cb       3.59579e+00   6.79302e+00   3.10943e-02  -2.84671e-01\n",
      "   6  sigma_cb     1.96760e+00   3.22497e+00   1.03838e-03  -9.32715e-01\n",
      "                               ERR DEF= 0.5\n",
      " EXTERNAL ERROR MATRIX.    NDIM=  25    NPAR=  6    ERR DEF=0.5\n",
      "  2.737e+02  5.160e-01  8.496e-01 -1.872e+03  7.736e+00  1.276e+00 \n",
      "  5.160e-01  1.842e+02  6.858e-01 -6.530e+00 -1.231e+03 -1.437e+00 \n",
      "  8.496e-01  6.858e-01  2.114e+01  4.043e+01 -3.830e+01 -1.012e-01 \n",
      " -1.872e+03 -6.530e+00  4.043e+01  3.010e+04  4.111e+02  7.898e+01 \n",
      "  7.736e+00 -1.231e+03 -3.830e+01  4.111e+02  1.615e+04  7.056e+01 \n",
      "  1.276e+00 -1.437e+00 -1.012e-01  7.898e+01  7.056e+01  1.161e+01 \n",
      " PARAMETER  CORRELATION COEFFICIENTS  \n",
      "       NO.  GLOBAL      1      2      3      4      5      6\n",
      "        1  0.66313   1.000  0.002  0.011 -0.652  0.004  0.023\n",
      "        2  0.71982   0.002  1.000  0.011 -0.003 -0.714 -0.031\n",
      "        3  0.11584   0.011  0.011  1.000  0.051 -0.066 -0.006\n",
      "        4  0.67147  -0.652 -0.003  0.051  1.000  0.019  0.134\n",
      "        5  0.72968   0.004 -0.714 -0.066  0.019  1.000  0.163\n",
      "        6  0.27789   0.023 -0.031 -0.006  0.134  0.163  1.000\n",
      "[#1] INFO:Minization -- RooMinimizer::optimizeConst: deactivating const optimization\n"
     ]
    }
   ],
   "source": [
    "# low mass fit\n",
    "r = w.pdf(\"dscb_pdf\").fitTo(lowMass_0tag_single_Higgs, rf.SumW2Error(ROOT.kTRUE), rf.Save())"
   ]
  },
  {
   "cell_type": "code",
   "execution_count": 36,
   "metadata": {
    "collapsed": false,
    "deletable": true,
    "editable": true
   },
   "outputs": [
    {
     "name": "stdout",
     "output_type": "stream",
     "text": [
      "[#1] INFO:InputArguments -- RooAbsData::plotOn(m_yy_lowMass_0tag_tightIsolated_bkg_single_Higgs) INFO: dataset has non-integer weights, auto-selecting SumW2 errors instead of Poisson errors\n"
     ]
    },
    {
     "data": {
      "image/png": "[encoded data removed]",
      "text/plain": [
       "<IPython.core.display.Image object>"
      ]
     },
     "metadata": {},
     "output_type": "display_data"
    }
   ],
   "source": [
    "c = ROOT.TCanvas()\n",
    "frame = myy.frame()\n",
    "lowMass_0tag_single_Higgs.plotOn(frame)\n",
    "w.pdf(\"dscb_pdf\").plotOn(frame)\n",
    "w.pdf(\"dscb_pdf\").paramOn(frame)\n",
    "frame.Draw()\n",
    "frame.SetTitle(\"Low Mass Single-Higgs Background - 0 Tag\")\n",
    "c.Draw()"
   ]
  },
  {
   "cell_type": "code",
   "execution_count": 37,
   "metadata": {
    "collapsed": false,
    "deletable": true,
    "editable": true
   },
   "outputs": [
    {
     "data": {
      "text/plain": [
       "True"
      ]
     },
     "execution_count": 37,
     "metadata": {},
     "output_type": "execute_result"
    }
   ],
   "source": [
    "w.defineSet(\"params_dscb\", \"alphaHi_cb,alphaLo_cb,nHi_cb,nLo_cb\")\n",
    "w.saveSnapshot(\"lowmass_cb\", w.set(\"params_dscb\"))"
   ]
  },
  {
   "cell_type": "code",
   "execution_count": 38,
   "metadata": {
    "collapsed": false,
    "deletable": true,
    "editable": true
   },
   "outputs": [
    {
     "data": {
      "text/plain": [
       "<ROOT.RooFitResult object (\"fitresult_dscb_pdf_m_yy_highMass_0tag_tightIsolated_bkg_single_Higgs\") at 0x7fc4a069e950>"
      ]
     },
     "execution_count": 38,
     "metadata": {},
     "output_type": "execute_result"
    },
    {
     "name": "stdout",
     "output_type": "stream",
     "text": [
      "[#1] INFO:Minization -- RooMinimizer::optimizeConst: activating const optimization\n",
      " **********\n",
      " **   13 **SET PRINT           1\n",
      " **********\n",
      " **********\n",
      " **   14 **SET NOGRAD\n",
      " **********\n",
      " PARAMETER DEFINITIONS:\n",
      "    NO.   NAME         VALUE      STEP SIZE      LIMITS\n",
      "     1 alphaHi_cb   2.32694e+00  5.14366e-02    0.00000e+00  5.00000e+00\n",
      "     2 alphaLo_cb   2.16478e+00  4.49161e-02    0.00000e+00  5.00000e+00\n",
      "     3 m0_cb        1.25013e+02  1.27139e-02    1.05000e+02  1.60000e+02\n",
      "     4 nHi_cb       4.16611e+00  5.22503e-01    0.00000e+00  1.00000e+01\n",
      "     5 nLo_cb       3.59579e+00  4.18940e-01    0.00000e+00  1.00000e+01\n",
      "     6 sigma_cb     1.96760e+00  1.00634e-02    0.00000e+00  2.00000e+01\n",
      " **********\n",
      " **   15 **SET ERR         0.5\n",
      " **********\n",
      " **********\n",
      " **   16 **SET PRINT           1\n",
      " **********\n",
      " **********\n",
      " **   17 **SET STR           1\n",
      " **********\n",
      " NOW USING STRATEGY  1: TRY TO BALANCE SPEED AGAINST RELIABILITY\n",
      " **********\n",
      " **   18 **MIGRAD        3000           1\n",
      " **********\n",
      " FIRST CALL TO USER FUNCTION AT NEW START POINT, WITH IFLAG=4.\n",
      " START MIGRAD MINIMIZATION.  STRATEGY  1.  CONVERGENCE WHEN EDM .LT. 1.00e-03\n",
      " FCN=23.2219 FROM MIGRAD    STATUS=INITIATE       24 CALLS          25 TOTAL\n",
      "                     EDM= unknown      STRATEGY= 1      NO ERROR MATRIX       \n",
      "  EXT PARAMETER               CURRENT GUESS       STEP         FIRST   \n",
      "  NO.   NAME      VALUE            ERROR          SIZE      DERIVATIVE \n",
      "   1  alphaHi_cb   2.32694e+00   5.14366e-02   2.06256e-02  -1.07820e-01\n",
      "   2  alphaLo_cb   2.16478e+00   4.49161e-02   1.81312e-02  -7.54843e-02\n",
      "   3  m0_cb        1.25013e+02   1.27139e-02   4.80475e-04   2.45283e+00\n",
      "   4  nHi_cb       4.16611e+00   5.22503e-01   1.06202e-01  -1.40019e-02\n",
      "   5  nLo_cb       3.59579e+00   4.18940e-01   8.74417e-02   5.56692e-03\n",
      "   6  sigma_cb     1.96760e+00   1.00634e-02   1.68947e-03   3.94279e+00\n",
      "                               ERR DEF= 0.5\n",
      " MIGRAD MINIMIZATION HAS CONVERGED.\n",
      " MIGRAD WILL VERIFY CONVERGENCE AND ERROR MATRIX.\n",
      " COVARIANCE MATRIX CALCULATED SUCCESSFULLY\n",
      " FCN=23.1655 FROM MIGRAD    STATUS=CONVERGED     130 CALLS         131 TOTAL\n",
      "                     EDM=0.000131858    STRATEGY= 1      ERROR MATRIX ACCURATE \n",
      "  EXT PARAMETER                                   STEP         FIRST   \n",
      "  NO.   NAME      VALUE            ERROR          SIZE      DERIVATIVE \n",
      "   1  alphaHi_cb   2.45231e+00   2.06599e+00   2.07257e-03  -3.14678e-03\n",
      "   2  alphaLo_cb   2.35701e+00   1.77596e+00   1.55378e-03  -9.35495e-03\n",
      "   3  m0_cb        1.24984e+02   5.59714e-01   7.07202e-05  -2.15003e-02\n",
      "   4  nHi_cb       3.43126e+00   8.04801e+00   8.44008e-03   1.78828e-03\n",
      "   5  nLo_cb       2.15038e+00   5.58402e+00   4.85974e-03  -3.34505e-03\n",
      "   6  sigma_cb     1.82905e+00   4.19250e-01   2.37968e-04   5.70113e-02\n",
      "                               ERR DEF= 0.5\n",
      " EXTERNAL ERROR MATRIX.    NDIM=  25    NPAR=  6    ERR DEF=0.5\n",
      "  5.914e+00  1.655e-02 -7.524e-03 -3.300e+01 -4.699e-02 -2.266e-02 \n",
      "  1.655e-02  3.905e+00  2.511e-02 -2.172e-01 -1.426e+01 -5.184e-02 \n",
      " -7.524e-03  2.511e-02  3.133e-01  3.963e-01 -2.527e-01 -2.008e-03 \n",
      " -3.300e+01 -2.172e-01  3.963e-01  3.525e+02  2.145e+00  8.878e-01 \n",
      " -4.699e-02 -1.426e+01 -2.527e-01  2.145e+00  8.112e+01  4.869e-01 \n",
      " -2.266e-02 -5.184e-02 -2.008e-03  8.878e-01  4.869e-01  1.761e-01 \n",
      " PARAMETER  CORRELATION COEFFICIENTS  \n",
      "       NO.  GLOBAL      1      2      3      4      5      6\n",
      "        1  0.72560   1.000  0.003 -0.006 -0.723 -0.002 -0.022\n",
      "        2  0.80240   0.003  1.000  0.023 -0.006 -0.801 -0.063\n",
      "        3  0.07710  -0.006  0.023  1.000  0.038 -0.050 -0.009\n",
      "        4  0.73004  -0.723 -0.006  0.038  1.000  0.013  0.113\n",
      "        5  0.80564  -0.002 -0.801 -0.050  0.013  1.000  0.129\n",
      "        6  0.20122  -0.022 -0.063 -0.009  0.113  0.129  1.000\n",
      " **********\n",
      " **   19 **SET ERR         0.5\n",
      " **********\n",
      " **********\n",
      " **   20 **SET PRINT           1\n",
      " **********\n",
      " **********\n",
      " **   21 **HESSE        3000\n",
      " **********\n",
      " COVARIANCE MATRIX CALCULATED SUCCESSFULLY\n",
      " FCN=23.1655 FROM HESSE     STATUS=OK             40 CALLS         171 TOTAL\n",
      "                     EDM=0.00013692    STRATEGY= 1      ERROR MATRIX ACCURATE \n",
      "  EXT PARAMETER                                INTERNAL      INTERNAL  \n",
      "  NO.   NAME      VALUE            ERROR       STEP SIZE       VALUE   \n",
      "   1  alphaHi_cb   2.45231e+00   2.09605e+00   4.14513e-04  -1.90775e-02\n",
      "   2  alphaLo_cb   2.35701e+00   1.80714e+00   3.10757e-04  -5.72257e-02\n",
      "   3  m0_cb        1.24984e+02   5.59750e-01   1.41440e-05  -2.76828e-01\n",
      "   4  nHi_cb       3.43126e+00   8.13347e+00   1.68802e-03  -3.19138e-01\n",
      "   5  nLo_cb       2.15038e+00   5.70223e+00   9.71948e-04  -6.06413e-01\n",
      "   6  sigma_cb     1.82905e+00   4.19431e-01   4.75935e-05  -9.56354e-01\n",
      "                               ERR DEF= 0.5\n",
      " EXTERNAL ERROR MATRIX.    NDIM=  25    NPAR=  6    ERR DEF=0.5\n",
      "  6.181e+00  1.879e-02 -9.720e-03 -3.518e+01 -6.224e-02 -2.772e-02 \n",
      "  1.879e-02  4.084e+00  2.748e-02 -2.477e-01 -1.509e+01 -5.637e-02 \n",
      " -9.720e-03  2.748e-02  3.134e-01  4.103e-01 -2.630e-01 -2.173e-03 \n",
      " -3.518e+01 -2.477e-01  4.103e-01  3.686e+02  2.312e+00  9.225e-01 \n",
      " -6.224e-02 -1.509e+01 -2.630e-01  2.312e+00  8.484e+01  5.059e-01 \n",
      " -2.772e-02 -5.637e-02 -2.173e-03  9.225e-01  5.059e-01  1.762e-01 \n",
      " PARAMETER  CORRELATION COEFFICIENTS  \n",
      "       NO.  GLOBAL      1      2      3      4      5      6\n",
      "        1  0.73955   1.000  0.004 -0.007 -0.737 -0.003 -0.027\n",
      "        2  0.81207   0.004  1.000  0.024 -0.006 -0.811 -0.066\n",
      "        3  0.07792  -0.007  0.024  1.000  0.038 -0.051 -0.009\n",
      "        4  0.74379  -0.737 -0.006  0.038  1.000  0.013  0.114\n",
      "        5  0.81514  -0.003 -0.811 -0.051  0.013  1.000  0.131\n",
      "        6  0.20328  -0.027 -0.066 -0.009  0.114  0.131  1.000\n",
      "[#1] INFO:Fitting -- RooAbsPdf::fitTo(dscb_pdf) Calculating sum-of-weights-squared correction matrix for covariance matrix\n",
      " **********\n",
      " **   22 **SET ERR         0.5\n",
      " **********\n",
      " **********\n",
      " **   23 **SET PRINT           1\n",
      " **********\n",
      " **********\n",
      " **   24 **HESSE        3000\n",
      " **********\n",
      " COVARIANCE MATRIX CALCULATED SUCCESSFULLY\n",
      " FCN=0.0538759 FROM HESSE     STATUS=OK             54 CALLS         225 TOTAL\n",
      "                     EDM=0.000109412    STRATEGY= 1      ERROR MATRIX ACCURATE \n",
      "  EXT PARAMETER                                INTERNAL      INTERNAL  \n",
      "  NO.   NAME      VALUE            ERROR       STEP SIZE       VALUE   \n",
      "   1  alphaHi_cb   2.45231e+00   2.72939e+00   8.45607e-03  -1.90775e-02\n",
      "   2  alphaLo_cb   2.35701e+00   3.21881e+00   6.33944e-03  -5.72257e-02\n",
      "   3  m0_cb        1.24984e+02   1.13341e+01   2.88539e-04  -2.76828e-01\n",
      "   4  nHi_cb       3.43126e+00   6.47144e+00   3.44355e-02  -3.19138e-01\n",
      "   5  nLo_cb       2.15038e+00   8.64180e+00   1.98277e-02  -6.06413e-01\n",
      "   6  sigma_cb     1.82905e+00   1.09346e+01   9.70908e-04  -9.56354e-01\n",
      "                               ERR DEF= 0.5\n",
      " EXTERNAL ERROR MATRIX.    NDIM=  25    NPAR=  6    ERR DEF=0.5\n",
      "  2.177e+03  3.327e+00  1.286e+00 -1.097e+04  9.316e+00  1.178e+00 \n",
      "  3.327e+00  2.074e+03  2.101e+01 -2.145e+02 -8.527e+03 -5.270e+01 \n",
      "  1.286e+00  2.101e+01  1.372e+02  1.707e+02 -1.607e+02 -1.092e+00 \n",
      " -1.097e+04 -2.145e+02  1.707e+02  1.309e+05  1.566e+03  3.537e+02 \n",
      "  9.316e+00 -8.527e+03 -1.607e+02  1.566e+03  4.902e+04  3.729e+02 \n",
      "  1.178e+00 -5.270e+01 -1.092e+00  3.537e+02  3.729e+02  7.512e+01 \n",
      " PARAMETER  CORRELATION COEFFICIENTS  \n",
      "       NO.  GLOBAL      1      2      3      4      5      6\n",
      "        1  0.65496   1.000  0.002  0.002 -0.650  0.001  0.003\n",
      "        2  0.84629   0.002  1.000  0.039 -0.013 -0.846 -0.133\n",
      "        3  0.08787   0.002  0.039  1.000  0.040 -0.062 -0.011\n",
      "        4  0.66121  -0.650 -0.013  0.040  1.000  0.020  0.113\n",
      "        5  0.85005   0.001 -0.846 -0.062  0.020  1.000  0.194\n",
      "        6  0.24934   0.003 -0.133 -0.011  0.113  0.194  1.000\n",
      "[#1] INFO:Minization -- RooMinimizer::optimizeConst: deactivating const optimization\n"
     ]
    }
   ],
   "source": [
    "w.pdf(\"dscb_pdf\").fitTo(highMass_0tag_single_Higgs, rf.SumW2Error(ROOT.kTRUE), rf.Save())"
   ]
  },
  {
   "cell_type": "code",
   "execution_count": 39,
   "metadata": {
    "collapsed": false,
    "deletable": true,
    "editable": true
   },
   "outputs": [
    {
     "name": "stdout",
     "output_type": "stream",
     "text": [
      "[#1] INFO:InputArguments -- RooAbsData::plotOn(m_yy_highMass_0tag_tightIsolated_bkg_single_Higgs) INFO: dataset has non-integer weights, auto-selecting SumW2 errors instead of Poisson errors\n"
     ]
    },
    {
     "data": {
      "image/png": "[encoded data removed]",
      "text/plain": [
       "<IPython.core.display.Image object>"
      ]
     },
     "metadata": {},
     "output_type": "display_data"
    }
   ],
   "source": [
    "c = ROOT.TCanvas()\n",
    "frame = myy.frame()\n",
    "highMass_0tag_single_Higgs.plotOn(frame)\n",
    "w.pdf(\"dscb_pdf\").plotOn(frame)\n",
    "w.pdf(\"dscb_pdf\").paramOn(frame)\n",
    "frame.Draw()\n",
    "frame.SetTitle(\"High Mass Single-Higgs Background - 0 Tag\")\n",
    "c.Draw()"
   ]
  },
  {
   "cell_type": "code",
   "execution_count": 40,
   "metadata": {
    "collapsed": false,
    "deletable": true,
    "editable": true
   },
   "outputs": [
    {
     "data": {
      "text/plain": [
       "True"
      ]
     },
     "execution_count": 40,
     "metadata": {},
     "output_type": "execute_result"
    }
   ],
   "source": [
    "w.saveSnapshot(\"highmass_cb\", w.set(\"params_dscb\"))"
   ]
  },
  {
   "cell_type": "code",
   "execution_count": 41,
   "metadata": {
    "collapsed": false,
    "deletable": true,
    "editable": true
   },
   "outputs": [
    {
     "data": {
      "text/plain": [
       "True"
      ]
     },
     "execution_count": 41,
     "metadata": {},
     "output_type": "execute_result"
    }
   ],
   "source": [
    "w.loadSnapshot(\"highmass_cb\")"
   ]
  },
  {
   "cell_type": "code",
   "execution_count": 42,
   "metadata": {
    "collapsed": true,
    "deletable": true,
    "editable": true
   },
   "outputs": [],
   "source": [
    "def wrap_iter(it):\n",
    "    elem = it.Next()\n",
    "    while elem:\n",
    "        yield elem\n",
    "        elem = it.Next()"
   ]
  },
  {
   "cell_type": "code",
   "execution_count": 43,
   "metadata": {
    "collapsed": false,
    "deletable": true,
    "editable": true
   },
   "outputs": [
    {
     "data": {
      "text/plain": [
       "[('alphaHi_cb', None),\n",
       " ('alphaLo_cb', None),\n",
       " ('nHi_cb', None),\n",
       " ('nLo_cb', None)]"
      ]
     },
     "execution_count": 43,
     "metadata": {},
     "output_type": "execute_result"
    }
   ],
   "source": [
    "# -- setting parameters to constant\n",
    "[(a.GetName(), a.setConstant(True)) for a in wrap_iter(w.set(\"params_dscb\").iterator())]"
   ]
  },
  {
   "cell_type": "code",
   "execution_count": 44,
   "metadata": {
    "collapsed": false,
    "deletable": true,
    "editable": true,
    "scrolled": true
   },
   "outputs": [
    {
     "name": "stdout",
     "output_type": "stream",
     "text": [
      "[#1] INFO:InputArguments -- RooAbsData::plotOn(m_yy_highMass_1tag_tightIsolated_bkg_single_Higgs) INFO: dataset has non-integer weights, auto-selecting SumW2 errors instead of Poisson errors\n",
      "[#1] INFO:Minization -- RooMinimizer::optimizeConst: activating const optimization\n",
      " **********\n",
      " **    1 **SET PRINT           1\n",
      " **********\n",
      " **********\n",
      " **    2 **SET NOGRAD\n",
      " **********\n",
      " PARAMETER DEFINITIONS:\n",
      "    NO.   NAME         VALUE      STEP SIZE      LIMITS\n",
      "     1 m0_cb        1.24984e+02  2.67597e-02    1.05000e+02  1.60000e+02\n",
      "     2 sigma_cb     1.82905e+00  2.04158e-02    0.00000e+00  2.00000e+01\n",
      " **********\n",
      " **    3 **SET ERR         0.5\n",
      " **********\n",
      " **********\n",
      " **    4 **SET PRINT           1\n",
      " **********\n",
      " **********\n",
      " **    5 **SET STR           1\n",
      " **********\n",
      " NOW USING STRATEGY  1: TRY TO BALANCE SPEED AGAINST RELIABILITY\n",
      " **********\n",
      " **    6 **MIGRAD        1000           1\n",
      " **********\n",
      " FIRST CALL TO USER FUNCTION AT NEW START POINT, WITH IFLAG=4.\n",
      " START MIGRAD MINIMIZATION.  STRATEGY  1.  CONVERGENCE WHEN EDM .LT. 1.00e-03\n",
      " FCN=3.45121 FROM MIGRAD    STATUS=INITIATE        8 CALLS           9 TOTAL\n",
      "                     EDM= unknown      STRATEGY= 1      NO ERROR MATRIX       \n",
      "  EXT PARAMETER               CURRENT GUESS       STEP         FIRST   \n",
      "  NO.   NAME      VALUE            ERROR          SIZE      DERIVATIVE \n",
      "   1  m0_cb        1.24984e+02   2.67597e-02   1.01159e-03   6.87008e-01\n",
      "   2  sigma_cb     1.82905e+00   2.04158e-02   3.54137e-03  -5.21108e-02\n",
      "                               ERR DEF= 0.5\n",
      " MIGRAD MINIMIZATION HAS CONVERGED.\n",
      " MIGRAD WILL VERIFY CONVERGENCE AND ERROR MATRIX.\n",
      " COVARIANCE MATRIX CALCULATED SUCCESSFULLY\n",
      " FCN=3.45044 FROM MIGRAD    STATUS=CONVERGED      23 CALLS          24 TOTAL\n",
      "                     EDM=5.77597e-07    STRATEGY= 1      ERROR MATRIX ACCURATE \n",
      "  EXT PARAMETER                                   STEP         FIRST   \n",
      "  NO.   NAME      VALUE            ERROR          SIZE      DERIVATIVE \n",
      "   1  m0_cb        1.24928e+02   1.47288e+00   7.59894e-05   6.13982e-04\n",
      "   2  sigma_cb     1.83961e+00   1.08912e+00   2.57177e-04   4.00501e-03\n",
      "                               ERR DEF= 0.5\n",
      " EXTERNAL ERROR MATRIX.    NDIM=  25    NPAR=  2    ERR DEF=0.5\n",
      "  2.172e+00  1.342e-03 \n",
      "  1.342e-03  1.200e+00 \n",
      " PARAMETER  CORRELATION COEFFICIENTS  \n",
      "       NO.  GLOBAL      1      2\n",
      "        1  0.00083   1.000  0.001\n",
      "        2  0.00083   0.001  1.000\n",
      " **********\n",
      " **    7 **SET ERR         0.5\n",
      " **********\n",
      " **********\n",
      " **    8 **SET PRINT           1\n",
      " **********\n",
      " **********\n",
      " **    9 **HESSE        1000\n",
      " **********\n",
      " COVARIANCE MATRIX CALCULATED SUCCESSFULLY\n",
      " FCN=3.45044 FROM HESSE     STATUS=OK             10 CALLS          34 TOTAL\n",
      "                     EDM=5.77603e-07    STRATEGY= 1      ERROR MATRIX ACCURATE \n",
      "  EXT PARAMETER                                INTERNAL      INTERNAL  \n",
      "  NO.   NAME      VALUE            ERROR       STEP SIZE       VALUE   \n",
      "   1  m0_cb        1.24928e+02   1.47288e+00   1.51979e-05  -2.78934e-01\n",
      "   2  sigma_cb     1.83961e+00   1.08912e+00   5.14355e-05  -9.54524e-01\n",
      "                               ERR DEF= 0.5\n",
      " EXTERNAL ERROR MATRIX.    NDIM=  25    NPAR=  2    ERR DEF=0.5\n",
      "  2.172e+00  2.825e-04 \n",
      "  2.825e-04  1.200e+00 \n",
      " PARAMETER  CORRELATION COEFFICIENTS  \n",
      "       NO.  GLOBAL      1      2\n",
      "        1  0.00017   1.000  0.000\n",
      "        2  0.00017   0.000  1.000\n",
      "[#1] INFO:Fitting -- RooAbsPdf::fitTo(dscb_pdf) Calculating sum-of-weights-squared correction matrix for covariance matrix\n",
      " **********\n",
      " **   10 **SET ERR         0.5\n",
      " **********\n",
      " **********\n",
      " **   11 **SET PRINT           1\n",
      " **********\n",
      " **********\n",
      " **   12 **HESSE        1000\n",
      " **********\n",
      " COVARIANCE MATRIX CALCULATED SUCCESSFULLY\n",
      " FCN=0.00525898 FROM HESSE     STATUS=OK             14 CALLS          48 TOTAL\n",
      "                     EDM=9.95812e-06    STRATEGY= 1      ERROR MATRIX ACCURATE \n",
      "  EXT PARAMETER                                INTERNAL      INTERNAL  \n",
      "  NO.   NAME      VALUE            ERROR       STEP SIZE       VALUE   \n",
      "   1  m0_cb        1.24928e+02   3.73641e+01   3.10037e-04  -2.78934e-01\n",
      "   2  sigma_cb     1.83961e+00   1.57276e+01   1.04928e-03  -9.54524e-01\n",
      "                               ERR DEF= 0.5\n",
      " EXTERNAL ERROR MATRIX.    NDIM=  25    NPAR=  2    ERR DEF=0.5\n",
      "  1.395e+03  6.987e+01 \n",
      "  6.987e+01  8.328e+02 \n",
      " PARAMETER  CORRELATION COEFFICIENTS  \n",
      "       NO.  GLOBAL      1      2\n",
      "        1  0.06483   1.000  0.065\n",
      "        2  0.06483   0.065  1.000\n",
      "[#1] INFO:Minization -- RooMinimizer::optimizeConst: deactivating const optimization\n",
      "[#1] INFO:InputArguments -- RooAbsData::plotOn(m_yy_highMass_2tag_tightIsolated_bkg_single_Higgs) INFO: dataset has non-integer weights, auto-selecting SumW2 errors instead of Poisson errors\n",
      "[#1] INFO:Minization -- RooMinimizer::optimizeConst: activating const optimization\n",
      " **********\n",
      " **   13 **SET PRINT           1\n",
      " **********\n",
      " **********\n",
      " **   14 **SET NOGRAD\n",
      " **********\n",
      " PARAMETER DEFINITIONS:\n",
      "    NO.   NAME         VALUE      STEP SIZE      LIMITS\n",
      "     1 m0_cb        1.24928e+02  5.82736e-02    1.05000e+02  1.60000e+02\n",
      "     2 sigma_cb     1.83961e+00  4.16856e-02    0.00000e+00  2.00000e+01\n",
      " **********\n",
      " **   15 **SET ERR         0.5\n",
      " **********\n",
      " **********\n",
      " **   16 **SET PRINT           1\n",
      " **********\n",
      " **********\n",
      " **   17 **SET STR           1\n",
      " **********\n",
      " NOW USING STRATEGY  1: TRY TO BALANCE SPEED AGAINST RELIABILITY\n",
      " **********\n",
      " **   18 **MIGRAD        1000           1\n",
      " **********\n",
      " FIRST CALL TO USER FUNCTION AT NEW START POINT, WITH IFLAG=4.\n",
      " START MIGRAD MINIMIZATION.  STRATEGY  1.  CONVERGENCE WHEN EDM .LT. 1.00e-03\n",
      " FCN=1.02901 FROM MIGRAD    STATUS=INITIATE        8 CALLS           9 TOTAL\n",
      "                     EDM= unknown      STRATEGY= 1      NO ERROR MATRIX       \n",
      "  EXT PARAMETER               CURRENT GUESS       STEP         FIRST   \n",
      "  NO.   NAME      VALUE            ERROR          SIZE      DERIVATIVE \n",
      "   1  m0_cb        1.24928e+02   5.82736e-02   2.20424e-03   2.46933e-02\n",
      "   2  sigma_cb     1.83961e+00   4.16856e-02   7.21252e-03   1.44722e-01\n",
      "                               ERR DEF= 0.5\n",
      " MIGRAD MINIMIZATION HAS CONVERGED.\n",
      " MIGRAD WILL VERIFY CONVERGENCE AND ERROR MATRIX.\n",
      " COVARIANCE MATRIX CALCULATED SUCCESSFULLY\n",
      " FCN=1.02782 FROM MIGRAD    STATUS=CONVERGED      24 CALLS          25 TOTAL\n",
      "                     EDM=1.68013e-06    STRATEGY= 1      ERROR MATRIX ACCURATE \n",
      "  EXT PARAMETER                                   STEP         FIRST   \n",
      "  NO.   NAME      VALUE            ERROR          SIZE      DERIVATIVE \n",
      "   1  m0_cb        1.24922e+02   2.47497e+00   8.42957e-05  -1.93847e-03\n",
      "   2  sigma_cb     1.74669e+00   1.75100e+00   2.96408e-04  -4.07376e-03\n",
      "                               ERR DEF= 0.5\n",
      " EXTERNAL ERROR MATRIX.    NDIM=  25    NPAR=  2    ERR DEF=0.5\n",
      "  6.143e+00 -2.608e-02 \n",
      " -2.608e-02  3.170e+00 \n",
      " PARAMETER  CORRELATION COEFFICIENTS  \n",
      "       NO.  GLOBAL      1      2\n",
      "        1  0.00591   1.000 -0.006\n",
      "        2  0.00591  -0.006  1.000\n",
      " **********\n",
      " **   19 **SET ERR         0.5\n",
      " **********\n",
      " **********\n",
      " **   20 **SET PRINT           1\n",
      " **********\n",
      " **********\n",
      " **   21 **HESSE        1000\n",
      " **********\n",
      " COVARIANCE MATRIX CALCULATED SUCCESSFULLY\n",
      " FCN=1.02782 FROM HESSE     STATUS=OK             10 CALLS          35 TOTAL\n",
      "                     EDM=1.67974e-06    STRATEGY= 1      ERROR MATRIX ACCURATE \n",
      "  EXT PARAMETER                                INTERNAL      INTERNAL  \n",
      "  NO.   NAME      VALUE            ERROR       STEP SIZE       VALUE   \n",
      "   1  m0_cb        1.24922e+02   2.47498e+00   1.68591e-05  -2.79158e-01\n",
      "   2  sigma_cb     1.74669e+00   1.75101e+00   5.92817e-05  -9.70788e-01\n",
      "                               ERR DEF= 0.5\n",
      " EXTERNAL ERROR MATRIX.    NDIM=  25    NPAR=  2    ERR DEF=0.5\n",
      "  6.144e+00 -2.934e-02 \n",
      " -2.934e-02  3.170e+00 \n",
      " PARAMETER  CORRELATION COEFFICIENTS  \n",
      "       NO.  GLOBAL      1      2\n",
      "        1  0.00665   1.000 -0.007\n",
      "        2  0.00665  -0.007  1.000\n",
      "[#1] INFO:Fitting -- RooAbsPdf::fitTo(dscb_pdf) Calculating sum-of-weights-squared correction matrix for covariance matrix\n",
      " **********\n",
      " **   22 **SET ERR         0.5\n",
      " **********\n",
      " **********\n",
      " **   23 **SET PRINT           1\n",
      " **********\n",
      " **********\n",
      " **   24 **HESSE        1000\n",
      " **********\n",
      " COVARIANCE MATRIX CALCULATED SUCCESSFULLY\n",
      " FCN=0.00111068 FROM HESSE     STATUS=OK             14 CALLS          49 TOTAL\n",
      "                     EDM=6.96603e-07    STRATEGY= 1      ERROR MATRIX ACCURATE \n",
      "  EXT PARAMETER                                INTERNAL      INTERNAL  \n",
      "  NO.   NAME      VALUE            ERROR       STEP SIZE       VALUE   \n",
      "   1  m0_cb        1.24922e+02   3.07090e+01   3.43927e-04  -2.79158e-01\n",
      "   2  sigma_cb     1.74669e+00   1.89473e+01   1.20935e-03  -9.70788e-01\n",
      "                               ERR DEF= 0.5\n",
      " EXTERNAL ERROR MATRIX.    NDIM=  25    NPAR=  2    ERR DEF=0.5\n",
      "  5.558e+03 -1.775e+01 \n",
      " -1.775e+01  3.035e+03 \n",
      " PARAMETER  CORRELATION COEFFICIENTS  \n",
      "       NO.  GLOBAL      1      2\n",
      "        1  0.00432   1.000 -0.004\n",
      "        2  0.00432  -0.004  1.000\n",
      "[#1] INFO:Minization -- RooMinimizer::optimizeConst: deactivating const optimization\n"
     ]
    },
    {
     "data": {
      "image/png": "[encoded data removed]",
      "text/plain": [
       "<IPython.core.display.Image object>"
      ]
     },
     "metadata": {},
     "output_type": "display_data"
    },
    {
     "data": {
      "image/png": "[encoded data removed]",
      "text/plain": [
       "<IPython.core.display.Image object>"
      ]
     },
     "metadata": {},
     "output_type": "display_data"
    }
   ],
   "source": [
    "# -- high mass (keep a1 and a2 values we just found)\n",
    "c = ROOT.TCanvas()\n",
    "frame = myy.frame()\n",
    "highMass_1tag_single_Higgs.plotOn(frame)\n",
    "r = w.pdf(\"dscb_pdf\").fitTo(highMass_1tag_single_Higgs, rf.SumW2Error(ROOT.kTRUE), rf.Save())\n",
    "w.pdf(\"dscb_pdf\").plotOn(frame)\n",
    "w.pdf(\"dscb_pdf\").paramOn(frame)#,ROOT.RooFit.Layout(0.65,0.85,0.85),ROOT.RooFit.Parameters(ROOT.RooArgSet(w.var(\"a1\"),w.var(\"nbkg1\"))))\n",
    "frame.Draw()\n",
    "frame.SetTitle(\"High Mass Single-Higgs Background - 1 Tag\")\n",
    "c.Draw()\n",
    "c1 = ROOT.TCanvas()\n",
    "frame = myy.frame()\n",
    "highMass_2tag_single_Higgs.plotOn(frame)\n",
    "r = w.pdf(\"dscb_pdf\").fitTo(highMass_2tag_single_Higgs, rf.SumW2Error(ROOT.kTRUE), rf.Save())\n",
    "w.pdf(\"dscb_pdf\").plotOn(frame)\n",
    "w.pdf(\"dscb_pdf\").paramOn(frame)#,ROOT.RooFit.Layout(0.65,0.85,0.85),ROOT.RooFit.Parameters(ROOT.RooArgSet(w.var(\"a1\"),w.var(\"nbkg1\"))))\n",
    "frame.Draw()\n",
    "frame.SetTitle(\"High Mass Single-Higgs Background - 2 Tag\")\n",
    "c1.Draw()"
   ]
  },
  {
   "cell_type": "code",
   "execution_count": 45,
   "metadata": {
    "collapsed": false,
    "deletable": true,
    "editable": true,
    "scrolled": true
   },
   "outputs": [
    {
     "name": "stdout",
     "output_type": "stream",
     "text": [
      "[#1] INFO:InputArguments -- RooAbsData::plotOn(m_yy_lowMass_1tag_tightIsolated_bkg_single_Higgs) INFO: dataset has non-integer weights, auto-selecting SumW2 errors instead of Poisson errors\n",
      "[#1] INFO:Minization -- RooMinimizer::optimizeConst: activating const optimization\n",
      " **********\n",
      " **   25 **SET PRINT           1\n",
      " **********\n",
      " **********\n",
      " **   26 **SET NOGRAD\n",
      " **********\n",
      " PARAMETER DEFINITIONS:\n",
      "    NO.   NAME         VALUE      STEP SIZE      LIMITS\n",
      "     1 m0_cb        1.24922e+02  8.24031e-02    1.05000e+02  1.60000e+02\n",
      "     2 sigma_cb     1.74669e+00  5.75389e-02    0.00000e+00  2.00000e+01\n",
      " **********\n",
      " **   27 **SET ERR         0.5\n",
      " **********\n",
      " **********\n",
      " **   28 **SET PRINT           1\n",
      " **********\n",
      " **********\n",
      " **   29 **SET STR           1\n",
      " **********\n",
      " NOW USING STRATEGY  1: TRY TO BALANCE SPEED AGAINST RELIABILITY\n",
      " **********\n",
      " **   30 **MIGRAD        1000           1\n",
      " **********\n",
      " FIRST CALL TO USER FUNCTION AT NEW START POINT, WITH IFLAG=4.\n",
      " START MIGRAD MINIMIZATION.  STRATEGY  1.  CONVERGENCE WHEN EDM .LT. 1.00e-03\n",
      " FCN=11.5041 FROM MIGRAD    STATUS=INITIATE        8 CALLS           9 TOTAL\n",
      "                     EDM= unknown      STRATEGY= 1      NO ERROR MATRIX       \n",
      "  EXT PARAMETER               CURRENT GUESS       STEP         FIRST   \n",
      "  NO.   NAME      VALUE            ERROR          SIZE      DERIVATIVE \n",
      "   1  m0_cb        1.24922e+02   8.24031e-02   3.11715e-03  -2.91032e+00\n",
      "   2  sigma_cb     1.74669e+00   5.75389e-02   1.01915e-02  -3.84705e+00\n",
      "                               ERR DEF= 0.5\n",
      " MIGRAD MINIMIZATION HAS CONVERGED.\n",
      " MIGRAD WILL VERIFY CONVERGENCE AND ERROR MATRIX.\n",
      " COVARIANCE MATRIX CALCULATED SUCCESSFULLY\n",
      " FCN=11.4366 FROM MIGRAD    STATUS=CONVERGED      33 CALLS          34 TOTAL\n",
      "                     EDM=1.1305e-08    STRATEGY= 1      ERROR MATRIX ACCURATE \n",
      "  EXT PARAMETER                                   STEP         FIRST   \n",
      "  NO.   NAME      VALUE            ERROR          SIZE      DERIVATIVE \n",
      "   1  m0_cb        1.24986e+02   8.66085e-01   7.78301e-05   3.24329e-03\n",
      "   2  sigma_cb     1.95499e+00   6.38948e-01   2.55505e-04   5.60369e-05\n",
      "                               ERR DEF= 0.5\n",
      " EXTERNAL ERROR MATRIX.    NDIM=  25    NPAR=  2    ERR DEF=0.5\n",
      "  7.504e-01 -4.644e-03 \n",
      " -4.644e-03  4.098e-01 \n",
      " PARAMETER  CORRELATION COEFFICIENTS  \n",
      "       NO.  GLOBAL      1      2\n",
      "        1  0.00837   1.000 -0.008\n",
      "        2  0.00837  -0.008  1.000\n",
      " **********\n",
      " **   31 **SET ERR         0.5\n",
      " **********\n",
      " **********\n",
      " **   32 **SET PRINT           1\n",
      " **********\n",
      " **********\n",
      " **   33 **HESSE        1000\n",
      " **********\n",
      " COVARIANCE MATRIX CALCULATED SUCCESSFULLY\n",
      " FCN=11.4366 FROM HESSE     STATUS=OK             10 CALLS          44 TOTAL\n",
      "                     EDM=1.13041e-08    STRATEGY= 1      ERROR MATRIX ACCURATE \n",
      "  EXT PARAMETER                                INTERNAL      INTERNAL  \n",
      "  NO.   NAME      VALUE            ERROR       STEP SIZE       VALUE   \n",
      "   1  m0_cb        1.24986e+02   8.66089e-01   1.55660e-05  -2.76759e-01\n",
      "   2  sigma_cb     1.95499e+00   6.38951e-01   1.02202e-05  -9.34836e-01\n",
      "                               ERR DEF= 0.5\n",
      " EXTERNAL ERROR MATRIX.    NDIM=  25    NPAR=  2    ERR DEF=0.5\n",
      "  7.504e-01 -4.997e-03 \n",
      " -4.997e-03  4.098e-01 \n",
      " PARAMETER  CORRELATION COEFFICIENTS  \n",
      "       NO.  GLOBAL      1      2\n",
      "        1  0.00901   1.000 -0.009\n",
      "        2  0.00901  -0.009  1.000\n",
      "[#1] INFO:Fitting -- RooAbsPdf::fitTo(dscb_pdf) Calculating sum-of-weights-squared correction matrix for covariance matrix\n",
      " **********\n",
      " **   34 **SET ERR         0.5\n",
      " **********\n",
      " **********\n",
      " **   35 **SET PRINT           1\n",
      " **********\n",
      " **********\n",
      " **   36 **HESSE        1000\n",
      " **********\n",
      " COVARIANCE MATRIX CALCULATED SUCCESSFULLY\n",
      " FCN=0.0221447 FROM HESSE     STATUS=OK             14 CALLS          58 TOTAL\n",
      "                     EDM=1.15288e-06    STRATEGY= 1      ERROR MATRIX ACCURATE \n",
      "  EXT PARAMETER                                INTERNAL      INTERNAL  \n",
      "  NO.   NAME      VALUE            ERROR       STEP SIZE       VALUE   \n",
      "   1  m0_cb        1.24986e+02   1.79264e+01   3.17547e-04  -2.76759e-01\n",
      "   2  sigma_cb     1.95499e+00   1.52599e+01   2.08492e-04  -9.34836e-01\n",
      "                               ERR DEF= 0.5\n",
      " EXTERNAL ERROR MATRIX.    NDIM=  25    NPAR=  2    ERR DEF=0.5\n",
      "  3.880e+02 -4.198e-01 \n",
      " -4.198e-01  2.129e+02 \n",
      " PARAMETER  CORRELATION COEFFICIENTS  \n",
      "       NO.  GLOBAL      1      2\n",
      "        1  0.00146   1.000 -0.001\n",
      "        2  0.00146  -0.001  1.000\n",
      "[#1] INFO:Minization -- RooMinimizer::optimizeConst: deactivating const optimization\n",
      "[#1] INFO:InputArguments -- RooAbsData::plotOn(m_yy_lowMass_2tag_tightIsolated_bkg_single_Higgs) INFO: dataset has non-integer weights, auto-selecting SumW2 errors instead of Poisson errors\n",
      "[#1] INFO:Minization -- RooMinimizer::optimizeConst: activating const optimization\n",
      " **********\n",
      " **   37 **SET PRINT           1\n",
      " **********\n",
      " **********\n",
      " **   38 **SET NOGRAD\n",
      " **********\n",
      " PARAMETER DEFINITIONS:\n",
      "    NO.   NAME         VALUE      STEP SIZE      LIMITS\n",
      "     1 m0_cb        1.24986e+02  3.80981e-02    1.05000e+02  1.60000e+02\n",
      "     2 sigma_cb     1.95499e+00  2.80870e-02    0.00000e+00  2.00000e+01\n",
      " **********\n",
      " **   39 **SET ERR         0.5\n",
      " **********\n",
      " **********\n",
      " **   40 **SET PRINT           1\n",
      " **********\n",
      " **********\n",
      " **   41 **SET STR           1\n",
      " **********\n",
      " NOW USING STRATEGY  1: TRY TO BALANCE SPEED AGAINST RELIABILITY\n",
      " **********\n",
      " **   42 **MIGRAD        1000           1\n",
      " **********\n",
      " FIRST CALL TO USER FUNCTION AT NEW START POINT, WITH IFLAG=4.\n",
      " START MIGRAD MINIMIZATION.  STRATEGY  1.  CONVERGENCE WHEN EDM .LT. 1.00e-03\n",
      " FCN=4.36477 FROM MIGRAD    STATUS=INITIATE        8 CALLS           9 TOTAL\n",
      "                     EDM= unknown      STRATEGY= 1      NO ERROR MATRIX       \n",
      "  EXT PARAMETER               CURRENT GUESS       STEP         FIRST   \n",
      "  NO.   NAME      VALUE            ERROR          SIZE      DERIVATIVE \n",
      "   1  m0_cb        1.24986e+02   3.80981e-02   1.44019e-03   8.90843e-01\n",
      "   2  sigma_cb     1.95499e+00   2.80870e-02   4.72895e-03   5.52371e-01\n",
      "                               ERR DEF= 0.5\n",
      " MIGRAD MINIMIZATION HAS CONVERGED.\n",
      " MIGRAD WILL VERIFY CONVERGENCE AND ERROR MATRIX.\n",
      " COVARIANCE MATRIX CALCULATED SUCCESSFULLY\n",
      " FCN=4.35903 FROM MIGRAD    STATUS=CONVERGED      29 CALLS          30 TOTAL\n",
      "                     EDM=7.98467e-10    STRATEGY= 1      ERROR MATRIX ACCURATE \n",
      "  EXT PARAMETER                                   STEP         FIRST   \n",
      "  NO.   NAME      VALUE            ERROR          SIZE      DERIVATIVE \n",
      "   1  m0_cb        1.24924e+02   1.30446e+00   7.47802e-05  -4.16509e-04\n",
      "   2  sigma_cb     1.85925e+00   9.45952e-01   2.46868e-04  -1.19990e-04\n",
      "                               ERR DEF= 0.5\n",
      " EXTERNAL ERROR MATRIX.    NDIM=  25    NPAR=  2    ERR DEF=0.5\n",
      "  1.703e+00 -1.487e-02 \n",
      " -1.487e-02  9.029e-01 \n",
      " PARAMETER  CORRELATION COEFFICIENTS  \n",
      "       NO.  GLOBAL      1      2\n",
      "        1  0.01199   1.000 -0.012\n",
      "        2  0.01199  -0.012  1.000\n",
      " **********\n",
      " **   43 **SET ERR         0.5\n",
      " **********\n",
      " **********\n",
      " **   44 **SET PRINT           1\n",
      " **********\n",
      " **********\n",
      " **   45 **HESSE        1000\n",
      " **********\n",
      " COVARIANCE MATRIX CALCULATED SUCCESSFULLY\n",
      " FCN=4.35903 FROM HESSE     STATUS=OK             10 CALLS          40 TOTAL\n",
      "                     EDM=7.96935e-10    STRATEGY= 1      ERROR MATRIX ACCURATE \n",
      "  EXT PARAMETER                                INTERNAL      INTERNAL  \n",
      "  NO.   NAME      VALUE            ERROR       STEP SIZE       VALUE   \n",
      "   1  m0_cb        1.24924e+02   1.30447e+00   1.49560e-05  -2.79093e-01\n",
      "   2  sigma_cb     1.85925e+00   9.45959e-01   4.93736e-05  -9.51135e-01\n",
      "                               ERR DEF= 0.5\n",
      " EXTERNAL ERROR MATRIX.    NDIM=  25    NPAR=  2    ERR DEF=0.5\n",
      "  1.703e+00 -1.565e-02 \n",
      " -1.565e-02  9.029e-01 \n",
      " PARAMETER  CORRELATION COEFFICIENTS  \n",
      "       NO.  GLOBAL      1      2\n",
      "        1  0.01262   1.000 -0.013\n",
      "        2  0.01262  -0.013  1.000\n",
      "[#1] INFO:Fitting -- RooAbsPdf::fitTo(dscb_pdf) Calculating sum-of-weights-squared correction matrix for covariance matrix\n",
      " **********\n",
      " **   46 **SET ERR         0.5\n",
      " **********\n",
      " **********\n",
      " **   47 **SET PRINT           1\n",
      " **********\n",
      " **********\n",
      " **   48 **HESSE        1000\n",
      " **********\n",
      " COVARIANCE MATRIX CALCULATED SUCCESSFULLY\n",
      " FCN=0.0065094 FROM HESSE     STATUS=OK             14 CALLS          54 TOTAL\n",
      "                     EDM=7.51893e-05    STRATEGY= 1      ERROR MATRIX ACCURATE \n",
      "  EXT PARAMETER                                INTERNAL      INTERNAL  \n",
      "  NO.   NAME      VALUE            ERROR       STEP SIZE       VALUE   \n",
      "   1  m0_cb        1.24924e+02   3.74515e+01   3.05103e-04  -2.79093e-01\n",
      "   2  sigma_cb     1.85925e+00   1.74954e+01   1.00722e-03  -9.51135e-01\n",
      "                               ERR DEF= 0.5\n",
      " EXTERNAL ERROR MATRIX.    NDIM=  25    NPAR=  2    ERR DEF=0.5\n",
      "  1.096e+03  1.090e+02 \n",
      "  1.090e+02  7.067e+02 \n",
      " PARAMETER  CORRELATION COEFFICIENTS  \n",
      "       NO.  GLOBAL      1      2\n",
      "        1  0.12388   1.000  0.124\n",
      "        2  0.12388   0.124  1.000\n",
      "[#1] INFO:Minization -- RooMinimizer::optimizeConst: deactivating const optimization\n"
     ]
    },
    {
     "data": {
      "image/png": "[encoded data removed]",
      "text/plain": [
       "<IPython.core.display.Image object>"
      ]
     },
     "metadata": {},
     "output_type": "display_data"
    },
    {
     "data": {
      "image/png": "[encoded data removed]",
      "text/plain": [
       "<IPython.core.display.Image object>"
      ]
     },
     "metadata": {},
     "output_type": "display_data"
    }
   ],
   "source": [
    "# -- low mass (load previous snapshot)\n",
    "w.loadSnapshot(\"lowmass_cb\")\n",
    "# -- setting parameters to constant\n",
    "[(a.GetName(), a.setConstant(True)) for a in wrap_iter(w.set(\"params_dscb\").iterator())]\n",
    "\n",
    "c = ROOT.TCanvas()\n",
    "frame = myy.frame()\n",
    "lowMass_1tag_single_Higgs.plotOn(frame)\n",
    "r = w.pdf(\"dscb_pdf\").fitTo(lowMass_1tag_single_Higgs, rf.SumW2Error(ROOT.kTRUE), rf.Save())\n",
    "w.pdf(\"dscb_pdf\").plotOn(frame)\n",
    "w.pdf(\"dscb_pdf\").paramOn(frame)#,ROOT.RooFit.Layout(0.65,0.85,0.85),ROOT.RooFit.Parameters(ROOT.RooArgSet(w.var(\"a1\"),w.var(\"nbkg1\"))))\n",
    "frame.Draw()\n",
    "frame.SetTitle(\"Low Mass Single-Higgs Background - 1 Tag\")\n",
    "c.Draw()\n",
    "c1 = ROOT.TCanvas()\n",
    "frame = myy.frame()\n",
    "lowMass_2tag_single_Higgs.plotOn(frame)\n",
    "r = w.pdf(\"dscb_pdf\").fitTo(lowMass_2tag_single_Higgs, rf.SumW2Error(ROOT.kTRUE), rf.Save())\n",
    "w.pdf(\"dscb_pdf\").plotOn(frame)\n",
    "w.pdf(\"dscb_pdf\").paramOn(frame)#,ROOT.RooFit.Layout(0.65,0.85,0.85),ROOT.RooFit.Parameters(ROOT.RooArgSet(w.var(\"a1\"),w.var(\"nbkg1\"))))\n",
    "frame.Draw()\n",
    "frame.SetTitle(\"Low Mass Single-Higgs Background - 2 Tag\")\n",
    "c1.Draw()"
   ]
  },
  {
   "cell_type": "markdown",
   "metadata": {
    "deletable": true,
    "editable": true
   },
   "source": [
    "# Build full model"
   ]
  },
  {
   "cell_type": "code",
   "execution_count": 46,
   "metadata": {
    "collapsed": false,
    "deletable": true,
    "editable": true
   },
   "outputs": [
    {
     "data": {
      "text/plain": [
       "<ROOT.RooCategory object (\"highmasscats\") at 0x7fc49e55f000>"
      ]
     },
     "execution_count": 46,
     "metadata": {},
     "output_type": "execute_result"
    }
   ],
   "source": [
    "#w.factory(\"cat[tag0low, tag0high, tag1low, tag1high, tag2low, tag2high]\")\n",
    "w.factory(\"highmasscats[tag0, tag1, tag2]\")"
   ]
  },
  {
   "cell_type": "code",
   "execution_count": 47,
   "metadata": {
    "collapsed": false,
    "deletable": true,
    "editable": true
   },
   "outputs": [
    {
     "name": "stdout",
     "output_type": "stream",
     "text": [
      "\n",
      "RooWorkspace(w) w contents\n",
      "\n",
      "variables\n",
      "---------\n",
      "(a0,a1,a2,alphaHi_cb,alphaLo_cb,highmasscats,m0_cb,myy,nHi_cb,nLo_cb,sigma_cb)\n",
      "\n",
      "p.d.f.s\n",
      "-------\n",
      "RooExponential::bkg_pdf[ x=bkg_exponent c=1 ] = 0.0282139\n",
      "HggTwoSidedCBPdf::dscb_pdf[ m=myy m0=m0_cb sigma=sigma_cb alphaLo=alphaLo_cb nLo=nLo_cb alphaHi=alphaHi_cb nHi=nHi_cb ] = 0.00390644\n",
      "\n",
      "functions\n",
      "--------\n",
      "RooPolyVar::bkg_exponent[ x=myy coefList=(a0,a1,a2) ] = -3.56794\n",
      "\n",
      "parameter snapshots\n",
      "-------------------\n",
      "lowmass_epoly2 = (a1=-0.0429004 +/- 0.00951067,a2=6.35874e-05 +/- 3.65609e-05)\n",
      "highmass_epoly2 = (a1=-0.0154718 +/- 0.0238383,a2=2.31129e-06 +/- 9.08521e-05)\n",
      "lowmass_cb = (alphaLo_cb=2.16478 +/- 0.0449161,nLo_cb=3.59579 +/- 0.41894,alphaHi_cb=2.32694 +/- 0.0514366,nHi_cb=4.16611 +/- 0.522503)\n",
      "highmass_cb = (alphaLo_cb=2.35701 +/- 0.0908605,nLo_cb=2.15038 +/- 0.383769,alphaHi_cb=2.45231 +/- 0.133304,nHi_cb=3.43126 +/- 1.02606)\n",
      "\n",
      "named sets\n",
      "----------\n",
      "params_dscb:(alphaHi_cb,alphaLo_cb,nHi_cb,nLo_cb)\n",
      "params_epoly2:(a1,a2)\n",
      "\n"
     ]
    }
   ],
   "source": [
    "w.Print()"
   ]
  },
  {
   "cell_type": "code",
   "execution_count": 48,
   "metadata": {
    "collapsed": false,
    "deletable": true,
    "editable": true
   },
   "outputs": [],
   "source": [
    "#blah1 = _add(dh_bkg_noH_0tag_lowmass, dh_bkg_1H_0tag_lowmass)\n",
    "highMass_0tag_all = _add(highMass_0tag_non_Higgs, highMass_0tag_single_Higgs)\n",
    "#blah3 = _add(dh_bkg_noH_1tag_lowmass, dh_bkg_1H_1tag_lowmass)\n",
    "highMass_1tag_all = _add(highMass_1tag_non_Higgs, highMass_1tag_single_Higgs)\n",
    "#blah5 = _add(dh_bkg_noH_2tag_lowmass, dh_bkg_1H_2tag_lowmass)\n",
    "highMass_2tag_all = _add(highMass_2tag_non_Higgs, highMass_2tag_single_Higgs)"
   ]
  },
  {
   "cell_type": "code",
   "execution_count": 49,
   "metadata": {
    "collapsed": false,
    "deletable": true,
    "editable": true
   },
   "outputs": [],
   "source": [
    "highmass_data = ROOT.RooDataHist(\n",
    "    \"highmass_data\", \"highmass_data\", ROOT.RooArgList(myy),\n",
    "    rf.Index(w.cat(\"highmasscats\")),\n",
    "    rf.Import(\"tag0\", highMass_0tag_all),\n",
    "    rf.Import(\"tag1\", highMass_1tag_all),\n",
    "    rf.Import(\"tag2\", highMass_2tag_all)\n",
    ")"
   ]
  },
  {
   "cell_type": "code",
   "execution_count": 50,
   "metadata": {
    "collapsed": false,
    "deletable": true,
    "editable": true,
    "scrolled": false
   },
   "outputs": [],
   "source": [
    "# data_combo = ROOT.RooDataHist(\n",
    "#     \"data_combo\", \"combined data\", ROOT.RooArgList(myy),\n",
    "#     rf.Index(w.cat(\"cat\")),\n",
    "#     rf.Import(\"tag0low\", blah1),#_add(dh_bkg_noH_0tag_lowmass, dh_bkg_1H_0tag_lowmass)),\n",
    "#     rf.Import(\"tag0high\", blah2),#_add(dh_bkg_noH_0tag_highmass, dh_bkg_1H_0tag_highmass)),\n",
    "#     rf.Import(\"tag1low\", blah3),#_add(dh_bkg_noH_1tag_lowmass, dh_bkg_1H_1tag_lowmass)),\n",
    "#     rf.Import(\"tag1high\",blah4),# _add(dh_bkg_noH_1tag_highmass, dh_bkg_1H_1tag_highmass)),\n",
    "#     rf.Import(\"tag2low\", blah5),#_add(dh_bkg_noH_2tag_lowmass, dh_bkg_1H_2tag_lowmass)),\n",
    "#     rf.Import(\"tag2high\",blah6),# _add(dh_bkg_noH_2tag_highmass, dh_bkg_1H_2tag_highmass))\n",
    "# )"
   ]
  },
  {
   "cell_type": "code",
   "execution_count": 51,
   "metadata": {
    "collapsed": false,
    "deletable": true,
    "editable": true
   },
   "outputs": [
    {
     "data": {
      "text/plain": [
       "<ROOT.RooRealVar object (\"n_highMass_1tag_di_Higgs_bias\") at 0x7fc4a05f4e00>"
      ]
     },
     "execution_count": 51,
     "metadata": {},
     "output_type": "execute_result"
    }
   ],
   "source": [
    "w.factory(\"mu_1H[1]\")#, 0, 100]\")\n",
    "w.factory(\"mu_2H[1, 0, 20]\")\n",
    "w.factory(\"EG_SCALE[-10, 10]\")\n",
    "w.factory(\"EG_RES[-10, 10]\")\n",
    "w.factory(\"theta_yield[-10, 10]\")\n",
    "w.factory(\"n_highMass_2tag_di_Higgs_bias[-100, 100]\")\n",
    "w.factory(\"n_highMass_1tag_di_Higgs_bias[-100, 100]\")\n",
    "# w.factory(\"n_bias_tag2low_2H[-100, 100]\")\n",
    "# w.factory(\"n_bias_tag1low_2H[-100, 100]\")"
   ]
  },
  {
   "cell_type": "code",
   "execution_count": 52,
   "metadata": {
    "collapsed": false,
    "deletable": true,
    "editable": true
   },
   "outputs": [
    {
     "data": {
      "text/plain": [
       "<ROOT.RooGaussian object (\"n_highMass_1tag_di_Higgs_bias_gaussian\") at 0x7fc49e685600>"
      ]
     },
     "execution_count": 52,
     "metadata": {},
     "output_type": "execute_result"
    }
   ],
   "source": [
    "w.factory(\"Gaussian::EG_SCALE_gaussian(EG_SCALE, EG_SCALE_global[0], 1)\")\n",
    "w.factory(\"Gaussian::EG_RES_gaussian(EG_RES, EG_RES_global[0], 1)\")\n",
    "w.factory(\"Gaussian::theta_yield_gaussian(theta_yield, theta_yield_global[0], 1)\")\n",
    "w.factory(\"Gaussian::n_highMass_2tag_di_Higgs_bias_gaussian(n_highMass_2tag_di_Higgs_bias, n_highMass_2tag_di_Higgs_bias_global[0], 0.8)\")\n",
    "w.factory(\"Gaussian::n_highMass_1tag_di_Higgs_bias_gaussian(n_highMass_1tag_di_Higgs_bias, n_highMass_1tag_di_Higgs_bias_global[0], 0.8)\")\n",
    "# w.factory(\"Gaussian::n_bias_tag2low_2H_gaussian(n_bias_tag2low_2H, n_bias_tag2low_2H_global[0], 0.8)\")\n",
    "# w.factory(\"Gaussian::n_bias_tag1low_2H_gaussian(n_bias_tag1low_2H, n_bias_tag1low_2H_global[0], 0.8)\")"
   ]
  },
  {
   "cell_type": "code",
   "execution_count": 53,
   "metadata": {
    "collapsed": false,
    "deletable": true,
    "editable": true
   },
   "outputs": [
    {
     "data": {
      "text/plain": [
       "<ROOT.RooFormulaVar object (\"coeff_2H\") at 0x7fc49c74c400>"
      ]
     },
     "execution_count": 53,
     "metadata": {},
     "output_type": "execute_result"
    }
   ],
   "source": [
    "w.factory(\"expr::coeff_1H('mu_1H * (1 + 0.04 * theta_yield)', mu_1H, theta_yield)\")\n",
    "w.factory(\"expr::coeff_2H('mu_2H * (1 + 0.1 * theta_yield)', mu_2H, theta_yield)\")"
   ]
  },
  {
   "cell_type": "code",
   "execution_count": 54,
   "metadata": {
    "collapsed": false,
    "deletable": true,
    "editable": true
   },
   "outputs": [
    {
     "data": {
      "text/plain": [
       "0"
      ]
     },
     "execution_count": 54,
     "metadata": {},
     "output_type": "execute_result"
    }
   ],
   "source": [
    "# -- check that integral and sum of weights actually give the same answer\n",
    "# this should be 0 if the two are the same for all histograms in histos_bkg\n",
    "sum([(v.Integral() != v.GetSumOfWeights()) for k,v in histos_bkg_myy.iteritems()])"
   ]
  },
  {
   "cell_type": "code",
   "execution_count": 55,
   "metadata": {
    "collapsed": false,
    "deletable": true,
    "editable": true
   },
   "outputs": [],
   "source": [
    "# histos_bkg['m_yy_highMass_0tag_tightIsolated_bkg_non_Higgs'].Integral()"
   ]
  },
  {
   "cell_type": "code",
   "execution_count": 56,
   "metadata": {
    "collapsed": false,
    "deletable": true,
    "editable": true
   },
   "outputs": [
    {
     "name": "stdout",
     "output_type": "stream",
     "text": [
      "[#1] INFO:ObjectHandling -- RooWorkspace::import(w) importing RooRealVar::n_highMass_1tag_non_Higgs_exp\n",
      "[#1] INFO:ObjectHandling -- RooWorkspace::import(w) importing RooRealVar::n_highMass_2tag_single_Higgs_exp\n",
      "[#1] INFO:ObjectHandling -- RooWorkspace::import(w) importing RooRealVar::n_highMass_0tag_single_Higgs_exp\n",
      "[#1] INFO:ObjectHandling -- RooWorkspace::import(w) importing RooRealVar::n_highMass_0tag_non_Higgs_exp\n",
      "[#1] INFO:ObjectHandling -- RooWorkspace::import(w) importing RooRealVar::n_highMass_1tag_single_Higgs_exp\n",
      "[#1] INFO:ObjectHandling -- RooWorkspace::import(w) importing RooRealVar::n_highMass_2tag_non_Higgs_exp\n"
     ]
    }
   ],
   "source": [
    "highMass_yields_names = []\n",
    "for k, v in histos_bkg_myy.iteritems():\n",
    "    if 'high' in k:\n",
    "        short_k = k.replace('m_yy_', '').replace('tightIsolated_bkg_', '')\n",
    "        _name = 'n_' + short_k + '_exp'\n",
    "        highMass_yields_names.append(_name)\n",
    "        exec (\"{} = {}\".format(\n",
    "            _name,\n",
    "            'ROOT.RooRealVar(\"{k}\", \"{k}\", v.GetSumOfWeights())'.format(k=_name)\n",
    "        ))\n",
    "        exec(\"getattr(w, 'import')(ROOT.RooArgSet({}))\".format(_name))"
   ]
  },
  {
   "cell_type": "code",
   "execution_count": 57,
   "metadata": {
    "collapsed": false,
    "deletable": true,
    "editable": true
   },
   "outputs": [
    {
     "name": "stdout",
     "output_type": "stream",
     "text": [
      "[#1] INFO:ObjectHandling -- RooWorkspace::import(w) importing RooRealVar::n_highMass_2tag_di_Higgs_exp\n",
      "[#1] INFO:ObjectHandling -- RooWorkspace::import(w) importing RooRealVar::n_highMass_1tag_di_Higgs_exp\n"
     ]
    }
   ],
   "source": [
    "# n_tag2high_0H = ROOT.RooRealVar(\n",
    "#     \"n_tag2high_0H\", \n",
    "#     \"n_tag2high_0H\", \n",
    "#     histos_bkg_myy['m_yy_highMass_2tag_tightIsolated_bkg_non_Higgs'].GetSumOfWeights()\n",
    "# )\n",
    "# n_tag1high_0H = ROOT.RooRealVar(\n",
    "#     \"n_tag1high_0H\", \n",
    "#     \"n_tag1high_0H\", \n",
    "#     histos_bkg_myy['m_yy_highMass_1tag_tightIsolated_bkg_non_Higgs'].GetSumOfWeights()\n",
    "# )\n",
    "# n_tag0high_0H = ROOT.RooRealVar(\n",
    "#     \"n_tag0high_0H\",\n",
    "#     \"n_tag0high_0H\",\n",
    "#     histos_bkg_myy['m_yy_highMass_0tag_tightIsolated_bkg_non_Higgs'].GetSumOfWeights()\n",
    "# )\n",
    "\n",
    "# n_tag2high_1H_exp = ROOT.RooRealVar(\n",
    "#     \"n_tag2high_1H_exp\", \n",
    "#     \"n_tag2high_1H_exp\", \n",
    "#     histos_bkg['m_yy_highMass_2tag_tightIsolated_bkg_single_Higgs'].GetSumOfWeights()\n",
    "# )\n",
    "# n_tag1high_1H_exp = ROOT.RooRealVar(\n",
    "#     \"n_tag1high_1H_exp\", \n",
    "#     \"n_tag1high_1H_exp\", \n",
    "#     histos_bkg['m_yy_highMass_1tag_tightIsolated_bkg_single_Higgs'].GetSumOfWeights()\n",
    "# )\n",
    "# n_tag0high_1H_exp = ROOT.RooRealVar(\n",
    "#     \"n_tag0high_1H_exp\", \n",
    "#     \"n_tag0high_1H_exp\", \n",
    "#     histos_bkg['m_yy_highMass_0tag_tightIsolated_bkg_single_Higgs'].GetSumOfWeights()\n",
    "# )\n",
    "\n",
    "n_highMass_2tag_di_Higgs_exp = ROOT.RooRealVar(\n",
    "    \"n_highMass_2tag_di_Higgs_exp\", \n",
    "    \"n_highMass_2tag_di_Higgs_exp\", \n",
    "    0.19\n",
    ")#122.3) # correct up to a constant\n",
    "n_highMass_1tag_di_Higgs_exp = ROOT.RooRealVar(\n",
    "    \"n_highMass_1tag_di_Higgs_exp\", \n",
    "    \"n_highMass_1tag_di_Higgs_exp\", \n",
    "    0.13\n",
    ")#85.1) # correct up to a constant\n",
    "\n",
    "getattr(w, 'import')(ROOT.RooArgSet(n_highMass_2tag_di_Higgs_exp, n_highMass_1tag_di_Higgs_exp))\n",
    "highMass_yields_names.extend([\"n_highMass_2tag_di_Higgs_exp\", \"n_highMass_1tag_di_Higgs_exp\"])\n",
    "\n",
    "# n_tag2low_0H = ROOT.RooRealVar(\"n_tag2low_0H\", \"n_tag2low_0H\", histos_bkg['m_yy_lowMass_2tag_tightIsolated_bkg_non_Higgs'].GetSumOfWeights())\n",
    "# n_tag1low_0H = ROOT.RooRealVar(\"n_tag1low_0H\", \"n_tag1low_0H\", histos_bkg['m_yy_lowMass_1tag_tightIsolated_bkg_non_Higgs'].GetSumOfWeights())\n",
    "# n_tag0low_0H = ROOT.RooRealVar(\"n_tag0low_0H\", \"n_tag0low_0H\", histos_bkg['m_yy_lowMass_0tag_tightIsolated_bkg_non_Higgs'].GetSumOfWeights())\n",
    "\n",
    "# n_tag2low_1H_exp = ROOT.RooRealVar(\"n_tag2low_1H_exp\", \"n_tag2low_1H_exp\", histos_bkg['m_yy_lowMass_2tag_tightIsolated_bkg_single_Higgs'].GetSumOfWeights())\n",
    "# n_tag1low_1H_exp = ROOT.RooRealVar(\"n_tag1low_1H_exp\", \"n_tag1low_1H_exp\", histos_bkg['m_yy_lowMass_1tag_tightIsolated_bkg_single_Higgs'].GetSumOfWeights())\n",
    "# n_tag0low_1H_exp = ROOT.RooRealVar(\"n_tag0low_1H_exp\", \"n_tag0low_1H_exp\", histos_bkg['m_yy_lowMass_0tag_tightIsolated_bkg_single_Higgs'].GetSumOfWeights())\n",
    "\n",
    "# n_tag2low_2H_exp = ROOT.RooRealVar(\"n_tag2low_2H_exp\", \"n_tag2low_2H_exp\", 0.32)#122.3) # don't have low mass number, use high mass\n",
    "# n_tag1low_2H_exp = ROOT.RooRealVar(\"n_tag1low_2H_exp\", \"n_tag1low_2H_exp\", 0.23)#85.1) # don't have low mass number, use high mass\n",
    "\n",
    "\n",
    "\n",
    "# getattr(w, 'import')(\n",
    "#     ROOT.RooArgSet(\n",
    "#         n_tag2high_1H_exp,\n",
    "#         n_tag1high_1H_exp,\n",
    "#         n_tag0high_1H_exp,\n",
    "#         n_tag2high_2H_exp,\n",
    "#         n_tag1high_2H_exp,\n",
    "#         n_tag2high_0H,\n",
    "#         n_tag1high_0H,\n",
    "#         n_tag0high_0H\n",
    "# #         n_tag2low_1H_exp,\n",
    "# #         n_tag1low_1H_exp,\n",
    "# #         n_tag0low_1H_exp,\n",
    "# #         n_tag2low_2H_exp\n",
    "#     )\n",
    "# )\n",
    "\n",
    "# getattr(w, 'import')(\n",
    "#     ROOT.RooArgSet(\n",
    "#         n_tag1low_2H_exp,\n",
    "#         n_tag2high_0H,\n",
    "#         n_tag1high_0H,\n",
    "#         n_tag0high_0H,\n",
    "#         n_tag2lo_expw_0H,\n",
    "#         n_tag1low_0H,\n",
    "#         n_tag0low_0H\n",
    "#     )\n",
    "# ) # cannot import them all together because an ArgSet takes at most 10 elements :O\n"
   ]
  },
  {
   "cell_type": "code",
   "execution_count": 58,
   "metadata": {
    "collapsed": false
   },
   "outputs": [
    {
     "data": {
      "text/plain": [
       "['n_highMass_1tag_non_Higgs_exp',\n",
       " 'n_highMass_2tag_single_Higgs_exp',\n",
       " 'n_highMass_0tag_single_Higgs_exp',\n",
       " 'n_highMass_0tag_non_Higgs_exp',\n",
       " 'n_highMass_1tag_single_Higgs_exp',\n",
       " 'n_highMass_2tag_non_Higgs_exp',\n",
       " 'n_highMass_2tag_di_Higgs_exp',\n",
       " 'n_highMass_1tag_di_Higgs_exp']"
      ]
     },
     "execution_count": 58,
     "metadata": {},
     "output_type": "execute_result"
    }
   ],
   "source": [
    "highMass_yields_names"
   ]
  },
  {
   "cell_type": "code",
   "execution_count": 59,
   "metadata": {
    "collapsed": false
   },
   "outputs": [],
   "source": [
    "for name in highMass_yields_names:\n",
    "    if 'di_Higgs' in name:\n",
    "        w.factory(\"expr::{name_noexp}('{name} * {coeff} + {bias}', {name}, {coeff}, {bias})\".format(\n",
    "            name_noexp = name.replace('_exp', ''),\n",
    "            coeff = 'coeff_2H',\n",
    "            name = name,\n",
    "            bias = name.replace('_exp', '_bias')\n",
    "        )) \n",
    "    elif 'single_Higgs' in name:\n",
    "        w.factory(\"expr::{name_noexp}('{name} * {coeff}', {name}, {coeff})\".format(\n",
    "            name_noexp = name.replace('_exp', ''),\n",
    "            coeff = 'coeff_1H',\n",
    "            name = name  \n",
    "        ))\n",
    "    #elif 'non_Higgs' in name:\n",
    "        "
   ]
  },
  {
   "cell_type": "code",
   "execution_count": 60,
   "metadata": {
    "collapsed": false,
    "deletable": true,
    "editable": true
   },
   "outputs": [],
   "source": [
    "# w.factory(\"expr::n_tag2high_1H('n_tag2high_1H_exp * coeff_1H', n_tag2high_1H_exp, coeff_1H)\")\n",
    "# w.factory(\"expr::n_tag1high_1H('n_tag1high_1H_exp * coeff_1H', n_tag1high_1H_exp, coeff_1H)\")\n",
    "# w.factory(\"expr::n_tag0high_1H('n_tag0high_1H_exp * coeff_1H', n_tag0high_1H_exp, coeff_1H)\")\n",
    "\n",
    "# # w.factory(\"expr::n_tag2low_1H('n_tag2low_1H_exp * coeff_1H', n_tag2low_1H_exp, coeff_1H)\")\n",
    "# # w.factory(\"expr::n_tag1low_1H('n_tag1low_1H_exp * coeff_1H', n_tag1low_1H_exp, coeff_1H)\")\n",
    "# # w.factory(\"expr::n_tag0low_1H('n_tag0low_1H_exp * coeff_1H', n_tag0low_1H_exp, coeff_1H)\")\n",
    "\n",
    "# w.factory(\"expr::n_tag2high_2H('n_tag2high_2H_exp * coeff_2H + n_bias_tag2high_2H', n_tag2high_2H_exp, coeff_2H, n_bias_tag2high_2H)\")\n",
    "# w.factory(\"expr::n_tag1high_2H('n_tag1high_2H_exp * coeff_2H + n_bias_tag1high_2H', n_tag1high_2H_exp, coeff_2H, n_bias_tag1high_2H)\")\n",
    "\n",
    "# # w.factory(\"expr::n_tag2low_2H('n_tag2low_2H_exp * coeff_2H + n_bias_tag2low_2H', n_tag2low_2H_exp, coeff_2H, n_bias_tag2low_2H)\")\n",
    "# # w.factory(\"expr::n_tag1low_2H('n_tag1low_2H_exp * coeff_2H + n_bias_tag1low_2H', n_tag1low_2H_exp, coeff_2H, n_bias_tag1low_2H)\")"
   ]
  },
  {
   "cell_type": "code",
   "execution_count": 61,
   "metadata": {
    "collapsed": false,
    "deletable": true,
    "editable": true,
    "scrolled": false
   },
   "outputs": [],
   "source": [
    "# w.loadSnapshot(\"lowmass_epoly2\")\n",
    "# [(a.GetName(), a.setConstant(True)) for a in wrap_iter(w.set(\"params_epoly2\").iterator())] # probably not needed\n",
    "# w.loadSnapshot(\"lowmass_cb\")\n",
    "# [(a.GetName(), a.setConstant(True)) for a in wrap_iter(w.set(\"params_dscb\").iterator())] # probably not needed\n",
    "\n",
    "# w.factory(\"PolyVar::bkg_exponent_lowmass(myy,{a0, a1_lowmass[-100, 100], a2_lowmass[-100, 100]})\")\n",
    "# w.factory(\"Exponential::bkg_pdf_lowmass(bkg_exponent_lowmass,1)\")\n",
    "\n",
    "# [w.var(a.GetName() + \"_lowmass\").setVal(a.getVal()) for a in wrap_iter(w.set(\"params_epoly2\").iterator())]\n",
    "# [w.var(a.GetName() + \"_lowmass\").setConstant(True) for a in wrap_iter(w.set(\"params_epoly2\").iterator())]\n",
    "\n",
    "# # w.factory(\"HggTwoSidedCBPdf::dscb_pdf_lowmass(\\\n",
    "# #           myy,\\\n",
    "# #           m0_cb,\\\n",
    "# #           sigma_cb,\\\n",
    "# #           alphaLo_cb_lowmass[0, 5],\\\n",
    "# #           nLo_cb_lowmass[0, 10],\\\n",
    "# #           alphaHi_cb_lowmass[0, 5],\\\n",
    "# #           nHi_cb_lowmass[0, 10],\\\n",
    "# #           )\"\n",
    "# # ) # no suitable constructor found (??)\n",
    "# # -- define single-Higgs bkg fit function (Double Sided Crystal Ball)\n",
    "# m0_cb_tag0low = ROOT.RooRealVar('m0_cb_tag0low','m0_cb_tag0low', 125)\n",
    "# # DON'T HAVE SIGMA FOR 0 TAG, USE 1 TAG\n",
    "# # ALSO, THE NUMBER WE HAVE IS FOR HIGH MASS NOT LOW MASS :(\n",
    "# sigma_cb_tag0low = ROOT.RooRealVar('sigma_cb_tag0low','sigma_cb_tag0low', 1.53) \n",
    "# m0_cb_tag1low = ROOT.RooRealVar('m0_cb_tag1low','m0_cb_tag1low', 125)\n",
    "# sigma_cb_tag1low = ROOT.RooRealVar('sigma_cb_tag1low','sigma_cb_tag1low', 1.53)\n",
    "# m0_cb_tag2low = ROOT.RooRealVar('m0_cb_tag2low','m0_cb_tag2low', 125)\n",
    "# sigma_cb_tag2low = ROOT.RooRealVar('sigma_cb_tag2low','sigma_cb_tag2low', 1.46)\n",
    "# # values for these variables will be set below\n",
    "# alphaLo_cb_lowmass = ROOT.RooRealVar('alphaLo_cb_lowmass','alphaLo_cb_lowmass', 0, 5)\n",
    "# nLo_cb_lowmass = ROOT.RooRealVar('nLo_cb_lowmass','nLo_cb_lowmass', 0, 10)\n",
    "# alphaHi_cb_lowmass = ROOT.RooRealVar('alphaHi_cb_lowmass','alphaHi_cb_lowmass', 0, 5)\n",
    "# nHi_cb_lowmass = ROOT.RooRealVar('nHi_cb_lowmass','nHi_cb_lowmass', 0, 10)\n",
    "# getattr(w, 'import')(ROOT.RooArgSet(m0_cb_tag0low,\n",
    "#     sigma_cb_tag0low,\n",
    "#     m0_cb_tag1low,\n",
    "#     sigma_cb_tag1low,\n",
    "#     m0_cb_tag2low,\n",
    "#     sigma_cb_tag2low,\n",
    "# ))\n",
    "# # NOTE: WE ARE SHARING THE FITTING PARAMETERS ACROSS CATEGORIES, BUT IN REALITY ALL CATEGORIES WILL HAVE \n",
    "# # THEIR OWN INDIVIDUAL m0, sigma0, alphaHi, alphaLo, nHi, nLo\n",
    "# # ALSO, FOR NOW WE ARE USING THE SAME CB FOR 1 AND 2 HIGGS, BUT THESE WILL IDEALLY BE COMPLETELY DIFFERENT\n",
    "\n",
    "# # -- double sided crystal ball\n",
    "# w.factory(\"expr::m0_tag0low('m0_cb_tag0low * (1 + 0.005 * EG_SCALE)', m0_cb_tag0low, EG_SCALE)\")\n",
    "# w.factory(\"expr::m0_tag1low('m0_cb_tag1low * (1 + 0.005 * EG_SCALE)', m0_cb_tag1low, EG_SCALE)\")\n",
    "# w.factory(\"expr::m0_tag2low('m0_cb_tag2low * (1 + 0.5 * EG_SCALE)', m0_cb_tag2low, EG_SCALE)\")\n",
    "\n",
    "# w.factory(\"expr::sigma_tag1low('sigma_cb_tag1low * (1 + 0.108 * EG_RES) * (1 + 0.03 * EG_SCALE)', sigma_cb_tag1low, EG_RES, EG_SCALE)\")\n",
    "# w.factory(\"expr::sigma_tag0low('sigma_cb_tag0low * (1 + 0.108 * EG_RES) * (1 + 0.03 * EG_SCALE)', sigma_cb_tag0low, EG_RES, EG_SCALE)\")\n",
    "# w.factory(\"expr::sigma_tag2low('sigma_cb_tag2low * (1 + 0.10 * EG_RES) * (1 + 0.02 * EG_SCALE)', sigma_cb_tag2low, EG_RES, EG_SCALE)\")\n",
    "\n",
    "    \n",
    "# dscb_pdf_tag0low = ROOT.HggTwoSidedCBPdf(\n",
    "#     'dscb_pdf_tag0low', 'Double Sided Crystal Ball',\n",
    "#     myy, w.function(\"m0_tag0low\"), w.function(\"sigma_tag0low\"),\n",
    "#     alphaLo_cb_lowmass,nLo_cb_lowmass,alphaHi_cb_lowmass,nHi_cb_lowmass\n",
    "# ) # AGAIN WE DON'T HAVE THE VARIATIONS FOR THE 0 TAG CATEGORY, SO I'M GOING TO USE THE ONE FROM 1 TAG FOR NOW\n",
    "# dscb_pdf_tag1low = ROOT.HggTwoSidedCBPdf(\n",
    "#     'dscb_pdf_tag1low', 'Double Sided Crystal Ball',\n",
    "#     myy, w.function(\"m0_tag1low\"), w.function(\"sigma_tag1low\"),\n",
    "#     alphaLo_cb_lowmass,nLo_cb_lowmass,alphaHi_cb_lowmass,nHi_cb_lowmass\n",
    "# )\n",
    "# dscb_pdf_tag2low = ROOT.HggTwoSidedCBPdf(\n",
    "#     'dscb_pdf_tag2low', 'Double Sided Crystal Ball',\n",
    "#     myy, w.function(\"m0_tag2low\"), w.function(\"sigma_tag2low\"),\n",
    "#     alphaLo_cb_lowmass,nLo_cb_lowmass,alphaHi_cb_lowmass,nHi_cb_lowmass\n",
    "# )\n",
    "# getattr(w, 'import')(ROOT.RooArgSet(dscb_pdf_tag0low, dscb_pdf_tag1low, dscb_pdf_tag2low))\n",
    "# [w.var(a.GetName() + \"_lowmass\").setVal(a.getVal()) for a in wrap_iter(w.set(\"params_dscb\").iterator())]\n",
    "# [w.var(a.GetName() + \"_lowmass\").setConstant(True) for a in wrap_iter(w.set(\"params_dscb\").iterator())]\n",
    "\n",
    "# w.factory(\"expr::n_tag1low_12H('n_tag1low_1H + n_tag1low_2H', n_tag1low_1H, n_tag1low_2H)\")\n",
    "# w.factory(\"expr::n_tag2low_12H('n_tag2low_1H + n_tag2low_2H', n_tag2low_1H, n_tag2low_2H)\")\n",
    "\n",
    "# w.factory(\"SUM:pdf_tag0low(\\\n",
    "#    n_tag0low_0H * bkg_pdf_lowmass,\\\n",
    "#    n_tag0low_1H * dscb_pdf_tag0low)\"\n",
    "# )\n",
    "# w.factory(\"SUM:pdf_tag1low(\\\n",
    "#    n_tag1low_0H * bkg_pdf_lowmass,\\\n",
    "#    n_tag1low_12H * dscb_pdf_tag1low)\"\n",
    "# )\n",
    "# w.factory(\"SUM:pdf_tag2low(\\\n",
    "#    n_tag2low_0H * bkg_pdf_lowmass,\\\n",
    "#    n_tag2low_12H * dscb_pdf_tag2low)\"\n",
    "# )"
   ]
  },
  {
   "cell_type": "code",
   "execution_count": 62,
   "metadata": {
    "collapsed": false,
    "deletable": true,
    "editable": true
   },
   "outputs": [
    {
     "data": {
      "text/plain": [
       "<ROOT.RooAddPdf object (\"pdf_highMass_2tag\") at 0x7fc49ced6200>"
      ]
     },
     "execution_count": 62,
     "metadata": {},
     "output_type": "execute_result"
    },
    {
     "name": "stdout",
     "output_type": "stream",
     "text": [
      "[#1] INFO:ObjectHandling -- RooWorkspace::import(w) importing HggTwoSidedCBPdf::dscb_pdf_highmass_0tag\n",
      "[#1] INFO:ObjectHandling -- RooWorkspace::import(w) importing HggTwoSidedCBPdf::dscb_pdf_highmass_1tag\n",
      "[#1] INFO:ObjectHandling -- RooWorkspace::import(w) importing HggTwoSidedCBPdf::dscb_pdf_highmass_2tag\n"
     ]
    }
   ],
   "source": [
    "w.loadSnapshot(\"highmass_epoly2\")\n",
    "[(a.GetName(), a.setConstant(True)) for a in wrap_iter(w.set(\"params_epoly2\").iterator())] # probably not needed\n",
    "w.loadSnapshot(\"highmass_cb\")\n",
    "[(a.GetName(), a.setConstant(True)) for a in wrap_iter(w.set(\"params_dscb\").iterator())] # probably not needed\n",
    "\n",
    "w.factory(\"PolyVar::bkg_exponent_highmass(myy,{a0, a1_highmass[-100, 100], a2_highmass[-100, 100]})\")\n",
    "w.factory(\"Exponential::bkg_pdf_highmass(bkg_exponent_highmass,1)\")\n",
    "\n",
    "[w.var(a.GetName() + \"_highmass\").setVal(a.getVal()) for a in wrap_iter(w.set(\"params_epoly2\").iterator())]\n",
    "[w.var(a.GetName() + \"_highmass\").setConstant(True) for a in wrap_iter(w.set(\"params_epoly2\").iterator())]\n",
    "\n",
    "# w.factory(\"HggTwoSidedCBPdf::dscb_pdf_lowmass(\\\n",
    "#           myy,\\\n",
    "#           m0_cb,\\\n",
    "#           sigma_cb,\\\n",
    "#           alphaLo_cb_lowmass[0, 5],\\\n",
    "#           nLo_cb_lowmass[0, 10],\\\n",
    "#           alphaHi_cb_lowmass[0, 5],\\\n",
    "#           nHi_cb_lowmass[0, 10],\\\n",
    "#           )\"\n",
    "# ) # no suitable constructor found (??)\n",
    "# -- define single-Higgs bkg fit function (Double Sided Crystal Ball)\n",
    "for i in ['0', '1', '2']:\n",
    "    w.factory(\"m0_cb_highmass_\" + i + \"tag[125]\")\n",
    "    w.factory(\"sigma_cb_highmass_\" + i + \"tag[1.53]\")\n",
    "# w.factory(\"m0_cb_highMass_1tag\", 125)\n",
    "# w.factory(\"m0_cb_highMass_2tag\", 125)\n",
    "# w.factory(\"sigma_cb_highMass_0tag\", 1.53)\n",
    "# w.factory(\"sigma_cb_highMass_1tag\", 1.53)\n",
    "# w.factory(\"sigma_cb_highMass_2tag\", 1.53)\n",
    "w.factory(\"alphaLo_cb_highmass[0, 5]\")\n",
    "w.factory(\"alphaHi_cb_highmass[0, 5]\")\n",
    "w.factory(\"nLo_cb_highmass[0, 10]\")\n",
    "w.factory(\"nHi_cb_highmass[0, 10]\")\n",
    "\n",
    "\n",
    "\n",
    "\n",
    "# m0_cb_tag0high = ROOT.RooRealVar('m0_cb_tag0high','m0_cb_tag0high', 125)\n",
    "# sigma_cb_tag0high = ROOT.RooRealVar('sigma_cb_tag0high','sigma_cb_tag0high', 1.53)\n",
    "# m0_cb_tag1high = ROOT.RooRealVar('m0_cb_tag1high','m0_cb_tag1high', 125)\n",
    "# sigma_cb_tag1high = ROOT.RooRealVar('sigma_cb_tag1high','sigma_cb_tag1high', 1.53)\n",
    "# m0_cb_tag2high = ROOT.RooRealVar('m0_cb_tag2high','m0_cb_tag2high', 125)\n",
    "# sigma_cb_tag2high = ROOT.RooRealVar('sigma_cb_tag2high','sigma_cb_tag2high', 1.46)\n",
    "# alphaLo_cb_highmass = ROOT.RooRealVar('alphaLo_cb_highmass','alphaLo_cb_highmass', 0, 5)\n",
    "# nLo_cb_highmass = ROOT.RooRealVar('nLo_cb_highmass','nLo_cb_highmass', 0, 10)\n",
    "# alphaHi_cb_highmass = ROOT.RooRealVar('alphaHi_cb_highmass','alphaHi_cb_highmass', 0, 5)\n",
    "# nHi_cb_highmass = ROOT.RooRealVar('nHi_cb_highmass','nHi_cb_highmass', 0, 10)\n",
    "\n",
    "# getattr(w, 'import')(ROOT.RooArgSet(m0_cb_tag0high,\n",
    "#     sigma_cb_tag0high,\n",
    "#     m0_cb_tag1high,\n",
    "#     sigma_cb_tag1high,\n",
    "#     m0_cb_tag2high,\n",
    "#     sigma_cb_tag2high,\n",
    "# ))\n",
    "# NOTE: WE ARE SHARING THE FITTING PARAMETERS ACROSS CATEGORIES, BUT IN REALITY ALL CATEGORIES WILL HAVE \n",
    "# THEIR OWN INDIVIDUAL m0, sigma0, alphaHi, alphaLo, nHi, nLo\n",
    "# ALSO, FOR NOW WE ARE USING THE SAME CB FOR 1 AND 2 HIGGS, BUT THESE WILL IDEALLY BE COMPLETELY DIFFERENT\n",
    "\n",
    "# -- double sided crystal ball\n",
    "w.factory(\"expr::m0_highmass_0tag('m0_cb_highmass_0tag * (1 + 0.005 * EG_SCALE)', m0_cb_highmass_0tag, EG_SCALE)\")\n",
    "w.factory(\"expr::m0_highmass_1tag('m0_cb_highmass_1tag * (1 + 0.005 * EG_SCALE)', m0_cb_highmass_1tag, EG_SCALE)\")\n",
    "w.factory(\"expr::m0_highmass_2tag('m0_cb_highmass_2tag * (1 + 0.5 * EG_SCALE)', m0_cb_highmass_2tag, EG_SCALE)\")\n",
    "\n",
    "w.factory(\"expr::sigma_highmass_0tag('sigma_cb_highmass_0tag * (1 + 0.108 * EG_RES) * (1 + 0.03 * EG_SCALE)', sigma_cb_highmass_0tag, EG_RES, EG_SCALE)\")\n",
    "w.factory(\"expr::sigma_highmass_1tag('sigma_cb_highmass_1tag * (1 + 0.108 * EG_RES) * (1 + 0.03 * EG_SCALE)', sigma_cb_highmass_1tag, EG_RES, EG_SCALE)\")\n",
    "w.factory(\"expr::sigma_highmass_2tag('sigma_cb_highmass_2tag * (1 + 0.10 * EG_RES) * (1 + 0.02 * EG_SCALE)', sigma_cb_highmass_2tag, EG_RES, EG_SCALE)\")\n",
    "\n",
    "    \n",
    "dscb_pdf_highmass_0tag = ROOT.HggTwoSidedCBPdf(\n",
    "    'dscb_pdf_highmass_0tag', 'Double Sided Crystal Ball',\n",
    "    myy, w.function(\"m0_highmass_0tag\"), w.function(\"sigma_highmass_0tag\"),\n",
    "    w.var(\"alphaLo_cb_highmass\"), w.var(\"nLo_cb_highmass\"), w.var(\"alphaHi_cb_highmass\"), w.var(\"nHi_cb_highmass\")\n",
    ") # AGAIN WE DON'T HAVE THE VARIATIONS FOR THE 0 TAG CATEGORY, SO I'M GOING TO USE THE ONE FROM 1 TAG FOR NOW\n",
    "dscb_pdf_highmass_1tag = ROOT.HggTwoSidedCBPdf(\n",
    "    'dscb_pdf_highmass_1tag', 'Double Sided Crystal Ball',\n",
    "    myy, w.function(\"m0_highmass_1tag\"), w.function(\"sigma_highmass_1tag\"),\n",
    "    w.var(\"alphaLo_cb_highmass\"),w.var(\"nLo_cb_highmass\"),w.var(\"alphaHi_cb_highmass\"),w.var(\"nHi_cb_highmass\")\n",
    ")\n",
    "dscb_pdf_highmass_2tag = ROOT.HggTwoSidedCBPdf(\n",
    "    'dscb_pdf_highmass_2tag', 'Double Sided Crystal Ball',\n",
    "    myy, w.function(\"m0_highmass_2tag\"), w.function(\"sigma_highmass_2tag\"),\n",
    "    w.var(\"alphaLo_cb_highmass\"),w.var(\"nLo_cb_highmass\"),w.var(\"alphaHi_cb_highmass\"),w.var(\"nHi_cb_highmass\")\n",
    ")\n",
    "getattr(w, 'import')(ROOT.RooArgSet(dscb_pdf_highmass_0tag, dscb_pdf_highmass_1tag, dscb_pdf_highmass_2tag))\n",
    "[w.var(a.GetName() + \"_highmass\").setVal(a.getVal()) for a in wrap_iter(w.set(\"params_dscb\").iterator())]\n",
    "[w.var(a.GetName() + \"_highmass\").setConstant(True) for a in wrap_iter(w.set(\"params_dscb\").iterator())]\n",
    "\n",
    "w.factory(\"expr::n_highMass_1tag_12_Higgs('n_highMass_1tag_single_Higgs + n_highMass_1tag_di_Higgs', n_highMass_1tag_single_Higgs, n_highMass_1tag_di_Higgs)\")\n",
    "w.factory(\"expr::n_highMass_2tag_12_Higgs('n_highMass_2tag_single_Higgs + n_highMass_2tag_di_Higgs', n_highMass_2tag_single_Higgs, n_highMass_2tag_di_Higgs)\")\n",
    "\n",
    "w.factory(\"SUM:pdf_highMass_0tag(\\\n",
    "   n_highMass_0tag_non_Higgs_exp * bkg_pdf_highmass,\\\n",
    "   n_highMass_0tag_single_Higgs * dscb_pdf_highmass_0tag)\"\n",
    ")\n",
    "w.factory(\"SUM:pdf_highMass_1tag(\\\n",
    "   n_highMass_1tag_non_Higgs_exp * bkg_pdf_highmass,\\\n",
    "   n_highMass_1tag_12_Higgs * dscb_pdf_highmass_1tag)\"\n",
    ")\n",
    "w.factory(\"SUM:pdf_highMass_2tag(\\\n",
    "   n_highMass_2tag_non_Higgs_exp * bkg_pdf_highmass,\\\n",
    "   n_highMass_2tag_12_Higgs * dscb_pdf_highmass_2tag)\"\n",
    ")\n",
    "\n",
    "# dscb_pdf_tag0high = ROOT.HggTwoSidedCBPdf(\n",
    "#     'dscb_pdf_tag0high', 'Double Sided Crystal Ball',\n",
    "#     myy,m0_cb_tag0high,sigma_cb_tag0high,alphaLo_cb_highmass,nLo_cb_highmass,alphaHi_cb_highmass,nHi_cb_highmass\n",
    "# )\n",
    "# dscb_pdf_tag1high = ROOT.HggTwoSidedCBPdf(\n",
    "#     'dscb_pdf_tag1high', 'Double Sided Crystal Ball',\n",
    "#     myy,m0_cb_tag1high,sigma_cb_tag1high,alphaLo_cb_highmass,nLo_cb_highmass,alphaHi_cb_highmass,nHi_cb_highmass\n",
    "# )\n",
    "# dscb_pdf_tag2high = ROOT.HggTwoSidedCBPdf(\n",
    "#     'dscb_pdf_tag2high', 'Double Sided Crystal Ball',\n",
    "#     myy,m0_cb_tag2high,sigma_cb_tag2high,alphaLo_cb_highmass,nLo_cb_highmass,alphaHi_cb_highmass,nHi_cb_highmass\n",
    "# )\n",
    "# getattr(w, 'import')(ROOT.RooArgSet(dscb_pdf_tag0high, dscb_pdf_tag1high, dscb_pdf_tag2high))\n",
    "# [w.var(a.GetName() + \"_highmass\").setVal(a.getVal()) for a in wrap_iter(w.set(\"params_dscb\").iterator())]\n",
    "# [w.var(a.GetName() + \"_highmass\").setConstant(True) for a in wrap_iter(w.set(\"params_dscb\").iterator())]\n",
    "\n",
    "# w.factory(\"expr::n_tag1high_12H('n_tag1high_1H + n_tag1high_2H', n_tag1high_1H, n_tag1high_2H)\")\n",
    "# w.factory(\"expr::n_tag2high_12H('n_tag2high_1H + n_tag2high_2H', n_tag2high_1H, n_tag2high_2H)\")\n",
    "\n",
    "# w.factory(\"SUM:pdf_tag0high(\\\n",
    "#    n_tag0high_0H[1000, 0, 200000] * bkg_pdf_highmass,\\\n",
    "#    n_tag0high_1H * dscb_pdf_tag0high)\"\n",
    "# )\n",
    "# w.factory(\"SUM:pdf_tag1high(\\\n",
    "#    n_tag1high_0H[1000, 0, 200000] * bkg_pdf_highmass,\\\n",
    "#    n_tag1high_12H * dscb_pdf_tag1high)\"\n",
    "# )\n",
    "# w.factory(\"SUM:pdf_tag2high(\\\n",
    "#    n_tag2high_0H[1000, 0, 200000] * bkg_pdf_highmass,\\\n",
    "#    n_tag2high_12H * dscb_pdf_tag2high)\"\n",
    "# )"
   ]
  },
  {
   "cell_type": "code",
   "execution_count": 63,
   "metadata": {
    "collapsed": true,
    "deletable": true,
    "editable": true
   },
   "outputs": [],
   "source": [
    "# w.factory(\"SUM:pdf_tag0high(\\\n",
    "#    n_tag0high_0H[111901, 100000, 120000] * bkg_pdf_highmass,\\\n",
    "#    n_tag0high_1H[15980, 15000, 17000] * dscb_pdf_tag0high)\"\n",
    "# )\n",
    "# w.factory(\"SUM:pdf_tag1high(\\\n",
    "#    n_tag1high_0H[6568, 5500, 7500] * bkg_pdf_highmass,\\\n",
    "#    n_tag1high_1H[2260, 2000, 3000] * dscb_pdf_tag1high)\"\n",
    "# )\n",
    "# w.factory(\"SUM:pdf_tag2high(\\\n",
    "#    n_tag2high_0H[949, 800, 1000] * bkg_pdf_highmass,\\\n",
    "#    n_tag2high_1H[1135, 1000, 1200] * dscb_pdf_tag2high)\"\n",
    "# )"
   ]
  },
  {
   "cell_type": "code",
   "execution_count": null,
   "metadata": {
    "collapsed": true,
    "deletable": true,
    "editable": true
   },
   "outputs": [],
   "source": []
  },
  {
   "cell_type": "code",
   "execution_count": 64,
   "metadata": {
    "collapsed": false,
    "deletable": true,
    "editable": true
   },
   "outputs": [
    {
     "data": {
      "text/plain": [
       "<ROOT.RooSimultaneous object (\"jointmodel\") at 0x7fc49fb4c800>"
      ]
     },
     "execution_count": 64,
     "metadata": {},
     "output_type": "execute_result"
    }
   ],
   "source": [
    "# w.factory(\"SIMUL:jointmodel(\\\n",
    "#     cat,\\\n",
    "#         tag0low = PROD:constr_tag0low(pdf_tag0low, EG_SCALE_gaussian, EG_RES_gaussian, theta_yield_gaussian),\\\n",
    "#         tag0high = PROD:constr_tag0high(pdf_tag0high, EG_SCALE_gaussian, EG_RES_gaussian, theta_yield_gaussian),\\\n",
    "#         tag1low = PROD:constr_tag1low(pdf_tag1low, EG_SCALE_gaussian, EG_RES_gaussian, theta_yield_gaussian, n_bias_tag1low_2H_gaussian),\\\n",
    "#         tag1high = PROD:constr_tag1high(pdf_tag1high, EG_SCALE_gaussian, EG_RES_gaussian, theta_yield_gaussian, n_bias_tag1high_2H_gaussian),\\\n",
    "#         tag2low = PROD:constr_tag2low(pdf_tag2low, EG_SCALE_gaussian, EG_RES_gaussian, theta_yield_gaussian, n_bias_tag2low_2H_gaussian),\\\n",
    "#         tag2high = PROD:constr_tag2high(pdf_tag2high, EG_SCALE_gaussian, EG_RES_gaussian, theta_yield_gaussian, n_bias_tag2high_2H_gaussian))\"\n",
    "# )\n",
    "w.factory(\"SIMUL:jointmodel(\\\n",
    "    highmasscats,\\\n",
    "        tag0 = pdf_highMass_0tag,\\\n",
    "        tag1 = PROD:constr_highMass_1tag(pdf_highMass_1tag, n_highMass_1tag_di_Higgs_bias_gaussian),\\\n",
    "        tag2 = PROD:constr_highMass_2tag(pdf_highMass_2tag, n_highMass_2tag_di_Higgs_bias_gaussian))\"\n",
    ")\n",
    "# #ExtendPdf:pdf(gaus, nevt[100,0,100000])\n",
    "# # Simultaneous p.d.f.s are constructed with SIMUL( index, state1=pdf1, state2=pdf2,...)\n",
    "# # w->factory(\"SIMUL::smodel( c[A=0,B=1], A=Gaussian::gs(x,m,s[1]), B=Landau::ls(x,0,1) )\")"
   ]
  },
  {
   "cell_type": "code",
   "execution_count": 65,
   "metadata": {
    "collapsed": false
   },
   "outputs": [
    {
     "data": {
      "text/plain": [
       "<ROOT.RooProdPdf object (\"constrained_jointmodel\") at 0x7fc49fb78800>"
      ]
     },
     "execution_count": 65,
     "metadata": {},
     "output_type": "execute_result"
    }
   ],
   "source": [
    "w.factory(\"PROD::constrained_jointmodel(jointmodel,\\\n",
    "    EG_SCALE_gaussian, EG_RES_gaussian, theta_yield_gaussian)\")"
   ]
  },
  {
   "cell_type": "code",
   "execution_count": 66,
   "metadata": {
    "collapsed": false,
    "deletable": true,
    "editable": true
   },
   "outputs": [],
   "source": [
    "#data_combo.table(w.cat(\"cat\")).Print()"
   ]
  },
  {
   "cell_type": "code",
   "execution_count": 67,
   "metadata": {
    "collapsed": false,
    "deletable": true,
    "editable": true,
    "scrolled": false
   },
   "outputs": [
    {
     "name": "stdout",
     "output_type": "stream",
     "text": [
      "[#1] INFO:Minization -- p.d.f. provides expected number of events, including extended term in likelihood.\n",
      "[#1] INFO:NumericIntegration -- RooRealIntegral::init(bkg_pdf_highmass_Int[myy]) using numeric integrator RooIntegrator1D to calculate Int(myy)\n",
      "[#1] INFO:Minization --  Including the following contraint terms in minimization: (EG_SCALE_gaussian,EG_RES_gaussian,theta_yield_gaussian,n_highMass_1tag_di_Higgs_bias_gaussian,n_highMass_2tag_di_Higgs_bias_gaussian)\n",
      "[#1] INFO:Fitting -- RooAddition::defaultErrorLevel(nll_constrained_jointmodel_highmass_data_with_constr) Summation contains a RooNLLVar, using its error level\n",
      "[#1] INFO:Minization -- RooMinimizer::optimizeConst: activating const optimization\n",
      "[#1] INFO:NumericIntegration -- RooRealIntegral::init(bkg_pdf_highmass_Int[myy]) using numeric integrator RooIntegrator1D to calculate Int(myy)\n",
      "[#1] INFO:NumericIntegration -- RooRealIntegral::init(bkg_pdf_highmass_Int[myy]) using numeric integrator RooIntegrator1D to calculate Int(myy)\n",
      "[#1] INFO:Minization --  The following expressions have been identified as constant and will be precalculated and cached: (bkg_pdf_highmass)\n",
      "[#1] INFO:Minization --  The following expressions will be evaluated in cache-and-track mode: (jointmodel,dscb_pdf_highmass_0tag,dscb_pdf_highmass_1tag,dscb_pdf_highmass_2tag)\n",
      " **********\n",
      " **    1 **SET PRINT           1\n",
      " **********\n",
      " **********\n",
      " **    2 **SET NOGRAD\n",
      " **********\n",
      " PARAMETER DEFINITIONS:\n",
      "    NO.   NAME         VALUE      STEP SIZE      LIMITS\n",
      "     1 EG_RES       0.00000e+00  2.00000e+00   -1.00000e+01  1.00000e+01\n",
      "     2 EG_SCALE     0.00000e+00  2.00000e+00   -1.00000e+01  1.00000e+01\n",
      "     3 mu_2H        1.00000e+00  5.00000e-01    0.00000e+00  2.00000e+01\n",
      "     4 n_highMass_1tag_di_Higgs_bias   0.00000e+00  2.00000e+01   -1.00000e+02  1.00000e+02\n",
      "     5 n_highMass_2tag_di_Higgs_bias   0.00000e+00  2.00000e+01   -1.00000e+02  1.00000e+02\n",
      "     6 theta_yield   0.00000e+00  2.00000e+00   -1.00000e+01  1.00000e+01\n",
      " **********\n",
      " **    3 **SET ERR         0.5\n",
      " **********\n",
      " **********\n",
      " **    4 **SET PRINT           1\n",
      " **********\n",
      " **********\n",
      " **    5 **SET STR           1\n",
      " **********\n",
      " NOW USING STRATEGY  1: TRY TO BALANCE SPEED AGAINST RELIABILITY\n",
      " **********\n",
      " **    6 **MIGRAD        3000           1\n",
      " **********\n",
      " FIRST CALL TO USER FUNCTION AT NEW START POINT, WITH IFLAG=4.\n",
      " START MIGRAD MINIMIZATION.  STRATEGY  1.  CONVERGENCE WHEN EDM .LT. 1.00e-03\n",
      " FCN=-2160.79 FROM MIGRAD    STATUS=INITIATE       26 CALLS          27 TOTAL\n",
      "                     EDM= unknown      STRATEGY= 1      NO ERROR MATRIX       \n",
      "  EXT PARAMETER               CURRENT GUESS       STEP         FIRST   \n",
      "  NO.   NAME      VALUE            ERROR          SIZE      DERIVATIVE \n",
      "   1  EG_RES       0.00000e+00   2.00000e+00   2.01358e-01  -3.08352e-01\n",
      "   2  EG_SCALE     0.00000e+00   2.00000e+00   2.01358e-01   1.64307e+01\n",
      "   3  mu_2H        1.00000e+00   5.00000e-01   1.18625e-01   8.94602e-02\n",
      "   4  n_highMass_1tag_di_Higgs_bias   0.00000e+00   2.00000e+01   2.01358e-01  -5.96776e-01\n",
      "   5  n_highMass_2tag_di_Higgs_bias   0.00000e+00   2.00000e+01   2.01358e-01   1.11911e+01\n",
      "   6  theta_yield   0.00000e+00   2.00000e+00   2.01358e-01   1.28714e-01\n",
      "                               ERR DEF= 0.5\n",
      " MIGRAD MINIMIZATION HAS CONVERGED.\n",
      " MIGRAD WILL VERIFY CONVERGENCE AND ERROR MATRIX.\n",
      " COVARIANCE MATRIX CALCULATED SUCCESSFULLY\n",
      " FCN=-2160.82 FROM MIGRAD    STATUS=CONVERGED     129 CALLS         130 TOTAL\n",
      "                     EDM=3.52105e-05    STRATEGY= 1      ERROR MATRIX ACCURATE \n",
      "  EXT PARAMETER                                   STEP         FIRST   \n",
      "  NO.   NAME      VALUE            ERROR          SIZE      DERIVATIVE \n",
      "   1  EG_RES       2.54608e-02   1.03731e+00   3.30548e-03  -2.81901e-02\n",
      "   2  EG_SCALE    -1.77933e-02   1.00852e-01   3.20544e-04  -2.32885e-01\n",
      "   3  mu_2H        2.11975e-03   1.64496e+01   1.28640e-01   9.62159e-04\n",
      "   4  n_highMass_1tag_di_Higgs_bias   9.50640e-03   7.78269e-01   2.49715e-04  -2.01306e-01\n",
      "   5  n_highMass_2tag_di_Higgs_bias  -2.25964e-02   7.44540e-01   2.36702e-04   8.40434e-02\n",
      "   6  theta_yield  -8.07127e-03   9.97463e-01   3.20729e-03   4.94341e-03\n",
      "                               ERR DEF= 0.5\n",
      " EXTERNAL ERROR MATRIX.    NDIM=  25    NPAR=  6    ERR DEF=0.5\n",
      "  1.080e+00 -7.195e-04  3.891e-03  1.907e-03  2.019e-03  2.945e-03 \n",
      " -7.195e-04  1.017e-02 -1.281e-03  2.813e-05 -1.093e-03 -4.446e-06 \n",
      "  3.891e-03 -1.281e-03  8.351e-01 -2.430e-02 -9.739e-02 -7.610e-03 \n",
      "  1.907e-03  2.813e-05 -2.430e-02  6.057e-01  2.850e-03 -3.296e-03 \n",
      "  2.019e-03 -1.093e-03 -9.739e-02  2.850e-03  5.544e-01 -2.137e-03 \n",
      "  2.945e-03 -4.446e-06 -7.610e-03 -3.296e-03 -2.137e-03  9.983e-01 \n",
      " PARAMETER  CORRELATION COEFFICIENTS  \n",
      "       NO.  GLOBAL      1      2      3      4      5      6\n",
      "        1  0.00935   1.000 -0.007  0.004  0.002  0.003  0.003\n",
      "        2  0.02277  -0.007  1.000 -0.014  0.000 -0.015 -0.000\n",
      "        3  0.14819   0.004 -0.014  1.000 -0.034 -0.143 -0.008\n",
      "        4  0.03456   0.002  0.000 -0.034  1.000  0.005 -0.004\n",
      "        5  0.14418   0.003 -0.015 -0.143  0.005  1.000 -0.003\n",
      "        6  0.01074   0.003 -0.000 -0.008 -0.004 -0.003  1.000\n",
      " **********\n",
      " **    7 **SET ERR         0.5\n",
      " **********\n",
      " **********\n",
      " **    8 **SET PRINT           1\n",
      " **********\n",
      " **********\n",
      " **    9 **HESSE        3000\n",
      " **********\n",
      " COVARIANCE MATRIX CALCULATED SUCCESSFULLY\n",
      " FCN=-2160.82 FROM HESSE     STATUS=OK             44 CALLS         174 TOTAL\n",
      "                     EDM=2.59604e-05    STRATEGY= 1      ERROR MATRIX ACCURATE \n",
      "  EXT PARAMETER                                INTERNAL      INTERNAL  \n",
      "  NO.   NAME      VALUE            ERROR       STEP SIZE       VALUE   \n",
      "   1  EG_RES       2.54608e-02   1.05706e+00   1.32219e-04   2.54608e-03\n",
      "   2  EG_SCALE    -1.77933e-02   1.00848e-01   6.41088e-05  -1.77933e-03\n",
      "   3  mu_2H        2.11975e-03   1.99942e+01   5.00000e-01  -1.55021e+00\n",
      "   4  n_highMass_1tag_di_Higgs_bias   9.50640e-03   7.79939e-01   4.99430e-05   9.50640e-05\n",
      "   5  n_highMass_2tag_di_Higgs_bias  -2.25964e-02   7.68433e-01   4.73405e-05  -2.25964e-04\n",
      "   6  theta_yield  -8.07127e-03   9.97825e-01   6.41458e-04  -8.07127e-04\n",
      "                               ERR DEF= 0.5\n",
      " EXTERNAL ERROR MATRIX.    NDIM=  25    NPAR=  6    ERR DEF=0.5\n",
      "  1.122e+00  4.891e-04  9.601e-03  1.175e-03 -9.313e-04  2.639e-03 \n",
      "  4.891e-04  1.017e-02 -2.404e-04  1.450e-05 -2.274e-04  2.818e-05 \n",
      "  9.601e-03 -2.404e-04  4.123e-01 -3.694e-02 -1.402e-01 -1.815e-02 \n",
      "  1.175e-03  1.450e-05 -3.694e-02  6.083e-01  1.257e-02 -1.898e-03 \n",
      " -9.313e-04 -2.274e-04 -1.402e-01  1.257e-02  5.905e-01  3.125e-03 \n",
      "  2.639e-03  2.818e-05 -1.815e-02 -1.898e-03  3.125e-03  9.990e-01 \n",
      " PARAMETER  CORRELATION COEFFICIENTS  \n",
      "       NO.  GLOBAL      1      2      3      4      5      6\n",
      "        1  0.01564   1.000  0.005  0.014  0.001 -0.001  0.002\n",
      "        2  0.00726   0.005  1.000 -0.004  0.000 -0.003  0.000\n",
      "        3  0.29368   0.014 -0.004  1.000 -0.074 -0.284 -0.028\n",
      "        4  0.07393   0.001  0.000 -0.074  1.000  0.021 -0.002\n",
      "        5  0.28413  -0.001 -0.003 -0.284  0.021  1.000  0.004\n",
      "        6  0.02909   0.002  0.000 -0.028 -0.002  0.004  1.000\n",
      "[#1] INFO:Fitting -- RooAbsPdf::fitTo(constrained_jointmodel) Calculating sum-of-weights-squared correction matrix for covariance matrix\n",
      " **********\n",
      " **   10 **SET ERR         0.5\n",
      " **********\n",
      " **********\n",
      " **   11 **SET PRINT           1\n",
      " **********\n",
      " **********\n",
      " **   12 **HESSE        3000\n",
      " **********\n",
      " MINUIT WARNING IN HESSE   \n",
      " ============== Negative diagonal element 3 in Error Matrix\n",
      " MINUIT WARNING IN HESSE   \n",
      " ============== 1.2157 added to diagonal of error matrix\n",
      " COVARIANCE MATRIX CALCULATED SUCCESSFULLY\n",
      " FCN=-615.851 FROM HESSE     STATUS=OK             58 CALLS         232 TOTAL\n",
      "                     EDM=0.412806    STRATEGY= 1      ERROR MATRIX ACCURATE \n",
      "  EXT PARAMETER                                INTERNAL      INTERNAL  \n",
      "  NO.   NAME      VALUE            ERROR       STEP SIZE       VALUE   \n",
      "   1  EG_RES       2.54608e-02   1.00391e+00   2.69727e-03   2.54608e-03\n",
      "   2  EG_SCALE    -1.77933e-02   7.78868e-01   3.98320e-02  -1.77933e-03\n",
      "   3  mu_2H        2.11975e-03   1.22535e+01   5.00000e-01  -1.55021e+00\n",
      "   4  n_highMass_1tag_di_Higgs_bias   9.50640e-03   7.94499e-01   9.98861e-06   9.50640e-05\n",
      "   5  n_highMass_2tag_di_Higgs_bias  -2.25964e-02   7.88398e-01   9.65745e-04  -2.25964e-04\n",
      "   6  theta_yield  -8.07127e-03   9.92116e-01   1.28292e-04  -8.07127e-04\n",
      "                               ERR DEF= 0.5\n",
      " EXTERNAL ERROR MATRIX.    NDIM=  25    NPAR=  6    ERR DEF=0.5\n",
      "  1.011e+00 -1.047e-02  1.055e-03  1.874e-04  5.658e-03  1.239e-03 \n",
      " -1.047e-02  6.079e-01 -2.179e-02 -1.295e-03 -1.304e-01 -4.151e-03 \n",
      "  1.055e-03 -2.179e-02  4.325e-02 -9.059e-04 -2.178e-03  8.538e-04 \n",
      "  1.874e-04 -1.295e-03 -9.059e-04  6.312e-01  4.332e-04 -8.789e-04 \n",
      "  5.658e-03 -1.304e-01 -2.178e-03  4.332e-04  6.216e-01 -6.486e-04 \n",
      "  1.239e-03 -4.151e-03  8.538e-04 -8.789e-04 -6.486e-04  9.875e-01 \n",
      " PARAMETER  CORRELATION COEFFICIENTS  \n",
      "       NO.  GLOBAL      1      2      3      4      5      6\n",
      "        1  0.01453   1.000 -0.013  0.005  0.000  0.007  0.001\n",
      "        2  0.25289  -0.013  1.000 -0.134 -0.002 -0.212 -0.005\n",
      "        3  0.14122   0.005 -0.134  1.000 -0.005 -0.013  0.004\n",
      "        4  0.00628   0.000 -0.002 -0.005  1.000  0.001 -0.001\n",
      "        5  0.21627   0.007 -0.212 -0.013  0.001  1.000 -0.001\n",
      "        6  0.00683   0.001 -0.005  0.004 -0.001 -0.001  1.000\n",
      "[#1] INFO:Minization -- RooMinimizer::optimizeConst: deactivating const optimization\n",
      "\n",
      "  RooFitResult: minimized FCN value: -615.851, estimated distance to minimum: 0.412806\n",
      "                covariance matrix quality: Unknown, matrix was externally provided\n",
      "                Status : MINIMIZE=0 HESSE=0 HESSE=0 \n",
      "\n",
      "    Floating Parameter    FinalValue +/-  Error   \n",
      "  --------------------  --------------------------\n",
      "                EG_RES    2.5461e-02 +/-  1.12e+00\n",
      "              EG_SCALE   -1.7793e-02 +/-  1.33e-02\n",
      "                 mu_2H    2.1197e-03 +/-  2.00e+00\n",
      "  n_highMass_1tag_di_Higgs_bias    9.5064e-03 +/-  7.85e-01\n",
      "  n_highMass_2tag_di_Higgs_bias   -2.2596e-02 +/-  1.00e+00\n",
      "           theta_yield   -8.0713e-03 +/-  1.01e+00\n",
      "\n"
     ]
    }
   ],
   "source": [
    "r = w.pdf(\"constrained_jointmodel\").fitTo(highmass_data,\n",
    "                                          rf.Save(), rf.SumW2Error(ROOT.kTRUE))\n",
    "r.Print()"
   ]
  },
  {
   "cell_type": "code",
   "execution_count": 68,
   "metadata": {
    "collapsed": true,
    "deletable": true,
    "editable": true
   },
   "outputs": [],
   "source": [
    "# ^ not working because it probably doesn't like the input values for n I gave it. Plan to change them to realistic values."
   ]
  },
  {
   "cell_type": "code",
   "execution_count": 69,
   "metadata": {
    "collapsed": false,
    "deletable": true,
    "editable": true,
    "scrolled": false
   },
   "outputs": [
    {
     "name": "stdout",
     "output_type": "stream",
     "text": [
      "[#1] INFO:InputArguments -- RooAbsData::plotOn(highmass_data) INFO: dataset has non-integer weights, auto-selecting SumW2 errors instead of Poisson errors\n",
      "[#1] INFO:Plotting -- RooTreeData::plotOn: plotting 1110.06 events out of 1222.14 total events\n",
      "[#1] INFO:Plotting -- RooAbsReal::plotOn(constrained_jointmodel) plot on myy represents a slice in (highmasscats)\n",
      "[#1] INFO:NumericIntegration -- RooRealIntegral::init(bkg_pdf_highmass_Int[myy]) using numeric integrator RooIntegrator1D to calculate Int(myy)\n",
      "[#1] INFO:InputArguments -- RooAbsData::plotOn(highmass_data) INFO: dataset has non-integer weights, auto-selecting SumW2 errors instead of Poisson errors\n",
      "[#1] INFO:Plotting -- RooTreeData::plotOn: plotting 84.5792 events out of 1222.14 total events\n",
      "[#1] INFO:Plotting -- RooAbsReal::plotOn(constrained_jointmodel) plot on myy represents a slice in (highmasscats)\n",
      "[#1] INFO:NumericIntegration -- RooRealIntegral::init(bkg_pdf_highmass_Int[myy]) using numeric integrator RooIntegrator1D to calculate Int(myy)\n",
      "[#1] INFO:InputArguments -- RooAbsData::plotOn(highmass_data) INFO: dataset has non-integer weights, auto-selecting SumW2 errors instead of Poisson errors\n",
      "[#1] INFO:Plotting -- RooTreeData::plotOn: plotting 27.4984 events out of 1222.14 total events\n",
      "[#1] INFO:Plotting -- RooAbsReal::plotOn(constrained_jointmodel) plot on myy represents a slice in (highmasscats)\n",
      "[#1] INFO:NumericIntegration -- RooRealIntegral::init(bkg_pdf_highmass_Int[myy]) using numeric integrator RooIntegrator1D to calculate Int(myy)\n"
     ]
    },
    {
     "data": {
      "image/png": "[encoded data removed]",
      "text/plain": [
       "<IPython.core.display.Image object>"
      ]
     },
     "metadata": {},
     "output_type": "display_data"
    },
    {
     "data": {
      "image/png": "[encoded data removed]",
      "text/plain": [
       "<IPython.core.display.Image object>"
      ]
     },
     "metadata": {},
     "output_type": "display_data"
    },
    {
     "data": {
      "image/png": "[encoded data removed]",
      "text/plain": [
       "<IPython.core.display.Image object>"
      ]
     },
     "metadata": {},
     "output_type": "display_data"
    }
   ],
   "source": [
    "# c1 = ROOT.TCanvas()\n",
    "# plot1 = myy.frame(ROOT.RooFit.Title(\"0 Tag - Low Mass\"))\n",
    "# data_combo.plotOn(plot1,ROOT.RooFit.Cut(\"cat==cat::tag0low\"))\n",
    "# w.pdf(\"jointmodel\").plotOn(plot1, ROOT.RooFit.ProjWData(data_combo),ROOT.RooFit.Slice(w.cat(\"cat\"),\"tag0low\"))\n",
    "# plot1.Draw()\n",
    "# c1.Draw()\n",
    "\n",
    "c2 = ROOT.TCanvas()\n",
    "plot2 = myy.frame(ROOT.RooFit.Title(\"0 Tag - High Mass\"))\n",
    "highmass_data.plotOn(plot2,ROOT.RooFit.Cut(\"highmasscats==highmasscats::tag0\"))\n",
    "w.pdf(\"constrained_jointmodel\").plotOn(\n",
    "    plot2, ROOT.RooFit.ProjWData(highmass_data),\n",
    "    ROOT.RooFit.Slice(w.cat(\"highmasscats\"),\"tag0\"))\n",
    "plot2.Draw()\n",
    "c2.Draw()\n",
    "\n",
    "# c3 = ROOT.TCanvas()\n",
    "# plot3 = myy.frame(ROOT.RooFit.Title(\"1 Tag - Low Mass\"))\n",
    "# data_combo.plotOn(plot3,ROOT.RooFit.Cut(\"cat==cat::tag1low\"))\n",
    "# w.pdf(\"jointmodel\").plotOn(plot3, ROOT.RooFit.ProjWData(data_combo),ROOT.RooFit.Slice(w.cat(\"cat\"),\"tag1low\"))\n",
    "# plot3.Draw()\n",
    "# c3.Draw()\n",
    "\n",
    "c4 = ROOT.TCanvas()\n",
    "plot4 = myy.frame(ROOT.RooFit.Title(\"1 Tag - High Mass\"))\n",
    "highmass_data.plotOn(plot4,ROOT.RooFit.Cut(\"highmasscats==highmasscats::tag1\"))\n",
    "w.pdf(\"constrained_jointmodel\").plotOn(\n",
    "    plot4, ROOT.RooFit.ProjWData(highmass_data),\n",
    "    ROOT.RooFit.Slice(w.cat(\"highmasscats\"),\"tag1\"))\n",
    "plot4.Draw()\n",
    "c4.Draw()\n",
    "\n",
    "# c5 = ROOT.TCanvas()\n",
    "# plot5 = myy.frame(ROOT.RooFit.Title(\"2 Tag - Low Mass\"))\n",
    "# data_combo.plotOn(plot5,ROOT.RooFit.Cut(\"cat==cat::tag2low\"))\n",
    "# w.pdf(\"jointmodel\").plotOn(plot5, ROOT.RooFit.ProjWData(data_combo),ROOT.RooFit.Slice(w.cat(\"cat\"),\"tag2low\"))\n",
    "# plot5.Draw()\n",
    "# c5.Draw()\n",
    "\n",
    "c6 = ROOT.TCanvas()\n",
    "plot6 = myy.frame(ROOT.RooFit.Title(\"2 Tag - High Mass\"))\n",
    "highmass_data.plotOn(plot6,ROOT.RooFit.Cut(\"highmasscats==highmasscats::tag2\"))\n",
    "w.pdf(\"constrained_jointmodel\").plotOn(\n",
    "    plot6, ROOT.RooFit.ProjWData(highmass_data),\n",
    "    ROOT.RooFit.Slice(w.cat(\"highmasscats\"),\"tag2\"))\n",
    "plot6.Draw()\n",
    "c6.Draw()"
   ]
  },
  {
   "cell_type": "markdown",
   "metadata": {
    "deletable": true,
    "editable": true
   },
   "source": [
    "Okay whatever, we don't actually expect these fits to work without setting realistic expectations for the number of events, the boundaries on the resolution parameter etc."
   ]
  },
  {
   "cell_type": "code",
   "execution_count": 70,
   "metadata": {
    "collapsed": true,
    "deletable": true,
    "editable": true
   },
   "outputs": [],
   "source": [
    "import ROOT.RooStats as rs"
   ]
  },
  {
   "cell_type": "code",
   "execution_count": 71,
   "metadata": {
    "collapsed": false,
    "deletable": true,
    "editable": true
   },
   "outputs": [],
   "source": [
    "mconfig = rs.ModelConfig(w)\n",
    "mconfig.SetPdf(w.pdf(\"constrained_jointmodel\"))\n",
    "mconfig.SetParametersOfInterest(ROOT.RooArgSet(w.var(\"mu_2H\")))\n",
    "mconfig.SetObservables(ROOT.RooArgSet(w.var(\"myy\")))\n",
    "mconfig.SetNuisanceParameters(ROOT.RooArgSet(w.var(\"theta_yield\"), w.var(\"EG_RES\"), w.var(\"EG_SCALE\"),\n",
    "                                             w.var(\"n_highMass_2tag_di_Higgs_bias\"),  #w.var(\"n_bias_tag2low_2H\"),\n",
    "                                            w.var(\"n_highMass_1tag_di_Higgs_bias\") #, w.var(\"n_bias_tag1low_2H\")\n",
    "                                            ))\n",
    "mconfig.SetGlobalObservables(ROOT.RooArgSet(w.var(\"theta_yield_global\"), w.var(\"EG_SCALE_global\"), w.var(\"EG_RES_global\"),\n",
    "                                            w.var(\"n_highMass_2tag_di_Higgs_bias_global\"), # w.var(\"n_bias_tag2low_2H_global\"),\n",
    "                                            w.var(\"n_highMass_1tag_di_Higgs_bias_global\")#,  w.var(\"n_bias_tag1low_2H_global\")\n",
    "                                           ))\n",
    "# mconfig.SetNuisanceParameters(ROOT.RooArgSet(w.var(\"theta_yield\"), w.var(\"EG_RES\"), w.var(\"EG_SCALE\"),\n",
    "#                                              w.var(\"n_bias_tag2high_2H\"),\n",
    "#                                             w.var(\"n_bias_tag1high_2H\")))\n",
    "# mconfig.SetGlobalObservables(ROOT.RooArgSet(w.var(\"theta_yield_global\"), w.var(\"EG_SCALE_global\"), w.var(\"EG_RES_global\"),\n",
    "#                                             w.var(\"n_bias_tag2high_2H_global\"),\n",
    "#                                             w.var(\"n_bias_tag1high_2H_global\")\n",
    "#                                            ))"
   ]
  },
  {
   "cell_type": "code",
   "execution_count": 72,
   "metadata": {
    "collapsed": false,
    "deletable": true,
    "editable": true
   },
   "outputs": [
    {
     "name": "stdout",
     "output_type": "stream",
     "text": [
      "\n",
      "=== Using the following for model ===\n",
      "Observables:             RooArgSet:: = (myy)\n",
      "Parameters of Interest:  RooArgSet:: = (mu_2H)\n",
      "Nuisance Parameters:     RooArgSet:: = (theta_yield,EG_RES,EG_SCALE,n_highMass_2tag_di_Higgs_bias,n_highMass_1tag_di_Higgs_bias)\n",
      "Global Observables:      RooArgSet:: = (theta_yield_global,EG_SCALE_global,EG_RES_global,n_highMass_2tag_di_Higgs_bias_global,n_highMass_1tag_di_Higgs_bias_global)\n",
      "PDF:                     RooProdPdf::constrained_jointmodel[ jointmodel * EG_SCALE_gaussian * EG_RES_gaussian * theta_yield_gaussian ] = 0.00804255\n",
      "\n"
     ]
    }
   ],
   "source": [
    "mconfig.SetName('model')\n",
    "mconfig.Print()"
   ]
  },
  {
   "cell_type": "code",
   "execution_count": 75,
   "metadata": {
    "collapsed": false,
    "deletable": true,
    "editable": true
   },
   "outputs": [],
   "source": [
    "sb_model = mconfig\n",
    "poi = sb_model.GetParametersOfInterest().first()\n",
    "sb_model.SetSnapshot(ROOT.RooArgSet(poi))\n",
    "b_model = sb_model.Clone()\n",
    "b_model.SetName(sb_model.GetName()+\"_with_poi_0\")\n",
    "oldval = poi.getVal()\n",
    "poi.setVal(0)\n",
    "b_model.SetSnapshot(ROOT.RooArgSet(poi))\n",
    "poi.setVal(oldval)"
   ]
  },
  {
   "cell_type": "code",
   "execution_count": 76,
   "metadata": {
    "collapsed": false,
    "deletable": true,
    "editable": true,
    "scrolled": true
   },
   "outputs": [
    {
     "name": "stdout",
     "output_type": "stream",
     "text": [
      "[#0] PROGRESS:Eval -- AsymptoticCalculator::Initialize....\n",
      "[#0] PROGRESS:Eval -- AsymptoticCalculator::Initialize - Find  best unconditional NLL on observed data\n",
      "AsymptoticCalculator::EvaluateNLL  ........ using Minuit / Migrad with strategy  1 and tolerance 1\n",
      " **********\n",
      " **   13 **SET PRINT           0\n",
      " **********\n",
      " **********\n",
      " **   14 **SET NOGRAD\n",
      " **********\n",
      " PARAMETER DEFINITIONS:\n",
      "    NO.   NAME         VALUE      STEP SIZE      LIMITS\n",
      "     1 EG_RES       2.54608e-02  1.11626e+00   -1.00000e+01  1.00000e+01\n",
      "     2 EG_SCALE    -1.77933e-02  1.33245e-02   -1.00000e+01  1.00000e+01\n",
      "     3 mu_2H        2.11975e-03  2.00319e+00    0.00000e+00  2.00000e+01\n",
      " MINUIT WARNING IN PARAMETR\n",
      " ============== VARIABLE3 BROUGHT BACK INSIDE LIMITS.\n",
      "     4 n_highMass_1tag_di_Higgs_bias   9.50640e-03  7.85397e-01   -1.00000e+02  1.00000e+02\n",
      "     5 n_highMass_2tag_di_Higgs_bias  -2.25964e-02  1.00347e+00   -1.00000e+02  1.00000e+02\n",
      "     6 theta_yield  -8.07127e-03  1.00944e+00   -1.00000e+01  1.00000e+01\n",
      " **********\n",
      " **   15 **SET ERR         0.5\n",
      " **********\n",
      " **********\n",
      " **   16 **SET PRINT           0\n",
      " **********\n",
      " **********\n",
      " **   17 **SET STR           1\n",
      " **********\n",
      " **********\n",
      " **   18 **MIGRAD        3000           1\n",
      " **********\n",
      " MIGRAD MINIMIZATION HAS CONVERGED.\n",
      " MIGRAD WILL VERIFY CONVERGENCE AND ERROR MATRIX.\n",
      " FCN=-2160.82 FROM MIGRAD    STATUS=CONVERGED      81 CALLS          82 TOTAL\n",
      "                     EDM=4.32489e-07    STRATEGY= 1      ERROR MATRIX ACCURATE \n",
      "  EXT PARAMETER                                   STEP         FIRST   \n",
      "  NO.   NAME      VALUE            ERROR          SIZE      DERIVATIVE \n",
      "   1  EG_RES       2.78863e-02   1.03401e+00   3.33527e-03  -5.94709e-03\n",
      "   2  EG_SCALE    -1.75633e-02   1.00838e-01   3.23687e-04  -7.41201e-03\n",
      "   3  mu_2H        5.41440e-06   1.64788e+01   1.43247e-01  -4.82546e-05\n",
      "   4  n_highMass_1tag_di_Higgs_bias   1.07253e-02   7.78131e-01   2.49701e-04  -3.29300e-03\n",
      "   5  n_highMass_2tag_di_Higgs_bias  -2.30431e-02   7.42143e-01   2.36524e-04  -9.91745e-03\n",
      "   6  theta_yield  -8.56473e-03   9.97452e-01   3.20730e-03  -7.42777e-05\n",
      "                               ERR DEF= 0.5\n",
      "AsymptoticCalculator::EvaluateNLL -  value = -2160.82\tfit time : Real time 0:00:00, CP time 0.010\n",
      "[#0] PROGRESS:Eval -- Best fitted POI value = 5.4144e-06 +/- 16.4788\n",
      "[#0] PROGRESS:Eval -- AsymptoticCalculator: Building Asimov data Set\n",
      "[#0] WARNING:InputArguments -- AsymptoticCalculator: number of bins in myy are different than data bins  set the same data bins 66 in range  [ 105 , 160 ]\n",
      "[#1] INFO:InputArguments -- AsymptoticCalculator: Asimov data will be generated using fitted nuisance parameter values\n",
      "MakeAsimov: Setting poi mu_2H to a constant value = 0\n",
      "MakeAsimov: doing a conditional fit for finding best nuisance values \n",
      " **********\n",
      " **    1 **SET PRINT           0\n",
      " **********\n",
      " **********\n",
      " **    2 **SET NOGRAD\n",
      " **********\n",
      " PARAMETER DEFINITIONS:\n",
      "    NO.   NAME         VALUE      STEP SIZE      LIMITS\n",
      "     1 EG_RES       2.78863e-02  1.03401e+00   -1.00000e+01  1.00000e+01\n",
      "     2 EG_SCALE    -1.75633e-02  1.00838e-01   -1.00000e+01  1.00000e+01\n",
      "     3 n_highMass_1tag_di_Higgs_bias   1.07253e-02  7.78131e-01   -1.00000e+02  1.00000e+02\n",
      "     4 n_highMass_2tag_di_Higgs_bias  -2.30431e-02  7.42143e-01   -1.00000e+02  1.00000e+02\n",
      "     5 theta_yield  -8.56473e-03  9.97452e-01   -1.00000e+01  1.00000e+01\n",
      " **********\n",
      " **    3 **SET ERR         0.5\n",
      " **********\n",
      " **********\n",
      " **    4 **SET PRINT           0\n",
      " **********\n",
      " **********\n",
      " **    5 **SET STR           1\n",
      " **********\n",
      " **********\n",
      " **    6 **MIGRAD        2500           1\n",
      " **********\n",
      " MIGRAD MINIMIZATION HAS CONVERGED.\n",
      " MIGRAD WILL VERIFY CONVERGENCE AND ERROR MATRIX.\n",
      " FCN=-2160.82 FROM MIGRAD    STATUS=CONVERGED      60 CALLS          61 TOTAL\n",
      "                     EDM=2.37452e-08    STRATEGY= 1      ERROR MATRIX ACCURATE \n",
      "  EXT PARAMETER                                   STEP         FIRST   \n",
      "  NO.   NAME      VALUE            ERROR          SIZE      DERIVATIVE \n",
      "   1  EG_RES       2.84423e-02   1.03335e+00   3.32403e-03  -5.91937e-04\n",
      "   2  EG_SCALE    -1.75540e-02   1.00811e-01   3.23582e-04   2.27458e-03\n",
      "   3  n_highMass_1tag_di_Higgs_bias   1.07786e-02   7.77822e-01   2.49703e-04   5.33396e-03\n",
      "   4  n_highMass_2tag_di_Higgs_bias  -2.28900e-02   7.36910e-01   2.36522e-04   1.81036e-02\n",
      "   5  theta_yield  -8.54550e-03   9.97429e-01   3.20730e-03   1.14490e-04\n",
      "                               ERR DEF= 0.5\n",
      "fit time Real time 0:00:00, CP time 0.020\n",
      "RooDataSet::AsimovData[myy,weight:binWeightAsimov] = 66 entries (0.617688 weighted)\n",
      "Generated Asimov data for observables RooArgSet:: = (myy)\n",
      "Generated Asimov data for global observables RooArgSet:: = (theta_yield_global,EG_SCALE_global,EG_RES_global,n_highMass_2tag_di_Higgs_bias_global,n_highMass_1tag_di_Higgs_bias_global)\n",
      "[#0] PROGRESS:Eval -- AsymptoticCalculator::Initialize Find  best conditional NLL on ASIMOV data set for given alt POI ( mu_2H ) = 0\n",
      "AsymptoticCalculator::EvaluateNLL  ........ using Minuit / Migrad with strategy  1 and tolerance 1\n",
      " **********\n",
      " **    7 **SET PRINT           0\n",
      " **********\n",
      " **********\n",
      " **    8 **SET NOGRAD\n",
      " **********\n",
      " PARAMETER DEFINITIONS:\n",
      "    NO.   NAME         VALUE      STEP SIZE      LIMITS\n",
      "     1 EG_RES       2.84423e-02  1.03335e+00   -1.00000e+01  1.00000e+01\n",
      "     2 EG_SCALE    -1.75540e-02  1.00811e-01   -1.00000e+01  1.00000e+01\n",
      "     3 n_highMass_1tag_di_Higgs_bias   1.07786e-02  7.77822e-01   -1.00000e+02  1.00000e+02\n",
      "     4 n_highMass_2tag_di_Higgs_bias  -2.28900e-02  7.36910e-01   -1.00000e+02  1.00000e+02\n",
      "     5 theta_yield  -8.54550e-03  9.97429e-01   -1.00000e+01  1.00000e+01\n",
      " **********\n",
      " **    9 **SET ERR         0.5\n",
      " **********\n",
      " **********\n",
      " **   10 **SET PRINT           0\n",
      " **********\n",
      " **********\n",
      " **   11 **SET STR           1\n",
      " **********\n",
      " **********\n",
      " **   12 **MIGRAD        2500           1\n",
      " **********\n",
      " MIGRAD MINIMIZATION HAS CONVERGED.\n",
      " MIGRAD WILL VERIFY CONVERGENCE AND ERROR MATRIX.\n",
      " FCN=34.0874 FROM MIGRAD    STATUS=CONVERGED      66 CALLS          67 TOTAL\n",
      "                     EDM=5.85173e-07    STRATEGY= 1      ERROR MATRIX ACCURATE \n",
      "  EXT PARAMETER                                   STEP         FIRST   \n",
      "  NO.   NAME      VALUE            ERROR          SIZE      DERIVATIVE \n",
      "   1  EG_RES       2.84430e-02   9.98334e-01   4.06108e-04  -3.01758e-04\n",
      "   2  EG_SCALE    -1.78128e-02   1.28458e+00   5.38653e-04  -5.72970e-04\n",
      "   3  n_highMass_1tag_di_Higgs_bias   1.04551e-02   7.99992e-01   3.24888e-05   2.56162e-05\n",
      "   4  n_highMass_2tag_di_Higgs_bias  -6.31669e-01   7.97300e-01   3.24153e-05  -9.45447e-02\n",
      "   5  theta_yield  -2.80467e-02   9.98332e-01   4.06109e-04  -1.05892e-03\n",
      "                               ERR DEF= 0.5\n",
      "AsymptoticCalculator::EvaluateNLL -  value = 34.0874 for poi fixed at = 0\tfit time : Real time 0:00:00, CP time 0.010\n"
     ]
    }
   ],
   "source": [
    "ac = rs.AsymptoticCalculator(highmass_data, b_model, sb_model)\n",
    "ac.SetOneSided(True)"
   ]
  },
  {
   "cell_type": "code",
   "execution_count": 77,
   "metadata": {
    "collapsed": false
   },
   "outputs": [
    {
     "name": "stdout",
     "output_type": "stream",
     "text": [
      "\n",
      "[#1] INFO:Eval -- AsymptoticCalculator::GetHypoTest: - perform  an hypothesis test for  POI ( mu_2H ) = 0.00211975\n",
      "[#0] PROGRESS:Eval -- AsymptoticCalculator::GetHypoTest -  Find  best conditional NLL on OBSERVED data set ..... \n",
      "AsymptoticCalculator::EvaluateNLL  ........ using Minuit / Migrad with strategy  1 and tolerance 1\n",
      " **********\n",
      " **   13 **SET PRINT           0\n",
      " **********\n",
      " **********\n",
      " **   14 **SET NOGRAD\n",
      " **********\n",
      " PARAMETER DEFINITIONS:\n",
      "    NO.   NAME         VALUE      STEP SIZE      LIMITS\n",
      "     1 EG_RES       2.78863e-02  1.03401e+00   -1.00000e+01  1.00000e+01\n",
      "     2 EG_SCALE    -1.75633e-02  1.00838e-01   -1.00000e+01  1.00000e+01\n",
      "     3 n_highMass_1tag_di_Higgs_bias   1.07253e-02  7.78131e-01   -1.00000e+02  1.00000e+02\n",
      "     4 n_highMass_2tag_di_Higgs_bias  -2.30431e-02  7.42143e-01   -1.00000e+02  1.00000e+02\n",
      "     5 theta_yield  -8.56473e-03  9.97452e-01   -1.00000e+01  1.00000e+01\n",
      " **********\n",
      " **   15 **SET ERR         0.5\n",
      " **********\n",
      " **********\n",
      " **   16 **SET PRINT           0\n",
      " **********\n",
      " **********\n",
      " **   17 **SET STR           1\n",
      " **********\n",
      " **********\n",
      " **   18 **MIGRAD        2500           1\n",
      " **********\n",
      " MIGRAD MINIMIZATION HAS CONVERGED.\n",
      " MIGRAD WILL VERIFY CONVERGENCE AND ERROR MATRIX.\n",
      " FCN=-2160.82 FROM MIGRAD    STATUS=CONVERGED      61 CALLS          62 TOTAL\n",
      "                     EDM=2.86156e-08    STRATEGY= 1      ERROR MATRIX ACCURATE \n",
      "  EXT PARAMETER                                   STEP         FIRST   \n",
      "  NO.   NAME      VALUE            ERROR          SIZE      DERIVATIVE \n",
      "   1  EG_RES       2.84678e-02   1.03335e+00   3.32528e-03  -3.75087e-04\n",
      "   2  EG_SCALE    -1.75649e-02   1.00793e-01   3.23543e-04  -8.28482e-03\n",
      "   3  n_highMass_1tag_di_Higgs_bias   1.08219e-02   7.77823e-01   2.49703e-04   1.49875e-02\n",
      "   4  n_highMass_2tag_di_Higgs_bias  -2.29967e-02   7.36919e-01   2.36526e-04   9.64711e-03\n",
      "   5  theta_yield  -8.52386e-03   9.97429e-01   3.20730e-03   3.75971e-04\n",
      "                               ERR DEF= 0.5\n",
      "AsymptoticCalculator::EvaluateNLL -  value = -2160.82 for poi fixed at = 0.00211975\tfit time : Real time 0:00:00, CP time 0.010\n",
      "[#0] PROGRESS:Eval -- \t OBSERVED DATA :  qmu   = 1.93051e-05 condNLL = -2160.82 uncond -2160.82\n",
      "[#0] PROGRESS:Eval -- AsymptoticCalculator::GetHypoTest -- Find  best conditional NLL on ASIMOV data set .... \n",
      "AsymptoticCalculator::EvaluateNLL  ........ using Minuit / Migrad with strategy  1 and tolerance 1\n",
      " **********\n",
      " **   19 **SET PRINT           0\n",
      " **********\n",
      " **********\n",
      " **   20 **SET NOGRAD\n",
      " **********\n",
      " PARAMETER DEFINITIONS:\n",
      "    NO.   NAME         VALUE      STEP SIZE      LIMITS\n",
      "     1 EG_RES       2.84678e-02  1.03335e+00   -1.00000e+01  1.00000e+01\n",
      "     2 EG_SCALE    -1.75649e-02  1.00793e-01   -1.00000e+01  1.00000e+01\n",
      "     3 n_highMass_1tag_di_Higgs_bias   1.08219e-02  7.77823e-01   -1.00000e+02  1.00000e+02\n",
      "     4 n_highMass_2tag_di_Higgs_bias  -2.29967e-02  7.36919e-01   -1.00000e+02  1.00000e+02\n",
      "     5 theta_yield  -8.52386e-03  9.97429e-01   -1.00000e+01  1.00000e+01\n",
      " **********\n",
      " **   21 **SET ERR         0.5\n",
      " **********\n",
      " **********\n",
      " **   22 **SET PRINT           0\n",
      " **********\n",
      " **********\n",
      " **   23 **SET STR           1\n",
      " **********\n",
      " **********\n",
      " **   24 **MIGRAD        2500           1\n",
      " **********\n",
      " MIGRAD MINIMIZATION HAS CONVERGED.\n",
      " MIGRAD WILL VERIFY CONVERGENCE AND ERROR MATRIX.\n",
      " FCN=34.0877 FROM MIGRAD    STATUS=CONVERGED      66 CALLS          67 TOTAL\n",
      "                     EDM=5.84604e-07    STRATEGY= 1      ERROR MATRIX ACCURATE \n",
      "  EXT PARAMETER                                   STEP         FIRST   \n",
      "  NO.   NAME      VALUE            ERROR          SIZE      DERIVATIVE \n",
      "   1  EG_RES       2.84430e-02   9.98334e-01   4.06111e-04  -3.00245e-04\n",
      "   2  EG_SCALE    -1.78132e-02   1.28329e+00   5.38016e-04  -5.84426e-04\n",
      "   3  n_highMass_1tag_di_Higgs_bias   1.04551e-02   7.99992e-01   3.24890e-05   2.56123e-05\n",
      "   4  n_highMass_2tag_di_Higgs_bias  -6.31672e-01   7.97300e-01   3.24155e-05  -9.44785e-02\n",
      "   5  theta_yield  -2.80853e-02   9.98332e-01   4.06112e-04  -1.06060e-03\n",
      "                               ERR DEF= 0.5\n",
      "AsymptoticCalculator::EvaluateNLL -  value = 34.0877 for poi fixed at = 0.00211975\tfit time : Real time 0:00:00, CP time 0.010\n",
      "[#0] PROGRESS:Eval -- \t ASIMOV data qmu_A = 0.000763593 condNLL = 34.0877 uncond 34.0874\n",
      "[#1] INFO:InputArguments -- Minimum of POI is 0 corresponds to alt  snapshot   - using qtilde asymptotic formulae  \n",
      "[#0] PROGRESS:Eval -- poi = 0.00211975 qmu = 1.93051e-05 qmu_A = 0.000763593 sigma = 0.0767103  CLsplusb = 0.498247 CLb = 0.50927 CLs = 1.02212\n"
     ]
    }
   ],
   "source": [
    "results = ac.GetHypoTest()"
   ]
  },
  {
   "cell_type": "code",
   "execution_count": 81,
   "metadata": {
    "collapsed": false
   },
   "outputs": [
    {
     "name": "stdout",
     "output_type": "stream",
     "text": [
      "0.498247150061 0.50927035461\n"
     ]
    }
   ],
   "source": [
    "print results.NullPValue(), results.AlternatePValue()"
   ]
  },
  {
   "cell_type": "code",
   "execution_count": 82,
   "metadata": {
    "collapsed": false,
    "deletable": true,
    "editable": true
   },
   "outputs": [
    {
     "name": "stdout",
     "output_type": "stream",
     "text": [
      "[#1] INFO:InputArguments -- HypoTestInverter ---- Input models: \n",
      "\t\t using as S+B (null) model     : model\n",
      "\t\t using as B (alternate) model  : model_with_poi_0\n",
      "\n"
     ]
    }
   ],
   "source": [
    "calc = rs.HypoTestInverter(ac)\n",
    "calc.SetConfidenceLevel(0.95)\n",
    "calc.UseCLs(True)"
   ]
  },
  {
   "cell_type": "code",
   "execution_count": 83,
   "metadata": {
    "collapsed": false,
    "deletable": true,
    "editable": true
   },
   "outputs": [],
   "source": [
    "calc.SetFixedScan(8, poi.getMin(), poi.getMax())"
   ]
  },
  {
   "cell_type": "code",
   "execution_count": 84,
   "metadata": {
    "collapsed": false,
    "deletable": true,
    "editable": true,
    "scrolled": true
   },
   "outputs": [
    {
     "name": "stdout",
     "output_type": "stream",
     "text": [
      "[#1] INFO:Eval -- HypoTestInverter::GetInterval - run a fixed scan\n",
      "[#1] INFO:ObjectHandling -- RooWorkspace::saveSnaphot(w) replacing previous snapshot with name model__snapshot\n",
      "\n",
      "[#1] INFO:Eval -- AsymptoticCalculator::GetHypoTest: - perform  an hypothesis test for  POI ( mu_2H ) = 0\n",
      "[#0] PROGRESS:Eval -- AsymptoticCalculator::GetHypoTest -  Find  best conditional NLL on OBSERVED data set ..... \n",
      "AsymptoticCalculator::EvaluateNLL  ........ using Minuit / Migrad with strategy  1 and tolerance 1\n",
      " **********\n",
      " **   25 **SET PRINT           0\n",
      " **********\n",
      " **********\n",
      " **   26 **SET NOGRAD\n",
      " **********\n",
      " PARAMETER DEFINITIONS:\n",
      "    NO.   NAME         VALUE      STEP SIZE      LIMITS\n",
      "     1 EG_RES       2.78863e-02  1.03401e+00   -1.00000e+01  1.00000e+01\n",
      "     2 EG_SCALE    -1.75633e-02  1.00838e-01   -1.00000e+01  1.00000e+01\n",
      "     3 n_highMass_1tag_di_Higgs_bias   1.07253e-02  7.78131e-01   -1.00000e+02  1.00000e+02\n",
      "     4 n_highMass_2tag_di_Higgs_bias  -2.30431e-02  7.42143e-01   -1.00000e+02  1.00000e+02\n",
      "     5 theta_yield  -8.56473e-03  9.97452e-01   -1.00000e+01  1.00000e+01\n",
      " **********\n",
      " **   27 **SET ERR         0.5\n",
      " **********\n",
      " **********\n",
      " **   28 **SET PRINT           0\n",
      " **********\n",
      " **********\n",
      " **   29 **SET STR           1\n",
      " **********\n",
      " **********\n",
      " **   30 **MIGRAD        2500           1\n",
      " **********\n",
      " MIGRAD MINIMIZATION HAS CONVERGED.\n",
      " MIGRAD WILL VERIFY CONVERGENCE AND ERROR MATRIX.\n",
      " FCN=-2160.82 FROM MIGRAD    STATUS=CONVERGED      60 CALLS          61 TOTAL\n",
      "                     EDM=3.09902e-07    STRATEGY= 1      ERROR MATRIX ACCURATE \n",
      "  EXT PARAMETER                                   STEP         FIRST   \n",
      "  NO.   NAME      VALUE            ERROR          SIZE      DERIVATIVE \n",
      "   1  EG_RES       2.79833e-02   1.03389e+00   3.32528e-03  -5.02831e-03\n",
      "   2  EG_SCALE    -1.75630e-02   1.00815e-01   3.23630e-04  -6.90800e-03\n",
      "   3  n_highMass_1tag_di_Higgs_bias   1.07862e-02   7.77822e-01   2.49703e-04   6.73944e-03\n",
      "   4  n_highMass_2tag_di_Higgs_bias  -2.28580e-02   7.36907e-01   2.36521e-04   2.41390e-02\n",
      "   5  theta_yield  -8.54335e-03   9.97429e-01   3.20730e-03   1.51083e-04\n",
      "                               ERR DEF= 0.5\n",
      "AsymptoticCalculator::EvaluateNLL -  value = -2160.82 for poi fixed at = 0\tfit time : Real time 0:00:00, CP time 0.010\n",
      "[#0] PROGRESS:Eval -- \t OBSERVED DATA :  qmu   = -1.28925e-07 condNLL = -2160.82 uncond -2160.82\n",
      "[#0] PROGRESS:Eval -- AsymptoticCalculator::GetHypoTest -- Find  best conditional NLL on ASIMOV data set .... \n",
      "AsymptoticCalculator::EvaluateNLL  ........ using Minuit / Migrad with strategy  1 and tolerance 1\n",
      " **********\n",
      " **   31 **SET PRINT           0\n",
      " **********\n",
      " **********\n",
      " **   32 **SET NOGRAD\n",
      " **********\n",
      " PARAMETER DEFINITIONS:\n",
      "    NO.   NAME         VALUE      STEP SIZE      LIMITS\n",
      "     1 EG_RES       2.79833e-02  1.03389e+00   -1.00000e+01  1.00000e+01\n",
      "     2 EG_SCALE    -1.75630e-02  1.00815e-01   -1.00000e+01  1.00000e+01\n",
      "     3 n_highMass_1tag_di_Higgs_bias   1.07862e-02  7.77822e-01   -1.00000e+02  1.00000e+02\n",
      "     4 n_highMass_2tag_di_Higgs_bias  -2.28580e-02  7.36907e-01   -1.00000e+02  1.00000e+02\n",
      "     5 theta_yield  -8.54335e-03  9.97429e-01   -1.00000e+01  1.00000e+01\n",
      " **********\n",
      " **   33 **SET ERR         0.5\n",
      " **********\n",
      " **********\n",
      " **   34 **SET PRINT           0\n",
      " **********\n",
      " **********\n",
      " **   35 **SET STR           1\n",
      " **********\n",
      " **********\n",
      " **   36 **MIGRAD        2500           1\n",
      " **********\n",
      " MIGRAD MINIMIZATION HAS CONVERGED.\n",
      " MIGRAD WILL VERIFY CONVERGENCE AND ERROR MATRIX.\n",
      " FCN=34.0874 FROM MIGRAD    STATUS=CONVERGED      66 CALLS          67 TOTAL\n",
      "                     EDM=5.85231e-07    STRATEGY= 1      ERROR MATRIX ACCURATE \n",
      "  EXT PARAMETER                                   STEP         FIRST   \n",
      "  NO.   NAME      VALUE            ERROR          SIZE      DERIVATIVE \n",
      "   1  EG_RES       2.84429e-02   9.98334e-01   4.06108e-04  -3.01824e-04\n",
      "   2  EG_SCALE    -1.78131e-02   1.28459e+00   5.38661e-04  -5.75069e-04\n",
      "   3  n_highMass_1tag_di_Higgs_bias   1.04551e-02   7.99992e-01   3.24888e-05   2.56168e-05\n",
      "   4  n_highMass_2tag_di_Higgs_bias  -6.31669e-01   7.97300e-01   3.24153e-05  -9.45462e-02\n",
      "   5  theta_yield  -2.80468e-02   9.98332e-01   4.06109e-04  -1.05897e-03\n",
      "                               ERR DEF= 0.5\n",
      "AsymptoticCalculator::EvaluateNLL -  value = 34.0874 for poi fixed at = 0\tfit time : Real time 0:00:00, CP time 0.010\n",
      "[#0] PROGRESS:Eval -- \t ASIMOV data qmu_A = 6.38067e-11 condNLL = 34.0874 uncond 34.0874\n",
      "[#1] INFO:Eval -- Using one-sided qmu - setting qmu to zero  muHat = 5.4144e-06 muTest = 0\n",
      "[#0] PROGRESS:Eval -- poi = 0 qmu = 0 qmu_A = 6.38067e-11 sigma = 0  CLsplusb = 0.5 CLb = 0.500003 CLs = 1.00001\n",
      "[#1] INFO:ObjectHandling -- RooWorkspace::saveSnaphot(w) replacing previous snapshot with name model__snapshot\n",
      "\n",
      "[#1] INFO:Eval -- AsymptoticCalculator::GetHypoTest: - perform  an hypothesis test for  POI ( mu_2H ) = 2.85714\n",
      "[#0] PROGRESS:Eval -- AsymptoticCalculator::GetHypoTest -  Find  best conditional NLL on OBSERVED data set ..... \n",
      "AsymptoticCalculator::EvaluateNLL  ........ using Minuit / Migrad with strategy  1 and tolerance 1\n",
      " **********\n",
      " **   37 **SET PRINT           0\n",
      " **********\n",
      " **********\n",
      " **   38 **SET NOGRAD\n",
      " **********\n",
      " PARAMETER DEFINITIONS:\n",
      "    NO.   NAME         VALUE      STEP SIZE      LIMITS\n",
      "     1 EG_RES       2.78863e-02  1.03401e+00   -1.00000e+01  1.00000e+01\n",
      "     2 EG_SCALE    -1.75633e-02  1.00838e-01   -1.00000e+01  1.00000e+01\n",
      "     3 n_highMass_1tag_di_Higgs_bias   1.07253e-02  7.78131e-01   -1.00000e+02  1.00000e+02\n",
      "     4 n_highMass_2tag_di_Higgs_bias  -2.30431e-02  7.42143e-01   -1.00000e+02  1.00000e+02\n",
      "     5 theta_yield  -8.56473e-03  9.97452e-01   -1.00000e+01  1.00000e+01\n",
      " **********\n",
      " **   39 **SET ERR         0.5\n",
      " **********\n",
      " **********\n",
      " **   40 **SET PRINT           0\n",
      " **********\n",
      " **********\n",
      " **   41 **SET STR           1\n",
      " **********\n",
      " **********\n",
      " **   42 **MIGRAD        2500           1\n",
      " **********\n",
      " MIGRAD MINIMIZATION HAS CONVERGED.\n",
      " MIGRAD WILL VERIFY CONVERGENCE AND ERROR MATRIX.\n",
      " FCN=-2160.77 FROM MIGRAD    STATUS=CONVERGED      56 CALLS          57 TOTAL\n",
      "                     EDM=2.67561e-06    STRATEGY= 1      ERROR MATRIX ACCURATE \n",
      "  EXT PARAMETER                                   STEP         FIRST   \n",
      "  NO.   NAME      VALUE            ERROR          SIZE      DERIVATIVE \n",
      "   1  EG_RES       3.50404e-02   1.02687e+00   3.32425e-03   7.99227e-03\n",
      "   2  EG_SCALE    -1.76416e-02   8.32968e-02   2.62301e-04  -4.37259e-02\n",
      "   3  n_highMass_1tag_di_Higgs_bias  -8.93188e-03   7.79185e-01   2.50156e-04  -1.56519e-02\n",
      "   4  n_highMass_2tag_di_Higgs_bias  -9.55685e-02   7.51731e-01   2.41874e-04  -6.04579e-02\n",
      "   5  theta_yield  -2.26515e-02   9.96742e-01   3.20489e-03  -1.29505e-02\n",
      "                               ERR DEF= 0.5\n",
      "AsymptoticCalculator::EvaluateNLL -  value = -2160.77 for poi fixed at = 2.85714\tfit time : Real time 0:00:00, CP time 0.010\n",
      "[#0] PROGRESS:Eval -- \t OBSERVED DATA :  qmu   = 0.101845 condNLL = -2160.77 uncond -2160.82\n",
      "[#0] PROGRESS:Eval -- AsymptoticCalculator::GetHypoTest -- Find  best conditional NLL on ASIMOV data set .... \n",
      "AsymptoticCalculator::EvaluateNLL  ........ using Minuit / Migrad with strategy  1 and tolerance 1\n",
      " **********\n",
      " **   43 **SET PRINT           0\n",
      " **********\n",
      " **********\n",
      " **   44 **SET NOGRAD\n",
      " **********\n",
      " PARAMETER DEFINITIONS:\n",
      "    NO.   NAME         VALUE      STEP SIZE      LIMITS\n",
      "     1 EG_RES       3.50404e-02  1.02687e+00   -1.00000e+01  1.00000e+01\n",
      "     2 EG_SCALE    -1.76416e-02  8.32968e-02   -1.00000e+01  1.00000e+01\n",
      "     3 n_highMass_1tag_di_Higgs_bias  -8.93188e-03  7.79185e-01   -1.00000e+02  1.00000e+02\n",
      "     4 n_highMass_2tag_di_Higgs_bias  -9.55685e-02  7.51731e-01   -1.00000e+02  1.00000e+02\n",
      "     5 theta_yield  -2.26515e-02  9.96742e-01   -1.00000e+01  1.00000e+01\n",
      " **********\n",
      " **   45 **SET ERR         0.5\n",
      " **********\n",
      " **********\n",
      " **   46 **SET PRINT           0\n",
      " **********\n",
      " **********\n",
      " **   47 **SET STR           1\n",
      " **********\n",
      " **********\n",
      " **   48 **MIGRAD        2500           1\n",
      " **********\n",
      " MIGRAD MINIMIZATION HAS CONVERGED.\n",
      " MIGRAD WILL VERIFY CONVERGENCE AND ERROR MATRIX.\n",
      " FCN=34.602 FROM MIGRAD    STATUS=CONVERGED      62 CALLS          63 TOTAL\n",
      "                     EDM=5.89104e-07    STRATEGY= 1      ERROR MATRIX ACCURATE \n",
      "  EXT PARAMETER                                   STEP         FIRST   \n",
      "  NO.   NAME      VALUE            ERROR          SIZE      DERIVATIVE \n",
      "   1  EG_RES       2.85518e-02   9.98328e-01   4.09113e-04   1.18696e-03\n",
      "   2  EG_SCALE    -1.81917e-02   6.68927e-01   2.17367e-04  -9.05350e-03\n",
      "   3  n_highMass_1tag_di_Higgs_bias   1.04553e-02   7.99992e-01   3.27296e-05   2.37952e-05\n",
      "   4  n_highMass_2tag_di_Higgs_bias  -6.34395e-01   7.98105e-01   3.26716e-05  -4.75008e-02\n",
      "   5  theta_yield  -8.01528e-02   9.98314e-01   4.09112e-04  -2.55186e-03\n",
      "                               ERR DEF= 0.5\n",
      "AsymptoticCalculator::EvaluateNLL -  value = 34.602 for poi fixed at = 2.85714\tfit time : Real time 0:00:00, CP time 0.020\n",
      "[#0] PROGRESS:Eval -- \t ASIMOV data qmu_A = 1.02925 condNLL = 34.602 uncond 34.0874\n",
      "[#0] PROGRESS:Eval -- poi = 2.85714 qmu = 0.101845 qmu_A = 1.02925 sigma = 2.81625  CLsplusb = 0.374813 CLb = 0.756594 CLs = 2.01859\n",
      "[#1] INFO:ObjectHandling -- RooWorkspace::saveSnaphot(w) replacing previous snapshot with name model__snapshot\n",
      "\n",
      "[#1] INFO:Eval -- AsymptoticCalculator::GetHypoTest: - perform  an hypothesis test for  POI ( mu_2H ) = 5.71429\n",
      "[#0] PROGRESS:Eval -- AsymptoticCalculator::GetHypoTest -  Find  best conditional NLL on OBSERVED data set ..... \n",
      "AsymptoticCalculator::EvaluateNLL  ........ using Minuit / Migrad with strategy  1 and tolerance 1\n",
      " **********\n",
      " **   49 **SET PRINT           0\n",
      " **********\n",
      " **********\n",
      " **   50 **SET NOGRAD\n",
      " **********\n",
      " PARAMETER DEFINITIONS:\n",
      "    NO.   NAME         VALUE      STEP SIZE      LIMITS\n",
      "     1 EG_RES       2.78863e-02  1.03401e+00   -1.00000e+01  1.00000e+01\n",
      "     2 EG_SCALE    -1.75633e-02  1.00838e-01   -1.00000e+01  1.00000e+01\n",
      "     3 n_highMass_1tag_di_Higgs_bias   1.07253e-02  7.78131e-01   -1.00000e+02  1.00000e+02\n",
      "     4 n_highMass_2tag_di_Higgs_bias  -2.30431e-02  7.42143e-01   -1.00000e+02  1.00000e+02\n",
      "     5 theta_yield  -8.56473e-03  9.97452e-01   -1.00000e+01  1.00000e+01\n",
      " **********\n",
      " **   51 **SET ERR         0.5\n",
      " **********\n",
      " **********\n",
      " **   52 **SET PRINT           0\n",
      " **********\n",
      " **********\n",
      " **   53 **SET STR           1\n",
      " **********\n",
      " **********\n",
      " **   54 **MIGRAD        2500           1\n",
      " **********\n",
      " MIGRAD MINIMIZATION HAS CONVERGED.\n",
      " MIGRAD WILL VERIFY CONVERGENCE AND ERROR MATRIX.\n",
      " FCN=-2160.66 FROM MIGRAD    STATUS=CONVERGED      56 CALLS          57 TOTAL\n",
      "                     EDM=2.03785e-05    STRATEGY= 1      ERROR MATRIX ACCURATE \n",
      "  EXT PARAMETER                                   STEP         FIRST   \n",
      "  NO.   NAME      VALUE            ERROR          SIZE      DERIVATIVE \n",
      "   1  EG_RES       4.69958e-02   1.01856e+00   3.32170e-03   2.89016e-02\n",
      "   2  EG_SCALE    -1.77374e-02   7.54618e-02   2.36706e-04  -7.31467e-02\n",
      "   3  n_highMass_1tag_di_Higgs_bias  -2.74471e-02   7.80431e-01   2.50563e-04  -5.65541e-02\n",
      "   4  n_highMass_2tag_di_Higgs_bias  -1.52357e-01   7.62083e-01   2.45297e-04  -1.78357e-01\n",
      "   5  theta_yield  -4.82245e-02   9.95751e-01   3.20155e-03  -3.11509e-02\n",
      "                               ERR DEF= 0.5\n",
      "AsymptoticCalculator::EvaluateNLL -  value = -2160.66 for poi fixed at = 5.71429\tfit time : Real time 0:00:00, CP time 0.010\n",
      "[#0] PROGRESS:Eval -- \t OBSERVED DATA :  qmu   = 0.333196 condNLL = -2160.66 uncond -2160.82\n",
      "[#0] PROGRESS:Eval -- AsymptoticCalculator::GetHypoTest -- Find  best conditional NLL on ASIMOV data set .... \n",
      "AsymptoticCalculator::EvaluateNLL  ........ using Minuit / Migrad with strategy  1 and tolerance 1\n",
      " **********\n",
      " **   55 **SET PRINT           0\n",
      " **********\n",
      " **********\n",
      " **   56 **SET NOGRAD\n",
      " **********\n",
      " PARAMETER DEFINITIONS:\n",
      "    NO.   NAME         VALUE      STEP SIZE      LIMITS\n",
      "     1 EG_RES       4.69958e-02  1.01856e+00   -1.00000e+01  1.00000e+01\n",
      "     2 EG_SCALE    -1.77374e-02  7.54618e-02   -1.00000e+01  1.00000e+01\n",
      "     3 n_highMass_1tag_di_Higgs_bias  -2.74471e-02  7.80431e-01   -1.00000e+02  1.00000e+02\n",
      "     4 n_highMass_2tag_di_Higgs_bias  -1.52357e-01  7.62083e-01   -1.00000e+02  1.00000e+02\n",
      "     5 theta_yield  -4.82245e-02  9.95751e-01   -1.00000e+01  1.00000e+01\n",
      " **********\n",
      " **   57 **SET ERR         0.5\n",
      " **********\n",
      " **********\n",
      " **   58 **SET PRINT           0\n",
      " **********\n",
      " **********\n",
      " **   59 **SET STR           1\n",
      " **********\n",
      " **********\n",
      " **   60 **MIGRAD        2500           1\n",
      " **********\n",
      " MIGRAD MINIMIZATION HAS CONVERGED.\n",
      " MIGRAD WILL VERIFY CONVERGENCE AND ERROR MATRIX.\n",
      " FCN=35.1161 FROM MIGRAD    STATUS=CONVERGED      62 CALLS          63 TOTAL\n",
      "                     EDM=5.57057e-07    STRATEGY= 1      ERROR MATRIX ACCURATE \n",
      "  EXT PARAMETER                                   STEP         FIRST   \n",
      "  NO.   NAME      VALUE            ERROR          SIZE      DERIVATIVE \n",
      "   1  EG_RES       2.87232e-02   9.98311e-01   4.12094e-04   1.77166e-03\n",
      "   2  EG_SCALE    -1.85270e-02   5.26637e-01   1.93314e-04  -1.17145e-02\n",
      "   3  n_highMass_1tag_di_Higgs_bias   1.04555e-02   7.99992e-01   3.29684e-05   2.32268e-05\n",
      "   4  n_highMass_2tag_di_Higgs_bias  -6.36449e-01   7.98568e-01   3.29211e-05  -2.86844e-02\n",
      "   5  theta_yield  -1.32502e-01   9.98288e-01   4.12086e-04  -3.05321e-03\n",
      "                               ERR DEF= 0.5\n",
      "AsymptoticCalculator::EvaluateNLL -  value = 35.1161 for poi fixed at = 5.71429\tfit time : Real time 0:00:00, CP time 0.010\n",
      "[#0] PROGRESS:Eval -- \t ASIMOV data qmu_A = 2.0574 condNLL = 35.1161 uncond 34.0874\n",
      "[#0] PROGRESS:Eval -- poi = 5.71429 qmu = 0.333196 qmu_A = 2.0574 sigma = 3.98384  CLsplusb = 0.281892 CLb = 0.804315 CLs = 2.85328\n",
      "[#1] INFO:ObjectHandling -- RooWorkspace::saveSnaphot(w) replacing previous snapshot with name model__snapshot\n",
      "\n",
      "[#1] INFO:Eval -- AsymptoticCalculator::GetHypoTest: - perform  an hypothesis test for  POI ( mu_2H ) = 8.57143\n",
      "[#0] PROGRESS:Eval -- AsymptoticCalculator::GetHypoTest -  Find  best conditional NLL on OBSERVED data set ..... \n",
      "AsymptoticCalculator::EvaluateNLL  ........ using Minuit / Migrad with strategy  1 and tolerance 1\n",
      " **********\n",
      " **   61 **SET PRINT           0\n",
      " **********\n",
      " **********\n",
      " **   62 **SET NOGRAD\n",
      " **********\n",
      " PARAMETER DEFINITIONS:\n",
      "    NO.   NAME         VALUE      STEP SIZE      LIMITS\n",
      "     1 EG_RES       2.78863e-02  1.03401e+00   -1.00000e+01  1.00000e+01\n",
      "     2 EG_SCALE    -1.75633e-02  1.00838e-01   -1.00000e+01  1.00000e+01\n",
      "     3 n_highMass_1tag_di_Higgs_bias   1.07253e-02  7.78131e-01   -1.00000e+02  1.00000e+02\n",
      "     4 n_highMass_2tag_di_Higgs_bias  -2.30431e-02  7.42143e-01   -1.00000e+02  1.00000e+02\n",
      "     5 theta_yield  -8.56473e-03  9.97452e-01   -1.00000e+01  1.00000e+01\n",
      " **********\n",
      " **   63 **SET ERR         0.5\n",
      " **********\n",
      " **********\n",
      " **   64 **SET PRINT           0\n",
      " **********\n",
      " **********\n",
      " **   65 **SET STR           1\n",
      " **********\n",
      " **********\n",
      " **   66 **MIGRAD        2500           1\n",
      " **********\n",
      " MIGRAD MINIMIZATION HAS CONVERGED.\n",
      " MIGRAD WILL VERIFY CONVERGENCE AND ERROR MATRIX.\n",
      " FCN=-2160.49 FROM MIGRAD    STATUS=CONVERGED      71 CALLS          72 TOTAL\n",
      "                     EDM=2.58613e-07    STRATEGY= 1      ERROR MATRIX ACCURATE \n",
      "  EXT PARAMETER                                   STEP         FIRST   \n",
      "  NO.   NAME      VALUE            ERROR          SIZE      DERIVATIVE \n",
      "   1  EG_RES       5.62181e-02   1.01528e+00   3.26290e-03  -9.30360e-04\n",
      "   2  EG_SCALE    -1.79587e-02   6.97171e-02   2.23727e-04  -7.17140e-02\n",
      "   3  n_highMass_1tag_di_Higgs_bias  -4.41829e-02   7.81569e-01   2.50872e-04   3.07069e-03\n",
      "   4  n_highMass_2tag_di_Higgs_bias  -1.95991e-01   7.69481e-01   2.46917e-04   2.25263e-03\n",
      "   5  theta_yield  -7.70027e-02   9.94634e-01   3.19745e-03  -4.07199e-04\n",
      "                               ERR DEF= 0.5\n",
      "AsymptoticCalculator::EvaluateNLL -  value = -2160.49 for poi fixed at = 8.57143\tfit time : Real time 0:00:00, CP time 0.020\n",
      "[#0] PROGRESS:Eval -- \t OBSERVED DATA :  qmu   = 0.66867 condNLL = -2160.49 uncond -2160.82\n",
      "[#0] PROGRESS:Eval -- AsymptoticCalculator::GetHypoTest -- Find  best conditional NLL on ASIMOV data set .... \n",
      "AsymptoticCalculator::EvaluateNLL  ........ using Minuit / Migrad with strategy  1 and tolerance 1\n",
      " **********\n",
      " **   67 **SET PRINT           0\n",
      " **********\n",
      " **********\n",
      " **   68 **SET NOGRAD\n",
      " **********\n",
      " PARAMETER DEFINITIONS:\n",
      "    NO.   NAME         VALUE      STEP SIZE      LIMITS\n",
      "     1 EG_RES       5.62181e-02  1.01528e+00   -1.00000e+01  1.00000e+01\n",
      "     2 EG_SCALE    -1.79587e-02  6.97171e-02   -1.00000e+01  1.00000e+01\n",
      "     3 n_highMass_1tag_di_Higgs_bias  -4.41829e-02  7.81569e-01   -1.00000e+02  1.00000e+02\n",
      "     4 n_highMass_2tag_di_Higgs_bias  -1.95991e-01  7.69481e-01   -1.00000e+02  1.00000e+02\n",
      "     5 theta_yield  -7.70027e-02  9.94634e-01   -1.00000e+01  1.00000e+01\n",
      " **********\n",
      " **   69 **SET ERR         0.5\n",
      " **********\n",
      " **********\n",
      " **   70 **SET PRINT           0\n",
      " **********\n",
      " **********\n",
      " **   71 **SET STR           1\n",
      " **********\n",
      " **********\n",
      " **   72 **MIGRAD        2500           1\n",
      " **********\n",
      " MIGRAD MINIMIZATION HAS CONVERGED.\n",
      " MIGRAD WILL VERIFY CONVERGENCE AND ERROR MATRIX.\n",
      " FCN=35.629 FROM MIGRAD    STATUS=CONVERGED      62 CALLS          63 TOTAL\n",
      "                     EDM=4.83008e-07    STRATEGY= 1      ERROR MATRIX ACCURATE \n",
      "  EXT PARAMETER                                   STEP         FIRST   \n",
      "  NO.   NAME      VALUE            ERROR          SIZE      DERIVATIVE \n",
      "   1  EG_RES       2.89317e-02   9.98290e-01   4.15046e-04   1.99631e-03\n",
      "   2  EG_SCALE    -1.88219e-02   4.57770e-01   1.77568e-04  -1.23272e-02\n",
      "   3  n_highMass_1tag_di_Higgs_bias   1.04558e-02   7.99992e-01   3.32050e-05   2.44416e-05\n",
      "   4  n_highMass_2tag_di_Higgs_bias  -6.38066e-01   7.98860e-01   3.31653e-05  -2.08116e-02\n",
      "   5  theta_yield  -1.85032e-01   9.98260e-01   4.15031e-04  -3.12568e-03\n",
      "                               ERR DEF= 0.5\n",
      "AsymptoticCalculator::EvaluateNLL -  value = 35.629 for poi fixed at = 8.57143\tfit time : Real time 0:00:00, CP time 0.010\n",
      "[#0] PROGRESS:Eval -- \t ASIMOV data qmu_A = 3.08328 condNLL = 35.629 uncond 34.0874\n",
      "[#0] PROGRESS:Eval -- poi = 8.57143 qmu = 0.66867 qmu_A = 3.08328 sigma = 4.88143  CLsplusb = 0.206758 CLb = 0.825931 CLs = 3.99467\n",
      "[#1] INFO:ObjectHandling -- RooWorkspace::saveSnaphot(w) replacing previous snapshot with name model__snapshot\n",
      "\n",
      "[#1] INFO:Eval -- AsymptoticCalculator::GetHypoTest: - perform  an hypothesis test for  POI ( mu_2H ) = 11.4286\n",
      "[#0] PROGRESS:Eval -- AsymptoticCalculator::GetHypoTest -  Find  best conditional NLL on OBSERVED data set ..... \n",
      "AsymptoticCalculator::EvaluateNLL  ........ using Minuit / Migrad with strategy  1 and tolerance 1\n",
      " **********\n",
      " **   73 **SET PRINT           0\n",
      " **********\n",
      " **********\n",
      " **   74 **SET NOGRAD\n",
      " **********\n",
      " PARAMETER DEFINITIONS:\n",
      "    NO.   NAME         VALUE      STEP SIZE      LIMITS\n",
      "     1 EG_RES       2.78863e-02  1.03401e+00   -1.00000e+01  1.00000e+01\n",
      "     2 EG_SCALE    -1.75633e-02  1.00838e-01   -1.00000e+01  1.00000e+01\n",
      "     3 n_highMass_1tag_di_Higgs_bias   1.07253e-02  7.78131e-01   -1.00000e+02  1.00000e+02\n",
      "     4 n_highMass_2tag_di_Higgs_bias  -2.30431e-02  7.42143e-01   -1.00000e+02  1.00000e+02\n",
      "     5 theta_yield  -8.56473e-03  9.97452e-01   -1.00000e+01  1.00000e+01\n",
      " **********\n",
      " **   75 **SET ERR         0.5\n",
      " **********\n",
      " **********\n",
      " **   76 **SET PRINT           0\n",
      " **********\n",
      " **********\n",
      " **   77 **SET STR           1\n",
      " **********\n",
      " **********\n",
      " **   78 **MIGRAD        2500           1\n",
      " **********\n",
      " MIGRAD MINIMIZATION HAS CONVERGED.\n",
      " MIGRAD WILL VERIFY CONVERGENCE AND ERROR MATRIX.\n",
      " FCN=-2160.28 FROM MIGRAD    STATUS=CONVERGED      71 CALLS          72 TOTAL\n",
      "                     EDM=2.86607e-07    STRATEGY= 1      ERROR MATRIX ACCURATE \n",
      "  EXT PARAMETER                                   STEP         FIRST   \n",
      "  NO.   NAME      VALUE            ERROR          SIZE      DERIVATIVE \n",
      "   1  EG_RES       6.98909e-02   1.01503e+00   3.26317e-03  -1.09850e-03\n",
      "   2  EG_SCALE    -1.82955e-02   6.45198e-02   2.06950e-04  -8.08722e-02\n",
      "   3  n_highMass_1tag_di_Higgs_bias  -6.01098e-02   7.82609e-01   2.51188e-04   4.40294e-03\n",
      "   4  n_highMass_2tag_di_Higgs_bias  -2.32177e-01   7.74870e-01   2.48617e-04   3.61214e-03\n",
      "   5  theta_yield  -1.14856e-01   9.93470e-01   3.19348e-03  -6.08967e-04\n",
      "                               ERR DEF= 0.5\n",
      "AsymptoticCalculator::EvaluateNLL -  value = -2160.28 for poi fixed at = 11.4286\tfit time : Real time 0:00:00, CP time 0.020\n",
      "[#0] PROGRESS:Eval -- \t OBSERVED DATA :  qmu   = 1.08948 condNLL = -2160.28 uncond -2160.82\n",
      "[#0] PROGRESS:Eval -- AsymptoticCalculator::GetHypoTest -- Find  best conditional NLL on ASIMOV data set .... \n",
      "AsymptoticCalculator::EvaluateNLL  ........ using Minuit / Migrad with strategy  1 and tolerance 1\n",
      " **********\n",
      " **   79 **SET PRINT           0\n",
      " **********\n",
      " **********\n",
      " **   80 **SET NOGRAD\n",
      " **********\n",
      " PARAMETER DEFINITIONS:\n",
      "    NO.   NAME         VALUE      STEP SIZE      LIMITS\n",
      "     1 EG_RES       6.98909e-02  1.01503e+00   -1.00000e+01  1.00000e+01\n",
      "     2 EG_SCALE    -1.82955e-02  6.45198e-02   -1.00000e+01  1.00000e+01\n",
      "     3 n_highMass_1tag_di_Higgs_bias  -6.01098e-02  7.82609e-01   -1.00000e+02  1.00000e+02\n",
      "     4 n_highMass_2tag_di_Higgs_bias  -2.32177e-01  7.74870e-01   -1.00000e+02  1.00000e+02\n",
      "     5 theta_yield  -1.14856e-01  9.93470e-01   -1.00000e+01  1.00000e+01\n",
      " **********\n",
      " **   81 **SET ERR         0.5\n",
      " **********\n",
      " **********\n",
      " **   82 **SET PRINT           0\n",
      " **********\n",
      " **********\n",
      " **   83 **SET STR           1\n",
      " **********\n",
      " **********\n",
      " **   84 **MIGRAD        2500           1\n",
      " **********\n",
      " MIGRAD MINIMIZATION HAS CONVERGED.\n",
      " MIGRAD WILL VERIFY CONVERGENCE AND ERROR MATRIX.\n",
      " FCN=36.1404 FROM MIGRAD    STATUS=CONVERGED      62 CALLS          63 TOTAL\n",
      "                     EDM=3.85767e-07    STRATEGY= 1      ERROR MATRIX ACCURATE \n",
      "  EXT PARAMETER                                   STEP         FIRST   \n",
      "  NO.   NAME      VALUE            ERROR          SIZE      DERIVATIVE \n",
      "   1  EG_RES       2.91587e-02   9.98269e-01   4.17972e-04   2.04470e-03\n",
      "   2  EG_SCALE    -1.90737e-02   4.15714e-01   1.66424e-04  -1.17442e-02\n",
      "   3  n_highMass_1tag_di_Higgs_bias   1.04560e-02   7.99992e-01   3.34392e-05   2.73589e-05\n",
      "   4  n_highMass_2tag_di_Higgs_bias  -6.39374e-01   7.99058e-01   3.34052e-05  -1.66312e-02\n",
      "   5  theta_yield  -2.37699e-01   9.98232e-01   4.17950e-04  -2.97488e-03\n",
      "                               ERR DEF= 0.5\n",
      "AsymptoticCalculator::EvaluateNLL -  value = 36.1404 for poi fixed at = 11.4286\tfit time : Real time 0:00:00, CP time 0.010\n",
      "[#0] PROGRESS:Eval -- \t ASIMOV data qmu_A = 4.10615 condNLL = 36.1404 uncond 34.0874\n",
      "[#0] PROGRESS:Eval -- poi = 11.4286 qmu = 1.08948 qmu_A = 4.10615 sigma = 5.63994  CLsplusb = 0.148293 CLb = 0.837093 CLs = 5.64485\n",
      "[#1] INFO:ObjectHandling -- RooWorkspace::saveSnaphot(w) replacing previous snapshot with name model__snapshot\n",
      "\n",
      "[#1] INFO:Eval -- AsymptoticCalculator::GetHypoTest: - perform  an hypothesis test for  POI ( mu_2H ) = 14.2857\n",
      "[#0] PROGRESS:Eval -- AsymptoticCalculator::GetHypoTest -  Find  best conditional NLL on OBSERVED data set ..... \n",
      "AsymptoticCalculator::EvaluateNLL  ........ using Minuit / Migrad with strategy  1 and tolerance 1\n",
      " **********\n",
      " **   85 **SET PRINT           0\n",
      " **********\n",
      " **********\n",
      " **   86 **SET NOGRAD\n",
      " **********\n",
      " PARAMETER DEFINITIONS:\n",
      "    NO.   NAME         VALUE      STEP SIZE      LIMITS\n",
      "     1 EG_RES       2.78863e-02  1.03401e+00   -1.00000e+01  1.00000e+01\n",
      "     2 EG_SCALE    -1.75633e-02  1.00838e-01   -1.00000e+01  1.00000e+01\n",
      "     3 n_highMass_1tag_di_Higgs_bias   1.07253e-02  7.78131e-01   -1.00000e+02  1.00000e+02\n",
      "     4 n_highMass_2tag_di_Higgs_bias  -2.30431e-02  7.42143e-01   -1.00000e+02  1.00000e+02\n",
      "     5 theta_yield  -8.56473e-03  9.97452e-01   -1.00000e+01  1.00000e+01\n",
      " **********\n",
      " **   87 **SET ERR         0.5\n",
      " **********\n",
      " **********\n",
      " **   88 **SET PRINT           0\n",
      " **********\n",
      " **********\n",
      " **   89 **SET STR           1\n",
      " **********\n",
      " **********\n",
      " **   90 **MIGRAD        2500           1\n",
      " **********\n",
      " MIGRAD MINIMIZATION HAS CONVERGED.\n",
      " MIGRAD WILL VERIFY CONVERGENCE AND ERROR MATRIX.\n",
      " FCN=-2160.03 FROM MIGRAD    STATUS=CONVERGED      71 CALLS          72 TOTAL\n",
      "                     EDM=2.70025e-07    STRATEGY= 1      ERROR MATRIX ACCURATE \n",
      "  EXT PARAMETER                                   STEP         FIRST   \n",
      "  NO.   NAME      VALUE            ERROR          SIZE      DERIVATIVE \n",
      "   1  EG_RES       8.43137e-02   1.01513e+00   3.26388e-03  -1.23555e-03\n",
      "   2  EG_SCALE    -1.86597e-02   5.95916e-02   1.91033e-04  -8.38388e-02\n",
      "   3  n_highMass_1tag_di_Higgs_bias  -7.49932e-02   7.83560e-01   2.51472e-04   5.74775e-03\n",
      "   4  n_highMass_2tag_di_Higgs_bias  -2.62084e-01   7.78896e-01   2.49887e-04   4.80143e-03\n",
      "   5  theta_yield  -1.57413e-01   9.92293e-01   3.18954e-03  -7.22204e-04\n",
      "                               ERR DEF= 0.5\n",
      "AsymptoticCalculator::EvaluateNLL -  value = -2160.03 for poi fixed at = 14.2857\tfit time : Real time 0:00:00, CP time 0.030\n",
      "[#0] PROGRESS:Eval -- \t OBSERVED DATA :  qmu   = 1.58129 condNLL = -2160.03 uncond -2160.82\n",
      "[#0] PROGRESS:Eval -- AsymptoticCalculator::GetHypoTest -- Find  best conditional NLL on ASIMOV data set .... \n",
      "AsymptoticCalculator::EvaluateNLL  ........ using Minuit / Migrad with strategy  1 and tolerance 1\n",
      " **********\n",
      " **   91 **SET PRINT           0\n",
      " **********\n",
      " **********\n",
      " **   92 **SET NOGRAD\n",
      " **********\n",
      " PARAMETER DEFINITIONS:\n",
      "    NO.   NAME         VALUE      STEP SIZE      LIMITS\n",
      "     1 EG_RES       8.43137e-02  1.01513e+00   -1.00000e+01  1.00000e+01\n",
      "     2 EG_SCALE    -1.86597e-02  5.95916e-02   -1.00000e+01  1.00000e+01\n",
      "     3 n_highMass_1tag_di_Higgs_bias  -7.49932e-02  7.83560e-01   -1.00000e+02  1.00000e+02\n",
      "     4 n_highMass_2tag_di_Higgs_bias  -2.62084e-01  7.78896e-01   -1.00000e+02  1.00000e+02\n",
      "     5 theta_yield  -1.57413e-01  9.92293e-01   -1.00000e+01  1.00000e+01\n",
      " **********\n",
      " **   93 **SET ERR         0.5\n",
      " **********\n",
      " **********\n",
      " **   94 **SET PRINT           0\n",
      " **********\n",
      " **********\n",
      " **   95 **SET STR           1\n",
      " **********\n",
      " **********\n",
      " **   96 **MIGRAD        2500           1\n",
      " **********\n",
      " MIGRAD MINIMIZATION HAS CONVERGED.\n",
      " MIGRAD WILL VERIFY CONVERGENCE AND ERROR MATRIX.\n",
      " FCN=36.6501 FROM MIGRAD    STATUS=CONVERGED      62 CALLS          63 TOTAL\n",
      "                     EDM=2.97846e-07    STRATEGY= 1      ERROR MATRIX ACCURATE \n",
      "  EXT PARAMETER                                   STEP         FIRST   \n",
      "  NO.   NAME      VALUE            ERROR          SIZE      DERIVATIVE \n",
      "   1  EG_RES       2.93944e-02   9.98249e-01   4.20870e-04   2.01020e-03\n",
      "   2  EG_SCALE    -1.92947e-02   3.86815e-01   1.58171e-04  -1.07050e-02\n",
      "   3  n_highMass_1tag_di_Higgs_bias   1.04563e-02   7.99992e-01   3.36710e-05   3.21307e-05\n",
      "   4  n_highMass_2tag_di_Higgs_bias  -6.40464e-01   7.99200e-01   3.36412e-05  -1.42143e-02\n",
      "   5  theta_yield  -2.90477e-01   9.98203e-01   4.20845e-04  -2.71180e-03\n",
      "                               ERR DEF= 0.5\n",
      "AsymptoticCalculator::EvaluateNLL -  value = 36.6501 for poi fixed at = 14.2857\tfit time : Real time 0:00:00, CP time 0.010\n",
      "[#0] PROGRESS:Eval -- \t ASIMOV data qmu_A = 5.12551 condNLL = 36.6501 uncond 34.0874\n",
      "[#0] PROGRESS:Eval -- poi = 14.2857 qmu = 1.58129 qmu_A = 5.12551 sigma = 6.31006  CLsplusb = 0.104288 CLb = 0.842905 CLs = 8.08248\n",
      "[#1] INFO:ObjectHandling -- RooWorkspace::saveSnaphot(w) replacing previous snapshot with name model__snapshot\n",
      "\n",
      "[#1] INFO:Eval -- AsymptoticCalculator::GetHypoTest: - perform  an hypothesis test for  POI ( mu_2H ) = 17.1429\n",
      "[#0] PROGRESS:Eval -- AsymptoticCalculator::GetHypoTest -  Find  best conditional NLL on OBSERVED data set ..... \n",
      "AsymptoticCalculator::EvaluateNLL  ........ using Minuit / Migrad with strategy  1 and tolerance 1\n",
      " **********\n",
      " **   97 **SET PRINT           0\n",
      " **********\n",
      " **********\n",
      " **   98 **SET NOGRAD\n",
      " **********\n",
      " PARAMETER DEFINITIONS:\n",
      "    NO.   NAME         VALUE      STEP SIZE      LIMITS\n",
      "     1 EG_RES       2.78863e-02  1.03401e+00   -1.00000e+01  1.00000e+01\n",
      "     2 EG_SCALE    -1.75633e-02  1.00838e-01   -1.00000e+01  1.00000e+01\n",
      "     3 n_highMass_1tag_di_Higgs_bias   1.07253e-02  7.78131e-01   -1.00000e+02  1.00000e+02\n",
      "     4 n_highMass_2tag_di_Higgs_bias  -2.30431e-02  7.42143e-01   -1.00000e+02  1.00000e+02\n",
      "     5 theta_yield  -8.56473e-03  9.97452e-01   -1.00000e+01  1.00000e+01\n",
      " **********\n",
      " **   99 **SET ERR         0.5\n",
      " **********\n",
      " **********\n",
      " **  100 **SET PRINT           0\n",
      " **********\n",
      " **********\n",
      " **  101 **SET STR           1\n",
      " **********\n",
      " **********\n",
      " **  102 **MIGRAD        2500           1\n",
      " **********\n",
      " MIGRAD MINIMIZATION HAS CONVERGED.\n",
      " MIGRAD WILL VERIFY CONVERGENCE AND ERROR MATRIX.\n",
      " FCN=-2159.76 FROM MIGRAD    STATUS=CONVERGED      69 CALLS          70 TOTAL\n",
      "                     EDM=2.38095e-07    STRATEGY= 1      ERROR MATRIX ACCURATE \n",
      "  EXT PARAMETER                                   STEP         FIRST   \n",
      "  NO.   NAME      VALUE            ERROR          SIZE      DERIVATIVE \n",
      "   1  EG_RES       9.90557e-02   1.01531e+00   3.26513e-03  -1.33895e-03\n",
      "   2  EG_SCALE    -1.90001e-02   5.50402e-02   1.76370e-04  -8.39134e-02\n",
      "   3  n_highMass_1tag_di_Higgs_bias  -8.89182e-02   7.84430e-01   2.51729e-04   6.85823e-03\n",
      "   4  n_highMass_2tag_di_Higgs_bias  -2.87217e-01   7.81970e-01   2.50857e-04   5.27252e-03\n",
      "   5  theta_yield  -2.03743e-01   9.91117e-01   3.18569e-03  -7.32316e-04\n",
      "                               ERR DEF= 0.5\n",
      "AsymptoticCalculator::EvaluateNLL -  value = -2159.76 for poi fixed at = 17.1429\tfit time : Real time 0:00:00, CP time 0.020\n",
      "[#0] PROGRESS:Eval -- \t OBSERVED DATA :  qmu   = 2.13297 condNLL = -2159.76 uncond -2160.82\n",
      "[#0] PROGRESS:Eval -- AsymptoticCalculator::GetHypoTest -- Find  best conditional NLL on ASIMOV data set .... \n",
      "AsymptoticCalculator::EvaluateNLL  ........ using Minuit / Migrad with strategy  1 and tolerance 1\n",
      " **********\n",
      " **  103 **SET PRINT           0\n",
      " **********\n",
      " **********\n",
      " **  104 **SET NOGRAD\n",
      " **********\n",
      " PARAMETER DEFINITIONS:\n",
      "    NO.   NAME         VALUE      STEP SIZE      LIMITS\n",
      "     1 EG_RES       9.90557e-02  1.01531e+00   -1.00000e+01  1.00000e+01\n",
      "     2 EG_SCALE    -1.90001e-02  5.50402e-02   -1.00000e+01  1.00000e+01\n",
      "     3 n_highMass_1tag_di_Higgs_bias  -8.89182e-02  7.84430e-01   -1.00000e+02  1.00000e+02\n",
      "     4 n_highMass_2tag_di_Higgs_bias  -2.87217e-01  7.81970e-01   -1.00000e+02  1.00000e+02\n",
      "     5 theta_yield  -2.03743e-01  9.91117e-01   -1.00000e+01  1.00000e+01\n",
      " **********\n",
      " **  105 **SET ERR         0.5\n",
      " **********\n",
      " **********\n",
      " **  106 **SET PRINT           0\n",
      " **********\n",
      " **********\n",
      " **  107 **SET STR           1\n",
      " **********\n",
      " **********\n",
      " **  108 **MIGRAD        2500           1\n",
      " **********\n",
      " MIGRAD MINIMIZATION HAS CONVERGED.\n",
      " MIGRAD WILL VERIFY CONVERGENCE AND ERROR MATRIX.\n",
      " FCN=37.1579 FROM MIGRAD    STATUS=CONVERGED      62 CALLS          63 TOTAL\n",
      "                     EDM=2.26629e-07    STRATEGY= 1      ERROR MATRIX ACCURATE \n",
      "  EXT PARAMETER                                   STEP         FIRST   \n",
      "  NO.   NAME      VALUE            ERROR          SIZE      DERIVATIVE \n",
      "   1  EG_RES       2.96324e-02   9.98229e-01   4.23740e-04   1.93144e-03\n",
      "   2  EG_SCALE    -1.94918e-02   3.65478e-01   1.51954e-04  -9.56626e-03\n",
      "   3  n_highMass_1tag_di_Higgs_bias   1.04565e-02   7.99992e-01   3.39003e-05   3.87175e-05\n",
      "   4  n_highMass_2tag_di_Higgs_bias  -6.41391e-01   7.99305e-01   3.38739e-05  -1.25977e-02\n",
      "   5  theta_yield  -3.43346e-01   9.98173e-01   4.23719e-04  -2.39433e-03\n",
      "                               ERR DEF= 0.5\n",
      "AsymptoticCalculator::EvaluateNLL -  value = 37.1579 for poi fixed at = 17.1429\tfit time : Real time 0:00:00, CP time 0.010\n",
      "[#0] PROGRESS:Eval -- \t ASIMOV data qmu_A = 6.14101 condNLL = 37.1579 uncond 34.0874\n",
      "[#0] PROGRESS:Eval -- poi = 17.1429 qmu = 2.13297 qmu_A = 6.14101 sigma = 6.91773  CLsplusb = 0.0720805 CLb = 0.845575 CLs = 11.731\n",
      "[#1] INFO:ObjectHandling -- RooWorkspace::saveSnaphot(w) replacing previous snapshot with name model__snapshot\n",
      "\n",
      "[#1] INFO:Eval -- AsymptoticCalculator::GetHypoTest: - perform  an hypothesis test for  POI ( mu_2H ) = 20\n",
      "[#0] PROGRESS:Eval -- AsymptoticCalculator::GetHypoTest -  Find  best conditional NLL on OBSERVED data set ..... \n",
      "AsymptoticCalculator::EvaluateNLL  ........ using Minuit / Migrad with strategy  1 and tolerance 1\n",
      " **********\n",
      " **  109 **SET PRINT           0\n",
      " **********\n",
      " **********\n",
      " **  110 **SET NOGRAD\n",
      " **********\n",
      " PARAMETER DEFINITIONS:\n",
      "    NO.   NAME         VALUE      STEP SIZE      LIMITS\n",
      "     1 EG_RES       2.78863e-02  1.03401e+00   -1.00000e+01  1.00000e+01\n",
      "     2 EG_SCALE    -1.75633e-02  1.00838e-01   -1.00000e+01  1.00000e+01\n",
      "     3 n_highMass_1tag_di_Higgs_bias   1.07253e-02  7.78131e-01   -1.00000e+02  1.00000e+02\n",
      "     4 n_highMass_2tag_di_Higgs_bias  -2.30431e-02  7.42143e-01   -1.00000e+02  1.00000e+02\n",
      "     5 theta_yield  -8.56473e-03  9.97452e-01   -1.00000e+01  1.00000e+01\n",
      " **********\n",
      " **  111 **SET ERR         0.5\n",
      " **********\n",
      " **********\n",
      " **  112 **SET PRINT           0\n",
      " **********\n",
      " **********\n",
      " **  113 **SET STR           1\n",
      " **********\n",
      " **********\n",
      " **  114 **MIGRAD        2500           1\n",
      " **********\n",
      " MIGRAD MINIMIZATION HAS CONVERGED.\n",
      " MIGRAD WILL VERIFY CONVERGENCE AND ERROR MATRIX.\n",
      " FCN=-2159.45 FROM MIGRAD    STATUS=CONVERGED      69 CALLS          70 TOTAL\n",
      "                     EDM=2.11108e-07    STRATEGY= 1      ERROR MATRIX ACCURATE \n",
      "  EXT PARAMETER                                   STEP         FIRST   \n",
      "  NO.   NAME      VALUE            ERROR          SIZE      DERIVATIVE \n",
      "   1  EG_RES       1.13860e-01   1.01564e+00   3.26692e-03  -1.37261e-03\n",
      "   2  EG_SCALE    -1.92952e-02   5.09926e-02   1.63366e-04  -8.44987e-02\n",
      "   3  n_highMass_1tag_di_Higgs_bias  -1.01963e-01   7.85228e-01   2.51962e-04   7.56163e-03\n",
      "   4  n_highMass_2tag_di_Higgs_bias  -3.08646e-01   7.84370e-01   2.51613e-04   4.86645e-03\n",
      "   5  theta_yield  -2.53172e-01   9.89950e-01   3.18195e-03  -6.47255e-04\n",
      "                               ERR DEF= 0.5\n",
      "AsymptoticCalculator::EvaluateNLL -  value = -2159.45 for poi fixed at = 20\tfit time : Real time 0:00:00, CP time 0.010\n",
      "[#0] PROGRESS:Eval -- \t OBSERVED DATA :  qmu   = 2.73573 condNLL = -2159.45 uncond -2160.82\n",
      "[#0] PROGRESS:Eval -- AsymptoticCalculator::GetHypoTest -- Find  best conditional NLL on ASIMOV data set .... \n",
      "AsymptoticCalculator::EvaluateNLL  ........ using Minuit / Migrad with strategy  1 and tolerance 1\n",
      " **********\n",
      " **  115 **SET PRINT           0\n",
      " **********\n",
      " **********\n",
      " **  116 **SET NOGRAD\n",
      " **********\n",
      " PARAMETER DEFINITIONS:\n",
      "    NO.   NAME         VALUE      STEP SIZE      LIMITS\n",
      "     1 EG_RES       1.13860e-01  1.01564e+00   -1.00000e+01  1.00000e+01\n",
      "     2 EG_SCALE    -1.92952e-02  5.09926e-02   -1.00000e+01  1.00000e+01\n",
      "     3 n_highMass_1tag_di_Higgs_bias  -1.01963e-01  7.85228e-01   -1.00000e+02  1.00000e+02\n",
      "     4 n_highMass_2tag_di_Higgs_bias  -3.08646e-01  7.84370e-01   -1.00000e+02  1.00000e+02\n",
      "     5 theta_yield  -2.53172e-01  9.89950e-01   -1.00000e+01  1.00000e+01\n",
      " **********\n",
      " **  117 **SET ERR         0.5\n",
      " **********\n",
      " **********\n",
      " **  118 **SET PRINT           0\n",
      " **********\n",
      " **********\n",
      " **  119 **SET STR           1\n",
      " **********\n",
      " **********\n",
      " **  120 **MIGRAD        2500           1\n",
      " **********\n",
      " MIGRAD MINIMIZATION HAS CONVERGED.\n",
      " MIGRAD WILL VERIFY CONVERGENCE AND ERROR MATRIX.\n",
      " FCN=37.6635 FROM MIGRAD    STATUS=CONVERGED      62 CALLS          63 TOTAL\n",
      "                     EDM=1.7119e-07    STRATEGY= 1      ERROR MATRIX ACCURATE \n",
      "  EXT PARAMETER                                   STEP         FIRST   \n",
      "  NO.   NAME      VALUE            ERROR          SIZE      DERIVATIVE \n",
      "   1  EG_RES       2.98684e-02   9.98211e-01   4.26581e-04   1.82505e-03\n",
      "   2  EG_SCALE    -1.96695e-02   3.48947e-01   1.47209e-04  -8.48082e-03\n",
      "   3  n_highMass_1tag_di_Higgs_bias   1.04568e-02   7.99992e-01   3.41271e-05   4.70037e-05\n",
      "   4  n_highMass_2tag_di_Higgs_bias  -6.42194e-01   7.99386e-01   3.41034e-05  -1.13473e-02\n",
      "   5  theta_yield  -3.96293e-01   9.98144e-01   4.26574e-04  -2.05851e-03\n",
      "                               ERR DEF= 0.5\n",
      "AsymptoticCalculator::EvaluateNLL -  value = 37.6635 for poi fixed at = 20\tfit time : Real time 0:00:00, CP time 0.010\n",
      "[#0] PROGRESS:Eval -- \t ASIMOV data qmu_A = 7.15238 condNLL = 37.6635 uncond 34.0874\n",
      "[#0] PROGRESS:Eval -- poi = 20 qmu = 2.73573 qmu_A = 7.15238 sigma = 7.47833  CLsplusb = 0.0490633 CLb = 0.846228 CLs = 17.2477\n"
     ]
    }
   ],
   "source": [
    "r = calc.GetInterval()"
   ]
  },
  {
   "cell_type": "code",
   "execution_count": 85,
   "metadata": {
    "collapsed": false,
    "deletable": true,
    "editable": true
   },
   "outputs": [
    {
     "name": "stdout",
     "output_type": "stream",
     "text": [
      "20.0\n",
      "0.0\n"
     ]
    }
   ],
   "source": [
    "print r.UpperLimit()\n",
    "print r.UpperLimitEstimatedError()"
   ]
  },
  {
   "cell_type": "code",
   "execution_count": 87,
   "metadata": {
    "collapsed": false,
    "deletable": true,
    "editable": true
   },
   "outputs": [
    {
     "data": {
      "image/png": "[encoded data removed]",
      "text/plain": [
       "<IPython.core.display.Image object>"
      ]
     },
     "metadata": {},
     "output_type": "display_data"
    }
   ],
   "source": [
    "c = ROOT.TCanvas()\n",
    "plot = rs.HypoTestInverterPlot(r)\n",
    "plot.Draw(\"CLb 2CL\")\n",
    "c.Draw()"
   ]
  },
  {
   "cell_type": "markdown",
   "metadata": {},
   "source": [
    "Note to self: actually read this (https://root.cern.ch/root/html/tutorials/roostats/StandardHypoTestDemo.C.html) and try to understand what's going on!! Though I don't know if that's relevant. WHat I'm doing can be found here: https://twiki.cern.ch/twiki/bin/view/RooStats/RooStatsTutorialsAugust2012 and here: https://www.pp.rhul.ac.uk/~cowan/stat/roostats/SimpleCLs/SimpleCLs.C"
   ]
  },
  {
   "cell_type": "markdown",
   "metadata": {},
   "source": [
    "Andrew inverts this plot using this: https://github.com/rasumovsky/56_Hbbyy/blob/c83d975caf3f2cecb68cd470ad57b6292409573c/src/DHPlotCLvsMX.cxx"
   ]
  },
  {
   "cell_type": "code",
   "execution_count": 111,
   "metadata": {
    "collapsed": false,
    "deletable": true,
    "editable": true
   },
   "outputs": [],
   "source": [
    "# if you set the confidence interval above to 0.683, then the red line moves up"
   ]
  },
  {
   "cell_type": "markdown",
   "metadata": {},
   "source": [
    "# Ignore Below"
   ]
  },
  {
   "cell_type": "markdown",
   "metadata": {
    "deletable": true,
    "editable": true
   },
   "source": [
    "$$\\text{PDF}_{0tag,lowmass} = [\\color{red}{n_{noH,0tag,lowmass}}\\cdot f_{\\text{epoly2}}(m_{\\gamma\\gamma};a_{0,lowmass},a_{1,lowmass},a_{2,lowmass}) + \\mu_{1H}\\cdot \\color{red}{n_{1H,0tag,\n",
    "}}(1 + 0.3*\\theta_A)(1 + 0.05*\\theta_B)\\cdot f_{\\text{DSCB}}(m_{\\gamma\\gamma};\\color{red}{m_{0,0tag,lowmass}}(\\theta_A),\\color{red}{\\sigma_{0,0tag,lowmass}}(\\theta_B),\\alpha_\\text{low, lowmass},\\alpha_\\text{high, lowmass}, n_\\text{low, lowmass}, n_\\text{high, lowmass})] \\cdot \\text{Gauss}(\\theta_A; \\theta_{A0}, 1) \\cdot \\text{Gauss}(\\theta_B; \\theta_{B0}, 1)$$\n",
    "\n",
    "$$\\text{PDF}_{1tag,lowmass} = [\\color{red}{n_{noH,1tag,lowmass}}\\cdot f_{\\text{epoly2}}(m_{\\gamma\\gamma};a_{0,lowmass},a_{1,lowmass},a_{2,lowmass}) + (\\mu_{1H}\\cdot \\color{red}{n_{1H,1tag,lowmass}}+\\mu_{2H}\\cdot \\color{red}{n_{2H,1tag,lowmass}})(1 + 0.3*\\theta_A)(1 + 0.05*\\theta_B)\\cdot f_{\\text{DSCB}}(m_{\\gamma\\gamma};\\color{red}{m_{0,1tag,lowmass}}(\\theta_A),\\color{red}{\\sigma_{0,1tag,lowmass}}(\\theta_B),\\alpha_\\text{low, lowmass},\\alpha_\\text{high, lowmass}, n_\\text{low, lowmass}, n_\\text{high, lowmass})] \\cdot \\text{Gauss}(\\theta_A; \\theta_{A0}, 1) \\cdot \\text{Gauss}(\\theta_B; \\theta_{B0}, 1)$$\n",
    "\n",
    "$$\\text{PDF}_{2tag,lowmass} = [\\color{red}{n_{noH,2tag,lowmass}}\\cdot f_{\\text{epoly2}}(m_{\\gamma\\gamma};a_{0,lowmass},a_{1,lowmass},a_{2,lowmass}) + (\\mu_{1H}\\cdot \\color{red}{n_{1H,2tag,lowmass}}+\\mu_{2H}\\cdot \\color{red}{n_{2H,2tag,lowmass}})(1 + 0.3*\\theta_A)(1 + 0.05*\\theta_B)\\cdot f_{\\text{DSCB}}(m_{\\gamma\\gamma};\\color{red}{m_{0,2tag,lowmass}}(\\theta_A),\\color{red}{\\sigma_{0,2tag,lowmass}}(\\theta_B),\\alpha_\\text{low, lowmass},\\alpha_\\text{high, lowmass}, n_\\text{low, lowmass}, n_\\text{high, lowmass})] \\cdot \\text{Gauss}(\\theta_A; \\theta_{A0}, 1) \\cdot \\text{Gauss}(\\theta_B; \\theta_{B0}, 1)$$"
   ]
  },
  {
   "cell_type": "markdown",
   "metadata": {
    "deletable": true,
    "editable": true
   },
   "source": [
    "$$\\text{PDF}_{0tag,highmass} = [\\color{red}{n_{noH,0tag,highmass}}\\cdot f_{\\text{epoly2}}(m_{\\gamma\\gamma};a_{0,highmass},a_{1,highmass},a_{2,highmass}) + \\mu_{1H}\\cdot \\color{red}{n_{1H,0tag,highmass}}(1 + 0.3*\\theta_A)(1 + 0.05*\\theta_B)\\cdot f_{\\text{DSCB}}(m_{\\gamma\\gamma};m_0(\\theta_A),\\sigma_0(\\theta_B),\\alpha_\\text{low,highmass},\\alpha_\\text{high,highmass}, n_\\text{low,highmass}, n_\\text{high,highmass})] \\cdot \\text{Gauss}(\\theta_A; \\theta_{A0}, 1) \\cdot \\text{Gauss}(\\theta_B; \\theta_{B0}, 1)$$\n",
    "\n",
    "$$\\text{PDF}_{1tag,highmass} = [\\color{red}{n_{noH,1tag,highmass}}\\cdot f_{\\text{epoly2}}(m_{\\gamma\\gamma};a_{0,highmass},a_{1,highmass},a_{2,highmass}) + (\\mu_{1H}\\cdot \\color{red}{n_{1H,1tag,highmass}}+\\mu_{2H}\\cdot \\color{red}{n_{2H,1tag,highmass}})(1 + 0.3*\\theta_A)(1 + 0.05*\\theta_B)\\cdot f_{\\text{DSCB}}(m_{\\gamma\\gamma};m_0(\\theta_A),\\sigma_0(\\theta_B),\\alpha_\\text{low,highmass},\\alpha_\\text{high,highmass}, n_\\text{low,highmass}, n_\\text{high,highmass})] \\cdot \\text{Gauss}(\\theta_A; \\theta_{A0}, 1) \\cdot \\text{Gauss}(\\theta_B; \\theta_{B0}, 1)$$\n",
    "\n",
    "$$\\text{PDF}_{2tag,highmass} = [\\color{red}{n_{noH,2tag,highmass}}\\cdot f_{\\text{epoly2}}(m_{\\gamma\\gamma};a_{0,highmass},a_{1,highmass},a_{2,highmass}) + (\\mu_{1H}\\cdot \\color{red}{n_{1H,2tag,highmass}}+\\mu_{2H}\\cdot \\color{red}{n_{2H,2tag,highmass}})(1 + 0.3*\\theta_A)(1 + 0.05*\\theta_B)\\cdot f_{\\text{DSCB}}(m_{\\gamma\\gamma};m_0(\\theta_A),\\sigma_0(\\theta_B),\\alpha_\\text{low,highmass},\\alpha_\\text{high,highmass}, n_\\text{low,highmass}, n_\\text{high,highmass})] \\cdot \\text{Gauss}(\\theta_A; \\theta_{A0}, 1) \\cdot \\text{Gauss}(\\theta_B; \\theta_{B0}, 1)$$"
   ]
  }
 ],
 "metadata": {
  "kernelspec": {
   "display_name": "Python 2",
   "language": "python",
   "name": "python2"
  },
  "language_info": {
   "codemirror_mode": {
    "name": "ipython",
    "version": 2
   },
   "file_extension": ".py",
   "mimetype": "text/x-python",
   "name": "python",
   "nbconvert_exporter": "python",
   "pygments_lexer": "ipython2",
   "version": "2.7.10"
  },
  "latex_envs": {
   "bibliofile": "biblio.bib",
   "cite_by": "apalike",
   "current_citInitial": 1,
   "eqLabelWithNumbers": true,
   "eqNumInitial": 0
  }
 },
 "nbformat": 4,
 "nbformat_minor": 1
}
