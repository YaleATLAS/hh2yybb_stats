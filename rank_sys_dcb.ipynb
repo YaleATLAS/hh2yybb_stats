{
 "cells": [
  {
   "cell_type": "code",
   "execution_count": 1,
   "metadata": {
    "collapsed": false
   },
   "outputs": [
    {
     "data": {
      "application/javascript": [
       "\n",
       "require(['notebook'],\n",
       "  function() {\n",
       "    IPython.CodeCell.config_defaults.highlight_modes['magic_text/x-c++src'] = {'reg':[/^%%cpp/]};\n",
       "    console.log(\"JupyROOT - %%cpp magic configured\");\n",
       "  }\n",
       ");\n"
      ]
     },
     "metadata": {},
     "output_type": "display_data"
    },
    {
     "name": "stdout",
     "output_type": "stream",
     "text": [
      "Welcome to JupyROOT 6.08/02\n"
     ]
    }
   ],
   "source": [
    "import ROOT as r"
   ]
  },
  {
   "cell_type": "code",
   "execution_count": 2,
   "metadata": {
    "collapsed": false
   },
   "outputs": [
    {
     "data": {
      "text/plain": [
       "0L"
      ]
     },
     "execution_count": 2,
     "metadata": {},
     "output_type": "execute_result"
    },
    {
     "name": "stdout",
     "output_type": "stream",
     "text": [
      "\n",
      "\u001b[1mRooFit v3.60 -- Developed by Wouter Verkerke and David Kirkby\u001b[0m \n",
      "                Copyright (C) 2000-2013 NIKHEF, University of California & Stanford University\n",
      "                All rights reserved, please read http://roofit.sourceforge.net/license.txt\n",
      "\n"
     ]
    }
   ],
   "source": [
    "#r.gSystem.Load(\"RooDCB.C\")\n",
    "r.gROOT.ProcessLine(\".L RooDCB.C\")"
   ]
  },
  {
   "cell_type": "code",
   "execution_count": 3,
   "metadata": {
    "collapsed": true
   },
   "outputs": [],
   "source": [
    "import cPickle\n",
    "import numpy as np\n",
    "import pandas as pd"
   ]
  },
  {
   "cell_type": "code",
   "execution_count": 4,
   "metadata": {
    "collapsed": true
   },
   "outputs": [],
   "source": [
    "FIT_LOW, FIT_HIGH = 105e3, 160e3\n",
    "#FIT_LOW, FIT_HIGH = 120e3, 130e3\n",
    "\n",
    "CAT = 2"
   ]
  },
  {
   "cell_type": "code",
   "execution_count": 5,
   "metadata": {
    "collapsed": true
   },
   "outputs": [],
   "source": [
    "def draw():\n",
    "    r.gROOT.FindObject('c1').Draw()\n",
    "\n",
    "def logy(dolog=True):\n",
    "    r.gROOT.FindObject('c1').SetLogy(dolog)"
   ]
  },
  {
   "cell_type": "code",
   "execution_count": 6,
   "metadata": {
    "collapsed": true
   },
   "outputs": [],
   "source": [
    "myy = r.RooRealVar(\"myy\",\"myy\",105e3,160e3)"
   ]
  },
  {
   "cell_type": "markdown",
   "metadata": {},
   "source": [
    "# Load in m_yy histograms from Xhh_m350_yybb (h014)"
   ]
  },
  {
   "cell_type": "code",
   "execution_count": 7,
   "metadata": {
    "collapsed": false
   },
   "outputs": [
    {
     "name": "stdout",
     "output_type": "stream",
     "text": [
      "[#1] INFO:DataHandling -- RooDataHist::adjustBinning(d_nominal_0): fit range of variable myy expanded to nearest bin boundaries: [105000,160000] --> [105000,160000]\n",
      "[#1] INFO:DataHandling -- RooDataHist::adjustBinning(d_nominal_1): fit range of variable myy expanded to nearest bin boundaries: [105000,160000] --> [105000,160000]\n",
      "[#1] INFO:DataHandling -- RooDataHist::adjustBinning(d_nominal_2): fit range of variable myy expanded to nearest bin boundaries: [105000,160000] --> [105000,160000]\n",
      "[#1] INFO:DataHandling -- RooDataHist::adjustBinning(d_EG_RESOLUTION_ALL__1down_0): fit range of variable myy expanded to nearest bin boundaries: [105000,160000] --> [105000,160000]\n",
      "[#1] INFO:DataHandling -- RooDataHist::adjustBinning(d_EG_RESOLUTION_ALL__1down_1): fit range of variable myy expanded to nearest bin boundaries: [105000,160000] --> [105000,160000]\n",
      "[#1] INFO:DataHandling -- RooDataHist::adjustBinning(d_EG_RESOLUTION_ALL__1down_2): fit range of variable myy expanded to nearest bin boundaries: [105000,160000] --> [105000,160000]\n",
      "[#1] INFO:DataHandling -- RooDataHist::adjustBinning(d_EG_RESOLUTION_ALL__1up_0): fit range of variable myy expanded to nearest bin boundaries: [105000,160000] --> [105000,160000]\n",
      "[#1] INFO:DataHandling -- RooDataHist::adjustBinning(d_EG_RESOLUTION_ALL__1up_1): fit range of variable myy expanded to nearest bin boundaries: [105000,160000] --> [105000,160000]\n",
      "[#1] INFO:DataHandling -- RooDataHist::adjustBinning(d_EG_RESOLUTION_ALL__1up_2): fit range of variable myy expanded to nearest bin boundaries: [105000,160000] --> [105000,160000]\n",
      "[#1] INFO:DataHandling -- RooDataHist::adjustBinning(d_EG_SCALE_ALL__1down_0): fit range of variable myy expanded to nearest bin boundaries: [105000,160000] --> [105000,160000]\n",
      "[#1] INFO:DataHandling -- RooDataHist::adjustBinning(d_EG_SCALE_ALL__1down_1): fit range of variable myy expanded to nearest bin boundaries: [105000,160000] --> [105000,160000]\n",
      "[#1] INFO:DataHandling -- RooDataHist::adjustBinning(d_EG_SCALE_ALL__1down_2): fit range of variable myy expanded to nearest bin boundaries: [105000,160000] --> [105000,160000]\n",
      "[#1] INFO:DataHandling -- RooDataHist::adjustBinning(d_EG_SCALE_ALL__1up_0): fit range of variable myy expanded to nearest bin boundaries: [105000,160000] --> [105000,160000]\n",
      "[#1] INFO:DataHandling -- RooDataHist::adjustBinning(d_EG_SCALE_ALL__1up_1): fit range of variable myy expanded to nearest bin boundaries: [105000,160000] --> [105000,160000]\n",
      "[#1] INFO:DataHandling -- RooDataHist::adjustBinning(d_EG_SCALE_ALL__1up_2): fit range of variable myy expanded to nearest bin boundaries: [105000,160000] --> [105000,160000]\n",
      "[#1] INFO:DataHandling -- RooDataHist::adjustBinning(d_EL_EFF_ID_TOTAL_1NPCOR_PLUS_UNCOR__1down_0): fit range of variable myy expanded to nearest bin boundaries: [105000,160000] --> [105000,160000]\n",
      "[#1] INFO:DataHandling -- RooDataHist::adjustBinning(d_EL_EFF_ID_TOTAL_1NPCOR_PLUS_UNCOR__1down_1): fit range of variable myy expanded to nearest bin boundaries: [105000,160000] --> [105000,160000]\n",
      "[#1] INFO:DataHandling -- RooDataHist::adjustBinning(d_EL_EFF_ID_TOTAL_1NPCOR_PLUS_UNCOR__1down_2): fit range of variable myy expanded to nearest bin boundaries: [105000,160000] --> [105000,160000]\n",
      "[#1] INFO:DataHandling -- RooDataHist::adjustBinning(d_EL_EFF_ID_TOTAL_1NPCOR_PLUS_UNCOR__1up_0): fit range of variable myy expanded to nearest bin boundaries: [105000,160000] --> [105000,160000]\n",
      "[#1] INFO:DataHandling -- RooDataHist::adjustBinning(d_EL_EFF_ID_TOTAL_1NPCOR_PLUS_UNCOR__1up_1): fit range of variable myy expanded to nearest bin boundaries: [105000,160000] --> [105000,160000]\n",
      "[#1] INFO:DataHandling -- RooDataHist::adjustBinning(d_EL_EFF_ID_TOTAL_1NPCOR_PLUS_UNCOR__1up_2): fit range of variable myy expanded to nearest bin boundaries: [105000,160000] --> [105000,160000]\n",
      "[#1] INFO:DataHandling -- RooDataHist::adjustBinning(d_EL_EFF_Iso_TOTAL_1NPCOR_PLUS_UNCOR__1down_0): fit range of variable myy expanded to nearest bin boundaries: [105000,160000] --> [105000,160000]\n",
      "[#1] INFO:DataHandling -- RooDataHist::adjustBinning(d_EL_EFF_Iso_TOTAL_1NPCOR_PLUS_UNCOR__1down_1): fit range of variable myy expanded to nearest bin boundaries: [105000,160000] --> [105000,160000]\n",
      "[#1] INFO:DataHandling -- RooDataHist::adjustBinning(d_EL_EFF_Iso_TOTAL_1NPCOR_PLUS_UNCOR__1down_2): fit range of variable myy expanded to nearest bin boundaries: [105000,160000] --> [105000,160000]\n",
      "[#1] INFO:DataHandling -- RooDataHist::adjustBinning(d_EL_EFF_Iso_TOTAL_1NPCOR_PLUS_UNCOR__1up_0): fit range of variable myy expanded to nearest bin boundaries: [105000,160000] --> [105000,160000]\n",
      "[#1] INFO:DataHandling -- RooDataHist::adjustBinning(d_EL_EFF_Iso_TOTAL_1NPCOR_PLUS_UNCOR__1up_1): fit range of variable myy expanded to nearest bin boundaries: [105000,160000] --> [105000,160000]\n",
      "[#1] INFO:DataHandling -- RooDataHist::adjustBinning(d_EL_EFF_Iso_TOTAL_1NPCOR_PLUS_UNCOR__1up_2): fit range of variable myy expanded to nearest bin boundaries: [105000,160000] --> [105000,160000]\n",
      "[#1] INFO:DataHandling -- RooDataHist::adjustBinning(d_EL_EFF_Reco_TOTAL_1NPCOR_PLUS_UNCOR__1down_0): fit range of variable myy expanded to nearest bin boundaries: [105000,160000] --> [105000,160000]\n",
      "[#1] INFO:DataHandling -- RooDataHist::adjustBinning(d_EL_EFF_Reco_TOTAL_1NPCOR_PLUS_UNCOR__1down_1): fit range of variable myy expanded to nearest bin boundaries: [105000,160000] --> [105000,160000]\n",
      "[#1] INFO:DataHandling -- RooDataHist::adjustBinning(d_EL_EFF_Reco_TOTAL_1NPCOR_PLUS_UNCOR__1down_2): fit range of variable myy expanded to nearest bin boundaries: [105000,160000] --> [105000,160000]\n",
      "[#1] INFO:DataHandling -- RooDataHist::adjustBinning(d_EL_EFF_Reco_TOTAL_1NPCOR_PLUS_UNCOR__1up_0): fit range of variable myy expanded to nearest bin boundaries: [105000,160000] --> [105000,160000]\n",
      "[#1] INFO:DataHandling -- RooDataHist::adjustBinning(d_EL_EFF_Reco_TOTAL_1NPCOR_PLUS_UNCOR__1up_1): fit range of variable myy expanded to nearest bin boundaries: [105000,160000] --> [105000,160000]\n",
      "[#1] INFO:DataHandling -- RooDataHist::adjustBinning(d_EL_EFF_Reco_TOTAL_1NPCOR_PLUS_UNCOR__1up_2): fit range of variable myy expanded to nearest bin boundaries: [105000,160000] --> [105000,160000]\n",
      "[#1] INFO:DataHandling -- RooDataHist::adjustBinning(d_FT_EFF_Eigen_B_0__1down_0): fit range of variable myy expanded to nearest bin boundaries: [105000,160000] --> [105000,160000]\n",
      "[#1] INFO:DataHandling -- RooDataHist::adjustBinning(d_FT_EFF_Eigen_B_0__1down_1): fit range of variable myy expanded to nearest bin boundaries: [105000,160000] --> [105000,160000]\n",
      "[#1] INFO:DataHandling -- RooDataHist::adjustBinning(d_FT_EFF_Eigen_B_0__1down_2): fit range of variable myy expanded to nearest bin boundaries: [105000,160000] --> [105000,160000]\n",
      "[#1] INFO:DataHandling -- RooDataHist::adjustBinning(d_FT_EFF_Eigen_B_0__1up_0): fit range of variable myy expanded to nearest bin boundaries: [105000,160000] --> [105000,160000]\n",
      "[#1] INFO:DataHandling -- RooDataHist::adjustBinning(d_FT_EFF_Eigen_B_0__1up_1): fit range of variable myy expanded to nearest bin boundaries: [105000,160000] --> [105000,160000]\n",
      "[#1] INFO:DataHandling -- RooDataHist::adjustBinning(d_FT_EFF_Eigen_B_0__1up_2): fit range of variable myy expanded to nearest bin boundaries: [105000,160000] --> [105000,160000]\n",
      "[#1] INFO:DataHandling -- RooDataHist::adjustBinning(d_FT_EFF_Eigen_B_1__1down_0): fit range of variable myy expanded to nearest bin boundaries: [105000,160000] --> [105000,160000]\n",
      "[#1] INFO:DataHandling -- RooDataHist::adjustBinning(d_FT_EFF_Eigen_B_1__1down_1): fit range of variable myy expanded to nearest bin boundaries: [105000,160000] --> [105000,160000]\n",
      "[#1] INFO:DataHandling -- RooDataHist::adjustBinning(d_FT_EFF_Eigen_B_1__1down_2): fit range of variable myy expanded to nearest bin boundaries: [105000,160000] --> [105000,160000]\n",
      "[#1] INFO:DataHandling -- RooDataHist::adjustBinning(d_FT_EFF_Eigen_B_1__1up_0): fit range of variable myy expanded to nearest bin boundaries: [105000,160000] --> [105000,160000]\n",
      "[#1] INFO:DataHandling -- RooDataHist::adjustBinning(d_FT_EFF_Eigen_B_1__1up_1): fit range of variable myy expanded to nearest bin boundaries: [105000,160000] --> [105000,160000]\n",
      "[#1] INFO:DataHandling -- RooDataHist::adjustBinning(d_FT_EFF_Eigen_B_1__1up_2): fit range of variable myy expanded to nearest bin boundaries: [105000,160000] --> [105000,160000]\n",
      "[#1] INFO:DataHandling -- RooDataHist::adjustBinning(d_FT_EFF_Eigen_B_2__1down_0): fit range of variable myy expanded to nearest bin boundaries: [105000,160000] --> [105000,160000]\n",
      "[#1] INFO:DataHandling -- RooDataHist::adjustBinning(d_FT_EFF_Eigen_B_2__1down_1): fit range of variable myy expanded to nearest bin boundaries: [105000,160000] --> [105000,160000]\n",
      "[#1] INFO:DataHandling -- RooDataHist::adjustBinning(d_FT_EFF_Eigen_B_2__1down_2): fit range of variable myy expanded to nearest bin boundaries: [105000,160000] --> [105000,160000]\n",
      "[#1] INFO:DataHandling -- RooDataHist::adjustBinning(d_FT_EFF_Eigen_B_2__1up_0): fit range of variable myy expanded to nearest bin boundaries: [105000,160000] --> [105000,160000]\n",
      "[#1] INFO:DataHandling -- RooDataHist::adjustBinning(d_FT_EFF_Eigen_B_2__1up_1): fit range of variable myy expanded to nearest bin boundaries: [105000,160000] --> [105000,160000]\n",
      "[#1] INFO:DataHandling -- RooDataHist::adjustBinning(d_FT_EFF_Eigen_B_2__1up_2): fit range of variable myy expanded to nearest bin boundaries: [105000,160000] --> [105000,160000]\n",
      "[#1] INFO:DataHandling -- RooDataHist::adjustBinning(d_FT_EFF_Eigen_C_0__1down_0): fit range of variable myy expanded to nearest bin boundaries: [105000,160000] --> [105000,160000]\n",
      "[#1] INFO:DataHandling -- RooDataHist::adjustBinning(d_FT_EFF_Eigen_C_0__1down_1): fit range of variable myy expanded to nearest bin boundaries: [105000,160000] --> [105000,160000]\n",
      "[#1] INFO:DataHandling -- RooDataHist::adjustBinning(d_FT_EFF_Eigen_C_0__1down_2): fit range of variable myy expanded to nearest bin boundaries: [105000,160000] --> [105000,160000]\n",
      "[#1] INFO:DataHandling -- RooDataHist::adjustBinning(d_FT_EFF_Eigen_C_0__1up_0): fit range of variable myy expanded to nearest bin boundaries: [105000,160000] --> [105000,160000]\n",
      "[#1] INFO:DataHandling -- RooDataHist::adjustBinning(d_FT_EFF_Eigen_C_0__1up_1): fit range of variable myy expanded to nearest bin boundaries: [105000,160000] --> [105000,160000]\n",
      "[#1] INFO:DataHandling -- RooDataHist::adjustBinning(d_FT_EFF_Eigen_C_0__1up_2): fit range of variable myy expanded to nearest bin boundaries: [105000,160000] --> [105000,160000]\n",
      "[#1] INFO:DataHandling -- RooDataHist::adjustBinning(d_FT_EFF_Eigen_C_1__1down_0): fit range of variable myy expanded to nearest bin boundaries: [105000,160000] --> [105000,160000]\n",
      "[#1] INFO:DataHandling -- RooDataHist::adjustBinning(d_FT_EFF_Eigen_C_1__1down_1): fit range of variable myy expanded to nearest bin boundaries: [105000,160000] --> [105000,160000]\n",
      "[#1] INFO:DataHandling -- RooDataHist::adjustBinning(d_FT_EFF_Eigen_C_1__1down_2): fit range of variable myy expanded to nearest bin boundaries: [105000,160000] --> [105000,160000]\n",
      "[#1] INFO:DataHandling -- RooDataHist::adjustBinning(d_FT_EFF_Eigen_C_1__1up_0): fit range of variable myy expanded to nearest bin boundaries: [105000,160000] --> [105000,160000]\n",
      "[#1] INFO:DataHandling -- RooDataHist::adjustBinning(d_FT_EFF_Eigen_C_1__1up_1): fit range of variable myy expanded to nearest bin boundaries: [105000,160000] --> [105000,160000]\n",
      "[#1] INFO:DataHandling -- RooDataHist::adjustBinning(d_FT_EFF_Eigen_C_1__1up_2): fit range of variable myy expanded to nearest bin boundaries: [105000,160000] --> [105000,160000]\n",
      "[#1] INFO:DataHandling -- RooDataHist::adjustBinning(d_FT_EFF_Eigen_C_2__1down_0): fit range of variable myy expanded to nearest bin boundaries: [105000,160000] --> [105000,160000]\n",
      "[#1] INFO:DataHandling -- RooDataHist::adjustBinning(d_FT_EFF_Eigen_C_2__1down_1): fit range of variable myy expanded to nearest bin boundaries: [105000,160000] --> [105000,160000]\n",
      "[#1] INFO:DataHandling -- RooDataHist::adjustBinning(d_FT_EFF_Eigen_C_2__1down_2): fit range of variable myy expanded to nearest bin boundaries: [105000,160000] --> [105000,160000]\n",
      "[#1] INFO:DataHandling -- RooDataHist::adjustBinning(d_FT_EFF_Eigen_C_2__1up_0): fit range of variable myy expanded to nearest bin boundaries: [105000,160000] --> [105000,160000]\n",
      "[#1] INFO:DataHandling -- RooDataHist::adjustBinning(d_FT_EFF_Eigen_C_2__1up_1): fit range of variable myy expanded to nearest bin boundaries: [105000,160000] --> [105000,160000]\n",
      "[#1] INFO:DataHandling -- RooDataHist::adjustBinning(d_FT_EFF_Eigen_C_2__1up_2): fit range of variable myy expanded to nearest bin boundaries: [105000,160000] --> [105000,160000]\n",
      "[#1] INFO:DataHandling -- RooDataHist::adjustBinning(d_FT_EFF_Eigen_C_3__1down_0): fit range of variable myy expanded to nearest bin boundaries: [105000,160000] --> [105000,160000]\n",
      "[#1] INFO:DataHandling -- RooDataHist::adjustBinning(d_FT_EFF_Eigen_C_3__1down_1): fit range of variable myy expanded to nearest bin boundaries: [105000,160000] --> [105000,160000]\n",
      "[#1] INFO:DataHandling -- RooDataHist::adjustBinning(d_FT_EFF_Eigen_C_3__1down_2): fit range of variable myy expanded to nearest bin boundaries: [105000,160000] --> [105000,160000]\n",
      "[#1] INFO:DataHandling -- RooDataHist::adjustBinning(d_FT_EFF_Eigen_C_3__1up_0): fit range of variable myy expanded to nearest bin boundaries: [105000,160000] --> [105000,160000]\n",
      "[#1] INFO:DataHandling -- RooDataHist::adjustBinning(d_FT_EFF_Eigen_C_3__1up_1): fit range of variable myy expanded to nearest bin boundaries: [105000,160000] --> [105000,160000]\n",
      "[#1] INFO:DataHandling -- RooDataHist::adjustBinning(d_FT_EFF_Eigen_C_3__1up_2): fit range of variable myy expanded to nearest bin boundaries: [105000,160000] --> [105000,160000]\n",
      "[#1] INFO:DataHandling -- RooDataHist::adjustBinning(d_FT_EFF_Eigen_Light_0__1down_0): fit range of variable myy expanded to nearest bin boundaries: [105000,160000] --> [105000,160000]\n",
      "[#1] INFO:DataHandling -- RooDataHist::adjustBinning(d_FT_EFF_Eigen_Light_0__1down_1): fit range of variable myy expanded to nearest bin boundaries: [105000,160000] --> [105000,160000]\n",
      "[#1] INFO:DataHandling -- RooDataHist::adjustBinning(d_FT_EFF_Eigen_Light_0__1down_2): fit range of variable myy expanded to nearest bin boundaries: [105000,160000] --> [105000,160000]\n",
      "[#1] INFO:DataHandling -- RooDataHist::adjustBinning(d_FT_EFF_Eigen_Light_0__1up_0): fit range of variable myy expanded to nearest bin boundaries: [105000,160000] --> [105000,160000]\n",
      "[#1] INFO:DataHandling -- RooDataHist::adjustBinning(d_FT_EFF_Eigen_Light_0__1up_1): fit range of variable myy expanded to nearest bin boundaries: [105000,160000] --> [105000,160000]\n",
      "[#1] INFO:DataHandling -- RooDataHist::adjustBinning(d_FT_EFF_Eigen_Light_0__1up_2): fit range of variable myy expanded to nearest bin boundaries: [105000,160000] --> [105000,160000]\n",
      "[#1] INFO:DataHandling -- RooDataHist::adjustBinning(d_FT_EFF_Eigen_Light_1__1down_0): fit range of variable myy expanded to nearest bin boundaries: [105000,160000] --> [105000,160000]\n",
      "[#1] INFO:DataHandling -- RooDataHist::adjustBinning(d_FT_EFF_Eigen_Light_1__1down_1): fit range of variable myy expanded to nearest bin boundaries: [105000,160000] --> [105000,160000]\n",
      "[#1] INFO:DataHandling -- RooDataHist::adjustBinning(d_FT_EFF_Eigen_Light_1__1down_2): fit range of variable myy expanded to nearest bin boundaries: [105000,160000] --> [105000,160000]\n",
      "[#1] INFO:DataHandling -- RooDataHist::adjustBinning(d_FT_EFF_Eigen_Light_1__1up_0): fit range of variable myy expanded to nearest bin boundaries: [105000,160000] --> [105000,160000]\n",
      "[#1] INFO:DataHandling -- RooDataHist::adjustBinning(d_FT_EFF_Eigen_Light_1__1up_1): fit range of variable myy expanded to nearest bin boundaries: [105000,160000] --> [105000,160000]\n",
      "[#1] INFO:DataHandling -- RooDataHist::adjustBinning(d_FT_EFF_Eigen_Light_1__1up_2): fit range of variable myy expanded to nearest bin boundaries: [105000,160000] --> [105000,160000]\n",
      "[#1] INFO:DataHandling -- RooDataHist::adjustBinning(d_FT_EFF_Eigen_Light_2__1down_0): fit range of variable myy expanded to nearest bin boundaries: [105000,160000] --> [105000,160000]\n",
      "[#1] INFO:DataHandling -- RooDataHist::adjustBinning(d_FT_EFF_Eigen_Light_2__1down_1): fit range of variable myy expanded to nearest bin boundaries: [105000,160000] --> [105000,160000]\n",
      "[#1] INFO:DataHandling -- RooDataHist::adjustBinning(d_FT_EFF_Eigen_Light_2__1down_2): fit range of variable myy expanded to nearest bin boundaries: [105000,160000] --> [105000,160000]\n",
      "[#1] INFO:DataHandling -- RooDataHist::adjustBinning(d_FT_EFF_Eigen_Light_2__1up_0): fit range of variable myy expanded to nearest bin boundaries: [105000,160000] --> [105000,160000]\n",
      "[#1] INFO:DataHandling -- RooDataHist::adjustBinning(d_FT_EFF_Eigen_Light_2__1up_1): fit range of variable myy expanded to nearest bin boundaries: [105000,160000] --> [105000,160000]\n",
      "[#1] INFO:DataHandling -- RooDataHist::adjustBinning(d_FT_EFF_Eigen_Light_2__1up_2): fit range of variable myy expanded to nearest bin boundaries: [105000,160000] --> [105000,160000]\n",
      "[#1] INFO:DataHandling -- RooDataHist::adjustBinning(d_FT_EFF_Eigen_Light_3__1down_0): fit range of variable myy expanded to nearest bin boundaries: [105000,160000] --> [105000,160000]\n",
      "[#1] INFO:DataHandling -- RooDataHist::adjustBinning(d_FT_EFF_Eigen_Light_3__1down_1): fit range of variable myy expanded to nearest bin boundaries: [105000,160000] --> [105000,160000]\n",
      "[#1] INFO:DataHandling -- RooDataHist::adjustBinning(d_FT_EFF_Eigen_Light_3__1down_2): fit range of variable myy expanded to nearest bin boundaries: [105000,160000] --> [105000,160000]\n",
      "[#1] INFO:DataHandling -- RooDataHist::adjustBinning(d_FT_EFF_Eigen_Light_3__1up_0): fit range of variable myy expanded to nearest bin boundaries: [105000,160000] --> [105000,160000]\n",
      "[#1] INFO:DataHandling -- RooDataHist::adjustBinning(d_FT_EFF_Eigen_Light_3__1up_1): fit range of variable myy expanded to nearest bin boundaries: [105000,160000] --> [105000,160000]\n",
      "[#1] INFO:DataHandling -- RooDataHist::adjustBinning(d_FT_EFF_Eigen_Light_3__1up_2): fit range of variable myy expanded to nearest bin boundaries: [105000,160000] --> [105000,160000]\n",
      "[#1] INFO:DataHandling -- RooDataHist::adjustBinning(d_FT_EFF_Eigen_Light_4__1down_0): fit range of variable myy expanded to nearest bin boundaries: [105000,160000] --> [105000,160000]\n",
      "[#1] INFO:DataHandling -- RooDataHist::adjustBinning(d_FT_EFF_Eigen_Light_4__1down_1): fit range of variable myy expanded to nearest bin boundaries: [105000,160000] --> [105000,160000]\n",
      "[#1] INFO:DataHandling -- RooDataHist::adjustBinning(d_FT_EFF_Eigen_Light_4__1down_2): fit range of variable myy expanded to nearest bin boundaries: [105000,160000] --> [105000,160000]\n",
      "[#1] INFO:DataHandling -- RooDataHist::adjustBinning(d_FT_EFF_Eigen_Light_4__1up_0): fit range of variable myy expanded to nearest bin boundaries: [105000,160000] --> [105000,160000]\n",
      "[#1] INFO:DataHandling -- RooDataHist::adjustBinning(d_FT_EFF_Eigen_Light_4__1up_1): fit range of variable myy expanded to nearest bin boundaries: [105000,160000] --> [105000,160000]\n",
      "[#1] INFO:DataHandling -- RooDataHist::adjustBinning(d_FT_EFF_Eigen_Light_4__1up_2): fit range of variable myy expanded to nearest bin boundaries: [105000,160000] --> [105000,160000]\n",
      "[#1] INFO:DataHandling -- RooDataHist::adjustBinning(d_FT_EFF_extrapolation__1down_0): fit range of variable myy expanded to nearest bin boundaries: [105000,160000] --> [105000,160000]\n",
      "[#1] INFO:DataHandling -- RooDataHist::adjustBinning(d_FT_EFF_extrapolation__1down_1): fit range of variable myy expanded to nearest bin boundaries: [105000,160000] --> [105000,160000]\n",
      "[#1] INFO:DataHandling -- RooDataHist::adjustBinning(d_FT_EFF_extrapolation__1down_2): fit range of variable myy expanded to nearest bin boundaries: [105000,160000] --> [105000,160000]\n",
      "[#1] INFO:DataHandling -- RooDataHist::adjustBinning(d_FT_EFF_extrapolation__1up_0): fit range of variable myy expanded to nearest bin boundaries: [105000,160000] --> [105000,160000]\n",
      "[#1] INFO:DataHandling -- RooDataHist::adjustBinning(d_FT_EFF_extrapolation__1up_1): fit range of variable myy expanded to nearest bin boundaries: [105000,160000] --> [105000,160000]\n",
      "[#1] INFO:DataHandling -- RooDataHist::adjustBinning(d_FT_EFF_extrapolation__1up_2): fit range of variable myy expanded to nearest bin boundaries: [105000,160000] --> [105000,160000]\n",
      "[#1] INFO:DataHandling -- RooDataHist::adjustBinning(d_FT_EFF_extrapolation_from_charm__1down_0): fit range of variable myy expanded to nearest bin boundaries: [105000,160000] --> [105000,160000]\n",
      "[#1] INFO:DataHandling -- RooDataHist::adjustBinning(d_FT_EFF_extrapolation_from_charm__1down_1): fit range of variable myy expanded to nearest bin boundaries: [105000,160000] --> [105000,160000]\n",
      "[#1] INFO:DataHandling -- RooDataHist::adjustBinning(d_FT_EFF_extrapolation_from_charm__1down_2): fit range of variable myy expanded to nearest bin boundaries: [105000,160000] --> [105000,160000]\n",
      "[#1] INFO:DataHandling -- RooDataHist::adjustBinning(d_FT_EFF_extrapolation_from_charm__1up_0): fit range of variable myy expanded to nearest bin boundaries: [105000,160000] --> [105000,160000]\n",
      "[#1] INFO:DataHandling -- RooDataHist::adjustBinning(d_FT_EFF_extrapolation_from_charm__1up_1): fit range of variable myy expanded to nearest bin boundaries: [105000,160000] --> [105000,160000]\n",
      "[#1] INFO:DataHandling -- RooDataHist::adjustBinning(d_FT_EFF_extrapolation_from_charm__1up_2): fit range of variable myy expanded to nearest bin boundaries: [105000,160000] --> [105000,160000]\n",
      "[#1] INFO:DataHandling -- RooDataHist::adjustBinning(d_JET_BJES_Response__1down_0): fit range of variable myy expanded to nearest bin boundaries: [105000,160000] --> [105000,160000]\n",
      "[#1] INFO:DataHandling -- RooDataHist::adjustBinning(d_JET_BJES_Response__1down_1): fit range of variable myy expanded to nearest bin boundaries: [105000,160000] --> [105000,160000]\n",
      "[#1] INFO:DataHandling -- RooDataHist::adjustBinning(d_JET_BJES_Response__1down_2): fit range of variable myy expanded to nearest bin boundaries: [105000,160000] --> [105000,160000]\n",
      "[#1] INFO:DataHandling -- RooDataHist::adjustBinning(d_JET_BJES_Response__1up_0): fit range of variable myy expanded to nearest bin boundaries: [105000,160000] --> [105000,160000]\n",
      "[#1] INFO:DataHandling -- RooDataHist::adjustBinning(d_JET_BJES_Response__1up_1): fit range of variable myy expanded to nearest bin boundaries: [105000,160000] --> [105000,160000]\n",
      "[#1] INFO:DataHandling -- RooDataHist::adjustBinning(d_JET_BJES_Response__1up_2): fit range of variable myy expanded to nearest bin boundaries: [105000,160000] --> [105000,160000]\n",
      "[#1] INFO:DataHandling -- RooDataHist::adjustBinning(d_JET_EffectiveNP_1__1down_0): fit range of variable myy expanded to nearest bin boundaries: [105000,160000] --> [105000,160000]\n",
      "[#1] INFO:DataHandling -- RooDataHist::adjustBinning(d_JET_EffectiveNP_1__1down_1): fit range of variable myy expanded to nearest bin boundaries: [105000,160000] --> [105000,160000]\n",
      "[#1] INFO:DataHandling -- RooDataHist::adjustBinning(d_JET_EffectiveNP_1__1down_2): fit range of variable myy expanded to nearest bin boundaries: [105000,160000] --> [105000,160000]\n",
      "[#1] INFO:DataHandling -- RooDataHist::adjustBinning(d_JET_EffectiveNP_1__1up_0): fit range of variable myy expanded to nearest bin boundaries: [105000,160000] --> [105000,160000]\n",
      "[#1] INFO:DataHandling -- RooDataHist::adjustBinning(d_JET_EffectiveNP_1__1up_1): fit range of variable myy expanded to nearest bin boundaries: [105000,160000] --> [105000,160000]\n",
      "[#1] INFO:DataHandling -- RooDataHist::adjustBinning(d_JET_EffectiveNP_1__1up_2): fit range of variable myy expanded to nearest bin boundaries: [105000,160000] --> [105000,160000]\n",
      "[#1] INFO:DataHandling -- RooDataHist::adjustBinning(d_JET_EffectiveNP_2__1down_0): fit range of variable myy expanded to nearest bin boundaries: [105000,160000] --> [105000,160000]\n",
      "[#1] INFO:DataHandling -- RooDataHist::adjustBinning(d_JET_EffectiveNP_2__1down_1): fit range of variable myy expanded to nearest bin boundaries: [105000,160000] --> [105000,160000]\n",
      "[#1] INFO:DataHandling -- RooDataHist::adjustBinning(d_JET_EffectiveNP_2__1down_2): fit range of variable myy expanded to nearest bin boundaries: [105000,160000] --> [105000,160000]\n",
      "[#1] INFO:DataHandling -- RooDataHist::adjustBinning(d_JET_EffectiveNP_2__1up_0): fit range of variable myy expanded to nearest bin boundaries: [105000,160000] --> [105000,160000]\n",
      "[#1] INFO:DataHandling -- RooDataHist::adjustBinning(d_JET_EffectiveNP_2__1up_1): fit range of variable myy expanded to nearest bin boundaries: [105000,160000] --> [105000,160000]\n",
      "[#1] INFO:DataHandling -- RooDataHist::adjustBinning(d_JET_EffectiveNP_2__1up_2): fit range of variable myy expanded to nearest bin boundaries: [105000,160000] --> [105000,160000]\n",
      "[#1] INFO:DataHandling -- RooDataHist::adjustBinning(d_JET_EffectiveNP_3__1down_0): fit range of variable myy expanded to nearest bin boundaries: [105000,160000] --> [105000,160000]\n",
      "[#1] INFO:DataHandling -- RooDataHist::adjustBinning(d_JET_EffectiveNP_3__1down_1): fit range of variable myy expanded to nearest bin boundaries: [105000,160000] --> [105000,160000]\n",
      "[#1] INFO:DataHandling -- RooDataHist::adjustBinning(d_JET_EffectiveNP_3__1down_2): fit range of variable myy expanded to nearest bin boundaries: [105000,160000] --> [105000,160000]\n",
      "[#1] INFO:DataHandling -- RooDataHist::adjustBinning(d_JET_EffectiveNP_3__1up_0): fit range of variable myy expanded to nearest bin boundaries: [105000,160000] --> [105000,160000]\n",
      "[#1] INFO:DataHandling -- RooDataHist::adjustBinning(d_JET_EffectiveNP_3__1up_1): fit range of variable myy expanded to nearest bin boundaries: [105000,160000] --> [105000,160000]\n",
      "[#1] INFO:DataHandling -- RooDataHist::adjustBinning(d_JET_EffectiveNP_3__1up_2): fit range of variable myy expanded to nearest bin boundaries: [105000,160000] --> [105000,160000]\n",
      "[#1] INFO:DataHandling -- RooDataHist::adjustBinning(d_JET_EffectiveNP_4__1down_0): fit range of variable myy expanded to nearest bin boundaries: [105000,160000] --> [105000,160000]\n",
      "[#1] INFO:DataHandling -- RooDataHist::adjustBinning(d_JET_EffectiveNP_4__1down_1): fit range of variable myy expanded to nearest bin boundaries: [105000,160000] --> [105000,160000]\n",
      "[#1] INFO:DataHandling -- RooDataHist::adjustBinning(d_JET_EffectiveNP_4__1down_2): fit range of variable myy expanded to nearest bin boundaries: [105000,160000] --> [105000,160000]\n",
      "[#1] INFO:DataHandling -- RooDataHist::adjustBinning(d_JET_EffectiveNP_4__1up_0): fit range of variable myy expanded to nearest bin boundaries: [105000,160000] --> [105000,160000]\n",
      "[#1] INFO:DataHandling -- RooDataHist::adjustBinning(d_JET_EffectiveNP_4__1up_1): fit range of variable myy expanded to nearest bin boundaries: [105000,160000] --> [105000,160000]\n",
      "[#1] INFO:DataHandling -- RooDataHist::adjustBinning(d_JET_EffectiveNP_4__1up_2): fit range of variable myy expanded to nearest bin boundaries: [105000,160000] --> [105000,160000]\n",
      "[#1] INFO:DataHandling -- RooDataHist::adjustBinning(d_JET_EffectiveNP_5__1down_0): fit range of variable myy expanded to nearest bin boundaries: [105000,160000] --> [105000,160000]\n",
      "[#1] INFO:DataHandling -- RooDataHist::adjustBinning(d_JET_EffectiveNP_5__1down_1): fit range of variable myy expanded to nearest bin boundaries: [105000,160000] --> [105000,160000]\n",
      "[#1] INFO:DataHandling -- RooDataHist::adjustBinning(d_JET_EffectiveNP_5__1down_2): fit range of variable myy expanded to nearest bin boundaries: [105000,160000] --> [105000,160000]\n",
      "[#1] INFO:DataHandling -- RooDataHist::adjustBinning(d_JET_EffectiveNP_5__1up_0): fit range of variable myy expanded to nearest bin boundaries: [105000,160000] --> [105000,160000]\n",
      "[#1] INFO:DataHandling -- RooDataHist::adjustBinning(d_JET_EffectiveNP_5__1up_1): fit range of variable myy expanded to nearest bin boundaries: [105000,160000] --> [105000,160000]\n",
      "[#1] INFO:DataHandling -- RooDataHist::adjustBinning(d_JET_EffectiveNP_5__1up_2): fit range of variable myy expanded to nearest bin boundaries: [105000,160000] --> [105000,160000]\n",
      "[#1] INFO:DataHandling -- RooDataHist::adjustBinning(d_JET_EffectiveNP_6restTerm__1down_0): fit range of variable myy expanded to nearest bin boundaries: [105000,160000] --> [105000,160000]\n",
      "[#1] INFO:DataHandling -- RooDataHist::adjustBinning(d_JET_EffectiveNP_6restTerm__1down_1): fit range of variable myy expanded to nearest bin boundaries: [105000,160000] --> [105000,160000]\n",
      "[#1] INFO:DataHandling -- RooDataHist::adjustBinning(d_JET_EffectiveNP_6restTerm__1down_2): fit range of variable myy expanded to nearest bin boundaries: [105000,160000] --> [105000,160000]\n",
      "[#1] INFO:DataHandling -- RooDataHist::adjustBinning(d_JET_EffectiveNP_6restTerm__1up_0): fit range of variable myy expanded to nearest bin boundaries: [105000,160000] --> [105000,160000]\n",
      "[#1] INFO:DataHandling -- RooDataHist::adjustBinning(d_JET_EffectiveNP_6restTerm__1up_1): fit range of variable myy expanded to nearest bin boundaries: [105000,160000] --> [105000,160000]\n",
      "[#1] INFO:DataHandling -- RooDataHist::adjustBinning(d_JET_EffectiveNP_6restTerm__1up_2): fit range of variable myy expanded to nearest bin boundaries: [105000,160000] --> [105000,160000]\n",
      "[#1] INFO:DataHandling -- RooDataHist::adjustBinning(d_JET_EtaIntercalibration_Modelling__1down_0): fit range of variable myy expanded to nearest bin boundaries: [105000,160000] --> [105000,160000]\n",
      "[#1] INFO:DataHandling -- RooDataHist::adjustBinning(d_JET_EtaIntercalibration_Modelling__1down_1): fit range of variable myy expanded to nearest bin boundaries: [105000,160000] --> [105000,160000]\n",
      "[#1] INFO:DataHandling -- RooDataHist::adjustBinning(d_JET_EtaIntercalibration_Modelling__1down_2): fit range of variable myy expanded to nearest bin boundaries: [105000,160000] --> [105000,160000]\n",
      "[#1] INFO:DataHandling -- RooDataHist::adjustBinning(d_JET_EtaIntercalibration_Modelling__1up_0): fit range of variable myy expanded to nearest bin boundaries: [105000,160000] --> [105000,160000]\n",
      "[#1] INFO:DataHandling -- RooDataHist::adjustBinning(d_JET_EtaIntercalibration_Modelling__1up_1): fit range of variable myy expanded to nearest bin boundaries: [105000,160000] --> [105000,160000]\n",
      "[#1] INFO:DataHandling -- RooDataHist::adjustBinning(d_JET_EtaIntercalibration_Modelling__1up_2): fit range of variable myy expanded to nearest bin boundaries: [105000,160000] --> [105000,160000]\n",
      "[#1] INFO:DataHandling -- RooDataHist::adjustBinning(d_JET_EtaIntercalibration_NonClosure__1down_0): fit range of variable myy expanded to nearest bin boundaries: [105000,160000] --> [105000,160000]\n",
      "[#1] INFO:DataHandling -- RooDataHist::adjustBinning(d_JET_EtaIntercalibration_NonClosure__1down_1): fit range of variable myy expanded to nearest bin boundaries: [105000,160000] --> [105000,160000]\n",
      "[#1] INFO:DataHandling -- RooDataHist::adjustBinning(d_JET_EtaIntercalibration_NonClosure__1down_2): fit range of variable myy expanded to nearest bin boundaries: [105000,160000] --> [105000,160000]\n",
      "[#1] INFO:DataHandling -- RooDataHist::adjustBinning(d_JET_EtaIntercalibration_NonClosure__1up_0): fit range of variable myy expanded to nearest bin boundaries: [105000,160000] --> [105000,160000]\n",
      "[#1] INFO:DataHandling -- RooDataHist::adjustBinning(d_JET_EtaIntercalibration_NonClosure__1up_1): fit range of variable myy expanded to nearest bin boundaries: [105000,160000] --> [105000,160000]\n",
      "[#1] INFO:DataHandling -- RooDataHist::adjustBinning(d_JET_EtaIntercalibration_NonClosure__1up_2): fit range of variable myy expanded to nearest bin boundaries: [105000,160000] --> [105000,160000]\n",
      "[#1] INFO:DataHandling -- RooDataHist::adjustBinning(d_JET_EtaIntercalibration_TotalStat__1down_0): fit range of variable myy expanded to nearest bin boundaries: [105000,160000] --> [105000,160000]\n",
      "[#1] INFO:DataHandling -- RooDataHist::adjustBinning(d_JET_EtaIntercalibration_TotalStat__1down_1): fit range of variable myy expanded to nearest bin boundaries: [105000,160000] --> [105000,160000]\n",
      "[#1] INFO:DataHandling -- RooDataHist::adjustBinning(d_JET_EtaIntercalibration_TotalStat__1down_2): fit range of variable myy expanded to nearest bin boundaries: [105000,160000] --> [105000,160000]\n",
      "[#1] INFO:DataHandling -- RooDataHist::adjustBinning(d_JET_EtaIntercalibration_TotalStat__1up_0): fit range of variable myy expanded to nearest bin boundaries: [105000,160000] --> [105000,160000]\n",
      "[#1] INFO:DataHandling -- RooDataHist::adjustBinning(d_JET_EtaIntercalibration_TotalStat__1up_1): fit range of variable myy expanded to nearest bin boundaries: [105000,160000] --> [105000,160000]\n",
      "[#1] INFO:DataHandling -- RooDataHist::adjustBinning(d_JET_EtaIntercalibration_TotalStat__1up_2): fit range of variable myy expanded to nearest bin boundaries: [105000,160000] --> [105000,160000]\n",
      "[#1] INFO:DataHandling -- RooDataHist::adjustBinning(d_JET_Flavor_Composition__1down_0): fit range of variable myy expanded to nearest bin boundaries: [105000,160000] --> [105000,160000]\n",
      "[#1] INFO:DataHandling -- RooDataHist::adjustBinning(d_JET_Flavor_Composition__1down_1): fit range of variable myy expanded to nearest bin boundaries: [105000,160000] --> [105000,160000]\n",
      "[#1] INFO:DataHandling -- RooDataHist::adjustBinning(d_JET_Flavor_Composition__1down_2): fit range of variable myy expanded to nearest bin boundaries: [105000,160000] --> [105000,160000]\n",
      "[#1] INFO:DataHandling -- RooDataHist::adjustBinning(d_JET_Flavor_Composition__1up_0): fit range of variable myy expanded to nearest bin boundaries: [105000,160000] --> [105000,160000]\n",
      "[#1] INFO:DataHandling -- RooDataHist::adjustBinning(d_JET_Flavor_Composition__1up_1): fit range of variable myy expanded to nearest bin boundaries: [105000,160000] --> [105000,160000]\n",
      "[#1] INFO:DataHandling -- RooDataHist::adjustBinning(d_JET_Flavor_Composition__1up_2): fit range of variable myy expanded to nearest bin boundaries: [105000,160000] --> [105000,160000]\n",
      "[#1] INFO:DataHandling -- RooDataHist::adjustBinning(d_JET_Flavor_Response__1down_0): fit range of variable myy expanded to nearest bin boundaries: [105000,160000] --> [105000,160000]\n",
      "[#1] INFO:DataHandling -- RooDataHist::adjustBinning(d_JET_Flavor_Response__1down_1): fit range of variable myy expanded to nearest bin boundaries: [105000,160000] --> [105000,160000]\n",
      "[#1] INFO:DataHandling -- RooDataHist::adjustBinning(d_JET_Flavor_Response__1down_2): fit range of variable myy expanded to nearest bin boundaries: [105000,160000] --> [105000,160000]\n",
      "[#1] INFO:DataHandling -- RooDataHist::adjustBinning(d_JET_Flavor_Response__1up_0): fit range of variable myy expanded to nearest bin boundaries: [105000,160000] --> [105000,160000]\n",
      "[#1] INFO:DataHandling -- RooDataHist::adjustBinning(d_JET_Flavor_Response__1up_1): fit range of variable myy expanded to nearest bin boundaries: [105000,160000] --> [105000,160000]\n",
      "[#1] INFO:DataHandling -- RooDataHist::adjustBinning(d_JET_Flavor_Response__1up_2): fit range of variable myy expanded to nearest bin boundaries: [105000,160000] --> [105000,160000]\n",
      "[#1] INFO:DataHandling -- RooDataHist::adjustBinning(d_JET_JER_SINGLE_NP__1up_0): fit range of variable myy expanded to nearest bin boundaries: [105000,160000] --> [105000,160000]\n",
      "[#1] INFO:DataHandling -- RooDataHist::adjustBinning(d_JET_JER_SINGLE_NP__1up_1): fit range of variable myy expanded to nearest bin boundaries: [105000,160000] --> [105000,160000]\n",
      "[#1] INFO:DataHandling -- RooDataHist::adjustBinning(d_JET_JER_SINGLE_NP__1up_2): fit range of variable myy expanded to nearest bin boundaries: [105000,160000] --> [105000,160000]\n",
      "[#1] INFO:DataHandling -- RooDataHist::adjustBinning(d_JET_JvtEfficiency__1down_0): fit range of variable myy expanded to nearest bin boundaries: [105000,160000] --> [105000,160000]\n",
      "[#1] INFO:DataHandling -- RooDataHist::adjustBinning(d_JET_JvtEfficiency__1down_1): fit range of variable myy expanded to nearest bin boundaries: [105000,160000] --> [105000,160000]\n",
      "[#1] INFO:DataHandling -- RooDataHist::adjustBinning(d_JET_JvtEfficiency__1down_2): fit range of variable myy expanded to nearest bin boundaries: [105000,160000] --> [105000,160000]\n",
      "[#1] INFO:DataHandling -- RooDataHist::adjustBinning(d_JET_JvtEfficiency__1up_0): fit range of variable myy expanded to nearest bin boundaries: [105000,160000] --> [105000,160000]\n",
      "[#1] INFO:DataHandling -- RooDataHist::adjustBinning(d_JET_JvtEfficiency__1up_1): fit range of variable myy expanded to nearest bin boundaries: [105000,160000] --> [105000,160000]\n",
      "[#1] INFO:DataHandling -- RooDataHist::adjustBinning(d_JET_JvtEfficiency__1up_2): fit range of variable myy expanded to nearest bin boundaries: [105000,160000] --> [105000,160000]\n",
      "[#1] INFO:DataHandling -- RooDataHist::adjustBinning(d_JET_Pileup_OffsetMu__1down_0): fit range of variable myy expanded to nearest bin boundaries: [105000,160000] --> [105000,160000]\n",
      "[#1] INFO:DataHandling -- RooDataHist::adjustBinning(d_JET_Pileup_OffsetMu__1down_1): fit range of variable myy expanded to nearest bin boundaries: [105000,160000] --> [105000,160000]\n",
      "[#1] INFO:DataHandling -- RooDataHist::adjustBinning(d_JET_Pileup_OffsetMu__1down_2): fit range of variable myy expanded to nearest bin boundaries: [105000,160000] --> [105000,160000]\n",
      "[#1] INFO:DataHandling -- RooDataHist::adjustBinning(d_JET_Pileup_OffsetMu__1up_0): fit range of variable myy expanded to nearest bin boundaries: [105000,160000] --> [105000,160000]\n",
      "[#1] INFO:DataHandling -- RooDataHist::adjustBinning(d_JET_Pileup_OffsetMu__1up_1): fit range of variable myy expanded to nearest bin boundaries: [105000,160000] --> [105000,160000]\n",
      "[#1] INFO:DataHandling -- RooDataHist::adjustBinning(d_JET_Pileup_OffsetMu__1up_2): fit range of variable myy expanded to nearest bin boundaries: [105000,160000] --> [105000,160000]\n",
      "[#1] INFO:DataHandling -- RooDataHist::adjustBinning(d_JET_Pileup_OffsetNPV__1down_0): fit range of variable myy expanded to nearest bin boundaries: [105000,160000] --> [105000,160000]\n",
      "[#1] INFO:DataHandling -- RooDataHist::adjustBinning(d_JET_Pileup_OffsetNPV__1down_1): fit range of variable myy expanded to nearest bin boundaries: [105000,160000] --> [105000,160000]\n",
      "[#1] INFO:DataHandling -- RooDataHist::adjustBinning(d_JET_Pileup_OffsetNPV__1down_2): fit range of variable myy expanded to nearest bin boundaries: [105000,160000] --> [105000,160000]\n",
      "[#1] INFO:DataHandling -- RooDataHist::adjustBinning(d_JET_Pileup_OffsetNPV__1up_0): fit range of variable myy expanded to nearest bin boundaries: [105000,160000] --> [105000,160000]\n",
      "[#1] INFO:DataHandling -- RooDataHist::adjustBinning(d_JET_Pileup_OffsetNPV__1up_1): fit range of variable myy expanded to nearest bin boundaries: [105000,160000] --> [105000,160000]\n",
      "[#1] INFO:DataHandling -- RooDataHist::adjustBinning(d_JET_Pileup_OffsetNPV__1up_2): fit range of variable myy expanded to nearest bin boundaries: [105000,160000] --> [105000,160000]\n",
      "[#1] INFO:DataHandling -- RooDataHist::adjustBinning(d_JET_Pileup_PtTerm__1down_0): fit range of variable myy expanded to nearest bin boundaries: [105000,160000] --> [105000,160000]\n",
      "[#1] INFO:DataHandling -- RooDataHist::adjustBinning(d_JET_Pileup_PtTerm__1down_1): fit range of variable myy expanded to nearest bin boundaries: [105000,160000] --> [105000,160000]\n",
      "[#1] INFO:DataHandling -- RooDataHist::adjustBinning(d_JET_Pileup_PtTerm__1down_2): fit range of variable myy expanded to nearest bin boundaries: [105000,160000] --> [105000,160000]\n",
      "[#1] INFO:DataHandling -- RooDataHist::adjustBinning(d_JET_Pileup_PtTerm__1up_0): fit range of variable myy expanded to nearest bin boundaries: [105000,160000] --> [105000,160000]\n",
      "[#1] INFO:DataHandling -- RooDataHist::adjustBinning(d_JET_Pileup_PtTerm__1up_1): fit range of variable myy expanded to nearest bin boundaries: [105000,160000] --> [105000,160000]\n",
      "[#1] INFO:DataHandling -- RooDataHist::adjustBinning(d_JET_Pileup_PtTerm__1up_2): fit range of variable myy expanded to nearest bin boundaries: [105000,160000] --> [105000,160000]\n",
      "[#1] INFO:DataHandling -- RooDataHist::adjustBinning(d_JET_Pileup_RhoTopology__1down_0): fit range of variable myy expanded to nearest bin boundaries: [105000,160000] --> [105000,160000]\n",
      "[#1] INFO:DataHandling -- RooDataHist::adjustBinning(d_JET_Pileup_RhoTopology__1down_1): fit range of variable myy expanded to nearest bin boundaries: [105000,160000] --> [105000,160000]\n",
      "[#1] INFO:DataHandling -- RooDataHist::adjustBinning(d_JET_Pileup_RhoTopology__1down_2): fit range of variable myy expanded to nearest bin boundaries: [105000,160000] --> [105000,160000]\n",
      "[#1] INFO:DataHandling -- RooDataHist::adjustBinning(d_JET_Pileup_RhoTopology__1up_0): fit range of variable myy expanded to nearest bin boundaries: [105000,160000] --> [105000,160000]\n",
      "[#1] INFO:DataHandling -- RooDataHist::adjustBinning(d_JET_Pileup_RhoTopology__1up_1): fit range of variable myy expanded to nearest bin boundaries: [105000,160000] --> [105000,160000]\n",
      "[#1] INFO:DataHandling -- RooDataHist::adjustBinning(d_JET_Pileup_RhoTopology__1up_2): fit range of variable myy expanded to nearest bin boundaries: [105000,160000] --> [105000,160000]\n",
      "[#1] INFO:DataHandling -- RooDataHist::adjustBinning(d_JET_PunchThrough_MC15__1down_0): fit range of variable myy expanded to nearest bin boundaries: [105000,160000] --> [105000,160000]\n",
      "[#1] INFO:DataHandling -- RooDataHist::adjustBinning(d_JET_PunchThrough_MC15__1down_1): fit range of variable myy expanded to nearest bin boundaries: [105000,160000] --> [105000,160000]\n",
      "[#1] INFO:DataHandling -- RooDataHist::adjustBinning(d_JET_PunchThrough_MC15__1down_2): fit range of variable myy expanded to nearest bin boundaries: [105000,160000] --> [105000,160000]\n",
      "[#1] INFO:DataHandling -- RooDataHist::adjustBinning(d_JET_PunchThrough_MC15__1up_0): fit range of variable myy expanded to nearest bin boundaries: [105000,160000] --> [105000,160000]\n",
      "[#1] INFO:DataHandling -- RooDataHist::adjustBinning(d_JET_PunchThrough_MC15__1up_1): fit range of variable myy expanded to nearest bin boundaries: [105000,160000] --> [105000,160000]\n",
      "[#1] INFO:DataHandling -- RooDataHist::adjustBinning(d_JET_PunchThrough_MC15__1up_2): fit range of variable myy expanded to nearest bin boundaries: [105000,160000] --> [105000,160000]\n",
      "[#1] INFO:DataHandling -- RooDataHist::adjustBinning(d_JET_SingleParticle_HighPt__1down_0): fit range of variable myy expanded to nearest bin boundaries: [105000,160000] --> [105000,160000]\n",
      "[#1] INFO:DataHandling -- RooDataHist::adjustBinning(d_JET_SingleParticle_HighPt__1down_1): fit range of variable myy expanded to nearest bin boundaries: [105000,160000] --> [105000,160000]\n",
      "[#1] INFO:DataHandling -- RooDataHist::adjustBinning(d_JET_SingleParticle_HighPt__1down_2): fit range of variable myy expanded to nearest bin boundaries: [105000,160000] --> [105000,160000]\n",
      "[#1] INFO:DataHandling -- RooDataHist::adjustBinning(d_JET_SingleParticle_HighPt__1up_0): fit range of variable myy expanded to nearest bin boundaries: [105000,160000] --> [105000,160000]\n",
      "[#1] INFO:DataHandling -- RooDataHist::adjustBinning(d_JET_SingleParticle_HighPt__1up_1): fit range of variable myy expanded to nearest bin boundaries: [105000,160000] --> [105000,160000]\n",
      "[#1] INFO:DataHandling -- RooDataHist::adjustBinning(d_JET_SingleParticle_HighPt__1up_2): fit range of variable myy expanded to nearest bin boundaries: [105000,160000] --> [105000,160000]\n",
      "[#1] INFO:DataHandling -- RooDataHist::adjustBinning(d_MET_JetTrk_ScaleDown_0): fit range of variable myy expanded to nearest bin boundaries: [105000,160000] --> [105000,160000]\n",
      "[#1] INFO:DataHandling -- RooDataHist::adjustBinning(d_MET_JetTrk_ScaleDown_1): fit range of variable myy expanded to nearest bin boundaries: [105000,160000] --> [105000,160000]\n",
      "[#1] INFO:DataHandling -- RooDataHist::adjustBinning(d_MET_JetTrk_ScaleDown_2): fit range of variable myy expanded to nearest bin boundaries: [105000,160000] --> [105000,160000]\n",
      "[#1] INFO:DataHandling -- RooDataHist::adjustBinning(d_MET_JetTrk_ScaleUp_0): fit range of variable myy expanded to nearest bin boundaries: [105000,160000] --> [105000,160000]\n",
      "[#1] INFO:DataHandling -- RooDataHist::adjustBinning(d_MET_JetTrk_ScaleUp_1): fit range of variable myy expanded to nearest bin boundaries: [105000,160000] --> [105000,160000]\n",
      "[#1] INFO:DataHandling -- RooDataHist::adjustBinning(d_MET_JetTrk_ScaleUp_2): fit range of variable myy expanded to nearest bin boundaries: [105000,160000] --> [105000,160000]\n",
      "[#1] INFO:DataHandling -- RooDataHist::adjustBinning(d_MET_SoftTrk_ResoPara_0): fit range of variable myy expanded to nearest bin boundaries: [105000,160000] --> [105000,160000]\n",
      "[#1] INFO:DataHandling -- RooDataHist::adjustBinning(d_MET_SoftTrk_ResoPara_1): fit range of variable myy expanded to nearest bin boundaries: [105000,160000] --> [105000,160000]\n",
      "[#1] INFO:DataHandling -- RooDataHist::adjustBinning(d_MET_SoftTrk_ResoPara_2): fit range of variable myy expanded to nearest bin boundaries: [105000,160000] --> [105000,160000]\n",
      "[#1] INFO:DataHandling -- RooDataHist::adjustBinning(d_MET_SoftTrk_ResoPerp_0): fit range of variable myy expanded to nearest bin boundaries: [105000,160000] --> [105000,160000]\n",
      "[#1] INFO:DataHandling -- RooDataHist::adjustBinning(d_MET_SoftTrk_ResoPerp_1): fit range of variable myy expanded to nearest bin boundaries: [105000,160000] --> [105000,160000]\n",
      "[#1] INFO:DataHandling -- RooDataHist::adjustBinning(d_MET_SoftTrk_ResoPerp_2): fit range of variable myy expanded to nearest bin boundaries: [105000,160000] --> [105000,160000]\n",
      "[#1] INFO:DataHandling -- RooDataHist::adjustBinning(d_MET_SoftTrk_ScaleDown_0): fit range of variable myy expanded to nearest bin boundaries: [105000,160000] --> [105000,160000]\n",
      "[#1] INFO:DataHandling -- RooDataHist::adjustBinning(d_MET_SoftTrk_ScaleDown_1): fit range of variable myy expanded to nearest bin boundaries: [105000,160000] --> [105000,160000]\n",
      "[#1] INFO:DataHandling -- RooDataHist::adjustBinning(d_MET_SoftTrk_ScaleDown_2): fit range of variable myy expanded to nearest bin boundaries: [105000,160000] --> [105000,160000]\n",
      "[#1] INFO:DataHandling -- RooDataHist::adjustBinning(d_MET_SoftTrk_ScaleUp_0): fit range of variable myy expanded to nearest bin boundaries: [105000,160000] --> [105000,160000]\n",
      "[#1] INFO:DataHandling -- RooDataHist::adjustBinning(d_MET_SoftTrk_ScaleUp_1): fit range of variable myy expanded to nearest bin boundaries: [105000,160000] --> [105000,160000]\n",
      "[#1] INFO:DataHandling -- RooDataHist::adjustBinning(d_MET_SoftTrk_ScaleUp_2): fit range of variable myy expanded to nearest bin boundaries: [105000,160000] --> [105000,160000]\n",
      "[#1] INFO:DataHandling -- RooDataHist::adjustBinning(d_MUONS_ID__1down_0): fit range of variable myy expanded to nearest bin boundaries: [105000,160000] --> [105000,160000]\n",
      "[#1] INFO:DataHandling -- RooDataHist::adjustBinning(d_MUONS_ID__1down_1): fit range of variable myy expanded to nearest bin boundaries: [105000,160000] --> [105000,160000]\n",
      "[#1] INFO:DataHandling -- RooDataHist::adjustBinning(d_MUONS_ID__1down_2): fit range of variable myy expanded to nearest bin boundaries: [105000,160000] --> [105000,160000]\n",
      "[#1] INFO:DataHandling -- RooDataHist::adjustBinning(d_MUONS_ID__1up_0): fit range of variable myy expanded to nearest bin boundaries: [105000,160000] --> [105000,160000]\n",
      "[#1] INFO:DataHandling -- RooDataHist::adjustBinning(d_MUONS_ID__1up_1): fit range of variable myy expanded to nearest bin boundaries: [105000,160000] --> [105000,160000]\n",
      "[#1] INFO:DataHandling -- RooDataHist::adjustBinning(d_MUONS_ID__1up_2): fit range of variable myy expanded to nearest bin boundaries: [105000,160000] --> [105000,160000]\n",
      "[#1] INFO:DataHandling -- RooDataHist::adjustBinning(d_MUONS_MS__1down_0): fit range of variable myy expanded to nearest bin boundaries: [105000,160000] --> [105000,160000]\n",
      "[#1] INFO:DataHandling -- RooDataHist::adjustBinning(d_MUONS_MS__1down_1): fit range of variable myy expanded to nearest bin boundaries: [105000,160000] --> [105000,160000]\n",
      "[#1] INFO:DataHandling -- RooDataHist::adjustBinning(d_MUONS_MS__1down_2): fit range of variable myy expanded to nearest bin boundaries: [105000,160000] --> [105000,160000]\n",
      "[#1] INFO:DataHandling -- RooDataHist::adjustBinning(d_MUONS_MS__1up_0): fit range of variable myy expanded to nearest bin boundaries: [105000,160000] --> [105000,160000]\n",
      "[#1] INFO:DataHandling -- RooDataHist::adjustBinning(d_MUONS_MS__1up_1): fit range of variable myy expanded to nearest bin boundaries: [105000,160000] --> [105000,160000]\n",
      "[#1] INFO:DataHandling -- RooDataHist::adjustBinning(d_MUONS_MS__1up_2): fit range of variable myy expanded to nearest bin boundaries: [105000,160000] --> [105000,160000]\n",
      "[#1] INFO:DataHandling -- RooDataHist::adjustBinning(d_MUONS_SCALE__1down_0): fit range of variable myy expanded to nearest bin boundaries: [105000,160000] --> [105000,160000]\n",
      "[#1] INFO:DataHandling -- RooDataHist::adjustBinning(d_MUONS_SCALE__1down_1): fit range of variable myy expanded to nearest bin boundaries: [105000,160000] --> [105000,160000]\n",
      "[#1] INFO:DataHandling -- RooDataHist::adjustBinning(d_MUONS_SCALE__1down_2): fit range of variable myy expanded to nearest bin boundaries: [105000,160000] --> [105000,160000]\n",
      "[#1] INFO:DataHandling -- RooDataHist::adjustBinning(d_MUONS_SCALE__1up_0): fit range of variable myy expanded to nearest bin boundaries: [105000,160000] --> [105000,160000]\n",
      "[#1] INFO:DataHandling -- RooDataHist::adjustBinning(d_MUONS_SCALE__1up_1): fit range of variable myy expanded to nearest bin boundaries: [105000,160000] --> [105000,160000]\n",
      "[#1] INFO:DataHandling -- RooDataHist::adjustBinning(d_MUONS_SCALE__1up_2): fit range of variable myy expanded to nearest bin boundaries: [105000,160000] --> [105000,160000]\n",
      "[#1] INFO:DataHandling -- RooDataHist::adjustBinning(d_MUON_EFF_STAT_LOWPT__1down_0): fit range of variable myy expanded to nearest bin boundaries: [105000,160000] --> [105000,160000]\n",
      "[#1] INFO:DataHandling -- RooDataHist::adjustBinning(d_MUON_EFF_STAT_LOWPT__1down_1): fit range of variable myy expanded to nearest bin boundaries: [105000,160000] --> [105000,160000]\n",
      "[#1] INFO:DataHandling -- RooDataHist::adjustBinning(d_MUON_EFF_STAT_LOWPT__1down_2): fit range of variable myy expanded to nearest bin boundaries: [105000,160000] --> [105000,160000]\n",
      "[#1] INFO:DataHandling -- RooDataHist::adjustBinning(d_MUON_EFF_STAT_LOWPT__1up_0): fit range of variable myy expanded to nearest bin boundaries: [105000,160000] --> [105000,160000]\n",
      "[#1] INFO:DataHandling -- RooDataHist::adjustBinning(d_MUON_EFF_STAT_LOWPT__1up_1): fit range of variable myy expanded to nearest bin boundaries: [105000,160000] --> [105000,160000]\n",
      "[#1] INFO:DataHandling -- RooDataHist::adjustBinning(d_MUON_EFF_STAT_LOWPT__1up_2): fit range of variable myy expanded to nearest bin boundaries: [105000,160000] --> [105000,160000]\n",
      "[#1] INFO:DataHandling -- RooDataHist::adjustBinning(d_MUON_EFF_STAT__1down_0): fit range of variable myy expanded to nearest bin boundaries: [105000,160000] --> [105000,160000]\n",
      "[#1] INFO:DataHandling -- RooDataHist::adjustBinning(d_MUON_EFF_STAT__1down_1): fit range of variable myy expanded to nearest bin boundaries: [105000,160000] --> [105000,160000]\n",
      "[#1] INFO:DataHandling -- RooDataHist::adjustBinning(d_MUON_EFF_STAT__1down_2): fit range of variable myy expanded to nearest bin boundaries: [105000,160000] --> [105000,160000]\n",
      "[#1] INFO:DataHandling -- RooDataHist::adjustBinning(d_MUON_EFF_STAT__1up_0): fit range of variable myy expanded to nearest bin boundaries: [105000,160000] --> [105000,160000]\n",
      "[#1] INFO:DataHandling -- RooDataHist::adjustBinning(d_MUON_EFF_STAT__1up_1): fit range of variable myy expanded to nearest bin boundaries: [105000,160000] --> [105000,160000]\n",
      "[#1] INFO:DataHandling -- RooDataHist::adjustBinning(d_MUON_EFF_STAT__1up_2): fit range of variable myy expanded to nearest bin boundaries: [105000,160000] --> [105000,160000]\n",
      "[#1] INFO:DataHandling -- RooDataHist::adjustBinning(d_MUON_EFF_SYS_LOWPT__1down_0): fit range of variable myy expanded to nearest bin boundaries: [105000,160000] --> [105000,160000]\n",
      "[#1] INFO:DataHandling -- RooDataHist::adjustBinning(d_MUON_EFF_SYS_LOWPT__1down_1): fit range of variable myy expanded to nearest bin boundaries: [105000,160000] --> [105000,160000]\n",
      "[#1] INFO:DataHandling -- RooDataHist::adjustBinning(d_MUON_EFF_SYS_LOWPT__1down_2): fit range of variable myy expanded to nearest bin boundaries: [105000,160000] --> [105000,160000]\n",
      "[#1] INFO:DataHandling -- RooDataHist::adjustBinning(d_MUON_EFF_SYS_LOWPT__1up_0): fit range of variable myy expanded to nearest bin boundaries: [105000,160000] --> [105000,160000]\n",
      "[#1] INFO:DataHandling -- RooDataHist::adjustBinning(d_MUON_EFF_SYS_LOWPT__1up_1): fit range of variable myy expanded to nearest bin boundaries: [105000,160000] --> [105000,160000]\n",
      "[#1] INFO:DataHandling -- RooDataHist::adjustBinning(d_MUON_EFF_SYS_LOWPT__1up_2): fit range of variable myy expanded to nearest bin boundaries: [105000,160000] --> [105000,160000]\n",
      "[#1] INFO:DataHandling -- RooDataHist::adjustBinning(d_MUON_EFF_SYS__1down_0): fit range of variable myy expanded to nearest bin boundaries: [105000,160000] --> [105000,160000]\n",
      "[#1] INFO:DataHandling -- RooDataHist::adjustBinning(d_MUON_EFF_SYS__1down_1): fit range of variable myy expanded to nearest bin boundaries: [105000,160000] --> [105000,160000]\n",
      "[#1] INFO:DataHandling -- RooDataHist::adjustBinning(d_MUON_EFF_SYS__1down_2): fit range of variable myy expanded to nearest bin boundaries: [105000,160000] --> [105000,160000]\n",
      "[#1] INFO:DataHandling -- RooDataHist::adjustBinning(d_MUON_EFF_SYS__1up_0): fit range of variable myy expanded to nearest bin boundaries: [105000,160000] --> [105000,160000]\n",
      "[#1] INFO:DataHandling -- RooDataHist::adjustBinning(d_MUON_EFF_SYS__1up_1): fit range of variable myy expanded to nearest bin boundaries: [105000,160000] --> [105000,160000]\n",
      "[#1] INFO:DataHandling -- RooDataHist::adjustBinning(d_MUON_EFF_SYS__1up_2): fit range of variable myy expanded to nearest bin boundaries: [105000,160000] --> [105000,160000]\n",
      "[#1] INFO:DataHandling -- RooDataHist::adjustBinning(d_MUON_ISO_STAT__1down_0): fit range of variable myy expanded to nearest bin boundaries: [105000,160000] --> [105000,160000]\n",
      "[#1] INFO:DataHandling -- RooDataHist::adjustBinning(d_MUON_ISO_STAT__1down_1): fit range of variable myy expanded to nearest bin boundaries: [105000,160000] --> [105000,160000]\n",
      "[#1] INFO:DataHandling -- RooDataHist::adjustBinning(d_MUON_ISO_STAT__1down_2): fit range of variable myy expanded to nearest bin boundaries: [105000,160000] --> [105000,160000]\n",
      "[#1] INFO:DataHandling -- RooDataHist::adjustBinning(d_MUON_ISO_STAT__1up_0): fit range of variable myy expanded to nearest bin boundaries: [105000,160000] --> [105000,160000]\n",
      "[#1] INFO:DataHandling -- RooDataHist::adjustBinning(d_MUON_ISO_STAT__1up_1): fit range of variable myy expanded to nearest bin boundaries: [105000,160000] --> [105000,160000]\n",
      "[#1] INFO:DataHandling -- RooDataHist::adjustBinning(d_MUON_ISO_STAT__1up_2): fit range of variable myy expanded to nearest bin boundaries: [105000,160000] --> [105000,160000]\n",
      "[#1] INFO:DataHandling -- RooDataHist::adjustBinning(d_MUON_ISO_SYS__1down_0): fit range of variable myy expanded to nearest bin boundaries: [105000,160000] --> [105000,160000]\n",
      "[#1] INFO:DataHandling -- RooDataHist::adjustBinning(d_MUON_ISO_SYS__1down_1): fit range of variable myy expanded to nearest bin boundaries: [105000,160000] --> [105000,160000]\n",
      "[#1] INFO:DataHandling -- RooDataHist::adjustBinning(d_MUON_ISO_SYS__1down_2): fit range of variable myy expanded to nearest bin boundaries: [105000,160000] --> [105000,160000]\n",
      "[#1] INFO:DataHandling -- RooDataHist::adjustBinning(d_MUON_ISO_SYS__1up_0): fit range of variable myy expanded to nearest bin boundaries: [105000,160000] --> [105000,160000]\n",
      "[#1] INFO:DataHandling -- RooDataHist::adjustBinning(d_MUON_ISO_SYS__1up_1): fit range of variable myy expanded to nearest bin boundaries: [105000,160000] --> [105000,160000]\n",
      "[#1] INFO:DataHandling -- RooDataHist::adjustBinning(d_MUON_ISO_SYS__1up_2): fit range of variable myy expanded to nearest bin boundaries: [105000,160000] --> [105000,160000]\n",
      "[#1] INFO:DataHandling -- RooDataHist::adjustBinning(d_MUON_TTVA_STAT__1down_0): fit range of variable myy expanded to nearest bin boundaries: [105000,160000] --> [105000,160000]\n",
      "[#1] INFO:DataHandling -- RooDataHist::adjustBinning(d_MUON_TTVA_STAT__1down_1): fit range of variable myy expanded to nearest bin boundaries: [105000,160000] --> [105000,160000]\n",
      "[#1] INFO:DataHandling -- RooDataHist::adjustBinning(d_MUON_TTVA_STAT__1down_2): fit range of variable myy expanded to nearest bin boundaries: [105000,160000] --> [105000,160000]\n",
      "[#1] INFO:DataHandling -- RooDataHist::adjustBinning(d_MUON_TTVA_STAT__1up_0): fit range of variable myy expanded to nearest bin boundaries: [105000,160000] --> [105000,160000]\n",
      "[#1] INFO:DataHandling -- RooDataHist::adjustBinning(d_MUON_TTVA_STAT__1up_1): fit range of variable myy expanded to nearest bin boundaries: [105000,160000] --> [105000,160000]\n",
      "[#1] INFO:DataHandling -- RooDataHist::adjustBinning(d_MUON_TTVA_STAT__1up_2): fit range of variable myy expanded to nearest bin boundaries: [105000,160000] --> [105000,160000]\n",
      "[#1] INFO:DataHandling -- RooDataHist::adjustBinning(d_MUON_TTVA_SYS__1down_0): fit range of variable myy expanded to nearest bin boundaries: [105000,160000] --> [105000,160000]\n",
      "[#1] INFO:DataHandling -- RooDataHist::adjustBinning(d_MUON_TTVA_SYS__1down_1): fit range of variable myy expanded to nearest bin boundaries: [105000,160000] --> [105000,160000]\n",
      "[#1] INFO:DataHandling -- RooDataHist::adjustBinning(d_MUON_TTVA_SYS__1down_2): fit range of variable myy expanded to nearest bin boundaries: [105000,160000] --> [105000,160000]\n",
      "[#1] INFO:DataHandling -- RooDataHist::adjustBinning(d_MUON_TTVA_SYS__1up_0): fit range of variable myy expanded to nearest bin boundaries: [105000,160000] --> [105000,160000]\n",
      "[#1] INFO:DataHandling -- RooDataHist::adjustBinning(d_MUON_TTVA_SYS__1up_1): fit range of variable myy expanded to nearest bin boundaries: [105000,160000] --> [105000,160000]\n",
      "[#1] INFO:DataHandling -- RooDataHist::adjustBinning(d_MUON_TTVA_SYS__1up_2): fit range of variable myy expanded to nearest bin boundaries: [105000,160000] --> [105000,160000]\n",
      "[#1] INFO:DataHandling -- RooDataHist::adjustBinning(d_PH_EFF_ID_Uncertainty__1down_0): fit range of variable myy expanded to nearest bin boundaries: [105000,160000] --> [105000,160000]\n",
      "[#1] INFO:DataHandling -- RooDataHist::adjustBinning(d_PH_EFF_ID_Uncertainty__1down_1): fit range of variable myy expanded to nearest bin boundaries: [105000,160000] --> [105000,160000]\n",
      "[#1] INFO:DataHandling -- RooDataHist::adjustBinning(d_PH_EFF_ID_Uncertainty__1down_2): fit range of variable myy expanded to nearest bin boundaries: [105000,160000] --> [105000,160000]\n",
      "[#1] INFO:DataHandling -- RooDataHist::adjustBinning(d_PH_EFF_ID_Uncertainty__1up_0): fit range of variable myy expanded to nearest bin boundaries: [105000,160000] --> [105000,160000]\n",
      "[#1] INFO:DataHandling -- RooDataHist::adjustBinning(d_PH_EFF_ID_Uncertainty__1up_1): fit range of variable myy expanded to nearest bin boundaries: [105000,160000] --> [105000,160000]\n",
      "[#1] INFO:DataHandling -- RooDataHist::adjustBinning(d_PH_EFF_ID_Uncertainty__1up_2): fit range of variable myy expanded to nearest bin boundaries: [105000,160000] --> [105000,160000]\n",
      "[#1] INFO:DataHandling -- RooDataHist::adjustBinning(d_PH_EFF_TRKISO_Uncertainty__1down_0): fit range of variable myy expanded to nearest bin boundaries: [105000,160000] --> [105000,160000]\n",
      "[#1] INFO:DataHandling -- RooDataHist::adjustBinning(d_PH_EFF_TRKISO_Uncertainty__1down_1): fit range of variable myy expanded to nearest bin boundaries: [105000,160000] --> [105000,160000]\n",
      "[#1] INFO:DataHandling -- RooDataHist::adjustBinning(d_PH_EFF_TRKISO_Uncertainty__1down_2): fit range of variable myy expanded to nearest bin boundaries: [105000,160000] --> [105000,160000]\n",
      "[#1] INFO:DataHandling -- RooDataHist::adjustBinning(d_PH_EFF_TRKISO_Uncertainty__1up_0): fit range of variable myy expanded to nearest bin boundaries: [105000,160000] --> [105000,160000]\n",
      "[#1] INFO:DataHandling -- RooDataHist::adjustBinning(d_PH_EFF_TRKISO_Uncertainty__1up_1): fit range of variable myy expanded to nearest bin boundaries: [105000,160000] --> [105000,160000]\n",
      "[#1] INFO:DataHandling -- RooDataHist::adjustBinning(d_PH_EFF_TRKISO_Uncertainty__1up_2): fit range of variable myy expanded to nearest bin boundaries: [105000,160000] --> [105000,160000]\n",
      "[#1] INFO:DataHandling -- RooDataHist::adjustBinning(d_PH_Iso_DDonoff_0): fit range of variable myy expanded to nearest bin boundaries: [105000,160000] --> [105000,160000]\n",
      "[#1] INFO:DataHandling -- RooDataHist::adjustBinning(d_PH_Iso_DDonoff_1): fit range of variable myy expanded to nearest bin boundaries: [105000,160000] --> [105000,160000]\n",
      "[#1] INFO:DataHandling -- RooDataHist::adjustBinning(d_PH_Iso_DDonoff_2): fit range of variable myy expanded to nearest bin boundaries: [105000,160000] --> [105000,160000]\n",
      "[#1] INFO:DataHandling -- RooDataHist::adjustBinning(d_PRW_DATASF__1down_0): fit range of variable myy expanded to nearest bin boundaries: [105000,160000] --> [105000,160000]\n",
      "[#1] INFO:DataHandling -- RooDataHist::adjustBinning(d_PRW_DATASF__1down_1): fit range of variable myy expanded to nearest bin boundaries: [105000,160000] --> [105000,160000]\n",
      "[#1] INFO:DataHandling -- RooDataHist::adjustBinning(d_PRW_DATASF__1down_2): fit range of variable myy expanded to nearest bin boundaries: [105000,160000] --> [105000,160000]\n",
      "[#1] INFO:DataHandling -- RooDataHist::adjustBinning(d_PRW_DATASF__1up_0): fit range of variable myy expanded to nearest bin boundaries: [105000,160000] --> [105000,160000]\n",
      "[#1] INFO:DataHandling -- RooDataHist::adjustBinning(d_PRW_DATASF__1up_1): fit range of variable myy expanded to nearest bin boundaries: [105000,160000] --> [105000,160000]\n",
      "[#1] INFO:DataHandling -- RooDataHist::adjustBinning(d_PRW_DATASF__1up_2): fit range of variable myy expanded to nearest bin boundaries: [105000,160000] --> [105000,160000]\n"
     ]
    }
   ],
   "source": [
    "f = r.TFile(\"histos_SM.root\")\n",
    "keys = [k.GetName() for k in f.GetListOfKeys()]\n",
    "histos_all = [{},{},{}]\n",
    "datasets_all = [{},{},{}]\n",
    "for k0 in keys:\n",
    "    if not k0.startswith('h_'): continue\n",
    "    k = k0[len('h_'):]\n",
    "    cat = int(k.split('_')[-1])\n",
    "    v = '_'.join(k.split('_')[:-1])\n",
    "    h = f.Get(k0)\n",
    "    histos_all[cat][v] = h\n",
    "    \n",
    "    ds = r.RooDataHist('d_'+k,'d_'+k,r.RooArgList(myy),h)\n",
    "    datasets_all[cat][v] = ds"
   ]
  },
  {
   "cell_type": "code",
   "execution_count": 24,
   "metadata": {
    "collapsed": true
   },
   "outputs": [],
   "source": [
    "m0 = r.RooRealVar(\"m0\",\"m0\",120e3,130e3)\n",
    "sigma0 = r.RooRealVar(\"sigma0\",\"sigma0\",0,5e3)\n",
    "alphaHi = r.RooRealVar(\"alphaHi\",\"alphaHi\",1.886)#0,20)\n",
    "nHi = r.RooRealVar(\"nHi\",\"nHi\",2.42)#0,20)\n",
    "alphaLo = r.RooRealVar(\"alphaLo\",\"alphaLo\",1.591)#0,20)\n",
    "nLo = r.RooRealVar(\"nLo\",\"nLo\",4.23)#0,20)\n",
    "\n",
    "dcb = r.RooDCB(\"dcb\",\"dcb\",myy,m0,sigma0,alphaHi,nHi,alphaLo,nLo)"
   ]
  },
  {
   "cell_type": "code",
   "execution_count": 25,
   "metadata": {
    "collapsed": false
   },
   "outputs": [],
   "source": [
    "r.RooMsgService.instance().setGlobalKillBelow(r.RooFit.FATAL)"
   ]
  },
  {
   "cell_type": "code",
   "execution_count": 26,
   "metadata": {
    "collapsed": false,
    "scrolled": true
   },
   "outputs": [
    {
     "name": "stdout",
     "output_type": "stream",
     "text": [
      " **********\n",
      " **    1 **SET PRINT           1\n",
      " **********\n",
      " **********\n",
      " **    2 **SET NOGRAD\n",
      " **********\n",
      " PARAMETER DEFINITIONS:\n",
      "    NO.   NAME         VALUE      STEP SIZE      LIMITS\n",
      "     1 m0           1.25000e+05  1.00000e+03    1.20000e+05  1.30000e+05\n",
      "     2 sigma0       2.50000e+03  5.00000e+02    0.00000e+00  5.00000e+03\n",
      " **********\n",
      " **    3 **SET ERR         0.5\n",
      " **********\n",
      " **********\n",
      " **    4 **SET PRINT           1\n",
      " **********\n",
      " **********\n",
      " **    5 **SET STR           1\n",
      " **********\n",
      " NOW USING STRATEGY  1: TRY TO BALANCE SPEED AGAINST RELIABILITY\n",
      " **********\n",
      " **    6 **MIGRAD        1000           1\n",
      " **********\n",
      " FIRST CALL TO USER FUNCTION AT NEW START POINT, WITH IFLAG=4.\n",
      " START MIGRAD MINIMIZATION.  STRATEGY  1.  CONVERGENCE WHEN EDM .LT. 1.00e-03\n",
      " FCN=1114.22 FROM MIGRAD    STATUS=INITIATE        8 CALLS           9 TOTAL\n",
      "                     EDM= unknown      STRATEGY= 1      NO ERROR MATRIX       \n",
      "  EXT PARAMETER               CURRENT GUESS       STEP         FIRST   \n",
      "  NO.   NAME      VALUE            ERROR          SIZE      DERIVATIVE \n",
      "   1  m0           1.25000e+05   1.00000e+03   2.01358e-01   5.87854e+00\n",
      "   2  sigma0       2.50000e+03   5.00000e+02   2.01358e-01   6.15784e+01\n",
      "                               ERR DEF= 0.5\n",
      " MIGRAD MINIMIZATION HAS CONVERGED.\n",
      " MIGRAD WILL VERIFY CONVERGENCE AND ERROR MATRIX.\n",
      " COVARIANCE MATRIX CALCULATED SUCCESSFULLY\n",
      " FCN=1096.14 FROM MIGRAD    STATUS=CONVERGED      58 CALLS          59 TOTAL\n",
      "                     EDM=2.17858e-06    STRATEGY= 1      ERROR MATRIX ACCURATE \n",
      "  EXT PARAMETER                                   STEP         FIRST   \n",
      "  NO.   NAME      VALUE            ERROR          SIZE      DERIVATIVE \n",
      "   1  m0           1.24957e+05   1.45270e+02   6.68901e-04  -1.05967e-02\n",
      "   2  sigma0       1.45743e+03   1.04864e+02   1.19639e-03   3.15467e-02\n",
      "                               ERR DEF= 0.5\n",
      " EXTERNAL ERROR MATRIX.    NDIM=  25    NPAR=  2    ERR DEF=0.5\n",
      "  2.111e+04  6.343e+02 \n",
      "  6.343e+02  1.100e+04 \n",
      " PARAMETER  CORRELATION COEFFICIENTS  \n",
      "       NO.  GLOBAL      1      2\n",
      "        1  0.04162   1.000  0.042\n",
      "        2  0.04162   0.042  1.000\n",
      " **********\n",
      " **    7 **SET ERR         0.5\n",
      " **********\n",
      " **********\n",
      " **    8 **SET PRINT           1\n",
      " **********\n",
      " **********\n",
      " **    9 **HESSE        1000\n",
      " **********\n",
      " COVARIANCE MATRIX CALCULATED SUCCESSFULLY\n",
      " FCN=1096.14 FROM HESSE     STATUS=OK             14 CALLS          73 TOTAL\n",
      "                     EDM=6.85995e-06    STRATEGY= 1      ERROR MATRIX ACCURATE \n",
      "  EXT PARAMETER                                INTERNAL      INTERNAL  \n",
      "  NO.   NAME      VALUE            ERROR       STEP SIZE       VALUE   \n",
      "   1  m0           1.24957e+05   1.45308e+02   1.33780e-04  -8.66401e-03\n",
      "   2  sigma0       1.45743e+03   1.16696e+02   4.88126e-03  -2.71142e+00\n",
      "                               ERR DEF= 0.5\n",
      " EXTERNAL ERROR MATRIX.    NDIM=  25    NPAR=  2    ERR DEF=0.5\n",
      "  2.112e+04  8.070e+02 \n",
      "  8.070e+02  1.363e+04 \n",
      " PARAMETER  CORRELATION COEFFICIENTS  \n",
      "       NO.  GLOBAL      1      2\n",
      "        1  0.04756   1.000  0.048\n",
      "        2  0.04756   0.048  1.000\n"
     ]
    }
   ],
   "source": [
    "ds = datasets_all[2]['nominal']\n",
    "fit_result = dcb.fitTo(ds,r.RooFit.Verbose(False),r.RooFit.Extended(True),r.RooFit.Save())"
   ]
  },
  {
   "cell_type": "code",
   "execution_count": 27,
   "metadata": {
    "collapsed": false
   },
   "outputs": [
    {
     "name": "stdout",
     "output_type": "stream",
     "text": [
      "\n",
      "  RooFitResult: minimized FCN value: 1096.14, estimated distance to minimum: 6.85995e-06\n",
      "                covariance matrix quality: Full, accurate covariance matrix\n",
      "                Status : MINIMIZE=0 HESSE=0 \n",
      "\n",
      "    Floating Parameter    FinalValue +/-  Error   \n",
      "  --------------------  --------------------------\n",
      "                    m0    1.2496e+05 +/-  1.45e+02\n",
      "                sigma0    1.4574e+03 +/-  1.17e+02\n",
      "\n"
     ]
    }
   ],
   "source": [
    "fit_result.Print()"
   ]
  },
  {
   "cell_type": "code",
   "execution_count": 28,
   "metadata": {
    "collapsed": false
   },
   "outputs": [
    {
     "data": {
      "text/plain": [
       "0"
      ]
     },
     "execution_count": 28,
     "metadata": {},
     "output_type": "execute_result"
    }
   ],
   "source": [
    "fit_result.status()"
   ]
  },
  {
   "cell_type": "code",
   "execution_count": 15,
   "metadata": {
    "collapsed": false
   },
   "outputs": [
    {
     "data": {
      "text/plain": [
       "0"
      ]
     },
     "execution_count": 15,
     "metadata": {},
     "output_type": "execute_result"
    }
   ],
   "source": [
    "r.TVirtualFitter.GetMaxIterations()"
   ]
  },
  {
   "cell_type": "code",
   "execution_count": 11,
   "metadata": {
    "collapsed": false
   },
   "outputs": [
    {
     "name": "stderr",
     "output_type": "stream",
     "text": [
      "Info in <TCanvas::MakeDefCanvas>:  created default TCanvas with name c1\n"
     ]
    },
    {
     "data": {
      "image/png": "[encoded data removed]",
      "text/plain": [
       "<IPython.core.display.Image object>"
      ]
     },
     "metadata": {},
     "output_type": "display_data"
    }
   ],
   "source": [
    "frame = myy.frame()\n",
    "ds.plotOn(frame)\n",
    "dcb.plotOn(frame)\n",
    "frame.SetMinimum(1e-3)\n",
    "frame.Draw()\n",
    "logy(True)\n",
    "draw()"
   ]
  },
  {
   "cell_type": "code",
   "execution_count": 12,
   "metadata": {
    "collapsed": false
   },
   "outputs": [
    {
     "name": "stdout",
     "output_type": "stream",
     "text": [
      "113 variations: 54 up / 54 down / 5 other\n"
     ]
    }
   ],
   "source": [
    "histos = histos_all[CAT]\n",
    "all_variations = sorted(histos.keys())\n",
    "up_variations = [v for v in all_variations if v.lower().endswith('up') and not 'JER' in v]\n",
    "down_variations = [v for v in all_variations if v.lower().endswith('down')]\n",
    "other_variations = list(set(all_variations).difference(up_variations+down_variations))\n",
    "\n",
    "print(\"{} variations: {} up / {} down / {} other\".format(len(all_variations), len(up_variations), len(down_variations), len(other_variations)))"
   ]
  },
  {
   "cell_type": "code",
   "execution_count": 13,
   "metadata": {
    "collapsed": false
   },
   "outputs": [
    {
     "name": "stdout",
     "output_type": "stream",
     "text": [
      " **********\n",
      " **   10 **SET PRINT           1\n",
      " **********\n",
      " **********\n",
      " **   11 **SET NOGRAD\n",
      " **********\n",
      " PARAMETER DEFINITIONS:\n",
      "    NO.   NAME         VALUE      STEP SIZE      LIMITS\n",
      "     1 alphaHi      1.88631e+00  4.19432e-01    0.00000e+00  2.00000e+01\n",
      "     2 alphaLo      1.59047e+00  4.52151e-01    0.00000e+00  2.00000e+01\n",
      "     3 m0           1.24956e+05  1.51450e+02    1.20000e+05  1.30000e+05\n",
      "     4 nHi          2.41841e+00  1.53160e+00    0.00000e+00  2.00000e+01\n",
      "     5 nLo          4.24425e+00  3.87635e+00    0.00000e+00  2.00000e+01\n",
      "     6 sigma0       1.45734e+03  1.33456e+02    0.00000e+00  5.00000e+03\n",
      " **********\n",
      " **   12 **SET ERR         0.5\n",
      " **********\n",
      " **********\n",
      " **   13 **SET PRINT           1\n",
      " **********\n",
      " **********\n",
      " **   14 **SET STR           1\n",
      " **********\n",
      " NOW USING STRATEGY  1: TRY TO BALANCE SPEED AGAINST RELIABILITY\n",
      " **********\n",
      " **   15 **MIGRAD        3000           1\n",
      " **********\n",
      " FIRST CALL TO USER FUNCTION AT NEW START POINT, WITH IFLAG=4.\n",
      " START MIGRAD MINIMIZATION.  STRATEGY  1.  CONVERGENCE WHEN EDM .LT. 1.00e-03\n",
      " FCN=1096.14 FROM MIGRAD    STATUS=INITIATE       20 CALLS          21 TOTAL\n",
      "                     EDM= unknown      STRATEGY= 1      NO ERROR MATRIX       \n",
      "  EXT PARAMETER               CURRENT GUESS       STEP         FIRST   \n",
      "  NO.   NAME      VALUE            ERROR          SIZE      DERIVATIVE \n",
      "   1  alphaHi      1.88631e+00   4.19432e-01   7.21818e-02   5.41263e-02\n",
      "   2  alphaLo      1.59047e+00   4.52151e-01   8.43921e-02   6.21296e-02\n",
      "   3  m0           1.24956e+05   1.51450e+02   3.02958e-02  -1.30184e-01\n",
      "   4  nHi          2.41841e+00   1.53160e+00   2.48357e-01  -4.92958e-03\n",
      "   5  nLo          4.24425e+00   3.87635e+00   5.54819e-01   1.06957e-02\n",
      "   6  sigma0       1.45734e+03   1.33456e+02   5.87897e-02  -2.10537e-02\n",
      "                               ERR DEF= 0.5\n",
      " MIGRAD MINIMIZATION HAS CONVERGED.\n",
      " MIGRAD WILL VERIFY CONVERGENCE AND ERROR MATRIX.\n",
      " EIGENVALUES OF SECOND-DERIVATIVE MATRIX:\n",
      "        -1.3049e-02  4.2187e-01  6.4397e-01  9.5500e-01  1.9148e+00  2.0774e+00\n",
      " MINUIT WARNING IN HESSE   \n",
      " ============== MATRIX FORCED POS-DEF BY ADDING 0.015127 TO DIAGONAL.\n",
      " FCN=1096.14 FROM HESSE     STATUS=NOT POSDEF     50 CALLS          85 TOTAL\n",
      "                     EDM=0.00157327    STRATEGY= 1      ERR MATRIX NOT POS-DEF\n",
      "  EXT PARAMETER                APPROXIMATE        STEP         FIRST   \n",
      "  NO.   NAME      VALUE            ERROR          SIZE      DERIVATIVE \n",
      "   1  alphaHi      1.88606e+00   2.37105e+00   8.20317e-04  -4.61702e-02\n",
      "   2  alphaLo      1.59015e+00   2.61564e+00   9.00568e-04  -6.02596e-02\n",
      "   3  m0           1.24956e+05   2.64596e+02   6.63895e-04  -6.57636e-02\n",
      "   4  nHi          2.41876e+00   4.85976e+00   3.08180e-03  -8.92487e-03\n",
      "   5  nLo          4.24005e+00   1.05889e+01   6.45270e-03   1.54609e-03\n",
      "   6  sigma0       1.45740e+03   9.52394e+02   1.07737e-03  -3.25964e-02\n",
      "                               ERR DEF= 0.5\n",
      " MIGRAD MINIMIZATION HAS CONVERGED.\n",
      " MIGRAD WILL VERIFY CONVERGENCE AND ERROR MATRIX.\n",
      " EIGENVALUES OF SECOND-DERIVATIVE MATRIX:\n",
      "        -2.9980e-02  4.2970e-01  6.5007e-01  9.5281e-01  1.9199e+00  2.0775e+00\n",
      " MINUIT WARNING IN HESSE   \n",
      " ============== MATRIX FORCED POS-DEF BY ADDING 0.032057 TO DIAGONAL.\n",
      " MIGRAD TERMINATED WITHOUT CONVERGENCE.\n",
      " FCN=1096.14 FROM MIGRAD    STATUS=FAILED        206 CALLS         207 TOTAL\n",
      "                     EDM=0.0159956    STRATEGY= 1      ERR MATRIX NOT POS-DEF\n",
      "  EXT PARAMETER                APPROXIMATE        STEP         FIRST   \n",
      "  NO.   NAME      VALUE            ERROR          SIZE      DERIVATIVE \n",
      "   1  alphaHi      1.88687e+00   2.38423e+00   7.93468e-04  -1.99031e-02\n",
      "   2  alphaLo      1.59127e+00   2.58222e+00   8.68432e-04  -3.50247e-02\n",
      "   3  m0           1.24957e+05   2.39364e+02   6.63977e-04  -1.01592e-02\n",
      "   4  nHi          2.41701e+00   4.80147e+00   3.08054e-03  -8.14690e-03\n",
      "   5  nLo          4.23198e+00   1.08248e+01   6.42917e-03   7.28296e-04\n",
      "   6  sigma0       1.45765e+03   9.62888e+02   1.00950e-03   3.34294e-01\n",
      "                               ERR DEF= 0.5\n",
      " EXTERNAL ERROR MATRIX.    NDIM=  25    NPAR=  6    ERR DEF=0.5\n",
      "  6.031e+00  6.560e+00 -4.633e+02 -1.307e+01 -3.304e+01  2.423e+03 \n",
      "  6.560e+00  7.246e+00 -5.134e+02 -1.418e+01 -3.662e+01  2.657e+03 \n",
      " -4.633e+02 -5.134e+02  5.734e+04  1.009e+03  2.549e+03 -1.889e+05 \n",
      " -1.307e+01 -1.418e+01  1.009e+03  2.913e+01  7.152e+01 -5.227e+03 \n",
      " -3.304e+01 -3.662e+01  2.549e+03  7.152e+01  1.908e+02 -1.334e+04 \n",
      "  2.423e+03  2.657e+03 -1.889e+05 -5.227e+03 -1.334e+04  9.887e+05 \n",
      "ERR MATRIX NOT POS-DEF\n",
      " PARAMETER  CORRELATION COEFFICIENTS  \n",
      "       NO.  GLOBAL      1      2      3      4      5      6\n",
      "        1  0.99664   1.000  0.992 -0.788 -0.986 -0.974  0.992\n",
      "        2  0.99713   0.992  1.000 -0.796 -0.976 -0.985  0.993\n",
      "        3  0.80243  -0.788 -0.796  1.000  0.781  0.771 -0.793\n",
      "        4  0.98709  -0.986 -0.976  0.781  1.000  0.959 -0.974\n",
      "        5  0.98654  -0.974 -0.985  0.771  0.959  1.000 -0.971\n",
      "        6  0.99499   0.992  0.993 -0.793 -0.974 -0.971  1.000\n",
      " ERR MATRIX NOT POS-DEF\n",
      " **********\n",
      " **   16 **SET ERR         0.5\n",
      " **********\n",
      " **********\n",
      " **   17 **SET PRINT           1\n",
      " **********\n",
      " **********\n",
      " **   18 **HESSE        3000\n",
      " **********\n",
      " COVARIANCE MATRIX CALCULATED SUCCESSFULLY\n",
      " FCN=1096.14 FROM HESSE     STATUS=OK             54 CALLS         261 TOTAL\n",
      "                     EDM=0.000120487    STRATEGY= 1      ERROR MATRIX ACCURATE \n",
      "  EXT PARAMETER                                INTERNAL      INTERNAL  \n",
      "  NO.   NAME      VALUE            ERROR       STEP SIZE       VALUE   \n",
      "   1  alphaHi      1.88687e+00   3.97792e-01   3.23735e-03  -9.46395e-01\n",
      "   2  alphaLo      1.59127e+00   4.41686e-01   3.54320e-03  -9.98894e-01\n",
      "   3  m0           1.24957e+05   1.50833e+02   1.32795e-04  -8.67282e-03\n",
      "   4  nHi          2.41701e+00   1.42099e+00   1.23222e-04  -8.60701e-01\n",
      "   5  nLo          4.23198e+00   3.79712e+00   2.57167e-04  -6.14809e-01\n",
      "   6  sigma0       1.45765e+03   1.40609e+02   3.80790e-02  -4.30076e-01\n",
      "                               ERR DEF= 0.5\n",
      " EXTERNAL ERROR MATRIX.    NDIM=  25    NPAR=  6    ERR DEF=0.5\n",
      "  1.585e-01  2.309e-02  3.322e+00 -4.419e-01 -9.980e-02  1.183e+01 \n",
      "  2.309e-02  1.955e-01 -1.358e+01 -3.186e-02 -1.370e+00  2.070e+01 \n",
      "  3.322e+00 -1.358e+01  2.276e+04 -3.516e+00  4.573e+01 -2.379e+03 \n",
      " -4.419e-01 -3.186e-02 -3.516e+00  2.052e+00  2.225e-01 -4.312e+00 \n",
      " -9.980e-02 -1.370e+00  4.573e+01  2.225e-01  1.560e+01 -3.946e+01 \n",
      "  1.183e+01  2.070e+01 -2.379e+03 -4.312e+00 -3.946e+01  1.980e+04 \n",
      " PARAMETER  CORRELATION COEFFICIENTS  \n",
      "       NO.  GLOBAL      1      2      3      4      5      6\n",
      "        1  0.80285   1.000  0.131  0.055 -0.775 -0.063  0.211\n",
      "        2  0.84107   0.131  1.000 -0.204 -0.050 -0.785  0.333\n",
      "        3  0.27203   0.055 -0.204  1.000 -0.016  0.077 -0.112\n",
      "        4  0.78997  -0.775 -0.050 -0.016  1.000  0.039 -0.021\n",
      "        5  0.81377  -0.063 -0.785  0.077  0.039  1.000 -0.071\n",
      "        6  0.50951   0.211  0.333 -0.112 -0.021 -0.071  1.000\n"
     ]
    }
   ],
   "source": [
    "ds_nom = datasets_all[CAT]['nominal']\n",
    "dcb.fitTo(ds_nom)\n",
    "m0_nom = m0.getVal()\n",
    "sigma0_nom = sigma0.getVal()\n",
    "integral_nom = histos_all[CAT]['nominal'].Integral()"
   ]
  },
  {
   "cell_type": "code",
   "execution_count": 14,
   "metadata": {
    "collapsed": false
   },
   "outputs": [],
   "source": [
    "fit_params = []\n",
    "fits_up = []\n",
    "hists_up = []\n",
    "fits_down = []\n",
    "hists_down = []\n",
    "up_bases = []\n",
    "down_bases = []\n",
    "for v in sorted(datasets_all[CAT].keys()):\n",
    "    break\n",
    "    if v == 'nominal': continue\n",
    "    \n",
    "    ds = datasets_all[CAT][v]\n",
    "    #h.Fit(f_dg, 'Q', '', FIT_LOW, FIT_HIGH)\n",
    "    dcb.fitTo(ds)\n",
    "    \n",
    "    integral = histos_all[CAT][v].Integral()\n",
    "    \n",
    "    sign = 0\n",
    "    if v in up_variations:\n",
    "        sign = 1\n",
    "    if v in down_variations:\n",
    "        sign = -1\n",
    "        \n",
    "    #result = (m0,c1,sigma1,c2,sigma2,sign,v)\n",
    "    #result = (m0.getVal(),c1,sigma1,c2,sigma2,integral,sign,v)\n",
    "    result = (m0.getVal(),sigma0.getVal(),integral,sign,v)\n",
    "    fit_params.append(result)\n",
    "    \n",
    "    if v == 'nominal':\n",
    "        nominal_fit = np.array(result)\n",
    "        continue\n",
    "    \n",
    "    if v in up_variations:\n",
    "        fits_up.append(result)\n",
    "        hists_up.append(h)\n",
    "        up_bases.append(v.split('__')[0])\n",
    "    if v in down_variations:\n",
    "        fits_down.append(result)\n",
    "        hists_down.append(h)\n",
    "        down_bases.append(v.split('__')[0])\n",
    "\n",
    "cols = ['m0','sigma0','integral','sign','variation']\n",
    "fit_params = pd.DataFrame(fit_params, columns=cols)"
   ]
  },
  {
   "cell_type": "code",
   "execution_count": null,
   "metadata": {
    "collapsed": false
   },
   "outputs": [],
   "source": [
    "# calculate fractional errors w.r.t nominal\n",
    "fit_params = fit_params.assign(dm0=lambda x: 100.*(x.m0-m0_nom)/m0_nom,\n",
    "                               dsigma1=lambda x: 100.*(x.sigma0-sigma0_nom)/sigma0_nom,\n",
    "                               dnorm=lambda x: 100.*(x.integral-integral_nom)/integral_nom)"
   ]
  },
  {
   "cell_type": "code",
   "execution_count": null,
   "metadata": {
    "collapsed": false
   },
   "outputs": [],
   "source": [
    "# flag variations w/ more than 0.1% effect\n",
    "fit_params = fit_params.assign(m0_flag=lambda x: np.abs(x.dm0)>0.1,\n",
    "                               sigma1_flag=lambda x: np.abs(x.dsigma1)>0.1,\n",
    "                               norm_flag=lambda x: np.abs(x.dnorm)>0.1)"
   ]
  },
  {
   "cell_type": "markdown",
   "metadata": {},
   "source": [
    "# dominant systematics on signal width (%)"
   ]
  },
  {
   "cell_type": "code",
   "execution_count": null,
   "metadata": {
    "collapsed": false
   },
   "outputs": [],
   "source": [
    "fit_params[fit_params.sigma1_flag][['variation','dsigma1']]"
   ]
  },
  {
   "cell_type": "markdown",
   "metadata": {},
   "source": [
    "# dominant systematics on signal mean (%)"
   ]
  },
  {
   "cell_type": "code",
   "execution_count": null,
   "metadata": {
    "collapsed": false
   },
   "outputs": [],
   "source": [
    "fit_params[fit_params.m0_flag][['variation','dm0']]"
   ]
  },
  {
   "cell_type": "markdown",
   "metadata": {},
   "source": [
    "# dominant systematics on normalization (%)"
   ]
  },
  {
   "cell_type": "code",
   "execution_count": null,
   "metadata": {
    "collapsed": false
   },
   "outputs": [],
   "source": [
    "fit_params[fit_params.norm_flag][['variation','dnorm']]"
   ]
  },
  {
   "cell_type": "markdown",
   "metadata": {},
   "source": [
    "   "
   ]
  },
  {
   "cell_type": "code",
   "execution_count": null,
   "metadata": {
    "collapsed": false
   },
   "outputs": [],
   "source": [
    "fit_params[['variation','dnorm']]"
   ]
  },
  {
   "cell_type": "code",
   "execution_count": null,
   "metadata": {
    "collapsed": true
   },
   "outputs": [],
   "source": []
  },
  {
   "cell_type": "code",
   "execution_count": null,
   "metadata": {
    "collapsed": true
   },
   "outputs": [],
   "source": []
  }
 ],
 "metadata": {
  "kernelspec": {
   "display_name": "Python 2",
   "language": "python",
   "name": "python2"
  },
  "language_info": {
   "codemirror_mode": {
    "name": "ipython",
    "version": 2
   },
   "file_extension": ".py",
   "mimetype": "text/x-python",
   "name": "python",
   "nbconvert_exporter": "python",
   "pygments_lexer": "ipython2",
   "version": "2.7.13"
  }
 },
 "nbformat": 4,
 "nbformat_minor": 2
}
